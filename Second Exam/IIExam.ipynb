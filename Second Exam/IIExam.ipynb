{
 "cells": [
  {
   "metadata": {},
   "cell_type": "markdown",
   "source": "# Exam of Programming (19/02/2025)",
   "id": "6f2da2b705ad3195"
  },
  {
   "metadata": {},
   "cell_type": "markdown",
   "source": [
    "## EX1\n",
    "Write a function that takes a list of booleans as input and prints a dictionary with two\n",
    "keys: “True” and “False”. The value associated with the keys is the number of True\n",
    "values found in the input list, and the number of False values, respectively.\n",
    "\n",
    "a.Assume that the input is correct, meaning that it is always a list of booleans."
   ],
   "id": "f312c24ea38ac021"
  },
  {
   "metadata": {
    "ExecuteTime": {
     "end_time": "2025-06-25T08:29:04.693686Z",
     "start_time": "2025-06-25T08:29:04.355315Z"
    }
   },
   "cell_type": "code",
   "source": [
    "from operator import truediv\n",
    "\n",
    "from jinja2 import pass_context\n",
    "from numpy.ma.core import negative\n",
    "from scipy.stats import false_discovery_control\n",
    "\n",
    "\n",
    "def count_value(list_n):\n",
    "    dict_TF ={'True': 0, 'False':0 }\n",
    "    for l in list_n:\n",
    "        if l:\n",
    "            dict_TF['True'] += 1\n",
    "        else:\n",
    "            dict_TF['False'] += 1\n",
    "    print(dict_TF)\n",
    "\n",
    "dati = [True, False, False, True, False]\n",
    "count_value(dati)"
   ],
   "id": "2e6c2745c1c66482",
   "outputs": [
    {
     "name": "stdout",
     "output_type": "stream",
     "text": [
      "{'True': 2, 'False': 3}\n"
     ]
    }
   ],
   "execution_count": 41
  },
  {
   "metadata": {},
   "cell_type": "markdown",
   "source": [
    "## EX2\n",
    "Write a function that takes a list of integers in input and returns a list containing all the positive integers of the input list that are divisible by 13. You must do this in one line of code.\n",
    "\n",
    "a. Assume that the input is always correct, i.e. a list of integers."
   ],
   "id": "ed9947e70cf5b5a6"
  },
  {
   "metadata": {
    "ExecuteTime": {
     "end_time": "2025-06-25T08:29:04.709799Z",
     "start_time": "2025-06-25T08:29:04.707101Z"
    }
   },
   "cell_type": "code",
   "source": [
    "def number_divisible_for_13(list_of_number):\n",
    "    return [l for l in list_of_number if l > 0 and l % 13 == 0]\n",
    "\n",
    "mia_lista = [-26, -5, 0, 13, 25, 26, 39, -1]\n",
    "lista_filtrata = number_divisible_for_13(mia_lista)\n",
    "print(lista_filtrata)"
   ],
   "id": "a28191a3709da30",
   "outputs": [
    {
     "name": "stdout",
     "output_type": "stream",
     "text": [
      "[13, 26, 39]\n"
     ]
    }
   ],
   "execution_count": 42
  },
  {
   "metadata": {},
   "cell_type": "markdown",
   "source": [
    "## EX3\n",
    "Write an object Product that has two attributes, “name” (a string) and “quantity” (an\n",
    "integer), and a method to increase or decrease the quantity by a set amount. After\n",
    "this, write an object Blender that inherits from Product and has an additional\n",
    "attribute “capacity” (an integer). Two objects of type Blender should result equal\n",
    "(when tested with “==”) if they have the same name, and the same is true for two\n",
    "objects of type Product. An object of type Product and one of type Blender should\n",
    "never be equal, even if they have the same name."
   ],
   "id": "4b145037bcf68531"
  },
  {
   "metadata": {
    "ExecuteTime": {
     "end_time": "2025-06-25T08:29:04.772273Z",
     "start_time": "2025-06-25T08:29:04.767479Z"
    }
   },
   "cell_type": "code",
   "source": [
    "# ==========================\n",
    "# DEFINIZIONE DELLE CLASSI\n",
    "# ==========================\n",
    "\n",
    "class Product:\n",
    "    \"\"\"\n",
    "    Rappresenta un prodotto generico con un nome e una quantità.\n",
    "    \"\"\"\n",
    "    def __init__(self, name: str, quantity: int):\n",
    "        self.name = name\n",
    "        self.quantity = quantity\n",
    "\n",
    "    def update_quantity(self, amount: int):\n",
    "        \"\"\"\n",
    "        Aumenta o diminuisce la quantità del prodotto.\n",
    "        \"\"\"\n",
    "        if self.quantity + amount >= 0:\n",
    "            self.quantity += amount\n",
    "        else:\n",
    "            print(f\"Operazione non possibile: la quantità non può diventare negativa.\")\n",
    "\n",
    "    def __eq__(self, other):\n",
    "        \"\"\"\n",
    "        Definisce l'uguaglianza (==). Due oggetti sono uguali se sono dello\n",
    "        stesso tipo e hanno lo stesso nome.\n",
    "        \"\"\"\n",
    "        if type(self) != type(other):\n",
    "            return False\n",
    "        return self.name == other.name\n",
    "\n",
    "    def __repr__(self):\n",
    "        # Metodo per una stampa più chiara\n",
    "        return f\"Product(name='{self.name}', quantity={self.quantity})\"\n",
    "\n",
    "# La classe Blender eredita da Product\n",
    "class Blender(Product):\n",
    "    \"\"\"\n",
    "    Rappresenta un frullatore. Eredita da Product e aggiunge l'attributo 'capacity'.\n",
    "    Non ha bisogno di un suo metodo __eq__ perché quello ereditato è già perfetto.\n",
    "    \"\"\"\n",
    "    def __init__(self, name: str, quantity: int, capacity: int):\n",
    "        # Chiama il costruttore della classe madre (Product)\n",
    "        super().__init__(name, quantity)\n",
    "        # Aggiunge il suo attributo specifico\n",
    "        self.capacity = capacity\n",
    "\n",
    "    def __repr__(self):\n",
    "        # Sovrascriviamo __repr__ per una stampa più completa\n",
    "        return f\"Blender(name='{self.name}', quantity={self.quantity}, capacity={self.capacity}ml)\"\n",
    "\n",
    "# ==========================\n",
    "# TEST E VERIFICA\n",
    "# ==========================\n",
    "\n",
    "print(\"--- Test di creazione e aggiornamento ---\")\n",
    "my_blender = Blender(\"FrulloMax 5000\", 10, 1500)\n",
    "print(my_blender)\n",
    "my_blender.update_quantity(-3)\n",
    "print(f\"Quantità dopo la vendita: {my_blender.quantity}\")\n",
    "\n",
    "print(\"\\n\" + \"=\"*40 + \"\\n\")\n",
    "\n",
    "print(\"--- Test di uguaglianza (==) ---\")\n",
    "\n",
    "# Test 1: Due Blender con lo stesso nome\n",
    "blender_A = Blender(\"FrulloMax 5000\", 10, 1500)\n",
    "blender_B = Blender(\"FrulloMax 5000\", 5, 1000) # Stesso nome, altri attributi diversi\n",
    "print(f\"blender_A == blender_B: {blender_A == blender_B}\") # Atteso: True\n",
    "\n",
    "# Test 2: Due Blender con nome diverso\n",
    "blender_C = Blender(\"TurboMix\", 1, 800)\n",
    "print(f\"blender_A == blender_C: {blender_A == blender_C}\") # Atteso: False\n",
    "\n",
    "# Test 3: Un Product e un Blender con lo stesso nome\n",
    "product_D = Product(\"FrulloMax 5000\", 20)\n",
    "print(f\"blender_A == product_D: {blender_A == product_D}\") # Atteso: False\n",
    "print(f\"product_D == blender_A: {product_D == blender_A}\") # Atteso: False"
   ],
   "id": "2032bd389807bca3",
   "outputs": [
    {
     "name": "stdout",
     "output_type": "stream",
     "text": [
      "--- Test di creazione e aggiornamento ---\n",
      "Blender(name='FrulloMax 5000', quantity=10, capacity=1500ml)\n",
      "Quantità dopo la vendita: 7\n",
      "\n",
      "========================================\n",
      "\n",
      "--- Test di uguaglianza (==) ---\n",
      "blender_A == blender_B: True\n",
      "blender_A == blender_C: False\n",
      "blender_A == product_D: False\n",
      "product_D == blender_A: False\n"
     ]
    }
   ],
   "execution_count": 43
  },
  {
   "metadata": {},
   "cell_type": "markdown",
   "source": [
    "## EX4\n",
    "Write a function that takes a sorted list of integers as input and returns a list containing all the unique integers in the input list (no repetitions), sorted in the opposite way from the input list.\n",
    "This means that if the input list was sorted in an ascending order, then the output list will be sorted in a descending order.\n",
    " - Assume that the input is always correct, i.e. it is always a sorted list of\n",
    "integers."
   ],
   "id": "5894d8f2d009c153"
  },
  {
   "metadata": {
    "ExecuteTime": {
     "end_time": "2025-06-25T08:29:04.840595Z",
     "start_time": "2025-06-25T08:29:04.835448Z"
    }
   },
   "cell_type": "code",
   "source": [
    "def inverti_ordinamento_unici(lista_ordinata: list) -> list:\n",
    "    \"\"\"\n",
    "    Prende una lista ordinata di interi, rimuove i duplicati\n",
    "    e la restituisce ordinata nella direzione opposta.\n",
    "    \"\"\"\n",
    "\n",
    "    # 1. Rimuovi i duplicati dalla lista di input.\n",
    "    #    Suggerimento: usa la conversione list -> set -> list.\n",
    "    elementi_unici = set(lista_ordinata)  # Il tuo codice qui\n",
    "\n",
    "    # Se la lista di input ha meno di 2 elementi, non c'è un \"ordinamento\"\n",
    "    # da invertire. Possiamo restituire direttamente la lista con elementi unici.\n",
    "    if len(lista_ordinata) < 2:\n",
    "        return list(elementi_unici)\n",
    "\n",
    "    # 2. Controlla la direzione dell'ordinamento originale.\n",
    "    #    Suggerimento: confronta il primo e l'ultimo elemento della lista_ordinata.\n",
    "    if lista_ordinata[0] < lista_ordinata[-1]: # -1 -> controlla ultimo elemento nell'array\n",
    "        # La lista originale è CRESCENTE.\n",
    "        # 3a. Ordina 'elementi_unici' in modo DECRESCENTE.\n",
    "        #     Suggerimento: usa sorted() con il parametro 'reverse'.\n",
    "        lista_risultato = sorted(elementi_unici, reverse=True) # Il tuo codice qui\n",
    "    else:\n",
    "        # La lista originale è DECRESCENTE (o tutti gli elementi sono uguali).\n",
    "        # 3b. Ordina 'elementi_unici' in modo CRESCENTE.\n",
    "        lista_risultato = sorted(elementi_unici, reverse=False) # Il tuo codice qui\n",
    "\n",
    "    # 4. Restituisci la lista finale.\n",
    "    return lista_risultato\n",
    "\n",
    "# --- Prova il tuo codice con questi esempi ---\n",
    "\n",
    "# Esempio 1: da crescente a decrescente\n",
    "lista_crescente = [1, 2, 2, 5, 9, 9, 9, 10]\n",
    "#Risultato atteso: [10, 9, 5, 2, 1]\n",
    "print(f\"Da {lista_crescente} -> {inverti_ordinamento_unici(lista_crescente)}\")\n",
    "\n",
    "# Esempio 2: da decrescente a crescente\n",
    "lista_decrescente = [10, 8, 8, 3, 1]\n",
    "#Risultato atteso: [1, 3, 8, 10]\n",
    "print(f\"Da {lista_decrescente} -> {inverti_ordinamento_unici(lista_decrescente)}\")\n",
    "\n",
    "# Esempio 3: lista con un solo elemento\n",
    "lista_corta = [100]\n",
    "#Risultato atteso: [100]\n",
    "print(f\"Da {lista_corta} -> {inverti_ordinamento_unici(lista_corta)}\")"
   ],
   "id": "314a4ab5278abfb0",
   "outputs": [
    {
     "name": "stdout",
     "output_type": "stream",
     "text": [
      "Da [1, 2, 2, 5, 9, 9, 9, 10] -> [10, 9, 5, 2, 1]\n",
      "Da [10, 8, 8, 3, 1] -> [1, 3, 8, 10]\n",
      "Da [100] -> [100]\n"
     ]
    }
   ],
   "execution_count": 44
  },
  {
   "metadata": {},
   "cell_type": "markdown",
   "source": [
    "## EX5\n",
    "Write a function that takes a list of dictionaries as input and returns a list containing all the values from the dictionary (or dictionaries) in the input list that contain the highest number of keys. If the input is not of the correct type (a list of dictionaries), then print the string “WRONG INPUT TYPE” and exit the function."
   ],
   "id": "7afce5ede98fc5ff"
  },
  {
   "metadata": {
    "ExecuteTime": {
     "end_time": "2025-06-25T08:29:04.902151Z",
     "start_time": "2025-06-25T08:29:04.899526Z"
    }
   },
   "cell_type": "code",
   "source": [
    "def high_values (dict_list:list) -> list:\n",
    "    if not isinstance(dict_list,list) or not all(isinstance(d,dict) for d in dict_list):\n",
    "        print('WRONG INPUT TYPE')\n",
    "        return\n",
    "\n",
    "    if not dict_list:\n",
    "        return []\n",
    "\n",
    "    max_keys = max(len(d)for d in dict_list)\n",
    "    result = []\n",
    "\n",
    "    for d in dict_list:\n",
    "        if len(d) == max_keys:\n",
    "            result.extend(d.values())\n",
    "    return result\n",
    "\n",
    "test_list = [\n",
    "    {\"a\": 1, \"b\": 2},\n",
    "    {\"x\": 10, \"y\": 20, \"z\": 30},\n",
    "    {\"m\": 100, \"n\": 200}\n",
    "]\n",
    "print(high_values(test_list))"
   ],
   "id": "5e9baa4dd21a7e84",
   "outputs": [
    {
     "name": "stdout",
     "output_type": "stream",
     "text": [
      "[10, 20, 30]\n"
     ]
    }
   ],
   "execution_count": 45
  },
  {
   "metadata": {},
   "cell_type": "markdown",
   "source": [
    "## EX6\n",
    "Write a function that takes three integers in input, a, b and c. The function will return a Numpy array of shape aXb filled by random integers between 0 and c.\n",
    "\n",
    "a. Ex: if a = 2, b = 3, and c= 12, a possible output can be: array([[ 9, 10, 10], [ 8, 7, 8]])\n",
    "\n",
    "b. Ps. since we are dealing with random integers, your result with the same\n",
    "parameters might vary."
   ],
   "id": "92acfdf8951c50fe"
  },
  {
   "metadata": {
    "ExecuteTime": {
     "end_time": "2025-06-25T08:29:04.955528Z",
     "start_time": "2025-06-25T08:29:04.953050Z"
    }
   },
   "cell_type": "code",
   "source": [
    "import numpy as np\n",
    "def creation_array(a:int,b:int,c:int) -> np.ndarray:\n",
    "    array = np.random.randint(0,c+1,size = (a,b))\n",
    "    return array\n",
    "\n",
    "print(creation_array(2,3,12))\n"
   ],
   "id": "4aeae902350cd354",
   "outputs": [
    {
     "name": "stdout",
     "output_type": "stream",
     "text": [
      "[[ 0 12  5]\n",
      " [ 9  9 10]]\n"
     ]
    }
   ],
   "execution_count": 46
  },
  {
   "metadata": {},
   "cell_type": "markdown",
   "source": [
    "## EX7\n",
    "Write a function that takes two lists of integers and returns a numpy array that is the result of the multiplication of the two input lists. The output needs to be a vector of exactly 5 integers, so if the array resulted from the multiplication has less than 5 integers, then you need to insert 0s for padding until it reaches 5 integers of length (you can choose in which direction you want to insert the padding). If the array resulted from of the multiplication contains more than 5 integers, then it needs to be truncated to only 5. Do not check the input for correctness, but if an exception arises print “EXCEPTION” and exit the function."
   ],
   "id": "1a800e5f8215064a"
  },
  {
   "metadata": {
    "ExecuteTime": {
     "end_time": "2025-06-25T08:29:05.027284Z",
     "start_time": "2025-06-25T08:29:05.023351Z"
    }
   },
   "cell_type": "code",
   "source": [
    "def fun(list1:list, list2:list) -> np.ndarray:\n",
    "    try:\n",
    "        # Converti le liste in array numpy\n",
    "        arr1 = np.array(list1)\n",
    "        arr2 = np.array(list2)\n",
    "\n",
    "        # Moltiplica elemento per elemento\n",
    "        result = arr1 * arr2\n",
    "\n",
    "        # Se il risultato è più corto di 5, aggiungi padding di zeri\n",
    "        if len(result) < 5:\n",
    "            result = np.pad(result, (0, 5 - len(result)), 'constant')\n",
    "\n",
    "        # Se il risultato è più lungo di 5, troncalo\n",
    "        if len(result) > 5:\n",
    "            result = result[:5]\n",
    "\n",
    "        return result\n",
    "    except Exception:\n",
    "        print(\"EXCEPTION\")\n",
    "        return\n",
    "\n",
    "\n",
    "l1 = [5,6,7,5,8]\n",
    "l2 = [1,2,3,4,5]\n",
    "\n",
    "print(fun(l1,l2)) # OK\n",
    "print(fun(2,3)) # EXCEPTION\n",
    "\n",
    "l1 = [5,6,7,5,8,8,7]\n",
    "l2 = [1,2,3,4,5,7,7]\n",
    "print(fun(l1,l2)) # OK TRONCATO\n",
    "\n",
    "l1 = [5,6,7]\n",
    "l2 = [1,2,3]\n",
    "print(fun(l1,l2)) # OK CON PADDING\n"
   ],
   "id": "f0e3dc060b142b99",
   "outputs": [
    {
     "name": "stdout",
     "output_type": "stream",
     "text": [
      "[ 5 12 21 20 40]\n",
      "EXCEPTION\n",
      "None\n",
      "[ 5 12 21 20 40]\n",
      "[ 5 12 21  0  0]\n"
     ]
    }
   ],
   "execution_count": 47
  },
  {
   "metadata": {},
   "cell_type": "markdown",
   "source": [
    "## EX8\n",
    "Write a function that takes a Numpy array of integers as input and returns an integer representing the number of negative odd integers in the input array. Do not use for loops, while loops, if statements and list comprehensions."
   ],
   "id": "a0f248091eabc0c0"
  },
  {
   "metadata": {
    "ExecuteTime": {
     "end_time": "2025-06-25T08:29:05.081045Z",
     "start_time": "2025-06-25T08:29:05.078828Z"
    }
   },
   "cell_type": "code",
   "source": [
    "def count_neg(arr:np.ndarray) -> int:\n",
    "    mask = arr < 0\n",
    "    odd_mask = arr%2 == 0\n",
    "\n",
    "    return np.sum(mask & odd_mask)\n"
   ],
   "id": "2e289e311459a9e2",
   "outputs": [],
   "execution_count": 48
  },
  {
   "metadata": {},
   "cell_type": "markdown",
   "source": [
    "## EX9\n",
    "Write a function that takes a list of Numpy arrays (containing only integers) as input and\n",
    "returns the array that has the highest mean, and the mean itself."
   ],
   "id": "6382675d00c4200b"
  },
  {
   "metadata": {
    "ExecuteTime": {
     "end_time": "2025-06-25T08:29:05.142822Z",
     "start_time": "2025-06-25T08:29:05.137845Z"
    }
   },
   "cell_type": "code",
   "source": [
    "def highest_mean(l: list):\n",
    "    max = l[0].mean()\n",
    "    array = l[0]\n",
    "    for list_i in l:\n",
    "        if max < list_i.mean():\n",
    "            max = list_i.mean()\n",
    "            array = list_i\n",
    "    return array,max\n",
    "\n",
    "# Test 1: array con valori positivi\n",
    "arr1 = np.array([1, 2, 3])          # media 2\n",
    "arr2 = np.array([4, 5, 6])          # media 5 (massima)\n",
    "arr3 = np.array([2, 2, 2])          # media 2\n",
    "test1 = [arr1, arr2, arr3]\n",
    "risultato1 = highest_mean(test1)\n",
    "print(\"Test 1:\", risultato1)  # Atteso: ([4, 5, 6], 5.0)\n",
    "\n",
    "# Test 2: array con valori negativi\n",
    "arr4 = np.array([-1, -2, -3])       # media -2\n",
    "arr5 = np.array([-4, 0, 4])         # media 0 (massima)\n",
    "arr6 = np.array([-5, -5, -5])       # media -5\n",
    "test2 = [arr4, arr5, arr6]\n",
    "risultato2 = highest_mean(test2)\n",
    "print(\"Test 2:\", risultato2)  # Atteso: ([-4, 0, 4], 0.0)\n",
    "\n",
    "# Test 3: array di lunghezze diverse\n",
    "arr7 = np.array([1, 1])             # media 1\n",
    "arr8 = np.array([2, 2, 2, 2])       # media 2 (massima)\n",
    "arr9 = np.array([1, 1, 1])          # media 1\n",
    "test3 = [arr7, arr8, arr9]\n",
    "risultato3 = highest_mean(test3)\n",
    "print(\"Test 3:\", risultato3)  # Atteso: ([2, 2, 2, 2], 2.0)"
   ],
   "id": "b19276ba4e5cd087",
   "outputs": [
    {
     "name": "stdout",
     "output_type": "stream",
     "text": [
      "Test 1: (array([4, 5, 6]), np.float64(5.0))\n",
      "Test 2: (array([-4,  0,  4]), np.float64(0.0))\n",
      "Test 3: (array([2, 2, 2, 2]), np.float64(2.0))\n"
     ]
    }
   ],
   "execution_count": 49
  },
  {
   "metadata": {},
   "cell_type": "markdown",
   "source": [
    "## EX10\n",
    "Write a lambda function that takes an integer “n” in input and returns a Numpy array\n",
    "made of “n” zeros."
   ],
   "id": "8ad342619df31c3"
  },
  {
   "metadata": {
    "ExecuteTime": {
     "end_time": "2025-06-25T08:29:05.204144Z",
     "start_time": "2025-06-25T08:29:05.202334Z"
    }
   },
   "cell_type": "code",
   "source": [
    "arr = lambda n: np.zeros(n)\n",
    "\n",
    "print(arr(5))"
   ],
   "id": "2c510c90759fd013",
   "outputs": [
    {
     "name": "stdout",
     "output_type": "stream",
     "text": [
      "[0. 0. 0. 0. 0.]\n"
     ]
    }
   ],
   "execution_count": 50
  },
  {
   "metadata": {},
   "cell_type": "markdown",
   "source": [
    "## EX11\n",
    "Without changing the names of the columns and using Pandas, merge the three csv\n",
    "into a unified DataFrame. Use an outer join."
   ],
   "id": "7e3363ce1be191d8"
  },
  {
   "metadata": {
    "ExecuteTime": {
     "end_time": "2025-06-25T08:29:05.282318Z",
     "start_time": "2025-06-25T08:29:05.273781Z"
    }
   },
   "cell_type": "code",
   "source": [
    "import pandas as pd\n",
    "\n",
    "df_parking = pd.read_csv('parking.csv')\n",
    "df_salaries = pd.read_csv('salaries.csv')\n",
    "df_team = pd.read_csv('team.csv')\n",
    "\n",
    "import pandas as pd\n",
    "\n",
    "df_parking = pd.read_csv('parking.csv')\n",
    "df_salaries = pd.read_csv('salaries.csv')\n",
    "df_team = pd.read_csv('team.csv')\n",
    "\n",
    "# Prima unisci parking e team sulla colonna 'ID'\n",
    "df_pt = pd.merge(df_team, df_parking, left_on='ID',right_on='E ID', how='outer')\n",
    "\n",
    "# Poi unisci il risultato con salaries sulla colonna 'position'/'Position'\n",
    "df_finale = pd.merge(df_pt, df_salaries, left_on='position', right_on='Position', how='outer')"
   ],
   "id": "ab19f1984d15e23f",
   "outputs": [],
   "execution_count": 51
  },
  {
   "metadata": {},
   "cell_type": "markdown",
   "source": [
    "## EX13\n",
    "Remove the redundant columns (choose wisely which ones to remove) and fill the NaN in the numeric columns with the mean value of the specific column."
   ],
   "id": "b0a8b26eb9b07dc8"
  },
  {
   "metadata": {
    "ExecuteTime": {
     "end_time": "2025-06-25T08:29:05.339947Z",
     "start_time": "2025-06-25T08:29:05.336364Z"
    }
   },
   "cell_type": "code",
   "source": [
    "df_finale = df_finale.drop(['E ID','Position'],axis = 1)\n",
    "\n",
    "df_finale['Starting salary'] = df_finale['Starting salary'].fillna(df_finale['Starting salary'].mean())"
   ],
   "id": "5b8cb3dae46cd4da",
   "outputs": [],
   "execution_count": 52
  },
  {
   "metadata": {},
   "cell_type": "markdown",
   "source": [
    "## EX14\n",
    "Using pyplot, create two subplots in the same canvas. In the first you need to show a\n",
    "bar chart that shows the mean of the salaries for people with a parking spot, and\n",
    "people without (this should only have two bars). In the second subplot you need to\n",
    "show a bar chart of the mean of the salaries per position (this will have many more\n",
    "bars)."
   ],
   "id": "f899b64296a2682f"
  },
  {
   "metadata": {
    "ExecuteTime": {
     "end_time": "2025-06-25T08:40:20.646649Z",
     "start_time": "2025-06-25T08:40:20.538278Z"
    }
   },
   "cell_type": "code",
   "source": [
    "from matplotlib import pyplot as plt\n",
    "\n",
    "fig,ax = plt.subplots(1,2)\n",
    "mean_by_parking = df_finale.groupby('parking spot')['Starting salary'].mean()\n",
    "ax[0].bar(mean_by_parking.index, mean_by_parking.values)\n",
    "ax[0].set_title('Media salari per posto auto')\n",
    "ax[0].set_ylabel('Salario medio')\n",
    "mean_by_position = df_finale.groupby('position')['Starting salary'].mean()\n",
    "ax[1].bar(mean_by_position.index,mean_by_position.values)\n",
    "ax[1].bar(mean_by_position.index, mean_by_position.values)\n",
    "ax[1].set_title('Media salari per posizione')\n",
    "plt.tight_layout()\n",
    "plt.show()"
   ],
   "id": "3682132cd8d048dc",
   "outputs": [
    {
     "data": {
      "text/plain": [
       "<Figure size 640x480 with 2 Axes>"
      ],
      "image/png": "[encoded data removed]"
     },
     "metadata": {},
     "output_type": "display_data"
    }
   ],
   "execution_count": 69
  },
  {
   "metadata": {},
   "cell_type": "markdown",
   "source": [
    "## EX15\n",
    "Using pandas, answer the question: On average, do the people that have a parking spot make more money than the people that do not have a parking spot?"
   ],
   "id": "af31ad1f4f27dd4c"
  },
  {
   "metadata": {
    "ExecuteTime": {
     "end_time": "2025-06-25T08:46:08.636026Z",
     "start_time": "2025-06-25T08:46:08.632015Z"
    }
   },
   "cell_type": "code",
   "source": [
    "# Calcola la media dei salari raggruppando per posto auto\n",
    "media_salari = df_finale.groupby('parking spot')['Starting salary'].mean()\n",
    "\n",
    "print(\"Media salari:\")\n",
    "print(f\"Con posto auto (yes): {media_salari['yes']:,.2f}€\")\n",
    "print(f\"Senza posto auto (no): {media_salari['no']:,.2f}€\")\n",
    "print(f\"\\nDifferenza: {media_salari['yes'] - media_salari['no']:,.2f}€\")"
   ],
   "id": "8b822bb459854d2",
   "outputs": [
    {
     "name": "stdout",
     "output_type": "stream",
     "text": [
      "Media salari:\n",
      "Con posto auto (yes): 3,604,387.76€\n",
      "Senza posto auto (no): 3,997,571.43€\n",
      "\n",
      "Differenza: -393,183.67€\n"
     ]
    }
   ],
   "execution_count": 71
  }
 ],
 "metadata": {
  "kernelspec": {
   "display_name": "Python 3",
   "language": "python",
   "name": "python3"
  },
  "language_info": {
   "codemirror_mode": {
    "name": "ipython",
    "version": 2
   },
   "file_extension": ".py",
   "mimetype": "text/x-python",
   "name": "python",
   "nbconvert_exporter": "python",
   "pygments_lexer": "ipython2",
   "version": "2.7.6"
  }
 },
 "nbformat": 4,
 "nbformat_minor": 5
}
