{
 "cells": [
  {
   "metadata": {},
   "cell_type": "markdown",
   "source": "# Exam of Programming (19/02/2025)",
   "id": "6f2da2b705ad3195"
  },
  {
   "metadata": {},
   "cell_type": "markdown",
   "source": [
    "## EX1\n",
    "Write a function that takes a list of booleans as input and prints a dictionary with two\n",
    "keys: “True” and “False”. The value associated with the keys is the number of True\n",
    "values found in the input list, and the number of False values, respectively.\n",
    "\n",
    "a.Assume that the input is correct, meaning that it is always a list of booleans."
   ],
   "id": "f312c24ea38ac021"
  },
  {
   "metadata": {
    "ExecuteTime": {
     "end_time": "2025-06-19T13:24:30.645244Z",
     "start_time": "2025-06-19T13:24:30.638720Z"
    }
   },
   "cell_type": "code",
   "source": [
    "def count_value(list_n):\n",
    "    dict_TF ={'True': 0, 'False':0 }\n",
    "    for l in list_n:\n",
    "        if l:\n",
    "            dict_TF['True'] += 1\n",
    "        else:\n",
    "            dict_TF['False'] += 1\n",
    "    print(dict_TF)\n",
    "\n",
    "dati = [True, False, False, True, False]\n",
    "count_value(dati)"
   ],
   "id": "2e6c2745c1c66482",
   "outputs": [
    {
     "name": "stdout",
     "output_type": "stream",
     "text": [
      "{'True': 2, 'False': 3}\n"
     ]
    }
   ],
   "execution_count": 3
  },
  {
   "metadata": {},
   "cell_type": "markdown",
   "source": [
    "## EX2\n",
    "Write a function that takes a list of integers in input and returns a list containing all the positive integers of the input list that are divisible by 13. You must do this in one line of code.\n",
    "\n",
    "a. Assume that the input is always correct, i.e. a list of integers."
   ],
   "id": "ed9947e70cf5b5a6"
  },
  {
   "metadata": {
    "ExecuteTime": {
     "end_time": "2025-06-19T13:29:26.207288Z",
     "start_time": "2025-06-19T13:29:26.201138Z"
    }
   },
   "cell_type": "code",
   "source": [
    "def number_divisible_for_13(list_of_number):\n",
    "    return [l for l in list_of_number if l > 0 and l % 13 == 0]\n",
    "\n",
    "mia_lista = [-26, -5, 0, 13, 25, 26, 39, -1]\n",
    "lista_filtrata = number_divisible_for_13(mia_lista)\n",
    "print(lista_filtrata)"
   ],
   "id": "a28191a3709da30",
   "outputs": [
    {
     "name": "stdout",
     "output_type": "stream",
     "text": [
      "[13, 26, 39]\n"
     ]
    }
   ],
   "execution_count": 5
  },
  {
   "metadata": {},
   "cell_type": "markdown",
   "source": [
    "## EX3\n",
    "Write an object Product that has two attributes, “name” (a string) and “quantity” (an\n",
    "integer), and a method to increase or decrease the quantity by a set amount. After\n",
    "this, write an object Blender that inherits from Product and has an additional\n",
    "attribute “capacity” (an integer). Two objects of type Blender should result equal\n",
    "(when tested with “==”) if they have the same name, and the same is true for two\n",
    "objects of type Product. An object of type Product and one of type Blender should\n",
    "never be equal, even if they have the same name."
   ],
   "id": "4b145037bcf68531"
  },
  {
   "metadata": {},
   "cell_type": "code",
   "outputs": [],
   "execution_count": null,
   "source": "",
   "id": "2032bd389807bca3"
  }
 ],
 "metadata": {
  "kernelspec": {
   "display_name": "Python 3",
   "language": "python",
   "name": "python3"
  },
  "language_info": {
   "codemirror_mode": {
    "name": "ipython",
    "version": 2
   },
   "file_extension": ".py",
   "mimetype": "text/x-python",
   "name": "python",
   "nbconvert_exporter": "python",
   "pygments_lexer": "ipython2",
   "version": "2.7.6"
  }
 },
 "nbformat": 4,
 "nbformat_minor": 5
}
