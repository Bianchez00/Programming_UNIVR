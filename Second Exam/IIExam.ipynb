{
 "cells": [
  {
   "metadata": {},
   "cell_type": "markdown",
   "source": "# Exam of Programming (19/02/2025)",
   "id": "6f2da2b705ad3195"
  },
  {
   "metadata": {},
   "cell_type": "markdown",
   "source": [
    "## EX1\n",
    "Write a function that takes a list of booleans as input and prints a dictionary with two\n",
    "keys: “True” and “False”. The value associated with the keys is the number of True\n",
    "values found in the input list, and the number of False values, respectively.\n",
    "\n",
    "a.Assume that the input is correct, meaning that it is always a list of booleans."
   ],
   "id": "f312c24ea38ac021"
  },
  {
   "metadata": {
    "ExecuteTime": {
     "end_time": "2025-06-19T13:24:30.645244Z",
     "start_time": "2025-06-19T13:24:30.638720Z"
    }
   },
   "cell_type": "code",
   "source": [
    "from operator import truediv\n",
    "\n",
    "from jinja2 import pass_context\n",
    "from scipy.stats import false_discovery_control\n",
    "\n",
    "\n",
    "def count_value(list_n):\n",
    "    dict_TF ={'True': 0, 'False':0 }\n",
    "    for l in list_n:\n",
    "        if l:\n",
    "            dict_TF['True'] += 1\n",
    "        else:\n",
    "            dict_TF['False'] += 1\n",
    "    print(dict_TF)\n",
    "\n",
    "dati = [True, False, False, True, False]\n",
    "count_value(dati)"
   ],
   "id": "2e6c2745c1c66482",
   "outputs": [
    {
     "name": "stdout",
     "output_type": "stream",
     "text": [
      "{'True': 2, 'False': 3}\n"
     ]
    }
   ],
   "execution_count": 3
  },
  {
   "metadata": {},
   "cell_type": "markdown",
   "source": [
    "## EX2\n",
    "Write a function that takes a list of integers in input and returns a list containing all the positive integers of the input list that are divisible by 13. You must do this in one line of code.\n",
    "\n",
    "a. Assume that the input is always correct, i.e. a list of integers."
   ],
   "id": "ed9947e70cf5b5a6"
  },
  {
   "metadata": {
    "ExecuteTime": {
     "end_time": "2025-06-19T13:29:26.207288Z",
     "start_time": "2025-06-19T13:29:26.201138Z"
    }
   },
   "cell_type": "code",
   "source": [
    "def number_divisible_for_13(list_of_number):\n",
    "    return [l for l in list_of_number if l > 0 and l % 13 == 0]\n",
    "\n",
    "mia_lista = [-26, -5, 0, 13, 25, 26, 39, -1]\n",
    "lista_filtrata = number_divisible_for_13(mia_lista)\n",
    "print(lista_filtrata)"
   ],
   "id": "a28191a3709da30",
   "outputs": [
    {
     "name": "stdout",
     "output_type": "stream",
     "text": [
      "[13, 26, 39]\n"
     ]
    }
   ],
   "execution_count": 5
  },
  {
   "metadata": {},
   "cell_type": "markdown",
   "source": [
    "## EX3\n",
    "Write an object Product that has two attributes, “name” (a string) and “quantity” (an\n",
    "integer), and a method to increase or decrease the quantity by a set amount. After\n",
    "this, write an object Blender that inherits from Product and has an additional\n",
    "attribute “capacity” (an integer). Two objects of type Blender should result equal\n",
    "(when tested with “==”) if they have the same name, and the same is true for two\n",
    "objects of type Product. An object of type Product and one of type Blender should\n",
    "never be equal, even if they have the same name."
   ],
   "id": "4b145037bcf68531"
  },
  {
   "metadata": {
    "ExecuteTime": {
     "end_time": "2025-06-24T13:31:57.998569Z",
     "start_time": "2025-06-24T13:31:57.994252Z"
    }
   },
   "cell_type": "code",
   "source": [
    "# ==========================\n",
    "# DEFINIZIONE DELLE CLASSI\n",
    "# ==========================\n",
    "\n",
    "class Product:\n",
    "    \"\"\"\n",
    "    Rappresenta un prodotto generico con un nome e una quantità.\n",
    "    \"\"\"\n",
    "    def __init__(self, name: str, quantity: int):\n",
    "        self.name = name\n",
    "        self.quantity = quantity\n",
    "\n",
    "    def update_quantity(self, amount: int):\n",
    "        \"\"\"\n",
    "        Aumenta o diminuisce la quantità del prodotto.\n",
    "        \"\"\"\n",
    "        if self.quantity + amount >= 0:\n",
    "            self.quantity += amount\n",
    "        else:\n",
    "            print(f\"Operazione non possibile: la quantità non può diventare negativa.\")\n",
    "\n",
    "    def __eq__(self, other):\n",
    "        \"\"\"\n",
    "        Definisce l'uguaglianza (==). Due oggetti sono uguali se sono dello\n",
    "        stesso tipo e hanno lo stesso nome.\n",
    "        \"\"\"\n",
    "        if type(self) != type(other):\n",
    "            return False\n",
    "        return self.name == other.name\n",
    "\n",
    "    def __repr__(self):\n",
    "        # Metodo per una stampa più chiara\n",
    "        return f\"Product(name='{self.name}', quantity={self.quantity})\"\n",
    "\n",
    "# La classe Blender eredita da Product\n",
    "class Blender(Product):\n",
    "    \"\"\"\n",
    "    Rappresenta un frullatore. Eredita da Product e aggiunge l'attributo 'capacity'.\n",
    "    Non ha bisogno di un suo metodo __eq__ perché quello ereditato è già perfetto.\n",
    "    \"\"\"\n",
    "    def __init__(self, name: str, quantity: int, capacity: int):\n",
    "        # Chiama il costruttore della classe madre (Product)\n",
    "        super().__init__(name, quantity)\n",
    "        # Aggiunge il suo attributo specifico\n",
    "        self.capacity = capacity\n",
    "\n",
    "    def __repr__(self):\n",
    "        # Sovrascriviamo __repr__ per una stampa più completa\n",
    "        return f\"Blender(name='{self.name}', quantity={self.quantity}, capacity={self.capacity}ml)\"\n",
    "\n",
    "# ==========================\n",
    "# TEST E VERIFICA\n",
    "# ==========================\n",
    "\n",
    "print(\"--- Test di creazione e aggiornamento ---\")\n",
    "my_blender = Blender(\"FrulloMax 5000\", 10, 1500)\n",
    "print(my_blender)\n",
    "my_blender.update_quantity(-3)\n",
    "print(f\"Quantità dopo la vendita: {my_blender.quantity}\")\n",
    "\n",
    "print(\"\\n\" + \"=\"*40 + \"\\n\")\n",
    "\n",
    "print(\"--- Test di uguaglianza (==) ---\")\n",
    "\n",
    "# Test 1: Due Blender con lo stesso nome\n",
    "blender_A = Blender(\"FrulloMax 5000\", 10, 1500)\n",
    "blender_B = Blender(\"FrulloMax 5000\", 5, 1000) # Stesso nome, altri attributi diversi\n",
    "print(f\"blender_A == blender_B: {blender_A == blender_B}\") # Atteso: True\n",
    "\n",
    "# Test 2: Due Blender con nome diverso\n",
    "blender_C = Blender(\"TurboMix\", 1, 800)\n",
    "print(f\"blender_A == blender_C: {blender_A == blender_C}\") # Atteso: False\n",
    "\n",
    "# Test 3: Un Product e un Blender con lo stesso nome\n",
    "product_D = Product(\"FrulloMax 5000\", 20)\n",
    "print(f\"blender_A == product_D: {blender_A == product_D}\") # Atteso: False\n",
    "print(f\"product_D == blender_A: {product_D == blender_A}\") # Atteso: False"
   ],
   "id": "2032bd389807bca3",
   "outputs": [
    {
     "name": "stdout",
     "output_type": "stream",
     "text": [
      "--- Test di creazione e aggiornamento ---\n",
      "Blender(name='FrulloMax 5000', quantity=10, capacity=1500ml)\n",
      "Quantità dopo la vendita: 7\n",
      "\n",
      "========================================\n",
      "\n",
      "--- Test di uguaglianza (==) ---\n",
      "blender_A == blender_B: True\n",
      "blender_A == blender_C: False\n",
      "blender_A == product_D: False\n",
      "product_D == blender_A: False\n"
     ]
    }
   ],
   "execution_count": 8
  },
  {
   "metadata": {},
   "cell_type": "markdown",
   "source": [
    "## EX4\n",
    "Write a function that takes a sorted list of integers as input and returns a list containing all the unique integers in the input list (no repetitions), sorted in the opposite way from the input list.\n",
    "This means that if the input list was sorted in an ascending order, then the output list will be sorted in a descending order.\n",
    " - Assume that the input is always correct, i.e. it is always a sorted list of\n",
    "integers."
   ],
   "id": "5894d8f2d009c153"
  },
  {
   "metadata": {
    "ExecuteTime": {
     "end_time": "2025-06-24T13:45:06.211226Z",
     "start_time": "2025-06-24T13:45:06.207474Z"
    }
   },
   "cell_type": "code",
   "source": [
    "def inverti_ordinamento_unici(lista_ordinata: list) -> list:\n",
    "    \"\"\"\n",
    "    Prende una lista ordinata di interi, rimuove i duplicati\n",
    "    e la restituisce ordinata nella direzione opposta.\n",
    "    \"\"\"\n",
    "\n",
    "    # 1. Rimuovi i duplicati dalla lista di input.\n",
    "    #    Suggerimento: usa la conversione list -> set -> list.\n",
    "    elementi_unici = set(lista_ordinata)  # Il tuo codice qui\n",
    "\n",
    "    # Se la lista di input ha meno di 2 elementi, non c'è un \"ordinamento\"\n",
    "    # da invertire. Possiamo restituire direttamente la lista con elementi unici.\n",
    "    if len(lista_ordinata) < 2:\n",
    "        return list(elementi_unici)\n",
    "\n",
    "    # 2. Controlla la direzione dell'ordinamento originale.\n",
    "    #    Suggerimento: confronta il primo e l'ultimo elemento della lista_ordinata.\n",
    "    if lista_ordinata[0] < lista_ordinata[-1]: # -1 -> controlla ultimo elemento nell'array\n",
    "        # La lista originale è CRESCENTE.\n",
    "        # 3a. Ordina 'elementi_unici' in modo DECRESCENTE.\n",
    "        #     Suggerimento: usa sorted() con il parametro 'reverse'.\n",
    "        lista_risultato = sorted(elementi_unici, reverse=True) # Il tuo codice qui\n",
    "    else:\n",
    "        # La lista originale è DECRESCENTE (o tutti gli elementi sono uguali).\n",
    "        # 3b. Ordina 'elementi_unici' in modo CRESCENTE.\n",
    "        lista_risultato = sorted(elementi_unici, reverse=False) # Il tuo codice qui\n",
    "\n",
    "    # 4. Restituisci la lista finale.\n",
    "    return lista_risultato\n",
    "\n",
    "# --- Prova il tuo codice con questi esempi ---\n",
    "\n",
    "# Esempio 1: da crescente a decrescente\n",
    "lista_crescente = [1, 2, 2, 5, 9, 9, 9, 10]\n",
    "#Risultato atteso: [10, 9, 5, 2, 1]\n",
    "print(f\"Da {lista_crescente} -> {inverti_ordinamento_unici(lista_crescente)}\")\n",
    "\n",
    "# Esempio 2: da decrescente a crescente\n",
    "lista_decrescente = [10, 8, 8, 3, 1]\n",
    "#Risultato atteso: [1, 3, 8, 10]\n",
    "print(f\"Da {lista_decrescente} -> {inverti_ordinamento_unici(lista_decrescente)}\")\n",
    "\n",
    "# Esempio 3: lista con un solo elemento\n",
    "lista_corta = [100]\n",
    "#Risultato atteso: [100]\n",
    "print(f\"Da {lista_corta} -> {inverti_ordinamento_unici(lista_corta)}\")"
   ],
   "id": "314a4ab5278abfb0",
   "outputs": [
    {
     "name": "stdout",
     "output_type": "stream",
     "text": [
      "Da [1, 2, 2, 5, 9, 9, 9, 10] -> [10, 9, 5, 2, 1]\n",
      "Da [10, 8, 8, 3, 1] -> [1, 3, 8, 10]\n",
      "Da [100] -> {100}\n"
     ]
    }
   ],
   "execution_count": 10
  },
  {
   "metadata": {},
   "cell_type": "markdown",
   "source": "## EX5",
   "id": "7afce5ede98fc5ff"
  },
  {
   "metadata": {
    "ExecuteTime": {
     "end_time": "2025-06-24T13:59:05.351368Z",
     "start_time": "2025-06-24T13:59:05.347841Z"
    }
   },
   "cell_type": "code",
   "source": [
    "import numpy as np\n",
    "def array_not_multiply(array:np.ndarray, num:int) -> np.ndarray:\n",
    "    maschera = array%num == 0\n",
    "    array[maschera] = -1\n",
    "    return array\n",
    "\n",
    "arr = np.array((2,3,5,6,5,5,5,4,2,1))\n",
    "print(arr)\n",
    "array_not_multiply(arr,5)\n",
    "print(\"Arrai dopo la funzione: \", arr)"
   ],
   "id": "5e9baa4dd21a7e84",
   "outputs": [
    {
     "name": "stdout",
     "output_type": "stream",
     "text": [
      "[2 3 5 6 5 5 5 4 2 1]\n",
      "Arrai dopo la funzione:  [ 2  3 -1  6 -1 -1 -1  4  2  1]\n"
     ]
    }
   ],
   "execution_count": 20
  },
  {
   "metadata": {},
   "cell_type": "code",
   "outputs": [],
   "execution_count": null,
   "source": "",
   "id": "2c05e7054168a538"
  }
 ],
 "metadata": {
  "kernelspec": {
   "display_name": "Python 3",
   "language": "python",
   "name": "python3"
  },
  "language_info": {
   "codemirror_mode": {
    "name": "ipython",
    "version": 2
   },
   "file_extension": ".py",
   "mimetype": "text/x-python",
   "name": "python",
   "nbconvert_exporter": "python",
   "pygments_lexer": "ipython2",
   "version": "2.7.6"
  }
 },
 "nbformat": 4,
 "nbformat_minor": 5
}
