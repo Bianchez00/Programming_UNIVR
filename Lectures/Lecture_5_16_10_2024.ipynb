{
  "nbformat": 4,
  "nbformat_minor": 0,
  "metadata": {
    "colab": {
      "provenance": []
    },
    "kernelspec": {
      "name": "python3",
      "display_name": "Python 3"
    },
    "language_info": {
      "name": "python"
    }
  },
  "cells": [
    {
      "cell_type": "markdown",
      "source": [
        "#Python Language Basics"
      ],
      "metadata": {
        "id": "1MvOjIlsmYYM"
      }
    },
    {
      "cell_type": "markdown",
      "source": [
        "##16/10/2024"
      ],
      "metadata": {
        "id": "Np-syqm5o8XZ"
      }
    },
    {
      "cell_type": "markdown",
      "source": [
        "**Exercise**: generate a list of even numbers between 0 and 100 (included) using a for loop and an if statement."
      ],
      "metadata": {
        "id": "XyoEIzKcBTHl"
      }
    },
    {
      "cell_type": "code",
      "source": [
        "#don't\n",
        "list_of_even_numbers = range(0,100, 2)\n",
        "for i in range(10):\n",
        "    if 1 > 3:\n",
        "        print('hello')"
      ],
      "metadata": {
        "id": "RRWFoDruHfj6"
      },
      "execution_count": null,
      "outputs": []
    },
    {
      "cell_type": "code",
      "source": [
        "list_of_numbers = []\n",
        "for number in range(101):\n",
        "    if number % 2 == 0:\n",
        "        #list_of_numbers.append(number)\n",
        "        list_of_numbers = list_of_numbers + [number]"
      ],
      "metadata": {
        "id": "uAMItHYbHtyV"
      },
      "execution_count": null,
      "outputs": []
    },
    {
      "cell_type": "markdown",
      "source": [
        "- List Comprehension\n",
        "    - Time comparison (even list)"
      ],
      "metadata": {
        "id": "uxS4xVxrJYWY"
      }
    },
    {
      "cell_type": "code",
      "source": [
        "list_of_numbers = [number for number in range(101) if number % 2 == 0]"
      ],
      "metadata": {
        "id": "Eox3FK8_KlBb"
      },
      "execution_count": null,
      "outputs": []
    },
    {
      "cell_type": "code",
      "source": [
        "%%timeit\n",
        "elements = []\n",
        "for i in range(10000000):\n",
        "    if i % 2 == 0:\n",
        "        elements.append(i)"
      ],
      "metadata": {
        "colab": {
          "base_uri": "https://localhost:8080/"
        },
        "id": "nfEt4E8lLBCu",
        "outputId": "f9e25ba1-17da-4f9d-ec19-1c6dc639b9f7"
      },
      "execution_count": null,
      "outputs": [
        {
          "output_type": "stream",
          "name": "stdout",
          "text": [
            "1.14 s ± 214 ms per loop (mean ± std. dev. of 7 runs, 1 loop each)\n"
          ]
        }
      ]
    },
    {
      "cell_type": "code",
      "source": [
        "%%timeit\n",
        "elements = [i for i in range(10000000) if i % 2 == 0]"
      ],
      "metadata": {
        "colab": {
          "base_uri": "https://localhost:8080/"
        },
        "id": "ZqD_3ktwMQVv",
        "outputId": "029295e7-52c7-4cde-b1a2-ef923ab5d8cd"
      },
      "execution_count": null,
      "outputs": [
        {
          "output_type": "stream",
          "name": "stdout",
          "text": [
            "951 ms ± 82.9 ms per loop (mean ± std. dev. of 7 runs, 1 loop each)\n"
          ]
        }
      ]
    },
    {
      "cell_type": "code",
      "source": [
        "[name for name in ['Mark', 'Nick', 'Lebron']]"
      ],
      "metadata": {
        "colab": {
          "base_uri": "https://localhost:8080/"
        },
        "id": "f6-AVuumMvUA",
        "outputId": "11fe6a69-4782-44b4-a105-33408ba75fd9"
      },
      "execution_count": null,
      "outputs": [
        {
          "output_type": "execute_result",
          "data": {
            "text/plain": [
              "['Mark', 'Nick', 'Lebron']"
            ]
          },
          "metadata": {},
          "execution_count": 23
        }
      ]
    },
    {
      "cell_type": "code",
      "source": [
        "list_of_numbers_that_are_actually_strings = ['1','2','3']"
      ],
      "metadata": {
        "id": "58ETLWnNKyXY"
      },
      "execution_count": null,
      "outputs": []
    },
    {
      "cell_type": "code",
      "source": [
        "[int(x) + 3 for x in list_of_numbers_that_are_actually_strings]"
      ],
      "metadata": {
        "colab": {
          "base_uri": "https://localhost:8080/"
        },
        "id": "xsG6CzMkNCGJ",
        "outputId": "bcec0b59-ec98-43df-a7e8-2992f85840e9"
      },
      "execution_count": null,
      "outputs": [
        {
          "output_type": "execute_result",
          "data": {
            "text/plain": [
              "[4, 5, 6]"
            ]
          },
          "metadata": {},
          "execution_count": 26
        }
      ]
    },
    {
      "cell_type": "code",
      "source": [
        "list_of_dictionaries = [\n",
        "    {'name':'Nick', 'surname':'Marastoni', 'age':41},\n",
        "    {'name':'Mark', 'surname':'Powers', 'age':52},\n",
        "    {'name':'Lebron', 'surname':'James', 'age':39}\n",
        "]"
      ],
      "metadata": {
        "id": "4rZP8QhOOXUd"
      },
      "execution_count": null,
      "outputs": []
    },
    {
      "cell_type": "code",
      "source": [
        "list_of_dictionaries"
      ],
      "metadata": {
        "colab": {
          "base_uri": "https://localhost:8080/"
        },
        "id": "CS6lvdvTPCDL",
        "outputId": "fb70848d-a252-4816-a431-2c0bfe06bd51"
      },
      "execution_count": null,
      "outputs": [
        {
          "output_type": "execute_result",
          "data": {
            "text/plain": [
              "[{'name': 'Nick', 'surname': 'Marastoni', 'age': 41},\n",
              " {'name': 'Mark', 'surname': 'Powers', 'age': 52},\n",
              " {'name': 'Lebron', 'surname': 'James', 'age': 39}]"
            ]
          },
          "metadata": {},
          "execution_count": 32
        }
      ]
    },
    {
      "cell_type": "code",
      "source": [
        "list_of_dictionaries[0].values()"
      ],
      "metadata": {
        "colab": {
          "base_uri": "https://localhost:8080/"
        },
        "id": "gcwJ_E3uPzCQ",
        "outputId": "5723e26e-e745-495c-b03b-2c04e3841c2f"
      },
      "execution_count": null,
      "outputs": [
        {
          "output_type": "execute_result",
          "data": {
            "text/plain": [
              "dict_values(['Nick', 'Marastoni', 41])"
            ]
          },
          "metadata": {},
          "execution_count": 34
        }
      ]
    },
    {
      "cell_type": "code",
      "source": [
        "list_of_names = []\n",
        "for d in list_of_dictionaries:\n",
        "    list_of_names.append(d['name'])"
      ],
      "metadata": {
        "id": "CoKK-1VVPQ_n"
      },
      "execution_count": null,
      "outputs": []
    },
    {
      "cell_type": "code",
      "source": [
        "list_of_names"
      ],
      "metadata": {
        "colab": {
          "base_uri": "https://localhost:8080/"
        },
        "id": "Ufkj3jnsQAL9",
        "outputId": "fda526be-0fd9-437c-d86b-bb89b3654759"
      },
      "execution_count": null,
      "outputs": [
        {
          "output_type": "execute_result",
          "data": {
            "text/plain": [
              "['Nick', 'Mark', 'Lebron']"
            ]
          },
          "metadata": {},
          "execution_count": 36
        }
      ]
    },
    {
      "cell_type": "code",
      "source": [
        "list_of_surnames = []\n",
        "for d in list_of_dictionaries:\n",
        "    list_of_surnames.append(d['surname'])"
      ],
      "metadata": {
        "id": "HjFI0zz-QCg_"
      },
      "execution_count": null,
      "outputs": []
    },
    {
      "cell_type": "code",
      "source": [
        "list_of_surnames"
      ],
      "metadata": {
        "colab": {
          "base_uri": "https://localhost:8080/"
        },
        "id": "QURqSLfUQJic",
        "outputId": "e16597bb-dbe1-4f22-d01d-2d1e871d4dbc"
      },
      "execution_count": null,
      "outputs": [
        {
          "output_type": "execute_result",
          "data": {
            "text/plain": [
              "['Marastoni', 'Powers', 'James']"
            ]
          },
          "metadata": {},
          "execution_count": 41
        }
      ]
    },
    {
      "cell_type": "code",
      "source": [
        "sum([1,2,3])"
      ],
      "metadata": {
        "colab": {
          "base_uri": "https://localhost:8080/"
        },
        "id": "k_q_ABJoQkE8",
        "outputId": "66487517-3bd5-40f8-b9bc-2ce0b54ef1d1"
      },
      "execution_count": null,
      "outputs": [
        {
          "output_type": "execute_result",
          "data": {
            "text/plain": [
              "6"
            ]
          },
          "metadata": {},
          "execution_count": 42
        }
      ]
    },
    {
      "cell_type": "code",
      "source": [
        "def do_nothing():\n",
        "    pass"
      ],
      "metadata": {
        "id": "OLHkA3ELQZRX"
      },
      "execution_count": null,
      "outputs": []
    },
    {
      "cell_type": "code",
      "source": [
        "do_nothing()"
      ],
      "metadata": {
        "id": "kfGe9NX9Q1co"
      },
      "execution_count": null,
      "outputs": []
    },
    {
      "cell_type": "code",
      "source": [
        "def values_from_dictionary():\n",
        "    pass"
      ],
      "metadata": {
        "id": "DpCOS4IxRKEi"
      },
      "execution_count": null,
      "outputs": []
    },
    {
      "cell_type": "code",
      "source": [
        "#a = 19\n",
        "#b = 23\n",
        "def sum_two_numbers(a, b):\n",
        "    print(a + b)"
      ],
      "metadata": {
        "id": "PMLWR5v-RWAc"
      },
      "execution_count": null,
      "outputs": []
    },
    {
      "cell_type": "code",
      "source": [
        "sum_two_numbers(19, 23)"
      ],
      "metadata": {
        "colab": {
          "base_uri": "https://localhost:8080/"
        },
        "id": "jtzz8V7IRgmW",
        "outputId": "4e50f8a9-b052-4370-f404-527342d1c43e"
      },
      "execution_count": null,
      "outputs": [
        {
          "output_type": "stream",
          "name": "stdout",
          "text": [
            "42\n"
          ]
        }
      ]
    },
    {
      "cell_type": "code",
      "source": [
        "res = sum_two_numbers(19, 23)"
      ],
      "metadata": {
        "colab": {
          "base_uri": "https://localhost:8080/"
        },
        "id": "D14hBGZ6SL7P",
        "outputId": "b8a38f7a-89fd-4ebd-f285-2d4513e532f2"
      },
      "execution_count": null,
      "outputs": [
        {
          "output_type": "stream",
          "name": "stdout",
          "text": [
            "42\n"
          ]
        }
      ]
    },
    {
      "cell_type": "code",
      "source": [
        "res"
      ],
      "metadata": {
        "id": "zO0ktbtDSRcq"
      },
      "execution_count": null,
      "outputs": []
    },
    {
      "cell_type": "code",
      "source": [
        "def sum_two_numbers_with_return(a, b):\n",
        "    res = a + b\n",
        "    return res"
      ],
      "metadata": {
        "id": "Z9eo1UvlSbAN"
      },
      "execution_count": null,
      "outputs": []
    },
    {
      "cell_type": "code",
      "source": [
        "res = sum_two_numbers_with_return(19, 23)"
      ],
      "metadata": {
        "id": "Wh9qXwb7Sfx4"
      },
      "execution_count": null,
      "outputs": []
    },
    {
      "cell_type": "code",
      "source": [
        "def values_from_dictionary():\n",
        "    pass"
      ],
      "metadata": {
        "colab": {
          "base_uri": "https://localhost:8080/"
        },
        "id": "mwBqlLa-SkSX",
        "outputId": "142dbb6c-8e07-4b62-eda8-ac9a922cfd7a"
      },
      "execution_count": null,
      "outputs": [
        {
          "output_type": "execute_result",
          "data": {
            "text/plain": [
              "42"
            ]
          },
          "metadata": {},
          "execution_count": 58
        }
      ]
    },
    {
      "cell_type": "markdown",
      "source": [
        "**Exercise:** write a function that takes in input a list of dictionaries and a key, and prints the corresponding values for every item in the list"
      ],
      "metadata": {
        "id": "qTvH7IrjVmuX"
      }
    },
    {
      "cell_type": "code",
      "source": [
        "def fun1(a, b):\n",
        "    for d in a:\n",
        "        print(d[b])"
      ],
      "metadata": {
        "id": "EJUxhqM6WJED"
      },
      "execution_count": null,
      "outputs": []
    },
    {
      "cell_type": "code",
      "source": [
        "fun1(list_of_dictionaries, 'name')"
      ],
      "metadata": {
        "colab": {
          "base_uri": "https://localhost:8080/"
        },
        "id": "zKD1z0p6WO0u",
        "outputId": "d40c8a60-6d20-4e1f-977e-fd1c51405334"
      },
      "execution_count": null,
      "outputs": [
        {
          "output_type": "stream",
          "name": "stdout",
          "text": [
            "Nick\n",
            "Mark\n",
            "Lebron\n"
          ]
        }
      ]
    },
    {
      "cell_type": "code",
      "source": [
        "def print_values_from_dictionary(list_of_dictionaries, key):\n",
        "    for d in list_of_dictionaries:\n",
        "        print(d[key])"
      ],
      "metadata": {
        "id": "xKBdc6iUVp5-"
      },
      "execution_count": null,
      "outputs": []
    },
    {
      "cell_type": "code",
      "source": [
        "print_values_from_dictionary(list_of_dictionaries, 'name')"
      ],
      "metadata": {
        "colab": {
          "base_uri": "https://localhost:8080/"
        },
        "id": "tZgCGVftTUSC",
        "outputId": "cd6d546e-ca50-4994-f086-b04788ae149d"
      },
      "execution_count": null,
      "outputs": [
        {
          "output_type": "stream",
          "name": "stdout",
          "text": [
            "Nick\n",
            "Mark\n",
            "Lebron\n"
          ]
        }
      ]
    },
    {
      "cell_type": "code",
      "source": [
        "def print_values_from_dictionary(list_of_dictionaries, input_key):\n",
        "    list_of_stuff = []\n",
        "    for d in list_of_dictionaries:\n",
        "        for key, value in d.items():\n",
        "            if key == input_key:\n",
        "                list_of_stuff.append(value)\n",
        "                print(value)\n",
        "    #return list_of_stuff"
      ],
      "metadata": {
        "id": "pEAncW4nWZOp"
      },
      "execution_count": null,
      "outputs": []
    },
    {
      "cell_type": "code",
      "source": [
        "print_values_from_dictionary(list_of_dictionaries, 'name')"
      ],
      "metadata": {
        "colab": {
          "base_uri": "https://localhost:8080/"
        },
        "id": "ySfU_WP0WuMQ",
        "outputId": "f88c7ee1-9321-4755-d54d-a08035144d7e"
      },
      "execution_count": null,
      "outputs": [
        {
          "output_type": "stream",
          "name": "stdout",
          "text": [
            "Nick\n",
            "Mark\n",
            "Lebron\n"
          ]
        },
        {
          "output_type": "execute_result",
          "data": {
            "text/plain": [
              "['Nick', 'Mark', 'Lebron']"
            ]
          },
          "metadata": {},
          "execution_count": 71
        }
      ]
    },
    {
      "cell_type": "markdown",
      "source": [
        "**Exercise:** write a function that takes in input a list of dictionaries and a key, and returns the corresponding values for every item in the list"
      ],
      "metadata": {
        "id": "5WiugVfjVfxj"
      }
    },
    {
      "cell_type": "code",
      "source": [
        "def return_values_from_dictionary(list_of_dictionaries, key):\n",
        "    #list_of_dictionaries = list_of_dictionaries\n",
        "    for d in list_of_dictionaries:\n",
        "        return d[key]"
      ],
      "metadata": {
        "id": "D4JgMWoNVhxX"
      },
      "execution_count": null,
      "outputs": []
    },
    {
      "cell_type": "code",
      "source": [
        "return_values_from_dictionary(list_of_dictionaries, 'name')"
      ],
      "metadata": {
        "colab": {
          "base_uri": "https://localhost:8080/",
          "height": 36
        },
        "id": "lTJbCH5tX021",
        "outputId": "4d3832a1-03c3-4f8a-fdbb-a9406fc3a731"
      },
      "execution_count": null,
      "outputs": [
        {
          "output_type": "execute_result",
          "data": {
            "text/plain": [
              "'Nick'"
            ],
            "application/vnd.google.colaboratory.intrinsic+json": {
              "type": "string"
            }
          },
          "metadata": {},
          "execution_count": 75
        }
      ]
    },
    {
      "cell_type": "markdown",
      "source": [
        "a function that returns True if all elements in the input list are even numbers"
      ],
      "metadata": {
        "id": "YtwPO0DaYSQb"
      }
    },
    {
      "cell_type": "code",
      "source": [
        "def all_even(list_of_numbers):\n",
        "    res = True\n",
        "    for number in list_of_numbers:\n",
        "        if number % 2 == 0:\n",
        "            res = True\n",
        "        else:\n",
        "            res = False\n",
        "    return res"
      ],
      "metadata": {
        "id": "i-Vv6XlnYW7z"
      },
      "execution_count": null,
      "outputs": []
    },
    {
      "cell_type": "code",
      "source": [
        "all_even([1,2,3,35,24])"
      ],
      "metadata": {
        "colab": {
          "base_uri": "https://localhost:8080/"
        },
        "id": "wrO11roIYtUg",
        "outputId": "d435b303-6d79-4b0f-f534-231f9810cd59"
      },
      "execution_count": null,
      "outputs": [
        {
          "output_type": "execute_result",
          "data": {
            "text/plain": [
              "True"
            ]
          },
          "metadata": {},
          "execution_count": 78
        }
      ]
    },
    {
      "cell_type": "code",
      "source": [
        "def all_even(list_of_numbers):\n",
        "    res = True\n",
        "    for number in list_of_numbers:\n",
        "        if not number % 2 == 0:\n",
        "            res = False\n",
        "    return res"
      ],
      "metadata": {
        "id": "Vfl8-wv5ZL0s"
      },
      "execution_count": null,
      "outputs": []
    },
    {
      "cell_type": "code",
      "source": [
        "all_even([1,2,3,35,24,348,34,12,2,48])"
      ],
      "metadata": {
        "colab": {
          "base_uri": "https://localhost:8080/"
        },
        "id": "DNeX-VLyZQdW",
        "outputId": "adc50247-3037-43d6-fd3e-0f72703d4d0c"
      },
      "execution_count": null,
      "outputs": [
        {
          "output_type": "execute_result",
          "data": {
            "text/plain": [
              "False"
            ]
          },
          "metadata": {},
          "execution_count": 80
        }
      ]
    },
    {
      "cell_type": "code",
      "source": [
        "def all_even(list_of_numbers):\n",
        "    for number in list_of_numbers:\n",
        "        if not number % 2 == 0:\n",
        "            return False\n",
        "    return True"
      ],
      "metadata": {
        "id": "imb2GbgXZZur"
      },
      "execution_count": null,
      "outputs": []
    },
    {
      "cell_type": "code",
      "source": [
        "def is_even(n):\n",
        "    return n % 2 == 0"
      ],
      "metadata": {
        "id": "ntkaB-2KZplw"
      },
      "execution_count": null,
      "outputs": []
    },
    {
      "cell_type": "code",
      "source": [
        "def all_even(list_of_numbers):\n",
        "    for number in list_of_numbers:\n",
        "        if not is_even(number):\n",
        "            return False\n",
        "    return True"
      ],
      "metadata": {
        "id": "QdVYr-dIaBFr"
      },
      "execution_count": null,
      "outputs": []
    },
    {
      "cell_type": "code",
      "source": [
        "def takes_one_input(n):\n",
        "    return 1"
      ],
      "metadata": {
        "id": "jEDiFPInaYSD"
      },
      "execution_count": null,
      "outputs": []
    },
    {
      "cell_type": "code",
      "source": [
        "takes_one_input('hello')"
      ],
      "metadata": {
        "colab": {
          "base_uri": "https://localhost:8080/"
        },
        "id": "H03Hg6PYab1s",
        "outputId": "c63f7878-9136-45cb-95b0-8d49c9218ab6"
      },
      "execution_count": null,
      "outputs": [
        {
          "output_type": "execute_result",
          "data": {
            "text/plain": [
              "1"
            ]
          },
          "metadata": {},
          "execution_count": 85
        }
      ]
    },
    {
      "cell_type": "markdown",
      "source": [
        "- Functions\n",
        "    - Parameters\n",
        "    - calling/returning\n",
        "    - Scope\n",
        "    - input/no input/output/no output\n"
      ],
      "metadata": {
        "id": "TenIqc_sJevo"
      }
    }
  ]
}