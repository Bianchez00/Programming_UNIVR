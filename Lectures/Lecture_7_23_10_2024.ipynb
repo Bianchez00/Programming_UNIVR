{
  "nbformat": 4,
  "nbformat_minor": 0,
  "metadata": {
    "colab": {
      "provenance": []
    },
    "kernelspec": {
      "name": "python3",
      "display_name": "Python 3"
    },
    "language_info": {
      "name": "python"
    }
  },
  "cells": [
    {
      "cell_type": "markdown",
      "source": [
        "#Python Language Advanced"
      ],
      "metadata": {
        "id": "m-7ByU9K7ccu"
      }
    },
    {
      "cell_type": "markdown",
      "source": [
        "##23/10/2024"
      ],
      "metadata": {
        "id": "LS0_grDzlzeu"
      }
    },
    {
      "cell_type": "code",
      "source": [
        "class Person:\n",
        "    def __init__(self, name, family_name, age, gender='x'):\n",
        "        self.name = name\n",
        "        self.surname = family_name\n",
        "        self.age = age\n",
        "        self.gender = gender\n",
        "        self.type_of_user = 'default'\n",
        "        self._private_var = 678\n",
        "\n",
        "    def print_name(self):\n",
        "        print(self.name)\n",
        "\n",
        "    def change_name(self, new_name):\n",
        "        self.name = new_name\n",
        "\n",
        "    def __repr__(self):\n",
        "        return self.name + ' ' + self.surname + ', ' + str(self.age) + ' years old'\n",
        "\n",
        "    def __eq__(self, other):\n",
        "        same_name = self.name == other.name\n",
        "        same_surname = self.surname == other.surname\n",
        "        same_age = self.age == other.age\n",
        "        return same_name and same_surname and same_age"
      ],
      "metadata": {
        "id": "c0_jFdfUJfXj"
      },
      "execution_count": null,
      "outputs": []
    },
    {
      "cell_type": "code",
      "source": [
        "p1 = Person('Nick', 'Marastoni', 41)"
      ],
      "metadata": {
        "id": "1K7ClwUbJf1t"
      },
      "execution_count": null,
      "outputs": []
    },
    {
      "cell_type": "code",
      "source": [
        "print(p1)"
      ],
      "metadata": {
        "colab": {
          "base_uri": "https://localhost:8080/"
        },
        "id": "h0BC6_dVJku0",
        "outputId": "98c33477-0ab1-46d8-e6fd-c2814b8ad479"
      },
      "execution_count": null,
      "outputs": [
        {
          "output_type": "stream",
          "name": "stdout",
          "text": [
            "Nick Marastoni, 41 years old\n"
          ]
        }
      ]
    },
    {
      "cell_type": "code",
      "source": [
        "p1.name = 'Niccolò'"
      ],
      "metadata": {
        "id": "9xHw2dsILvef"
      },
      "execution_count": null,
      "outputs": []
    },
    {
      "cell_type": "markdown",
      "source": [
        "- Objects:\n",
        "    - \\_\\_repr\\_\\_\n",
        "    - \\_var"
      ],
      "metadata": {
        "id": "xeGtm2YJmkBx"
      }
    },
    {
      "cell_type": "markdown",
      "source": [
        "**Exercise**: write an object that represents an integer and allows two basic operations (choose among addition, subtraction, less than, more than etc.). The object needs to have an appropriate representation."
      ],
      "metadata": {
        "id": "DdbaHmvimpBT"
      }
    },
    {
      "cell_type": "code",
      "source": [
        "class Integer:\n",
        "    def __init__(self, n):\n",
        "        self.n = n\n",
        "\n",
        "    def __add__(self, other):\n",
        "        if type(self) == type(other):\n",
        "            return Integer(self.n + other.n)\n",
        "\n",
        "    def __eq__(self, other):\n",
        "        return self.n == other.n\n",
        "\n",
        "    def __repr__(self):\n",
        "        return str(self.n)"
      ],
      "metadata": {
        "id": "WaaXEvQOm7kh"
      },
      "execution_count": null,
      "outputs": []
    },
    {
      "cell_type": "code",
      "source": [
        "a = Integer(4)\n",
        "b = Integer(32)\n",
        "c = a + b\n",
        "c"
      ],
      "metadata": {
        "colab": {
          "base_uri": "https://localhost:8080/"
        },
        "id": "W64G_zDsOvP9",
        "outputId": "e8a6358b-1d1f-4b50-ddca-1dce5f315287"
      },
      "execution_count": null,
      "outputs": [
        {
          "output_type": "execute_result",
          "data": {
            "text/plain": [
              "36"
            ]
          },
          "metadata": {},
          "execution_count": 27
        }
      ]
    },
    {
      "cell_type": "code",
      "source": [
        "c.n"
      ],
      "metadata": {
        "colab": {
          "base_uri": "https://localhost:8080/"
        },
        "id": "g3GMql8ZPdjp",
        "outputId": "dfd8f96d-46fb-47c5-b036-f4fe945a6382"
      },
      "execution_count": null,
      "outputs": [
        {
          "output_type": "execute_result",
          "data": {
            "text/plain": [
              "36"
            ]
          },
          "metadata": {},
          "execution_count": 25
        }
      ]
    },
    {
      "cell_type": "markdown",
      "metadata": {
        "id": "wqTqjSdyCARA"
      },
      "source": [
        "- Advanced functions\n",
        "    - lambdas\n",
        "    - map\n",
        "    - filter\n",
        "    - sorted"
      ]
    },
    {
      "cell_type": "code",
      "source": [
        "def identity(n):\n",
        "    return n"
      ],
      "metadata": {
        "id": "t9Ao218fQO-V"
      },
      "execution_count": null,
      "outputs": []
    },
    {
      "cell_type": "code",
      "source": [
        "def successor(n):\n",
        "    return n + 1"
      ],
      "metadata": {
        "id": "gqXJlXbHQVsT"
      },
      "execution_count": null,
      "outputs": []
    },
    {
      "cell_type": "code",
      "source": [
        "identity(identity(identity(5)))"
      ],
      "metadata": {
        "colab": {
          "base_uri": "https://localhost:8080/"
        },
        "id": "wmPb0ut_Qa8q",
        "outputId": "cfdb820b-a1c7-48d0-c7cf-d7a67be351c1"
      },
      "execution_count": null,
      "outputs": [
        {
          "output_type": "execute_result",
          "data": {
            "text/plain": [
              "5"
            ]
          },
          "metadata": {},
          "execution_count": 30
        }
      ]
    },
    {
      "cell_type": "code",
      "source": [
        "successor(successor(successor(5)))"
      ],
      "metadata": {
        "colab": {
          "base_uri": "https://localhost:8080/"
        },
        "id": "oTrN1cynQpor",
        "outputId": "ee7f856d-4fad-440d-a057-ab2f69b57117"
      },
      "execution_count": null,
      "outputs": [
        {
          "output_type": "execute_result",
          "data": {
            "text/plain": [
              "8"
            ]
          },
          "metadata": {},
          "execution_count": 31
        }
      ]
    },
    {
      "cell_type": "code",
      "source": [
        "identity = lambda x : x"
      ],
      "metadata": {
        "id": "DZng1_fkQ5GL"
      },
      "execution_count": null,
      "outputs": []
    },
    {
      "cell_type": "code",
      "source": [
        "identity(identity(identity(5)))"
      ],
      "metadata": {
        "colab": {
          "base_uri": "https://localhost:8080/"
        },
        "id": "w2X9fALmRH73",
        "outputId": "447fd62c-0802-4757-e444-c1fe6f465bc5"
      },
      "execution_count": null,
      "outputs": [
        {
          "output_type": "execute_result",
          "data": {
            "text/plain": [
              "5"
            ]
          },
          "metadata": {},
          "execution_count": 33
        }
      ]
    },
    {
      "cell_type": "code",
      "source": [
        "successor = lambda x : x + 1"
      ],
      "metadata": {
        "id": "BGxPA0TJRMZ_"
      },
      "execution_count": null,
      "outputs": []
    },
    {
      "cell_type": "code",
      "source": [
        "successor(successor(successor(5)))"
      ],
      "metadata": {
        "colab": {
          "base_uri": "https://localhost:8080/"
        },
        "id": "Ox2zY_-3RSE-",
        "outputId": "d675ff57-8199-4295-dd88-57541eaee3ee"
      },
      "execution_count": null,
      "outputs": [
        {
          "output_type": "execute_result",
          "data": {
            "text/plain": [
              "8"
            ]
          },
          "metadata": {},
          "execution_count": 35
        }
      ]
    },
    {
      "cell_type": "code",
      "source": [
        "always_returns_1 = lambda x : 1"
      ],
      "metadata": {
        "id": "fiQTsvNXRUVR"
      },
      "execution_count": null,
      "outputs": []
    },
    {
      "cell_type": "code",
      "source": [
        "always_returns_1(always_returns_1(3))"
      ],
      "metadata": {
        "colab": {
          "base_uri": "https://localhost:8080/"
        },
        "id": "rg2QZHwcRnW7",
        "outputId": "6b96eda4-964b-405c-cef2-746722f1260a"
      },
      "execution_count": null,
      "outputs": [
        {
          "output_type": "execute_result",
          "data": {
            "text/plain": [
              "1"
            ]
          },
          "metadata": {},
          "execution_count": 37
        }
      ]
    },
    {
      "cell_type": "code",
      "source": [
        "l = [12, 3, 43, -1]"
      ],
      "metadata": {
        "id": "V1sy4Na_Rrr9"
      },
      "execution_count": null,
      "outputs": []
    },
    {
      "cell_type": "code",
      "source": [
        "sorted(l)"
      ],
      "metadata": {
        "colab": {
          "base_uri": "https://localhost:8080/"
        },
        "id": "B0wd2MVMRzzE",
        "outputId": "a86fa0c4-2212-402f-edc2-c05c22adae4d"
      },
      "execution_count": null,
      "outputs": [
        {
          "output_type": "execute_result",
          "data": {
            "text/plain": [
              "[-1, 3, 12, 43]"
            ]
          },
          "metadata": {},
          "execution_count": 39
        }
      ]
    },
    {
      "cell_type": "code",
      "source": [
        "sorted(l, reverse=True)"
      ],
      "metadata": {
        "colab": {
          "base_uri": "https://localhost:8080/"
        },
        "id": "52Ua0BplR6Ef",
        "outputId": "de527b8c-8ace-4ef2-c2ae-1e8c1a125522"
      },
      "execution_count": null,
      "outputs": [
        {
          "output_type": "execute_result",
          "data": {
            "text/plain": [
              "[43, 12, 3, -1]"
            ]
          },
          "metadata": {},
          "execution_count": 40
        }
      ]
    },
    {
      "cell_type": "code",
      "source": [
        "def reverse(n):\n",
        "    return -n"
      ],
      "metadata": {
        "id": "emCrOv3VSmtx"
      },
      "execution_count": null,
      "outputs": []
    },
    {
      "cell_type": "code",
      "source": [
        "sorted(l, key=reverse)"
      ],
      "metadata": {
        "colab": {
          "base_uri": "https://localhost:8080/"
        },
        "id": "6P3qRZTwSGx2",
        "outputId": "29a45e06-0fa1-4e88-b628-b17fca394a1d"
      },
      "execution_count": null,
      "outputs": [
        {
          "output_type": "execute_result",
          "data": {
            "text/plain": [
              "[43, 12, 3, -1]"
            ]
          },
          "metadata": {},
          "execution_count": 42
        }
      ]
    },
    {
      "cell_type": "code",
      "source": [
        "sorted(l, key=lambda n : -n)"
      ],
      "metadata": {
        "colab": {
          "base_uri": "https://localhost:8080/"
        },
        "id": "orvOAsAJTOQQ",
        "outputId": "8daec28f-eca3-42a3-e2d7-89edd944def5"
      },
      "execution_count": null,
      "outputs": [
        {
          "output_type": "execute_result",
          "data": {
            "text/plain": [
              "[43, 12, 3, -1]"
            ]
          },
          "metadata": {},
          "execution_count": 43
        }
      ]
    },
    {
      "cell_type": "code",
      "source": [
        "list_of_dictionaries = [{'a_1': 24, 'z_2': 12, 'g_3': -1}, {'a_1': 23, 'z_2': 21, 'g_3': 11}, {'a_1': 25, 'z_2': 34, 'g_3': -2}]"
      ],
      "metadata": {
        "id": "eK4MCPriThtV"
      },
      "execution_count": null,
      "outputs": []
    },
    {
      "cell_type": "code",
      "source": [
        "list_of_dictionaries[0] > list_of_dictionaries[1]"
      ],
      "metadata": {
        "colab": {
          "base_uri": "https://localhost:8080/",
          "height": 144
        },
        "id": "_hmCCBfJT2wi",
        "outputId": "fbb7696a-fe29-48d0-a095-5fea1abb94f0"
      },
      "execution_count": null,
      "outputs": [
        {
          "output_type": "error",
          "ename": "TypeError",
          "evalue": "'>' not supported between instances of 'dict' and 'dict'",
          "traceback": [
            "\u001b[0;31m---------------------------------------------------------------------------\u001b[0m",
            "\u001b[0;31mTypeError\u001b[0m                                 Traceback (most recent call last)",
            "\u001b[0;32m<ipython-input-47-9260999d90d1>\u001b[0m in \u001b[0;36m<cell line: 1>\u001b[0;34m()\u001b[0m\n\u001b[0;32m----> 1\u001b[0;31m \u001b[0mlist_of_dictionaries\u001b[0m\u001b[0;34m[\u001b[0m\u001b[0;36m0\u001b[0m\u001b[0;34m]\u001b[0m \u001b[0;34m>\u001b[0m \u001b[0mlist_of_dictionaries\u001b[0m\u001b[0;34m[\u001b[0m\u001b[0;36m1\u001b[0m\u001b[0;34m]\u001b[0m\u001b[0;34m\u001b[0m\u001b[0;34m\u001b[0m\u001b[0m\n\u001b[0m",
            "\u001b[0;31mTypeError\u001b[0m: '>' not supported between instances of 'dict' and 'dict'"
          ]
        }
      ]
    },
    {
      "cell_type": "code",
      "source": [
        "sorted(list_of_dictionaries)"
      ],
      "metadata": {
        "colab": {
          "base_uri": "https://localhost:8080/",
          "height": 144
        },
        "id": "hUSgRn4-UOHt",
        "outputId": "207cb169-6eeb-4de2-d100-ea1644177d98"
      },
      "execution_count": null,
      "outputs": [
        {
          "output_type": "error",
          "ename": "TypeError",
          "evalue": "'<' not supported between instances of 'dict' and 'dict'",
          "traceback": [
            "\u001b[0;31m---------------------------------------------------------------------------\u001b[0m",
            "\u001b[0;31mTypeError\u001b[0m                                 Traceback (most recent call last)",
            "\u001b[0;32m<ipython-input-48-09df1753d162>\u001b[0m in \u001b[0;36m<cell line: 1>\u001b[0;34m()\u001b[0m\n\u001b[0;32m----> 1\u001b[0;31m \u001b[0msorted\u001b[0m\u001b[0;34m(\u001b[0m\u001b[0mlist_of_dictionaries\u001b[0m\u001b[0;34m)\u001b[0m\u001b[0;34m\u001b[0m\u001b[0;34m\u001b[0m\u001b[0m\n\u001b[0m",
            "\u001b[0;31mTypeError\u001b[0m: '<' not supported between instances of 'dict' and 'dict'"
          ]
        }
      ]
    },
    {
      "cell_type": "code",
      "source": [
        "sorted(list_of_dictionaries, key=lambda x : -x['z_2'])"
      ],
      "metadata": {
        "colab": {
          "base_uri": "https://localhost:8080/"
        },
        "id": "n4hl0QRzUW3F",
        "outputId": "119fa4bd-9b8a-4321-bb10-cb22c629a0b8"
      },
      "execution_count": null,
      "outputs": [
        {
          "output_type": "execute_result",
          "data": {
            "text/plain": [
              "[{'a_1': 25, 'z_2': 34, 'g_3': -2},\n",
              " {'a_1': 23, 'z_2': 21, 'g_3': 11},\n",
              " {'a_1': 24, 'z_2': 12, 'g_3': -1}]"
            ]
          },
          "metadata": {},
          "execution_count": 51
        }
      ]
    },
    {
      "cell_type": "markdown",
      "source": [
        "**Exercise**: sort a list of dictionaries using the sum of their values.\n",
        "Dict list: [{'a_1': 24, 'z_2': 12, 'g_3': -1},\n",
        " {'a_1': 23, 'z_2': 21, 'g_3': 11},\n",
        " {'a_1': 25, 'z_2': 34, 'g_3': -2}]"
      ],
      "metadata": {
        "id": "ZV-2OlJEncIj"
      }
    },
    {
      "cell_type": "code",
      "source": [
        "sum(list_of_dictionaries[0].values())"
      ],
      "metadata": {
        "colab": {
          "base_uri": "https://localhost:8080/"
        },
        "id": "YsZI_3XhW7g-",
        "outputId": "dd82fc55-c303-4c09-dacf-fcd5167bd731"
      },
      "execution_count": null,
      "outputs": [
        {
          "output_type": "execute_result",
          "data": {
            "text/plain": [
              "35"
            ]
          },
          "metadata": {},
          "execution_count": 54
        }
      ]
    },
    {
      "cell_type": "code",
      "source": [
        "sorted(list_of_dictionaries, key=lambda x : x['a_1'] + x['z_2'] + x['g_3'])"
      ],
      "metadata": {
        "colab": {
          "base_uri": "https://localhost:8080/"
        },
        "id": "vKQ0dMw-Vc-5",
        "outputId": "fbda9b27-ade9-41f8-bbd5-f4f457c8c1de"
      },
      "execution_count": null,
      "outputs": [
        {
          "output_type": "execute_result",
          "data": {
            "text/plain": [
              "[{'a_1': 24, 'z_2': 12, 'g_3': -1},\n",
              " {'a_1': 23, 'z_2': 21, 'g_3': 11},\n",
              " {'a_1': 25, 'z_2': 34, 'g_3': -2}]"
            ]
          },
          "metadata": {},
          "execution_count": 52
        }
      ]
    },
    {
      "cell_type": "code",
      "source": [
        "def sum_of_values(d):\n",
        "    return sum(d.values())"
      ],
      "metadata": {
        "id": "ka7hn2wdXVe_"
      },
      "execution_count": null,
      "outputs": []
    },
    {
      "cell_type": "code",
      "source": [
        "sorted(list_of_dictionaries, key=lambda x : sum(x.values()))"
      ],
      "metadata": {
        "colab": {
          "base_uri": "https://localhost:8080/"
        },
        "id": "NF3VDUcLXCco",
        "outputId": "bc0299a3-cc48-4c29-888c-9f553d78c033"
      },
      "execution_count": null,
      "outputs": [
        {
          "output_type": "execute_result",
          "data": {
            "text/plain": [
              "[{'a_1': 24, 'z_2': 12, 'g_3': -1},\n",
              " {'a_1': 23, 'z_2': 21, 'g_3': 11},\n",
              " {'a_1': 25, 'z_2': 34, 'g_3': -2}]"
            ]
          },
          "metadata": {},
          "execution_count": 55
        }
      ]
    },
    {
      "cell_type": "code",
      "source": [
        "l = list(range(20))\n",
        "l"
      ],
      "metadata": {
        "colab": {
          "base_uri": "https://localhost:8080/"
        },
        "id": "NE0pKAB8XRuT",
        "outputId": "aad3bbea-e662-4c71-f850-824b848ad74a"
      },
      "execution_count": null,
      "outputs": [
        {
          "output_type": "execute_result",
          "data": {
            "text/plain": [
              "[0, 1, 2, 3, 4, 5, 6, 7, 8, 9, 10, 11, 12, 13, 14, 15, 16, 17, 18, 19]"
            ]
          },
          "metadata": {},
          "execution_count": 58
        }
      ]
    },
    {
      "cell_type": "code",
      "source": [
        "list(map(lambda x : x*2, l))"
      ],
      "metadata": {
        "colab": {
          "base_uri": "https://localhost:8080/"
        },
        "id": "j2lG5DLtXtNk",
        "outputId": "8960c845-27ce-439a-f218-3e9dabeeca7e"
      },
      "execution_count": null,
      "outputs": [
        {
          "output_type": "execute_result",
          "data": {
            "text/plain": [
              "[0, 2, 4, 6, 8, 10, 12, 14, 16, 18, 20, 22, 24, 26, 28, 30, 32, 34, 36, 38]"
            ]
          },
          "metadata": {},
          "execution_count": 59
        }
      ]
    },
    {
      "cell_type": "code",
      "source": [
        "import os"
      ],
      "metadata": {
        "id": "ziBul2AhY-T5"
      },
      "execution_count": null,
      "outputs": []
    },
    {
      "cell_type": "code",
      "source": [
        "os.listdir('sample_data')"
      ],
      "metadata": {
        "colab": {
          "base_uri": "https://localhost:8080/"
        },
        "id": "Q-ZHEZETZnBr",
        "outputId": "e918db13-d31d-4ad1-d1c4-cdc9a08e8a70"
      },
      "execution_count": null,
      "outputs": [
        {
          "output_type": "execute_result",
          "data": {
            "text/plain": [
              "['anscombe.json',\n",
              " 'README.md',\n",
              " 'california_housing_train.csv',\n",
              " 'mnist_test.csv',\n",
              " 'mnist_train_small.csv',\n",
              " 'california_housing_test.csv']"
            ]
          },
          "metadata": {},
          "execution_count": 64
        }
      ]
    },
    {
      "cell_type": "code",
      "source": [
        "os.mkdir('trying')"
      ],
      "metadata": {
        "id": "-4loHchCaZGl"
      },
      "execution_count": null,
      "outputs": []
    },
    {
      "cell_type": "code",
      "source": [
        "import random"
      ],
      "metadata": {
        "id": "58_zfSVpa--u"
      },
      "execution_count": null,
      "outputs": []
    },
    {
      "cell_type": "code",
      "source": [
        "random.randint(4, 18)"
      ],
      "metadata": {
        "colab": {
          "base_uri": "https://localhost:8080/"
        },
        "id": "MocBw3I9bKyg",
        "outputId": "0441e71e-53ab-47c6-d9d2-247de83e335a"
      },
      "execution_count": null,
      "outputs": [
        {
          "output_type": "execute_result",
          "data": {
            "text/plain": [
              "6"
            ]
          },
          "metadata": {},
          "execution_count": 73
        }
      ]
    },
    {
      "cell_type": "code",
      "source": [
        "random_list = []\n",
        "for i in range(1000):\n",
        "    random_list.append(random.randint(0, 100))"
      ],
      "metadata": {
        "id": "UNPWl6f2b-fs"
      },
      "execution_count": null,
      "outputs": []
    },
    {
      "cell_type": "code",
      "source": [
        "random_list"
      ],
      "metadata": {
        "colab": {
          "base_uri": "https://localhost:8080/"
        },
        "collapsed": true,
        "id": "exKaOsLzcLn8",
        "outputId": "7ef73cdf-6633-4d6d-83b0-41ccd0851c53"
      },
      "execution_count": null,
      "outputs": [
        {
          "output_type": "execute_result",
          "data": {
            "text/plain": [
              "[94,\n",
              " 72,\n",
              " 47,\n",
              " 38,\n",
              " 2,\n",
              " 57,\n",
              " 36,\n",
              " 91,\n",
              " 62,\n",
              " 1,\n",
              " 48,\n",
              " 39,\n",
              " 62,\n",
              " 80,\n",
              " 95,\n",
              " 54,\n",
              " 64,\n",
              " 38,\n",
              " 87,\n",
              " 20,\n",
              " 76,\n",
              " 53,\n",
              " 56,\n",
              " 86,\n",
              " 54,\n",
              " 32,\n",
              " 15,\n",
              " 29,\n",
              " 5,\n",
              " 98,\n",
              " 78,\n",
              " 27,\n",
              " 88,\n",
              " 76,\n",
              " 37,\n",
              " 50,\n",
              " 26,\n",
              " 63,\n",
              " 68,\n",
              " 94,\n",
              " 40,\n",
              " 20,\n",
              " 44,\n",
              " 66,\n",
              " 26,\n",
              " 53,\n",
              " 76,\n",
              " 6,\n",
              " 48,\n",
              " 22,\n",
              " 88,\n",
              " 80,\n",
              " 31,\n",
              " 36,\n",
              " 59,\n",
              " 77,\n",
              " 57,\n",
              " 86,\n",
              " 26,\n",
              " 31,\n",
              " 100,\n",
              " 9,\n",
              " 96,\n",
              " 60,\n",
              " 13,\n",
              " 19,\n",
              " 92,\n",
              " 30,\n",
              " 16,\n",
              " 39,\n",
              " 35,\n",
              " 15,\n",
              " 30,\n",
              " 91,\n",
              " 63,\n",
              " 48,\n",
              " 44,\n",
              " 1,\n",
              " 3,\n",
              " 81,\n",
              " 88,\n",
              " 9,\n",
              " 58,\n",
              " 15,\n",
              " 20,\n",
              " 47,\n",
              " 84,\n",
              " 31,\n",
              " 49,\n",
              " 44,\n",
              " 46,\n",
              " 85,\n",
              " 31,\n",
              " 13,\n",
              " 67,\n",
              " 86,\n",
              " 12,\n",
              " 9,\n",
              " 42,\n",
              " 12]"
            ]
          },
          "metadata": {},
          "execution_count": 76
        }
      ]
    },
    {
      "cell_type": "code",
      "source": [
        "import random as rn"
      ],
      "metadata": {
        "id": "Fbeazo6QcjxZ"
      },
      "execution_count": null,
      "outputs": []
    },
    {
      "cell_type": "code",
      "source": [
        "rn.randint(0,2)"
      ],
      "metadata": {
        "colab": {
          "base_uri": "https://localhost:8080/"
        },
        "id": "zA5CngxRck3B",
        "outputId": "1ad2d095-45d5-4320-dd68-a8f6bdfe2302"
      },
      "execution_count": null,
      "outputs": [
        {
          "output_type": "execute_result",
          "data": {
            "text/plain": [
              "1"
            ]
          },
          "metadata": {},
          "execution_count": 79
        }
      ]
    },
    {
      "cell_type": "code",
      "source": [
        "from random import randint"
      ],
      "metadata": {
        "id": "6VqnZ4Sccob2"
      },
      "execution_count": null,
      "outputs": []
    },
    {
      "cell_type": "code",
      "source": [
        "randint(0,200)"
      ],
      "metadata": {
        "colab": {
          "base_uri": "https://localhost:8080/"
        },
        "id": "uMMn3VKYctJc",
        "outputId": "b6b50095-6700-4cd1-c445-7c8462d5a200"
      },
      "execution_count": null,
      "outputs": [
        {
          "output_type": "execute_result",
          "data": {
            "text/plain": [
              "128"
            ]
          },
          "metadata": {},
          "execution_count": 82
        }
      ]
    },
    {
      "cell_type": "code",
      "source": [
        "import numpy as np"
      ],
      "metadata": {
        "id": "kyeoQhNrc5-i"
      },
      "execution_count": null,
      "outputs": []
    },
    {
      "cell_type": "code",
      "source": [
        "#python -m pip install numpy"
      ],
      "metadata": {
        "id": "PXVg7Sc8c7ag"
      },
      "execution_count": null,
      "outputs": []
    },
    {
      "cell_type": "code",
      "source": [
        "import sklearn"
      ],
      "metadata": {
        "id": "I10temDOdO2U"
      },
      "execution_count": null,
      "outputs": []
    },
    {
      "cell_type": "code",
      "source": [],
      "metadata": {
        "id": "O2SLvIlndQpd"
      },
      "execution_count": null,
      "outputs": []
    },
    {
      "cell_type": "markdown",
      "metadata": {
        "id": "yVRTts6VwtuB"
      },
      "source": [
        "- Common Libraries\n",
        "    - os\n",
        "    - random\n",
        "    - copy\n",
        "    - time"
      ]
    },
    {
      "cell_type": "markdown",
      "metadata": {
        "id": "ajWGyaKlBF1H"
      },
      "source": [
        "- Reading documentation\n",
        "- Exceptions\n",
        "    - Reading errors"
      ]
    },
    {
      "cell_type": "markdown",
      "source": [
        "- Generators?\n",
        "- Comments\n",
        "    - Inline\n",
        "    - Block\n",
        "    - Functions (pydoc)"
      ],
      "metadata": {
        "id": "1Z42mtqWJb9c"
      }
    },
    {
      "cell_type": "code",
      "source": [],
      "metadata": {
        "id": "sCrtwlCll1kD"
      },
      "execution_count": null,
      "outputs": []
    }
  ]
}