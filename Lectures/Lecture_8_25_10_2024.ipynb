{
  "nbformat": 4,
  "nbformat_minor": 0,
  "metadata": {
    "colab": {
      "provenance": []
    },
    "kernelspec": {
      "name": "python3",
      "display_name": "Python 3"
    },
    "language_info": {
      "name": "python"
    }
  },
  "cells": [
    {
      "cell_type": "markdown",
      "source": [
        "##25/10/2024"
      ],
      "metadata": {
        "id": "EaEXU0zfc-Xr"
      }
    },
    {
      "cell_type": "code",
      "source": [
        "class Person:\n",
        "    def __init__(self, name, surname, age):\n",
        "        self.name = name\n",
        "        self.surname = surname\n",
        "        self.age = age\n",
        "\n",
        "    def __eq__(self, other):\n",
        "        return type(self) == type(other) and self.name == other.name and self.surname == other.surname\n",
        "\n",
        "    def __repr__(self):\n",
        "        return self.name + ' ' + self.surname\n",
        "\n",
        "    def __lt__(self, other):\n",
        "        return self.name < other.name and self.surname < other.surname"
      ],
      "metadata": {
        "id": "nRgX2_LYd7TF"
      },
      "execution_count": null,
      "outputs": []
    },
    {
      "cell_type": "code",
      "source": [
        "p_1 = Person('Niccolò', 'Marastoni', 41)\n",
        "p_2 = Person('Niccolò', 'Marastoni', 40)\n",
        "p_3 = Person('Lebron', 'James', 39)\n",
        "p_1 == p_2"
      ],
      "metadata": {
        "colab": {
          "base_uri": "https://localhost:8080/"
        },
        "id": "gdDRQI1nen2u",
        "outputId": "e4806c0f-3e90-4520-ceba-f87fe56b2a7d"
      },
      "execution_count": null,
      "outputs": [
        {
          "output_type": "execute_result",
          "data": {
            "text/plain": [
              "True"
            ]
          },
          "metadata": {},
          "execution_count": 60
        }
      ]
    },
    {
      "cell_type": "code",
      "source": [
        "p_1 < p_2"
      ],
      "metadata": {
        "colab": {
          "base_uri": "https://localhost:8080/"
        },
        "id": "5CrkLIQVmpc2",
        "outputId": "215fb8b1-10d5-426f-b0f9-ea5da5b4959a"
      },
      "execution_count": null,
      "outputs": [
        {
          "output_type": "execute_result",
          "data": {
            "text/plain": [
              "False"
            ]
          },
          "metadata": {},
          "execution_count": 61
        }
      ]
    },
    {
      "cell_type": "code",
      "source": [
        "#BAD\n",
        "class Student:\n",
        "    def __init__(self, name, surname, age, student_id):\n",
        "        self.name = name\n",
        "        self.surname = surname\n",
        "        self.age = age\n",
        "        self.student_id = student_id\n",
        "\n",
        "    def __eq__(self, other):\n",
        "        return type(self) == type(other) and self.student_id == other.student_id"
      ],
      "metadata": {
        "id": "wJLDbvZLev4j"
      },
      "execution_count": null,
      "outputs": []
    },
    {
      "cell_type": "code",
      "source": [
        "#AND: True and True and True ... and False = False\n"
      ],
      "metadata": {
        "id": "sctT99_GhxD-"
      },
      "execution_count": null,
      "outputs": []
    },
    {
      "cell_type": "code",
      "source": [
        "s_1 = Student('Niccolò', 'Marastoni', 31, 'VR365422')\n",
        "s_2 = Student('Niccolò', 'Marastoni', 33, 'VR386312')\n",
        "s_1 == s_2"
      ],
      "metadata": {
        "colab": {
          "base_uri": "https://localhost:8080/"
        },
        "id": "oUc25AP0geRE",
        "outputId": "007a2de4-e030-49e3-f5e9-0b4699dd7191"
      },
      "execution_count": null,
      "outputs": [
        {
          "output_type": "execute_result",
          "data": {
            "text/plain": [
              "False"
            ]
          },
          "metadata": {},
          "execution_count": 64
        }
      ]
    },
    {
      "cell_type": "code",
      "source": [
        "p_1"
      ],
      "metadata": {
        "colab": {
          "base_uri": "https://localhost:8080/"
        },
        "id": "nVFMWKx3if1s",
        "outputId": "5aecd5b2-7b12-413b-8850-e51d0d5d6112"
      },
      "execution_count": null,
      "outputs": [
        {
          "output_type": "execute_result",
          "data": {
            "text/plain": [
              "Niccolò Marastoni"
            ]
          },
          "metadata": {},
          "execution_count": 65
        }
      ]
    },
    {
      "cell_type": "code",
      "source": [
        "s_1"
      ],
      "metadata": {
        "colab": {
          "base_uri": "https://localhost:8080/"
        },
        "id": "VMhhcNkKigsS",
        "outputId": "126e7f0b-6fd6-4e7a-94eb-641f39cf80c5"
      },
      "execution_count": null,
      "outputs": [
        {
          "output_type": "execute_result",
          "data": {
            "text/plain": [
              "<__main__.Student at 0x7948baeeae30>"
            ]
          },
          "metadata": {},
          "execution_count": 66
        }
      ]
    },
    {
      "cell_type": "code",
      "source": [
        "#s_1.__eq__(p_1)\n",
        "s_1 == p_1"
      ],
      "metadata": {
        "colab": {
          "base_uri": "https://localhost:8080/"
        },
        "id": "azJ4zjJSg7Q4",
        "outputId": "a6d45c35-1e7c-4c27-becd-26487c2349a6"
      },
      "execution_count": null,
      "outputs": [
        {
          "output_type": "execute_result",
          "data": {
            "text/plain": [
              "False"
            ]
          },
          "metadata": {},
          "execution_count": 67
        }
      ]
    },
    {
      "cell_type": "code",
      "source": [
        "#GOOD\n",
        "class Student(Person):\n",
        "    def __init__(self, name, surname, age, student_id):\n",
        "        super().__init__(name, surname, age)\n",
        "        self.student_id = student_id\n",
        "\n",
        "    def __eq__(self, other):\n",
        "        return type(self) == type(other) and self.student_id == other.student_id"
      ],
      "metadata": {
        "id": "gPZLqXn5hJ2S"
      },
      "execution_count": null,
      "outputs": []
    },
    {
      "cell_type": "code",
      "source": [
        "s_1 = Student('Niccolò', 'Marastoni', 31, 'VR365422')\n",
        "s_2 = Student('Niccolò', 'Marastoni', 33, 'VR386312')\n",
        "s_1 == s_2"
      ],
      "metadata": {
        "colab": {
          "base_uri": "https://localhost:8080/"
        },
        "id": "Lf25DoEDjSds",
        "outputId": "5d828a12-12c0-4b69-ba74-726231afa03b"
      },
      "execution_count": null,
      "outputs": [
        {
          "output_type": "execute_result",
          "data": {
            "text/plain": [
              "False"
            ]
          },
          "metadata": {},
          "execution_count": 69
        }
      ]
    },
    {
      "cell_type": "code",
      "source": [
        "s_1"
      ],
      "metadata": {
        "colab": {
          "base_uri": "https://localhost:8080/"
        },
        "id": "dQpn2qoYjVAt",
        "outputId": "5e5714a2-1363-46c2-d4c3-deda5421bca8"
      },
      "execution_count": null,
      "outputs": [
        {
          "output_type": "execute_result",
          "data": {
            "text/plain": [
              "Niccolò Marastoni"
            ]
          },
          "metadata": {},
          "execution_count": 70
        }
      ]
    },
    {
      "cell_type": "code",
      "source": [
        "class Professor(Person):\n",
        "    def __init__(self, name, surname, age, contract):\n",
        "        super().__init__(name, surname, age)\n",
        "        self.contract = contract\n",
        "\n",
        "    def change_contract(hello, new_contract):\n",
        "        hello.contract = new_contract"
      ],
      "metadata": {
        "id": "TOO5St4PkPhU"
      },
      "execution_count": null,
      "outputs": []
    },
    {
      "cell_type": "code",
      "source": [
        "pr_0 = Professor('Elisa', 'Quintarelli', 41, 'Temporary')"
      ],
      "metadata": {
        "id": "0oU-AWHpk6pU"
      },
      "execution_count": null,
      "outputs": []
    },
    {
      "cell_type": "code",
      "source": [
        "pr_0.change_contract('Associate')"
      ],
      "metadata": {
        "id": "mJvnv2q3lJHC"
      },
      "execution_count": null,
      "outputs": []
    },
    {
      "cell_type": "code",
      "source": [
        "#       Person\n",
        "#Student        Professor\n",
        "#            Associate  Full"
      ],
      "metadata": {
        "id": "L5CUEb4nliG7"
      },
      "execution_count": null,
      "outputs": []
    },
    {
      "cell_type": "code",
      "source": [
        "pr_0.contract"
      ],
      "metadata": {
        "colab": {
          "base_uri": "https://localhost:8080/",
          "height": 36
        },
        "id": "v5Wa9u-plU0A",
        "outputId": "f34fd481-ad39-4b5b-8aa9-e8a3b46e19e5"
      },
      "execution_count": null,
      "outputs": [
        {
          "output_type": "execute_result",
          "data": {
            "text/plain": [
              "'Associate'"
            ],
            "application/vnd.google.colaboratory.intrinsic+json": {
              "type": "string"
            }
          },
          "metadata": {},
          "execution_count": 75
        }
      ]
    },
    {
      "cell_type": "code",
      "source": [
        "list_of_people = [p_3, s_1, pr_0]"
      ],
      "metadata": {
        "id": "8fPkUZM0l1Xl"
      },
      "execution_count": null,
      "outputs": []
    },
    {
      "cell_type": "code",
      "source": [
        "sorted(list_of_people)"
      ],
      "metadata": {
        "colab": {
          "base_uri": "https://localhost:8080/"
        },
        "id": "deQ7Pb6ll5jG",
        "outputId": "ba029d83-5ab0-42b3-daa8-85bf7db549f9"
      },
      "execution_count": null,
      "outputs": [
        {
          "output_type": "execute_result",
          "data": {
            "text/plain": [
              "[Lebron James, Niccolò Marastoni, Elisa Quintarelli]"
            ]
          },
          "metadata": {},
          "execution_count": 77
        }
      ]
    },
    {
      "cell_type": "code",
      "source": [
        "list_of_people"
      ],
      "metadata": {
        "colab": {
          "base_uri": "https://localhost:8080/"
        },
        "id": "TKJ3WHyil_Qy",
        "outputId": "15e30680-9699-4691-ef9b-e831ec4ae03a"
      },
      "execution_count": null,
      "outputs": [
        {
          "output_type": "execute_result",
          "data": {
            "text/plain": [
              "[Lebron James, Niccolò Marastoni, Elisa Quintarelli]"
            ]
          },
          "metadata": {},
          "execution_count": 78
        }
      ]
    },
    {
      "cell_type": "markdown",
      "source": [
        "- Objects\n",
        "    - Inheritance"
      ],
      "metadata": {
        "id": "2nidIQO2Ts-l"
      }
    },
    {
      "cell_type": "code",
      "source": [
        "def division(a, b):\n",
        "    result = a / b\n",
        "    return result\n",
        "\n",
        "print('Hello')\n",
        "res = division(18, 0)\n",
        "print('Bye')"
      ],
      "metadata": {
        "colab": {
          "base_uri": "https://localhost:8080/",
          "height": 341
        },
        "id": "zsRObqlqnWfN",
        "outputId": "37814638-4f44-41ab-9726-f866cc09e29f"
      },
      "execution_count": null,
      "outputs": [
        {
          "output_type": "stream",
          "name": "stdout",
          "text": [
            "Hello\n"
          ]
        },
        {
          "output_type": "error",
          "ename": "ZeroDivisionError",
          "evalue": "division by zero",
          "traceback": [
            "\u001b[0;31m---------------------------------------------------------------------------\u001b[0m",
            "\u001b[0;31mZeroDivisionError\u001b[0m                         Traceback (most recent call last)",
            "\u001b[0;32m<ipython-input-90-488caa292068>\u001b[0m in \u001b[0;36m<cell line: 6>\u001b[0;34m()\u001b[0m\n\u001b[1;32m      4\u001b[0m \u001b[0;34m\u001b[0m\u001b[0m\n\u001b[1;32m      5\u001b[0m \u001b[0mprint\u001b[0m\u001b[0;34m(\u001b[0m\u001b[0;34m'Hello'\u001b[0m\u001b[0;34m)\u001b[0m\u001b[0;34m\u001b[0m\u001b[0;34m\u001b[0m\u001b[0m\n\u001b[0;32m----> 6\u001b[0;31m \u001b[0mres\u001b[0m \u001b[0;34m=\u001b[0m \u001b[0mdivision\u001b[0m\u001b[0;34m(\u001b[0m\u001b[0;36m18\u001b[0m\u001b[0;34m,\u001b[0m \u001b[0;36m0\u001b[0m\u001b[0;34m)\u001b[0m\u001b[0;34m\u001b[0m\u001b[0;34m\u001b[0m\u001b[0m\n\u001b[0m\u001b[1;32m      7\u001b[0m \u001b[0mprint\u001b[0m\u001b[0;34m(\u001b[0m\u001b[0;34m'Bye'\u001b[0m\u001b[0;34m)\u001b[0m\u001b[0;34m\u001b[0m\u001b[0;34m\u001b[0m\u001b[0m\n",
            "\u001b[0;32m<ipython-input-90-488caa292068>\u001b[0m in \u001b[0;36mdivision\u001b[0;34m(a, b)\u001b[0m\n\u001b[1;32m      1\u001b[0m \u001b[0;32mdef\u001b[0m \u001b[0mdivision\u001b[0m\u001b[0;34m(\u001b[0m\u001b[0ma\u001b[0m\u001b[0;34m,\u001b[0m \u001b[0mb\u001b[0m\u001b[0;34m)\u001b[0m\u001b[0;34m:\u001b[0m\u001b[0;34m\u001b[0m\u001b[0;34m\u001b[0m\u001b[0m\n\u001b[0;32m----> 2\u001b[0;31m     \u001b[0mresult\u001b[0m \u001b[0;34m=\u001b[0m \u001b[0ma\u001b[0m \u001b[0;34m/\u001b[0m \u001b[0mb\u001b[0m\u001b[0;34m\u001b[0m\u001b[0;34m\u001b[0m\u001b[0m\n\u001b[0m\u001b[1;32m      3\u001b[0m     \u001b[0;32mreturn\u001b[0m \u001b[0mresult\u001b[0m\u001b[0;34m\u001b[0m\u001b[0;34m\u001b[0m\u001b[0m\n\u001b[1;32m      4\u001b[0m \u001b[0;34m\u001b[0m\u001b[0m\n\u001b[1;32m      5\u001b[0m \u001b[0mprint\u001b[0m\u001b[0;34m(\u001b[0m\u001b[0;34m'Hello'\u001b[0m\u001b[0;34m)\u001b[0m\u001b[0;34m\u001b[0m\u001b[0;34m\u001b[0m\u001b[0m\n",
            "\u001b[0;31mZeroDivisionError\u001b[0m: division by zero"
          ]
        }
      ]
    },
    {
      "cell_type": "code",
      "source": [
        "def safe_division(a, b):\n",
        "    try:\n",
        "        res = a / b\n",
        "        return res\n",
        "    except:\n",
        "        print('division by zero')\n",
        "    finally:\n",
        "        print('this executes always')"
      ],
      "metadata": {
        "id": "kZjISS2JpHeJ"
      },
      "execution_count": null,
      "outputs": []
    },
    {
      "cell_type": "code",
      "source": [
        "safe_division(18, 6)"
      ],
      "metadata": {
        "colab": {
          "base_uri": "https://localhost:8080/"
        },
        "id": "CSa7JANxphSV",
        "outputId": "ca4c0d99-14bf-489b-9b8b-c8c531d5d524"
      },
      "execution_count": null,
      "outputs": [
        {
          "output_type": "stream",
          "name": "stdout",
          "text": [
            "this executes always\n"
          ]
        },
        {
          "output_type": "execute_result",
          "data": {
            "text/plain": [
              "3.0"
            ]
          },
          "metadata": {},
          "execution_count": 98
        }
      ]
    },
    {
      "cell_type": "code",
      "source": [
        "res"
      ],
      "metadata": {
        "id": "9Cbs1-DVo_9U"
      },
      "execution_count": null,
      "outputs": []
    },
    {
      "cell_type": "code",
      "source": [
        "import os"
      ],
      "metadata": {
        "id": "jzM3OCCxnskr"
      },
      "execution_count": null,
      "outputs": []
    },
    {
      "cell_type": "code",
      "source": [
        "list_of_files = os.listdir('sample_data')"
      ],
      "metadata": {
        "id": "KoZcJxOXqfrb"
      },
      "execution_count": null,
      "outputs": []
    },
    {
      "cell_type": "code",
      "source": [
        "list_of_files"
      ],
      "metadata": {
        "colab": {
          "base_uri": "https://localhost:8080/"
        },
        "id": "b6bB5LmJqkM9",
        "outputId": "952fdedc-a877-43e6-e8a5-1525f0d7f79d"
      },
      "execution_count": null,
      "outputs": [
        {
          "output_type": "execute_result",
          "data": {
            "text/plain": [
              "['anscombe.json',\n",
              " 'README.md',\n",
              " 'california_housing_test.csv',\n",
              " 'mnist_test.csv',\n",
              " 'mnist_train_small.csv',\n",
              " 'california_housing_train.csv']"
            ]
          },
          "metadata": {},
          "execution_count": 101
        }
      ]
    },
    {
      "cell_type": "code",
      "source": [
        "f = open('sample_data/' + list_of_files[0])"
      ],
      "metadata": {
        "id": "-41NMw57qnoS"
      },
      "execution_count": null,
      "outputs": []
    },
    {
      "cell_type": "code",
      "source": [
        "f.readline()"
      ],
      "metadata": {
        "colab": {
          "base_uri": "https://localhost:8080/",
          "height": 36
        },
        "id": "rTkwgB44qy_O",
        "outputId": "9f899383-8d18-4696-ad6e-fd5787c2d742"
      },
      "execution_count": null,
      "outputs": [
        {
          "output_type": "execute_result",
          "data": {
            "text/plain": [
              "'  {\"Series\":\"I\", \"X\":14.0, \"Y\":9.96},\\n'"
            ],
            "application/vnd.google.colaboratory.intrinsic+json": {
              "type": "string"
            }
          },
          "metadata": {},
          "execution_count": 110
        }
      ]
    },
    {
      "cell_type": "code",
      "source": [
        "for line in f:\n",
        "    print(line)"
      ],
      "metadata": {
        "colab": {
          "base_uri": "https://localhost:8080/"
        },
        "collapsed": true,
        "id": "FoYz9nUwrEyZ",
        "outputId": "207930f3-2523-4789-c7cd-cef73b6790c4"
      },
      "execution_count": null,
      "outputs": [
        {
          "output_type": "stream",
          "name": "stdout",
          "text": [
            "  {\"Series\":\"I\", \"X\":6.0, \"Y\":7.24},\n",
            "\n",
            "  {\"Series\":\"I\", \"X\":4.0, \"Y\":4.26},\n",
            "\n",
            "  {\"Series\":\"I\", \"X\":12.0, \"Y\":10.84},\n",
            "\n",
            "  {\"Series\":\"I\", \"X\":7.0, \"Y\":4.81},\n",
            "\n",
            "  {\"Series\":\"I\", \"X\":5.0, \"Y\":5.68},\n",
            "\n",
            "\n",
            "\n",
            "  {\"Series\":\"II\", \"X\":10.0, \"Y\":9.14},\n",
            "\n",
            "  {\"Series\":\"II\", \"X\":8.0, \"Y\":8.14},\n",
            "\n",
            "  {\"Series\":\"II\", \"X\":13.0, \"Y\":8.74},\n",
            "\n",
            "  {\"Series\":\"II\", \"X\":9.0, \"Y\":8.77},\n",
            "\n",
            "  {\"Series\":\"II\", \"X\":11.0, \"Y\":9.26},\n",
            "\n",
            "  {\"Series\":\"II\", \"X\":14.0, \"Y\":8.10},\n",
            "\n",
            "  {\"Series\":\"II\", \"X\":6.0, \"Y\":6.13},\n",
            "\n",
            "  {\"Series\":\"II\", \"X\":4.0, \"Y\":3.10},\n",
            "\n",
            "  {\"Series\":\"II\", \"X\":12.0, \"Y\":9.13},\n",
            "\n",
            "  {\"Series\":\"II\", \"X\":7.0, \"Y\":7.26},\n",
            "\n",
            "  {\"Series\":\"II\", \"X\":5.0, \"Y\":4.74},\n",
            "\n",
            "\n",
            "\n",
            "  {\"Series\":\"III\", \"X\":10.0, \"Y\":7.46},\n",
            "\n",
            "  {\"Series\":\"III\", \"X\":8.0, \"Y\":6.77},\n",
            "\n",
            "  {\"Series\":\"III\", \"X\":13.0, \"Y\":12.74},\n",
            "\n",
            "  {\"Series\":\"III\", \"X\":9.0, \"Y\":7.11},\n",
            "\n",
            "  {\"Series\":\"III\", \"X\":11.0, \"Y\":7.81},\n",
            "\n",
            "  {\"Series\":\"III\", \"X\":14.0, \"Y\":8.84},\n",
            "\n",
            "  {\"Series\":\"III\", \"X\":6.0, \"Y\":6.08},\n",
            "\n",
            "  {\"Series\":\"III\", \"X\":4.0, \"Y\":5.39},\n",
            "\n",
            "  {\"Series\":\"III\", \"X\":12.0, \"Y\":8.15},\n",
            "\n",
            "  {\"Series\":\"III\", \"X\":7.0, \"Y\":6.42},\n",
            "\n",
            "  {\"Series\":\"III\", \"X\":5.0, \"Y\":5.73},\n",
            "\n",
            "\n",
            "\n",
            "  {\"Series\":\"IV\", \"X\":8.0, \"Y\":6.58},\n",
            "\n",
            "  {\"Series\":\"IV\", \"X\":8.0, \"Y\":5.76},\n",
            "\n",
            "  {\"Series\":\"IV\", \"X\":8.0, \"Y\":7.71},\n",
            "\n",
            "  {\"Series\":\"IV\", \"X\":8.0, \"Y\":8.84},\n",
            "\n",
            "  {\"Series\":\"IV\", \"X\":8.0, \"Y\":8.47},\n",
            "\n",
            "  {\"Series\":\"IV\", \"X\":8.0, \"Y\":7.04},\n",
            "\n",
            "  {\"Series\":\"IV\", \"X\":8.0, \"Y\":5.25},\n",
            "\n",
            "  {\"Series\":\"IV\", \"X\":19.0, \"Y\":12.50},\n",
            "\n",
            "  {\"Series\":\"IV\", \"X\":8.0, \"Y\":5.56},\n",
            "\n",
            "  {\"Series\":\"IV\", \"X\":8.0, \"Y\":7.91},\n",
            "\n",
            "  {\"Series\":\"IV\", \"X\":8.0, \"Y\":6.89}\n",
            "\n",
            "]\n",
            "\n"
          ]
        }
      ]
    },
    {
      "cell_type": "code",
      "source": [
        "f.readline()"
      ],
      "metadata": {
        "colab": {
          "base_uri": "https://localhost:8080/",
          "height": 36
        },
        "id": "9TgOvR-2rMxe",
        "outputId": "34abc470-48fb-4447-91b4-7db423ad11da"
      },
      "execution_count": null,
      "outputs": [
        {
          "output_type": "execute_result",
          "data": {
            "text/plain": [
              "''"
            ],
            "application/vnd.google.colaboratory.intrinsic+json": {
              "type": "string"
            }
          },
          "metadata": {},
          "execution_count": 115
        }
      ]
    },
    {
      "cell_type": "code",
      "source": [
        "f.close()"
      ],
      "metadata": {
        "id": "RPRUX7JYrbq_"
      },
      "execution_count": null,
      "outputs": []
    },
    {
      "cell_type": "code",
      "source": [
        "f.readline()"
      ],
      "metadata": {
        "colab": {
          "base_uri": "https://localhost:8080/",
          "height": 144
        },
        "id": "LbfX5Ia8rfkH",
        "outputId": "b2312d28-90f3-4127-a869-4b5aaa7e7b21"
      },
      "execution_count": null,
      "outputs": [
        {
          "output_type": "error",
          "ename": "ValueError",
          "evalue": "I/O operation on closed file.",
          "traceback": [
            "\u001b[0;31m---------------------------------------------------------------------------\u001b[0m",
            "\u001b[0;31mValueError\u001b[0m                                Traceback (most recent call last)",
            "\u001b[0;32m<ipython-input-117-7e1d2e12b839>\u001b[0m in \u001b[0;36m<cell line: 1>\u001b[0;34m()\u001b[0m\n\u001b[0;32m----> 1\u001b[0;31m \u001b[0mf\u001b[0m\u001b[0;34m.\u001b[0m\u001b[0mreadline\u001b[0m\u001b[0;34m(\u001b[0m\u001b[0;34m)\u001b[0m\u001b[0;34m\u001b[0m\u001b[0;34m\u001b[0m\u001b[0m\n\u001b[0m",
            "\u001b[0;31mValueError\u001b[0m: I/O operation on closed file."
          ]
        }
      ]
    },
    {
      "cell_type": "code",
      "source": [
        "def read_lines(filename):\n",
        "    f = open(filename)\n",
        "\n",
        "    try:\n",
        "        list_of_lines = []\n",
        "        for line in f:\n",
        "            list_of_lines.append(line)\n",
        "\n",
        "        return list_of_lines\n",
        "\n",
        "    except:\n",
        "        print('exception happened')\n",
        "\n",
        "    finally:\n",
        "        f.close()"
      ],
      "metadata": {
        "id": "kWBV-l5VrmJY"
      },
      "execution_count": null,
      "outputs": []
    },
    {
      "cell_type": "code",
      "source": [
        "read_lines('sample_data/' + list_of_files[0])"
      ],
      "metadata": {
        "colab": {
          "base_uri": "https://localhost:8080/"
        },
        "id": "THKJMCnZsYb-",
        "outputId": "f27dcc90-5220-4108-a697-b6ed79bc90cd"
      },
      "execution_count": null,
      "outputs": [
        {
          "output_type": "execute_result",
          "data": {
            "text/plain": [
              "['[\\n',\n",
              " '  {\"Series\":\"I\", \"X\":10.0, \"Y\":8.04},\\n',\n",
              " '  {\"Series\":\"I\", \"X\":8.0, \"Y\":6.95},\\n',\n",
              " '  {\"Series\":\"I\", \"X\":13.0, \"Y\":7.58},\\n',\n",
              " '  {\"Series\":\"I\", \"X\":9.0, \"Y\":8.81},\\n',\n",
              " '  {\"Series\":\"I\", \"X\":11.0, \"Y\":8.33},\\n',\n",
              " '  {\"Series\":\"I\", \"X\":14.0, \"Y\":9.96},\\n',\n",
              " '  {\"Series\":\"I\", \"X\":6.0, \"Y\":7.24},\\n',\n",
              " '  {\"Series\":\"I\", \"X\":4.0, \"Y\":4.26},\\n',\n",
              " '  {\"Series\":\"I\", \"X\":12.0, \"Y\":10.84},\\n',\n",
              " '  {\"Series\":\"I\", \"X\":7.0, \"Y\":4.81},\\n',\n",
              " '  {\"Series\":\"I\", \"X\":5.0, \"Y\":5.68},\\n',\n",
              " '\\n',\n",
              " '  {\"Series\":\"II\", \"X\":10.0, \"Y\":9.14},\\n',\n",
              " '  {\"Series\":\"II\", \"X\":8.0, \"Y\":8.14},\\n',\n",
              " '  {\"Series\":\"II\", \"X\":13.0, \"Y\":8.74},\\n',\n",
              " '  {\"Series\":\"II\", \"X\":9.0, \"Y\":8.77},\\n',\n",
              " '  {\"Series\":\"II\", \"X\":11.0, \"Y\":9.26},\\n',\n",
              " '  {\"Series\":\"II\", \"X\":14.0, \"Y\":8.10},\\n',\n",
              " '  {\"Series\":\"II\", \"X\":6.0, \"Y\":6.13},\\n',\n",
              " '  {\"Series\":\"II\", \"X\":4.0, \"Y\":3.10},\\n',\n",
              " '  {\"Series\":\"II\", \"X\":12.0, \"Y\":9.13},\\n',\n",
              " '  {\"Series\":\"II\", \"X\":7.0, \"Y\":7.26},\\n',\n",
              " '  {\"Series\":\"II\", \"X\":5.0, \"Y\":4.74},\\n',\n",
              " '\\n',\n",
              " '  {\"Series\":\"III\", \"X\":10.0, \"Y\":7.46},\\n',\n",
              " '  {\"Series\":\"III\", \"X\":8.0, \"Y\":6.77},\\n',\n",
              " '  {\"Series\":\"III\", \"X\":13.0, \"Y\":12.74},\\n',\n",
              " '  {\"Series\":\"III\", \"X\":9.0, \"Y\":7.11},\\n',\n",
              " '  {\"Series\":\"III\", \"X\":11.0, \"Y\":7.81},\\n',\n",
              " '  {\"Series\":\"III\", \"X\":14.0, \"Y\":8.84},\\n',\n",
              " '  {\"Series\":\"III\", \"X\":6.0, \"Y\":6.08},\\n',\n",
              " '  {\"Series\":\"III\", \"X\":4.0, \"Y\":5.39},\\n',\n",
              " '  {\"Series\":\"III\", \"X\":12.0, \"Y\":8.15},\\n',\n",
              " '  {\"Series\":\"III\", \"X\":7.0, \"Y\":6.42},\\n',\n",
              " '  {\"Series\":\"III\", \"X\":5.0, \"Y\":5.73},\\n',\n",
              " '\\n',\n",
              " '  {\"Series\":\"IV\", \"X\":8.0, \"Y\":6.58},\\n',\n",
              " '  {\"Series\":\"IV\", \"X\":8.0, \"Y\":5.76},\\n',\n",
              " '  {\"Series\":\"IV\", \"X\":8.0, \"Y\":7.71},\\n',\n",
              " '  {\"Series\":\"IV\", \"X\":8.0, \"Y\":8.84},\\n',\n",
              " '  {\"Series\":\"IV\", \"X\":8.0, \"Y\":8.47},\\n',\n",
              " '  {\"Series\":\"IV\", \"X\":8.0, \"Y\":7.04},\\n',\n",
              " '  {\"Series\":\"IV\", \"X\":8.0, \"Y\":5.25},\\n',\n",
              " '  {\"Series\":\"IV\", \"X\":19.0, \"Y\":12.50},\\n',\n",
              " '  {\"Series\":\"IV\", \"X\":8.0, \"Y\":5.56},\\n',\n",
              " '  {\"Series\":\"IV\", \"X\":8.0, \"Y\":7.91},\\n',\n",
              " '  {\"Series\":\"IV\", \"X\":8.0, \"Y\":6.89}\\n',\n",
              " ']\\n']"
            ]
          },
          "metadata": {},
          "execution_count": 120
        }
      ]
    },
    {
      "cell_type": "code",
      "source": [
        "with open('sample_data/' + list_of_files[0]) as f:\n",
        "    for line in f:\n",
        "        print(line)\n",
        "\n",
        "f.readline()"
      ],
      "metadata": {
        "colab": {
          "base_uri": "https://localhost:8080/",
          "height": 1000
        },
        "id": "yXRzW-Jrsms4",
        "outputId": "f7aeb753-c393-4123-e5a3-2c371e479bb3"
      },
      "execution_count": null,
      "outputs": [
        {
          "output_type": "stream",
          "name": "stdout",
          "text": [
            "[\n",
            "\n",
            "  {\"Series\":\"I\", \"X\":10.0, \"Y\":8.04},\n",
            "\n",
            "  {\"Series\":\"I\", \"X\":8.0, \"Y\":6.95},\n",
            "\n",
            "  {\"Series\":\"I\", \"X\":13.0, \"Y\":7.58},\n",
            "\n",
            "  {\"Series\":\"I\", \"X\":9.0, \"Y\":8.81},\n",
            "\n",
            "  {\"Series\":\"I\", \"X\":11.0, \"Y\":8.33},\n",
            "\n",
            "  {\"Series\":\"I\", \"X\":14.0, \"Y\":9.96},\n",
            "\n",
            "  {\"Series\":\"I\", \"X\":6.0, \"Y\":7.24},\n",
            "\n",
            "  {\"Series\":\"I\", \"X\":4.0, \"Y\":4.26},\n",
            "\n",
            "  {\"Series\":\"I\", \"X\":12.0, \"Y\":10.84},\n",
            "\n",
            "  {\"Series\":\"I\", \"X\":7.0, \"Y\":4.81},\n",
            "\n",
            "  {\"Series\":\"I\", \"X\":5.0, \"Y\":5.68},\n",
            "\n",
            "\n",
            "\n",
            "  {\"Series\":\"II\", \"X\":10.0, \"Y\":9.14},\n",
            "\n",
            "  {\"Series\":\"II\", \"X\":8.0, \"Y\":8.14},\n",
            "\n",
            "  {\"Series\":\"II\", \"X\":13.0, \"Y\":8.74},\n",
            "\n",
            "  {\"Series\":\"II\", \"X\":9.0, \"Y\":8.77},\n",
            "\n",
            "  {\"Series\":\"II\", \"X\":11.0, \"Y\":9.26},\n",
            "\n",
            "  {\"Series\":\"II\", \"X\":14.0, \"Y\":8.10},\n",
            "\n",
            "  {\"Series\":\"II\", \"X\":6.0, \"Y\":6.13},\n",
            "\n",
            "  {\"Series\":\"II\", \"X\":4.0, \"Y\":3.10},\n",
            "\n",
            "  {\"Series\":\"II\", \"X\":12.0, \"Y\":9.13},\n",
            "\n",
            "  {\"Series\":\"II\", \"X\":7.0, \"Y\":7.26},\n",
            "\n",
            "  {\"Series\":\"II\", \"X\":5.0, \"Y\":4.74},\n",
            "\n",
            "\n",
            "\n",
            "  {\"Series\":\"III\", \"X\":10.0, \"Y\":7.46},\n",
            "\n",
            "  {\"Series\":\"III\", \"X\":8.0, \"Y\":6.77},\n",
            "\n",
            "  {\"Series\":\"III\", \"X\":13.0, \"Y\":12.74},\n",
            "\n",
            "  {\"Series\":\"III\", \"X\":9.0, \"Y\":7.11},\n",
            "\n",
            "  {\"Series\":\"III\", \"X\":11.0, \"Y\":7.81},\n",
            "\n",
            "  {\"Series\":\"III\", \"X\":14.0, \"Y\":8.84},\n",
            "\n",
            "  {\"Series\":\"III\", \"X\":6.0, \"Y\":6.08},\n",
            "\n",
            "  {\"Series\":\"III\", \"X\":4.0, \"Y\":5.39},\n",
            "\n",
            "  {\"Series\":\"III\", \"X\":12.0, \"Y\":8.15},\n",
            "\n",
            "  {\"Series\":\"III\", \"X\":7.0, \"Y\":6.42},\n",
            "\n",
            "  {\"Series\":\"III\", \"X\":5.0, \"Y\":5.73},\n",
            "\n",
            "\n",
            "\n",
            "  {\"Series\":\"IV\", \"X\":8.0, \"Y\":6.58},\n",
            "\n",
            "  {\"Series\":\"IV\", \"X\":8.0, \"Y\":5.76},\n",
            "\n",
            "  {\"Series\":\"IV\", \"X\":8.0, \"Y\":7.71},\n",
            "\n",
            "  {\"Series\":\"IV\", \"X\":8.0, \"Y\":8.84},\n",
            "\n",
            "  {\"Series\":\"IV\", \"X\":8.0, \"Y\":8.47},\n",
            "\n",
            "  {\"Series\":\"IV\", \"X\":8.0, \"Y\":7.04},\n",
            "\n",
            "  {\"Series\":\"IV\", \"X\":8.0, \"Y\":5.25},\n",
            "\n",
            "  {\"Series\":\"IV\", \"X\":19.0, \"Y\":12.50},\n",
            "\n",
            "  {\"Series\":\"IV\", \"X\":8.0, \"Y\":5.56},\n",
            "\n",
            "  {\"Series\":\"IV\", \"X\":8.0, \"Y\":7.91},\n",
            "\n",
            "  {\"Series\":\"IV\", \"X\":8.0, \"Y\":6.89}\n",
            "\n",
            "]\n",
            "\n"
          ]
        },
        {
          "output_type": "error",
          "ename": "ValueError",
          "evalue": "I/O operation on closed file.",
          "traceback": [
            "\u001b[0;31m---------------------------------------------------------------------------\u001b[0m",
            "\u001b[0;31mValueError\u001b[0m                                Traceback (most recent call last)",
            "\u001b[0;32m<ipython-input-122-39b986553115>\u001b[0m in \u001b[0;36m<cell line: 4>\u001b[0;34m()\u001b[0m\n\u001b[1;32m      2\u001b[0m     \u001b[0;32mfor\u001b[0m \u001b[0mline\u001b[0m \u001b[0;32min\u001b[0m \u001b[0mf\u001b[0m\u001b[0;34m:\u001b[0m\u001b[0;34m\u001b[0m\u001b[0;34m\u001b[0m\u001b[0m\n\u001b[1;32m      3\u001b[0m         \u001b[0mprint\u001b[0m\u001b[0;34m(\u001b[0m\u001b[0mline\u001b[0m\u001b[0;34m)\u001b[0m\u001b[0;34m\u001b[0m\u001b[0;34m\u001b[0m\u001b[0m\n\u001b[0;32m----> 4\u001b[0;31m \u001b[0mf\u001b[0m\u001b[0;34m.\u001b[0m\u001b[0mreadline\u001b[0m\u001b[0;34m(\u001b[0m\u001b[0;34m)\u001b[0m\u001b[0;34m\u001b[0m\u001b[0;34m\u001b[0m\u001b[0m\n\u001b[0m",
            "\u001b[0;31mValueError\u001b[0m: I/O operation on closed file."
          ]
        }
      ]
    },
    {
      "cell_type": "code",
      "source": [
        "import pandas as pd"
      ],
      "metadata": {
        "id": "3RJoxib6tGuz"
      },
      "execution_count": null,
      "outputs": []
    },
    {
      "cell_type": "code",
      "source": [
        "!ls sample_data"
      ],
      "metadata": {
        "colab": {
          "base_uri": "https://localhost:8080/"
        },
        "id": "Sf2_IiEjudWl",
        "outputId": "ce528650-7b20-42f4-abaa-294a829b3f55"
      },
      "execution_count": null,
      "outputs": [
        {
          "output_type": "stream",
          "name": "stdout",
          "text": [
            "anscombe.json\t\t     california_housing_train.csv  mnist_train_small.csv\n",
            "california_housing_test.csv  mnist_test.csv\t\t   README.md\n"
          ]
        }
      ]
    },
    {
      "cell_type": "code",
      "source": [
        "pd.read_csv('sample_data/california_housing_test.csv')"
      ],
      "metadata": {
        "colab": {
          "base_uri": "https://localhost:8080/",
          "height": 685
        },
        "id": "QZkkaTLfukHu",
        "outputId": "cd9f9535-1050-4cb8-840c-00efafd0eda6"
      },
      "execution_count": null,
      "outputs": [
        {
          "output_type": "execute_result",
          "data": {
            "text/plain": [
              "      longitude  latitude  housing_median_age  total_rooms  total_bedrooms  \\\n",
              "0       -122.05     37.37                27.0       3885.0           661.0   \n",
              "1       -118.30     34.26                43.0       1510.0           310.0   \n",
              "2       -117.81     33.78                27.0       3589.0           507.0   \n",
              "3       -118.36     33.82                28.0         67.0            15.0   \n",
              "4       -119.67     36.33                19.0       1241.0           244.0   \n",
              "...         ...       ...                 ...          ...             ...   \n",
              "2995    -119.86     34.42                23.0       1450.0           642.0   \n",
              "2996    -118.14     34.06                27.0       5257.0          1082.0   \n",
              "2997    -119.70     36.30                10.0        956.0           201.0   \n",
              "2998    -117.12     34.10                40.0         96.0            14.0   \n",
              "2999    -119.63     34.42                42.0       1765.0           263.0   \n",
              "\n",
              "      population  households  median_income  median_house_value  \n",
              "0         1537.0       606.0         6.6085            344700.0  \n",
              "1          809.0       277.0         3.5990            176500.0  \n",
              "2         1484.0       495.0         5.7934            270500.0  \n",
              "3           49.0        11.0         6.1359            330000.0  \n",
              "4          850.0       237.0         2.9375             81700.0  \n",
              "...          ...         ...            ...                 ...  \n",
              "2995      1258.0       607.0         1.1790            225000.0  \n",
              "2996      3496.0      1036.0         3.3906            237200.0  \n",
              "2997       693.0       220.0         2.2895             62000.0  \n",
              "2998        46.0        14.0         3.2708            162500.0  \n",
              "2999       753.0       260.0         8.5608            500001.0  \n",
              "\n",
              "[3000 rows x 9 columns]"
            ],
            "text/html": [
              "\n",
              "  <div id=\"df-b83a2258-f460-45a7-846c-2141ec040329\" class=\"colab-df-container\">\n",
              "    <div>\n",
              "<style scoped>\n",
              "    .dataframe tbody tr th:only-of-type {\n",
              "        vertical-align: middle;\n",
              "    }\n",
              "\n",
              "    .dataframe tbody tr th {\n",
              "        vertical-align: top;\n",
              "    }\n",
              "\n",
              "    .dataframe thead th {\n",
              "        text-align: right;\n",
              "    }\n",
              "</style>\n",
              "<table border=\"1\" class=\"dataframe\">\n",
              "  <thead>\n",
              "    <tr style=\"text-align: right;\">\n",
              "      <th></th>\n",
              "      <th>longitude</th>\n",
              "      <th>latitude</th>\n",
              "      <th>housing_median_age</th>\n",
              "      <th>total_rooms</th>\n",
              "      <th>total_bedrooms</th>\n",
              "      <th>population</th>\n",
              "      <th>households</th>\n",
              "      <th>median_income</th>\n",
              "      <th>median_house_value</th>\n",
              "    </tr>\n",
              "  </thead>\n",
              "  <tbody>\n",
              "    <tr>\n",
              "      <th>0</th>\n",
              "      <td>-122.05</td>\n",
              "      <td>37.37</td>\n",
              "      <td>27.0</td>\n",
              "      <td>3885.0</td>\n",
              "      <td>661.0</td>\n",
              "      <td>1537.0</td>\n",
              "      <td>606.0</td>\n",
              "      <td>6.6085</td>\n",
              "      <td>344700.0</td>\n",
              "    </tr>\n",
              "    <tr>\n",
              "      <th>1</th>\n",
              "      <td>-118.30</td>\n",
              "      <td>34.26</td>\n",
              "      <td>43.0</td>\n",
              "      <td>1510.0</td>\n",
              "      <td>310.0</td>\n",
              "      <td>809.0</td>\n",
              "      <td>277.0</td>\n",
              "      <td>3.5990</td>\n",
              "      <td>176500.0</td>\n",
              "    </tr>\n",
              "    <tr>\n",
              "      <th>2</th>\n",
              "      <td>-117.81</td>\n",
              "      <td>33.78</td>\n",
              "      <td>27.0</td>\n",
              "      <td>3589.0</td>\n",
              "      <td>507.0</td>\n",
              "      <td>1484.0</td>\n",
              "      <td>495.0</td>\n",
              "      <td>5.7934</td>\n",
              "      <td>270500.0</td>\n",
              "    </tr>\n",
              "    <tr>\n",
              "      <th>3</th>\n",
              "      <td>-118.36</td>\n",
              "      <td>33.82</td>\n",
              "      <td>28.0</td>\n",
              "      <td>67.0</td>\n",
              "      <td>15.0</td>\n",
              "      <td>49.0</td>\n",
              "      <td>11.0</td>\n",
              "      <td>6.1359</td>\n",
              "      <td>330000.0</td>\n",
              "    </tr>\n",
              "    <tr>\n",
              "      <th>4</th>\n",
              "      <td>-119.67</td>\n",
              "      <td>36.33</td>\n",
              "      <td>19.0</td>\n",
              "      <td>1241.0</td>\n",
              "      <td>244.0</td>\n",
              "      <td>850.0</td>\n",
              "      <td>237.0</td>\n",
              "      <td>2.9375</td>\n",
              "      <td>81700.0</td>\n",
              "    </tr>\n",
              "    <tr>\n",
              "      <th>...</th>\n",
              "      <td>...</td>\n",
              "      <td>...</td>\n",
              "      <td>...</td>\n",
              "      <td>...</td>\n",
              "      <td>...</td>\n",
              "      <td>...</td>\n",
              "      <td>...</td>\n",
              "      <td>...</td>\n",
              "      <td>...</td>\n",
              "    </tr>\n",
              "    <tr>\n",
              "      <th>2995</th>\n",
              "      <td>-119.86</td>\n",
              "      <td>34.42</td>\n",
              "      <td>23.0</td>\n",
              "      <td>1450.0</td>\n",
              "      <td>642.0</td>\n",
              "      <td>1258.0</td>\n",
              "      <td>607.0</td>\n",
              "      <td>1.1790</td>\n",
              "      <td>225000.0</td>\n",
              "    </tr>\n",
              "    <tr>\n",
              "      <th>2996</th>\n",
              "      <td>-118.14</td>\n",
              "      <td>34.06</td>\n",
              "      <td>27.0</td>\n",
              "      <td>5257.0</td>\n",
              "      <td>1082.0</td>\n",
              "      <td>3496.0</td>\n",
              "      <td>1036.0</td>\n",
              "      <td>3.3906</td>\n",
              "      <td>237200.0</td>\n",
              "    </tr>\n",
              "    <tr>\n",
              "      <th>2997</th>\n",
              "      <td>-119.70</td>\n",
              "      <td>36.30</td>\n",
              "      <td>10.0</td>\n",
              "      <td>956.0</td>\n",
              "      <td>201.0</td>\n",
              "      <td>693.0</td>\n",
              "      <td>220.0</td>\n",
              "      <td>2.2895</td>\n",
              "      <td>62000.0</td>\n",
              "    </tr>\n",
              "    <tr>\n",
              "      <th>2998</th>\n",
              "      <td>-117.12</td>\n",
              "      <td>34.10</td>\n",
              "      <td>40.0</td>\n",
              "      <td>96.0</td>\n",
              "      <td>14.0</td>\n",
              "      <td>46.0</td>\n",
              "      <td>14.0</td>\n",
              "      <td>3.2708</td>\n",
              "      <td>162500.0</td>\n",
              "    </tr>\n",
              "    <tr>\n",
              "      <th>2999</th>\n",
              "      <td>-119.63</td>\n",
              "      <td>34.42</td>\n",
              "      <td>42.0</td>\n",
              "      <td>1765.0</td>\n",
              "      <td>263.0</td>\n",
              "      <td>753.0</td>\n",
              "      <td>260.0</td>\n",
              "      <td>8.5608</td>\n",
              "      <td>500001.0</td>\n",
              "    </tr>\n",
              "  </tbody>\n",
              "</table>\n",
              "<p>3000 rows × 9 columns</p>\n",
              "</div>\n",
              "    <div class=\"colab-df-buttons\">\n",
              "\n",
              "  <div class=\"colab-df-container\">\n",
              "    <button class=\"colab-df-convert\" onclick=\"convertToInteractive('df-b83a2258-f460-45a7-846c-2141ec040329')\"\n",
              "            title=\"Convert this dataframe to an interactive table.\"\n",
              "            style=\"display:none;\">\n",
              "\n",
              "  <svg xmlns=\"http://www.w3.org/2000/svg\" height=\"24px\" viewBox=\"0 -960 960 960\">\n",
              "    <path d=\"M120-120v-720h720v720H120Zm60-500h600v-160H180v160Zm220 220h160v-160H400v160Zm0 220h160v-160H400v160ZM180-400h160v-160H180v160Zm440 0h160v-160H620v160ZM180-180h160v-160H180v160Zm440 0h160v-160H620v160Z\"/>\n",
              "  </svg>\n",
              "    </button>\n",
              "\n",
              "  <style>\n",
              "    .colab-df-container {\n",
              "      display:flex;\n",
              "      gap: 12px;\n",
              "    }\n",
              "\n",
              "    .colab-df-convert {\n",
              "      background-color: #E8F0FE;\n",
              "      border: none;\n",
              "      border-radius: 50%;\n",
              "      cursor: pointer;\n",
              "      display: none;\n",
              "      fill: #1967D2;\n",
              "      height: 32px;\n",
              "      padding: 0 0 0 0;\n",
              "      width: 32px;\n",
              "    }\n",
              "\n",
              "    .colab-df-convert:hover {\n",
              "      background-color: #E2EBFA;\n",
              "      box-shadow: 0px 1px 2px rgba(60, 64, 67, 0.3), 0px 1px 3px 1px rgba(60, 64, 67, 0.15);\n",
              "      fill: #174EA6;\n",
              "    }\n",
              "\n",
              "    .colab-df-buttons div {\n",
              "      margin-bottom: 4px;\n",
              "    }\n",
              "\n",
              "    [theme=dark] .colab-df-convert {\n",
              "      background-color: #3B4455;\n",
              "      fill: #D2E3FC;\n",
              "    }\n",
              "\n",
              "    [theme=dark] .colab-df-convert:hover {\n",
              "      background-color: #434B5C;\n",
              "      box-shadow: 0px 1px 3px 1px rgba(0, 0, 0, 0.15);\n",
              "      filter: drop-shadow(0px 1px 2px rgba(0, 0, 0, 0.3));\n",
              "      fill: #FFFFFF;\n",
              "    }\n",
              "  </style>\n",
              "\n",
              "    <script>\n",
              "      const buttonEl =\n",
              "        document.querySelector('#df-b83a2258-f460-45a7-846c-2141ec040329 button.colab-df-convert');\n",
              "      buttonEl.style.display =\n",
              "        google.colab.kernel.accessAllowed ? 'block' : 'none';\n",
              "\n",
              "      async function convertToInteractive(key) {\n",
              "        const element = document.querySelector('#df-b83a2258-f460-45a7-846c-2141ec040329');\n",
              "        const dataTable =\n",
              "          await google.colab.kernel.invokeFunction('convertToInteractive',\n",
              "                                                    [key], {});\n",
              "        if (!dataTable) return;\n",
              "\n",
              "        const docLinkHtml = 'Like what you see? Visit the ' +\n",
              "          '<a target=\"_blank\" href=https://colab.research.google.com/notebooks/data_table.ipynb>data table notebook</a>'\n",
              "          + ' to learn more about interactive tables.';\n",
              "        element.innerHTML = '';\n",
              "        dataTable['output_type'] = 'display_data';\n",
              "        await google.colab.output.renderOutput(dataTable, element);\n",
              "        const docLink = document.createElement('div');\n",
              "        docLink.innerHTML = docLinkHtml;\n",
              "        element.appendChild(docLink);\n",
              "      }\n",
              "    </script>\n",
              "  </div>\n",
              "\n",
              "\n",
              "<div id=\"df-07e7ec2d-ce28-444b-ae34-3fd10d0ca631\">\n",
              "  <button class=\"colab-df-quickchart\" onclick=\"quickchart('df-07e7ec2d-ce28-444b-ae34-3fd10d0ca631')\"\n",
              "            title=\"Suggest charts\"\n",
              "            style=\"display:none;\">\n",
              "\n",
              "<svg xmlns=\"http://www.w3.org/2000/svg\" height=\"24px\"viewBox=\"0 0 24 24\"\n",
              "     width=\"24px\">\n",
              "    <g>\n",
              "        <path d=\"M19 3H5c-1.1 0-2 .9-2 2v14c0 1.1.9 2 2 2h14c1.1 0 2-.9 2-2V5c0-1.1-.9-2-2-2zM9 17H7v-7h2v7zm4 0h-2V7h2v10zm4 0h-2v-4h2v4z\"/>\n",
              "    </g>\n",
              "</svg>\n",
              "  </button>\n",
              "\n",
              "<style>\n",
              "  .colab-df-quickchart {\n",
              "      --bg-color: #E8F0FE;\n",
              "      --fill-color: #1967D2;\n",
              "      --hover-bg-color: #E2EBFA;\n",
              "      --hover-fill-color: #174EA6;\n",
              "      --disabled-fill-color: #AAA;\n",
              "      --disabled-bg-color: #DDD;\n",
              "  }\n",
              "\n",
              "  [theme=dark] .colab-df-quickchart {\n",
              "      --bg-color: #3B4455;\n",
              "      --fill-color: #D2E3FC;\n",
              "      --hover-bg-color: #434B5C;\n",
              "      --hover-fill-color: #FFFFFF;\n",
              "      --disabled-bg-color: #3B4455;\n",
              "      --disabled-fill-color: #666;\n",
              "  }\n",
              "\n",
              "  .colab-df-quickchart {\n",
              "    background-color: var(--bg-color);\n",
              "    border: none;\n",
              "    border-radius: 50%;\n",
              "    cursor: pointer;\n",
              "    display: none;\n",
              "    fill: var(--fill-color);\n",
              "    height: 32px;\n",
              "    padding: 0;\n",
              "    width: 32px;\n",
              "  }\n",
              "\n",
              "  .colab-df-quickchart:hover {\n",
              "    background-color: var(--hover-bg-color);\n",
              "    box-shadow: 0 1px 2px rgba(60, 64, 67, 0.3), 0 1px 3px 1px rgba(60, 64, 67, 0.15);\n",
              "    fill: var(--button-hover-fill-color);\n",
              "  }\n",
              "\n",
              "  .colab-df-quickchart-complete:disabled,\n",
              "  .colab-df-quickchart-complete:disabled:hover {\n",
              "    background-color: var(--disabled-bg-color);\n",
              "    fill: var(--disabled-fill-color);\n",
              "    box-shadow: none;\n",
              "  }\n",
              "\n",
              "  .colab-df-spinner {\n",
              "    border: 2px solid var(--fill-color);\n",
              "    border-color: transparent;\n",
              "    border-bottom-color: var(--fill-color);\n",
              "    animation:\n",
              "      spin 1s steps(1) infinite;\n",
              "  }\n",
              "\n",
              "  @keyframes spin {\n",
              "    0% {\n",
              "      border-color: transparent;\n",
              "      border-bottom-color: var(--fill-color);\n",
              "      border-left-color: var(--fill-color);\n",
              "    }\n",
              "    20% {\n",
              "      border-color: transparent;\n",
              "      border-left-color: var(--fill-color);\n",
              "      border-top-color: var(--fill-color);\n",
              "    }\n",
              "    30% {\n",
              "      border-color: transparent;\n",
              "      border-left-color: var(--fill-color);\n",
              "      border-top-color: var(--fill-color);\n",
              "      border-right-color: var(--fill-color);\n",
              "    }\n",
              "    40% {\n",
              "      border-color: transparent;\n",
              "      border-right-color: var(--fill-color);\n",
              "      border-top-color: var(--fill-color);\n",
              "    }\n",
              "    60% {\n",
              "      border-color: transparent;\n",
              "      border-right-color: var(--fill-color);\n",
              "    }\n",
              "    80% {\n",
              "      border-color: transparent;\n",
              "      border-right-color: var(--fill-color);\n",
              "      border-bottom-color: var(--fill-color);\n",
              "    }\n",
              "    90% {\n",
              "      border-color: transparent;\n",
              "      border-bottom-color: var(--fill-color);\n",
              "    }\n",
              "  }\n",
              "</style>\n",
              "\n",
              "  <script>\n",
              "    async function quickchart(key) {\n",
              "      const quickchartButtonEl =\n",
              "        document.querySelector('#' + key + ' button');\n",
              "      quickchartButtonEl.disabled = true;  // To prevent multiple clicks.\n",
              "      quickchartButtonEl.classList.add('colab-df-spinner');\n",
              "      try {\n",
              "        const charts = await google.colab.kernel.invokeFunction(\n",
              "            'suggestCharts', [key], {});\n",
              "      } catch (error) {\n",
              "        console.error('Error during call to suggestCharts:', error);\n",
              "      }\n",
              "      quickchartButtonEl.classList.remove('colab-df-spinner');\n",
              "      quickchartButtonEl.classList.add('colab-df-quickchart-complete');\n",
              "    }\n",
              "    (() => {\n",
              "      let quickchartButtonEl =\n",
              "        document.querySelector('#df-07e7ec2d-ce28-444b-ae34-3fd10d0ca631 button');\n",
              "      quickchartButtonEl.style.display =\n",
              "        google.colab.kernel.accessAllowed ? 'block' : 'none';\n",
              "    })();\n",
              "  </script>\n",
              "</div>\n",
              "\n",
              "    </div>\n",
              "  </div>\n"
            ],
            "application/vnd.google.colaboratory.intrinsic+json": {
              "type": "dataframe",
              "summary": "{\n  \"name\": \"pd\",\n  \"rows\": 3000,\n  \"fields\": [\n    {\n      \"column\": \"longitude\",\n      \"properties\": {\n        \"dtype\": \"number\",\n        \"std\": 1.9949362939550161,\n        \"min\": -124.18,\n        \"max\": -114.49,\n        \"num_unique_values\": 607,\n        \"samples\": [\n          -121.15,\n          -121.46,\n          -121.02\n        ],\n        \"semantic_type\": \"\",\n        \"description\": \"\"\n      }\n    },\n    {\n      \"column\": \"latitude\",\n      \"properties\": {\n        \"dtype\": \"number\",\n        \"std\": 2.1296695233438325,\n        \"min\": 32.56,\n        \"max\": 41.92,\n        \"num_unique_values\": 587,\n        \"samples\": [\n          40.17,\n          33.69,\n          39.61\n        ],\n        \"semantic_type\": \"\",\n        \"description\": \"\"\n      }\n    },\n    {\n      \"column\": \"housing_median_age\",\n      \"properties\": {\n        \"dtype\": \"number\",\n        \"std\": 12.555395554955755,\n        \"min\": 1.0,\n        \"max\": 52.0,\n        \"num_unique_values\": 52,\n        \"samples\": [\n          14.0,\n          49.0,\n          7.0\n        ],\n        \"semantic_type\": \"\",\n        \"description\": \"\"\n      }\n    },\n    {\n      \"column\": \"total_rooms\",\n      \"properties\": {\n        \"dtype\": \"number\",\n        \"std\": 2155.59333162558,\n        \"min\": 6.0,\n        \"max\": 30450.0,\n        \"num_unique_values\": 2215,\n        \"samples\": [\n          1961.0,\n          1807.0,\n          680.0\n        ],\n        \"semantic_type\": \"\",\n        \"description\": \"\"\n      }\n    },\n    {\n      \"column\": \"total_bedrooms\",\n      \"properties\": {\n        \"dtype\": \"number\",\n        \"std\": 415.6543681363232,\n        \"min\": 2.0,\n        \"max\": 5419.0,\n        \"num_unique_values\": 1055,\n        \"samples\": [\n          532.0,\n          764.0,\n          2162.0\n        ],\n        \"semantic_type\": \"\",\n        \"description\": \"\"\n      }\n    },\n    {\n      \"column\": \"population\",\n      \"properties\": {\n        \"dtype\": \"number\",\n        \"std\": 1030.5430124122422,\n        \"min\": 5.0,\n        \"max\": 11935.0,\n        \"num_unique_values\": 1802,\n        \"samples\": [\n          947.0,\n          1140.0,\n          2019.0\n        ],\n        \"semantic_type\": \"\",\n        \"description\": \"\"\n      }\n    },\n    {\n      \"column\": \"households\",\n      \"properties\": {\n        \"dtype\": \"number\",\n        \"std\": 365.42270980552604,\n        \"min\": 2.0,\n        \"max\": 4930.0,\n        \"num_unique_values\": 1026,\n        \"samples\": [\n          646.0,\n          629.0,\n          504.0\n        ],\n        \"semantic_type\": \"\",\n        \"description\": \"\"\n      }\n    },\n    {\n      \"column\": \"median_income\",\n      \"properties\": {\n        \"dtype\": \"number\",\n        \"std\": 1.854511729691481,\n        \"min\": 0.4999,\n        \"max\": 15.0001,\n        \"num_unique_values\": 2578,\n        \"samples\": [\n          1.725,\n          0.7403,\n          2.6964\n        ],\n        \"semantic_type\": \"\",\n        \"description\": \"\"\n      }\n    },\n    {\n      \"column\": \"median_house_value\",\n      \"properties\": {\n        \"dtype\": \"number\",\n        \"std\": 113119.68746964433,\n        \"min\": 22500.0,\n        \"max\": 500001.0,\n        \"num_unique_values\": 1784,\n        \"samples\": [\n          71900.0,\n          63000.0,\n          115800.0\n        ],\n        \"semantic_type\": \"\",\n        \"description\": \"\"\n      }\n    }\n  ]\n}"
            }
          },
          "metadata": {},
          "execution_count": 125
        }
      ]
    },
    {
      "cell_type": "code",
      "source": [],
      "metadata": {
        "id": "QQMlqvdzuxIP"
      },
      "execution_count": null,
      "outputs": []
    },
    {
      "cell_type": "markdown",
      "metadata": {
        "id": "H73wkhzpdDMD"
      },
      "source": [
        "- Errors\n",
        "    - read errors\n",
        "    - manage exceptions\n",
        "    - generate exceptions\n",
        "- Read files"
      ]
    },
    {
      "cell_type": "markdown",
      "metadata": {
        "id": "DLq5-bNEBN7D"
      },
      "source": [
        "#Basic Exercises"
      ]
    },
    {
      "cell_type": "markdown",
      "source": [
        "Ex: Write a function that returns True if all the elements in the input list are even"
      ],
      "metadata": {
        "id": "OMPyHa_tnXTz"
      }
    },
    {
      "cell_type": "code",
      "source": [
        "#done"
      ],
      "metadata": {
        "id": "X8ww5mE4vBAO"
      },
      "execution_count": null,
      "outputs": []
    },
    {
      "cell_type": "markdown",
      "source": [
        "**Ex: Write a function that returns the maximum value in a list**"
      ],
      "metadata": {
        "id": "DI4EVh1LndiQ"
      }
    },
    {
      "cell_type": "code",
      "source": [
        "def find_maximum(list_of_numbers):\n",
        "    maximum = list_of_numbers[0]\n",
        "    for number in list_of_numbers:\n",
        "        if number > maximum:\n",
        "            maximum = number\n",
        "\n",
        "    return maximum"
      ],
      "metadata": {
        "id": "SRPjp33nvFv1"
      },
      "execution_count": null,
      "outputs": []
    },
    {
      "cell_type": "code",
      "source": [
        "find_maximum([0,-2, 30, -45, 90])"
      ],
      "metadata": {
        "colab": {
          "base_uri": "https://localhost:8080/"
        },
        "id": "UIqcx-pswaB4",
        "outputId": "55072203-e044-4e58-e3a6-9dd94f49175f"
      },
      "execution_count": null,
      "outputs": [
        {
          "output_type": "execute_result",
          "data": {
            "text/plain": [
              "90"
            ]
          },
          "metadata": {},
          "execution_count": 128
        }
      ]
    },
    {
      "cell_type": "code",
      "source": [
        "def find_maximum(list_of_numbers):\n",
        "    sorted_list = sorted(list_of_numbers)\n",
        "    return sorted_list[-1]"
      ],
      "metadata": {
        "id": "NK1yxiDiweSu"
      },
      "execution_count": null,
      "outputs": []
    },
    {
      "cell_type": "code",
      "source": [
        "find_maximum([0,-2, 30, -45, 90])"
      ],
      "metadata": {
        "colab": {
          "base_uri": "https://localhost:8080/"
        },
        "id": "aSDlZQ5wwsey",
        "outputId": "f7daefbf-8944-4dbb-c76b-89225992390c"
      },
      "execution_count": null,
      "outputs": [
        {
          "output_type": "execute_result",
          "data": {
            "text/plain": [
              "90"
            ]
          },
          "metadata": {},
          "execution_count": 132
        }
      ]
    },
    {
      "cell_type": "code",
      "source": [
        "def find_maximum(list_of_numbers):\n",
        "    maximum = 0\n",
        "    for number in list_of_numbers:\n",
        "        if number > maximum:\n",
        "            maximum = number\n",
        "\n",
        "    return maximum"
      ],
      "metadata": {
        "id": "37B3WzOBwyrN"
      },
      "execution_count": null,
      "outputs": []
    },
    {
      "cell_type": "code",
      "source": [
        "find_maximum([-20,-2, -30, -45, -90])"
      ],
      "metadata": {
        "colab": {
          "base_uri": "https://localhost:8080/"
        },
        "id": "mmfLJIunxBTY",
        "outputId": "5f3e679b-bb64-4f34-d4aa-384087995c1d"
      },
      "execution_count": null,
      "outputs": [
        {
          "output_type": "execute_result",
          "data": {
            "text/plain": [
              "0"
            ]
          },
          "metadata": {},
          "execution_count": 137
        }
      ]
    },
    {
      "cell_type": "code",
      "source": [
        "def find_maximum(list_of_numbers):\n",
        "    return max(list_of_numbers)\n"
      ],
      "metadata": {
        "id": "6m6ZZsUaxiKs"
      },
      "execution_count": null,
      "outputs": []
    },
    {
      "cell_type": "code",
      "source": [
        "find_maximum([-20,-2, -30, -45, -90])"
      ],
      "metadata": {
        "colab": {
          "base_uri": "https://localhost:8080/"
        },
        "id": "TjQHfo2txoKC",
        "outputId": "4f0b6c5b-21d5-4941-a7e0-bc33d886906e"
      },
      "execution_count": null,
      "outputs": [
        {
          "output_type": "execute_result",
          "data": {
            "text/plain": [
              "-2"
            ]
          },
          "metadata": {},
          "execution_count": 139
        }
      ]
    },
    {
      "cell_type": "code",
      "source": [
        "find_maximum = lambda x : max(x)"
      ],
      "metadata": {
        "id": "EwfxKR5VxxTJ"
      },
      "execution_count": null,
      "outputs": []
    },
    {
      "cell_type": "code",
      "source": [
        "find_maximum([-20,-2, -30, -45, -90])"
      ],
      "metadata": {
        "id": "SRCMNyEXx1N4",
        "outputId": "3663a7cc-7c59-4489-fe98-31f193f38748",
        "colab": {
          "base_uri": "https://localhost:8080/"
        }
      },
      "execution_count": null,
      "outputs": [
        {
          "output_type": "execute_result",
          "data": {
            "text/plain": [
              "-2"
            ]
          },
          "metadata": {},
          "execution_count": 141
        }
      ]
    },
    {
      "cell_type": "markdown",
      "source": [
        "Ex: Write a function that returns the sum of all values in the list"
      ],
      "metadata": {
        "id": "FMEtK4_GnjeF"
      }
    },
    {
      "cell_type": "markdown",
      "metadata": {
        "id": "EEi2hZC2tvaK"
      },
      "source": [
        "1. Write a function that returns True if all the elements in the input list are even\n",
        "2. Write a function that returns the maximum value in a list\n",
        "2. Write a function that returns the sum of all values in the list\n",
        "2. Write a function that accepts a list of numbers as input and returns an inverted version of the list\n",
        "2. Write a function that returns the first and last elements of a list\n",
        "3. Write a function that, given a, b, c, x as inputs, calculates ax^2 + bx + c\n",
        "4. Write a function that calculates the number of days between two dates. The dates can be tuples\n",
        "5. Write a function that accepts 2 dictionaries as input and returns a single dictionary with the same data (merged)\n",
        "6. Write a function to print the content of a dictionary in order by key\n",
        "7. Write a function to find all keys in the provided dictionary that have the given value\n",
        "8. Write a function to sort a tuple by its float element"
      ]
    },
    {
      "cell_type": "markdown",
      "source": [
        "Ex: Write a function to print the content of a dictionary in order by *key*"
      ],
      "metadata": {
        "id": "3fIeSBpOq_Xj"
      }
    },
    {
      "cell_type": "code",
      "source": [],
      "metadata": {
        "id": "mxtgcaR-dAgM"
      },
      "execution_count": null,
      "outputs": []
    }
  ]
}