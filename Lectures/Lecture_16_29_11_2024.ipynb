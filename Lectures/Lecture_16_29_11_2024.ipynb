{
 "nbformat": 4,
 "nbformat_minor": 0,
 "metadata": {
  "colab": {
   "provenance": [],
   "collapsed_sections": [
    "3MZka_8HcGJj",
    "1MvOjIlsmYYM",
    "gBJOmwKHsdZ2",
    "O6i8FU-DspvN",
    "LpBCwjVQsy_w",
    "tIeEfeRnyHaN",
    "LS0_grDzlzeu",
    "EaEXU0zfc-Xr",
    "8O9-V-GS1Ien",
    "kJt8ZV4WTIjV",
    "dKjfw8DNbKTI",
    "5t-OPNZ2gxEH",
    "KxKot-lXcA-e",
    "kUmSAB7SRVRN",
    "jFqspBp2Yp1m",
    "oI5ZMNfwqBPe",
    "7qnrpZYPhULC",
    "DLq5-bNEBN7D"
   ]
  },
  "kernelspec": {
   "name": "python3",
   "display_name": "Python 3"
  },
  "language_info": {
   "name": "python"
  }
 },
 "cells": [
  {
   "cell_type": "code",
   "source": [
    "#imports\n",
    "import pandas as pd\n",
    "import numpy as np\n",
    "import matplotlib.pyplot as plt"
   ],
   "metadata": {
    "id": "oYC-pshHi3I5",
    "ExecuteTime": {
     "end_time": "2025-06-24T11:45:08.613728Z",
     "start_time": "2025-06-24T11:45:08.611178Z"
    }
   },
   "outputs": [],
   "execution_count": 2
  },
  {
   "cell_type": "markdown",
   "source": [
    "**Ex**: write a function that takes a list of column names and a list of row names in input, and outputs a DataFrame where each element is a concatenation of the respective column name and row name."
   ],
   "metadata": {
    "id": "_gt9_V0wn43O"
   }
  },
  {
   "cell_type": "code",
   "source": [
    "pd.DataFrame({\n",
    "    'col_1':[1,2,3,4],\n",
    "    'col_2':[5,6,7,8]\n",
    "})"
   ],
   "metadata": {
    "colab": {
     "base_uri": "https://localhost:8080/",
     "height": 175
    },
    "id": "eoaz-bJx7c7z",
    "outputId": "3c4b9495-5aac-4b91-8fc9-7e1ee53d8700",
    "ExecuteTime": {
     "end_time": "2025-06-24T11:45:08.641838Z",
     "start_time": "2025-06-24T11:45:08.634876Z"
    }
   },
   "outputs": [
    {
     "data": {
      "text/plain": [
       "   col_1  col_2\n",
       "0      1      5\n",
       "1      2      6\n",
       "2      3      7\n",
       "3      4      8"
      ],
      "text/html": [
       "<div>\n",
       "<style scoped>\n",
       "    .dataframe tbody tr th:only-of-type {\n",
       "        vertical-align: middle;\n",
       "    }\n",
       "\n",
       "    .dataframe tbody tr th {\n",
       "        vertical-align: top;\n",
       "    }\n",
       "\n",
       "    .dataframe thead th {\n",
       "        text-align: right;\n",
       "    }\n",
       "</style>\n",
       "<table border=\"1\" class=\"dataframe\">\n",
       "  <thead>\n",
       "    <tr style=\"text-align: right;\">\n",
       "      <th></th>\n",
       "      <th>col_1</th>\n",
       "      <th>col_2</th>\n",
       "    </tr>\n",
       "  </thead>\n",
       "  <tbody>\n",
       "    <tr>\n",
       "      <th>0</th>\n",
       "      <td>1</td>\n",
       "      <td>5</td>\n",
       "    </tr>\n",
       "    <tr>\n",
       "      <th>1</th>\n",
       "      <td>2</td>\n",
       "      <td>6</td>\n",
       "    </tr>\n",
       "    <tr>\n",
       "      <th>2</th>\n",
       "      <td>3</td>\n",
       "      <td>7</td>\n",
       "    </tr>\n",
       "    <tr>\n",
       "      <th>3</th>\n",
       "      <td>4</td>\n",
       "      <td>8</td>\n",
       "    </tr>\n",
       "  </tbody>\n",
       "</table>\n",
       "</div>"
      ]
     },
     "execution_count": 3,
     "metadata": {},
     "output_type": "execute_result"
    }
   ],
   "execution_count": 3
  },
  {
   "cell_type": "code",
   "source": [
    "columns = ['A', 'B', 'C']\n",
    "rows = [1,2,3,4]\n",
    "d = {}\n",
    "for column in columns:\n",
    "    list_of_things = []\n",
    "    for row in rows:\n",
    "        thing = str(column) + str(row)\n",
    "        list_of_things.append(thing)\n",
    "    d[str(column)] = list_of_things\n",
    "pd.DataFrame(d, index=rows)"
   ],
   "metadata": {
    "colab": {
     "base_uri": "https://localhost:8080/",
     "height": 175
    },
    "id": "P_9A7HyW8YMv",
    "outputId": "ed505f2b-bd3a-4a4d-b315-bde491590143",
    "ExecuteTime": {
     "end_time": "2025-06-24T11:45:08.712847Z",
     "start_time": "2025-06-24T11:45:08.706924Z"
    }
   },
   "outputs": [
    {
     "data": {
      "text/plain": [
       "    A   B   C\n",
       "1  A1  B1  C1\n",
       "2  A2  B2  C2\n",
       "3  A3  B3  C3\n",
       "4  A4  B4  C4"
      ],
      "text/html": [
       "<div>\n",
       "<style scoped>\n",
       "    .dataframe tbody tr th:only-of-type {\n",
       "        vertical-align: middle;\n",
       "    }\n",
       "\n",
       "    .dataframe tbody tr th {\n",
       "        vertical-align: top;\n",
       "    }\n",
       "\n",
       "    .dataframe thead th {\n",
       "        text-align: right;\n",
       "    }\n",
       "</style>\n",
       "<table border=\"1\" class=\"dataframe\">\n",
       "  <thead>\n",
       "    <tr style=\"text-align: right;\">\n",
       "      <th></th>\n",
       "      <th>A</th>\n",
       "      <th>B</th>\n",
       "      <th>C</th>\n",
       "    </tr>\n",
       "  </thead>\n",
       "  <tbody>\n",
       "    <tr>\n",
       "      <th>1</th>\n",
       "      <td>A1</td>\n",
       "      <td>B1</td>\n",
       "      <td>C1</td>\n",
       "    </tr>\n",
       "    <tr>\n",
       "      <th>2</th>\n",
       "      <td>A2</td>\n",
       "      <td>B2</td>\n",
       "      <td>C2</td>\n",
       "    </tr>\n",
       "    <tr>\n",
       "      <th>3</th>\n",
       "      <td>A3</td>\n",
       "      <td>B3</td>\n",
       "      <td>C3</td>\n",
       "    </tr>\n",
       "    <tr>\n",
       "      <th>4</th>\n",
       "      <td>A4</td>\n",
       "      <td>B4</td>\n",
       "      <td>C4</td>\n",
       "    </tr>\n",
       "  </tbody>\n",
       "</table>\n",
       "</div>"
      ]
     },
     "execution_count": 4,
     "metadata": {},
     "output_type": "execute_result"
    }
   ],
   "execution_count": 4
  },
  {
   "cell_type": "code",
   "source": [
    "def make_df(columns, rows):\n",
    "    d = {}\n",
    "    for column in columns:\n",
    "        list_of_things = []\n",
    "        for row in rows:\n",
    "            thing = str(column) + str(row)\n",
    "            list_of_things.append(thing)\n",
    "        d[str(column)] = list_of_things\n",
    "    return pd.DataFrame(d, index=rows)"
   ],
   "metadata": {
    "id": "DY5f5npk-gm3",
    "ExecuteTime": {
     "end_time": "2025-06-24T11:45:08.786622Z",
     "start_time": "2025-06-24T11:45:08.784775Z"
    }
   },
   "outputs": [],
   "execution_count": 5
  },
  {
   "cell_type": "code",
   "source": [
    "make_df(['A', 'B', 'C'], [1,2,3,4])"
   ],
   "metadata": {
    "colab": {
     "base_uri": "https://localhost:8080/",
     "height": 175
    },
    "id": "jdf5lYFQ92FA",
    "outputId": "c076558f-5b81-451f-9f71-a5fde0dd46b5",
    "ExecuteTime": {
     "end_time": "2025-06-24T11:45:08.996152Z",
     "start_time": "2025-06-24T11:45:08.992208Z"
    }
   },
   "outputs": [
    {
     "data": {
      "text/plain": [
       "    A   B   C\n",
       "1  A1  B1  C1\n",
       "2  A2  B2  C2\n",
       "3  A3  B3  C3\n",
       "4  A4  B4  C4"
      ],
      "text/html": [
       "<div>\n",
       "<style scoped>\n",
       "    .dataframe tbody tr th:only-of-type {\n",
       "        vertical-align: middle;\n",
       "    }\n",
       "\n",
       "    .dataframe tbody tr th {\n",
       "        vertical-align: top;\n",
       "    }\n",
       "\n",
       "    .dataframe thead th {\n",
       "        text-align: right;\n",
       "    }\n",
       "</style>\n",
       "<table border=\"1\" class=\"dataframe\">\n",
       "  <thead>\n",
       "    <tr style=\"text-align: right;\">\n",
       "      <th></th>\n",
       "      <th>A</th>\n",
       "      <th>B</th>\n",
       "      <th>C</th>\n",
       "    </tr>\n",
       "  </thead>\n",
       "  <tbody>\n",
       "    <tr>\n",
       "      <th>1</th>\n",
       "      <td>A1</td>\n",
       "      <td>B1</td>\n",
       "      <td>C1</td>\n",
       "    </tr>\n",
       "    <tr>\n",
       "      <th>2</th>\n",
       "      <td>A2</td>\n",
       "      <td>B2</td>\n",
       "      <td>C2</td>\n",
       "    </tr>\n",
       "    <tr>\n",
       "      <th>3</th>\n",
       "      <td>A3</td>\n",
       "      <td>B3</td>\n",
       "      <td>C3</td>\n",
       "    </tr>\n",
       "    <tr>\n",
       "      <th>4</th>\n",
       "      <td>A4</td>\n",
       "      <td>B4</td>\n",
       "      <td>C4</td>\n",
       "    </tr>\n",
       "  </tbody>\n",
       "</table>\n",
       "</div>"
      ]
     },
     "execution_count": 6,
     "metadata": {},
     "output_type": "execute_result"
    }
   ],
   "execution_count": 6
  },
  {
   "cell_type": "code",
   "source": [
    "columns = ['A', 'B', 'C']\n",
    "rows = [1,2,3,4]\n",
    "[i for i in rows]\n",
    "{c : 1 for c in columns}\n",
    "pd.DataFrame({c : [str(c) + str(i) for i in rows] for c in columns})"
   ],
   "metadata": {
    "colab": {
     "base_uri": "https://localhost:8080/",
     "height": 175
    },
    "id": "h-lbP6eR--hx",
    "outputId": "aacc5754-3166-4128-9148-c61200275732",
    "ExecuteTime": {
     "end_time": "2025-06-24T11:45:09.130494Z",
     "start_time": "2025-06-24T11:45:09.124747Z"
    }
   },
   "outputs": [
    {
     "data": {
      "text/plain": [
       "    A   B   C\n",
       "0  A1  B1  C1\n",
       "1  A2  B2  C2\n",
       "2  A3  B3  C3\n",
       "3  A4  B4  C4"
      ],
      "text/html": [
       "<div>\n",
       "<style scoped>\n",
       "    .dataframe tbody tr th:only-of-type {\n",
       "        vertical-align: middle;\n",
       "    }\n",
       "\n",
       "    .dataframe tbody tr th {\n",
       "        vertical-align: top;\n",
       "    }\n",
       "\n",
       "    .dataframe thead th {\n",
       "        text-align: right;\n",
       "    }\n",
       "</style>\n",
       "<table border=\"1\" class=\"dataframe\">\n",
       "  <thead>\n",
       "    <tr style=\"text-align: right;\">\n",
       "      <th></th>\n",
       "      <th>A</th>\n",
       "      <th>B</th>\n",
       "      <th>C</th>\n",
       "    </tr>\n",
       "  </thead>\n",
       "  <tbody>\n",
       "    <tr>\n",
       "      <th>0</th>\n",
       "      <td>A1</td>\n",
       "      <td>B1</td>\n",
       "      <td>C1</td>\n",
       "    </tr>\n",
       "    <tr>\n",
       "      <th>1</th>\n",
       "      <td>A2</td>\n",
       "      <td>B2</td>\n",
       "      <td>C2</td>\n",
       "    </tr>\n",
       "    <tr>\n",
       "      <th>2</th>\n",
       "      <td>A3</td>\n",
       "      <td>B3</td>\n",
       "      <td>C3</td>\n",
       "    </tr>\n",
       "    <tr>\n",
       "      <th>3</th>\n",
       "      <td>A4</td>\n",
       "      <td>B4</td>\n",
       "      <td>C4</td>\n",
       "    </tr>\n",
       "  </tbody>\n",
       "</table>\n",
       "</div>"
      ]
     },
     "execution_count": 7,
     "metadata": {},
     "output_type": "execute_result"
    }
   ],
   "execution_count": 7
  },
  {
   "cell_type": "code",
   "source": [
    "def make_df(columns, rows):\n",
    "    return pd.DataFrame({c : [str(c) + str(i) for i in rows] for c in columns}, index=rows)"
   ],
   "metadata": {
    "id": "2ICZsgoD_1Al",
    "ExecuteTime": {
     "end_time": "2025-06-24T11:45:09.205673Z",
     "start_time": "2025-06-24T11:45:09.203976Z"
    }
   },
   "outputs": [],
   "execution_count": 8
  },
  {
   "cell_type": "code",
   "source": [
    "make_df(columns, rows)"
   ],
   "metadata": {
    "colab": {
     "base_uri": "https://localhost:8080/",
     "height": 175
    },
    "id": "SwFiHdH4_6fK",
    "outputId": "ae8804db-e2f7-4bc3-e0d8-80e4e838f8d1",
    "ExecuteTime": {
     "end_time": "2025-06-24T11:45:09.284716Z",
     "start_time": "2025-06-24T11:45:09.279708Z"
    }
   },
   "outputs": [
    {
     "data": {
      "text/plain": [
       "    A   B   C\n",
       "1  A1  B1  C1\n",
       "2  A2  B2  C2\n",
       "3  A3  B3  C3\n",
       "4  A4  B4  C4"
      ],
      "text/html": [
       "<div>\n",
       "<style scoped>\n",
       "    .dataframe tbody tr th:only-of-type {\n",
       "        vertical-align: middle;\n",
       "    }\n",
       "\n",
       "    .dataframe tbody tr th {\n",
       "        vertical-align: top;\n",
       "    }\n",
       "\n",
       "    .dataframe thead th {\n",
       "        text-align: right;\n",
       "    }\n",
       "</style>\n",
       "<table border=\"1\" class=\"dataframe\">\n",
       "  <thead>\n",
       "    <tr style=\"text-align: right;\">\n",
       "      <th></th>\n",
       "      <th>A</th>\n",
       "      <th>B</th>\n",
       "      <th>C</th>\n",
       "    </tr>\n",
       "  </thead>\n",
       "  <tbody>\n",
       "    <tr>\n",
       "      <th>1</th>\n",
       "      <td>A1</td>\n",
       "      <td>B1</td>\n",
       "      <td>C1</td>\n",
       "    </tr>\n",
       "    <tr>\n",
       "      <th>2</th>\n",
       "      <td>A2</td>\n",
       "      <td>B2</td>\n",
       "      <td>C2</td>\n",
       "    </tr>\n",
       "    <tr>\n",
       "      <th>3</th>\n",
       "      <td>A3</td>\n",
       "      <td>B3</td>\n",
       "      <td>C3</td>\n",
       "    </tr>\n",
       "    <tr>\n",
       "      <th>4</th>\n",
       "      <td>A4</td>\n",
       "      <td>B4</td>\n",
       "      <td>C4</td>\n",
       "    </tr>\n",
       "  </tbody>\n",
       "</table>\n",
       "</div>"
      ]
     },
     "execution_count": 9,
     "metadata": {},
     "output_type": "execute_result"
    }
   ],
   "execution_count": 9
  },
  {
   "cell_type": "code",
   "source": [
    "x = [1,2,3,4]\n",
    "y = [5,6,7]\n",
    "z = [8,9]"
   ],
   "metadata": {
    "id": "WCZulYeSAQPM",
    "ExecuteTime": {
     "end_time": "2025-06-24T11:45:09.386480Z",
     "start_time": "2025-06-24T11:45:09.384704Z"
    }
   },
   "outputs": [],
   "execution_count": 10
  },
  {
   "cell_type": "code",
   "source": [
    "np.concatenate([x,y,z])"
   ],
   "metadata": {
    "colab": {
     "base_uri": "https://localhost:8080/"
    },
    "id": "_eqs1rzxAY2G",
    "outputId": "18addc5e-9ece-44fd-b6d2-56f198645032",
    "ExecuteTime": {
     "end_time": "2025-06-24T11:45:20.258662Z",
     "start_time": "2025-06-24T11:45:20.244756Z"
    }
   },
   "outputs": [
    {
     "ename": "ValueError",
     "evalue": "zero-dimensional arrays cannot be concatenated",
     "output_type": "error",
     "traceback": [
      "\u001B[31m---------------------------------------------------------------------------\u001B[39m",
      "\u001B[31mValueError\u001B[39m                                Traceback (most recent call last)",
      "\u001B[36mCell\u001B[39m\u001B[36m \u001B[39m\u001B[32mIn[39]\u001B[39m\u001B[32m, line 1\u001B[39m\n\u001B[32m----> \u001B[39m\u001B[32m1\u001B[39m np.concatenate([x,y,z])\n",
      "\u001B[31mValueError\u001B[39m: zero-dimensional arrays cannot be concatenated"
     ]
    }
   ],
   "execution_count": 39
  },
  {
   "cell_type": "code",
   "source": [
    "x_s = pd.Series(['A', 'B', 'C'], index=[1,2,3])\n",
    "y_s = pd.Series(['D', 'E', 'F'], index=[1,2,3])"
   ],
   "metadata": {
    "id": "UE1epJl2AhZy",
    "ExecuteTime": {
     "end_time": "2025-06-24T11:45:09.540368Z",
     "start_time": "2025-06-24T11:45:09.537540Z"
    }
   },
   "outputs": [],
   "execution_count": 12
  },
  {
   "cell_type": "code",
   "source": [
    "series = pd.concat([x_s, y_s])"
   ],
   "metadata": {
    "id": "YRWIyxt3Axfi",
    "ExecuteTime": {
     "end_time": "2025-06-24T11:45:09.586338Z",
     "start_time": "2025-06-24T11:45:09.584783Z"
    }
   },
   "outputs": [],
   "execution_count": 13
  },
  {
   "cell_type": "code",
   "source": [
    "series[1]"
   ],
   "metadata": {
    "colab": {
     "base_uri": "https://localhost:8080/",
     "height": 147
    },
    "id": "D8NeytJpBDr_",
    "outputId": "ecad6458-4213-4481-f6ca-a1cc1f0667fd",
    "ExecuteTime": {
     "end_time": "2025-06-24T11:45:09.637698Z",
     "start_time": "2025-06-24T11:45:09.632589Z"
    }
   },
   "outputs": [
    {
     "data": {
      "text/plain": [
       "1    A\n",
       "1    D\n",
       "dtype: object"
      ]
     },
     "execution_count": 14,
     "metadata": {},
     "output_type": "execute_result"
    }
   ],
   "execution_count": 14
  },
  {
   "cell_type": "code",
   "source": [
    "series = pd.concat([x_s, y_s], ignore_index=True)"
   ],
   "metadata": {
    "id": "q4WIGqBKA30S",
    "ExecuteTime": {
     "end_time": "2025-06-24T11:45:09.702001Z",
     "start_time": "2025-06-24T11:45:09.700266Z"
    }
   },
   "outputs": [],
   "execution_count": 15
  },
  {
   "cell_type": "code",
   "source": [
    "series"
   ],
   "metadata": {
    "colab": {
     "base_uri": "https://localhost:8080/",
     "height": 272
    },
    "id": "ylL3v4cfBScR",
    "outputId": "e09dccd3-57c8-43eb-a21a-0f38bdbd8627",
    "ExecuteTime": {
     "end_time": "2025-06-24T11:45:09.758032Z",
     "start_time": "2025-06-24T11:45:09.755626Z"
    }
   },
   "outputs": [
    {
     "data": {
      "text/plain": [
       "0    A\n",
       "1    B\n",
       "2    C\n",
       "3    D\n",
       "4    E\n",
       "5    F\n",
       "dtype: object"
      ]
     },
     "execution_count": 16,
     "metadata": {},
     "output_type": "execute_result"
    }
   ],
   "execution_count": 16
  },
  {
   "cell_type": "code",
   "source": [
    "df_1 = make_df('AB', [1,2])\n",
    "df_2 = make_df('CD', [1,2])"
   ],
   "metadata": {
    "id": "yH1QMpmcBeGy",
    "ExecuteTime": {
     "end_time": "2025-06-24T11:45:09.823437Z",
     "start_time": "2025-06-24T11:45:09.821653Z"
    }
   },
   "outputs": [],
   "execution_count": 17
  },
  {
   "cell_type": "code",
   "source": [
    "df_1"
   ],
   "metadata": {
    "colab": {
     "base_uri": "https://localhost:8080/",
     "height": 125
    },
    "id": "Rtd0-ZX1BoiN",
    "outputId": "017b5d1e-f7b5-4760-9955-5f269c2f5d7d",
    "ExecuteTime": {
     "end_time": "2025-06-24T11:45:09.888908Z",
     "start_time": "2025-06-24T11:45:09.885750Z"
    }
   },
   "outputs": [
    {
     "data": {
      "text/plain": [
       "    A   B\n",
       "1  A1  B1\n",
       "2  A2  B2"
      ],
      "text/html": [
       "<div>\n",
       "<style scoped>\n",
       "    .dataframe tbody tr th:only-of-type {\n",
       "        vertical-align: middle;\n",
       "    }\n",
       "\n",
       "    .dataframe tbody tr th {\n",
       "        vertical-align: top;\n",
       "    }\n",
       "\n",
       "    .dataframe thead th {\n",
       "        text-align: right;\n",
       "    }\n",
       "</style>\n",
       "<table border=\"1\" class=\"dataframe\">\n",
       "  <thead>\n",
       "    <tr style=\"text-align: right;\">\n",
       "      <th></th>\n",
       "      <th>A</th>\n",
       "      <th>B</th>\n",
       "    </tr>\n",
       "  </thead>\n",
       "  <tbody>\n",
       "    <tr>\n",
       "      <th>1</th>\n",
       "      <td>A1</td>\n",
       "      <td>B1</td>\n",
       "    </tr>\n",
       "    <tr>\n",
       "      <th>2</th>\n",
       "      <td>A2</td>\n",
       "      <td>B2</td>\n",
       "    </tr>\n",
       "  </tbody>\n",
       "</table>\n",
       "</div>"
      ]
     },
     "execution_count": 18,
     "metadata": {},
     "output_type": "execute_result"
    }
   ],
   "execution_count": 18
  },
  {
   "cell_type": "code",
   "source": [
    "df_2"
   ],
   "metadata": {
    "colab": {
     "base_uri": "https://localhost:8080/",
     "height": 125
    },
    "id": "pBJ_v_PcBr11",
    "outputId": "65003987-6ef0-435f-ecef-ca59c00d62b4",
    "ExecuteTime": {
     "end_time": "2025-06-24T11:45:09.996304Z",
     "start_time": "2025-06-24T11:45:09.992586Z"
    }
   },
   "outputs": [
    {
     "data": {
      "text/plain": [
       "    C   D\n",
       "1  C1  D1\n",
       "2  C2  D2"
      ],
      "text/html": [
       "<div>\n",
       "<style scoped>\n",
       "    .dataframe tbody tr th:only-of-type {\n",
       "        vertical-align: middle;\n",
       "    }\n",
       "\n",
       "    .dataframe tbody tr th {\n",
       "        vertical-align: top;\n",
       "    }\n",
       "\n",
       "    .dataframe thead th {\n",
       "        text-align: right;\n",
       "    }\n",
       "</style>\n",
       "<table border=\"1\" class=\"dataframe\">\n",
       "  <thead>\n",
       "    <tr style=\"text-align: right;\">\n",
       "      <th></th>\n",
       "      <th>C</th>\n",
       "      <th>D</th>\n",
       "    </tr>\n",
       "  </thead>\n",
       "  <tbody>\n",
       "    <tr>\n",
       "      <th>1</th>\n",
       "      <td>C1</td>\n",
       "      <td>D1</td>\n",
       "    </tr>\n",
       "    <tr>\n",
       "      <th>2</th>\n",
       "      <td>C2</td>\n",
       "      <td>D2</td>\n",
       "    </tr>\n",
       "  </tbody>\n",
       "</table>\n",
       "</div>"
      ]
     },
     "execution_count": 19,
     "metadata": {},
     "output_type": "execute_result"
    }
   ],
   "execution_count": 19
  },
  {
   "cell_type": "code",
   "source": [
    "pd.concat([df_1, df_2])"
   ],
   "metadata": {
    "colab": {
     "base_uri": "https://localhost:8080/",
     "height": 175
    },
    "id": "VtFAfeQ9BxPv",
    "outputId": "e4a897c7-4c3e-4418-dec7-3f804561a4af",
    "ExecuteTime": {
     "end_time": "2025-06-24T11:45:10.131604Z",
     "start_time": "2025-06-24T11:45:10.123847Z"
    }
   },
   "outputs": [
    {
     "data": {
      "text/plain": [
       "     A    B    C    D\n",
       "1   A1   B1  NaN  NaN\n",
       "2   A2   B2  NaN  NaN\n",
       "1  NaN  NaN   C1   D1\n",
       "2  NaN  NaN   C2   D2"
      ],
      "text/html": [
       "<div>\n",
       "<style scoped>\n",
       "    .dataframe tbody tr th:only-of-type {\n",
       "        vertical-align: middle;\n",
       "    }\n",
       "\n",
       "    .dataframe tbody tr th {\n",
       "        vertical-align: top;\n",
       "    }\n",
       "\n",
       "    .dataframe thead th {\n",
       "        text-align: right;\n",
       "    }\n",
       "</style>\n",
       "<table border=\"1\" class=\"dataframe\">\n",
       "  <thead>\n",
       "    <tr style=\"text-align: right;\">\n",
       "      <th></th>\n",
       "      <th>A</th>\n",
       "      <th>B</th>\n",
       "      <th>C</th>\n",
       "      <th>D</th>\n",
       "    </tr>\n",
       "  </thead>\n",
       "  <tbody>\n",
       "    <tr>\n",
       "      <th>1</th>\n",
       "      <td>A1</td>\n",
       "      <td>B1</td>\n",
       "      <td>NaN</td>\n",
       "      <td>NaN</td>\n",
       "    </tr>\n",
       "    <tr>\n",
       "      <th>2</th>\n",
       "      <td>A2</td>\n",
       "      <td>B2</td>\n",
       "      <td>NaN</td>\n",
       "      <td>NaN</td>\n",
       "    </tr>\n",
       "    <tr>\n",
       "      <th>1</th>\n",
       "      <td>NaN</td>\n",
       "      <td>NaN</td>\n",
       "      <td>C1</td>\n",
       "      <td>D1</td>\n",
       "    </tr>\n",
       "    <tr>\n",
       "      <th>2</th>\n",
       "      <td>NaN</td>\n",
       "      <td>NaN</td>\n",
       "      <td>C2</td>\n",
       "      <td>D2</td>\n",
       "    </tr>\n",
       "  </tbody>\n",
       "</table>\n",
       "</div>"
      ]
     },
     "execution_count": 20,
     "metadata": {},
     "output_type": "execute_result"
    }
   ],
   "execution_count": 20
  },
  {
   "cell_type": "code",
   "source": [
    "pd.concat([df_1, df_2], ignore_index=True)"
   ],
   "metadata": {
    "colab": {
     "base_uri": "https://localhost:8080/",
     "height": 175
    },
    "id": "shd-WZhtB_gZ",
    "outputId": "3f5ca011-f6d6-4f42-da88-72e712fc8eaf",
    "ExecuteTime": {
     "end_time": "2025-06-24T11:45:10.251660Z",
     "start_time": "2025-06-24T11:45:10.246835Z"
    }
   },
   "outputs": [
    {
     "data": {
      "text/plain": [
       "     A    B    C    D\n",
       "0   A1   B1  NaN  NaN\n",
       "1   A2   B2  NaN  NaN\n",
       "2  NaN  NaN   C1   D1\n",
       "3  NaN  NaN   C2   D2"
      ],
      "text/html": [
       "<div>\n",
       "<style scoped>\n",
       "    .dataframe tbody tr th:only-of-type {\n",
       "        vertical-align: middle;\n",
       "    }\n",
       "\n",
       "    .dataframe tbody tr th {\n",
       "        vertical-align: top;\n",
       "    }\n",
       "\n",
       "    .dataframe thead th {\n",
       "        text-align: right;\n",
       "    }\n",
       "</style>\n",
       "<table border=\"1\" class=\"dataframe\">\n",
       "  <thead>\n",
       "    <tr style=\"text-align: right;\">\n",
       "      <th></th>\n",
       "      <th>A</th>\n",
       "      <th>B</th>\n",
       "      <th>C</th>\n",
       "      <th>D</th>\n",
       "    </tr>\n",
       "  </thead>\n",
       "  <tbody>\n",
       "    <tr>\n",
       "      <th>0</th>\n",
       "      <td>A1</td>\n",
       "      <td>B1</td>\n",
       "      <td>NaN</td>\n",
       "      <td>NaN</td>\n",
       "    </tr>\n",
       "    <tr>\n",
       "      <th>1</th>\n",
       "      <td>A2</td>\n",
       "      <td>B2</td>\n",
       "      <td>NaN</td>\n",
       "      <td>NaN</td>\n",
       "    </tr>\n",
       "    <tr>\n",
       "      <th>2</th>\n",
       "      <td>NaN</td>\n",
       "      <td>NaN</td>\n",
       "      <td>C1</td>\n",
       "      <td>D1</td>\n",
       "    </tr>\n",
       "    <tr>\n",
       "      <th>3</th>\n",
       "      <td>NaN</td>\n",
       "      <td>NaN</td>\n",
       "      <td>C2</td>\n",
       "      <td>D2</td>\n",
       "    </tr>\n",
       "  </tbody>\n",
       "</table>\n",
       "</div>"
      ]
     },
     "execution_count": 21,
     "metadata": {},
     "output_type": "execute_result"
    }
   ],
   "execution_count": 21
  },
  {
   "cell_type": "code",
   "source": [
    "pd.concat([df_1, df_2], join='inner')"
   ],
   "metadata": {
    "colab": {
     "base_uri": "https://localhost:8080/",
     "height": 157
    },
    "id": "COkWUKeyCIMV",
    "outputId": "97982104-4e85-4c52-8166-b135bb9abdec",
    "ExecuteTime": {
     "end_time": "2025-06-24T11:45:10.387624Z",
     "start_time": "2025-06-24T11:45:10.381983Z"
    }
   },
   "outputs": [
    {
     "data": {
      "text/plain": [
       "Empty DataFrame\n",
       "Columns: []\n",
       "Index: [1, 2, 1, 2]"
      ],
      "text/html": [
       "<div>\n",
       "<style scoped>\n",
       "    .dataframe tbody tr th:only-of-type {\n",
       "        vertical-align: middle;\n",
       "    }\n",
       "\n",
       "    .dataframe tbody tr th {\n",
       "        vertical-align: top;\n",
       "    }\n",
       "\n",
       "    .dataframe thead th {\n",
       "        text-align: right;\n",
       "    }\n",
       "</style>\n",
       "<table border=\"1\" class=\"dataframe\">\n",
       "  <thead>\n",
       "    <tr style=\"text-align: right;\">\n",
       "      <th></th>\n",
       "    </tr>\n",
       "  </thead>\n",
       "  <tbody>\n",
       "    <tr>\n",
       "      <th>1</th>\n",
       "    </tr>\n",
       "    <tr>\n",
       "      <th>2</th>\n",
       "    </tr>\n",
       "    <tr>\n",
       "      <th>1</th>\n",
       "    </tr>\n",
       "    <tr>\n",
       "      <th>2</th>\n",
       "    </tr>\n",
       "  </tbody>\n",
       "</table>\n",
       "</div>"
      ]
     },
     "execution_count": 22,
     "metadata": {},
     "output_type": "execute_result"
    }
   ],
   "execution_count": 22
  },
  {
   "cell_type": "code",
   "source": [
    "for x in 'ABC':\n",
    "    print(x)\n",
    "\n",
    "for x in ['A', 'B', 'C']:\n",
    "    print(x)"
   ],
   "metadata": {
    "colab": {
     "base_uri": "https://localhost:8080/"
    },
    "id": "ZBoepE97CwY1",
    "outputId": "399c0e48-e715-448f-9277-e771d56c2743",
    "ExecuteTime": {
     "end_time": "2025-06-24T11:45:10.559380Z",
     "start_time": "2025-06-24T11:45:10.557719Z"
    }
   },
   "outputs": [
    {
     "name": "stdout",
     "output_type": "stream",
     "text": [
      "A\n",
      "B\n",
      "C\n",
      "A\n",
      "B\n",
      "C\n"
     ]
    }
   ],
   "execution_count": 23
  },
  {
   "cell_type": "code",
   "source": [
    "df_3 = make_df('ABC', [1,2])\n",
    "df_4 = make_df('BCD', [1,2])"
   ],
   "metadata": {
    "id": "DQGk1WzZCLec",
    "ExecuteTime": {
     "end_time": "2025-06-24T11:45:10.631701Z",
     "start_time": "2025-06-24T11:45:10.629758Z"
    }
   },
   "outputs": [],
   "execution_count": 24
  },
  {
   "cell_type": "code",
   "source": [
    "df_3"
   ],
   "metadata": {
    "colab": {
     "base_uri": "https://localhost:8080/",
     "height": 125
    },
    "id": "Xkjqg1i6Cgrg",
    "outputId": "3d3b4a51-1678-46f6-80cb-81c36bf2cc08",
    "ExecuteTime": {
     "end_time": "2025-06-24T11:45:10.698941Z",
     "start_time": "2025-06-24T11:45:10.693974Z"
    }
   },
   "outputs": [
    {
     "data": {
      "text/plain": [
       "    A   B   C\n",
       "1  A1  B1  C1\n",
       "2  A2  B2  C2"
      ],
      "text/html": [
       "<div>\n",
       "<style scoped>\n",
       "    .dataframe tbody tr th:only-of-type {\n",
       "        vertical-align: middle;\n",
       "    }\n",
       "\n",
       "    .dataframe tbody tr th {\n",
       "        vertical-align: top;\n",
       "    }\n",
       "\n",
       "    .dataframe thead th {\n",
       "        text-align: right;\n",
       "    }\n",
       "</style>\n",
       "<table border=\"1\" class=\"dataframe\">\n",
       "  <thead>\n",
       "    <tr style=\"text-align: right;\">\n",
       "      <th></th>\n",
       "      <th>A</th>\n",
       "      <th>B</th>\n",
       "      <th>C</th>\n",
       "    </tr>\n",
       "  </thead>\n",
       "  <tbody>\n",
       "    <tr>\n",
       "      <th>1</th>\n",
       "      <td>A1</td>\n",
       "      <td>B1</td>\n",
       "      <td>C1</td>\n",
       "    </tr>\n",
       "    <tr>\n",
       "      <th>2</th>\n",
       "      <td>A2</td>\n",
       "      <td>B2</td>\n",
       "      <td>C2</td>\n",
       "    </tr>\n",
       "  </tbody>\n",
       "</table>\n",
       "</div>"
      ]
     },
     "execution_count": 25,
     "metadata": {},
     "output_type": "execute_result"
    }
   ],
   "execution_count": 25
  },
  {
   "cell_type": "code",
   "source": [
    "df_4"
   ],
   "metadata": {
    "colab": {
     "base_uri": "https://localhost:8080/",
     "height": 125
    },
    "id": "ZeJ5kKHJC7Jy",
    "outputId": "0ba767bc-1065-4d6c-9842-1113153ccd94",
    "ExecuteTime": {
     "end_time": "2025-06-24T11:45:10.793685Z",
     "start_time": "2025-06-24T11:45:10.789595Z"
    }
   },
   "outputs": [
    {
     "data": {
      "text/plain": [
       "    B   C   D\n",
       "1  B1  C1  D1\n",
       "2  B2  C2  D2"
      ],
      "text/html": [
       "<div>\n",
       "<style scoped>\n",
       "    .dataframe tbody tr th:only-of-type {\n",
       "        vertical-align: middle;\n",
       "    }\n",
       "\n",
       "    .dataframe tbody tr th {\n",
       "        vertical-align: top;\n",
       "    }\n",
       "\n",
       "    .dataframe thead th {\n",
       "        text-align: right;\n",
       "    }\n",
       "</style>\n",
       "<table border=\"1\" class=\"dataframe\">\n",
       "  <thead>\n",
       "    <tr style=\"text-align: right;\">\n",
       "      <th></th>\n",
       "      <th>B</th>\n",
       "      <th>C</th>\n",
       "      <th>D</th>\n",
       "    </tr>\n",
       "  </thead>\n",
       "  <tbody>\n",
       "    <tr>\n",
       "      <th>1</th>\n",
       "      <td>B1</td>\n",
       "      <td>C1</td>\n",
       "      <td>D1</td>\n",
       "    </tr>\n",
       "    <tr>\n",
       "      <th>2</th>\n",
       "      <td>B2</td>\n",
       "      <td>C2</td>\n",
       "      <td>D2</td>\n",
       "    </tr>\n",
       "  </tbody>\n",
       "</table>\n",
       "</div>"
      ]
     },
     "execution_count": 26,
     "metadata": {},
     "output_type": "execute_result"
    }
   ],
   "execution_count": 26
  },
  {
   "cell_type": "code",
   "source": [
    "pd.concat([df_3, df_4], join='outer')"
   ],
   "metadata": {
    "colab": {
     "base_uri": "https://localhost:8080/",
     "height": 175
    },
    "id": "A4_FYvXXC91b",
    "outputId": "e0565b23-713b-457d-d995-75bff5fd765d",
    "ExecuteTime": {
     "end_time": "2025-06-24T11:45:10.874175Z",
     "start_time": "2025-06-24T11:45:10.869679Z"
    }
   },
   "outputs": [
    {
     "data": {
      "text/plain": [
       "     A   B   C    D\n",
       "1   A1  B1  C1  NaN\n",
       "2   A2  B2  C2  NaN\n",
       "1  NaN  B1  C1   D1\n",
       "2  NaN  B2  C2   D2"
      ],
      "text/html": [
       "<div>\n",
       "<style scoped>\n",
       "    .dataframe tbody tr th:only-of-type {\n",
       "        vertical-align: middle;\n",
       "    }\n",
       "\n",
       "    .dataframe tbody tr th {\n",
       "        vertical-align: top;\n",
       "    }\n",
       "\n",
       "    .dataframe thead th {\n",
       "        text-align: right;\n",
       "    }\n",
       "</style>\n",
       "<table border=\"1\" class=\"dataframe\">\n",
       "  <thead>\n",
       "    <tr style=\"text-align: right;\">\n",
       "      <th></th>\n",
       "      <th>A</th>\n",
       "      <th>B</th>\n",
       "      <th>C</th>\n",
       "      <th>D</th>\n",
       "    </tr>\n",
       "  </thead>\n",
       "  <tbody>\n",
       "    <tr>\n",
       "      <th>1</th>\n",
       "      <td>A1</td>\n",
       "      <td>B1</td>\n",
       "      <td>C1</td>\n",
       "      <td>NaN</td>\n",
       "    </tr>\n",
       "    <tr>\n",
       "      <th>2</th>\n",
       "      <td>A2</td>\n",
       "      <td>B2</td>\n",
       "      <td>C2</td>\n",
       "      <td>NaN</td>\n",
       "    </tr>\n",
       "    <tr>\n",
       "      <th>1</th>\n",
       "      <td>NaN</td>\n",
       "      <td>B1</td>\n",
       "      <td>C1</td>\n",
       "      <td>D1</td>\n",
       "    </tr>\n",
       "    <tr>\n",
       "      <th>2</th>\n",
       "      <td>NaN</td>\n",
       "      <td>B2</td>\n",
       "      <td>C2</td>\n",
       "      <td>D2</td>\n",
       "    </tr>\n",
       "  </tbody>\n",
       "</table>\n",
       "</div>"
      ]
     },
     "execution_count": 27,
     "metadata": {},
     "output_type": "execute_result"
    }
   ],
   "execution_count": 27
  },
  {
   "cell_type": "code",
   "source": [
    "pd.concat([df_3, df_4], join='inner')"
   ],
   "metadata": {
    "colab": {
     "base_uri": "https://localhost:8080/",
     "height": 175
    },
    "id": "oOt2nADTC_s8",
    "outputId": "2f0be2e3-c802-43a3-b568-21271b473b68",
    "ExecuteTime": {
     "end_time": "2025-06-24T11:45:10.963182Z",
     "start_time": "2025-06-24T11:45:10.958615Z"
    }
   },
   "outputs": [
    {
     "data": {
      "text/plain": [
       "    B   C\n",
       "1  B1  C1\n",
       "2  B2  C2\n",
       "1  B1  C1\n",
       "2  B2  C2"
      ],
      "text/html": [
       "<div>\n",
       "<style scoped>\n",
       "    .dataframe tbody tr th:only-of-type {\n",
       "        vertical-align: middle;\n",
       "    }\n",
       "\n",
       "    .dataframe tbody tr th {\n",
       "        vertical-align: top;\n",
       "    }\n",
       "\n",
       "    .dataframe thead th {\n",
       "        text-align: right;\n",
       "    }\n",
       "</style>\n",
       "<table border=\"1\" class=\"dataframe\">\n",
       "  <thead>\n",
       "    <tr style=\"text-align: right;\">\n",
       "      <th></th>\n",
       "      <th>B</th>\n",
       "      <th>C</th>\n",
       "    </tr>\n",
       "  </thead>\n",
       "  <tbody>\n",
       "    <tr>\n",
       "      <th>1</th>\n",
       "      <td>B1</td>\n",
       "      <td>C1</td>\n",
       "    </tr>\n",
       "    <tr>\n",
       "      <th>2</th>\n",
       "      <td>B2</td>\n",
       "      <td>C2</td>\n",
       "    </tr>\n",
       "    <tr>\n",
       "      <th>1</th>\n",
       "      <td>B1</td>\n",
       "      <td>C1</td>\n",
       "    </tr>\n",
       "    <tr>\n",
       "      <th>2</th>\n",
       "      <td>B2</td>\n",
       "      <td>C2</td>\n",
       "    </tr>\n",
       "  </tbody>\n",
       "</table>\n",
       "</div>"
      ]
     },
     "execution_count": 28,
     "metadata": {},
     "output_type": "execute_result"
    }
   ],
   "execution_count": 28
  },
  {
   "cell_type": "code",
   "source": [
    "df_1 = pd.DataFrame({\n",
    "    'employee':['Bob', 'Lisa', 'Jake', 'Mary'],\n",
    "    'group':['Accounting', 'Engineering', 'Engineering', 'HR']\n",
    "})\n",
    "df_2 = pd.DataFrame({\n",
    "    'employee':['Lisa', 'Jake', 'Sue', 'Bob'],\n",
    "    'hire_date':[2004, 2005, 2008, 2012]\n",
    "})"
   ],
   "metadata": {
    "id": "OtBH5N4QEGnI",
    "ExecuteTime": {
     "end_time": "2025-06-24T11:45:11.100563Z",
     "start_time": "2025-06-24T11:45:11.097697Z"
    }
   },
   "outputs": [],
   "execution_count": 29
  },
  {
   "cell_type": "code",
   "source": [
    "print(df_1)\n",
    "print(df_2)"
   ],
   "metadata": {
    "colab": {
     "base_uri": "https://localhost:8080/"
    },
    "id": "ncJhz5XSElEh",
    "outputId": "6bb7d336-6480-41e2-e09d-12cb9d0f20cd",
    "ExecuteTime": {
     "end_time": "2025-06-24T11:45:11.190957Z",
     "start_time": "2025-06-24T11:45:11.187778Z"
    }
   },
   "outputs": [
    {
     "name": "stdout",
     "output_type": "stream",
     "text": [
      "  employee        group\n",
      "0      Bob   Accounting\n",
      "1     Lisa  Engineering\n",
      "2     Jake  Engineering\n",
      "3     Mary           HR\n",
      "  employee  hire_date\n",
      "0     Lisa       2004\n",
      "1     Jake       2005\n",
      "2      Sue       2008\n",
      "3      Bob       2012\n"
     ]
    }
   ],
   "execution_count": 30
  },
  {
   "cell_type": "code",
   "source": [
    "pd.concat([df_1, df_2], join='inner')"
   ],
   "metadata": {
    "colab": {
     "base_uri": "https://localhost:8080/",
     "height": 300
    },
    "id": "qDzEK98-E8W0",
    "outputId": "6fe62c9d-7e4f-4fc1-b23a-3d4bc33d8d5c",
    "ExecuteTime": {
     "end_time": "2025-06-24T11:45:11.260744Z",
     "start_time": "2025-06-24T11:45:11.255451Z"
    }
   },
   "outputs": [
    {
     "data": {
      "text/plain": [
       "  employee\n",
       "0      Bob\n",
       "1     Lisa\n",
       "2     Jake\n",
       "3     Mary\n",
       "0     Lisa\n",
       "1     Jake\n",
       "2      Sue\n",
       "3      Bob"
      ],
      "text/html": [
       "<div>\n",
       "<style scoped>\n",
       "    .dataframe tbody tr th:only-of-type {\n",
       "        vertical-align: middle;\n",
       "    }\n",
       "\n",
       "    .dataframe tbody tr th {\n",
       "        vertical-align: top;\n",
       "    }\n",
       "\n",
       "    .dataframe thead th {\n",
       "        text-align: right;\n",
       "    }\n",
       "</style>\n",
       "<table border=\"1\" class=\"dataframe\">\n",
       "  <thead>\n",
       "    <tr style=\"text-align: right;\">\n",
       "      <th></th>\n",
       "      <th>employee</th>\n",
       "    </tr>\n",
       "  </thead>\n",
       "  <tbody>\n",
       "    <tr>\n",
       "      <th>0</th>\n",
       "      <td>Bob</td>\n",
       "    </tr>\n",
       "    <tr>\n",
       "      <th>1</th>\n",
       "      <td>Lisa</td>\n",
       "    </tr>\n",
       "    <tr>\n",
       "      <th>2</th>\n",
       "      <td>Jake</td>\n",
       "    </tr>\n",
       "    <tr>\n",
       "      <th>3</th>\n",
       "      <td>Mary</td>\n",
       "    </tr>\n",
       "    <tr>\n",
       "      <th>0</th>\n",
       "      <td>Lisa</td>\n",
       "    </tr>\n",
       "    <tr>\n",
       "      <th>1</th>\n",
       "      <td>Jake</td>\n",
       "    </tr>\n",
       "    <tr>\n",
       "      <th>2</th>\n",
       "      <td>Sue</td>\n",
       "    </tr>\n",
       "    <tr>\n",
       "      <th>3</th>\n",
       "      <td>Bob</td>\n",
       "    </tr>\n",
       "  </tbody>\n",
       "</table>\n",
       "</div>"
      ]
     },
     "execution_count": 31,
     "metadata": {},
     "output_type": "execute_result"
    }
   ],
   "execution_count": 31
  },
  {
   "cell_type": "code",
   "source": [
    "pd.merge(df_1, df_2)"
   ],
   "metadata": {
    "colab": {
     "base_uri": "https://localhost:8080/",
     "height": 143
    },
    "id": "Plhzg7QRF2A2",
    "outputId": "65f9102e-c464-436e-df3a-e2aa779b9e84",
    "ExecuteTime": {
     "end_time": "2025-06-24T11:45:11.344738Z",
     "start_time": "2025-06-24T11:45:11.338305Z"
    }
   },
   "outputs": [
    {
     "data": {
      "text/plain": [
       "  employee        group  hire_date\n",
       "0      Bob   Accounting       2012\n",
       "1     Lisa  Engineering       2004\n",
       "2     Jake  Engineering       2005"
      ],
      "text/html": [
       "<div>\n",
       "<style scoped>\n",
       "    .dataframe tbody tr th:only-of-type {\n",
       "        vertical-align: middle;\n",
       "    }\n",
       "\n",
       "    .dataframe tbody tr th {\n",
       "        vertical-align: top;\n",
       "    }\n",
       "\n",
       "    .dataframe thead th {\n",
       "        text-align: right;\n",
       "    }\n",
       "</style>\n",
       "<table border=\"1\" class=\"dataframe\">\n",
       "  <thead>\n",
       "    <tr style=\"text-align: right;\">\n",
       "      <th></th>\n",
       "      <th>employee</th>\n",
       "      <th>group</th>\n",
       "      <th>hire_date</th>\n",
       "    </tr>\n",
       "  </thead>\n",
       "  <tbody>\n",
       "    <tr>\n",
       "      <th>0</th>\n",
       "      <td>Bob</td>\n",
       "      <td>Accounting</td>\n",
       "      <td>2012</td>\n",
       "    </tr>\n",
       "    <tr>\n",
       "      <th>1</th>\n",
       "      <td>Lisa</td>\n",
       "      <td>Engineering</td>\n",
       "      <td>2004</td>\n",
       "    </tr>\n",
       "    <tr>\n",
       "      <th>2</th>\n",
       "      <td>Jake</td>\n",
       "      <td>Engineering</td>\n",
       "      <td>2005</td>\n",
       "    </tr>\n",
       "  </tbody>\n",
       "</table>\n",
       "</div>"
      ]
     },
     "execution_count": 32,
     "metadata": {},
     "output_type": "execute_result"
    }
   ],
   "execution_count": 32
  },
  {
   "cell_type": "code",
   "source": [
    "pd.merge(df_1, df_2, how='outer')"
   ],
   "metadata": {
    "colab": {
     "base_uri": "https://localhost:8080/",
     "height": 206
    },
    "id": "2PKNGVpQFING",
    "outputId": "c05f09bd-782d-4494-d158-6ad9d31041ea",
    "ExecuteTime": {
     "end_time": "2025-06-24T11:45:11.427591Z",
     "start_time": "2025-06-24T11:45:11.419236Z"
    }
   },
   "outputs": [
    {
     "data": {
      "text/plain": [
       "  employee        group  hire_date\n",
       "0      Bob   Accounting     2012.0\n",
       "1     Jake  Engineering     2005.0\n",
       "2     Lisa  Engineering     2004.0\n",
       "3     Mary           HR        NaN\n",
       "4      Sue          NaN     2008.0"
      ],
      "text/html": [
       "<div>\n",
       "<style scoped>\n",
       "    .dataframe tbody tr th:only-of-type {\n",
       "        vertical-align: middle;\n",
       "    }\n",
       "\n",
       "    .dataframe tbody tr th {\n",
       "        vertical-align: top;\n",
       "    }\n",
       "\n",
       "    .dataframe thead th {\n",
       "        text-align: right;\n",
       "    }\n",
       "</style>\n",
       "<table border=\"1\" class=\"dataframe\">\n",
       "  <thead>\n",
       "    <tr style=\"text-align: right;\">\n",
       "      <th></th>\n",
       "      <th>employee</th>\n",
       "      <th>group</th>\n",
       "      <th>hire_date</th>\n",
       "    </tr>\n",
       "  </thead>\n",
       "  <tbody>\n",
       "    <tr>\n",
       "      <th>0</th>\n",
       "      <td>Bob</td>\n",
       "      <td>Accounting</td>\n",
       "      <td>2012.0</td>\n",
       "    </tr>\n",
       "    <tr>\n",
       "      <th>1</th>\n",
       "      <td>Jake</td>\n",
       "      <td>Engineering</td>\n",
       "      <td>2005.0</td>\n",
       "    </tr>\n",
       "    <tr>\n",
       "      <th>2</th>\n",
       "      <td>Lisa</td>\n",
       "      <td>Engineering</td>\n",
       "      <td>2004.0</td>\n",
       "    </tr>\n",
       "    <tr>\n",
       "      <th>3</th>\n",
       "      <td>Mary</td>\n",
       "      <td>HR</td>\n",
       "      <td>NaN</td>\n",
       "    </tr>\n",
       "    <tr>\n",
       "      <th>4</th>\n",
       "      <td>Sue</td>\n",
       "      <td>NaN</td>\n",
       "      <td>2008.0</td>\n",
       "    </tr>\n",
       "  </tbody>\n",
       "</table>\n",
       "</div>"
      ]
     },
     "execution_count": 33,
     "metadata": {},
     "output_type": "execute_result"
    }
   ],
   "execution_count": 33
  },
  {
   "cell_type": "code",
   "source": [
    "pd.merge(df_1, df_2, on='employee')"
   ],
   "metadata": {
    "colab": {
     "base_uri": "https://localhost:8080/",
     "height": 143
    },
    "id": "frny39TNGDrW",
    "outputId": "2d5a9d81-7907-44bd-92d4-0f696be99777",
    "ExecuteTime": {
     "end_time": "2025-06-24T11:45:11.551213Z",
     "start_time": "2025-06-24T11:45:11.544673Z"
    }
   },
   "outputs": [
    {
     "data": {
      "text/plain": [
       "  employee        group  hire_date\n",
       "0      Bob   Accounting       2012\n",
       "1     Lisa  Engineering       2004\n",
       "2     Jake  Engineering       2005"
      ],
      "text/html": [
       "<div>\n",
       "<style scoped>\n",
       "    .dataframe tbody tr th:only-of-type {\n",
       "        vertical-align: middle;\n",
       "    }\n",
       "\n",
       "    .dataframe tbody tr th {\n",
       "        vertical-align: top;\n",
       "    }\n",
       "\n",
       "    .dataframe thead th {\n",
       "        text-align: right;\n",
       "    }\n",
       "</style>\n",
       "<table border=\"1\" class=\"dataframe\">\n",
       "  <thead>\n",
       "    <tr style=\"text-align: right;\">\n",
       "      <th></th>\n",
       "      <th>employee</th>\n",
       "      <th>group</th>\n",
       "      <th>hire_date</th>\n",
       "    </tr>\n",
       "  </thead>\n",
       "  <tbody>\n",
       "    <tr>\n",
       "      <th>0</th>\n",
       "      <td>Bob</td>\n",
       "      <td>Accounting</td>\n",
       "      <td>2012</td>\n",
       "    </tr>\n",
       "    <tr>\n",
       "      <th>1</th>\n",
       "      <td>Lisa</td>\n",
       "      <td>Engineering</td>\n",
       "      <td>2004</td>\n",
       "    </tr>\n",
       "    <tr>\n",
       "      <th>2</th>\n",
       "      <td>Jake</td>\n",
       "      <td>Engineering</td>\n",
       "      <td>2005</td>\n",
       "    </tr>\n",
       "  </tbody>\n",
       "</table>\n",
       "</div>"
      ]
     },
     "execution_count": 34,
     "metadata": {},
     "output_type": "execute_result"
    }
   ],
   "execution_count": 34
  },
  {
   "cell_type": "markdown",
   "source": [
    "- concatenate\n",
    "    - lists\n",
    "    - series\n",
    "    - DataFrames (join=inner)\n",
    "- merge\n",
    "    - left_on, right_on\n"
   ],
   "metadata": {
    "id": "yZZSLz8-pSh9"
   }
  },
  {
   "cell_type": "markdown",
   "source": [
    "###NBA zip upload"
   ],
   "metadata": {
    "id": "sbaWQLoppyPH"
   }
  },
  {
   "cell_type": "code",
   "source": [
    "df_3 = pd.DataFrame({\n",
    "    'name': ['James', 'Mary', 'Bob', 'Lisa'],\n",
    "    'salary': [70000, 90000, 50000, 120000]\n",
    "})"
   ],
   "metadata": {
    "id": "XkvJp3bJGeiw",
    "ExecuteTime": {
     "end_time": "2025-06-24T11:45:11.702328Z",
     "start_time": "2025-06-24T11:45:11.699966Z"
    }
   },
   "outputs": [],
   "execution_count": 35
  },
  {
   "cell_type": "code",
   "source": [
    "pd.merge(df_1, df_3)"
   ],
   "metadata": {
    "colab": {
     "base_uri": "https://localhost:8080/",
     "height": 328
    },
    "id": "B_7-qOFhGrn6",
    "outputId": "52e10c91-470c-42f6-9c08-1441f0713dae",
    "ExecuteTime": {
     "end_time": "2025-06-24T11:45:12.034253Z",
     "start_time": "2025-06-24T11:45:11.817576Z"
    }
   },
   "outputs": [
    {
     "ename": "MergeError",
     "evalue": "No common columns to perform merge on. Merge options: left_on=None, right_on=None, left_index=False, right_index=False",
     "output_type": "error",
     "traceback": [
      "\u001B[31m---------------------------------------------------------------------------\u001B[39m",
      "\u001B[31mMergeError\u001B[39m                                Traceback (most recent call last)",
      "\u001B[36mCell\u001B[39m\u001B[36m \u001B[39m\u001B[32mIn[36]\u001B[39m\u001B[32m, line 1\u001B[39m\n\u001B[32m----> \u001B[39m\u001B[32m1\u001B[39m pd.merge(df_1, df_3)\n",
      "\u001B[36mFile \u001B[39m\u001B[32m~/anaconda3/envs/Programming_UNIVR/lib/python3.12/site-packages/pandas/core/reshape/merge.py:170\u001B[39m, in \u001B[36mmerge\u001B[39m\u001B[34m(left, right, how, on, left_on, right_on, left_index, right_index, sort, suffixes, copy, indicator, validate)\u001B[39m\n\u001B[32m    155\u001B[39m     \u001B[38;5;28;01mreturn\u001B[39;00m _cross_merge(\n\u001B[32m    156\u001B[39m         left_df,\n\u001B[32m    157\u001B[39m         right_df,\n\u001B[32m   (...)\u001B[39m\u001B[32m    167\u001B[39m         copy=copy,\n\u001B[32m    168\u001B[39m     )\n\u001B[32m    169\u001B[39m \u001B[38;5;28;01melse\u001B[39;00m:\n\u001B[32m--> \u001B[39m\u001B[32m170\u001B[39m     op = _MergeOperation(\n\u001B[32m    171\u001B[39m         left_df,\n\u001B[32m    172\u001B[39m         right_df,\n\u001B[32m    173\u001B[39m         how=how,\n\u001B[32m    174\u001B[39m         on=on,\n\u001B[32m    175\u001B[39m         left_on=left_on,\n\u001B[32m    176\u001B[39m         right_on=right_on,\n\u001B[32m    177\u001B[39m         left_index=left_index,\n\u001B[32m    178\u001B[39m         right_index=right_index,\n\u001B[32m    179\u001B[39m         sort=sort,\n\u001B[32m    180\u001B[39m         suffixes=suffixes,\n\u001B[32m    181\u001B[39m         indicator=indicator,\n\u001B[32m    182\u001B[39m         validate=validate,\n\u001B[32m    183\u001B[39m     )\n\u001B[32m    184\u001B[39m     \u001B[38;5;28;01mreturn\u001B[39;00m op.get_result(copy=copy)\n",
      "\u001B[36mFile \u001B[39m\u001B[32m~/anaconda3/envs/Programming_UNIVR/lib/python3.12/site-packages/pandas/core/reshape/merge.py:786\u001B[39m, in \u001B[36m_MergeOperation.__init__\u001B[39m\u001B[34m(self, left, right, how, on, left_on, right_on, left_index, right_index, sort, suffixes, indicator, validate)\u001B[39m\n\u001B[32m    779\u001B[39m     msg = (\n\u001B[32m    780\u001B[39m         \u001B[33m\"\u001B[39m\u001B[33mNot allowed to merge between different levels. \u001B[39m\u001B[33m\"\u001B[39m\n\u001B[32m    781\u001B[39m         \u001B[33mf\u001B[39m\u001B[33m\"\u001B[39m\u001B[33m(\u001B[39m\u001B[38;5;132;01m{\u001B[39;00m_left.columns.nlevels\u001B[38;5;132;01m}\u001B[39;00m\u001B[33m levels on the left, \u001B[39m\u001B[33m\"\u001B[39m\n\u001B[32m    782\u001B[39m         \u001B[33mf\u001B[39m\u001B[33m\"\u001B[39m\u001B[38;5;132;01m{\u001B[39;00m_right.columns.nlevels\u001B[38;5;132;01m}\u001B[39;00m\u001B[33m on the right)\u001B[39m\u001B[33m\"\u001B[39m\n\u001B[32m    783\u001B[39m     )\n\u001B[32m    784\u001B[39m     \u001B[38;5;28;01mraise\u001B[39;00m MergeError(msg)\n\u001B[32m--> \u001B[39m\u001B[32m786\u001B[39m \u001B[38;5;28mself\u001B[39m.left_on, \u001B[38;5;28mself\u001B[39m.right_on = \u001B[38;5;28mself\u001B[39m._validate_left_right_on(left_on, right_on)\n\u001B[32m    788\u001B[39m (\n\u001B[32m    789\u001B[39m     \u001B[38;5;28mself\u001B[39m.left_join_keys,\n\u001B[32m    790\u001B[39m     \u001B[38;5;28mself\u001B[39m.right_join_keys,\n\u001B[32m   (...)\u001B[39m\u001B[32m    793\u001B[39m     right_drop,\n\u001B[32m    794\u001B[39m ) = \u001B[38;5;28mself\u001B[39m._get_merge_keys()\n\u001B[32m    796\u001B[39m \u001B[38;5;28;01mif\u001B[39;00m left_drop:\n",
      "\u001B[36mFile \u001B[39m\u001B[32m~/anaconda3/envs/Programming_UNIVR/lib/python3.12/site-packages/pandas/core/reshape/merge.py:1572\u001B[39m, in \u001B[36m_MergeOperation._validate_left_right_on\u001B[39m\u001B[34m(self, left_on, right_on)\u001B[39m\n\u001B[32m   1570\u001B[39m common_cols = left_cols.intersection(right_cols)\n\u001B[32m   1571\u001B[39m \u001B[38;5;28;01mif\u001B[39;00m \u001B[38;5;28mlen\u001B[39m(common_cols) == \u001B[32m0\u001B[39m:\n\u001B[32m-> \u001B[39m\u001B[32m1572\u001B[39m     \u001B[38;5;28;01mraise\u001B[39;00m MergeError(\n\u001B[32m   1573\u001B[39m         \u001B[33m\"\u001B[39m\u001B[33mNo common columns to perform merge on. \u001B[39m\u001B[33m\"\u001B[39m\n\u001B[32m   1574\u001B[39m         \u001B[33mf\u001B[39m\u001B[33m\"\u001B[39m\u001B[33mMerge options: left_on=\u001B[39m\u001B[38;5;132;01m{\u001B[39;00mleft_on\u001B[38;5;132;01m}\u001B[39;00m\u001B[33m, \u001B[39m\u001B[33m\"\u001B[39m\n\u001B[32m   1575\u001B[39m         \u001B[33mf\u001B[39m\u001B[33m\"\u001B[39m\u001B[33mright_on=\u001B[39m\u001B[38;5;132;01m{\u001B[39;00mright_on\u001B[38;5;132;01m}\u001B[39;00m\u001B[33m, \u001B[39m\u001B[33m\"\u001B[39m\n\u001B[32m   1576\u001B[39m         \u001B[33mf\u001B[39m\u001B[33m\"\u001B[39m\u001B[33mleft_index=\u001B[39m\u001B[38;5;132;01m{\u001B[39;00m\u001B[38;5;28mself\u001B[39m.left_index\u001B[38;5;132;01m}\u001B[39;00m\u001B[33m, \u001B[39m\u001B[33m\"\u001B[39m\n\u001B[32m   1577\u001B[39m         \u001B[33mf\u001B[39m\u001B[33m\"\u001B[39m\u001B[33mright_index=\u001B[39m\u001B[38;5;132;01m{\u001B[39;00m\u001B[38;5;28mself\u001B[39m.right_index\u001B[38;5;132;01m}\u001B[39;00m\u001B[33m\"\u001B[39m\n\u001B[32m   1578\u001B[39m     )\n\u001B[32m   1579\u001B[39m \u001B[38;5;28;01mif\u001B[39;00m (\n\u001B[32m   1580\u001B[39m     \u001B[38;5;129;01mnot\u001B[39;00m left_cols.join(common_cols, how=\u001B[33m\"\u001B[39m\u001B[33minner\u001B[39m\u001B[33m\"\u001B[39m).is_unique\n\u001B[32m   1581\u001B[39m     \u001B[38;5;129;01mor\u001B[39;00m \u001B[38;5;129;01mnot\u001B[39;00m right_cols.join(common_cols, how=\u001B[33m\"\u001B[39m\u001B[33minner\u001B[39m\u001B[33m\"\u001B[39m).is_unique\n\u001B[32m   1582\u001B[39m ):\n\u001B[32m   1583\u001B[39m     \u001B[38;5;28;01mraise\u001B[39;00m MergeError(\u001B[33mf\u001B[39m\u001B[33m\"\u001B[39m\u001B[33mData columns not unique: \u001B[39m\u001B[38;5;132;01m{\u001B[39;00m\u001B[38;5;28mrepr\u001B[39m(common_cols)\u001B[38;5;132;01m}\u001B[39;00m\u001B[33m\"\u001B[39m)\n",
      "\u001B[31mMergeError\u001B[39m: No common columns to perform merge on. Merge options: left_on=None, right_on=None, left_index=False, right_index=False"
     ]
    }
   ],
   "execution_count": 36
  },
  {
   "cell_type": "code",
   "source": [
    "pd.merge(df_1, df_3, left_on='employee', right_on='name', how='outer').drop('name', axis=1)"
   ],
   "metadata": {
    "colab": {
     "base_uri": "https://localhost:8080/",
     "height": 206
    },
    "id": "9_xzLcEhGuuk",
    "outputId": "0012fd5b-5f62-4433-e188-0b6f2fcc1161",
    "ExecuteTime": {
     "end_time": "2025-06-24T11:45:16.573081Z",
     "start_time": "2025-06-24T11:45:16.566802Z"
    }
   },
   "outputs": [
    {
     "data": {
      "text/plain": [
       "  employee        group    salary\n",
       "0      Bob   Accounting   50000.0\n",
       "1     Jake  Engineering       NaN\n",
       "2      NaN          NaN   70000.0\n",
       "3     Lisa  Engineering  120000.0\n",
       "4     Mary           HR   90000.0"
      ],
      "text/html": [
       "<div>\n",
       "<style scoped>\n",
       "    .dataframe tbody tr th:only-of-type {\n",
       "        vertical-align: middle;\n",
       "    }\n",
       "\n",
       "    .dataframe tbody tr th {\n",
       "        vertical-align: top;\n",
       "    }\n",
       "\n",
       "    .dataframe thead th {\n",
       "        text-align: right;\n",
       "    }\n",
       "</style>\n",
       "<table border=\"1\" class=\"dataframe\">\n",
       "  <thead>\n",
       "    <tr style=\"text-align: right;\">\n",
       "      <th></th>\n",
       "      <th>employee</th>\n",
       "      <th>group</th>\n",
       "      <th>salary</th>\n",
       "    </tr>\n",
       "  </thead>\n",
       "  <tbody>\n",
       "    <tr>\n",
       "      <th>0</th>\n",
       "      <td>Bob</td>\n",
       "      <td>Accounting</td>\n",
       "      <td>50000.0</td>\n",
       "    </tr>\n",
       "    <tr>\n",
       "      <th>1</th>\n",
       "      <td>Jake</td>\n",
       "      <td>Engineering</td>\n",
       "      <td>NaN</td>\n",
       "    </tr>\n",
       "    <tr>\n",
       "      <th>2</th>\n",
       "      <td>NaN</td>\n",
       "      <td>NaN</td>\n",
       "      <td>70000.0</td>\n",
       "    </tr>\n",
       "    <tr>\n",
       "      <th>3</th>\n",
       "      <td>Lisa</td>\n",
       "      <td>Engineering</td>\n",
       "      <td>120000.0</td>\n",
       "    </tr>\n",
       "    <tr>\n",
       "      <th>4</th>\n",
       "      <td>Mary</td>\n",
       "      <td>HR</td>\n",
       "      <td>90000.0</td>\n",
       "    </tr>\n",
       "  </tbody>\n",
       "</table>\n",
       "</div>"
      ]
     },
     "execution_count": 37,
     "metadata": {},
     "output_type": "execute_result"
    }
   ],
   "execution_count": 37
  },
  {
   "cell_type": "markdown",
   "source": [
    "###Multi-dimensional indexes\n",
    "[https://pandas.pydata.org/docs/user_guide/advanced.html](https://pandas.pydata.org/docs/user_guide/advanced.html)"
   ],
   "metadata": {
    "id": "nAVLBQ2EqJGj"
   }
  },
  {
   "cell_type": "code",
   "source": [
    "index = [('California', 2000), ('California', 2010), ('New York', 2000), ('New York', 2010), ('Texas', 2000), ('Texas', 2010)]\n",
    "population = [1231323, 543535354, 566456, 1313123, 456457, 1342344]\n",
    "pop = pd.Series(population, index=index)"
   ],
   "metadata": {
    "id": "d1L4bdI5H3fH",
    "ExecuteTime": {
     "end_time": "2025-06-24T11:45:18.483152Z",
     "start_time": "2025-06-24T11:45:18.480403Z"
    }
   },
   "outputs": [],
   "execution_count": 38
  },
  {
   "cell_type": "code",
   "source": [
    "pop"
   ],
   "metadata": {
    "colab": {
     "base_uri": "https://localhost:8080/",
     "height": 272
    },
    "id": "-AsAyiZRIR0A",
    "outputId": "c48b3993-bd09-4718-803c-c3b1a5de6304",
    "ExecuteTime": {
     "end_time": "2025-06-24T11:45:22.701223Z",
     "start_time": "2025-06-24T11:45:22.696877Z"
    }
   },
   "outputs": [
    {
     "data": {
      "text/plain": [
       "(California, 2000)      1231323\n",
       "(California, 2010)    543535354\n",
       "(New York, 2000)         566456\n",
       "(New York, 2010)        1313123\n",
       "(Texas, 2000)            456457\n",
       "(Texas, 2010)           1342344\n",
       "dtype: int64"
      ]
     },
     "execution_count": 40,
     "metadata": {},
     "output_type": "execute_result"
    }
   ],
   "execution_count": 40
  },
  {
   "cell_type": "code",
   "source": [
    "pop[('California', 2000):('New York', 2010)]"
   ],
   "metadata": {
    "colab": {
     "base_uri": "https://localhost:8080/",
     "height": 209
    },
    "id": "IyvjyIC0IViO",
    "outputId": "b7043729-3aa1-492b-dee5-e0a28dc9902f",
    "ExecuteTime": {
     "end_time": "2025-06-24T11:45:24.428363Z",
     "start_time": "2025-06-24T11:45:24.424788Z"
    }
   },
   "outputs": [
    {
     "data": {
      "text/plain": [
       "(California, 2000)      1231323\n",
       "(California, 2010)    543535354\n",
       "(New York, 2000)         566456\n",
       "(New York, 2010)        1313123\n",
       "dtype: int64"
      ]
     },
     "execution_count": 41,
     "metadata": {},
     "output_type": "execute_result"
    }
   ],
   "execution_count": 41
  },
  {
   "cell_type": "code",
   "source": [
    "index = pd.MultiIndex.from_tuples(index)\n",
    "pop.index = index"
   ],
   "metadata": {
    "id": "kptXWN16IiW9"
   },
   "execution_count": null,
   "outputs": []
  },
  {
   "cell_type": "code",
   "source": [
    "pop"
   ],
   "metadata": {
    "colab": {
     "base_uri": "https://localhost:8080/",
     "height": 272
    },
    "id": "sfQrjX5XIpKX",
    "outputId": "fb6ec27c-0409-469d-b02b-70879392fee0",
    "ExecuteTime": {
     "end_time": "2025-06-24T11:45:26.159920Z",
     "start_time": "2025-06-24T11:45:26.156042Z"
    }
   },
   "outputs": [
    {
     "data": {
      "text/plain": [
       "(California, 2000)      1231323\n",
       "(California, 2010)    543535354\n",
       "(New York, 2000)         566456\n",
       "(New York, 2010)        1313123\n",
       "(Texas, 2000)            456457\n",
       "(Texas, 2010)           1342344\n",
       "dtype: int64"
      ]
     },
     "execution_count": 42,
     "metadata": {},
     "output_type": "execute_result"
    }
   ],
   "execution_count": 42
  },
  {
   "cell_type": "code",
   "source": [
    "pop['California']"
   ],
   "metadata": {
    "colab": {
     "base_uri": "https://localhost:8080/",
     "height": 147
    },
    "id": "j1leNL_SIz8z",
    "outputId": "54625581-5965-4289-abdf-5710f8e94581",
    "ExecuteTime": {
     "end_time": "2025-06-24T11:45:28.737360Z",
     "start_time": "2025-06-24T11:45:28.211188Z"
    }
   },
   "outputs": [
    {
     "ename": "KeyError",
     "evalue": "'California'",
     "output_type": "error",
     "traceback": [
      "\u001B[31m---------------------------------------------------------------------------\u001B[39m",
      "\u001B[31mKeyError\u001B[39m                                  Traceback (most recent call last)",
      "\u001B[36mFile \u001B[39m\u001B[32m~/anaconda3/envs/Programming_UNIVR/lib/python3.12/site-packages/pandas/core/indexes/base.py:3805\u001B[39m, in \u001B[36mIndex.get_loc\u001B[39m\u001B[34m(self, key)\u001B[39m\n\u001B[32m   3804\u001B[39m \u001B[38;5;28;01mtry\u001B[39;00m:\n\u001B[32m-> \u001B[39m\u001B[32m3805\u001B[39m     \u001B[38;5;28;01mreturn\u001B[39;00m \u001B[38;5;28mself\u001B[39m._engine.get_loc(casted_key)\n\u001B[32m   3806\u001B[39m \u001B[38;5;28;01mexcept\u001B[39;00m \u001B[38;5;167;01mKeyError\u001B[39;00m \u001B[38;5;28;01mas\u001B[39;00m err:\n",
      "\u001B[36mFile \u001B[39m\u001B[32mindex.pyx:167\u001B[39m, in \u001B[36mpandas._libs.index.IndexEngine.get_loc\u001B[39m\u001B[34m()\u001B[39m\n",
      "\u001B[36mFile \u001B[39m\u001B[32mindex.pyx:196\u001B[39m, in \u001B[36mpandas._libs.index.IndexEngine.get_loc\u001B[39m\u001B[34m()\u001B[39m\n",
      "\u001B[36mFile \u001B[39m\u001B[32mpandas/_libs/hashtable_class_helper.pxi:7081\u001B[39m, in \u001B[36mpandas._libs.hashtable.PyObjectHashTable.get_item\u001B[39m\u001B[34m()\u001B[39m\n",
      "\u001B[36mFile \u001B[39m\u001B[32mpandas/_libs/hashtable_class_helper.pxi:7089\u001B[39m, in \u001B[36mpandas._libs.hashtable.PyObjectHashTable.get_item\u001B[39m\u001B[34m()\u001B[39m\n",
      "\u001B[31mKeyError\u001B[39m: 'California'",
      "\nThe above exception was the direct cause of the following exception:\n",
      "\u001B[31mKeyError\u001B[39m                                  Traceback (most recent call last)",
      "\u001B[36mCell\u001B[39m\u001B[36m \u001B[39m\u001B[32mIn[43]\u001B[39m\u001B[32m, line 1\u001B[39m\n\u001B[32m----> \u001B[39m\u001B[32m1\u001B[39m pop[\u001B[33m'\u001B[39m\u001B[33mCalifornia\u001B[39m\u001B[33m'\u001B[39m]\n",
      "\u001B[36mFile \u001B[39m\u001B[32m~/anaconda3/envs/Programming_UNIVR/lib/python3.12/site-packages/pandas/core/series.py:1121\u001B[39m, in \u001B[36mSeries.__getitem__\u001B[39m\u001B[34m(self, key)\u001B[39m\n\u001B[32m   1118\u001B[39m     \u001B[38;5;28;01mreturn\u001B[39;00m \u001B[38;5;28mself\u001B[39m._values[key]\n\u001B[32m   1120\u001B[39m \u001B[38;5;28;01melif\u001B[39;00m key_is_scalar:\n\u001B[32m-> \u001B[39m\u001B[32m1121\u001B[39m     \u001B[38;5;28;01mreturn\u001B[39;00m \u001B[38;5;28mself\u001B[39m._get_value(key)\n\u001B[32m   1123\u001B[39m \u001B[38;5;66;03m# Convert generator to list before going through hashable part\u001B[39;00m\n\u001B[32m   1124\u001B[39m \u001B[38;5;66;03m# (We will iterate through the generator there to check for slices)\u001B[39;00m\n\u001B[32m   1125\u001B[39m \u001B[38;5;28;01mif\u001B[39;00m is_iterator(key):\n",
      "\u001B[36mFile \u001B[39m\u001B[32m~/anaconda3/envs/Programming_UNIVR/lib/python3.12/site-packages/pandas/core/series.py:1237\u001B[39m, in \u001B[36mSeries._get_value\u001B[39m\u001B[34m(self, label, takeable)\u001B[39m\n\u001B[32m   1234\u001B[39m     \u001B[38;5;28;01mreturn\u001B[39;00m \u001B[38;5;28mself\u001B[39m._values[label]\n\u001B[32m   1236\u001B[39m \u001B[38;5;66;03m# Similar to Index.get_value, but we do not fall back to positional\u001B[39;00m\n\u001B[32m-> \u001B[39m\u001B[32m1237\u001B[39m loc = \u001B[38;5;28mself\u001B[39m.index.get_loc(label)\n\u001B[32m   1239\u001B[39m \u001B[38;5;28;01mif\u001B[39;00m is_integer(loc):\n\u001B[32m   1240\u001B[39m     \u001B[38;5;28;01mreturn\u001B[39;00m \u001B[38;5;28mself\u001B[39m._values[loc]\n",
      "\u001B[36mFile \u001B[39m\u001B[32m~/anaconda3/envs/Programming_UNIVR/lib/python3.12/site-packages/pandas/core/indexes/base.py:3812\u001B[39m, in \u001B[36mIndex.get_loc\u001B[39m\u001B[34m(self, key)\u001B[39m\n\u001B[32m   3807\u001B[39m     \u001B[38;5;28;01mif\u001B[39;00m \u001B[38;5;28misinstance\u001B[39m(casted_key, \u001B[38;5;28mslice\u001B[39m) \u001B[38;5;129;01mor\u001B[39;00m (\n\u001B[32m   3808\u001B[39m         \u001B[38;5;28misinstance\u001B[39m(casted_key, abc.Iterable)\n\u001B[32m   3809\u001B[39m         \u001B[38;5;129;01mand\u001B[39;00m \u001B[38;5;28many\u001B[39m(\u001B[38;5;28misinstance\u001B[39m(x, \u001B[38;5;28mslice\u001B[39m) \u001B[38;5;28;01mfor\u001B[39;00m x \u001B[38;5;129;01min\u001B[39;00m casted_key)\n\u001B[32m   3810\u001B[39m     ):\n\u001B[32m   3811\u001B[39m         \u001B[38;5;28;01mraise\u001B[39;00m InvalidIndexError(key)\n\u001B[32m-> \u001B[39m\u001B[32m3812\u001B[39m     \u001B[38;5;28;01mraise\u001B[39;00m \u001B[38;5;167;01mKeyError\u001B[39;00m(key) \u001B[38;5;28;01mfrom\u001B[39;00m\u001B[38;5;250m \u001B[39m\u001B[34;01merr\u001B[39;00m\n\u001B[32m   3813\u001B[39m \u001B[38;5;28;01mexcept\u001B[39;00m \u001B[38;5;167;01mTypeError\u001B[39;00m:\n\u001B[32m   3814\u001B[39m     \u001B[38;5;66;03m# If we have a listlike key, _check_indexing_error will raise\u001B[39;00m\n\u001B[32m   3815\u001B[39m     \u001B[38;5;66;03m#  InvalidIndexError. Otherwise we fall through and re-raise\u001B[39;00m\n\u001B[32m   3816\u001B[39m     \u001B[38;5;66;03m#  the TypeError.\u001B[39;00m\n\u001B[32m   3817\u001B[39m     \u001B[38;5;28mself\u001B[39m._check_indexing_error(key)\n",
      "\u001B[31mKeyError\u001B[39m: 'California'"
     ]
    }
   ],
   "execution_count": 43
  },
  {
   "cell_type": "code",
   "source": [
    "pop[:, 2000]"
   ],
   "metadata": {
    "colab": {
     "base_uri": "https://localhost:8080/",
     "height": 178
    },
    "id": "P47_2-leI_Lj",
    "outputId": "a87bc321-a02a-4ec7-ef8d-babfdc836165",
    "ExecuteTime": {
     "end_time": "2025-06-24T11:45:31.663248Z",
     "start_time": "2025-06-24T11:45:31.627649Z"
    }
   },
   "outputs": [
    {
     "ename": "KeyError",
     "evalue": "'key of type tuple not found and not a MultiIndex'",
     "output_type": "error",
     "traceback": [
      "\u001B[31m---------------------------------------------------------------------------\u001B[39m",
      "\u001B[31mKeyError\u001B[39m                                  Traceback (most recent call last)",
      "\u001B[36mCell\u001B[39m\u001B[36m \u001B[39m\u001B[32mIn[44]\u001B[39m\u001B[32m, line 1\u001B[39m\n\u001B[32m----> \u001B[39m\u001B[32m1\u001B[39m pop[:, \u001B[32m2000\u001B[39m]\n",
      "\u001B[36mFile \u001B[39m\u001B[32m~/anaconda3/envs/Programming_UNIVR/lib/python3.12/site-packages/pandas/core/series.py:1153\u001B[39m, in \u001B[36mSeries.__getitem__\u001B[39m\u001B[34m(self, key)\u001B[39m\n\u001B[32m   1150\u001B[39m     key = np.asarray(key, dtype=\u001B[38;5;28mbool\u001B[39m)\n\u001B[32m   1151\u001B[39m     \u001B[38;5;28;01mreturn\u001B[39;00m \u001B[38;5;28mself\u001B[39m._get_rows_with_mask(key)\n\u001B[32m-> \u001B[39m\u001B[32m1153\u001B[39m \u001B[38;5;28;01mreturn\u001B[39;00m \u001B[38;5;28mself\u001B[39m._get_with(key)\n",
      "\u001B[36mFile \u001B[39m\u001B[32m~/anaconda3/envs/Programming_UNIVR/lib/python3.12/site-packages/pandas/core/series.py:1163\u001B[39m, in \u001B[36mSeries._get_with\u001B[39m\u001B[34m(self, key)\u001B[39m\n\u001B[32m   1158\u001B[39m     \u001B[38;5;28;01mraise\u001B[39;00m \u001B[38;5;167;01mTypeError\u001B[39;00m(\n\u001B[32m   1159\u001B[39m         \u001B[33m\"\u001B[39m\u001B[33mIndexing a Series with DataFrame is not \u001B[39m\u001B[33m\"\u001B[39m\n\u001B[32m   1160\u001B[39m         \u001B[33m\"\u001B[39m\u001B[33msupported, use the appropriate DataFrame column\u001B[39m\u001B[33m\"\u001B[39m\n\u001B[32m   1161\u001B[39m     )\n\u001B[32m   1162\u001B[39m \u001B[38;5;28;01melif\u001B[39;00m \u001B[38;5;28misinstance\u001B[39m(key, \u001B[38;5;28mtuple\u001B[39m):\n\u001B[32m-> \u001B[39m\u001B[32m1163\u001B[39m     \u001B[38;5;28;01mreturn\u001B[39;00m \u001B[38;5;28mself\u001B[39m._get_values_tuple(key)\n\u001B[32m   1165\u001B[39m \u001B[38;5;28;01melif\u001B[39;00m \u001B[38;5;129;01mnot\u001B[39;00m is_list_like(key):\n\u001B[32m   1166\u001B[39m     \u001B[38;5;66;03m# e.g. scalars that aren't recognized by lib.is_scalar, GH#32684\u001B[39;00m\n\u001B[32m   1167\u001B[39m     \u001B[38;5;28;01mreturn\u001B[39;00m \u001B[38;5;28mself\u001B[39m.loc[key]\n",
      "\u001B[36mFile \u001B[39m\u001B[32m~/anaconda3/envs/Programming_UNIVR/lib/python3.12/site-packages/pandas/core/series.py:1207\u001B[39m, in \u001B[36mSeries._get_values_tuple\u001B[39m\u001B[34m(self, key)\u001B[39m\n\u001B[32m   1204\u001B[39m     \u001B[38;5;28;01mreturn\u001B[39;00m result\n\u001B[32m   1206\u001B[39m \u001B[38;5;28;01mif\u001B[39;00m \u001B[38;5;129;01mnot\u001B[39;00m \u001B[38;5;28misinstance\u001B[39m(\u001B[38;5;28mself\u001B[39m.index, MultiIndex):\n\u001B[32m-> \u001B[39m\u001B[32m1207\u001B[39m     \u001B[38;5;28;01mraise\u001B[39;00m \u001B[38;5;167;01mKeyError\u001B[39;00m(\u001B[33m\"\u001B[39m\u001B[33mkey of type tuple not found and not a MultiIndex\u001B[39m\u001B[33m\"\u001B[39m)\n\u001B[32m   1209\u001B[39m \u001B[38;5;66;03m# If key is contained, would have returned by now\u001B[39;00m\n\u001B[32m   1210\u001B[39m indexer, new_index = \u001B[38;5;28mself\u001B[39m.index.get_loc_level(key)\n",
      "\u001B[31mKeyError\u001B[39m: 'key of type tuple not found and not a MultiIndex'"
     ]
    }
   ],
   "execution_count": 44
  },
  {
   "cell_type": "code",
   "source": [
    "pop[:, 2000].mean()"
   ],
   "metadata": {
    "colab": {
     "base_uri": "https://localhost:8080/"
    },
    "id": "aoUgubBhJM6l",
    "outputId": "8e222bf8-40e3-44c7-f561-f3496dce69cb",
    "ExecuteTime": {
     "end_time": "2025-06-24T11:45:34.351620Z",
     "start_time": "2025-06-24T11:45:34.313462Z"
    }
   },
   "outputs": [
    {
     "ename": "KeyError",
     "evalue": "'key of type tuple not found and not a MultiIndex'",
     "output_type": "error",
     "traceback": [
      "\u001B[31m---------------------------------------------------------------------------\u001B[39m",
      "\u001B[31mKeyError\u001B[39m                                  Traceback (most recent call last)",
      "\u001B[36mCell\u001B[39m\u001B[36m \u001B[39m\u001B[32mIn[45]\u001B[39m\u001B[32m, line 1\u001B[39m\n\u001B[32m----> \u001B[39m\u001B[32m1\u001B[39m pop[:, \u001B[32m2000\u001B[39m].mean()\n",
      "\u001B[36mFile \u001B[39m\u001B[32m~/anaconda3/envs/Programming_UNIVR/lib/python3.12/site-packages/pandas/core/series.py:1153\u001B[39m, in \u001B[36mSeries.__getitem__\u001B[39m\u001B[34m(self, key)\u001B[39m\n\u001B[32m   1150\u001B[39m     key = np.asarray(key, dtype=\u001B[38;5;28mbool\u001B[39m)\n\u001B[32m   1151\u001B[39m     \u001B[38;5;28;01mreturn\u001B[39;00m \u001B[38;5;28mself\u001B[39m._get_rows_with_mask(key)\n\u001B[32m-> \u001B[39m\u001B[32m1153\u001B[39m \u001B[38;5;28;01mreturn\u001B[39;00m \u001B[38;5;28mself\u001B[39m._get_with(key)\n",
      "\u001B[36mFile \u001B[39m\u001B[32m~/anaconda3/envs/Programming_UNIVR/lib/python3.12/site-packages/pandas/core/series.py:1163\u001B[39m, in \u001B[36mSeries._get_with\u001B[39m\u001B[34m(self, key)\u001B[39m\n\u001B[32m   1158\u001B[39m     \u001B[38;5;28;01mraise\u001B[39;00m \u001B[38;5;167;01mTypeError\u001B[39;00m(\n\u001B[32m   1159\u001B[39m         \u001B[33m\"\u001B[39m\u001B[33mIndexing a Series with DataFrame is not \u001B[39m\u001B[33m\"\u001B[39m\n\u001B[32m   1160\u001B[39m         \u001B[33m\"\u001B[39m\u001B[33msupported, use the appropriate DataFrame column\u001B[39m\u001B[33m\"\u001B[39m\n\u001B[32m   1161\u001B[39m     )\n\u001B[32m   1162\u001B[39m \u001B[38;5;28;01melif\u001B[39;00m \u001B[38;5;28misinstance\u001B[39m(key, \u001B[38;5;28mtuple\u001B[39m):\n\u001B[32m-> \u001B[39m\u001B[32m1163\u001B[39m     \u001B[38;5;28;01mreturn\u001B[39;00m \u001B[38;5;28mself\u001B[39m._get_values_tuple(key)\n\u001B[32m   1165\u001B[39m \u001B[38;5;28;01melif\u001B[39;00m \u001B[38;5;129;01mnot\u001B[39;00m is_list_like(key):\n\u001B[32m   1166\u001B[39m     \u001B[38;5;66;03m# e.g. scalars that aren't recognized by lib.is_scalar, GH#32684\u001B[39;00m\n\u001B[32m   1167\u001B[39m     \u001B[38;5;28;01mreturn\u001B[39;00m \u001B[38;5;28mself\u001B[39m.loc[key]\n",
      "\u001B[36mFile \u001B[39m\u001B[32m~/anaconda3/envs/Programming_UNIVR/lib/python3.12/site-packages/pandas/core/series.py:1207\u001B[39m, in \u001B[36mSeries._get_values_tuple\u001B[39m\u001B[34m(self, key)\u001B[39m\n\u001B[32m   1204\u001B[39m     \u001B[38;5;28;01mreturn\u001B[39;00m result\n\u001B[32m   1206\u001B[39m \u001B[38;5;28;01mif\u001B[39;00m \u001B[38;5;129;01mnot\u001B[39;00m \u001B[38;5;28misinstance\u001B[39m(\u001B[38;5;28mself\u001B[39m.index, MultiIndex):\n\u001B[32m-> \u001B[39m\u001B[32m1207\u001B[39m     \u001B[38;5;28;01mraise\u001B[39;00m \u001B[38;5;167;01mKeyError\u001B[39;00m(\u001B[33m\"\u001B[39m\u001B[33mkey of type tuple not found and not a MultiIndex\u001B[39m\u001B[33m\"\u001B[39m)\n\u001B[32m   1209\u001B[39m \u001B[38;5;66;03m# If key is contained, would have returned by now\u001B[39;00m\n\u001B[32m   1210\u001B[39m indexer, new_index = \u001B[38;5;28mself\u001B[39m.index.get_loc_level(key)\n",
      "\u001B[31mKeyError\u001B[39m: 'key of type tuple not found and not a MultiIndex'"
     ]
    }
   ],
   "execution_count": 45
  },
  {
   "cell_type": "code",
   "source": [
    "pop.unstack()"
   ],
   "metadata": {
    "colab": {
     "base_uri": "https://localhost:8080/",
     "height": 143
    },
    "id": "dIyWhb7rJQsF",
    "outputId": "0cc02752-871b-4d7d-cc65-224d0785d004"
   },
   "execution_count": null,
   "outputs": [
    {
     "output_type": "execute_result",
     "data": {
      "text/plain": [
       "               2000       2010\n",
       "California  1231323  543535354\n",
       "New York     566456    1313123\n",
       "Texas        456457    1342344"
      ],
      "text/html": [
       "\n",
       "  <div id=\"df-1f2c4746-18ad-4893-95cc-8037fce1c83d\" class=\"colab-df-container\">\n",
       "    <div>\n",
       "<style scoped>\n",
       "    .dataframe tbody tr th:only-of-type {\n",
       "        vertical-align: middle;\n",
       "    }\n",
       "\n",
       "    .dataframe tbody tr th {\n",
       "        vertical-align: top;\n",
       "    }\n",
       "\n",
       "    .dataframe thead th {\n",
       "        text-align: right;\n",
       "    }\n",
       "</style>\n",
       "<table border=\"1\" class=\"dataframe\">\n",
       "  <thead>\n",
       "    <tr style=\"text-align: right;\">\n",
       "      <th></th>\n",
       "      <th>2000</th>\n",
       "      <th>2010</th>\n",
       "    </tr>\n",
       "  </thead>\n",
       "  <tbody>\n",
       "    <tr>\n",
       "      <th>California</th>\n",
       "      <td>1231323</td>\n",
       "      <td>543535354</td>\n",
       "    </tr>\n",
       "    <tr>\n",
       "      <th>New York</th>\n",
       "      <td>566456</td>\n",
       "      <td>1313123</td>\n",
       "    </tr>\n",
       "    <tr>\n",
       "      <th>Texas</th>\n",
       "      <td>456457</td>\n",
       "      <td>1342344</td>\n",
       "    </tr>\n",
       "  </tbody>\n",
       "</table>\n",
       "</div>\n",
       "    <div class=\"colab-df-buttons\">\n",
       "\n",
       "  <div class=\"colab-df-container\">\n",
       "    <button class=\"colab-df-convert\" onclick=\"convertToInteractive('df-1f2c4746-18ad-4893-95cc-8037fce1c83d')\"\n",
       "            title=\"Convert this dataframe to an interactive table.\"\n",
       "            style=\"display:none;\">\n",
       "\n",
       "  <svg xmlns=\"http://www.w3.org/2000/svg\" height=\"24px\" viewBox=\"0 -960 960 960\">\n",
       "    <path d=\"M120-120v-720h720v720H120Zm60-500h600v-160H180v160Zm220 220h160v-160H400v160Zm0 220h160v-160H400v160ZM180-400h160v-160H180v160Zm440 0h160v-160H620v160ZM180-180h160v-160H180v160Zm440 0h160v-160H620v160Z\"/>\n",
       "  </svg>\n",
       "    </button>\n",
       "\n",
       "  <style>\n",
       "    .colab-df-container {\n",
       "      display:flex;\n",
       "      gap: 12px;\n",
       "    }\n",
       "\n",
       "    .colab-df-convert {\n",
       "      background-color: #E8F0FE;\n",
       "      border: none;\n",
       "      border-radius: 50%;\n",
       "      cursor: pointer;\n",
       "      display: none;\n",
       "      fill: #1967D2;\n",
       "      height: 32px;\n",
       "      padding: 0 0 0 0;\n",
       "      width: 32px;\n",
       "    }\n",
       "\n",
       "    .colab-df-convert:hover {\n",
       "      background-color: #E2EBFA;\n",
       "      box-shadow: 0px 1px 2px rgba(60, 64, 67, 0.3), 0px 1px 3px 1px rgba(60, 64, 67, 0.15);\n",
       "      fill: #174EA6;\n",
       "    }\n",
       "\n",
       "    .colab-df-buttons div {\n",
       "      margin-bottom: 4px;\n",
       "    }\n",
       "\n",
       "    [theme=dark] .colab-df-convert {\n",
       "      background-color: #3B4455;\n",
       "      fill: #D2E3FC;\n",
       "    }\n",
       "\n",
       "    [theme=dark] .colab-df-convert:hover {\n",
       "      background-color: #434B5C;\n",
       "      box-shadow: 0px 1px 3px 1px rgba(0, 0, 0, 0.15);\n",
       "      filter: drop-shadow(0px 1px 2px rgba(0, 0, 0, 0.3));\n",
       "      fill: #FFFFFF;\n",
       "    }\n",
       "  </style>\n",
       "\n",
       "    <script>\n",
       "      const buttonEl =\n",
       "        document.querySelector('#df-1f2c4746-18ad-4893-95cc-8037fce1c83d button.colab-df-convert');\n",
       "      buttonEl.style.display =\n",
       "        google.colab.kernel.accessAllowed ? 'block' : 'none';\n",
       "\n",
       "      async function convertToInteractive(key) {\n",
       "        const element = document.querySelector('#df-1f2c4746-18ad-4893-95cc-8037fce1c83d');\n",
       "        const dataTable =\n",
       "          await google.colab.kernel.invokeFunction('convertToInteractive',\n",
       "                                                    [key], {});\n",
       "        if (!dataTable) return;\n",
       "\n",
       "        const docLinkHtml = 'Like what you see? Visit the ' +\n",
       "          '<a target=\"_blank\" href=https://colab.research.google.com/notebooks/data_table.ipynb>data table notebook</a>'\n",
       "          + ' to learn more about interactive tables.';\n",
       "        element.innerHTML = '';\n",
       "        dataTable['output_type'] = 'display_data';\n",
       "        await google.colab.output.renderOutput(dataTable, element);\n",
       "        const docLink = document.createElement('div');\n",
       "        docLink.innerHTML = docLinkHtml;\n",
       "        element.appendChild(docLink);\n",
       "      }\n",
       "    </script>\n",
       "  </div>\n",
       "\n",
       "\n",
       "<div id=\"df-266b2f3e-80c4-4ab5-be03-f0cbd9b7da27\">\n",
       "  <button class=\"colab-df-quickchart\" onclick=\"quickchart('df-266b2f3e-80c4-4ab5-be03-f0cbd9b7da27')\"\n",
       "            title=\"Suggest charts\"\n",
       "            style=\"display:none;\">\n",
       "\n",
       "<svg xmlns=\"http://www.w3.org/2000/svg\" height=\"24px\"viewBox=\"0 0 24 24\"\n",
       "     width=\"24px\">\n",
       "    <g>\n",
       "        <path d=\"M19 3H5c-1.1 0-2 .9-2 2v14c0 1.1.9 2 2 2h14c1.1 0 2-.9 2-2V5c0-1.1-.9-2-2-2zM9 17H7v-7h2v7zm4 0h-2V7h2v10zm4 0h-2v-4h2v4z\"/>\n",
       "    </g>\n",
       "</svg>\n",
       "  </button>\n",
       "\n",
       "<style>\n",
       "  .colab-df-quickchart {\n",
       "      --bg-color: #E8F0FE;\n",
       "      --fill-color: #1967D2;\n",
       "      --hover-bg-color: #E2EBFA;\n",
       "      --hover-fill-color: #174EA6;\n",
       "      --disabled-fill-color: #AAA;\n",
       "      --disabled-bg-color: #DDD;\n",
       "  }\n",
       "\n",
       "  [theme=dark] .colab-df-quickchart {\n",
       "      --bg-color: #3B4455;\n",
       "      --fill-color: #D2E3FC;\n",
       "      --hover-bg-color: #434B5C;\n",
       "      --hover-fill-color: #FFFFFF;\n",
       "      --disabled-bg-color: #3B4455;\n",
       "      --disabled-fill-color: #666;\n",
       "  }\n",
       "\n",
       "  .colab-df-quickchart {\n",
       "    background-color: var(--bg-color);\n",
       "    border: none;\n",
       "    border-radius: 50%;\n",
       "    cursor: pointer;\n",
       "    display: none;\n",
       "    fill: var(--fill-color);\n",
       "    height: 32px;\n",
       "    padding: 0;\n",
       "    width: 32px;\n",
       "  }\n",
       "\n",
       "  .colab-df-quickchart:hover {\n",
       "    background-color: var(--hover-bg-color);\n",
       "    box-shadow: 0 1px 2px rgba(60, 64, 67, 0.3), 0 1px 3px 1px rgba(60, 64, 67, 0.15);\n",
       "    fill: var(--button-hover-fill-color);\n",
       "  }\n",
       "\n",
       "  .colab-df-quickchart-complete:disabled,\n",
       "  .colab-df-quickchart-complete:disabled:hover {\n",
       "    background-color: var(--disabled-bg-color);\n",
       "    fill: var(--disabled-fill-color);\n",
       "    box-shadow: none;\n",
       "  }\n",
       "\n",
       "  .colab-df-spinner {\n",
       "    border: 2px solid var(--fill-color);\n",
       "    border-color: transparent;\n",
       "    border-bottom-color: var(--fill-color);\n",
       "    animation:\n",
       "      spin 1s steps(1) infinite;\n",
       "  }\n",
       "\n",
       "  @keyframes spin {\n",
       "    0% {\n",
       "      border-color: transparent;\n",
       "      border-bottom-color: var(--fill-color);\n",
       "      border-left-color: var(--fill-color);\n",
       "    }\n",
       "    20% {\n",
       "      border-color: transparent;\n",
       "      border-left-color: var(--fill-color);\n",
       "      border-top-color: var(--fill-color);\n",
       "    }\n",
       "    30% {\n",
       "      border-color: transparent;\n",
       "      border-left-color: var(--fill-color);\n",
       "      border-top-color: var(--fill-color);\n",
       "      border-right-color: var(--fill-color);\n",
       "    }\n",
       "    40% {\n",
       "      border-color: transparent;\n",
       "      border-right-color: var(--fill-color);\n",
       "      border-top-color: var(--fill-color);\n",
       "    }\n",
       "    60% {\n",
       "      border-color: transparent;\n",
       "      border-right-color: var(--fill-color);\n",
       "    }\n",
       "    80% {\n",
       "      border-color: transparent;\n",
       "      border-right-color: var(--fill-color);\n",
       "      border-bottom-color: var(--fill-color);\n",
       "    }\n",
       "    90% {\n",
       "      border-color: transparent;\n",
       "      border-bottom-color: var(--fill-color);\n",
       "    }\n",
       "  }\n",
       "</style>\n",
       "\n",
       "  <script>\n",
       "    async function quickchart(key) {\n",
       "      const quickchartButtonEl =\n",
       "        document.querySelector('#' + key + ' button');\n",
       "      quickchartButtonEl.disabled = true;  // To prevent multiple clicks.\n",
       "      quickchartButtonEl.classList.add('colab-df-spinner');\n",
       "      try {\n",
       "        const charts = await google.colab.kernel.invokeFunction(\n",
       "            'suggestCharts', [key], {});\n",
       "      } catch (error) {\n",
       "        console.error('Error during call to suggestCharts:', error);\n",
       "      }\n",
       "      quickchartButtonEl.classList.remove('colab-df-spinner');\n",
       "      quickchartButtonEl.classList.add('colab-df-quickchart-complete');\n",
       "    }\n",
       "    (() => {\n",
       "      let quickchartButtonEl =\n",
       "        document.querySelector('#df-266b2f3e-80c4-4ab5-be03-f0cbd9b7da27 button');\n",
       "      quickchartButtonEl.style.display =\n",
       "        google.colab.kernel.accessAllowed ? 'block' : 'none';\n",
       "    })();\n",
       "  </script>\n",
       "</div>\n",
       "\n",
       "    </div>\n",
       "  </div>\n"
      ],
      "application/vnd.google.colaboratory.intrinsic+json": {
       "type": "dataframe",
       "summary": "{\n  \"name\": \"pop\",\n  \"rows\": 3,\n  \"fields\": [\n    {\n      \"column\": 2000,\n      \"properties\": {\n        \"dtype\": \"number\",\n        \"std\": 419238,\n        \"min\": 456457,\n        \"max\": 1231323,\n        \"num_unique_values\": 3,\n        \"samples\": [\n          1231323,\n          566456,\n          456457\n        ],\n        \"semantic_type\": \"\",\n        \"description\": \"\"\n      }\n    },\n    {\n      \"column\": 2010,\n      \"properties\": {\n        \"dtype\": \"number\",\n        \"std\": 313043715,\n        \"min\": 1313123,\n        \"max\": 543535354,\n        \"num_unique_values\": 3,\n        \"samples\": [\n          543535354,\n          1313123,\n          1342344\n        ],\n        \"semantic_type\": \"\",\n        \"description\": \"\"\n      }\n    }\n  ]\n}"
      }
     },
     "metadata": {},
     "execution_count": 71
    }
   ]
  },
  {
   "cell_type": "markdown",
   "source": [
    "###NBA merge"
   ],
   "metadata": {
    "id": "K-o82F4WqgzG"
   }
  },
  {
   "cell_type": "code",
   "source": [
    "!unzip nba_games.zip"
   ],
   "metadata": {
    "colab": {
     "base_uri": "https://localhost:8080/"
    },
    "id": "m2XeaJvZJx7H",
    "outputId": "7bb5a3cb-eca6-4235-b6eb-5e0d7cbf36eb"
   },
   "execution_count": null,
   "outputs": [
    {
     "output_type": "stream",
     "name": "stdout",
     "text": [
      "Archive:  nba_games.zip\n",
      "  inflating: games.csv               \n",
      "  inflating: games_details.csv       \n",
      "  inflating: players.csv             \n",
      "  inflating: ranking.csv             \n",
      "  inflating: teams.csv               \n"
     ]
    }
   ]
  },
  {
   "cell_type": "code",
   "source": [
    "games_details_df = pd.read_csv('games_details.csv')\n",
    "games_details_df.info()"
   ],
   "metadata": {
    "colab": {
     "base_uri": "https://localhost:8080/"
    },
    "id": "1Fe-PZLbJ1lh",
    "outputId": "e457a2aa-37d6-49b7-d9ca-1ff6cd7be32f"
   },
   "execution_count": null,
   "outputs": [
    {
     "output_type": "stream",
     "name": "stderr",
     "text": [
      "<ipython-input-73-37d2a7f18b97>:1: DtypeWarning: Columns (6) have mixed types. Specify dtype option on import or set low_memory=False.\n",
      "  games_details_df = pd.read_csv('games_details.csv')\n"
     ]
    },
    {
     "output_type": "stream",
     "name": "stdout",
     "text": [
      "<class 'pandas.core.frame.DataFrame'>\n",
      "RangeIndex: 668628 entries, 0 to 668627\n",
      "Data columns (total 29 columns):\n",
      " #   Column             Non-Null Count   Dtype  \n",
      "---  ------             --------------   -----  \n",
      " 0   GAME_ID            668628 non-null  int64  \n",
      " 1   TEAM_ID            668628 non-null  int64  \n",
      " 2   TEAM_ABBREVIATION  668628 non-null  object \n",
      " 3   TEAM_CITY          668628 non-null  object \n",
      " 4   PLAYER_ID          668628 non-null  int64  \n",
      " 5   PLAYER_NAME        668628 non-null  object \n",
      " 6   NICKNAME           53037 non-null   object \n",
      " 7   START_POSITION     255765 non-null  object \n",
      " 8   COMMENT            109689 non-null  object \n",
      " 9   MIN                558938 non-null  object \n",
      " 10  FGM                558938 non-null  float64\n",
      " 11  FGA                558938 non-null  float64\n",
      " 12  FG_PCT             558938 non-null  float64\n",
      " 13  FG3M               558938 non-null  float64\n",
      " 14  FG3A               558938 non-null  float64\n",
      " 15  FG3_PCT            558938 non-null  float64\n",
      " 16  FTM                558938 non-null  float64\n",
      " 17  FTA                558938 non-null  float64\n",
      " 18  FT_PCT             558938 non-null  float64\n",
      " 19  OREB               558938 non-null  float64\n",
      " 20  DREB               558938 non-null  float64\n",
      " 21  REB                558938 non-null  float64\n",
      " 22  AST                558938 non-null  float64\n",
      " 23  STL                558938 non-null  float64\n",
      " 24  BLK                558938 non-null  float64\n",
      " 25  TO                 558938 non-null  float64\n",
      " 26  PF                 558938 non-null  float64\n",
      " 27  PTS                558938 non-null  float64\n",
      " 28  PLUS_MINUS         535277 non-null  float64\n",
      "dtypes: float64(19), int64(3), object(7)\n",
      "memory usage: 147.9+ MB\n"
     ]
    }
   ]
  },
  {
   "cell_type": "code",
   "source": [
    "!ls"
   ],
   "metadata": {
    "colab": {
     "base_uri": "https://localhost:8080/"
    },
    "id": "TIwrnlPfKRy8",
    "outputId": "d5190c6e-c3fe-4c0c-ae86-84aadfdf1277"
   },
   "execution_count": null,
   "outputs": [
    {
     "output_type": "stream",
     "name": "stdout",
     "text": [
      "games.csv  games_details.csv  nba_games.zip  players.csv  ranking.csv  sample_data  teams.csv\n"
     ]
    }
   ]
  },
  {
   "cell_type": "code",
   "source": [
    "teams_df = pd.read_csv('teams.csv')"
   ],
   "metadata": {
    "id": "DTVe7eKzKTKg"
   },
   "execution_count": null,
   "outputs": []
  },
  {
   "cell_type": "code",
   "source": [
    "teams_df.info()"
   ],
   "metadata": {
    "colab": {
     "base_uri": "https://localhost:8080/"
    },
    "id": "nDTS_jldKYWx",
    "outputId": "e99bb4c9-6d7d-40ea-daaf-0a000d3005a8"
   },
   "execution_count": null,
   "outputs": [
    {
     "output_type": "stream",
     "name": "stdout",
     "text": [
      "<class 'pandas.core.frame.DataFrame'>\n",
      "RangeIndex: 30 entries, 0 to 29\n",
      "Data columns (total 14 columns):\n",
      " #   Column              Non-Null Count  Dtype  \n",
      "---  ------              --------------  -----  \n",
      " 0   LEAGUE_ID           30 non-null     int64  \n",
      " 1   TEAM_ID             30 non-null     int64  \n",
      " 2   MIN_YEAR            30 non-null     int64  \n",
      " 3   MAX_YEAR            30 non-null     int64  \n",
      " 4   ABBREVIATION        30 non-null     object \n",
      " 5   NICKNAME            30 non-null     object \n",
      " 6   YEARFOUNDED         30 non-null     int64  \n",
      " 7   CITY                30 non-null     object \n",
      " 8   ARENA               30 non-null     object \n",
      " 9   ARENACAPACITY       26 non-null     float64\n",
      " 10  OWNER               30 non-null     object \n",
      " 11  GENERALMANAGER      30 non-null     object \n",
      " 12  HEADCOACH           30 non-null     object \n",
      " 13  DLEAGUEAFFILIATION  30 non-null     object \n",
      "dtypes: float64(1), int64(5), object(8)\n",
      "memory usage: 3.4+ KB\n"
     ]
    }
   ]
  },
  {
   "cell_type": "code",
   "source": [
    "teams_df"
   ],
   "metadata": {
    "colab": {
     "base_uri": "https://localhost:8080/",
     "height": 1000
    },
    "id": "uaZ5RKOmLWTJ",
    "outputId": "6a4fb859-ec0d-459f-8034-d16af7cdedd4"
   },
   "execution_count": null,
   "outputs": [
    {
     "output_type": "execute_result",
     "data": {
      "text/plain": [
       "    LEAGUE_ID     TEAM_ID  MIN_YEAR  MAX_YEAR ABBREVIATION       NICKNAME  \\\n",
       "0           0  1610612737      1949      2019          ATL          Hawks   \n",
       "1           0  1610612738      1946      2019          BOS        Celtics   \n",
       "2           0  1610612740      2002      2019          NOP       Pelicans   \n",
       "3           0  1610612741      1966      2019          CHI          Bulls   \n",
       "4           0  1610612742      1980      2019          DAL      Mavericks   \n",
       "5           0  1610612743      1976      2019          DEN        Nuggets   \n",
       "6           0  1610612745      1967      2019          HOU        Rockets   \n",
       "7           0  1610612746      1970      2019          LAC       Clippers   \n",
       "8           0  1610612747      1948      2019          LAL         Lakers   \n",
       "9           0  1610612748      1988      2019          MIA           Heat   \n",
       "10          0  1610612749      1968      2019          MIL          Bucks   \n",
       "11          0  1610612750      1989      2019          MIN   Timberwolves   \n",
       "12          0  1610612751      1976      2019          BKN           Nets   \n",
       "13          0  1610612752      1946      2019          NYK         Knicks   \n",
       "14          0  1610612753      1989      2019          ORL          Magic   \n",
       "15          0  1610612754      1976      2019          IND         Pacers   \n",
       "16          0  1610612755      1949      2019          PHI          76ers   \n",
       "17          0  1610612756      1968      2019          PHX           Suns   \n",
       "18          0  1610612757      1970      2019          POR  Trail Blazers   \n",
       "19          0  1610612758      1948      2019          SAC          Kings   \n",
       "20          0  1610612759      1976      2019          SAS          Spurs   \n",
       "21          0  1610612760      1967      2019          OKC        Thunder   \n",
       "22          0  1610612761      1995      2019          TOR        Raptors   \n",
       "23          0  1610612762      1974      2019          UTA           Jazz   \n",
       "24          0  1610612763      1995      2019          MEM      Grizzlies   \n",
       "25          0  1610612764      1961      2019          WAS        Wizards   \n",
       "26          0  1610612765      1948      2019          DET        Pistons   \n",
       "27          0  1610612766      1988      2019          CHA        Hornets   \n",
       "28          0  1610612739      1970      2019          CLE      Cavaliers   \n",
       "29          0  1610612744      1946      2019          GSW       Warriors   \n",
       "\n",
       "    YEARFOUNDED           CITY                       ARENA  ARENACAPACITY  \\\n",
       "0          1949        Atlanta            State Farm Arena        18729.0   \n",
       "1          1946         Boston                   TD Garden        18624.0   \n",
       "2          2002    New Orleans        Smoothie King Center            NaN   \n",
       "3          1966        Chicago               United Center        21711.0   \n",
       "4          1980         Dallas    American Airlines Center        19200.0   \n",
       "5          1976         Denver                Pepsi Center        19099.0   \n",
       "6          1967        Houston               Toyota Center        18104.0   \n",
       "7          1970    Los Angeles              Staples Center        19060.0   \n",
       "8          1948    Los Angeles              Staples Center        19060.0   \n",
       "9          1988          Miami      AmericanAirlines Arena        19600.0   \n",
       "10         1968      Milwaukee                Fiserv Forum        17500.0   \n",
       "11         1989      Minnesota               Target Center        19356.0   \n",
       "12         1976       Brooklyn             Barclays Center            NaN   \n",
       "13         1946       New York       Madison Square Garden        19763.0   \n",
       "14         1989        Orlando                Amway Center            0.0   \n",
       "15         1976        Indiana     Bankers Life Fieldhouse        18345.0   \n",
       "16         1949   Philadelphia          Wells Fargo Center            NaN   \n",
       "17         1968        Phoenix  Talking Stick Resort Arena            NaN   \n",
       "18         1970       Portland                 Moda Center        19980.0   \n",
       "19         1948     Sacramento             Golden 1 Center        17500.0   \n",
       "20         1976    San Antonio                 AT&T Center        18694.0   \n",
       "21         1967  Oklahoma City     Chesapeake Energy Arena        19163.0   \n",
       "22         1995        Toronto            Scotiabank Arena        19800.0   \n",
       "23         1974           Utah     Vivint Smart Home Arena        20148.0   \n",
       "24         1995        Memphis                  FedExForum        18119.0   \n",
       "25         1961     Washington           Capital One Arena        20647.0   \n",
       "26         1948        Detroit        Little Caesars Arena        21000.0   \n",
       "27         1988      Charlotte             Spectrum Center        19026.0   \n",
       "28         1970      Cleveland         Quicken Loans Arena        20562.0   \n",
       "29         1946   Golden State                Chase Center        19596.0   \n",
       "\n",
       "                                  OWNER   GENERALMANAGER         HEADCOACH  \\\n",
       "0                          Tony Ressler   Travis Schlenk      Lloyd Pierce   \n",
       "1                         Wyc Grousbeck      Danny Ainge      Brad Stevens   \n",
       "2                            Tom Benson   Trajan Langdon      Alvin Gentry   \n",
       "3                       Jerry Reinsdorf       Gar Forman        Jim Boylen   \n",
       "4                            Mark Cuban    Donnie Nelson     Rick Carlisle   \n",
       "5                          Stan Kroenke     Tim Connelly    Michael Malone   \n",
       "6                       Tilman Fertitta      Daryl Morey     Mike D'Antoni   \n",
       "7                         Steve Ballmer   Michael Winger        Doc Rivers   \n",
       "8               Jerry Buss Family Trust      Rob Pelinka       Frank Vogel   \n",
       "9                          Micky Arison        Pat Riley    Erik Spoelstra   \n",
       "10            Wesley Edens & Marc Lasry        Jon Horst  Mike Budenholzer   \n",
       "11                          Glen Taylor     Scott Layden     Ryan Saunders   \n",
       "12                             Joe Tsai       Sean Marks    Kenny Atkinson   \n",
       "13            Cablevision (James Dolan)      Steve Mills     David Fizdale   \n",
       "14                           Rick DeVos     John Hammond    Steve Clifford   \n",
       "15                           Herb Simon  Kevin Pritchard     Nate McMillan   \n",
       "16                        Joshua Harris      Elton Brand       Brett Brown   \n",
       "17                        Robert Sarver      James Jones    Monty Williams   \n",
       "18                           Paul Allen      Neil Olshey      Terry Stotts   \n",
       "19                       Vivek Ranadive      Vlade Divac       Luke Walton   \n",
       "20                           Peter Holt     Brian Wright    Gregg Popovich   \n",
       "21                         Clay Bennett       Sam Presti     Billy Donovan   \n",
       "22  Maple Leaf Sports and Entertainment      Masai Ujiri        Nick Nurse   \n",
       "23                          Greg Miller   Dennis Lindsey       Quin Snyder   \n",
       "24                          Robert Pera     Zach Kleiman    Taylor Jenkins   \n",
       "25                          Ted Leonsis   Tommy Sheppard      Scott Brooks   \n",
       "26                            Tom Gores     Ed Stefanski       Dwane Casey   \n",
       "27                       Michael Jordan    Mitch Kupchak     James Borrego   \n",
       "28                          Dan Gilbert      Koby Altman      John Beilein   \n",
       "29                            Joe Lacob        Bob Myers        Steve Kerr   \n",
       "\n",
       "                   DLEAGUEAFFILIATION  \n",
       "0                       Erie Bayhawks  \n",
       "1                     Maine Red Claws  \n",
       "2                        No Affiliate  \n",
       "3                    Windy City Bulls  \n",
       "4                       Texas Legends  \n",
       "5                        No Affiliate  \n",
       "6            Rio Grande Valley Vipers  \n",
       "7   Agua Caliente Clippers of Ontario  \n",
       "8                    South Bay Lakers  \n",
       "9                Sioux Falls Skyforce  \n",
       "10                     Wisconsin Herd  \n",
       "11                        Iowa Wolves  \n",
       "12                   Long Island Nets  \n",
       "13                 Westchester Knicks  \n",
       "14                     Lakeland Magic  \n",
       "15                Fort Wayne Mad Ants  \n",
       "16                Delaware Blue Coats  \n",
       "17              Northern Arizona Suns  \n",
       "18                       No Affiliate  \n",
       "19                     Stockton Kings  \n",
       "20                       Austin Spurs  \n",
       "21                 Oklahoma City Blue  \n",
       "22                        Raptors 905  \n",
       "23               Salt Lake City Stars  \n",
       "24                     Memphis Hustle  \n",
       "25                 Capital City Go-Go  \n",
       "26                 Grand Rapids Drive  \n",
       "27                   Greensboro Swarm  \n",
       "28                      Canton Charge  \n",
       "29                Santa Cruz Warriors  "
      ],
      "text/html": [
       "\n",
       "  <div id=\"df-31d3c031-e00f-44ee-969f-252666fee65e\" class=\"colab-df-container\">\n",
       "    <div>\n",
       "<style scoped>\n",
       "    .dataframe tbody tr th:only-of-type {\n",
       "        vertical-align: middle;\n",
       "    }\n",
       "\n",
       "    .dataframe tbody tr th {\n",
       "        vertical-align: top;\n",
       "    }\n",
       "\n",
       "    .dataframe thead th {\n",
       "        text-align: right;\n",
       "    }\n",
       "</style>\n",
       "<table border=\"1\" class=\"dataframe\">\n",
       "  <thead>\n",
       "    <tr style=\"text-align: right;\">\n",
       "      <th></th>\n",
       "      <th>LEAGUE_ID</th>\n",
       "      <th>TEAM_ID</th>\n",
       "      <th>MIN_YEAR</th>\n",
       "      <th>MAX_YEAR</th>\n",
       "      <th>ABBREVIATION</th>\n",
       "      <th>NICKNAME</th>\n",
       "      <th>YEARFOUNDED</th>\n",
       "      <th>CITY</th>\n",
       "      <th>ARENA</th>\n",
       "      <th>ARENACAPACITY</th>\n",
       "      <th>OWNER</th>\n",
       "      <th>GENERALMANAGER</th>\n",
       "      <th>HEADCOACH</th>\n",
       "      <th>DLEAGUEAFFILIATION</th>\n",
       "    </tr>\n",
       "  </thead>\n",
       "  <tbody>\n",
       "    <tr>\n",
       "      <th>0</th>\n",
       "      <td>0</td>\n",
       "      <td>1610612737</td>\n",
       "      <td>1949</td>\n",
       "      <td>2019</td>\n",
       "      <td>ATL</td>\n",
       "      <td>Hawks</td>\n",
       "      <td>1949</td>\n",
       "      <td>Atlanta</td>\n",
       "      <td>State Farm Arena</td>\n",
       "      <td>18729.0</td>\n",
       "      <td>Tony Ressler</td>\n",
       "      <td>Travis Schlenk</td>\n",
       "      <td>Lloyd Pierce</td>\n",
       "      <td>Erie Bayhawks</td>\n",
       "    </tr>\n",
       "    <tr>\n",
       "      <th>1</th>\n",
       "      <td>0</td>\n",
       "      <td>1610612738</td>\n",
       "      <td>1946</td>\n",
       "      <td>2019</td>\n",
       "      <td>BOS</td>\n",
       "      <td>Celtics</td>\n",
       "      <td>1946</td>\n",
       "      <td>Boston</td>\n",
       "      <td>TD Garden</td>\n",
       "      <td>18624.0</td>\n",
       "      <td>Wyc Grousbeck</td>\n",
       "      <td>Danny Ainge</td>\n",
       "      <td>Brad Stevens</td>\n",
       "      <td>Maine Red Claws</td>\n",
       "    </tr>\n",
       "    <tr>\n",
       "      <th>2</th>\n",
       "      <td>0</td>\n",
       "      <td>1610612740</td>\n",
       "      <td>2002</td>\n",
       "      <td>2019</td>\n",
       "      <td>NOP</td>\n",
       "      <td>Pelicans</td>\n",
       "      <td>2002</td>\n",
       "      <td>New Orleans</td>\n",
       "      <td>Smoothie King Center</td>\n",
       "      <td>NaN</td>\n",
       "      <td>Tom Benson</td>\n",
       "      <td>Trajan Langdon</td>\n",
       "      <td>Alvin Gentry</td>\n",
       "      <td>No Affiliate</td>\n",
       "    </tr>\n",
       "    <tr>\n",
       "      <th>3</th>\n",
       "      <td>0</td>\n",
       "      <td>1610612741</td>\n",
       "      <td>1966</td>\n",
       "      <td>2019</td>\n",
       "      <td>CHI</td>\n",
       "      <td>Bulls</td>\n",
       "      <td>1966</td>\n",
       "      <td>Chicago</td>\n",
       "      <td>United Center</td>\n",
       "      <td>21711.0</td>\n",
       "      <td>Jerry Reinsdorf</td>\n",
       "      <td>Gar Forman</td>\n",
       "      <td>Jim Boylen</td>\n",
       "      <td>Windy City Bulls</td>\n",
       "    </tr>\n",
       "    <tr>\n",
       "      <th>4</th>\n",
       "      <td>0</td>\n",
       "      <td>1610612742</td>\n",
       "      <td>1980</td>\n",
       "      <td>2019</td>\n",
       "      <td>DAL</td>\n",
       "      <td>Mavericks</td>\n",
       "      <td>1980</td>\n",
       "      <td>Dallas</td>\n",
       "      <td>American Airlines Center</td>\n",
       "      <td>19200.0</td>\n",
       "      <td>Mark Cuban</td>\n",
       "      <td>Donnie Nelson</td>\n",
       "      <td>Rick Carlisle</td>\n",
       "      <td>Texas Legends</td>\n",
       "    </tr>\n",
       "    <tr>\n",
       "      <th>5</th>\n",
       "      <td>0</td>\n",
       "      <td>1610612743</td>\n",
       "      <td>1976</td>\n",
       "      <td>2019</td>\n",
       "      <td>DEN</td>\n",
       "      <td>Nuggets</td>\n",
       "      <td>1976</td>\n",
       "      <td>Denver</td>\n",
       "      <td>Pepsi Center</td>\n",
       "      <td>19099.0</td>\n",
       "      <td>Stan Kroenke</td>\n",
       "      <td>Tim Connelly</td>\n",
       "      <td>Michael Malone</td>\n",
       "      <td>No Affiliate</td>\n",
       "    </tr>\n",
       "    <tr>\n",
       "      <th>6</th>\n",
       "      <td>0</td>\n",
       "      <td>1610612745</td>\n",
       "      <td>1967</td>\n",
       "      <td>2019</td>\n",
       "      <td>HOU</td>\n",
       "      <td>Rockets</td>\n",
       "      <td>1967</td>\n",
       "      <td>Houston</td>\n",
       "      <td>Toyota Center</td>\n",
       "      <td>18104.0</td>\n",
       "      <td>Tilman Fertitta</td>\n",
       "      <td>Daryl Morey</td>\n",
       "      <td>Mike D'Antoni</td>\n",
       "      <td>Rio Grande Valley Vipers</td>\n",
       "    </tr>\n",
       "    <tr>\n",
       "      <th>7</th>\n",
       "      <td>0</td>\n",
       "      <td>1610612746</td>\n",
       "      <td>1970</td>\n",
       "      <td>2019</td>\n",
       "      <td>LAC</td>\n",
       "      <td>Clippers</td>\n",
       "      <td>1970</td>\n",
       "      <td>Los Angeles</td>\n",
       "      <td>Staples Center</td>\n",
       "      <td>19060.0</td>\n",
       "      <td>Steve Ballmer</td>\n",
       "      <td>Michael Winger</td>\n",
       "      <td>Doc Rivers</td>\n",
       "      <td>Agua Caliente Clippers of Ontario</td>\n",
       "    </tr>\n",
       "    <tr>\n",
       "      <th>8</th>\n",
       "      <td>0</td>\n",
       "      <td>1610612747</td>\n",
       "      <td>1948</td>\n",
       "      <td>2019</td>\n",
       "      <td>LAL</td>\n",
       "      <td>Lakers</td>\n",
       "      <td>1948</td>\n",
       "      <td>Los Angeles</td>\n",
       "      <td>Staples Center</td>\n",
       "      <td>19060.0</td>\n",
       "      <td>Jerry Buss Family Trust</td>\n",
       "      <td>Rob Pelinka</td>\n",
       "      <td>Frank Vogel</td>\n",
       "      <td>South Bay Lakers</td>\n",
       "    </tr>\n",
       "    <tr>\n",
       "      <th>9</th>\n",
       "      <td>0</td>\n",
       "      <td>1610612748</td>\n",
       "      <td>1988</td>\n",
       "      <td>2019</td>\n",
       "      <td>MIA</td>\n",
       "      <td>Heat</td>\n",
       "      <td>1988</td>\n",
       "      <td>Miami</td>\n",
       "      <td>AmericanAirlines Arena</td>\n",
       "      <td>19600.0</td>\n",
       "      <td>Micky Arison</td>\n",
       "      <td>Pat Riley</td>\n",
       "      <td>Erik Spoelstra</td>\n",
       "      <td>Sioux Falls Skyforce</td>\n",
       "    </tr>\n",
       "    <tr>\n",
       "      <th>10</th>\n",
       "      <td>0</td>\n",
       "      <td>1610612749</td>\n",
       "      <td>1968</td>\n",
       "      <td>2019</td>\n",
       "      <td>MIL</td>\n",
       "      <td>Bucks</td>\n",
       "      <td>1968</td>\n",
       "      <td>Milwaukee</td>\n",
       "      <td>Fiserv Forum</td>\n",
       "      <td>17500.0</td>\n",
       "      <td>Wesley Edens &amp; Marc Lasry</td>\n",
       "      <td>Jon Horst</td>\n",
       "      <td>Mike Budenholzer</td>\n",
       "      <td>Wisconsin Herd</td>\n",
       "    </tr>\n",
       "    <tr>\n",
       "      <th>11</th>\n",
       "      <td>0</td>\n",
       "      <td>1610612750</td>\n",
       "      <td>1989</td>\n",
       "      <td>2019</td>\n",
       "      <td>MIN</td>\n",
       "      <td>Timberwolves</td>\n",
       "      <td>1989</td>\n",
       "      <td>Minnesota</td>\n",
       "      <td>Target Center</td>\n",
       "      <td>19356.0</td>\n",
       "      <td>Glen Taylor</td>\n",
       "      <td>Scott Layden</td>\n",
       "      <td>Ryan Saunders</td>\n",
       "      <td>Iowa Wolves</td>\n",
       "    </tr>\n",
       "    <tr>\n",
       "      <th>12</th>\n",
       "      <td>0</td>\n",
       "      <td>1610612751</td>\n",
       "      <td>1976</td>\n",
       "      <td>2019</td>\n",
       "      <td>BKN</td>\n",
       "      <td>Nets</td>\n",
       "      <td>1976</td>\n",
       "      <td>Brooklyn</td>\n",
       "      <td>Barclays Center</td>\n",
       "      <td>NaN</td>\n",
       "      <td>Joe Tsai</td>\n",
       "      <td>Sean Marks</td>\n",
       "      <td>Kenny Atkinson</td>\n",
       "      <td>Long Island Nets</td>\n",
       "    </tr>\n",
       "    <tr>\n",
       "      <th>13</th>\n",
       "      <td>0</td>\n",
       "      <td>1610612752</td>\n",
       "      <td>1946</td>\n",
       "      <td>2019</td>\n",
       "      <td>NYK</td>\n",
       "      <td>Knicks</td>\n",
       "      <td>1946</td>\n",
       "      <td>New York</td>\n",
       "      <td>Madison Square Garden</td>\n",
       "      <td>19763.0</td>\n",
       "      <td>Cablevision (James Dolan)</td>\n",
       "      <td>Steve Mills</td>\n",
       "      <td>David Fizdale</td>\n",
       "      <td>Westchester Knicks</td>\n",
       "    </tr>\n",
       "    <tr>\n",
       "      <th>14</th>\n",
       "      <td>0</td>\n",
       "      <td>1610612753</td>\n",
       "      <td>1989</td>\n",
       "      <td>2019</td>\n",
       "      <td>ORL</td>\n",
       "      <td>Magic</td>\n",
       "      <td>1989</td>\n",
       "      <td>Orlando</td>\n",
       "      <td>Amway Center</td>\n",
       "      <td>0.0</td>\n",
       "      <td>Rick DeVos</td>\n",
       "      <td>John Hammond</td>\n",
       "      <td>Steve Clifford</td>\n",
       "      <td>Lakeland Magic</td>\n",
       "    </tr>\n",
       "    <tr>\n",
       "      <th>15</th>\n",
       "      <td>0</td>\n",
       "      <td>1610612754</td>\n",
       "      <td>1976</td>\n",
       "      <td>2019</td>\n",
       "      <td>IND</td>\n",
       "      <td>Pacers</td>\n",
       "      <td>1976</td>\n",
       "      <td>Indiana</td>\n",
       "      <td>Bankers Life Fieldhouse</td>\n",
       "      <td>18345.0</td>\n",
       "      <td>Herb Simon</td>\n",
       "      <td>Kevin Pritchard</td>\n",
       "      <td>Nate McMillan</td>\n",
       "      <td>Fort Wayne Mad Ants</td>\n",
       "    </tr>\n",
       "    <tr>\n",
       "      <th>16</th>\n",
       "      <td>0</td>\n",
       "      <td>1610612755</td>\n",
       "      <td>1949</td>\n",
       "      <td>2019</td>\n",
       "      <td>PHI</td>\n",
       "      <td>76ers</td>\n",
       "      <td>1949</td>\n",
       "      <td>Philadelphia</td>\n",
       "      <td>Wells Fargo Center</td>\n",
       "      <td>NaN</td>\n",
       "      <td>Joshua Harris</td>\n",
       "      <td>Elton Brand</td>\n",
       "      <td>Brett Brown</td>\n",
       "      <td>Delaware Blue Coats</td>\n",
       "    </tr>\n",
       "    <tr>\n",
       "      <th>17</th>\n",
       "      <td>0</td>\n",
       "      <td>1610612756</td>\n",
       "      <td>1968</td>\n",
       "      <td>2019</td>\n",
       "      <td>PHX</td>\n",
       "      <td>Suns</td>\n",
       "      <td>1968</td>\n",
       "      <td>Phoenix</td>\n",
       "      <td>Talking Stick Resort Arena</td>\n",
       "      <td>NaN</td>\n",
       "      <td>Robert Sarver</td>\n",
       "      <td>James Jones</td>\n",
       "      <td>Monty Williams</td>\n",
       "      <td>Northern Arizona Suns</td>\n",
       "    </tr>\n",
       "    <tr>\n",
       "      <th>18</th>\n",
       "      <td>0</td>\n",
       "      <td>1610612757</td>\n",
       "      <td>1970</td>\n",
       "      <td>2019</td>\n",
       "      <td>POR</td>\n",
       "      <td>Trail Blazers</td>\n",
       "      <td>1970</td>\n",
       "      <td>Portland</td>\n",
       "      <td>Moda Center</td>\n",
       "      <td>19980.0</td>\n",
       "      <td>Paul Allen</td>\n",
       "      <td>Neil Olshey</td>\n",
       "      <td>Terry Stotts</td>\n",
       "      <td>No Affiliate</td>\n",
       "    </tr>\n",
       "    <tr>\n",
       "      <th>19</th>\n",
       "      <td>0</td>\n",
       "      <td>1610612758</td>\n",
       "      <td>1948</td>\n",
       "      <td>2019</td>\n",
       "      <td>SAC</td>\n",
       "      <td>Kings</td>\n",
       "      <td>1948</td>\n",
       "      <td>Sacramento</td>\n",
       "      <td>Golden 1 Center</td>\n",
       "      <td>17500.0</td>\n",
       "      <td>Vivek Ranadive</td>\n",
       "      <td>Vlade Divac</td>\n",
       "      <td>Luke Walton</td>\n",
       "      <td>Stockton Kings</td>\n",
       "    </tr>\n",
       "    <tr>\n",
       "      <th>20</th>\n",
       "      <td>0</td>\n",
       "      <td>1610612759</td>\n",
       "      <td>1976</td>\n",
       "      <td>2019</td>\n",
       "      <td>SAS</td>\n",
       "      <td>Spurs</td>\n",
       "      <td>1976</td>\n",
       "      <td>San Antonio</td>\n",
       "      <td>AT&amp;T Center</td>\n",
       "      <td>18694.0</td>\n",
       "      <td>Peter Holt</td>\n",
       "      <td>Brian Wright</td>\n",
       "      <td>Gregg Popovich</td>\n",
       "      <td>Austin Spurs</td>\n",
       "    </tr>\n",
       "    <tr>\n",
       "      <th>21</th>\n",
       "      <td>0</td>\n",
       "      <td>1610612760</td>\n",
       "      <td>1967</td>\n",
       "      <td>2019</td>\n",
       "      <td>OKC</td>\n",
       "      <td>Thunder</td>\n",
       "      <td>1967</td>\n",
       "      <td>Oklahoma City</td>\n",
       "      <td>Chesapeake Energy Arena</td>\n",
       "      <td>19163.0</td>\n",
       "      <td>Clay Bennett</td>\n",
       "      <td>Sam Presti</td>\n",
       "      <td>Billy Donovan</td>\n",
       "      <td>Oklahoma City Blue</td>\n",
       "    </tr>\n",
       "    <tr>\n",
       "      <th>22</th>\n",
       "      <td>0</td>\n",
       "      <td>1610612761</td>\n",
       "      <td>1995</td>\n",
       "      <td>2019</td>\n",
       "      <td>TOR</td>\n",
       "      <td>Raptors</td>\n",
       "      <td>1995</td>\n",
       "      <td>Toronto</td>\n",
       "      <td>Scotiabank Arena</td>\n",
       "      <td>19800.0</td>\n",
       "      <td>Maple Leaf Sports and Entertainment</td>\n",
       "      <td>Masai Ujiri</td>\n",
       "      <td>Nick Nurse</td>\n",
       "      <td>Raptors 905</td>\n",
       "    </tr>\n",
       "    <tr>\n",
       "      <th>23</th>\n",
       "      <td>0</td>\n",
       "      <td>1610612762</td>\n",
       "      <td>1974</td>\n",
       "      <td>2019</td>\n",
       "      <td>UTA</td>\n",
       "      <td>Jazz</td>\n",
       "      <td>1974</td>\n",
       "      <td>Utah</td>\n",
       "      <td>Vivint Smart Home Arena</td>\n",
       "      <td>20148.0</td>\n",
       "      <td>Greg Miller</td>\n",
       "      <td>Dennis Lindsey</td>\n",
       "      <td>Quin Snyder</td>\n",
       "      <td>Salt Lake City Stars</td>\n",
       "    </tr>\n",
       "    <tr>\n",
       "      <th>24</th>\n",
       "      <td>0</td>\n",
       "      <td>1610612763</td>\n",
       "      <td>1995</td>\n",
       "      <td>2019</td>\n",
       "      <td>MEM</td>\n",
       "      <td>Grizzlies</td>\n",
       "      <td>1995</td>\n",
       "      <td>Memphis</td>\n",
       "      <td>FedExForum</td>\n",
       "      <td>18119.0</td>\n",
       "      <td>Robert Pera</td>\n",
       "      <td>Zach Kleiman</td>\n",
       "      <td>Taylor Jenkins</td>\n",
       "      <td>Memphis Hustle</td>\n",
       "    </tr>\n",
       "    <tr>\n",
       "      <th>25</th>\n",
       "      <td>0</td>\n",
       "      <td>1610612764</td>\n",
       "      <td>1961</td>\n",
       "      <td>2019</td>\n",
       "      <td>WAS</td>\n",
       "      <td>Wizards</td>\n",
       "      <td>1961</td>\n",
       "      <td>Washington</td>\n",
       "      <td>Capital One Arena</td>\n",
       "      <td>20647.0</td>\n",
       "      <td>Ted Leonsis</td>\n",
       "      <td>Tommy Sheppard</td>\n",
       "      <td>Scott Brooks</td>\n",
       "      <td>Capital City Go-Go</td>\n",
       "    </tr>\n",
       "    <tr>\n",
       "      <th>26</th>\n",
       "      <td>0</td>\n",
       "      <td>1610612765</td>\n",
       "      <td>1948</td>\n",
       "      <td>2019</td>\n",
       "      <td>DET</td>\n",
       "      <td>Pistons</td>\n",
       "      <td>1948</td>\n",
       "      <td>Detroit</td>\n",
       "      <td>Little Caesars Arena</td>\n",
       "      <td>21000.0</td>\n",
       "      <td>Tom Gores</td>\n",
       "      <td>Ed Stefanski</td>\n",
       "      <td>Dwane Casey</td>\n",
       "      <td>Grand Rapids Drive</td>\n",
       "    </tr>\n",
       "    <tr>\n",
       "      <th>27</th>\n",
       "      <td>0</td>\n",
       "      <td>1610612766</td>\n",
       "      <td>1988</td>\n",
       "      <td>2019</td>\n",
       "      <td>CHA</td>\n",
       "      <td>Hornets</td>\n",
       "      <td>1988</td>\n",
       "      <td>Charlotte</td>\n",
       "      <td>Spectrum Center</td>\n",
       "      <td>19026.0</td>\n",
       "      <td>Michael Jordan</td>\n",
       "      <td>Mitch Kupchak</td>\n",
       "      <td>James Borrego</td>\n",
       "      <td>Greensboro Swarm</td>\n",
       "    </tr>\n",
       "    <tr>\n",
       "      <th>28</th>\n",
       "      <td>0</td>\n",
       "      <td>1610612739</td>\n",
       "      <td>1970</td>\n",
       "      <td>2019</td>\n",
       "      <td>CLE</td>\n",
       "      <td>Cavaliers</td>\n",
       "      <td>1970</td>\n",
       "      <td>Cleveland</td>\n",
       "      <td>Quicken Loans Arena</td>\n",
       "      <td>20562.0</td>\n",
       "      <td>Dan Gilbert</td>\n",
       "      <td>Koby Altman</td>\n",
       "      <td>John Beilein</td>\n",
       "      <td>Canton Charge</td>\n",
       "    </tr>\n",
       "    <tr>\n",
       "      <th>29</th>\n",
       "      <td>0</td>\n",
       "      <td>1610612744</td>\n",
       "      <td>1946</td>\n",
       "      <td>2019</td>\n",
       "      <td>GSW</td>\n",
       "      <td>Warriors</td>\n",
       "      <td>1946</td>\n",
       "      <td>Golden State</td>\n",
       "      <td>Chase Center</td>\n",
       "      <td>19596.0</td>\n",
       "      <td>Joe Lacob</td>\n",
       "      <td>Bob Myers</td>\n",
       "      <td>Steve Kerr</td>\n",
       "      <td>Santa Cruz Warriors</td>\n",
       "    </tr>\n",
       "  </tbody>\n",
       "</table>\n",
       "</div>\n",
       "    <div class=\"colab-df-buttons\">\n",
       "\n",
       "  <div class=\"colab-df-container\">\n",
       "    <button class=\"colab-df-convert\" onclick=\"convertToInteractive('df-31d3c031-e00f-44ee-969f-252666fee65e')\"\n",
       "            title=\"Convert this dataframe to an interactive table.\"\n",
       "            style=\"display:none;\">\n",
       "\n",
       "  <svg xmlns=\"http://www.w3.org/2000/svg\" height=\"24px\" viewBox=\"0 -960 960 960\">\n",
       "    <path d=\"M120-120v-720h720v720H120Zm60-500h600v-160H180v160Zm220 220h160v-160H400v160Zm0 220h160v-160H400v160ZM180-400h160v-160H180v160Zm440 0h160v-160H620v160ZM180-180h160v-160H180v160Zm440 0h160v-160H620v160Z\"/>\n",
       "  </svg>\n",
       "    </button>\n",
       "\n",
       "  <style>\n",
       "    .colab-df-container {\n",
       "      display:flex;\n",
       "      gap: 12px;\n",
       "    }\n",
       "\n",
       "    .colab-df-convert {\n",
       "      background-color: #E8F0FE;\n",
       "      border: none;\n",
       "      border-radius: 50%;\n",
       "      cursor: pointer;\n",
       "      display: none;\n",
       "      fill: #1967D2;\n",
       "      height: 32px;\n",
       "      padding: 0 0 0 0;\n",
       "      width: 32px;\n",
       "    }\n",
       "\n",
       "    .colab-df-convert:hover {\n",
       "      background-color: #E2EBFA;\n",
       "      box-shadow: 0px 1px 2px rgba(60, 64, 67, 0.3), 0px 1px 3px 1px rgba(60, 64, 67, 0.15);\n",
       "      fill: #174EA6;\n",
       "    }\n",
       "\n",
       "    .colab-df-buttons div {\n",
       "      margin-bottom: 4px;\n",
       "    }\n",
       "\n",
       "    [theme=dark] .colab-df-convert {\n",
       "      background-color: #3B4455;\n",
       "      fill: #D2E3FC;\n",
       "    }\n",
       "\n",
       "    [theme=dark] .colab-df-convert:hover {\n",
       "      background-color: #434B5C;\n",
       "      box-shadow: 0px 1px 3px 1px rgba(0, 0, 0, 0.15);\n",
       "      filter: drop-shadow(0px 1px 2px rgba(0, 0, 0, 0.3));\n",
       "      fill: #FFFFFF;\n",
       "    }\n",
       "  </style>\n",
       "\n",
       "    <script>\n",
       "      const buttonEl =\n",
       "        document.querySelector('#df-31d3c031-e00f-44ee-969f-252666fee65e button.colab-df-convert');\n",
       "      buttonEl.style.display =\n",
       "        google.colab.kernel.accessAllowed ? 'block' : 'none';\n",
       "\n",
       "      async function convertToInteractive(key) {\n",
       "        const element = document.querySelector('#df-31d3c031-e00f-44ee-969f-252666fee65e');\n",
       "        const dataTable =\n",
       "          await google.colab.kernel.invokeFunction('convertToInteractive',\n",
       "                                                    [key], {});\n",
       "        if (!dataTable) return;\n",
       "\n",
       "        const docLinkHtml = 'Like what you see? Visit the ' +\n",
       "          '<a target=\"_blank\" href=https://colab.research.google.com/notebooks/data_table.ipynb>data table notebook</a>'\n",
       "          + ' to learn more about interactive tables.';\n",
       "        element.innerHTML = '';\n",
       "        dataTable['output_type'] = 'display_data';\n",
       "        await google.colab.output.renderOutput(dataTable, element);\n",
       "        const docLink = document.createElement('div');\n",
       "        docLink.innerHTML = docLinkHtml;\n",
       "        element.appendChild(docLink);\n",
       "      }\n",
       "    </script>\n",
       "  </div>\n",
       "\n",
       "\n",
       "<div id=\"df-0eefa318-1e1d-4a30-941e-b7bb08da9094\">\n",
       "  <button class=\"colab-df-quickchart\" onclick=\"quickchart('df-0eefa318-1e1d-4a30-941e-b7bb08da9094')\"\n",
       "            title=\"Suggest charts\"\n",
       "            style=\"display:none;\">\n",
       "\n",
       "<svg xmlns=\"http://www.w3.org/2000/svg\" height=\"24px\"viewBox=\"0 0 24 24\"\n",
       "     width=\"24px\">\n",
       "    <g>\n",
       "        <path d=\"M19 3H5c-1.1 0-2 .9-2 2v14c0 1.1.9 2 2 2h14c1.1 0 2-.9 2-2V5c0-1.1-.9-2-2-2zM9 17H7v-7h2v7zm4 0h-2V7h2v10zm4 0h-2v-4h2v4z\"/>\n",
       "    </g>\n",
       "</svg>\n",
       "  </button>\n",
       "\n",
       "<style>\n",
       "  .colab-df-quickchart {\n",
       "      --bg-color: #E8F0FE;\n",
       "      --fill-color: #1967D2;\n",
       "      --hover-bg-color: #E2EBFA;\n",
       "      --hover-fill-color: #174EA6;\n",
       "      --disabled-fill-color: #AAA;\n",
       "      --disabled-bg-color: #DDD;\n",
       "  }\n",
       "\n",
       "  [theme=dark] .colab-df-quickchart {\n",
       "      --bg-color: #3B4455;\n",
       "      --fill-color: #D2E3FC;\n",
       "      --hover-bg-color: #434B5C;\n",
       "      --hover-fill-color: #FFFFFF;\n",
       "      --disabled-bg-color: #3B4455;\n",
       "      --disabled-fill-color: #666;\n",
       "  }\n",
       "\n",
       "  .colab-df-quickchart {\n",
       "    background-color: var(--bg-color);\n",
       "    border: none;\n",
       "    border-radius: 50%;\n",
       "    cursor: pointer;\n",
       "    display: none;\n",
       "    fill: var(--fill-color);\n",
       "    height: 32px;\n",
       "    padding: 0;\n",
       "    width: 32px;\n",
       "  }\n",
       "\n",
       "  .colab-df-quickchart:hover {\n",
       "    background-color: var(--hover-bg-color);\n",
       "    box-shadow: 0 1px 2px rgba(60, 64, 67, 0.3), 0 1px 3px 1px rgba(60, 64, 67, 0.15);\n",
       "    fill: var(--button-hover-fill-color);\n",
       "  }\n",
       "\n",
       "  .colab-df-quickchart-complete:disabled,\n",
       "  .colab-df-quickchart-complete:disabled:hover {\n",
       "    background-color: var(--disabled-bg-color);\n",
       "    fill: var(--disabled-fill-color);\n",
       "    box-shadow: none;\n",
       "  }\n",
       "\n",
       "  .colab-df-spinner {\n",
       "    border: 2px solid var(--fill-color);\n",
       "    border-color: transparent;\n",
       "    border-bottom-color: var(--fill-color);\n",
       "    animation:\n",
       "      spin 1s steps(1) infinite;\n",
       "  }\n",
       "\n",
       "  @keyframes spin {\n",
       "    0% {\n",
       "      border-color: transparent;\n",
       "      border-bottom-color: var(--fill-color);\n",
       "      border-left-color: var(--fill-color);\n",
       "    }\n",
       "    20% {\n",
       "      border-color: transparent;\n",
       "      border-left-color: var(--fill-color);\n",
       "      border-top-color: var(--fill-color);\n",
       "    }\n",
       "    30% {\n",
       "      border-color: transparent;\n",
       "      border-left-color: var(--fill-color);\n",
       "      border-top-color: var(--fill-color);\n",
       "      border-right-color: var(--fill-color);\n",
       "    }\n",
       "    40% {\n",
       "      border-color: transparent;\n",
       "      border-right-color: var(--fill-color);\n",
       "      border-top-color: var(--fill-color);\n",
       "    }\n",
       "    60% {\n",
       "      border-color: transparent;\n",
       "      border-right-color: var(--fill-color);\n",
       "    }\n",
       "    80% {\n",
       "      border-color: transparent;\n",
       "      border-right-color: var(--fill-color);\n",
       "      border-bottom-color: var(--fill-color);\n",
       "    }\n",
       "    90% {\n",
       "      border-color: transparent;\n",
       "      border-bottom-color: var(--fill-color);\n",
       "    }\n",
       "  }\n",
       "</style>\n",
       "\n",
       "  <script>\n",
       "    async function quickchart(key) {\n",
       "      const quickchartButtonEl =\n",
       "        document.querySelector('#' + key + ' button');\n",
       "      quickchartButtonEl.disabled = true;  // To prevent multiple clicks.\n",
       "      quickchartButtonEl.classList.add('colab-df-spinner');\n",
       "      try {\n",
       "        const charts = await google.colab.kernel.invokeFunction(\n",
       "            'suggestCharts', [key], {});\n",
       "      } catch (error) {\n",
       "        console.error('Error during call to suggestCharts:', error);\n",
       "      }\n",
       "      quickchartButtonEl.classList.remove('colab-df-spinner');\n",
       "      quickchartButtonEl.classList.add('colab-df-quickchart-complete');\n",
       "    }\n",
       "    (() => {\n",
       "      let quickchartButtonEl =\n",
       "        document.querySelector('#df-0eefa318-1e1d-4a30-941e-b7bb08da9094 button');\n",
       "      quickchartButtonEl.style.display =\n",
       "        google.colab.kernel.accessAllowed ? 'block' : 'none';\n",
       "    })();\n",
       "  </script>\n",
       "</div>\n",
       "\n",
       "  <div id=\"id_e4a20d86-eb26-4fbd-bdac-39b19cb36803\">\n",
       "    <style>\n",
       "      .colab-df-generate {\n",
       "        background-color: #E8F0FE;\n",
       "        border: none;\n",
       "        border-radius: 50%;\n",
       "        cursor: pointer;\n",
       "        display: none;\n",
       "        fill: #1967D2;\n",
       "        height: 32px;\n",
       "        padding: 0 0 0 0;\n",
       "        width: 32px;\n",
       "      }\n",
       "\n",
       "      .colab-df-generate:hover {\n",
       "        background-color: #E2EBFA;\n",
       "        box-shadow: 0px 1px 2px rgba(60, 64, 67, 0.3), 0px 1px 3px 1px rgba(60, 64, 67, 0.15);\n",
       "        fill: #174EA6;\n",
       "      }\n",
       "\n",
       "      [theme=dark] .colab-df-generate {\n",
       "        background-color: #3B4455;\n",
       "        fill: #D2E3FC;\n",
       "      }\n",
       "\n",
       "      [theme=dark] .colab-df-generate:hover {\n",
       "        background-color: #434B5C;\n",
       "        box-shadow: 0px 1px 3px 1px rgba(0, 0, 0, 0.15);\n",
       "        filter: drop-shadow(0px 1px 2px rgba(0, 0, 0, 0.3));\n",
       "        fill: #FFFFFF;\n",
       "      }\n",
       "    </style>\n",
       "    <button class=\"colab-df-generate\" onclick=\"generateWithVariable('teams_df')\"\n",
       "            title=\"Generate code using this dataframe.\"\n",
       "            style=\"display:none;\">\n",
       "\n",
       "  <svg xmlns=\"http://www.w3.org/2000/svg\" height=\"24px\"viewBox=\"0 0 24 24\"\n",
       "       width=\"24px\">\n",
       "    <path d=\"M7,19H8.4L18.45,9,17,7.55,7,17.6ZM5,21V16.75L18.45,3.32a2,2,0,0,1,2.83,0l1.4,1.43a1.91,1.91,0,0,1,.58,1.4,1.91,1.91,0,0,1-.58,1.4L9.25,21ZM18.45,9,17,7.55Zm-12,3A5.31,5.31,0,0,0,4.9,8.1,5.31,5.31,0,0,0,1,6.5,5.31,5.31,0,0,0,4.9,4.9,5.31,5.31,0,0,0,6.5,1,5.31,5.31,0,0,0,8.1,4.9,5.31,5.31,0,0,0,12,6.5,5.46,5.46,0,0,0,6.5,12Z\"/>\n",
       "  </svg>\n",
       "    </button>\n",
       "    <script>\n",
       "      (() => {\n",
       "      const buttonEl =\n",
       "        document.querySelector('#id_e4a20d86-eb26-4fbd-bdac-39b19cb36803 button.colab-df-generate');\n",
       "      buttonEl.style.display =\n",
       "        google.colab.kernel.accessAllowed ? 'block' : 'none';\n",
       "\n",
       "      buttonEl.onclick = () => {\n",
       "        google.colab.notebook.generateWithVariable('teams_df');\n",
       "      }\n",
       "      })();\n",
       "    </script>\n",
       "  </div>\n",
       "\n",
       "    </div>\n",
       "  </div>\n"
      ],
      "application/vnd.google.colaboratory.intrinsic+json": {
       "type": "dataframe",
       "variable_name": "teams_df",
       "summary": "{\n  \"name\": \"teams_df\",\n  \"rows\": 30,\n  \"fields\": [\n    {\n      \"column\": \"LEAGUE_ID\",\n      \"properties\": {\n        \"dtype\": \"number\",\n        \"std\": 0,\n        \"min\": 0,\n        \"max\": 0,\n        \"num_unique_values\": 1,\n        \"samples\": [\n          0\n        ],\n        \"semantic_type\": \"\",\n        \"description\": \"\"\n      }\n    },\n    {\n      \"column\": \"TEAM_ID\",\n      \"properties\": {\n        \"dtype\": \"number\",\n        \"std\": 8,\n        \"min\": 1610612737,\n        \"max\": 1610612766,\n        \"num_unique_values\": 30,\n        \"samples\": [\n          1610612766\n        ],\n        \"semantic_type\": \"\",\n        \"description\": \"\"\n      }\n    },\n    {\n      \"column\": \"MIN_YEAR\",\n      \"properties\": {\n        \"dtype\": \"number\",\n        \"std\": 16,\n        \"min\": 1946,\n        \"max\": 2002,\n        \"num_unique_values\": 15,\n        \"samples\": [\n          1988\n        ],\n        \"semantic_type\": \"\",\n        \"description\": \"\"\n      }\n    },\n    {\n      \"column\": \"MAX_YEAR\",\n      \"properties\": {\n        \"dtype\": \"number\",\n        \"std\": 0,\n        \"min\": 2019,\n        \"max\": 2019,\n        \"num_unique_values\": 1,\n        \"samples\": [\n          2019\n        ],\n        \"semantic_type\": \"\",\n        \"description\": \"\"\n      }\n    },\n    {\n      \"column\": \"ABBREVIATION\",\n      \"properties\": {\n        \"dtype\": \"string\",\n        \"num_unique_values\": 30,\n        \"samples\": [\n          \"CHA\"\n        ],\n        \"semantic_type\": \"\",\n        \"description\": \"\"\n      }\n    },\n    {\n      \"column\": \"NICKNAME\",\n      \"properties\": {\n        \"dtype\": \"string\",\n        \"num_unique_values\": 30,\n        \"samples\": [\n          \"Hornets\"\n        ],\n        \"semantic_type\": \"\",\n        \"description\": \"\"\n      }\n    },\n    {\n      \"column\": \"YEARFOUNDED\",\n      \"properties\": {\n        \"dtype\": \"number\",\n        \"std\": 16,\n        \"min\": 1946,\n        \"max\": 2002,\n        \"num_unique_values\": 15,\n        \"samples\": [\n          1988\n        ],\n        \"semantic_type\": \"\",\n        \"description\": \"\"\n      }\n    },\n    {\n      \"column\": \"CITY\",\n      \"properties\": {\n        \"dtype\": \"string\",\n        \"num_unique_values\": 29,\n        \"samples\": [\n          \"Cleveland\"\n        ],\n        \"semantic_type\": \"\",\n        \"description\": \"\"\n      }\n    },\n    {\n      \"column\": \"ARENA\",\n      \"properties\": {\n        \"dtype\": \"string\",\n        \"num_unique_values\": 29,\n        \"samples\": [\n          \"Quicken Loans Arena\"\n        ],\n        \"semantic_type\": \"\",\n        \"description\": \"\"\n      }\n    },\n    {\n      \"column\": \"ARENACAPACITY\",\n      \"properties\": {\n        \"dtype\": \"number\",\n        \"std\": 3916.9233617136883,\n        \"min\": 0.0,\n        \"max\": 21711.0,\n        \"num_unique_values\": 24,\n        \"samples\": [\n          17500.0\n        ],\n        \"semantic_type\": \"\",\n        \"description\": \"\"\n      }\n    },\n    {\n      \"column\": \"OWNER\",\n      \"properties\": {\n        \"dtype\": \"string\",\n        \"num_unique_values\": 30,\n        \"samples\": [\n          \"Michael Jordan\"\n        ],\n        \"semantic_type\": \"\",\n        \"description\": \"\"\n      }\n    },\n    {\n      \"column\": \"GENERALMANAGER\",\n      \"properties\": {\n        \"dtype\": \"string\",\n        \"num_unique_values\": 30,\n        \"samples\": [\n          \"Mitch Kupchak\"\n        ],\n        \"semantic_type\": \"\",\n        \"description\": \"\"\n      }\n    },\n    {\n      \"column\": \"HEADCOACH\",\n      \"properties\": {\n        \"dtype\": \"string\",\n        \"num_unique_values\": 30,\n        \"samples\": [\n          \"James Borrego\"\n        ],\n        \"semantic_type\": \"\",\n        \"description\": \"\"\n      }\n    },\n    {\n      \"column\": \"DLEAGUEAFFILIATION\",\n      \"properties\": {\n        \"dtype\": \"string\",\n        \"num_unique_values\": 28,\n        \"samples\": [\n          \"Wisconsin Herd\"\n        ],\n        \"semantic_type\": \"\",\n        \"description\": \"\"\n      }\n    }\n  ]\n}"
      }
     },
     "metadata": {},
     "execution_count": 77
    }
   ]
  },
  {
   "cell_type": "code",
   "source": [
    "teams_df.columns"
   ],
   "metadata": {
    "colab": {
     "base_uri": "https://localhost:8080/"
    },
    "id": "AblKmC4rLmGP",
    "outputId": "4f7979ee-3d9b-4d32-cf35-5b5d79369694"
   },
   "execution_count": null,
   "outputs": [
    {
     "output_type": "execute_result",
     "data": {
      "text/plain": [
       "Index(['LEAGUE_ID', 'TEAM_ID', 'MIN_YEAR', 'MAX_YEAR', 'ABBREVIATION',\n",
       "       'NICKNAME', 'YEARFOUNDED', 'CITY', 'ARENA', 'ARENACAPACITY', 'OWNER',\n",
       "       'GENERALMANAGER', 'HEADCOACH', 'DLEAGUEAFFILIATION'],\n",
       "      dtype='object')"
      ]
     },
     "metadata": {},
     "execution_count": 78
    }
   ]
  },
  {
   "cell_type": "code",
   "source": [
    "games_details_df.columns"
   ],
   "metadata": {
    "colab": {
     "base_uri": "https://localhost:8080/"
    },
    "id": "euBgl31TLs8P",
    "outputId": "5e0eb0e9-3a8b-4282-ede7-2e1d10f464a1"
   },
   "execution_count": null,
   "outputs": [
    {
     "output_type": "execute_result",
     "data": {
      "text/plain": [
       "Index(['GAME_ID', 'TEAM_ID', 'TEAM_ABBREVIATION', 'TEAM_CITY', 'PLAYER_ID',\n",
       "       'PLAYER_NAME', 'NICKNAME', 'START_POSITION', 'COMMENT', 'MIN', 'FGM',\n",
       "       'FGA', 'FG_PCT', 'FG3M', 'FG3A', 'FG3_PCT', 'FTM', 'FTA', 'FT_PCT',\n",
       "       'OREB', 'DREB', 'REB', 'AST', 'STL', 'BLK', 'TO', 'PF', 'PTS',\n",
       "       'PLUS_MINUS'],\n",
       "      dtype='object')"
      ]
     },
     "metadata": {},
     "execution_count": 79
    }
   ]
  },
  {
   "cell_type": "code",
   "source": [
    "games_and_teams_df = pd.merge(games_details_df, teams_df, left_on='TEAM_ID', right_on='TEAM_ID')"
   ],
   "metadata": {
    "id": "ACdowDXvL45X"
   },
   "execution_count": null,
   "outputs": []
  },
  {
   "cell_type": "code",
   "source": [
    "games_and_teams_df.head()"
   ],
   "metadata": {
    "colab": {
     "base_uri": "https://localhost:8080/",
     "height": 342
    },
    "id": "urQOkr2rMU8s",
    "outputId": "d72c270a-fd1c-48c3-88e7-658f81540f8d"
   },
   "execution_count": null,
   "outputs": [
    {
     "output_type": "execute_result",
     "data": {
      "text/plain": [
       "    GAME_ID     TEAM_ID TEAM_ABBREVIATION    TEAM_CITY  PLAYER_ID  \\\n",
       "0  22200477  1610612759               SAS  San Antonio    1629641   \n",
       "1  22200477  1610612759               SAS  San Antonio    1631110   \n",
       "2  22200477  1610612759               SAS  San Antonio    1627751   \n",
       "3  22200477  1610612759               SAS  San Antonio    1630170   \n",
       "4  22200477  1610612759               SAS  San Antonio    1630200   \n",
       "\n",
       "      PLAYER_NAME NICKNAME_x START_POSITION COMMENT    MIN  ...  ABBREVIATION  \\\n",
       "0  Romeo Langford      Romeo              F     NaN  18:06  ...           SAS   \n",
       "1   Jeremy Sochan     Jeremy              F     NaN  31:01  ...           SAS   \n",
       "2    Jakob Poeltl      Jakob              C     NaN  21:42  ...           SAS   \n",
       "3   Devin Vassell      Devin              G     NaN  30:20  ...           SAS   \n",
       "4       Tre Jones        Tre              G     NaN  27:44  ...           SAS   \n",
       "\n",
       "   NICKNAME_y  YEARFOUNDED         CITY        ARENA  ARENACAPACITY  \\\n",
       "0       Spurs         1976  San Antonio  AT&T Center        18694.0   \n",
       "1       Spurs         1976  San Antonio  AT&T Center        18694.0   \n",
       "2       Spurs         1976  San Antonio  AT&T Center        18694.0   \n",
       "3       Spurs         1976  San Antonio  AT&T Center        18694.0   \n",
       "4       Spurs         1976  San Antonio  AT&T Center        18694.0   \n",
       "\n",
       "        OWNER  GENERALMANAGER       HEADCOACH  DLEAGUEAFFILIATION  \n",
       "0  Peter Holt    Brian Wright  Gregg Popovich        Austin Spurs  \n",
       "1  Peter Holt    Brian Wright  Gregg Popovich        Austin Spurs  \n",
       "2  Peter Holt    Brian Wright  Gregg Popovich        Austin Spurs  \n",
       "3  Peter Holt    Brian Wright  Gregg Popovich        Austin Spurs  \n",
       "4  Peter Holt    Brian Wright  Gregg Popovich        Austin Spurs  \n",
       "\n",
       "[5 rows x 42 columns]"
      ],
      "text/html": [
       "\n",
       "  <div id=\"df-2a0bfe49-e76c-42ff-8a21-9a7f6237ff36\" class=\"colab-df-container\">\n",
       "    <div>\n",
       "<style scoped>\n",
       "    .dataframe tbody tr th:only-of-type {\n",
       "        vertical-align: middle;\n",
       "    }\n",
       "\n",
       "    .dataframe tbody tr th {\n",
       "        vertical-align: top;\n",
       "    }\n",
       "\n",
       "    .dataframe thead th {\n",
       "        text-align: right;\n",
       "    }\n",
       "</style>\n",
       "<table border=\"1\" class=\"dataframe\">\n",
       "  <thead>\n",
       "    <tr style=\"text-align: right;\">\n",
       "      <th></th>\n",
       "      <th>GAME_ID</th>\n",
       "      <th>TEAM_ID</th>\n",
       "      <th>TEAM_ABBREVIATION</th>\n",
       "      <th>TEAM_CITY</th>\n",
       "      <th>PLAYER_ID</th>\n",
       "      <th>PLAYER_NAME</th>\n",
       "      <th>NICKNAME_x</th>\n",
       "      <th>START_POSITION</th>\n",
       "      <th>COMMENT</th>\n",
       "      <th>MIN</th>\n",
       "      <th>...</th>\n",
       "      <th>ABBREVIATION</th>\n",
       "      <th>NICKNAME_y</th>\n",
       "      <th>YEARFOUNDED</th>\n",
       "      <th>CITY</th>\n",
       "      <th>ARENA</th>\n",
       "      <th>ARENACAPACITY</th>\n",
       "      <th>OWNER</th>\n",
       "      <th>GENERALMANAGER</th>\n",
       "      <th>HEADCOACH</th>\n",
       "      <th>DLEAGUEAFFILIATION</th>\n",
       "    </tr>\n",
       "  </thead>\n",
       "  <tbody>\n",
       "    <tr>\n",
       "      <th>0</th>\n",
       "      <td>22200477</td>\n",
       "      <td>1610612759</td>\n",
       "      <td>SAS</td>\n",
       "      <td>San Antonio</td>\n",
       "      <td>1629641</td>\n",
       "      <td>Romeo Langford</td>\n",
       "      <td>Romeo</td>\n",
       "      <td>F</td>\n",
       "      <td>NaN</td>\n",
       "      <td>18:06</td>\n",
       "      <td>...</td>\n",
       "      <td>SAS</td>\n",
       "      <td>Spurs</td>\n",
       "      <td>1976</td>\n",
       "      <td>San Antonio</td>\n",
       "      <td>AT&amp;T Center</td>\n",
       "      <td>18694.0</td>\n",
       "      <td>Peter Holt</td>\n",
       "      <td>Brian Wright</td>\n",
       "      <td>Gregg Popovich</td>\n",
       "      <td>Austin Spurs</td>\n",
       "    </tr>\n",
       "    <tr>\n",
       "      <th>1</th>\n",
       "      <td>22200477</td>\n",
       "      <td>1610612759</td>\n",
       "      <td>SAS</td>\n",
       "      <td>San Antonio</td>\n",
       "      <td>1631110</td>\n",
       "      <td>Jeremy Sochan</td>\n",
       "      <td>Jeremy</td>\n",
       "      <td>F</td>\n",
       "      <td>NaN</td>\n",
       "      <td>31:01</td>\n",
       "      <td>...</td>\n",
       "      <td>SAS</td>\n",
       "      <td>Spurs</td>\n",
       "      <td>1976</td>\n",
       "      <td>San Antonio</td>\n",
       "      <td>AT&amp;T Center</td>\n",
       "      <td>18694.0</td>\n",
       "      <td>Peter Holt</td>\n",
       "      <td>Brian Wright</td>\n",
       "      <td>Gregg Popovich</td>\n",
       "      <td>Austin Spurs</td>\n",
       "    </tr>\n",
       "    <tr>\n",
       "      <th>2</th>\n",
       "      <td>22200477</td>\n",
       "      <td>1610612759</td>\n",
       "      <td>SAS</td>\n",
       "      <td>San Antonio</td>\n",
       "      <td>1627751</td>\n",
       "      <td>Jakob Poeltl</td>\n",
       "      <td>Jakob</td>\n",
       "      <td>C</td>\n",
       "      <td>NaN</td>\n",
       "      <td>21:42</td>\n",
       "      <td>...</td>\n",
       "      <td>SAS</td>\n",
       "      <td>Spurs</td>\n",
       "      <td>1976</td>\n",
       "      <td>San Antonio</td>\n",
       "      <td>AT&amp;T Center</td>\n",
       "      <td>18694.0</td>\n",
       "      <td>Peter Holt</td>\n",
       "      <td>Brian Wright</td>\n",
       "      <td>Gregg Popovich</td>\n",
       "      <td>Austin Spurs</td>\n",
       "    </tr>\n",
       "    <tr>\n",
       "      <th>3</th>\n",
       "      <td>22200477</td>\n",
       "      <td>1610612759</td>\n",
       "      <td>SAS</td>\n",
       "      <td>San Antonio</td>\n",
       "      <td>1630170</td>\n",
       "      <td>Devin Vassell</td>\n",
       "      <td>Devin</td>\n",
       "      <td>G</td>\n",
       "      <td>NaN</td>\n",
       "      <td>30:20</td>\n",
       "      <td>...</td>\n",
       "      <td>SAS</td>\n",
       "      <td>Spurs</td>\n",
       "      <td>1976</td>\n",
       "      <td>San Antonio</td>\n",
       "      <td>AT&amp;T Center</td>\n",
       "      <td>18694.0</td>\n",
       "      <td>Peter Holt</td>\n",
       "      <td>Brian Wright</td>\n",
       "      <td>Gregg Popovich</td>\n",
       "      <td>Austin Spurs</td>\n",
       "    </tr>\n",
       "    <tr>\n",
       "      <th>4</th>\n",
       "      <td>22200477</td>\n",
       "      <td>1610612759</td>\n",
       "      <td>SAS</td>\n",
       "      <td>San Antonio</td>\n",
       "      <td>1630200</td>\n",
       "      <td>Tre Jones</td>\n",
       "      <td>Tre</td>\n",
       "      <td>G</td>\n",
       "      <td>NaN</td>\n",
       "      <td>27:44</td>\n",
       "      <td>...</td>\n",
       "      <td>SAS</td>\n",
       "      <td>Spurs</td>\n",
       "      <td>1976</td>\n",
       "      <td>San Antonio</td>\n",
       "      <td>AT&amp;T Center</td>\n",
       "      <td>18694.0</td>\n",
       "      <td>Peter Holt</td>\n",
       "      <td>Brian Wright</td>\n",
       "      <td>Gregg Popovich</td>\n",
       "      <td>Austin Spurs</td>\n",
       "    </tr>\n",
       "  </tbody>\n",
       "</table>\n",
       "<p>5 rows × 42 columns</p>\n",
       "</div>\n",
       "    <div class=\"colab-df-buttons\">\n",
       "\n",
       "  <div class=\"colab-df-container\">\n",
       "    <button class=\"colab-df-convert\" onclick=\"convertToInteractive('df-2a0bfe49-e76c-42ff-8a21-9a7f6237ff36')\"\n",
       "            title=\"Convert this dataframe to an interactive table.\"\n",
       "            style=\"display:none;\">\n",
       "\n",
       "  <svg xmlns=\"http://www.w3.org/2000/svg\" height=\"24px\" viewBox=\"0 -960 960 960\">\n",
       "    <path d=\"M120-120v-720h720v720H120Zm60-500h600v-160H180v160Zm220 220h160v-160H400v160Zm0 220h160v-160H400v160ZM180-400h160v-160H180v160Zm440 0h160v-160H620v160ZM180-180h160v-160H180v160Zm440 0h160v-160H620v160Z\"/>\n",
       "  </svg>\n",
       "    </button>\n",
       "\n",
       "  <style>\n",
       "    .colab-df-container {\n",
       "      display:flex;\n",
       "      gap: 12px;\n",
       "    }\n",
       "\n",
       "    .colab-df-convert {\n",
       "      background-color: #E8F0FE;\n",
       "      border: none;\n",
       "      border-radius: 50%;\n",
       "      cursor: pointer;\n",
       "      display: none;\n",
       "      fill: #1967D2;\n",
       "      height: 32px;\n",
       "      padding: 0 0 0 0;\n",
       "      width: 32px;\n",
       "    }\n",
       "\n",
       "    .colab-df-convert:hover {\n",
       "      background-color: #E2EBFA;\n",
       "      box-shadow: 0px 1px 2px rgba(60, 64, 67, 0.3), 0px 1px 3px 1px rgba(60, 64, 67, 0.15);\n",
       "      fill: #174EA6;\n",
       "    }\n",
       "\n",
       "    .colab-df-buttons div {\n",
       "      margin-bottom: 4px;\n",
       "    }\n",
       "\n",
       "    [theme=dark] .colab-df-convert {\n",
       "      background-color: #3B4455;\n",
       "      fill: #D2E3FC;\n",
       "    }\n",
       "\n",
       "    [theme=dark] .colab-df-convert:hover {\n",
       "      background-color: #434B5C;\n",
       "      box-shadow: 0px 1px 3px 1px rgba(0, 0, 0, 0.15);\n",
       "      filter: drop-shadow(0px 1px 2px rgba(0, 0, 0, 0.3));\n",
       "      fill: #FFFFFF;\n",
       "    }\n",
       "  </style>\n",
       "\n",
       "    <script>\n",
       "      const buttonEl =\n",
       "        document.querySelector('#df-2a0bfe49-e76c-42ff-8a21-9a7f6237ff36 button.colab-df-convert');\n",
       "      buttonEl.style.display =\n",
       "        google.colab.kernel.accessAllowed ? 'block' : 'none';\n",
       "\n",
       "      async function convertToInteractive(key) {\n",
       "        const element = document.querySelector('#df-2a0bfe49-e76c-42ff-8a21-9a7f6237ff36');\n",
       "        const dataTable =\n",
       "          await google.colab.kernel.invokeFunction('convertToInteractive',\n",
       "                                                    [key], {});\n",
       "        if (!dataTable) return;\n",
       "\n",
       "        const docLinkHtml = 'Like what you see? Visit the ' +\n",
       "          '<a target=\"_blank\" href=https://colab.research.google.com/notebooks/data_table.ipynb>data table notebook</a>'\n",
       "          + ' to learn more about interactive tables.';\n",
       "        element.innerHTML = '';\n",
       "        dataTable['output_type'] = 'display_data';\n",
       "        await google.colab.output.renderOutput(dataTable, element);\n",
       "        const docLink = document.createElement('div');\n",
       "        docLink.innerHTML = docLinkHtml;\n",
       "        element.appendChild(docLink);\n",
       "      }\n",
       "    </script>\n",
       "  </div>\n",
       "\n",
       "\n",
       "<div id=\"df-7320f5a2-f67f-492a-bc05-0a99564d0159\">\n",
       "  <button class=\"colab-df-quickchart\" onclick=\"quickchart('df-7320f5a2-f67f-492a-bc05-0a99564d0159')\"\n",
       "            title=\"Suggest charts\"\n",
       "            style=\"display:none;\">\n",
       "\n",
       "<svg xmlns=\"http://www.w3.org/2000/svg\" height=\"24px\"viewBox=\"0 0 24 24\"\n",
       "     width=\"24px\">\n",
       "    <g>\n",
       "        <path d=\"M19 3H5c-1.1 0-2 .9-2 2v14c0 1.1.9 2 2 2h14c1.1 0 2-.9 2-2V5c0-1.1-.9-2-2-2zM9 17H7v-7h2v7zm4 0h-2V7h2v10zm4 0h-2v-4h2v4z\"/>\n",
       "    </g>\n",
       "</svg>\n",
       "  </button>\n",
       "\n",
       "<style>\n",
       "  .colab-df-quickchart {\n",
       "      --bg-color: #E8F0FE;\n",
       "      --fill-color: #1967D2;\n",
       "      --hover-bg-color: #E2EBFA;\n",
       "      --hover-fill-color: #174EA6;\n",
       "      --disabled-fill-color: #AAA;\n",
       "      --disabled-bg-color: #DDD;\n",
       "  }\n",
       "\n",
       "  [theme=dark] .colab-df-quickchart {\n",
       "      --bg-color: #3B4455;\n",
       "      --fill-color: #D2E3FC;\n",
       "      --hover-bg-color: #434B5C;\n",
       "      --hover-fill-color: #FFFFFF;\n",
       "      --disabled-bg-color: #3B4455;\n",
       "      --disabled-fill-color: #666;\n",
       "  }\n",
       "\n",
       "  .colab-df-quickchart {\n",
       "    background-color: var(--bg-color);\n",
       "    border: none;\n",
       "    border-radius: 50%;\n",
       "    cursor: pointer;\n",
       "    display: none;\n",
       "    fill: var(--fill-color);\n",
       "    height: 32px;\n",
       "    padding: 0;\n",
       "    width: 32px;\n",
       "  }\n",
       "\n",
       "  .colab-df-quickchart:hover {\n",
       "    background-color: var(--hover-bg-color);\n",
       "    box-shadow: 0 1px 2px rgba(60, 64, 67, 0.3), 0 1px 3px 1px rgba(60, 64, 67, 0.15);\n",
       "    fill: var(--button-hover-fill-color);\n",
       "  }\n",
       "\n",
       "  .colab-df-quickchart-complete:disabled,\n",
       "  .colab-df-quickchart-complete:disabled:hover {\n",
       "    background-color: var(--disabled-bg-color);\n",
       "    fill: var(--disabled-fill-color);\n",
       "    box-shadow: none;\n",
       "  }\n",
       "\n",
       "  .colab-df-spinner {\n",
       "    border: 2px solid var(--fill-color);\n",
       "    border-color: transparent;\n",
       "    border-bottom-color: var(--fill-color);\n",
       "    animation:\n",
       "      spin 1s steps(1) infinite;\n",
       "  }\n",
       "\n",
       "  @keyframes spin {\n",
       "    0% {\n",
       "      border-color: transparent;\n",
       "      border-bottom-color: var(--fill-color);\n",
       "      border-left-color: var(--fill-color);\n",
       "    }\n",
       "    20% {\n",
       "      border-color: transparent;\n",
       "      border-left-color: var(--fill-color);\n",
       "      border-top-color: var(--fill-color);\n",
       "    }\n",
       "    30% {\n",
       "      border-color: transparent;\n",
       "      border-left-color: var(--fill-color);\n",
       "      border-top-color: var(--fill-color);\n",
       "      border-right-color: var(--fill-color);\n",
       "    }\n",
       "    40% {\n",
       "      border-color: transparent;\n",
       "      border-right-color: var(--fill-color);\n",
       "      border-top-color: var(--fill-color);\n",
       "    }\n",
       "    60% {\n",
       "      border-color: transparent;\n",
       "      border-right-color: var(--fill-color);\n",
       "    }\n",
       "    80% {\n",
       "      border-color: transparent;\n",
       "      border-right-color: var(--fill-color);\n",
       "      border-bottom-color: var(--fill-color);\n",
       "    }\n",
       "    90% {\n",
       "      border-color: transparent;\n",
       "      border-bottom-color: var(--fill-color);\n",
       "    }\n",
       "  }\n",
       "</style>\n",
       "\n",
       "  <script>\n",
       "    async function quickchart(key) {\n",
       "      const quickchartButtonEl =\n",
       "        document.querySelector('#' + key + ' button');\n",
       "      quickchartButtonEl.disabled = true;  // To prevent multiple clicks.\n",
       "      quickchartButtonEl.classList.add('colab-df-spinner');\n",
       "      try {\n",
       "        const charts = await google.colab.kernel.invokeFunction(\n",
       "            'suggestCharts', [key], {});\n",
       "      } catch (error) {\n",
       "        console.error('Error during call to suggestCharts:', error);\n",
       "      }\n",
       "      quickchartButtonEl.classList.remove('colab-df-spinner');\n",
       "      quickchartButtonEl.classList.add('colab-df-quickchart-complete');\n",
       "    }\n",
       "    (() => {\n",
       "      let quickchartButtonEl =\n",
       "        document.querySelector('#df-7320f5a2-f67f-492a-bc05-0a99564d0159 button');\n",
       "      quickchartButtonEl.style.display =\n",
       "        google.colab.kernel.accessAllowed ? 'block' : 'none';\n",
       "    })();\n",
       "  </script>\n",
       "</div>\n",
       "\n",
       "    </div>\n",
       "  </div>\n"
      ],
      "application/vnd.google.colaboratory.intrinsic+json": {
       "type": "dataframe",
       "variable_name": "games_and_teams_df"
      }
     },
     "metadata": {},
     "execution_count": 85
    }
   ]
  },
  {
   "cell_type": "markdown",
   "source": [
    "**Ex:** find out who has the best PLUS_MINUS on average in Atlanta"
   ],
   "metadata": {
    "id": "VxFVTwF0ONun"
   }
  },
  {
   "cell_type": "markdown",
   "source": [
    "**Ex:** merge the games_details.csv and teams.csv, then games_details with one of the other csvs"
   ],
   "metadata": {
    "id": "ootFemJIq830"
   }
  },
  {
   "cell_type": "markdown",
   "source": [
    "**Ex:** find who was the owner of LeBron James' team in 2016"
   ],
   "metadata": {
    "id": "9c4wCOCVrGL4"
   }
  },
  {
   "cell_type": "markdown",
   "source": [
    "**Ex:** find player that has the most AST (assists)"
   ],
   "metadata": {
    "id": "fXMHo31UrS-A"
   }
  },
  {
   "cell_type": "code",
   "source": [],
   "metadata": {
    "id": "Y4EC-cWfpHxr"
   },
   "execution_count": null,
   "outputs": []
  },
  {
   "cell_type": "markdown",
   "source": [
    "#Numpy Exercises"
   ],
   "metadata": {
    "id": "7qnrpZYPhULC"
   }
  },
  {
   "cell_type": "markdown",
   "source": [
    "##1. Generate a vector with all multiples of 3 from 30 to 99"
   ],
   "metadata": {
    "id": "69UTGUqkhXxi"
   }
  },
  {
   "cell_type": "markdown",
   "source": [
    "##2. Generate a square array of size (12, 12) filled with ones"
   ],
   "metadata": {
    "id": "q-SPatKUiRO4"
   }
  },
  {
   "cell_type": "markdown",
   "source": [
    "## 3. Generate an array of size (6,3) filled with all numbers between 1 and 18, backwards (18, 17, 16 ...)"
   ],
   "metadata": {
    "id": "RGizquE8iS-Y"
   }
  },
  {
   "cell_type": "markdown",
   "source": [
    "## 4. Generate an array with the same shape as the previous exercise, but filled with zeros. BONUS: use only one method call"
   ],
   "metadata": {
    "id": "ypjUbXn_iaDH"
   }
  },
  {
   "cell_type": "markdown",
   "source": [
    "## 5. Generate an array of shape (4, 6) filled with random numbers between -4 and 4"
   ],
   "metadata": {
    "id": "v4Gnsz-4igdh"
   }
  },
  {
   "cell_type": "markdown",
   "source": [
    "## 6. Calculate the size of the array generated in the previous exercise"
   ],
   "metadata": {
    "id": "Jhrln7guilhi"
   }
  },
  {
   "cell_type": "markdown",
   "source": [
    "## 7. Generate an array of shape (6, 3) filled with random numbers between 1 and 18, sorted in ascending order"
   ],
   "metadata": {
    "id": "_QtY9rhZiqAg"
   }
  },
  {
   "cell_type": "markdown",
   "source": [
    "## 8. Sum the arrays from the 3rd and 7th exercise together\n"
   ],
   "metadata": {
    "id": "NXKCP8TYitQo"
   }
  },
  {
   "cell_type": "markdown",
   "source": [
    "## 9. Calculate the sum of all the values from each column in the last generated array"
   ],
   "metadata": {
    "id": "K4gnsLa1iw5r"
   }
  },
  {
   "cell_type": "markdown",
   "source": [],
   "metadata": {
    "id": "o2LXRcgAfdgh"
   }
  },
  {
   "cell_type": "markdown",
   "metadata": {
    "id": "DLq5-bNEBN7D"
   },
   "source": [
    "#Basic Exercises"
   ]
  },
  {
   "cell_type": "markdown",
   "source": [
    "Ex: Write a function that returns True if all the elements in the input list are even"
   ],
   "metadata": {
    "id": "OMPyHa_tnXTz"
   }
  },
  {
   "cell_type": "code",
   "source": [
    "#done"
   ],
   "metadata": {
    "id": "X8ww5mE4vBAO"
   },
   "execution_count": null,
   "outputs": []
  },
  {
   "cell_type": "markdown",
   "source": [
    "**Ex: Write a function that returns the maximum value in a list**"
   ],
   "metadata": {
    "id": "DI4EVh1LndiQ"
   }
  },
  {
   "cell_type": "code",
   "source": [
    "def find_maximum(list_of_numbers):\n",
    "    maximum = list_of_numbers[0]\n",
    "    for number in list_of_numbers:\n",
    "        if number > maximum:\n",
    "            maximum = number\n",
    "\n",
    "    return maximum"
   ],
   "metadata": {
    "id": "SRPjp33nvFv1"
   },
   "execution_count": null,
   "outputs": []
  },
  {
   "cell_type": "code",
   "source": [
    "find_maximum([0,-2, 30, -45, 90])"
   ],
   "metadata": {
    "colab": {
     "base_uri": "https://localhost:8080/"
    },
    "id": "UIqcx-pswaB4",
    "outputId": "55072203-e044-4e58-e3a6-9dd94f49175f"
   },
   "execution_count": null,
   "outputs": [
    {
     "output_type": "execute_result",
     "data": {
      "text/plain": [
       "90"
      ]
     },
     "metadata": {},
     "execution_count": 128
    }
   ]
  },
  {
   "cell_type": "code",
   "source": [
    "def find_maximum(list_of_numbers):\n",
    "    sorted_list = sorted(list_of_numbers)\n",
    "    return sorted_list[-1]"
   ],
   "metadata": {
    "id": "NK1yxiDiweSu"
   },
   "execution_count": null,
   "outputs": []
  },
  {
   "cell_type": "code",
   "source": [
    "find_maximum([0,-2, 30, -45, 90])"
   ],
   "metadata": {
    "colab": {
     "base_uri": "https://localhost:8080/"
    },
    "id": "aSDlZQ5wwsey",
    "outputId": "f7daefbf-8944-4dbb-c76b-89225992390c"
   },
   "execution_count": null,
   "outputs": [
    {
     "output_type": "execute_result",
     "data": {
      "text/plain": [
       "90"
      ]
     },
     "metadata": {},
     "execution_count": 132
    }
   ]
  },
  {
   "cell_type": "code",
   "source": [
    "def find_maximum(list_of_numbers):\n",
    "    maximum = 0\n",
    "    for number in list_of_numbers:\n",
    "        if number > maximum:\n",
    "            maximum = number\n",
    "\n",
    "    return maximum"
   ],
   "metadata": {
    "id": "37B3WzOBwyrN"
   },
   "execution_count": null,
   "outputs": []
  },
  {
   "cell_type": "code",
   "source": [
    "find_maximum([-20,-2, -30, -45, -90])"
   ],
   "metadata": {
    "colab": {
     "base_uri": "https://localhost:8080/"
    },
    "id": "mmfLJIunxBTY",
    "outputId": "5f3e679b-bb64-4f34-d4aa-384087995c1d"
   },
   "execution_count": null,
   "outputs": [
    {
     "output_type": "execute_result",
     "data": {
      "text/plain": [
       "0"
      ]
     },
     "metadata": {},
     "execution_count": 137
    }
   ]
  },
  {
   "cell_type": "code",
   "source": [
    "def find_maximum(list_of_numbers):\n",
    "    return max(list_of_numbers)\n"
   ],
   "metadata": {
    "id": "6m6ZZsUaxiKs"
   },
   "execution_count": null,
   "outputs": []
  },
  {
   "cell_type": "code",
   "source": [
    "find_maximum([-20,-2, -30, -45, -90])"
   ],
   "metadata": {
    "colab": {
     "base_uri": "https://localhost:8080/"
    },
    "id": "TjQHfo2txoKC",
    "outputId": "4f0b6c5b-21d5-4941-a7e0-bc33d886906e"
   },
   "execution_count": null,
   "outputs": [
    {
     "output_type": "execute_result",
     "data": {
      "text/plain": [
       "-2"
      ]
     },
     "metadata": {},
     "execution_count": 139
    }
   ]
  },
  {
   "cell_type": "code",
   "source": [
    "find_maximum = lambda x : max(x)"
   ],
   "metadata": {
    "id": "EwfxKR5VxxTJ"
   },
   "execution_count": null,
   "outputs": []
  },
  {
   "cell_type": "code",
   "source": [
    "find_maximum([-20,-2, -30, -45, -90])"
   ],
   "metadata": {
    "id": "SRCMNyEXx1N4",
    "outputId": "3663a7cc-7c59-4489-fe98-31f193f38748",
    "colab": {
     "base_uri": "https://localhost:8080/"
    }
   },
   "execution_count": null,
   "outputs": [
    {
     "output_type": "execute_result",
     "data": {
      "text/plain": [
       "-2"
      ]
     },
     "metadata": {},
     "execution_count": 141
    }
   ]
  },
  {
   "cell_type": "markdown",
   "source": [
    "Ex: Write a function that returns the sum of all values in the list"
   ],
   "metadata": {
    "id": "FMEtK4_GnjeF"
   }
  },
  {
   "cell_type": "markdown",
   "metadata": {
    "id": "EEi2hZC2tvaK"
   },
   "source": [
    "1. Write a function that returns True if all the elements in the input list are even\n",
    "2. Write a function that returns the maximum value in a list\n",
    "2. Write a function that returns the sum of all values in the list\n",
    "2. Write a function that accepts a list of numbers as input and returns an inverted version of the list\n",
    "2. Write a function that returns the first and last elements of a list\n",
    "3. Write a function that, given a, b, c, x as inputs, calculates ax^2 + bx + c\n",
    "4. Write a function that calculates the number of days between two dates. The dates can be tuples\n",
    "5. Write a function that accepts 2 dictionaries as input and returns a single dictionary with the same data (merged)\n",
    "6. Write a function to print the content of a dictionary in order by key\n",
    "7. Write a function to find all keys in the provided dictionary that have the given value\n",
    "8. Write a function to sort a tuple by its float element"
   ]
  },
  {
   "cell_type": "markdown",
   "source": [
    "Ex: Write a function to print the content of a dictionary in order by *key*"
   ],
   "metadata": {
    "id": "3fIeSBpOq_Xj"
   }
  },
  {
   "cell_type": "code",
   "source": [],
   "metadata": {
    "id": "mxtgcaR-dAgM"
   },
   "execution_count": null,
   "outputs": []
  }
 ]
}
