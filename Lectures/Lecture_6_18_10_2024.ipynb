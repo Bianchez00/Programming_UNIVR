{
  "nbformat": 4,
  "nbformat_minor": 0,
  "metadata": {
    "colab": {
      "provenance": []
    },
    "kernelspec": {
      "name": "python3",
      "display_name": "Python 3"
    },
    "language_info": {
      "name": "python"
    }
  },
  "cells": [
    {
      "cell_type": "markdown",
      "source": [
        "#Python Language Basics"
      ],
      "metadata": {
        "id": "1MvOjIlsmYYM"
      }
    },
    {
      "cell_type": "markdown",
      "source": [
        "##18/10/2024"
      ],
      "metadata": {
        "id": "tIeEfeRnyHaN"
      }
    },
    {
      "cell_type": "code",
      "source": [
        "list_of_users = [\n",
        "    {\n",
        "        'name':'Niccolò', 'surname':'Marastoni', 'age':41\n",
        "    },\n",
        "    {\n",
        "        'name':'Lebron', 'surname':'James', 'age':39\n",
        "    },\n",
        "    {\n",
        "        'name':'Mark', 'surname':'Powers', 'age':52\n",
        "    }\n",
        "]"
      ],
      "metadata": {
        "id": "lMjzqO88aDAF"
      },
      "execution_count": null,
      "outputs": []
    },
    {
      "cell_type": "code",
      "source": [
        "user_0 = list_of_users[0]"
      ],
      "metadata": {
        "id": "WNlAVCcvahGI"
      },
      "execution_count": null,
      "outputs": []
    },
    {
      "cell_type": "code",
      "source": [
        "user_0['name']"
      ],
      "metadata": {
        "colab": {
          "base_uri": "https://localhost:8080/",
          "height": 36
        },
        "id": "_IrK7zK2a4us",
        "outputId": "10ac6549-b0eb-471f-eb9f-edb0c46f32d4"
      },
      "execution_count": null,
      "outputs": [
        {
          "output_type": "execute_result",
          "data": {
            "text/plain": [
              "'Niccolò'"
            ],
            "application/vnd.google.colaboratory.intrinsic+json": {
              "type": "string"
            }
          },
          "metadata": {},
          "execution_count": 8
        }
      ]
    },
    {
      "cell_type": "code",
      "source": [
        "def add_user(list_of_users, user):\n",
        "    list_of_users.append(user)\n",
        "    return list_of_users\n",
        "\n",
        "def add_users(list_of_users, users):\n",
        "    for user in users:\n",
        "        #check if user already exists\n",
        "        list_of_users = add_user(list_of_users, user)\n",
        "\n",
        "    return list_of_users"
      ],
      "metadata": {
        "id": "geHAr6NlbCqh"
      },
      "execution_count": null,
      "outputs": []
    },
    {
      "cell_type": "code",
      "source": [
        "new_user_0 = {\n",
        "    'name':'Mick',\n",
        "    'surname':'Thompson',\n",
        "    'age':45\n",
        "}\n",
        "\n",
        "new_user_1 = {\n",
        "    'name':'Phil',\n",
        "    'surname':'Collins',\n",
        "    'age':74\n",
        "}\n",
        "\n",
        "new_list_of_users = [new_user_0, new_user_1]\n",
        "list_of_users = add_users(list_of_users, new_list_of_users)"
      ],
      "metadata": {
        "id": "QIoFgl8rbh3u"
      },
      "execution_count": null,
      "outputs": []
    },
    {
      "cell_type": "code",
      "source": [
        "list_of_users"
      ],
      "metadata": {
        "colab": {
          "base_uri": "https://localhost:8080/"
        },
        "id": "OWA-CKJLcprs",
        "outputId": "21ff4c48-51c4-43b8-805c-bc2219fc91e3"
      },
      "execution_count": null,
      "outputs": [
        {
          "output_type": "execute_result",
          "data": {
            "text/plain": [
              "[{'name': 'Niccolò', 'surname': 'Marastoni', 'age': 41},\n",
              " {'name': 'Lebron', 'surname': 'James', 'age': 39},\n",
              " {'name': 'Mark', 'surname': 'Powers', 'age': 52},\n",
              " {'name': 'Mick', 'surname': 'Thompson', 'age': 45},\n",
              " {'name': 'Mick', 'surname': 'Thompson', 'age': 45},\n",
              " {'name': 'Phil', 'surname': 'Collins', 'age': 74}]"
            ]
          },
          "metadata": {},
          "execution_count": 14
        }
      ]
    },
    {
      "cell_type": "code",
      "source": [
        "list_of_users[3] == list_of_users[4]"
      ],
      "metadata": {
        "colab": {
          "base_uri": "https://localhost:8080/"
        },
        "id": "GEnT0Qx7bx-V",
        "outputId": "2a019646-d35f-4851-db3c-a10e3f5ac54d"
      },
      "execution_count": null,
      "outputs": [
        {
          "output_type": "execute_result",
          "data": {
            "text/plain": [
              "True"
            ]
          },
          "metadata": {},
          "execution_count": 17
        }
      ]
    },
    {
      "cell_type": "code",
      "source": [
        "new_user_2 = {\n",
        "    'name':'Dimebag',\n",
        "    'surname':'Darrel',\n",
        "    'age':65\n",
        "}\n",
        "list_of_users = add_user(list_of_users, new_user_2)"
      ],
      "metadata": {
        "id": "-vbshAxcd319"
      },
      "execution_count": null,
      "outputs": []
    },
    {
      "cell_type": "code",
      "source": [],
      "metadata": {
        "id": "IOdDrj0YeXpU"
      },
      "execution_count": null,
      "outputs": []
    },
    {
      "cell_type": "code",
      "source": [
        "new_user_3 = {\n",
        "    'name':'Dimebag',\n",
        "    'surname':'Darrel',\n",
        "    'age':65,\n",
        "    'job':'Guitar player'\n",
        "}\n",
        "\n",
        "list_of_users = add_user(list_of_users, new_user_3)"
      ],
      "metadata": {
        "id": "6VSrym6CeFGA"
      },
      "execution_count": null,
      "outputs": []
    },
    {
      "cell_type": "code",
      "source": [
        "list_of_users"
      ],
      "metadata": {
        "colab": {
          "base_uri": "https://localhost:8080/"
        },
        "id": "oHmGqvxwemc4",
        "outputId": "e7041f9b-88b1-4119-cc37-e492ef753ce3"
      },
      "execution_count": null,
      "outputs": [
        {
          "output_type": "execute_result",
          "data": {
            "text/plain": [
              "[{'name': 'Niccolò', 'surname': 'Marastoni', 'age': 41},\n",
              " {'name': 'Lebron', 'surname': 'James', 'age': 39},\n",
              " {'name': 'Mark', 'surname': 'Powers', 'age': 52},\n",
              " {'name': 'Mick', 'surname': 'Thompson', 'age': 45},\n",
              " {'name': 'Mick', 'surname': 'Thompson', 'age': 45},\n",
              " {'name': 'Phil', 'surname': 'Collins', 'age': 74},\n",
              " {'name': 'Dimebag', 'surname': 'Darrel', 'age': 65},\n",
              " {'name': 'Dimebag', 'surname': 'Darrel', 'age': 65, 'job': 'Guitar player'}]"
            ]
          },
          "metadata": {},
          "execution_count": 23
        }
      ]
    },
    {
      "cell_type": "code",
      "source": [
        "list_of_users[-2] == list_of_users[-1]"
      ],
      "metadata": {
        "colab": {
          "base_uri": "https://localhost:8080/"
        },
        "id": "jK4Mo7SReZuR",
        "outputId": "fa8846a4-6345-4129-a0b3-0bffb818e9a1"
      },
      "execution_count": null,
      "outputs": [
        {
          "output_type": "execute_result",
          "data": {
            "text/plain": [
              "False"
            ]
          },
          "metadata": {},
          "execution_count": 22
        }
      ]
    },
    {
      "cell_type": "code",
      "source": [
        "list_of_users[0]['car'] = 'chr'"
      ],
      "metadata": {
        "id": "HujyEkzheuX7"
      },
      "execution_count": null,
      "outputs": []
    },
    {
      "cell_type": "code",
      "source": [
        "list_of_users"
      ],
      "metadata": {
        "colab": {
          "base_uri": "https://localhost:8080/"
        },
        "id": "2TlHAKv0e6-7",
        "outputId": "e23713d5-7146-4bf9-a3dc-6d868eb81710"
      },
      "execution_count": null,
      "outputs": [
        {
          "output_type": "execute_result",
          "data": {
            "text/plain": [
              "[{'name': 'Niccolò', 'surname': 'Marastoni', 'age': 41, 'car': 'chr'},\n",
              " {'name': 'Lebron', 'surname': 'James', 'age': 39},\n",
              " {'name': 'Mark', 'surname': 'Powers', 'age': 52},\n",
              " {'name': 'Mick', 'surname': 'Thompson', 'age': 45},\n",
              " {'name': 'Mick', 'surname': 'Thompson', 'age': 45},\n",
              " {'name': 'Phil', 'surname': 'Collins', 'age': 74},\n",
              " {'name': 'Dimebag', 'surname': 'Darrel', 'age': 65},\n",
              " {'name': 'Dimebag', 'surname': 'Darrel', 'age': 65, 'job': 'Guitar player'}]"
            ]
          },
          "metadata": {},
          "execution_count": 25
        }
      ]
    },
    {
      "cell_type": "code",
      "source": [
        "class Person:\n",
        "    pass"
      ],
      "metadata": {
        "id": "6SUbgorFfNWE"
      },
      "execution_count": null,
      "outputs": []
    },
    {
      "cell_type": "code",
      "source": [
        "p = Person()"
      ],
      "metadata": {
        "id": "4ZfL4J3CfWqx"
      },
      "execution_count": null,
      "outputs": []
    },
    {
      "cell_type": "code",
      "source": [
        "type(p)"
      ],
      "metadata": {
        "colab": {
          "base_uri": "https://localhost:8080/"
        },
        "id": "_QSihpclfab8",
        "outputId": "7ccd0d8d-7f48-4770-c8cf-35405e5096a8"
      },
      "execution_count": null,
      "outputs": [
        {
          "output_type": "execute_result",
          "data": {
            "text/plain": [
              "__main__.Person"
            ]
          },
          "metadata": {},
          "execution_count": 29
        }
      ]
    },
    {
      "cell_type": "code",
      "source": [
        "type(1)"
      ],
      "metadata": {
        "colab": {
          "base_uri": "https://localhost:8080/"
        },
        "id": "SJh_DQtjfpI4",
        "outputId": "a2ccb3e6-e2b9-42ef-8093-1e3d76e684bc"
      },
      "execution_count": null,
      "outputs": [
        {
          "output_type": "execute_result",
          "data": {
            "text/plain": [
              "int"
            ]
          },
          "metadata": {},
          "execution_count": 30
        }
      ]
    },
    {
      "cell_type": "code",
      "source": [
        "class Person:\n",
        "    def __init__(self, name, surname, age):\n",
        "        self.name = name\n",
        "        self.surname = surname\n",
        "        self.age = age"
      ],
      "metadata": {
        "id": "I9pjAm_rf0VP"
      },
      "execution_count": null,
      "outputs": []
    },
    {
      "cell_type": "code",
      "source": [
        "class Wrong:\n",
        "    def __init__(age, name, surname):\n",
        "        self.name = name\n",
        "        self.surname = surname\n",
        "        self.age = age"
      ],
      "metadata": {
        "id": "yaoe51cVicWH"
      },
      "execution_count": null,
      "outputs": []
    },
    {
      "cell_type": "code",
      "source": [
        "p = Wrong('hello', 'wrong', 56)"
      ],
      "metadata": {
        "colab": {
          "base_uri": "https://localhost:8080/",
          "height": 144
        },
        "id": "yIqxbdD_ih2o",
        "outputId": "c009566f-c98a-445e-e9f5-2653364f4837"
      },
      "execution_count": null,
      "outputs": [
        {
          "output_type": "error",
          "ename": "TypeError",
          "evalue": "Wrong.__init__() takes 3 positional arguments but 4 were given",
          "traceback": [
            "\u001b[0;31m---------------------------------------------------------------------------\u001b[0m",
            "\u001b[0;31mTypeError\u001b[0m                                 Traceback (most recent call last)",
            "\u001b[0;32m<ipython-input-49-732f138f0c5e>\u001b[0m in \u001b[0;36m<cell line: 1>\u001b[0;34m()\u001b[0m\n\u001b[0;32m----> 1\u001b[0;31m \u001b[0mp\u001b[0m \u001b[0;34m=\u001b[0m \u001b[0mWrong\u001b[0m\u001b[0;34m(\u001b[0m\u001b[0;34m'hello'\u001b[0m\u001b[0;34m,\u001b[0m \u001b[0;34m'wrong'\u001b[0m\u001b[0;34m,\u001b[0m \u001b[0;36m56\u001b[0m\u001b[0;34m)\u001b[0m\u001b[0;34m\u001b[0m\u001b[0;34m\u001b[0m\u001b[0m\n\u001b[0m",
            "\u001b[0;31mTypeError\u001b[0m: Wrong.__init__() takes 3 positional arguments but 4 were given"
          ]
        }
      ]
    },
    {
      "cell_type": "code",
      "source": [
        "Wrong.__init__() # __init__(Wrong, )"
      ],
      "metadata": {
        "id": "_4ObPJbji28S"
      },
      "execution_count": null,
      "outputs": []
    },
    {
      "cell_type": "code",
      "source": [
        "person_0 = Person('Niccolò', 'Marastoni', 41)"
      ],
      "metadata": {
        "id": "7KQ068eYg5Xg"
      },
      "execution_count": null,
      "outputs": []
    },
    {
      "cell_type": "code",
      "source": [
        "person_0"
      ],
      "metadata": {
        "colab": {
          "base_uri": "https://localhost:8080/"
        },
        "id": "B8iI7wQ8hNQP",
        "outputId": "c86c1165-553e-460a-e68b-8a4969246fc6"
      },
      "execution_count": null,
      "outputs": [
        {
          "output_type": "execute_result",
          "data": {
            "text/plain": [
              "<__main__.Person at 0x7a9146bc86a0>"
            ]
          },
          "metadata": {},
          "execution_count": 35
        }
      ]
    },
    {
      "cell_type": "code",
      "source": [
        "person_0.name + ' ' + person_0.surname + ' is ' + str(person_0.age) + ' years old'"
      ],
      "metadata": {
        "colab": {
          "base_uri": "https://localhost:8080/",
          "height": 36
        },
        "id": "efOaspEahVAr",
        "outputId": "28d16a91-b3a0-49c8-8557-2d8dfda57bfa"
      },
      "execution_count": null,
      "outputs": [
        {
          "output_type": "execute_result",
          "data": {
            "text/plain": [
              "'Niccolò Marastoni is 41 years old'"
            ],
            "application/vnd.google.colaboratory.intrinsic+json": {
              "type": "string"
            }
          },
          "metadata": {},
          "execution_count": 38
        }
      ]
    },
    {
      "cell_type": "code",
      "source": [
        "list_of_users[0]['name']"
      ],
      "metadata": {
        "colab": {
          "base_uri": "https://localhost:8080/",
          "height": 36
        },
        "id": "QeoMiGA4hpVA",
        "outputId": "543b58fc-9cdc-4635-d7d1-782b1ba7c455"
      },
      "execution_count": null,
      "outputs": [
        {
          "output_type": "execute_result",
          "data": {
            "text/plain": [
              "'Niccolò'"
            ],
            "application/vnd.google.colaboratory.intrinsic+json": {
              "type": "string"
            }
          },
          "metadata": {},
          "execution_count": 39
        }
      ]
    },
    {
      "cell_type": "code",
      "source": [
        "person_0.age = 26"
      ],
      "metadata": {
        "id": "3hQs9xyfhzQ9"
      },
      "execution_count": null,
      "outputs": []
    },
    {
      "cell_type": "code",
      "source": [
        "person_0.car = 'chr'"
      ],
      "metadata": {
        "id": "vSH6dljzh2Qf"
      },
      "execution_count": null,
      "outputs": []
    },
    {
      "cell_type": "code",
      "source": [
        "person_0.car"
      ],
      "metadata": {
        "colab": {
          "base_uri": "https://localhost:8080/",
          "height": 36
        },
        "id": "-sTAUGvXh_Wp",
        "outputId": "6b7acb5e-1cbe-4d4d-bd72-e0c02ce7d462"
      },
      "execution_count": null,
      "outputs": [
        {
          "output_type": "execute_result",
          "data": {
            "text/plain": [
              "'chr'"
            ],
            "application/vnd.google.colaboratory.intrinsic+json": {
              "type": "string"
            }
          },
          "metadata": {},
          "execution_count": 47
        }
      ]
    },
    {
      "cell_type": "code",
      "source": [
        "class Person:\n",
        "    def __init__(self, name, family_name, age, gender='x'):\n",
        "        self.name = name\n",
        "        self.surname = family_name\n",
        "        self.age = age\n",
        "        self.gender = gender\n",
        "        self.type_of_user = 'default'\n",
        "\n",
        "    def print_name(self):\n",
        "        print(self.name)\n",
        "\n",
        "    def change_name(self, new_name):\n",
        "        self.name = new_name"
      ],
      "metadata": {
        "id": "XIsDAh5IiFDb"
      },
      "execution_count": null,
      "outputs": []
    },
    {
      "cell_type": "code",
      "source": [
        "person = Person('Niccolò', 'Marastoni', 41)"
      ],
      "metadata": {
        "id": "CQjvlmIgjwJI"
      },
      "execution_count": null,
      "outputs": []
    },
    {
      "cell_type": "code",
      "source": [
        "person.change_name('Nick')"
      ],
      "metadata": {
        "id": "5RjACyk6kL4r"
      },
      "execution_count": null,
      "outputs": []
    },
    {
      "cell_type": "code",
      "source": [
        "person.print_name()"
      ],
      "metadata": {
        "colab": {
          "base_uri": "https://localhost:8080/"
        },
        "id": "FCl9Ut2ajzB6",
        "outputId": "54487b5e-f3cb-4e36-b852-0ffa5b673dd9"
      },
      "execution_count": null,
      "outputs": [
        {
          "output_type": "stream",
          "name": "stdout",
          "text": [
            "Nick\n"
          ]
        }
      ]
    },
    {
      "cell_type": "code",
      "source": [
        "person_2 = Person('Lebron', 'James', 39, 'm')"
      ],
      "metadata": {
        "id": "4GFEXJT8k6yo"
      },
      "execution_count": null,
      "outputs": []
    },
    {
      "cell_type": "code",
      "source": [
        "person.type_of_user"
      ],
      "metadata": {
        "colab": {
          "base_uri": "https://localhost:8080/",
          "height": 36
        },
        "id": "uiVs0HnElAIU",
        "outputId": "d808ebbd-56ac-45b4-8d0f-697ad48089c6"
      },
      "execution_count": null,
      "outputs": [
        {
          "output_type": "execute_result",
          "data": {
            "text/plain": [
              "'default'"
            ],
            "application/vnd.google.colaboratory.intrinsic+json": {
              "type": "string"
            }
          },
          "metadata": {},
          "execution_count": 83
        }
      ]
    },
    {
      "cell_type": "code",
      "source": [
        "person_1 = Person('Lebron', 'James', 39)\n",
        "person_2 = Person('Lebron', 'James', 39)"
      ],
      "metadata": {
        "id": "9yoNOBrcmBfi"
      },
      "execution_count": null,
      "outputs": []
    },
    {
      "cell_type": "code",
      "source": [
        "person_1 == person_2"
      ],
      "metadata": {
        "colab": {
          "base_uri": "https://localhost:8080/"
        },
        "id": "GOMUMw8QmKG4",
        "outputId": "b76f2c21-387c-4841-e5aa-fce4832f9c71"
      },
      "execution_count": null,
      "outputs": [
        {
          "output_type": "execute_result",
          "data": {
            "text/plain": [
              "False"
            ]
          },
          "metadata": {},
          "execution_count": 85
        }
      ]
    },
    {
      "cell_type": "code",
      "source": [
        "person_1"
      ],
      "metadata": {
        "colab": {
          "base_uri": "https://localhost:8080/"
        },
        "id": "7jILNm2Qmb8L",
        "outputId": "eb603012-0fd3-4a78-a536-973485b62b61"
      },
      "execution_count": null,
      "outputs": [
        {
          "output_type": "execute_result",
          "data": {
            "text/plain": [
              "<__main__.Person at 0x7a9146e8b9d0>"
            ]
          },
          "metadata": {},
          "execution_count": 86
        }
      ]
    },
    {
      "cell_type": "code",
      "source": [
        "person_2"
      ],
      "metadata": {
        "colab": {
          "base_uri": "https://localhost:8080/"
        },
        "id": "7JY4uUbimdjH",
        "outputId": "f7317b23-ba45-434e-a54c-e6ad93220f8c"
      },
      "execution_count": null,
      "outputs": [
        {
          "output_type": "execute_result",
          "data": {
            "text/plain": [
              "<__main__.Person at 0x7a9146e8b3a0>"
            ]
          },
          "metadata": {},
          "execution_count": 87
        }
      ]
    },
    {
      "cell_type": "code",
      "source": [
        "person_3 = person_1"
      ],
      "metadata": {
        "id": "rXZ27ZhGmtZ3"
      },
      "execution_count": null,
      "outputs": []
    },
    {
      "cell_type": "code",
      "source": [
        "#person_1.__eq__(person_2)\n",
        "person_3 == person_1"
      ],
      "metadata": {
        "colab": {
          "base_uri": "https://localhost:8080/"
        },
        "id": "lt5nwqjlmwZd",
        "outputId": "513cf324-9253-4d1d-e2b1-95d413b39245"
      },
      "execution_count": null,
      "outputs": [
        {
          "output_type": "execute_result",
          "data": {
            "text/plain": [
              "True"
            ]
          },
          "metadata": {},
          "execution_count": 90
        }
      ]
    },
    {
      "cell_type": "code",
      "source": [
        "person_1.__eq__(person_2)"
      ],
      "metadata": {
        "colab": {
          "base_uri": "https://localhost:8080/"
        },
        "id": "swHOF8FInZjz",
        "outputId": "d4cfbda8-f030-425e-b0a3-cffbcabe8a3f"
      },
      "execution_count": null,
      "outputs": [
        {
          "output_type": "execute_result",
          "data": {
            "text/plain": [
              "NotImplemented"
            ]
          },
          "metadata": {},
          "execution_count": 92
        }
      ]
    },
    {
      "cell_type": "code",
      "source": [
        "class Person:\n",
        "    def __init__(self, name, family_name, age, gender='x'):\n",
        "        self.name = name\n",
        "        self.surname = family_name\n",
        "        self.age = age\n",
        "        self.gender = gender\n",
        "        self.type_of_user = 'default'\n",
        "\n",
        "    def print_name(self):\n",
        "        print(self.name)\n",
        "\n",
        "    def change_name(self, new_name):\n",
        "        self.name = new_name\n",
        "\n",
        "    def __eq__(self, other):\n",
        "        same_name = self.name == other.name\n",
        "        same_surname = self.surname == other.surname\n",
        "        same_age = self.age == other.age\n",
        "        return same_name and same_surname and same_age\n"
      ],
      "metadata": {
        "id": "x10fZbz6m91a"
      },
      "execution_count": null,
      "outputs": []
    },
    {
      "cell_type": "code",
      "source": [
        "person_1 = Person('Lebron', 'James', 39)\n",
        "person_2 = Person('Lebron', 'James', 39)"
      ],
      "metadata": {
        "id": "ZRxw_FMDoACr"
      },
      "execution_count": null,
      "outputs": []
    },
    {
      "cell_type": "code",
      "source": [
        "person_1 == person_2"
      ],
      "metadata": {
        "colab": {
          "base_uri": "https://localhost:8080/"
        },
        "id": "hpMc1_w3oF3D",
        "outputId": "5075d80b-351d-4957-9d16-840e0cf01c98"
      },
      "execution_count": null,
      "outputs": [
        {
          "output_type": "execute_result",
          "data": {
            "text/plain": [
              "True"
            ]
          },
          "metadata": {},
          "execution_count": 101
        }
      ]
    },
    {
      "cell_type": "code",
      "source": [
        "person_1.__eq__(person_2)"
      ],
      "metadata": {
        "colab": {
          "base_uri": "https://localhost:8080/"
        },
        "id": "DUQ3oJB2oMSS",
        "outputId": "0d6b2c44-9849-4eb0-ccb3-4e8d3ec8bc79"
      },
      "execution_count": null,
      "outputs": [
        {
          "output_type": "execute_result",
          "data": {
            "text/plain": [
              "True"
            ]
          },
          "metadata": {},
          "execution_count": 102
        }
      ]
    },
    {
      "cell_type": "code",
      "source": [
        "class Pet:\n",
        "    def __init__(self, name, family_name, age):\n",
        "        self.name = name\n",
        "        self.surname = family_name\n",
        "        self.age = age\n",
        "\n",
        "    def print_name(self):\n",
        "        print(self.name)\n",
        "\n",
        "    def change_name(self, new_name):\n",
        "        self.name = new_name\n",
        "\n",
        "    def __eq__(self, other):\n",
        "        same_type = type(self) == type(other)\n",
        "        same_name = self.name == other.name\n",
        "        same_surname = self.surname == other.surname\n",
        "        same_age = self.age == other.age\n",
        "        return same_type and same_name and same_surname and same_age\n"
      ],
      "metadata": {
        "id": "jT3XCibGowrK"
      },
      "execution_count": null,
      "outputs": []
    },
    {
      "cell_type": "code",
      "source": [
        "my_turtle = Pet('Lebron', 'James', 39)"
      ],
      "metadata": {
        "id": "VvanWJj5pBOd"
      },
      "execution_count": null,
      "outputs": []
    },
    {
      "cell_type": "code",
      "source": [
        "my_turtle == person_1"
      ],
      "metadata": {
        "colab": {
          "base_uri": "https://localhost:8080/"
        },
        "id": "ndXvfKHApKPn",
        "outputId": "64bf7ad5-6bee-46cd-f10f-bfb6bf7bbab6"
      },
      "execution_count": null,
      "outputs": [
        {
          "output_type": "execute_result",
          "data": {
            "text/plain": [
              "False"
            ]
          },
          "metadata": {},
          "execution_count": 110
        }
      ]
    },
    {
      "cell_type": "code",
      "source": [
        "#person_1.__eq__(my_turtle)\n",
        "person_1 == my_turtle"
      ],
      "metadata": {
        "colab": {
          "base_uri": "https://localhost:8080/"
        },
        "id": "FXnVRNU5qVe4",
        "outputId": "052caad9-b0c6-467f-fe6c-452a55651a9a"
      },
      "execution_count": null,
      "outputs": [
        {
          "output_type": "execute_result",
          "data": {
            "text/plain": [
              "True"
            ]
          },
          "metadata": {},
          "execution_count": 111
        }
      ]
    },
    {
      "cell_type": "markdown",
      "source": [
        "**Exercise**: write an object that describes a stadium, it will have a length and a width as init input variables. It will also have area as attribute. Write a proper \\_\\_eq\\_\\_ function"
      ],
      "metadata": {
        "id": "AR8jCQo_q2Rk"
      }
    },
    {
      "cell_type": "code",
      "source": [
        "class Stadium:\n",
        "    def __init__(self, length, width):\n",
        "        self.length = length\n",
        "        self.width = width\n",
        "        self.area = length * width\n",
        "\n",
        "    def __eq__(self, other):\n",
        "        return type(self) == type(other) and self.length == other.length and self.width == other.width\n",
        "\n",
        "    def __add__(self, other):\n",
        "        if type(self) == type(other):\n",
        "            stadium = Stadium(self.length + other.length, self.width + other.width)\n",
        "            return stadium"
      ],
      "metadata": {
        "id": "4h4RstI3rMYm"
      },
      "execution_count": null,
      "outputs": []
    },
    {
      "cell_type": "code",
      "source": [],
      "metadata": {
        "id": "0-c6JXkFuB6A"
      },
      "execution_count": null,
      "outputs": []
    },
    {
      "cell_type": "code",
      "source": [
        "stadium_1 = Stadium(400, 10)\n",
        "stadium_2 = Stadium(40, 100)\n",
        "stadium_1 == stadium_2"
      ],
      "metadata": {
        "colab": {
          "base_uri": "https://localhost:8080/"
        },
        "id": "gf3PNeoltDsT",
        "outputId": "c2fc6e44-eab3-4e58-879b-97ec6659ce44"
      },
      "execution_count": null,
      "outputs": [
        {
          "output_type": "execute_result",
          "data": {
            "text/plain": [
              "False"
            ]
          },
          "metadata": {},
          "execution_count": 118
        }
      ]
    },
    {
      "cell_type": "code",
      "source": [
        "stadium_3 = stadium_1 + stadium_2"
      ],
      "metadata": {
        "id": "NKbrai1puD_4"
      },
      "execution_count": null,
      "outputs": []
    },
    {
      "cell_type": "code",
      "source": [
        "stadium_3.length"
      ],
      "metadata": {
        "colab": {
          "base_uri": "https://localhost:8080/"
        },
        "id": "jvIW9Vt9uG5X",
        "outputId": "2650cbe9-cf90-4d16-8604-7e2afd5164f3"
      },
      "execution_count": null,
      "outputs": [
        {
          "output_type": "execute_result",
          "data": {
            "text/plain": [
              "440"
            ]
          },
          "metadata": {},
          "execution_count": 120
        }
      ]
    },
    {
      "cell_type": "code",
      "source": [
        "'hello' + 'world'"
      ],
      "metadata": {
        "colab": {
          "base_uri": "https://localhost:8080/",
          "height": 36
        },
        "id": "qk0m9J_uuUL9",
        "outputId": "5d2c2855-040f-4e09-ade8-927f3b01c8e1"
      },
      "execution_count": null,
      "outputs": [
        {
          "output_type": "execute_result",
          "data": {
            "text/plain": [
              "'helloworld'"
            ],
            "application/vnd.google.colaboratory.intrinsic+json": {
              "type": "string"
            }
          },
          "metadata": {},
          "execution_count": 121
        }
      ]
    },
    {
      "cell_type": "markdown",
      "metadata": {
        "id": "5J7XWUFzBBQP"
      },
      "source": [
        "- Objects\n",
        "    - Constructor\n",
        "    - Attributes\n",
        "    - Methods\n",
        "        - self\n",
        "        - Built in -> \\_\\_repr__, \\_\\_eq__\n"
      ]
    },
    {
      "cell_type": "markdown",
      "source": [
        "- Generators?\n",
        "- Comments\n",
        "    - Inline\n",
        "    - Block\n",
        "    - Functions (pydoc)"
      ],
      "metadata": {
        "id": "1Z42mtqWJb9c"
      }
    },
    {
      "cell_type": "code",
      "source": [],
      "metadata": {
        "id": "k6mw-IEwRKzi"
      },
      "execution_count": null,
      "outputs": []
    }
  ]
}