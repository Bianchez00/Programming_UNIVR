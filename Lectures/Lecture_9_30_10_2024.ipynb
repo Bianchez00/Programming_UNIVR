{
  "nbformat": 4,
  "nbformat_minor": 0,
  "metadata": {
    "colab": {
      "provenance": []
    },
    "kernelspec": {
      "name": "python3",
      "display_name": "Python 3"
    },
    "language_info": {
      "name": "python"
    }
  },
  "cells": [
    {
      "cell_type": "markdown",
      "source": [
        "#Python Language Advanced"
      ],
      "metadata": {
        "id": "m-7ByU9K7ccu"
      }
    },
    {
      "cell_type": "markdown",
      "source": [
        "##30/10/2024"
      ],
      "metadata": {
        "id": "8O9-V-GS1Ien"
      }
    },
    {
      "cell_type": "markdown",
      "source": [
        "- vector sum\n",
        "    - function\n",
        "    - objects"
      ],
      "metadata": {
        "id": "dVnemcSAszMm"
      }
    },
    {
      "cell_type": "code",
      "source": [
        "v_1 =       [0,  12,  32, -2, 6]\n",
        "v_2 =       [90, -3, 38, 12, -19]\n",
        "#v_sum =    [90, 9, 70, 10, -13]"
      ],
      "metadata": {
        "id": "6W_PhtLTa684"
      },
      "execution_count": null,
      "outputs": []
    },
    {
      "cell_type": "code",
      "source": [
        "v_1 + v_2"
      ],
      "metadata": {
        "colab": {
          "base_uri": "https://localhost:8080/"
        },
        "id": "FhS2j4gjbDR6",
        "outputId": "5a220707-e9a0-4b73-89c7-9a7104f3f2c2"
      },
      "execution_count": null,
      "outputs": [
        {
          "output_type": "execute_result",
          "data": {
            "text/plain": [
              "[0, 12, 32, -2, 6, 90, -3, 38, 12, -19]"
            ]
          },
          "metadata": {},
          "execution_count": 9
        }
      ]
    },
    {
      "cell_type": "code",
      "source": [
        "#write a function that takes two lists of numbers in input and returns their vector sum\n",
        "def vector_sum(v_1, v_2):\n",
        "    res_list = []\n",
        "    if len(v_1) == len(v_2):\n",
        "        for i in range(len(v_2)):\n",
        "            sum_elements = v_1[i] + v_2[i]\n",
        "            res_list.append(sum_elements)\n",
        "    return res_list\n"
      ],
      "metadata": {
        "id": "KA9pg-xHbjK7"
      },
      "execution_count": null,
      "outputs": []
    },
    {
      "cell_type": "code",
      "source": [
        "vector_sum(v_1, v_2)"
      ],
      "metadata": {
        "colab": {
          "base_uri": "https://localhost:8080/"
        },
        "id": "vv1L73b3d3yp",
        "outputId": "b7ba658b-00d7-471f-ad24-5cb88059cfd3"
      },
      "execution_count": null,
      "outputs": [
        {
          "output_type": "execute_result",
          "data": {
            "text/plain": [
              "[90, 9, 70, 10, -13]"
            ]
          },
          "metadata": {},
          "execution_count": 14
        }
      ]
    },
    {
      "cell_type": "code",
      "source": [
        "class Vector:\n",
        "    def __init__(self, list_of_numbers):\n",
        "        self.list_of_numbers = list_of_numbers\n",
        "\n",
        "    def __repr__(self):\n",
        "        return str(self.list_of_numbers)\n",
        "\n",
        "    def __add__(self, other):\n",
        "        return Vector(vector_sum(self.list_of_numbers, other.list_of_numbers))"
      ],
      "metadata": {
        "id": "TbG_NSAlfLah"
      },
      "execution_count": null,
      "outputs": []
    },
    {
      "cell_type": "code",
      "source": [
        "vec_1 = Vector(v_1)\n",
        "vec_2 = Vector(v_2)\n",
        "vec_1 + vec_2"
      ],
      "metadata": {
        "colab": {
          "base_uri": "https://localhost:8080/"
        },
        "id": "APlkNDMSf5T0",
        "outputId": "208435f5-b2dd-4113-9c7f-e0cb63e66a72"
      },
      "execution_count": null,
      "outputs": [
        {
          "output_type": "execute_result",
          "data": {
            "text/plain": [
              "[90, 9, 70, 10, -13]"
            ]
          },
          "metadata": {},
          "execution_count": 21
        }
      ]
    },
    {
      "cell_type": "markdown",
      "source": [
        "##Numpy Basics"
      ],
      "metadata": {
        "id": "IYdLlo2E1evN"
      }
    },
    {
      "cell_type": "code",
      "source": [
        "import numpy as np"
      ],
      "metadata": {
        "id": "f2wDODfPiabJ"
      },
      "execution_count": null,
      "outputs": []
    },
    {
      "cell_type": "code",
      "source": [
        "vector_1 = np.array(v_1)\n",
        "vector_2 = np.array(v_2)\n",
        "vector_1"
      ],
      "metadata": {
        "colab": {
          "base_uri": "https://localhost:8080/"
        },
        "id": "yFR-F8mDibvc",
        "outputId": "dbef99bb-f092-448b-d7b8-1547e0017db8"
      },
      "execution_count": null,
      "outputs": [
        {
          "output_type": "execute_result",
          "data": {
            "text/plain": [
              "array([ 0, 12, 32, -2,  6])"
            ]
          },
          "metadata": {},
          "execution_count": 25
        }
      ]
    },
    {
      "cell_type": "code",
      "source": [
        "vector_1 + vector_2"
      ],
      "metadata": {
        "colab": {
          "base_uri": "https://localhost:8080/"
        },
        "id": "qdjZcPhyix7U",
        "outputId": "4d24fb50-4a1f-4b7c-f526-ff4057af5cab"
      },
      "execution_count": null,
      "outputs": [
        {
          "output_type": "execute_result",
          "data": {
            "text/plain": [
              "array([ 90,   9,  70,  10, -13])"
            ]
          },
          "metadata": {},
          "execution_count": 27
        }
      ]
    },
    {
      "cell_type": "code",
      "source": [
        "vector_1 * vector_2"
      ],
      "metadata": {
        "colab": {
          "base_uri": "https://localhost:8080/"
        },
        "id": "264C26JSi_tF",
        "outputId": "9ca3f328-37df-462f-94db-a79dae29a692"
      },
      "execution_count": null,
      "outputs": [
        {
          "output_type": "execute_result",
          "data": {
            "text/plain": [
              "array([   0,  -36, 1216,  -24, -114])"
            ]
          },
          "metadata": {},
          "execution_count": 28
        }
      ]
    },
    {
      "cell_type": "code",
      "source": [
        "vector_1 * vector_2.T"
      ],
      "metadata": {
        "colab": {
          "base_uri": "https://localhost:8080/"
        },
        "id": "wu3YfDXGjDn7",
        "outputId": "692f3b17-fa3e-42cf-b62e-98744120ae6b"
      },
      "execution_count": null,
      "outputs": [
        {
          "output_type": "execute_result",
          "data": {
            "text/plain": [
              "array([   0,  -36, 1216,  -24, -114])"
            ]
          },
          "metadata": {},
          "execution_count": 29
        }
      ]
    },
    {
      "cell_type": "code",
      "source": [
        "a_matrix_of_numbers = [\n",
        "    [1,2,3,4],\n",
        "    [5,6,7,8],\n",
        "    [9,10,11,12]\n",
        "]"
      ],
      "metadata": {
        "id": "5M4A4xZ3jIlW"
      },
      "execution_count": null,
      "outputs": []
    },
    {
      "cell_type": "code",
      "source": [
        "m_1 = np.array(a_matrix_of_numbers)\n",
        "m_1"
      ],
      "metadata": {
        "colab": {
          "base_uri": "https://localhost:8080/"
        },
        "id": "2duLPvzsjWac",
        "outputId": "7826b535-a3e7-4910-9532-aee0588ecd5e"
      },
      "execution_count": null,
      "outputs": [
        {
          "output_type": "execute_result",
          "data": {
            "text/plain": [
              "array([[ 1,  2,  3,  4],\n",
              "       [ 5,  6,  7,  8],\n",
              "       [ 9, 10, 11, 12]])"
            ]
          },
          "metadata": {},
          "execution_count": 31
        }
      ]
    },
    {
      "cell_type": "code",
      "source": [
        "m_1 + m_1"
      ],
      "metadata": {
        "colab": {
          "base_uri": "https://localhost:8080/"
        },
        "id": "WYctJ41cjmJb",
        "outputId": "7a23c3af-68a4-4037-ec92-e53e048752c1"
      },
      "execution_count": null,
      "outputs": [
        {
          "output_type": "execute_result",
          "data": {
            "text/plain": [
              "array([[ 2,  4,  6,  8],\n",
              "       [10, 12, 14, 16],\n",
              "       [18, 20, 22, 24]])"
            ]
          },
          "metadata": {},
          "execution_count": 32
        }
      ]
    },
    {
      "cell_type": "code",
      "source": [
        "m_1 * m_1"
      ],
      "metadata": {
        "colab": {
          "base_uri": "https://localhost:8080/"
        },
        "id": "3tmHCiU8joWk",
        "outputId": "0f457ceb-4874-4352-b798-589373cd66b6"
      },
      "execution_count": null,
      "outputs": [
        {
          "output_type": "execute_result",
          "data": {
            "text/plain": [
              "array([[  1,   4,   9,  16],\n",
              "       [ 25,  36,  49,  64],\n",
              "       [ 81, 100, 121, 144]])"
            ]
          },
          "metadata": {},
          "execution_count": 33
        }
      ]
    },
    {
      "cell_type": "code",
      "source": [
        "m_1.T"
      ],
      "metadata": {
        "colab": {
          "base_uri": "https://localhost:8080/"
        },
        "id": "z26BCI9Zjx-3",
        "outputId": "5ec15e21-fc04-4a6f-d699-f9a5bff501de"
      },
      "execution_count": null,
      "outputs": [
        {
          "output_type": "execute_result",
          "data": {
            "text/plain": [
              "array([[ 1,  5,  9],\n",
              "       [ 2,  6, 10],\n",
              "       [ 3,  7, 11],\n",
              "       [ 4,  8, 12]])"
            ]
          },
          "metadata": {},
          "execution_count": 35
        }
      ]
    },
    {
      "cell_type": "code",
      "source": [
        "m_1.T * m_1"
      ],
      "metadata": {
        "colab": {
          "base_uri": "https://localhost:8080/",
          "height": 144
        },
        "id": "OtjwBKQtj_uN",
        "outputId": "e7f7f749-6d5a-4114-f1bb-f980fe180402"
      },
      "execution_count": null,
      "outputs": [
        {
          "output_type": "error",
          "ename": "ValueError",
          "evalue": "operands could not be broadcast together with shapes (4,3) (3,4) ",
          "traceback": [
            "\u001b[0;31m---------------------------------------------------------------------------\u001b[0m",
            "\u001b[0;31mValueError\u001b[0m                                Traceback (most recent call last)",
            "\u001b[0;32m<ipython-input-36-70fbcc005024>\u001b[0m in \u001b[0;36m<cell line: 1>\u001b[0;34m()\u001b[0m\n\u001b[0;32m----> 1\u001b[0;31m \u001b[0mm_1\u001b[0m\u001b[0;34m.\u001b[0m\u001b[0mT\u001b[0m \u001b[0;34m*\u001b[0m \u001b[0mm_1\u001b[0m\u001b[0;34m\u001b[0m\u001b[0;34m\u001b[0m\u001b[0m\n\u001b[0m",
            "\u001b[0;31mValueError\u001b[0m: operands could not be broadcast together with shapes (4,3) (3,4) "
          ]
        }
      ]
    },
    {
      "cell_type": "code",
      "source": [
        "m_1 * m_1.T"
      ],
      "metadata": {
        "colab": {
          "base_uri": "https://localhost:8080/",
          "height": 144
        },
        "id": "Q9d1pQ0qkBy7",
        "outputId": "52adef36-9b38-4a5c-9b67-8c8962d7dbf5"
      },
      "execution_count": null,
      "outputs": [
        {
          "output_type": "error",
          "ename": "ValueError",
          "evalue": "operands could not be broadcast together with shapes (3,4) (4,3) ",
          "traceback": [
            "\u001b[0;31m---------------------------------------------------------------------------\u001b[0m",
            "\u001b[0;31mValueError\u001b[0m                                Traceback (most recent call last)",
            "\u001b[0;32m<ipython-input-37-70b354d011da>\u001b[0m in \u001b[0;36m<cell line: 1>\u001b[0;34m()\u001b[0m\n\u001b[0;32m----> 1\u001b[0;31m \u001b[0mm_1\u001b[0m \u001b[0;34m*\u001b[0m \u001b[0mm_1\u001b[0m\u001b[0;34m.\u001b[0m\u001b[0mT\u001b[0m\u001b[0;34m\u001b[0m\u001b[0;34m\u001b[0m\u001b[0m\n\u001b[0m",
            "\u001b[0;31mValueError\u001b[0m: operands could not be broadcast together with shapes (3,4) (4,3) "
          ]
        }
      ]
    },
    {
      "cell_type": "code",
      "source": [
        "m_1.dot(m_1.T)"
      ],
      "metadata": {
        "colab": {
          "base_uri": "https://localhost:8080/"
        },
        "id": "sMVgxcICj5i8",
        "outputId": "aa09384f-9b0e-4407-efc8-4250e9adec3d"
      },
      "execution_count": null,
      "outputs": [
        {
          "output_type": "execute_result",
          "data": {
            "text/plain": [
              "array([[ 30,  70, 110],\n",
              "       [ 70, 174, 278],\n",
              "       [110, 278, 446]])"
            ]
          },
          "metadata": {},
          "execution_count": 39
        }
      ]
    },
    {
      "cell_type": "code",
      "source": [
        "m_1.T.dot(m_1)"
      ],
      "metadata": {
        "colab": {
          "base_uri": "https://localhost:8080/"
        },
        "id": "0HJwETuikXLj",
        "outputId": "fe0ed45c-0594-4a69-8a04-01e5dbc973e1"
      },
      "execution_count": null,
      "outputs": [
        {
          "output_type": "execute_result",
          "data": {
            "text/plain": [
              "array([[107, 122, 137, 152],\n",
              "       [122, 140, 158, 176],\n",
              "       [137, 158, 179, 200],\n",
              "       [152, 176, 200, 224]])"
            ]
          },
          "metadata": {},
          "execution_count": 40
        }
      ]
    },
    {
      "cell_type": "code",
      "source": [
        "m_1.T"
      ],
      "metadata": {
        "colab": {
          "base_uri": "https://localhost:8080/"
        },
        "id": "3mz-21_5kiia",
        "outputId": "01b616ba-b23b-4259-c3c0-9342a99f5c97"
      },
      "execution_count": null,
      "outputs": [
        {
          "output_type": "execute_result",
          "data": {
            "text/plain": [
              "array([[ 1,  5,  9],\n",
              "       [ 2,  6, 10],\n",
              "       [ 3,  7, 11],\n",
              "       [ 4,  8, 12]])"
            ]
          },
          "metadata": {},
          "execution_count": 41
        }
      ]
    },
    {
      "cell_type": "code",
      "source": [
        "m_1"
      ],
      "metadata": {
        "colab": {
          "base_uri": "https://localhost:8080/"
        },
        "id": "Fd7VSx1lkjjn",
        "outputId": "2b2711a2-5ae2-4f0d-c316-c360d6b85847"
      },
      "execution_count": null,
      "outputs": [
        {
          "output_type": "execute_result",
          "data": {
            "text/plain": [
              "array([[ 1,  2,  3,  4],\n",
              "       [ 5,  6,  7,  8],\n",
              "       [ 9, 10, 11, 12]])"
            ]
          },
          "metadata": {},
          "execution_count": 42
        }
      ]
    },
    {
      "cell_type": "code",
      "source": [
        "m_1 * m_1"
      ],
      "metadata": {
        "colab": {
          "base_uri": "https://localhost:8080/"
        },
        "id": "n49pmMsBkx-1",
        "outputId": "15546351-de54-4708-b373-44a2ee5c1a59"
      },
      "execution_count": null,
      "outputs": [
        {
          "output_type": "execute_result",
          "data": {
            "text/plain": [
              "array([[  1,   4,   9,  16],\n",
              "       [ 25,  36,  49,  64],\n",
              "       [ 81, 100, 121, 144]])"
            ]
          },
          "metadata": {},
          "execution_count": 43
        }
      ]
    },
    {
      "cell_type": "code",
      "source": [
        "s_1 = np.array(8)\n",
        "s_1"
      ],
      "metadata": {
        "colab": {
          "base_uri": "https://localhost:8080/"
        },
        "id": "39Klt3yslCnM",
        "outputId": "f72a64d6-0502-42c6-ee84-ae6bb6238261"
      },
      "execution_count": null,
      "outputs": [
        {
          "output_type": "execute_result",
          "data": {
            "text/plain": [
              "array(8)"
            ]
          },
          "metadata": {},
          "execution_count": 45
        }
      ]
    },
    {
      "cell_type": "code",
      "source": [
        "m_1 * s_1"
      ],
      "metadata": {
        "colab": {
          "base_uri": "https://localhost:8080/"
        },
        "id": "gJQeU6bFlFnX",
        "outputId": "a656dc74-3e90-48d7-baf6-ee4b7c35f755"
      },
      "execution_count": null,
      "outputs": [
        {
          "output_type": "execute_result",
          "data": {
            "text/plain": [
              "array([[ 8, 16, 24, 32],\n",
              "       [40, 48, 56, 64],\n",
              "       [72, 80, 88, 96]])"
            ]
          },
          "metadata": {},
          "execution_count": 47
        }
      ]
    },
    {
      "cell_type": "code",
      "source": [
        "vector_1.shape"
      ],
      "metadata": {
        "colab": {
          "base_uri": "https://localhost:8080/"
        },
        "id": "CMGGxU3Klm-t",
        "outputId": "8c791b19-160d-4951-a894-c01511e6e2a7"
      },
      "execution_count": null,
      "outputs": [
        {
          "output_type": "execute_result",
          "data": {
            "text/plain": [
              "(5,)"
            ]
          },
          "metadata": {},
          "execution_count": 52
        }
      ]
    },
    {
      "cell_type": "code",
      "source": [
        "s_1.shape"
      ],
      "metadata": {
        "colab": {
          "base_uri": "https://localhost:8080/"
        },
        "id": "GYT0KB8KljbG",
        "outputId": "684b0e91-75ec-4f63-f48a-c15b1808b04e"
      },
      "execution_count": null,
      "outputs": [
        {
          "output_type": "execute_result",
          "data": {
            "text/plain": [
              "()"
            ]
          },
          "metadata": {},
          "execution_count": 53
        }
      ]
    },
    {
      "cell_type": "code",
      "source": [
        "m_1"
      ],
      "metadata": {
        "colab": {
          "base_uri": "https://localhost:8080/"
        },
        "id": "WgUmJXoLmQ3O",
        "outputId": "0c486337-dcb1-4d70-bfd5-0ec58d4d995a"
      },
      "execution_count": null,
      "outputs": [
        {
          "output_type": "execute_result",
          "data": {
            "text/plain": [
              "array([[ 1,  2,  3,  4],\n",
              "       [ 5,  6,  7,  8],\n",
              "       [ 9, 10, 11, 12]])"
            ]
          },
          "metadata": {},
          "execution_count": 55
        }
      ]
    },
    {
      "cell_type": "code",
      "source": [
        "m_1.max()"
      ],
      "metadata": {
        "colab": {
          "base_uri": "https://localhost:8080/"
        },
        "id": "fTjhU5Vwl7Py",
        "outputId": "c9ffb90e-25bf-43aa-9c1e-9456bb170d3a"
      },
      "execution_count": null,
      "outputs": [
        {
          "output_type": "execute_result",
          "data": {
            "text/plain": [
              "12"
            ]
          },
          "metadata": {},
          "execution_count": 56
        }
      ]
    },
    {
      "cell_type": "code",
      "source": [
        "m_1.mean()"
      ],
      "metadata": {
        "colab": {
          "base_uri": "https://localhost:8080/"
        },
        "id": "iP1ANZgXmSP6",
        "outputId": "bf7df04e-051b-41d7-d203-1e16434f347b"
      },
      "execution_count": null,
      "outputs": [
        {
          "output_type": "execute_result",
          "data": {
            "text/plain": [
              "6.5"
            ]
          },
          "metadata": {},
          "execution_count": 57
        }
      ]
    },
    {
      "cell_type": "code",
      "source": [
        "m_1.diagonal()"
      ],
      "metadata": {
        "colab": {
          "base_uri": "https://localhost:8080/"
        },
        "id": "E2w0_gAVmURi",
        "outputId": "f6e120c0-17a4-4eb7-c491-8d80356d84b6"
      },
      "execution_count": null,
      "outputs": [
        {
          "output_type": "execute_result",
          "data": {
            "text/plain": [
              "array([ 1,  6, 11])"
            ]
          },
          "metadata": {},
          "execution_count": 58
        }
      ]
    },
    {
      "cell_type": "code",
      "source": [],
      "metadata": {
        "id": "Zwn7sEoMm0qg"
      },
      "execution_count": null,
      "outputs": []
    },
    {
      "cell_type": "markdown",
      "source": [
        "- import numpy\n",
        "- arrays\n",
        "    - vectors and arrays\n",
        "    - arithmetic operators\n",
        "    - mean, sum, max, min, etc.\n",
        "    - transpose"
      ],
      "metadata": {
        "id": "j3KYGNRbtASG"
      }
    },
    {
      "cell_type": "code",
      "source": [
        "v_1[0]"
      ],
      "metadata": {
        "colab": {
          "base_uri": "https://localhost:8080/"
        },
        "id": "V-XTFT_Hm2ok",
        "outputId": "c772853c-3dab-4441-9a35-400f40f9cec2"
      },
      "execution_count": null,
      "outputs": [
        {
          "output_type": "execute_result",
          "data": {
            "text/plain": [
              "0"
            ]
          },
          "metadata": {},
          "execution_count": 59
        }
      ]
    },
    {
      "cell_type": "code",
      "source": [
        "vector_1[0:4]"
      ],
      "metadata": {
        "colab": {
          "base_uri": "https://localhost:8080/"
        },
        "id": "GqSYb0TUm5XL",
        "outputId": "437c2a5a-f3d8-4054-92f7-fb9eeaa3055c"
      },
      "execution_count": null,
      "outputs": [
        {
          "output_type": "execute_result",
          "data": {
            "text/plain": [
              "array([ 0, 12, 32, -2])"
            ]
          },
          "metadata": {},
          "execution_count": 61
        }
      ]
    },
    {
      "cell_type": "code",
      "source": [
        "vector_1"
      ],
      "metadata": {
        "colab": {
          "base_uri": "https://localhost:8080/"
        },
        "id": "azRTdgU1nLRw",
        "outputId": "7bd3b083-f19c-434f-eac4-26a38349c55f"
      },
      "execution_count": null,
      "outputs": [
        {
          "output_type": "execute_result",
          "data": {
            "text/plain": [
              "array([ 0, 12, 32, -2,  6])"
            ]
          },
          "metadata": {},
          "execution_count": 62
        }
      ]
    },
    {
      "cell_type": "code",
      "source": [
        "#boolean mask\n",
        "vector_1[[False, False, False, True, False]]"
      ],
      "metadata": {
        "colab": {
          "base_uri": "https://localhost:8080/"
        },
        "id": "P1XfEbzkm-bQ",
        "outputId": "104dea28-434f-460f-84cb-401b08cd6c95"
      },
      "execution_count": null,
      "outputs": [
        {
          "output_type": "execute_result",
          "data": {
            "text/plain": [
              "array([-2])"
            ]
          },
          "metadata": {},
          "execution_count": 64
        }
      ]
    },
    {
      "cell_type": "code",
      "source": [
        "vector_1 * 3\n",
        "vector_1 + 3\n",
        "vector_1 < 3"
      ],
      "metadata": {
        "colab": {
          "base_uri": "https://localhost:8080/"
        },
        "id": "b72HI_ZhnXs2",
        "outputId": "9ffcea37-e664-4b10-e400-3b01d673f13f"
      },
      "execution_count": null,
      "outputs": [
        {
          "output_type": "execute_result",
          "data": {
            "text/plain": [
              "array([ True, False, False,  True, False])"
            ]
          },
          "metadata": {},
          "execution_count": 67
        }
      ]
    },
    {
      "cell_type": "code",
      "source": [
        "array_of_ages = np.array([41, 24, 12, 23, 92, 34, 54, 73])\n",
        "ages_above_70 = array_of_ages >= 70"
      ],
      "metadata": {
        "id": "BUip1RAOnlHr"
      },
      "execution_count": null,
      "outputs": []
    },
    {
      "cell_type": "code",
      "source": [
        "array_of_ages[ages_above_70]"
      ],
      "metadata": {
        "colab": {
          "base_uri": "https://localhost:8080/"
        },
        "id": "FAs5J11BoOO5",
        "outputId": "7a3e9273-388a-4f3f-de53-a753d09e24c4"
      },
      "execution_count": null,
      "outputs": [
        {
          "output_type": "execute_result",
          "data": {
            "text/plain": [
              "array([92, 73])"
            ]
          },
          "metadata": {},
          "execution_count": 74
        }
      ]
    },
    {
      "cell_type": "code",
      "source": [
        "ages_above_18 = array_of_ages >= 18\n",
        "array_of_ages[ages_above_18]"
      ],
      "metadata": {
        "colab": {
          "base_uri": "https://localhost:8080/"
        },
        "id": "Qgh7mhxWoYj4",
        "outputId": "3a740635-4f3e-4b5f-a9a9-1b1ef6a1d4ee"
      },
      "execution_count": null,
      "outputs": [
        {
          "output_type": "execute_result",
          "data": {
            "text/plain": [
              "array([41, 24, 23, 92, 34, 54, 73])"
            ]
          },
          "metadata": {},
          "execution_count": 75
        }
      ]
    },
    {
      "cell_type": "code",
      "source": [
        "#find the ages of the people possibly working with boolean masks\n",
        "# >= 16\n",
        "# < 70\n",
        "older_than_16_mask = array_of_ages >= 16\n",
        "older_than_16_array = array_of_ages[older_than_16_mask]\n",
        "younger_than_70_mask = older_than_16_array < 70\n",
        "people_possibly_working_array = older_than_16_array[younger_than_70_mask]\n",
        "people_possibly_working_array"
      ],
      "metadata": {
        "colab": {
          "base_uri": "https://localhost:8080/"
        },
        "id": "CGiHNgzUoi1R",
        "outputId": "15d35561-0cbf-4583-9a5a-5f20f5f2c5c2"
      },
      "execution_count": null,
      "outputs": [
        {
          "output_type": "execute_result",
          "data": {
            "text/plain": [
              "array([41, 24, 23, 34, 54])"
            ]
          },
          "metadata": {},
          "execution_count": 81
        }
      ]
    },
    {
      "cell_type": "code",
      "source": [
        "older_than_16_mask = array_of_ages >= 16\n",
        "younger_than_70_mask = array_of_ages < 70\n",
        "people_that_work_mask = older_than_16_mask & younger_than_70_mask\n",
        "array_of_ages[people_that_work_mask]\n",
        "# ||"
      ],
      "metadata": {
        "colab": {
          "base_uri": "https://localhost:8080/"
        },
        "id": "m7eMBmeJqoYp",
        "outputId": "ba689241-60f1-4243-8aeb-8b9035fb7b82"
      },
      "execution_count": null,
      "outputs": [
        {
          "output_type": "execute_result",
          "data": {
            "text/plain": [
              "array([41, 24, 23, 34, 54])"
            ]
          },
          "metadata": {},
          "execution_count": 83
        }
      ]
    },
    {
      "cell_type": "markdown",
      "source": [
        "- boolean masks\n",
        "    - element access (index, booleans)\n",
        "    - comparison operators\n",
        "    - combining boolean masks\n",
        "\n",
        "\n"
      ],
      "metadata": {
        "id": "NwFCegw6l79c"
      }
    },
    {
      "cell_type": "code",
      "source": [
        "list(range(0, 1, 0.1))"
      ],
      "metadata": {
        "colab": {
          "base_uri": "https://localhost:8080/",
          "height": 144
        },
        "id": "LdWJWK2irpA8",
        "outputId": "c3955df2-72d2-4e4d-8f34-ae0bc4b1470d"
      },
      "execution_count": null,
      "outputs": [
        {
          "output_type": "error",
          "ename": "TypeError",
          "evalue": "'float' object cannot be interpreted as an integer",
          "traceback": [
            "\u001b[0;31m---------------------------------------------------------------------------\u001b[0m",
            "\u001b[0;31mTypeError\u001b[0m                                 Traceback (most recent call last)",
            "\u001b[0;32m<ipython-input-85-c2a4f1693810>\u001b[0m in \u001b[0;36m<cell line: 1>\u001b[0;34m()\u001b[0m\n\u001b[0;32m----> 1\u001b[0;31m \u001b[0mlist\u001b[0m\u001b[0;34m(\u001b[0m\u001b[0mrange\u001b[0m\u001b[0;34m(\u001b[0m\u001b[0;36m0\u001b[0m\u001b[0;34m,\u001b[0m \u001b[0;36m1\u001b[0m\u001b[0;34m,\u001b[0m \u001b[0;36m0.1\u001b[0m\u001b[0;34m)\u001b[0m\u001b[0;34m)\u001b[0m\u001b[0;34m\u001b[0m\u001b[0;34m\u001b[0m\u001b[0m\n\u001b[0m",
            "\u001b[0;31mTypeError\u001b[0m: 'float' object cannot be interpreted as an integer"
          ]
        }
      ]
    },
    {
      "cell_type": "code",
      "source": [
        "np.arange(18)"
      ],
      "metadata": {
        "colab": {
          "base_uri": "https://localhost:8080/"
        },
        "id": "hvPlBdKJr1VI",
        "outputId": "c2f27528-0ee1-4afa-b894-155c01a0f11e"
      },
      "execution_count": null,
      "outputs": [
        {
          "output_type": "execute_result",
          "data": {
            "text/plain": [
              "array([ 0,  1,  2,  3,  4,  5,  6,  7,  8,  9, 10, 11, 12, 13, 14, 15, 16,\n",
              "       17])"
            ]
          },
          "metadata": {},
          "execution_count": 86
        }
      ]
    },
    {
      "cell_type": "code",
      "source": [
        "np.arange(6, 18)"
      ],
      "metadata": {
        "colab": {
          "base_uri": "https://localhost:8080/"
        },
        "id": "yVPq6wkSr51H",
        "outputId": "049bcd13-0e79-4bbd-cfd0-0b35213ae863"
      },
      "execution_count": null,
      "outputs": [
        {
          "output_type": "execute_result",
          "data": {
            "text/plain": [
              "array([ 6,  7,  8,  9, 10, 11, 12, 13, 14, 15, 16, 17])"
            ]
          },
          "metadata": {},
          "execution_count": 87
        }
      ]
    },
    {
      "cell_type": "code",
      "source": [
        "np.arange(1, 0, -0.1) > 0.3"
      ],
      "metadata": {
        "colab": {
          "base_uri": "https://localhost:8080/"
        },
        "id": "ANZfSTlhr_fc",
        "outputId": "d70b3f92-5b10-41a4-ced8-e2e20045f6eb"
      },
      "execution_count": null,
      "outputs": [
        {
          "output_type": "execute_result",
          "data": {
            "text/plain": [
              "array([ True,  True,  True,  True,  True,  True,  True,  True, False,\n",
              "       False])"
            ]
          },
          "metadata": {},
          "execution_count": 90
        }
      ]
    },
    {
      "cell_type": "code",
      "source": [
        "vector_3 = np.arange(16)\n",
        "vector_3"
      ],
      "metadata": {
        "colab": {
          "base_uri": "https://localhost:8080/"
        },
        "id": "M10VMNHYsCKa",
        "outputId": "7140cff4-410d-4c5f-f980-d956e485cf8e"
      },
      "execution_count": null,
      "outputs": [
        {
          "output_type": "execute_result",
          "data": {
            "text/plain": [
              "array([ 0,  1,  2,  3,  4,  5,  6,  7,  8,  9, 10, 11, 12, 13, 14, 15])"
            ]
          },
          "metadata": {},
          "execution_count": 91
        }
      ]
    },
    {
      "cell_type": "code",
      "source": [
        "vector_3.reshape(4,4)"
      ],
      "metadata": {
        "colab": {
          "base_uri": "https://localhost:8080/"
        },
        "id": "fhlBcqbqsuCf",
        "outputId": "cd6055b4-63b5-48fd-c357-baea2bee2d15"
      },
      "execution_count": null,
      "outputs": [
        {
          "output_type": "execute_result",
          "data": {
            "text/plain": [
              "array([[ 0,  1,  2,  3],\n",
              "       [ 4,  5,  6,  7],\n",
              "       [ 8,  9, 10, 11],\n",
              "       [12, 13, 14, 15]])"
            ]
          },
          "metadata": {},
          "execution_count": 94
        }
      ]
    },
    {
      "cell_type": "code",
      "source": [
        "np.arange(16).reshape(4,4)"
      ],
      "metadata": {
        "colab": {
          "base_uri": "https://localhost:8080/"
        },
        "id": "e3NYXYoGs9bA",
        "outputId": "68e73180-06ab-45a1-a79d-938d47cf58fa"
      },
      "execution_count": null,
      "outputs": [
        {
          "output_type": "execute_result",
          "data": {
            "text/plain": [
              "array([[ 0,  1,  2,  3],\n",
              "       [ 4,  5,  6,  7],\n",
              "       [ 8,  9, 10, 11],\n",
              "       [12, 13, 14, 15]])"
            ]
          },
          "metadata": {},
          "execution_count": 95
        }
      ]
    },
    {
      "cell_type": "code",
      "source": [
        "np.zeros((4,4))"
      ],
      "metadata": {
        "colab": {
          "base_uri": "https://localhost:8080/"
        },
        "id": "d0zxy0DWtEQS",
        "outputId": "c2f2eb2e-cfde-40c0-b7ad-18e3527a19a0"
      },
      "execution_count": null,
      "outputs": [
        {
          "output_type": "execute_result",
          "data": {
            "text/plain": [
              "array([[0., 0., 0., 0.],\n",
              "       [0., 0., 0., 0.],\n",
              "       [0., 0., 0., 0.],\n",
              "       [0., 0., 0., 0.]])"
            ]
          },
          "metadata": {},
          "execution_count": 96
        }
      ]
    },
    {
      "cell_type": "code",
      "source": [
        "np.ones((4,4))"
      ],
      "metadata": {
        "colab": {
          "base_uri": "https://localhost:8080/"
        },
        "id": "UtkiywpNtS--",
        "outputId": "e7b8911c-1929-4aad-b1e3-101897da7d73"
      },
      "execution_count": null,
      "outputs": [
        {
          "output_type": "execute_result",
          "data": {
            "text/plain": [
              "array([[1., 1., 1., 1.],\n",
              "       [1., 1., 1., 1.],\n",
              "       [1., 1., 1., 1.],\n",
              "       [1., 1., 1., 1.]])"
            ]
          },
          "metadata": {},
          "execution_count": 97
        }
      ]
    },
    {
      "cell_type": "code",
      "source": [
        "np.random.randint(0,12)"
      ],
      "metadata": {
        "colab": {
          "base_uri": "https://localhost:8080/"
        },
        "id": "FudT-PpAtYI_",
        "outputId": "807bb920-cdb1-461c-83f6-4d73c382fe3e"
      },
      "execution_count": null,
      "outputs": [
        {
          "output_type": "execute_result",
          "data": {
            "text/plain": [
              "9"
            ]
          },
          "metadata": {},
          "execution_count": 100
        }
      ]
    },
    {
      "cell_type": "code",
      "source": [
        "np.random.randint(-1000,1000,100).reshape(10,10)"
      ],
      "metadata": {
        "colab": {
          "base_uri": "https://localhost:8080/"
        },
        "id": "LEJfQ3XbtwY7",
        "outputId": "1a2ba3b4-7a9c-4dcf-cd99-a89798fbe0cc"
      },
      "execution_count": null,
      "outputs": [
        {
          "output_type": "execute_result",
          "data": {
            "text/plain": [
              "array([[-378, -834, -388,   65,  292,  -74, -395, -622,  275, -480],\n",
              "       [ 615,  385,  -28,  638,  188,  176, -350,   26, -350,    6],\n",
              "       [ 870, -212,  312,  140, -206, -850,  624, -308,   75,  565],\n",
              "       [-620,  989,  277,  911,   57,  547,  638,  376, -555, -774],\n",
              "       [-476, -409, -973,  944,  693,  855,  841, -884,  -67, -698],\n",
              "       [-396, -781,  241, -562,  863, -971, -938,  -22, -931,  631],\n",
              "       [ 240, -372, -459,   76, -108,  603,  -73, -713,  822,  981],\n",
              "       [ 482, -430,  804, -376,  638, -964, -777,  518,  378,  311],\n",
              "       [ 968, -125,  251, -984,  412,  544, -900, -743, -862, -624],\n",
              "       [-247,  925, -365, -807,  -29, -747, -644, -752, -567,   43]])"
            ]
          },
          "metadata": {},
          "execution_count": 103
        }
      ]
    },
    {
      "cell_type": "code",
      "source": [
        "array_of_zeroes = np.zeros((4,4))\n",
        "array_of_zeroes"
      ],
      "metadata": {
        "colab": {
          "base_uri": "https://localhost:8080/"
        },
        "id": "4Rb4G3QcuLGo",
        "outputId": "e4091ff3-b7b1-40a1-faef-34ab6510add5"
      },
      "execution_count": null,
      "outputs": [
        {
          "output_type": "execute_result",
          "data": {
            "text/plain": [
              "array([[0., 0., 0., 0.],\n",
              "       [0., 0., 0., 0.],\n",
              "       [0., 0., 0., 0.],\n",
              "       [0., 0., 0., 0.]])"
            ]
          },
          "metadata": {},
          "execution_count": 104
        }
      ]
    },
    {
      "cell_type": "code",
      "source": [
        "new_array_of_zeros = array_of_zeroes\n",
        "new_array_of_zeros"
      ],
      "metadata": {
        "colab": {
          "base_uri": "https://localhost:8080/"
        },
        "id": "P4rbtwacuQwI",
        "outputId": "454d861f-b84c-4243-d827-8c9c5b28c4e0"
      },
      "execution_count": null,
      "outputs": [
        {
          "output_type": "execute_result",
          "data": {
            "text/plain": [
              "array([[0., 0., 0., 0.],\n",
              "       [0., 0., 0., 0.],\n",
              "       [0., 0., 0., 0.],\n",
              "       [0., 0., 0., 0.]])"
            ]
          },
          "metadata": {},
          "execution_count": 105
        }
      ]
    },
    {
      "cell_type": "code",
      "source": [
        "new_array_of_zeros[0][0] = 1\n",
        "new_array_of_zeros"
      ],
      "metadata": {
        "colab": {
          "base_uri": "https://localhost:8080/"
        },
        "id": "GNs3s3-juVp8",
        "outputId": "3d242748-ab9a-4e98-aa51-e9734cfadb0a"
      },
      "execution_count": null,
      "outputs": [
        {
          "output_type": "execute_result",
          "data": {
            "text/plain": [
              "array([[1., 0., 0., 0.],\n",
              "       [0., 0., 0., 0.],\n",
              "       [0., 0., 0., 0.],\n",
              "       [0., 0., 0., 0.]])"
            ]
          },
          "metadata": {},
          "execution_count": 107
        }
      ]
    },
    {
      "cell_type": "code",
      "source": [
        "array_of_zeroes"
      ],
      "metadata": {
        "colab": {
          "base_uri": "https://localhost:8080/"
        },
        "id": "fv07ViV0uZ4u",
        "outputId": "258817d4-558b-4359-97ed-ba2e3580e4dd"
      },
      "execution_count": null,
      "outputs": [
        {
          "output_type": "execute_result",
          "data": {
            "text/plain": [
              "array([[1., 0., 0., 0.],\n",
              "       [0., 0., 0., 0.],\n",
              "       [0., 0., 0., 0.],\n",
              "       [0., 0., 0., 0.]])"
            ]
          },
          "metadata": {},
          "execution_count": 109
        }
      ]
    },
    {
      "cell_type": "code",
      "source": [
        "new_array_of_zeros = np.copy(array_of_zeroes)"
      ],
      "metadata": {
        "id": "LQQK3IaRu1sB"
      },
      "execution_count": null,
      "outputs": []
    },
    {
      "cell_type": "code",
      "source": [
        "new_array_of_zeros"
      ],
      "metadata": {
        "colab": {
          "base_uri": "https://localhost:8080/"
        },
        "id": "zF6bZmldu6hr",
        "outputId": "1c29ac24-7f11-450d-aec8-c43ef9966180"
      },
      "execution_count": null,
      "outputs": [
        {
          "output_type": "execute_result",
          "data": {
            "text/plain": [
              "array([[1., 0., 0., 0.],\n",
              "       [0., 0., 0., 0.],\n",
              "       [0., 0., 0., 0.],\n",
              "       [0., 0., 0., 0.]])"
            ]
          },
          "metadata": {},
          "execution_count": 111
        }
      ]
    },
    {
      "cell_type": "code",
      "source": [
        "new_array_of_zeros[0][1] = 1\n",
        "new_array_of_zeros"
      ],
      "metadata": {
        "colab": {
          "base_uri": "https://localhost:8080/"
        },
        "id": "2ms6XSBgu8bY",
        "outputId": "b3e0e9fb-cbd5-4622-873f-90a7e3a61235"
      },
      "execution_count": null,
      "outputs": [
        {
          "output_type": "execute_result",
          "data": {
            "text/plain": [
              "array([[1., 1., 0., 0.],\n",
              "       [0., 0., 0., 0.],\n",
              "       [0., 0., 0., 0.],\n",
              "       [0., 0., 0., 0.]])"
            ]
          },
          "metadata": {},
          "execution_count": 112
        }
      ]
    },
    {
      "cell_type": "code",
      "source": [
        "array_of_zeroes"
      ],
      "metadata": {
        "id": "_Q5qaFUsvCva",
        "outputId": "fe194210-a2a0-41d2-e216-0ee0aabca890",
        "colab": {
          "base_uri": "https://localhost:8080/"
        }
      },
      "execution_count": null,
      "outputs": [
        {
          "output_type": "execute_result",
          "data": {
            "text/plain": [
              "array([[1., 0., 0., 0.],\n",
              "       [0., 0., 0., 0.],\n",
              "       [0., 0., 0., 0.],\n",
              "       [0., 0., 0., 0.]])"
            ]
          },
          "metadata": {},
          "execution_count": 113
        }
      ]
    },
    {
      "cell_type": "markdown",
      "source": [
        "- advanced arrays\n",
        "    - arange\n",
        "    - reshape vector into array\n",
        "    - ones, zeros, identity\n",
        "    - random.randint\n",
        "    - np.copy"
      ],
      "metadata": {
        "id": "qLVgt7mAtIWu"
      }
    },
    {
      "cell_type": "markdown",
      "source": [
        "**Exercise:** transform random_array into an array of numbers between 0 and 1"
      ],
      "metadata": {
        "id": "gsmrwXsIAAqU"
      }
    },
    {
      "cell_type": "markdown",
      "metadata": {
        "id": "DLq5-bNEBN7D"
      },
      "source": [
        "#Basic Exercises"
      ]
    },
    {
      "cell_type": "markdown",
      "source": [
        "Ex: Write a function that returns True if all the elements in the input list are even"
      ],
      "metadata": {
        "id": "OMPyHa_tnXTz"
      }
    },
    {
      "cell_type": "code",
      "source": [
        "#done"
      ],
      "metadata": {
        "id": "X8ww5mE4vBAO"
      },
      "execution_count": null,
      "outputs": []
    },
    {
      "cell_type": "markdown",
      "source": [
        "**Ex: Write a function that returns the maximum value in a list**"
      ],
      "metadata": {
        "id": "DI4EVh1LndiQ"
      }
    },
    {
      "cell_type": "code",
      "source": [
        "def find_maximum(list_of_numbers):\n",
        "    maximum = list_of_numbers[0]\n",
        "    for number in list_of_numbers:\n",
        "        if number > maximum:\n",
        "            maximum = number\n",
        "\n",
        "    return maximum"
      ],
      "metadata": {
        "id": "SRPjp33nvFv1"
      },
      "execution_count": null,
      "outputs": []
    },
    {
      "cell_type": "code",
      "source": [
        "find_maximum([0,-2, 30, -45, 90])"
      ],
      "metadata": {
        "colab": {
          "base_uri": "https://localhost:8080/"
        },
        "id": "UIqcx-pswaB4",
        "outputId": "55072203-e044-4e58-e3a6-9dd94f49175f"
      },
      "execution_count": null,
      "outputs": [
        {
          "output_type": "execute_result",
          "data": {
            "text/plain": [
              "90"
            ]
          },
          "metadata": {},
          "execution_count": 128
        }
      ]
    },
    {
      "cell_type": "code",
      "source": [
        "def find_maximum(list_of_numbers):\n",
        "    sorted_list = sorted(list_of_numbers)\n",
        "    return sorted_list[-1]"
      ],
      "metadata": {
        "id": "NK1yxiDiweSu"
      },
      "execution_count": null,
      "outputs": []
    },
    {
      "cell_type": "code",
      "source": [
        "find_maximum([0,-2, 30, -45, 90])"
      ],
      "metadata": {
        "colab": {
          "base_uri": "https://localhost:8080/"
        },
        "id": "aSDlZQ5wwsey",
        "outputId": "f7daefbf-8944-4dbb-c76b-89225992390c"
      },
      "execution_count": null,
      "outputs": [
        {
          "output_type": "execute_result",
          "data": {
            "text/plain": [
              "90"
            ]
          },
          "metadata": {},
          "execution_count": 132
        }
      ]
    },
    {
      "cell_type": "code",
      "source": [
        "def find_maximum(list_of_numbers):\n",
        "    maximum = 0\n",
        "    for number in list_of_numbers:\n",
        "        if number > maximum:\n",
        "            maximum = number\n",
        "\n",
        "    return maximum"
      ],
      "metadata": {
        "id": "37B3WzOBwyrN"
      },
      "execution_count": null,
      "outputs": []
    },
    {
      "cell_type": "code",
      "source": [
        "find_maximum([-20,-2, -30, -45, -90])"
      ],
      "metadata": {
        "colab": {
          "base_uri": "https://localhost:8080/"
        },
        "id": "mmfLJIunxBTY",
        "outputId": "5f3e679b-bb64-4f34-d4aa-384087995c1d"
      },
      "execution_count": null,
      "outputs": [
        {
          "output_type": "execute_result",
          "data": {
            "text/plain": [
              "0"
            ]
          },
          "metadata": {},
          "execution_count": 137
        }
      ]
    },
    {
      "cell_type": "code",
      "source": [
        "def find_maximum(list_of_numbers):\n",
        "    return max(list_of_numbers)\n"
      ],
      "metadata": {
        "id": "6m6ZZsUaxiKs"
      },
      "execution_count": null,
      "outputs": []
    },
    {
      "cell_type": "code",
      "source": [
        "find_maximum([-20,-2, -30, -45, -90])"
      ],
      "metadata": {
        "colab": {
          "base_uri": "https://localhost:8080/"
        },
        "id": "TjQHfo2txoKC",
        "outputId": "4f0b6c5b-21d5-4941-a7e0-bc33d886906e"
      },
      "execution_count": null,
      "outputs": [
        {
          "output_type": "execute_result",
          "data": {
            "text/plain": [
              "-2"
            ]
          },
          "metadata": {},
          "execution_count": 139
        }
      ]
    },
    {
      "cell_type": "code",
      "source": [
        "find_maximum = lambda x : max(x)"
      ],
      "metadata": {
        "id": "EwfxKR5VxxTJ"
      },
      "execution_count": null,
      "outputs": []
    },
    {
      "cell_type": "code",
      "source": [
        "find_maximum([-20,-2, -30, -45, -90])"
      ],
      "metadata": {
        "id": "SRCMNyEXx1N4",
        "outputId": "3663a7cc-7c59-4489-fe98-31f193f38748",
        "colab": {
          "base_uri": "https://localhost:8080/"
        }
      },
      "execution_count": null,
      "outputs": [
        {
          "output_type": "execute_result",
          "data": {
            "text/plain": [
              "-2"
            ]
          },
          "metadata": {},
          "execution_count": 141
        }
      ]
    },
    {
      "cell_type": "markdown",
      "source": [
        "Ex: Write a function that returns the sum of all values in the list"
      ],
      "metadata": {
        "id": "FMEtK4_GnjeF"
      }
    },
    {
      "cell_type": "markdown",
      "metadata": {
        "id": "EEi2hZC2tvaK"
      },
      "source": [
        "1. Write a function that returns True if all the elements in the input list are even\n",
        "2. Write a function that returns the maximum value in a list\n",
        "2. Write a function that returns the sum of all values in the list\n",
        "2. Write a function that accepts a list of numbers as input and returns an inverted version of the list\n",
        "2. Write a function that returns the first and last elements of a list\n",
        "3. Write a function that, given a, b, c, x as inputs, calculates ax^2 + bx + c\n",
        "4. Write a function that calculates the number of days between two dates. The dates can be tuples\n",
        "5. Write a function that accepts 2 dictionaries as input and returns a single dictionary with the same data (merged)\n",
        "6. Write a function to print the content of a dictionary in order by key\n",
        "7. Write a function to find all keys in the provided dictionary that have the given value\n",
        "8. Write a function to sort a tuple by its float element"
      ]
    },
    {
      "cell_type": "markdown",
      "source": [
        "Ex: Write a function to print the content of a dictionary in order by *key*"
      ],
      "metadata": {
        "id": "3fIeSBpOq_Xj"
      }
    },
    {
      "cell_type": "code",
      "source": [],
      "metadata": {
        "id": "mxtgcaR-dAgM"
      },
      "execution_count": null,
      "outputs": []
    }
  ]
}