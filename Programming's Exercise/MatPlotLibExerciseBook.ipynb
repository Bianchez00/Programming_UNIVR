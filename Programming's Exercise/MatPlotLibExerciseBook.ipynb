{
 "cells": [
  {
   "cell_type": "markdown",
   "id": "eea815b834d0bcb0",
   "metadata": {},
   "source": [
    "## Plot Classico"
   ]
  },
  {
   "cell_type": "code",
   "id": "initial_id",
   "metadata": {},
   "source": [
    "from enum import unique\n",
    "\n",
    "# Importiamo le librerie necessarie\n",
    "import matplotlib.pyplot as plt\n",
    "import numpy as np\n",
    "from IPython.core.pylabtools import figsize\n",
    "from matplotlib.pyplot import scatter, subplot, subplots\n",
    "\n",
    "# Prepariamo i dati\n",
    "x = np.linspace(0, 10, 100)  # 100 punti da 0 a 10\n",
    "y = np.sin(x)                # Calcoliamo il seno di ogni punto\n",
    "\n",
    "# Creiamo la figura e gli assi\n",
    "fig, ax = plt.subplots() #scorciatoia che fa due cose contemporaneamente: 1.Crea una Figura 2.Crea un set di Assi\n",
    "\n",
    "# Disegniamo i dati sugli assi\n",
    "ax.plot(x, y)\n",
    "\n",
    "# Mostriamo il grafico\n",
    "plt.show()"
   ],
   "outputs": [],
   "execution_count": null
  },
  {
   "cell_type": "markdown",
   "id": "875bcd1a980992d1",
   "metadata": {},
   "source": [
    "## Scatter Plot"
   ]
  },
  {
   "cell_type": "code",
   "id": "d05aa45fccc0bfb7",
   "metadata": {},
   "source": [
    "# Dati casuali per l'esempio\n",
    "rng = np.random.RandomState(0)\n",
    "x = rng.randn(100)\n",
    "y = rng.randn(100)\n",
    "colors = rng.rand(100)\n",
    "sizes = 1000 * rng.rand(100)\n",
    "\n",
    "fig, ax = plt.subplots()\n",
    "\n",
    "# Creiamo lo scatter plot\n",
    "im = ax.scatter(x, y, c=colors, s=sizes, alpha=0.5, cmap='viridis')\n",
    "\n",
    "# Aggiungiamo una colorbar per interpretare i colori\n",
    "fig.colorbar(im, label='Valore Colore')\n",
    "\n",
    "plt.show()"
   ],
   "outputs": [],
   "execution_count": null
  },
  {
   "cell_type": "markdown",
   "id": "3b869f9e2fb079fd",
   "metadata": {},
   "source": [
    "## Istogrammi"
   ]
  },
  {
   "cell_type": "code",
   "id": "81f33c032a2d62e",
   "metadata": {},
   "source": [
    "# Dati di esempio (distribuzione normale)\n",
    "data = np.random.randn(1000)\n",
    "\n",
    "fig, ax = plt.subplots()\n",
    "\n",
    "# Creiamo l'istogramma\n",
    "ax.hist(data, bins=30, density=True, alpha=0.7,\n",
    "        histtype='stepfilled', color='steelblue', edgecolor='none')\n",
    "\n",
    "ax.set_title(\"Istogramma di Dati Casuali\")\n",
    "ax.set_xlabel(\"Valore\")\n",
    "ax.set_ylabel(\"Densità di probabilità\")\n",
    "\n",
    "plt.show()"
   ],
   "outputs": [],
   "execution_count": null
  },
  {
   "cell_type": "markdown",
   "id": "dec90bb69066accc",
   "metadata": {},
   "source": [
    "## Error Bars"
   ]
  },
  {
   "cell_type": "code",
   "id": "a997d5117ce97218",
   "metadata": {},
   "source": [
    "# Dati di esempio con un po' di \"rumore\"\n",
    "x = np.linspace(0, 10, 50)\n",
    "dy = 0.8  # L'incertezza su ogni punto y\n",
    "y = np.sin(x) + dy * np.random.randn(50)\n",
    "\n",
    "fig, ax = plt.subplots()\n",
    "\n",
    "ax.errorbar(x, y, yerr=dy, fmt='o', color='black',\n",
    "            ecolor='lightgray', elinewidth=3, capsize=0)\n",
    "\n",
    "ax.set_title(\"Dati con Barre di Errore\")\n",
    "plt.show()"
   ],
   "outputs": [],
   "execution_count": null
  },
  {
   "cell_type": "markdown",
   "id": "31a889648a217079",
   "metadata": {},
   "source": [
    "## Multi Plots"
   ]
  },
  {
   "cell_type": "code",
   "id": "8e93d5ab5d72f90d",
   "metadata": {},
   "source": [
    "# Creiamo una griglia 2x2 con assi condivisi\n",
    "# figsize imposta la dimensione complessiva della figura in pollici\n",
    "fig, ax = plt.subplots(2, 2, sharex=True, sharey=True, figsize=(10, 8))\n",
    "\n",
    "# Dati di esempio\n",
    "x = np.linspace(0, 2 * np.pi, 100)\n",
    "\n",
    "# Disegniamo su ogni subplot\n",
    "ax[0, 0].plot(x, np.sin(x))\n",
    "ax[0, 0].set_title(\"sin(x)\")\n",
    "\n",
    "ax[0, 1].plot(x, np.cos(x), color='red')\n",
    "ax[0, 1].set_title(\"cos(x)\")\n",
    "\n",
    "ax[1, 0].plot(x, np.tan(x), color='green')\n",
    "ax[1, 0].set_title(\"tan(x)\")\n",
    "ax[1, 0].set_ylim(-5, 5) # Limitiamo l'asse y per la tangente\n",
    "\n",
    "ax[1, 1].plot(x, x, color='purple')\n",
    "ax[1, 1].set_title(\"y = x\")\n",
    "\n",
    "# Titolo generale per tutta la figura\n",
    "fig.suptitle(\"Griglia di Grafici Esempio\")\n",
    "\n",
    "plt.show()\n",
    "# Esempio di annotazione\n",
    "fig, ax = plt.subplots(figsize=(10, 6))\n",
    "\n",
    "x = np.linspace(0, 10, 100)\n",
    "y = np.sin(x)\n",
    "ax.plot(x, y)\n",
    "\n",
    "# Evidenziamo un massimo locale\n",
    "ax.annotate('Massimo Locale',\n",
    "            xy=(np.pi/2, 1),             # Il punto da indicare\n",
    "            xytext=(np.pi/2, 1.5),       # Dove posizionare il testo\n",
    "            arrowprops=dict(facecolor='black', shrink=0.05),\n",
    "            ha='center') # Allineamento orizzontale del testo\n",
    "\n",
    "ax.set_title(\"Grafico con Annotazione\")\n",
    "plt.show()"
   ],
   "outputs": [],
   "execution_count": null
  },
  {
   "cell_type": "markdown",
   "id": "ba55ee1630299264",
   "metadata": {},
   "source": [
    "## Esercizio 1"
   ]
  },
  {
   "cell_type": "code",
   "id": "56bbbd490a5f82f1",
   "metadata": {},
   "source": [
    "x = np.arange(-10,11)\n",
    "y = x**2\n",
    "\n",
    "fig,ax = plt.subplots()\n",
    "\n",
    "ax.plot(x,y)\n",
    "ax.set_title('Il mio primo grafico')\n",
    "ax.set_xlabel('Valore di x')\n",
    "ax.set_ylabel('Valore di y')\n",
    "plt.show()"
   ],
   "outputs": [],
   "execution_count": null
  },
  {
   "cell_type": "markdown",
   "id": "7d8019d5a2987723",
   "metadata": {},
   "source": [
    "## Esericizio 2\n",
    "1. Visualizza la Relazione: Crea uno scatter plot che mostri il PunteggioEsame (asse y) in funzione delle OreDiStudio (asse x). Cosa noti?\n",
    "2. Analizza la Distribuzione: Crea un istogramma dei punteggi (PunteggioEsame) per vedere come sono distribuiti. Prova a usare 20 bins. Ti sembra una distribuzione normale?\n",
    "3. (Avanzato) Media con Errore: Calcola il punteggio medio e la sua deviazione standard per gli studenti che hanno studiato \"poco\" (meno di 5 ore) e \"molto\" (più di 5 ore). Poi usa ax.errorbar per disegnare questi due punti medi con le loro deviazioni standard come barre di errore. Questo è un ottimo esercizio per unire analisi e visualizzazione!"
   ]
  },
  {
   "cell_type": "code",
   "id": "cd17baba08a7da57",
   "metadata": {},
   "source": [
    "import pandas as pd\n",
    "import numpy as np\n",
    "\n",
    "# Creiamo dati realistici con un po' di casualità\n",
    "rng = np.random.RandomState(42)\n",
    "ore_studio = 10 * rng.rand(50)\n",
    "punteggio = 50 + 4 * ore_studio + rng.randn(50) * 5 # Punteggio base 50, +4 punti/ora, con rumore\n",
    "df = pd.DataFrame({'OreDiStudio': ore_studio, 'PunteggioEsame': punteggio})\n",
    "print(df)"
   ],
   "outputs": [],
   "execution_count": null
  },
  {
   "cell_type": "code",
   "id": "5e4e864969100fcf",
   "metadata": {},
   "source": [
    "# Punto 1\n",
    "fig,ax = plt.subplots()\n",
    "ax.scatter(x,y)\n",
    "plt.xlabel('Ore Di Studio')\n",
    "plt.ylabel('Punteggio Esame')\n",
    "plt.show()"
   ],
   "outputs": [],
   "execution_count": null
  },
  {
   "cell_type": "code",
   "id": "fbdf8f6dba24d233",
   "metadata": {},
   "source": [
    "# Punto 2\n",
    "fig,ax = plt.subplots()\n",
    "ax.hist(df['PunteggioEsame'],bins=20, density=True, alpha=1,\n",
    "        histtype='stepfilled', color='red', edgecolor='none')\n",
    "plt.show()"
   ],
   "outputs": [],
   "execution_count": null
  },
  {
   "cell_type": "code",
   "id": "60564a67aada45",
   "metadata": {},
   "source": [
    "#Punto 3\n",
    "# Calcolo medie e deviazioni standard\n",
    "media_ore_poco = df[df['OreDiStudio']<5]['OreDiStudio'].mean()\n",
    "media_voto_poco = df[df['OreDiStudio']<5]['PunteggioEsame'].mean()\n",
    "std_voto_poco = df[df['OreDiStudio']<5]['PunteggioEsame'].std()\n",
    "\n",
    "media_ore_molto = df[df['OreDiStudio']>5]['OreDiStudio'].mean()\n",
    "media_voto_molto = df[df['OreDiStudio']>5]['PunteggioEsame'].mean()\n",
    "std_voto_molto = df[df['OreDiStudio']>5]['PunteggioEsame'].std()\n",
    "\n",
    "print('Ore di studio <5')\n",
    "print(\"Voto Medio:\", media_voto_poco)\n",
    "print(\"Dev Standard:\", std_voto_poco)\n",
    "print('Ore di studio >5')\n",
    "print(\"Voto Medio:\", media_voto_molto)\n",
    "print(\"Dev Standard:\", std_voto_molto)\n",
    "\n",
    "# Grafico con barre di errore\n",
    "fig, ax = plt.subplots()\n",
    "ax.errorbar([media_ore_poco, media_ore_molto],\n",
    "            [media_voto_poco, media_voto_molto],\n",
    "            yerr=[std_voto_poco, std_voto_molto],\n",
    "            fmt='*', color='navy', ecolor='lightgray', elinewidth=3, capsize=5)\n",
    "ax.set_xlabel('Ore di Studio (media)')\n",
    "ax.set_ylabel('Punteggio Esame (media)')\n",
    "plt.show()\n"
   ],
   "outputs": [],
   "execution_count": null
  },
  {
   "cell_type": "markdown",
   "id": "9449c7a3384e968e",
   "metadata": {},
   "source": [
    "## Esercizio 3\n",
    "Useremo di nuovo il nostro DataFrame df con i punteggi degli esami.\n",
    "\n",
    "   1. Crea un Layout: Utilizza plt.subplots(1, 2, figsize=(15, 6)) per creare una figura con due grafici affiancati.\n",
    "   2. Grafico a Sinistra (ax[0]): Sul primo grafico, ricrea lo scatter plot che confronta OreDiStudio e PunteggioEsame.\n",
    "   3. Grafico a Destra (ax[1]): Sul secondo, ricrea l'istogramma dei PunteggioEsame.\n",
    "   4. Aggiungi un'Annotazione:\n",
    "        - Sul grafico a dispersione (ax[0]), trova lo studente con il punteggio più alto. (Suggerimento: in Pandas, puoi usare df['PunteggioEsame' .idxmax() per trovare l'indice della riga con il valore massimo).\n",
    "        - Usa ax.annotate() per disegnare una freccia che punta a quello studente, con il testo \"Migliore!\"."
   ]
  },
  {
   "cell_type": "code",
   "id": "58f7143b464dff55",
   "metadata": {},
   "source": [
    "fig,ax = plt.subplots(1,2,figsize=(15,6))\n",
    "\n",
    "ax[0].scatter(df['OreDiStudio'],df['PunteggioEsame'])\n",
    "ax[0].set_xlabel('OreDiStudio')\n",
    "ax[0].set_ylabel('PunteggioEsame')\n",
    "ax[0].set_title ('Scatter')\n",
    "\n",
    "ax[1].hist(df['PunteggioEsame'],bins=20, density=True, alpha=1,\n",
    "        histtype='stepfilled', color='red', edgecolor='none')\n",
    "ax[1].set_xlabel('PunteggioEsame')\n",
    "ax[1].set_ylabel('Densità')\n",
    "ax[1].set_title('Istogramma Punteggi')\n",
    "\n",
    "voto_più_alto = df['PunteggioEsame'].idxmax()\n",
    "\n",
    "x_migliore = df.loc[voto_più_alto, 'OreDiStudio']\n",
    "y_migliore = df.loc[voto_più_alto, 'PunteggioEsame']\n",
    "\n",
    "ax[0].annotate('Migliore!',\n",
    "            xy=(x_migliore, y_migliore),             # Il punto da indicare\n",
    "            xytext=(x_migliore+1, y_migliore+5),     # Dove posizionare il testo\n",
    "            arrowprops=dict(facecolor='black', shrink=0.05),\n",
    "            ha='center')\n",
    "\n",
    "plt.show()\n"
   ],
   "outputs": [],
   "execution_count": null
  },
  {
   "cell_type": "code",
   "id": "c28cbcd724c2930",
   "metadata": {},
   "source": [],
   "outputs": [],
   "execution_count": null
  },
  {
   "cell_type": "markdown",
   "id": "e53cb37bd9905f2b",
   "metadata": {},
   "source": [
    "# Sezione 1"
   ]
  },
  {
   "cell_type": "code",
   "id": "51893c24dd3d13f2",
   "metadata": {},
   "source": [
    "import pandas as pd\n",
    "import numpy as np\n",
    "import matplotlib.pyplot as plt\n",
    "\n",
    "# Creiamo un set di dati finanziari simulati\n",
    "rng = np.random.RandomState(42)\n",
    "giorni = pd.to_datetime(pd.date_range('2024-01-01', periods=252, freq='B')) # 'B' = Business day\n",
    "prezzo_iniziale = 100\n",
    "trend = np.linspace(0, 20, 252)\n",
    "rumore_prezzo = rng.randn(252) * 2\n",
    "prezzo = prezzo_iniziale + trend + rumore_prezzo\n",
    "\n",
    "volume = rng.randint(500, 2000, 252) * (1 + np.sin(np.linspace(0, 4*np.pi, 252)))\n",
    "\n",
    "dati_finanziari = pd.DataFrame({\n",
    "    'Data': giorni,\n",
    "    'Prezzo': prezzo,\n",
    "    'Volume': volume\n",
    "}).set_index('Data')\n",
    "\n",
    "# Calcoliamo una media mobile semplice\n",
    "dati_finanziari['MediaMobile50'] = dati_finanziari['Prezzo'].rolling(window=50).mean()\n",
    "\n",
    "dati_finanziari.head()"
   ],
   "outputs": [],
   "execution_count": null
  },
  {
   "cell_type": "markdown",
   "id": "6f529b029a2f4b11",
   "metadata": {},
   "source": [
    "## Esercizio 1: Grafico del Prezzo nel Tempo\n",
    "Crea un grafico a linee che mostri l'andamento del prezzo ('Prezzo') nel tempo."
   ]
  },
  {
   "cell_type": "code",
   "id": "9963f8b752831292",
   "metadata": {},
   "source": [
    "fig,ax = plt.subplots()\n",
    "\n",
    "ax.plot(dati_finanziari.index ,dati_finanziari['Prezzo'])\n",
    "plt.show()"
   ],
   "outputs": [],
   "execution_count": null
  },
  {
   "cell_type": "markdown",
   "id": "82f300bf5736f0ed",
   "metadata": {},
   "source": [
    "## Esercizio 2: Aggiungere Titolo e Etichette\n",
    "Migliora il grafico precedente aggiungendo un titolo \"Andamento Prezzo Azione XYZ\" e etichette per gli assi X (\"Data\") e Y (\"Prezzo in €\")."
   ]
  },
  {
   "cell_type": "code",
   "id": "e13f0d6dfcabcbe2",
   "metadata": {},
   "source": [
    "fig,ax = plt.subplots()\n",
    "\n",
    "ax.plot(dati_finanziari.index ,dati_finanziari['Prezzo'])\n",
    "ax.set_ylabel('Prezzo')\n",
    "ax.set_xlabel('Data')\n",
    "ax.set_title('Andamento del prezzo nel tempo')\n",
    "\n",
    "plt.show()"
   ],
   "outputs": [],
   "execution_count": null
  },
  {
   "cell_type": "markdown",
   "id": "c49c7c35c248b64c",
   "metadata": {},
   "source": [
    "## Esercizio 3: Sovrapporre la Media Mobile\n",
    "Sullo stesso grafico, sovrapponi la media mobile a 50 giorni ('MediaMobile50') con un colore e uno stile diverso (es. linea tratteggiata rossa). Aggiungi una legenda."
   ]
  },
  {
   "cell_type": "code",
   "id": "970595904af6676b",
   "metadata": {},
   "source": [
    "dati_finanziari['MediaMobile50'] = dati_finanziari['Prezzo'].rolling(window = 50).mean()\n",
    "print(dati_finanziari['MediaMobile50'])"
   ],
   "outputs": [],
   "execution_count": null
  },
  {
   "cell_type": "code",
   "id": "597fbeee53453995",
   "metadata": {},
   "source": [
    "fig,ax = plt.subplots(figsize = (12,6))\n",
    "ax.plot(dati_finanziari.index, dati_finanziari['Prezzo'],label = 'Prezzo',color = 'blue')\n",
    "ax.plot(dati_finanziari.index, dati_finanziari['MediaMobile50'], label = 'Media mobile 50 gg',color = 'red',linestyle ='--')\n",
    "\n",
    "ax.set_xlabel('Data')\n",
    "ax.set_ylabel('Prezzo')\n",
    "ax.set_title('Andamento Prezzo con Media Mobile')\n",
    "ax.legend()\n",
    "plt.show()"
   ],
   "outputs": [],
   "execution_count": null
  },
  {
   "cell_type": "markdown",
   "id": "ed80647414700f68",
   "metadata": {},
   "source": [
    "## Esercizio 4: Grafico dei Volumi\n",
    "Crea un grafico a barre per visualizzare i volumi di scambio ('Volume') nel tempo."
   ]
  },
  {
   "cell_type": "code",
   "id": "ac39551a64ea6463",
   "metadata": {},
   "source": [
    "fig,ax = plt.subplots()\n",
    "ax.plot(dati_finanziari.index, dati_finanziari['Volume'])\n",
    "plt.show()"
   ],
   "outputs": [],
   "execution_count": null
  },
  {
   "cell_type": "markdown",
   "id": "8437953c66b0638",
   "metadata": {},
   "source": [
    "## Esercizio 5: Layout con Subplots\n",
    "Crea una figura con due sotto-grafici uno sopra l'altro (subplots(2, 1)), con assi X condivisi (sharex=True).\n",
    "\n",
    "   - Nel grafico superiore, disegna il prezzo e la media mobile.\n",
    "   - Nel grafico inferiore, disegna i volumi."
   ]
  },
  {
   "cell_type": "code",
   "id": "c21392ec5659eab1",
   "metadata": {},
   "source": [
    "fig,ax = plt.subplots(2,1,sharex = True,figsize=(12,10))\n",
    "ax[0].plot(dati_finanziari.index, dati_finanziari['Prezzo'],label = 'Prezzo',color = 'blue')\n",
    "ax[0].plot(dati_finanziari.index, dati_finanziari['MediaMobile50'], label = 'Media mobile 50 gg',color = 'red',linestyle ='--')\n",
    "\n",
    "ax[0].set_xlabel('Data')\n",
    "ax[0].set_ylabel('Prezzo')\n",
    "ax[0].set_title('Andamento Prezzo con Media Mobile')\n",
    "\n",
    "ax[1].bar(dati_finanziari.index, dati_finanziari['Volume'])\n",
    "ax[1].set_xlabel('Data')\n",
    "ax[1].set_ylabel('Volume')\n",
    "ax[1].set_title('Andamento Volume')\n",
    "plt.show()"
   ],
   "outputs": [],
   "execution_count": null
  },
  {
   "cell_type": "markdown",
   "id": "214b2cc710094bf3",
   "metadata": {},
   "source": [
    "## Esercizio 6: Relazione Prezzo-Volume\n",
    "Crea uno scatter plot per investigare la relazione tra 'Prezzo' e 'Volume'."
   ]
  },
  {
   "cell_type": "code",
   "id": "f2a325f195d54ea4",
   "metadata": {},
   "source": [
    "fig,ax = plt.subplots()\n",
    "\n",
    "ax.scatter(dati_finanziari['Prezzo'], dati_finanziari['Volume'])\n",
    "ax.set_title('Relazione Prezzo Volume')\n",
    "ax.set_xlabel('Prezzo')\n",
    "ax.set_ylabel('Volume')\n",
    "plt.show()\n"
   ],
   "outputs": [],
   "execution_count": null
  },
  {
   "cell_type": "markdown",
   "id": "c69c273f5b4ff7ac",
   "metadata": {},
   "source": [
    "## Esercizio 7: Personalizzare lo Scatter Plot\n",
    "Migliora lo scatter plot precedente mappando il colore dei punti sull'indice temporale (più recenti = colore più chiaro/scuro) e la dimensione dei punti sul volume."
   ]
  },
  {
   "cell_type": "code",
   "id": "cf2afc932b3ea1de",
   "metadata": {},
   "source": [
    "\n",
    "fig,ax = plt.subplots()\n",
    "colors = np.arange(len(dati_finanziari))\n",
    "sizes = dati_finanziari['Volume']/50\n",
    "\n",
    "scatter = ax.scatter(dati_finanziari['Prezzo'], dati_finanziari['Volume'],c=colors, s=sizes, alpha=0.5, cmap='viridis')\n",
    "ax.set_title('Relazione Prezzo Volume')\n",
    "ax.set_xlabel('Prezzo')\n",
    "ax.set_ylabel('Volume')\n",
    "\n",
    "# Aggiungiamo una colorbar per mostrare la progressione temporale\n",
    "plt.colorbar(scatter, label='Tempo (più recente → più chiaro)')\n",
    "plt.show()\n"
   ],
   "outputs": [],
   "execution_count": null
  },
  {
   "cell_type": "markdown",
   "id": "5f3b2239703993c9",
   "metadata": {},
   "source": [
    "## Esercizio 8: Istogramma dei Rendimenti Giornalieri\n",
    "Calcola i rendimenti giornalieri ((prezzo_oggi / prezzo_ieri) - 1), poi crea un istogramma di questi rendimenti per vederne la distribuzione."
   ]
  },
  {
   "cell_type": "code",
   "id": "e287f171b4890424",
   "metadata": {},
   "source": [
    "rendimenti = dati_finanziari['Prezzo'].pct_change()\n",
    "print('--- Rendimenti Calcolati ---')\n",
    "print(rendimenti)\n",
    "\n",
    "fig,ax = plt.subplots()\n",
    "\n",
    "ax.hist(rendimenti,\n",
    "        bins = 50 ,\n",
    "        density = True,\n",
    "        alpha = 0.7)\n",
    "\n",
    "plt.show()\n"
   ],
   "outputs": [],
   "execution_count": null
  },
  {
   "cell_type": "markdown",
   "id": "555045218f143419",
   "metadata": {},
   "source": [
    "## Esercizio 9: Annotare il Massimo e Minimo\n",
    "Nel grafico del prezzo (esercizio 1), usa annotate per indicare con una freccia il giorno con il prezzo massimo e quello con il prezzo minimo dell'anno."
   ]
  },
  {
   "cell_type": "code",
   "id": "7df575bff1bbc007",
   "metadata": {},
   "source": [
    "fig,ax = plt.subplots()\n",
    "\n",
    "ax.plot(dati_finanziari.index ,dati_finanziari['Prezzo'])\n",
    "ax.set_ylabel('Data')\n",
    "ax.set_xlabel('Prezzo')\n",
    "ax.set_title('Andamento del prezzo nel tempo')\n",
    "\n",
    "# Troviamo indici e valori di max e min\n",
    "idx_max = dati_finanziari['Prezzo'].idxmax()\n",
    "prezzo_max = dati_finanziari['Prezzo'].max()\n",
    "\n",
    "idx_min = dati_finanziari['Prezzo'].idxmin()\n",
    "prezzo_min = dati_finanziari['Prezzo'].min()\n",
    "\n",
    "ax.annotate('Prezzo Massimo',\n",
    "            xy= (idx_max, prezzo_max),             # Il punto da indicare\n",
    "            xytext=(idx_max, prezzo_max+5),       # Dove posizionare il testo\n",
    "            arrowprops=dict(facecolor='black', shrink=0.05),\n",
    "            ha='center') # Allineamento orizzontale del testo\n",
    "\n",
    "# Annotazione MINIMO corretta\n",
    "ax.annotate('Prezzo Minimo', # Testo corretto\n",
    "            xy=(idx_min, prezzo_min),\n",
    "            xytext=(idx_min, prezzo_min - 10), # Posizione del testo relativa al minimo\n",
    "            arrowprops=dict(facecolor='green', shrink=0.05),\n",
    "            ha='center')"
   ],
   "outputs": [],
   "execution_count": null
  },
  {
   "cell_type": "markdown",
   "id": "509150a3ea43ccff",
   "metadata": {},
   "source": [
    "## Esercizio 10: Evidenziare un Periodo\n",
    "Nel grafico del prezzo, usa axvspan per evidenziare con un colore di sfondo semitrasparente il mese di Giugno 2024."
   ]
  },
  {
   "cell_type": "code",
   "id": "3b773f5b71bfcd24",
   "metadata": {},
   "source": [
    "fig,ax = plt.subplots()\n",
    "\n",
    "ax.plot(dati_finanziari.index ,dati_finanziari['Prezzo'])\n",
    "ax.set_ylabel('Data')\n",
    "ax.set_xlabel('Prezzo')\n",
    "ax.set_title('Andamento del prezzo nel tempo')\n",
    "ax.axvspan(pd.Timestamp('2024-06-01'),pd.Timestamp('2024-06-30'), alpha = 0.3,  color = 'yellow')\n",
    "plt.show()"
   ],
   "outputs": [],
   "execution_count": null
  },
  {
   "cell_type": "markdown",
   "id": "89bd41151a7d4500",
   "metadata": {},
   "source": [
    "# Sezione 2"
   ]
  },
  {
   "cell_type": "code",
   "id": "9c8c13d481fbabef",
   "metadata": {},
   "source": [
    "import pandas as pd\n",
    "import numpy as np\n",
    "import matplotlib.pyplot as plt\n",
    "\n",
    "# Creiamo un set di dati demografici simulati\n",
    "rng = np.random.RandomState(42)\n",
    "n_persone = 200\n",
    "eta = rng.randint(18, 71, n_persone)\n",
    "citta = rng.choice(['Milano', 'Roma', 'Napoli', 'Torino'], n_persone, p=[0.4, 0.3, 0.2, 0.1])\n",
    "reddito = 15000 + (eta * 300) + rng.randn(n_persone) * 5000 + (citta == 'Milano') * 10000\n",
    "\n",
    "dati_demografici = pd.DataFrame({\n",
    "    'Eta': eta,\n",
    "    'Citta': citta,\n",
    "    'Reddito': reddito.astype(int)\n",
    "})\n",
    "\n",
    "dati_demografici.head()"
   ],
   "outputs": [],
   "execution_count": null
  },
  {
   "cell_type": "markdown",
   "id": "7718debaca7e9da2",
   "metadata": {},
   "source": [
    "## Esercizio 1\n",
    "Crea un istogramma per visualizzare la distribuzione delle età. Usa 15 bins."
   ]
  },
  {
   "cell_type": "code",
   "id": "1451904ed83331f8",
   "metadata": {},
   "source": [
    "fig,ax = plt.subplots()\n",
    "\n",
    "ax.hist(dati_demografici['Eta'],\n",
    "        bins = 50,\n",
    "        density = True,\n",
    "        alpha = 0.7)\n",
    "plt.show()"
   ],
   "outputs": [],
   "execution_count": null
  },
  {
   "cell_type": "markdown",
   "id": "e93658f1c222d474",
   "metadata": {},
   "source": [
    "## Esercizio 2\n",
    "Crea un grafico a barre che mostri il numero di persone per ogni città."
   ]
  },
  {
   "cell_type": "code",
   "id": "8e0530c5b0a2d045",
   "metadata": {},
   "source": [
    "fig,ax = plt.subplots()\n",
    "cnt = dati_demografici['Citta'].value_counts()\n",
    "ax.bar(\n",
    "    cnt.index,\n",
    "    cnt.values\n",
    ")\n",
    "\n",
    "ax.set_title('Numero di Persone per Città')\n",
    "ax.set_xlabel('Città')\n",
    "ax.set_ylabel('Numero di Persone')\n",
    "\n",
    "plt.show()"
   ],
   "outputs": [],
   "execution_count": null
  },
  {
   "cell_type": "markdown",
   "id": "a840cd01c9775a28",
   "metadata": {},
   "source": [
    "## Esercizio\n",
    "Crea uno scatter plot per visualizzare la relazione tra 'Eta' e 'Reddito'."
   ]
  },
  {
   "cell_type": "code",
   "id": "9cf8efe408e5a02a",
   "metadata": {},
   "source": [
    "fig,ax = plt.subplots()\n",
    "\n",
    "ax.scatter(\n",
    "    dati_demografici['Eta'],\n",
    "    dati_demografici['Reddito']\n",
    ")\n",
    "ax.set_title('Relazione Eta vs Reddito')\n",
    "ax.set_xlabel('Eta')\n",
    "ax.set_ylabel('Reddito')\n",
    "plt.show()"
   ],
   "outputs": [],
   "execution_count": null
  },
  {
   "cell_type": "markdown",
   "id": "2cdec4711b7c300e",
   "metadata": {},
   "source": [
    "## Esercizio 4\n",
    "Migliora il grafico precedente colorando ogni punto in base alla 'Citta' di provenienza. Aggiungi una legenda."
   ]
  },
  {
   "cell_type": "code",
   "id": "3b802246dd22301",
   "metadata": {},
   "source": [
    "fig,ax = plt.subplots()\n",
    "for citta in dati_demografici['Citta'].unique():\n",
    "    mask = dati_demografici['Citta'] == citta\n",
    "    ax.scatter(\n",
    "        dati_demografici[mask]['Eta'],\n",
    "        dati_demografici[mask]['Reddito'],\n",
    "        label = citta,\n",
    "        alpha = 0.6\n",
    "    )\n",
    "ax.set_title('Relazione Eta vs Reddito')\n",
    "ax.set_xlabel('Eta')\n",
    "ax.set_ylabel('Reddito')\n",
    "ax.legend()\n",
    "plt.show()"
   ],
   "outputs": [],
   "execution_count": null
  },
  {
   "cell_type": "markdown",
   "id": "76c4831b11bd9354",
   "metadata": {},
   "source": [
    "## Esercizio 5\n",
    "Usa un box plot per confrontare la distribuzione del 'Reddito' tra le diverse città."
   ]
  },
  {
   "cell_type": "code",
   "id": "50c84cad43482737",
   "metadata": {},
   "source": [
    "fig,ax = plt.subplots()\n",
    "\"\"\"\n",
    "TENTATIVO 1\n",
    "dati_per_citta = [dati_demografici[dati_demografici['Citta'] == citta]['Reddito']\n",
    "                 for citta in dati_demografici['Citta'].unique()]\n",
    "\n",
    "ax.boxplot(dati_per_citta,labels = dati_demografici['Citta'].unique())\n",
    "\n",
    "\"\"\"\n",
    "\"\"\"\n",
    "TENTATIVO 2\n",
    "\"\"\"\n",
    "dati_demografici.boxplot(column = 'Reddito', by = 'Citta', ax=ax)\n",
    "ax.set_title('Distribuzione del Reddito per Città')\n",
    "ax.set_ylabel('Reddito')\n",
    "plt.show()"
   ],
   "outputs": [],
   "execution_count": null
  },
  {
   "cell_type": "markdown",
   "id": "a5aac7e9ec0a99fa",
   "metadata": {},
   "source": [
    "## Esercizio 6\n",
    "- Crea una nuova colonna 'FasciaEta' dividendo le persone in fasce (es. 18-30, 31-40, 41-50, 51-60, 61-70).\n",
    "- Crea un grafico a barre che mostri il reddito medio per ogni fascia d'età."
   ]
  },
  {
   "cell_type": "code",
   "id": "9f85522fef834b5e",
   "metadata": {},
   "source": [
    "# Creo una nuova colonna 'FasciaEta'\n",
    "def assegna_fascia(eta):\n",
    "    if 18 <= eta <= 30:\n",
    "        return '18-30'\n",
    "    elif 31 <= eta <= 40:\n",
    "        return '31-40'\n",
    "    elif 41 <= eta <= 50:\n",
    "        return '41-50'\n",
    "    elif 51 <= eta <= 60:\n",
    "        return '51-60'\n",
    "    else:\n",
    "        return '61-70'\n",
    "\n",
    "dati_demografici['FasciaEta'] = dati_demografici['Eta'].apply(assegna_fascia)\n",
    "reddito_medio = dati_demografici.groupby('FasciaEta')['Reddito'].mean()\n",
    "figure, ax = plt.subplots()\n",
    "\n",
    "ax.bar(\n",
    "    reddito_medio.index,\n",
    "    reddito_medio.values\n",
    ")\n",
    "ax.set_title('Reddito Medio per Fascia di Età')\n",
    "ax.set_xlabel('Fascia di Età')\n",
    "ax.set_ylabel('Reddito Medio')\n",
    "plt.show()\n"
   ],
   "outputs": [],
   "execution_count": null
  },
  {
   "cell_type": "markdown",
   "id": "707211f04d0e8014",
   "metadata": {},
   "source": [
    "## Esercizio 7\n",
    "Migliora il grafico precedente aggiungendo le barre di errore, rappresentanti la deviazione standard del reddito per ogni fascia d'età."
   ]
  },
  {
   "cell_type": "code",
   "id": "ecacc8c80a601ff5",
   "metadata": {},
   "source": [
    "reddito_medio = dati_demografici.groupby('FasciaEta')['Reddito'].mean()\n",
    "reddito_std = dati_demografici.groupby('FasciaEta')['Reddito'].std()\n",
    "\n",
    "fig,ax = plt.subplots()\n",
    "ax.errorbar(reddito_medio.index,\n",
    "            reddito_medio.values,\n",
    "            yerr = reddito_std.values,\n",
    "            fmt='+', color='navy', ecolor='skyblue', elinewidth=3, capsize=5)\n",
    "ax.set_title('Reddito Medio per Fascia di Età')\n",
    "ax.set_xlabel('Fascia di Età')\n",
    "ax.set_ylabel('Reddito Medio')\n",
    "plt.show()"
   ],
   "outputs": [],
   "execution_count": null
  },
  {
   "cell_type": "markdown",
   "id": "6bad9bfc366cd3b9",
   "metadata": {},
   "source": [
    "## Esercizio 8\n",
    "Crea un grafico a torta che mostri la percentuale di persone provenienti da ogni città."
   ]
  },
  {
   "cell_type": "code",
   "id": "310a58253105ffd2",
   "metadata": {},
   "source": [
    "fig,ax = plt.subplots()\n",
    "ax.pie(\n",
    "    cnt.values,\n",
    "    labels = cnt.index,\n",
    "    autopct = '%1.1f%%',\n",
    "    startangle=90,    # angolo di partenza (opzionale)\n",
    "\n",
    ")\n",
    "plt.show()"
   ],
   "outputs": [],
   "execution_count": null
  },
  {
   "cell_type": "markdown",
   "id": "bbeaa954dc09201c",
   "metadata": {},
   "source": [
    "## Esercizio 9\n",
    "Crea una griglia di subplots 2x2 e disegna un istogramma del reddito per ogni singola città (un istogramma per subplot)."
   ]
  },
  {
   "cell_type": "code",
   "id": "fa10139ecc192da1",
   "metadata": {},
   "source": [
    "fig,ax = plt.subplots(2,2,figsize=(12,10))\n",
    "citta_uniche = dati_demografici['Citta'].unique()\n",
    "for i in range(2):\n",
    "    for j in range(2):\n",
    "        if i*2 +j < len(citta_uniche):\n",
    "            citta = citta_uniche[i*2+j]\n",
    "            dati_citta = dati_demografici[dati_demografici['Citta'] == citta]['Reddito']\n",
    "            ax[i,j].hist(dati_citta,bins =20,alpha =0.7)\n",
    "            ax[i,j].set_title(f'Distribuzione Reddito - {citta}')\n",
    "            ax[i,j].set_xlabel('Reddito')\n",
    "            ax[i,j].set_ylabel('Frequenza')\n",
    "plt.show()"
   ],
   "outputs": [],
   "execution_count": null
  },
  {
   "cell_type": "markdown",
   "id": "a3c4ad4699207f6a",
   "metadata": {},
   "source": [
    "## Esercizio 10\n",
    "Crea un grafico a violino per confrontare la distribuzione del reddito per città (alternativa al box plot)."
   ]
  },
  {
   "cell_type": "code",
   "id": "cf5561a0bffce8ba",
   "metadata": {},
   "source": [
    "fig, ax = plt.subplots()\n",
    "dati_per_citta = [dati_demografici[dati_demografici['Citta'] == citta]['Reddito']\n",
    "                  for citta in dati_demografici['Citta'].unique()]\n",
    "\n",
    "ax.violinplot(\n",
    "    dati_per_citta\n",
    ")\n",
    "ax.set_xticks(range(1, len(dati_demografici['Citta'].unique()) + 1)) # Posiziona correttamente i segni sotto ogni violino\n",
    "ax.set_xticklabels(dati_demografici['Citta'].unique()) # Etichetta ogni violino col nome della citta corrispondente\n",
    "plt.show()"
   ],
   "outputs": [],
   "execution_count": null
  },
  {
   "metadata": {},
   "cell_type": "markdown",
   "source": "# Sezione 3\n",
   "id": "cdeeecc44332a68b"
  },
  {
   "cell_type": "code",
   "id": "b090ba07ec2e68b1",
   "metadata": {
    "ExecuteTime": {
     "end_time": "2025-06-23T14:34:54.150741Z",
     "start_time": "2025-06-23T14:34:54.145500Z"
    }
   },
   "source": [
    "# Blocco di Codice Alternativo (Super Sicuro)\n",
    "import pandas as pd\n",
    "import numpy as np\n",
    "import matplotlib.pyplot as plt\n",
    "\n",
    "print(\"--- Esecuzione del setup alternativo e più esplicito ---\")\n",
    "rng = np.random.RandomState(42)\n",
    "giorni_index = pd.to_datetime(pd.date_range('2024-01-01', periods=366))\n",
    "\n",
    "# --- Iniziamo a spezzare il calcolo ---\n",
    "\n",
    "# 1. Estraiamo i giorni dell'anno come un array NumPy PURO.\n",
    "#    Usiamo .to_numpy() per essere sicuri di avere un array e non un indice.\n",
    "giorni_array = giorni_index.dayofyear.to_numpy()\n",
    "print(\"Tipo della variabile 'giorni_array':\", type(giorni_array))\n",
    "\n",
    "# 2. Calcoliamo la componente sinusoidale usando solo array NumPy.\n",
    "componente_sin = 1 + np.sin(2 * np.pi * giorni_array / 366) * 2\n",
    "\n",
    "# 3. Generiamo i valori casuali dalla distribuzione Gamma.\n",
    "valori_gamma = rng.gamma(1, 0.5, 366)\n",
    "\n",
    "# 4. Moltiplichiamo i due array NumPy. Il risultato sarà un array NumPy.\n",
    "precipitazioni_finali = valori_gamma * componente_sin\n",
    "print(\"Tipo della variabile 'precipitazioni_finali':\", type(precipitazioni_finali))\n",
    "\n",
    "# 5. ORA la modifica dovrebbe funzionare senza alcun dubbio.\n",
    "precipitazioni_finali[precipitazioni_finali < 0] = 0\n",
    "print(\"\\nModifica dei valori negativi eseguita con successo!\")\n",
    "\n",
    "# --- Creiamo il DataFrame che useremo per gli esercizi ---\n",
    "temp_base = 15 - 10 * np.cos(2 * np.pi * giorni_array / 366)\n",
    "temperatura_dati = temp_base + rng.randn(366) * 2\n",
    "\n",
    "dati_meteo = pd.DataFrame({\n",
    "    'Temperatura': temperatura_dati,\n",
    "    'Precipitazioni': precipitazioni_finali\n",
    "}, index=giorni_index)\n",
    "\n",
    "print(\"\\nSetup completato! Il DataFrame 'dati_meteo' è finalmente pronto.\")\n",
    "print(dati_meteo.head())"
   ],
   "outputs": [
    {
     "name": "stdout",
     "output_type": "stream",
     "text": [
      "--- Esecuzione del setup alternativo e più esplicito ---\n",
      "Tipo della variabile 'giorni_array': <class 'numpy.ndarray'>\n",
      "Tipo della variabile 'precipitazioni_finali': <class 'numpy.ndarray'>\n",
      "\n",
      "Modifica dei valori negativi eseguita con successo!\n",
      "\n",
      "Setup completato! Il DataFrame 'dati_meteo' è finalmente pronto.\n",
      "            Temperatura  Precipitazioni\n",
      "2024-01-01     5.563457        0.242690\n",
      "2024-01-02     3.760495        1.608391\n",
      "2024-01-03     4.597015        0.726157\n",
      "2024-01-04     4.037566        0.519113\n",
      "2024-01-05     3.858087        0.099354\n"
     ]
    }
   ],
   "execution_count": 5
  },
  {
   "cell_type": "markdown",
   "id": "ac16dc87c8aaef22",
   "metadata": {},
   "source": [
    "## Esercizio 1: Temperatura nel Tempo\n",
    "Crea un grafico a linee che mostri l'andamento della 'Temperatura' durante l'anno.\n"
   ]
  },
  {
   "cell_type": "code",
   "id": "b58d30f22f183952",
   "metadata": {},
   "source": [],
   "outputs": [],
   "execution_count": null
  },
  {
   "cell_type": "markdown",
   "id": "8963bad7beb9f484",
   "metadata": {},
   "source": [
    "## Esercizio 2: Precipitazioni nel Tempo\n",
    "Crea un grafico a barre che mostri le 'Precipitazioni' giornaliere.\n"
   ]
  },
  {
   "cell_type": "code",
   "id": "e199c2339f8489aa",
   "metadata": {},
   "source": [],
   "outputs": [],
   "execution_count": null
  },
  {
   "cell_type": "markdown",
   "id": "dd07e5862fd62352",
   "metadata": {},
   "source": [
    "## Esercizio 3: Subplots Temperatura e Precipitazioni\n",
    "Crea due subplots uno sopra l'altro (con assi X condivisi) per visualizzare 'Temperatura' e 'Precipitazioni' contemporaneamente."
   ]
  },
  {
   "cell_type": "code",
   "id": "ec436ec444679d3a",
   "metadata": {},
   "source": [],
   "outputs": [],
   "execution_count": null
  },
  {
   "cell_type": "markdown",
   "id": "3fab8cbcadd37df2",
   "metadata": {},
   "source": [
    "## Esercizio 4: Temperatura Media Mensile\n",
    "Calcola la temperatura media per ogni mese e visualizzala con un grafico a barre."
   ]
  },
  {
   "cell_type": "code",
   "id": "cbd6d10ae9c09bd5",
   "metadata": {},
   "source": [],
   "outputs": [],
   "execution_count": null
  },
  {
   "cell_type": "markdown",
   "id": "ab8a83444e65ff2f",
   "metadata": {},
   "source": [
    "## Esercizio 5: Relazione Temperatura-Precipitazioni\n",
    "Usa uno scatter plot per vedere se esiste una relazione tra 'Temperatura' e 'Precipitazioni'."
   ]
  },
  {
   "cell_type": "code",
   "id": "7fc07d5218f213ac",
   "metadata": {},
   "source": [],
   "outputs": [],
   "execution_count": null
  },
  {
   "cell_type": "markdown",
   "id": "f287b10ae62fbd8b",
   "metadata": {},
   "source": [
    "## Esercizio 6: Istogramma 2D\n",
    "Crea un istogramma bidimensionale (hist2d) per visualizzare la densità congiunta di 'Temperatura' e 'Precipitazioni'."
   ]
  },
  {
   "cell_type": "code",
   "id": "40cd330f7beb0578",
   "metadata": {},
   "source": [],
   "outputs": [],
   "execution_count": null
  },
  {
   "cell_type": "markdown",
   "id": "ebd2ec163a1cbfcf",
   "metadata": {},
   "source": [
    "## Esercizio 7: Evidenziare l'Estate\n",
    "Nel grafico della temperatura, evidenzia i mesi estivi (Giugno, Luglio, Agosto) con un colore di sfondo."
   ]
  },
  {
   "cell_type": "code",
   "id": "c127dbafe21cd0c4",
   "metadata": {},
   "source": [],
   "outputs": [],
   "execution_count": null
  },
  {
   "cell_type": "markdown",
   "id": "c599c1dcf7b23d7c",
   "metadata": {},
   "source": [
    "## Esercizio 8: Annotare il Giorno più Caldo\n",
    "Trova il giorno più caldo dell'anno e annotalo sul grafico della temperatura."
   ]
  },
  {
   "cell_type": "code",
   "id": "194be844425b2e2b",
   "metadata": {},
   "source": [],
   "outputs": [],
   "execution_count": null
  },
  {
   "cell_type": "markdown",
   "id": "176d04149151f1c4",
   "metadata": {},
   "source": [
    "## Esercizio 9: Box Plot Precipitazioni Mensili\n",
    "Crea un box plot per mostrare la distribuzione delle precipitazioni per ogni mese."
   ]
  },
  {
   "cell_type": "code",
   "id": "894d753fc587565",
   "metadata": {},
   "source": [],
   "outputs": [],
   "execution_count": null
  },
  {
   "cell_type": "markdown",
   "id": "6bb28a6e28c28719",
   "metadata": {},
   "source": [
    "## Esercizio 10: Grafico Polare\n",
    "Crea un grafico polare che mostri la temperatura media mensile. L'angolo rappresenterà il mese e il raggio la temperatura."
   ]
  },
  {
   "cell_type": "code",
   "id": "c86e154fdb8f037e",
   "metadata": {},
   "source": [],
   "outputs": [],
   "execution_count": null
  }
 ],
 "metadata": {
  "kernelspec": {
   "display_name": "Python 3 (ipykernel)",
   "language": "python",
   "name": "python3"
  },
  "language_info": {
   "codemirror_mode": {
    "name": "ipython",
    "version": 3
   },
   "file_extension": ".py",
   "mimetype": "text/x-python",
   "name": "python",
   "nbconvert_exporter": "python",
   "pygments_lexer": "ipython3",
   "version": "3.12.7"
  }
 },
 "nbformat": 4,
 "nbformat_minor": 5
}
