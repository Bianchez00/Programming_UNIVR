{
 "cells": [
  {
   "metadata": {},
   "cell_type": "markdown",
   "source": [
    "# Mini-Progetto: Analisi dei Dati di un Trasformatore Elettrico\n",
    "---"
   ],
   "id": "ffad58e375cf2eae"
  },
  {
   "metadata": {},
   "cell_type": "markdown",
   "source": [
    " ### Passaggio 1: Caricamento e Ispezione dei Dati\n",
    " Il primo passo è sempre caricare i dati e farsi un'idea di come sono fatti."
   ],
   "id": "ab1fd6234d37da3f"
  },
  {
   "metadata": {
    "ExecuteTime": {
     "end_time": "2025-06-22T11:41:59.722362Z",
     "start_time": "2025-06-22T11:41:59.699327Z"
    }
   },
   "cell_type": "code",
   "source": [
    "# 1a. Importa la libreria Pandas (e NumPy, è una buona pratica averlo sempre a disposizione)\n",
    "import pandas as pd\n",
    "import numpy as np\n",
    "\n",
    "\n",
    "# 1b. Carica il file `ETTh1.csv` in un DataFrame chiamato `df`.\n",
    "# Assicurati che il file CSV si trovi nella stessa cartella del tuo notebook,\n",
    "# altrimenti fornisci il percorso corretto.\n",
    "print(\"Caricamento dati...\")\n",
    "try:\n",
    "    ETTh_df = pd.read_csv('../Databases/ETTh1.csv')\n",
    "    print('Caricamento eseguito correttamente')\n",
    "except FileNotFoundError:\n",
    "    print('Errore: File non trovato')\n",
    "\n",
    "# 1c. Visualizza le prime 5 righe del DataFrame per vedere come sono i dati.\n",
    "print(\"\\nPrime 5 righe del DataFrame:\")\n",
    "print(ETTh_df.head())\n",
    "\n",
    "\n",
    "# 1d. Controlla i tipi di dati di ogni colonna con l'attributo `.dtypes`.\n",
    "# Fai particolare attenzione alla colonna `date`.\n",
    "print(\"\\nTipi di dati delle colonne:\")\n",
    "print(ETTh_df.dtypes)\n"
   ],
   "id": "932214b024c17184",
   "outputs": [
    {
     "name": "stdout",
     "output_type": "stream",
     "text": [
      "Caricamento dati...\n",
      "Caricamento eseguito correttamente\n",
      "\n",
      "Prime 5 righe del DataFrame:\n",
      "                  date   HUFL   HULL   MUFL   MULL   LUFL   LULL         OT\n",
      "0  2016-07-01 00:00:00  5.827  2.009  1.599  0.462  4.203  1.340  30.531000\n",
      "1  2016-07-01 01:00:00  5.693  2.076  1.492  0.426  4.142  1.371  27.787001\n",
      "2  2016-07-01 02:00:00  5.157  1.741  1.279  0.355  3.777  1.218  27.787001\n",
      "3  2016-07-01 03:00:00  5.090  1.942  1.279  0.391  3.807  1.279  25.044001\n",
      "4  2016-07-01 04:00:00  5.358  1.942  1.492  0.462  3.868  1.279  21.948000\n",
      "\n",
      "Tipi di dati delle colonne:\n",
      "date     object\n",
      "HUFL    float64\n",
      "HULL    float64\n",
      "MUFL    float64\n",
      "MULL    float64\n",
      "LUFL    float64\n",
      "LULL    float64\n",
      "OT      float64\n",
      "dtype: object\n"
     ]
    }
   ],
   "execution_count": 237
  },
  {
   "metadata": {},
   "cell_type": "markdown",
   "source": [
    " ---\n",
    " ### Passaggio 2: Lavorare con le Date\n",
    " La colonna `date` è di tipo 'object' (stringa). Dobbiamo convertirla in un\n",
    " formato datetime e impostarla come indice del DataFrame per poterla usare al meglio."
   ],
   "id": "76bf19668a7d1206"
  },
  {
   "metadata": {
    "ExecuteTime": {
     "end_time": "2025-06-22T11:41:59.764552Z",
     "start_time": "2025-06-22T11:41:59.758939Z"
    }
   },
   "cell_type": "code",
   "source": [
    "# 2a. Usa `pd.to_datetime()` per convertire la colonna `date` e sovrascrivila.\n",
    "print(\"\\nConversione della colonna 'date'...\")\n",
    "# Ho preso la colonna ETTh_df dal dataframe e l'ho convertita\n",
    "ETTh_df['date'] = pd.to_datetime(ETTh_df['date'])\n",
    "\n",
    "# 2b. Imposta la colonna `date` (ora convertita) come nuovo indice del DataFrame.\n",
    "# Usa il metodo `.set_index()`. Ricorda di riassegnare il risultato a df\n",
    "# (es. df = df.set_index(...))\n",
    "ETTh_df = ETTh_df.set_index('date')\n",
    "\n",
    "\n",
    "# 2c. Controlla di nuovo le prime 5 righe per vedere il nuovo indice.\n",
    "print(\"\\nDataFrame con indice Datetime:\")\n",
    "print(ETTh_df.head())\n"
   ],
   "id": "38517009538f6646",
   "outputs": [
    {
     "name": "stdout",
     "output_type": "stream",
     "text": [
      "\n",
      "Conversione della colonna 'date'...\n",
      "\n",
      "DataFrame con indice Datetime:\n",
      "                      HUFL   HULL   MUFL   MULL   LUFL   LULL         OT\n",
      "date                                                                    \n",
      "2016-07-01 00:00:00  5.827  2.009  1.599  0.462  4.203  1.340  30.531000\n",
      "2016-07-01 01:00:00  5.693  2.076  1.492  0.426  4.142  1.371  27.787001\n",
      "2016-07-01 02:00:00  5.157  1.741  1.279  0.355  3.777  1.218  27.787001\n",
      "2016-07-01 03:00:00  5.090  1.942  1.279  0.391  3.807  1.279  25.044001\n",
      "2016-07-01 04:00:00  5.358  1.942  1.492  0.462  3.868  1.279  21.948000\n"
     ]
    }
   ],
   "execution_count": 238
  },
  {
   "metadata": {},
   "cell_type": "markdown",
   "source": [
    "---\n",
    "### Passaggio 3: Selezionare e Filtrare i Dati\n",
    "Ora che hai un indice temporale, puoi selezionare i dati in modo molto intuitivo.\n",
    "Usa `.loc` per la selezione."
   ],
   "id": "eec74f1f0cac90e9"
  },
  {
   "metadata": {
    "collapsed": true,
    "ExecuteTime": {
     "end_time": "2025-06-22T11:41:59.847298Z",
     "start_time": "2025-06-22T11:41:59.838747Z"
    }
   },
   "cell_type": "code",
   "source": [
    "# 3a. Seleziona tutti i dati registrati durante il giorno del 4 luglio 2017.\n",
    "# La sintassi per un giorno intero è 'AAAA-MM-GG'.\n",
    "print(\"\\nDati del 4 Luglio 2017:\")\n",
    "Dati_04062017 = ETTh_df.loc['2017-07-04'] # Ho selezionato i dati registrati durante il giorno del 4 luglio 2017\n",
    "\n",
    "print(Dati_04062017)\n",
    "\n",
    "\n",
    "# 3b. Seleziona tutti i dati dal 1° gennaio 2018 al 7 gennaio 2018.\n",
    "# La sintassi per un intervallo è 'Inizio':'Fine'.\n",
    "print(\"\\nDati dal 1 al 7 Gennaio 2018:\")\n",
    "\n",
    "Range_Dati = ETTh_df.loc['2018-01-01':'2018-01-07']\n",
    "\n",
    "print(Range_Dati)\n",
    "# 3c. Per lo stesso intervallo (1-7 gennaio 2018), seleziona solo le colonne 'OT' e 'HUFL'.\n",
    "# Ricorda la sintassi: df.loc[selezione_righe, selezione_colonne]\n",
    "print(\"\\nColonne 'OT' e 'HUFL' per l'intervallo selezionato:\")\n",
    "\n",
    "Colonne = ETTh_df.loc['2018-01-01':'2018-01-07',['OT','HUFL']]\n",
    "print(Colonne)\n",
    "\n",
    "\n"
   ],
   "id": "initial_id",
   "outputs": [
    {
     "name": "stdout",
     "output_type": "stream",
     "text": [
      "\n",
      "Dati del 4 Luglio 2017:\n",
      "                       HUFL   HULL    MUFL   MULL   LUFL   LULL         OT\n",
      "date                                                                      \n",
      "2017-07-04 00:00:00   9.310  1.875   6.716  1.954  2.345 -0.792  19.697001\n",
      "2017-07-04 01:00:00  11.922  3.014   9.488  2.985  2.254 -0.883  19.837999\n",
      "2017-07-04 02:00:00  10.717  2.478   8.635  2.416  2.163 -0.822  19.979000\n",
      "2017-07-04 03:00:00  11.052  2.679   8.848  3.127  1.949 -0.944  19.486000\n",
      "2017-07-04 04:00:00   9.712  2.076   7.747  2.381  2.132 -0.883  19.416000\n",
      "2017-07-04 05:00:00  12.391  2.679   9.488  2.985  2.589 -0.914  19.556000\n",
      "2017-07-04 06:00:00  10.784  1.072   8.599  1.954  3.107 -0.670  19.627001\n",
      "2017-07-04 07:00:00   5.425  1.541   2.630  2.345  2.894 -0.670  19.697001\n",
      "2017-07-04 08:00:00   1.608  1.875  -1.102  2.239  2.863 -0.579  19.837999\n",
      "2017-07-04 09:00:00  -1.674  3.684  -5.188  4.015  3.107 -0.487  19.486000\n",
      "2017-07-04 10:00:00  -5.090  5.425  -8.635  4.655  3.777 -0.335  18.783001\n",
      "2017-07-04 11:00:00  -7.703  5.224 -11.513  5.508  3.533 -0.579  18.923000\n",
      "2017-07-04 12:00:00  -3.751  4.086  -7.320  4.122  3.137 -0.487  19.486000\n",
      "2017-07-04 13:00:00  -4.555  3.684  -7.249  3.625  2.924 -0.609  20.260000\n",
      "2017-07-04 14:00:00  -8.908  5.492 -11.798  5.757  2.863 -0.518  22.652000\n",
      "2017-07-04 15:00:00  -6.363  3.751  -9.310  4.051  2.985 -0.518  23.143999\n",
      "2017-07-04 16:00:00   6.564  1.875   3.589  2.203  2.772 -0.640  22.370001\n",
      "2017-07-04 17:00:00   6.765  1.407   3.802  1.812  3.320 -0.548  20.962999\n",
      "2017-07-04 18:00:00   7.234  0.000   4.193  0.569  2.955 -0.792  20.681999\n",
      "2017-07-04 19:00:00   7.837 -0.067   4.975  0.426  3.046 -0.883  21.808001\n",
      "2017-07-04 20:00:00   9.980  0.000   6.112  0.284  3.838 -0.670  20.823000\n",
      "2017-07-04 21:00:00   9.109  0.000   5.543  0.213  3.686 -0.670  21.385000\n",
      "2017-07-04 22:00:00   9.310  0.335   6.183  0.853  3.350 -0.670  21.034000\n",
      "2017-07-04 23:00:00  10.047  1.340   7.462  1.706  2.802 -0.792  21.104000\n",
      "\n",
      "Dati dal 1 al 7 Gennaio 2018:\n",
      "                          HUFL   HULL    MUFL   MULL   LUFL   LULL     OT\n",
      "date                                                                     \n",
      "2018-01-01 00:00:00  13.731000  3.282   8.742  1.706  4.599  0.944  5.206\n",
      "2018-01-01 01:00:00  16.007999  4.957  10.838  2.985  4.356  0.914  4.502\n",
      "2018-01-01 02:00:00  15.004000  4.957  10.661  2.949  4.325  0.975  4.995\n",
      "2018-01-01 03:00:00  14.401000  4.823   9.630  2.630  4.356  0.883  4.291\n",
      "2018-01-01 04:00:00  13.999000  4.354   9.701  2.310  4.325  0.944  4.150\n",
      "...                        ...    ...     ...    ...    ...    ...    ...\n",
      "2018-01-07 19:00:00  12.994000  2.210   8.528  0.746  4.538  0.731  1.477\n",
      "2018-01-07 20:00:00  12.123000  2.143   7.747  0.746  4.386  0.822  0.774\n",
      "2018-01-07 21:00:00  12.860000  1.875   8.990  0.888  3.655  0.731  0.563\n",
      "2018-01-07 22:00:00  12.525000  2.947   9.097  1.457  3.229  0.731 -0.633\n",
      "2018-01-07 23:00:00  12.458000  2.813   9.559  1.777  2.955  0.670  0.000\n",
      "\n",
      "[168 rows x 7 columns]\n",
      "\n",
      "Colonne 'OT' e 'HUFL' per l'intervallo selezionato:\n",
      "                        OT       HUFL\n",
      "date                                 \n",
      "2018-01-01 00:00:00  5.206  13.731000\n",
      "2018-01-01 01:00:00  4.502  16.007999\n",
      "2018-01-01 02:00:00  4.995  15.004000\n",
      "2018-01-01 03:00:00  4.291  14.401000\n",
      "2018-01-01 04:00:00  4.150  13.999000\n",
      "...                    ...        ...\n",
      "2018-01-07 19:00:00  1.477  12.994000\n",
      "2018-01-07 20:00:00  0.774  12.123000\n",
      "2018-01-07 21:00:00  0.563  12.860000\n",
      "2018-01-07 22:00:00 -0.633  12.525000\n",
      "2018-01-07 23:00:00  0.000  12.458000\n",
      "\n",
      "[168 rows x 2 columns]\n"
     ]
    }
   ],
   "execution_count": 239
  },
  {
   "metadata": {},
   "cell_type": "markdown",
   "source": [
    "---\n",
    " ### Passaggio 4: Aggregazione con `resample`\n",
    " Vogliamo capire l'andamento della temperatura dell'olio (`OT`) nel tempo. I dati orari sono troppi, quindi li aggreghiamo su base mensile per vedere  le tendenze generali."
   ],
   "id": "a0272e79d6cfff6d"
  },
  {
   "metadata": {
    "ExecuteTime": {
     "end_time": "2025-06-22T11:41:59.920497Z",
     "start_time": "2025-06-22T11:41:59.916097Z"
    }
   },
   "cell_type": "code",
   "source": [
    "\n",
    "# 4a. Usa il metodo `.resample()` per ricampionare i dati a una frequenza mensile ('M').\n",
    "# 4b. Dopo aver ricampionato, concatena il metodo per calcolare la media (`.mean()`).\n",
    "# Salva il risultato in un nuovo DataFrame chiamato `df_mensile`.\n",
    "print(\"\\nCalcolo delle medie mensili...\")\n",
    "df_mensile = ETTh_df.resample('ME').mean()\n",
    "print(df_mensile)\n",
    "\n"
   ],
   "id": "74e1d3c8adf543a7",
   "outputs": [
    {
     "name": "stdout",
     "output_type": "stream",
     "text": [
      "\n",
      "Calcolo delle medie mensili...\n",
      "                 HUFL      HULL      MUFL      MULL      LUFL      LULL  \\\n",
      "date                                                                      \n",
      "2016-07-31  11.898030  3.371097  8.166032  1.311102  3.634074  1.392845   \n",
      "2016-08-31  12.926876  4.886579  9.137215  2.931968  3.733403  1.211571   \n",
      "2016-09-30   9.001442  4.097885  6.455868  2.597644  2.448667  0.998443   \n",
      "2016-10-31   8.649157  2.882551  6.228013  2.105117  2.336862  0.340624   \n",
      "2016-11-30   9.164901  2.861357  6.663515  2.384004  2.426375  0.010433   \n",
      "2016-12-31   9.108710  1.086004  6.537895 -0.192374  2.509882  0.830376   \n",
      "2017-01-31   8.970093 -0.273137  6.096625 -1.589577  2.821743  0.734784   \n",
      "2017-02-28   7.200943 -0.294778  4.219829 -1.535866  2.922802  0.775558   \n",
      "2017-03-31   6.586116  0.508903  3.834660 -0.890767  2.682321  0.962700   \n",
      "2017-04-30   3.928565  0.844778  1.309811 -0.632497  2.539158  1.045629   \n",
      "2017-05-31   2.421610  2.152603 -0.291628  0.783901  2.616960  1.062594   \n",
      "2017-06-30   4.840768  1.945178  1.987663  1.770743  2.763764 -0.141646   \n",
      "2017-07-31   7.437473  1.457520  4.083383  0.642333  4.872324  0.288249   \n",
      "2017-08-31   7.446376  2.399329  3.744790  0.678351  3.639043  1.190888   \n",
      "2017-09-30   5.285765  0.053860  2.747400 -1.140119  2.443044  0.720378   \n",
      "2017-10-31   5.282711  2.527977  2.851931  1.317520  2.325832  0.777125   \n",
      "2017-11-30   5.818881  2.969244  2.977832  1.371199  2.797790  1.176492   \n",
      "2017-12-31   8.212785  3.192148  4.777738  1.603809  3.378042  1.058488   \n",
      "2018-01-31  10.863774  3.104778  7.066942  1.588621  3.704391  0.865953   \n",
      "2018-02-28   7.655251  1.884039  4.271939  0.722179  3.317537  0.609829   \n",
      "2018-03-31   6.118758  2.996897  2.849930  1.531450  3.205772  0.931628   \n",
      "2018-04-30   5.633015  1.851747  2.190465  0.222637  3.386656  1.097162   \n",
      "2018-05-31   6.215984  3.024134  2.665651  1.262362  3.444222  1.227284   \n",
      "2018-06-30   5.831915  4.313598  2.062692  2.316692  3.658294  1.426992   \n",
      "\n",
      "                   OT  \n",
      "date                   \n",
      "2016-07-31  33.804284  \n",
      "2016-08-31  31.148806  \n",
      "2016-09-30  23.043829  \n",
      "2016-10-31  17.153794  \n",
      "2016-11-30  13.513376  \n",
      "2016-12-31   9.582716  \n",
      "2017-01-31   7.961784  \n",
      "2017-02-28   8.501930  \n",
      "2017-03-31   9.382984  \n",
      "2017-04-30  15.416760  \n",
      "2017-05-31  17.641606  \n",
      "2017-06-30  18.082974  \n",
      "2017-07-31  21.036007  \n",
      "2017-08-31  16.154098  \n",
      "2017-09-30  13.303906  \n",
      "2017-10-31   9.537890  \n",
      "2017-11-30   7.445742  \n",
      "2017-12-31   4.415702  \n",
      "2018-01-31   2.376293  \n",
      "2018-02-28   3.838289  \n",
      "2018-03-31   6.667909  \n",
      "2018-04-30   8.226892  \n",
      "2018-05-31  10.240676  \n",
      "2018-06-30   9.473006  \n"
     ]
    }
   ],
   "execution_count": 240
  },
  {
   "metadata": {},
   "cell_type": "markdown",
   "source": [
    "---\n",
    "### Passaggio 5: Trovare il Mese più Caldo\n",
    "Ora che hai la media mensile della temperatura dell'olio (`OT`), rispondi a questa domanda:\n",
    "Qual è stato il mese con la temperatura media dell'olio (`OT`) più alta?\n",
    "\n"
   ],
   "id": "e648219138c7cbfd"
  },
  {
   "metadata": {
    "ExecuteTime": {
     "end_time": "2025-06-22T11:41:59.994548Z",
     "start_time": "2025-06-22T11:41:59.992669Z"
    }
   },
   "cell_type": "code",
   "source": [
    "# 5a. Seleziona la colonna 'OT' dal tuo DataFrame mensile `df_mensile`.\n",
    "# 5b. Usa il metodo `.idxmax()` per trovare l'indice (in questo caso, il mese) del valore massimo.\n",
    "print(\"\\nRicerca del mese più caldo...\")\n",
    "mese_caldo = df_mensile['OT']  # oppure df_mensile.loc[:,'OT']\n",
    "mese_caldo = mese_caldo.idxmax()\n",
    "print('Mese più caldo : ', mese_caldo)"
   ],
   "id": "daae2c0198e4a60d",
   "outputs": [
    {
     "name": "stdout",
     "output_type": "stream",
     "text": [
      "\n",
      "Ricerca del mese più caldo...\n",
      "Mese più caldo :  2016-07-31 00:00:00\n"
     ]
    }
   ],
   "execution_count": 241
  },
  {
   "metadata": {},
   "cell_type": "markdown",
   "source": [
    "# Mini-Progetto: Analisi dei Dati Fittizi\n",
    "---"
   ],
   "id": "eefc03fd9e808e4d"
  },
  {
   "metadata": {},
   "cell_type": "markdown",
   "source": "## Creazione Database Fittizio",
   "id": "c368d63895b7448b"
  },
  {
   "metadata": {
    "ExecuteTime": {
     "end_time": "2025-06-22T11:42:00.084438Z",
     "start_time": "2025-06-22T11:42:00.071750Z"
    }
   },
   "cell_type": "code",
   "source": [
    "# Impostiamo un seed per la riproducibilità\n",
    "np.random.seed(42)\n",
    "\n",
    "# --- Creazione del DataFrame Clienti ---\n",
    "num_clienti = 200\n",
    "clienti_data = {\n",
    "    'ID_Cliente': range(1, num_clienti + 1),\n",
    "    'Nome': [f'Cliente_{i}' for i in range(1, num_clienti + 1)],\n",
    "    'Citta': np.random.choice(['Roma', 'Milano', 'Napoli', 'Torino', 'Bologna'], num_clienti),\n",
    "    'Data_Iscrizione': pd.to_datetime(np.random.choice(pd.date_range('2022-01-01', '2023-12-31'), num_clienti)).date\n",
    "}\n",
    "clienti_df = pd.DataFrame(clienti_data)\n",
    "\n",
    "# --- Creazione del DataFrame Prodotti ---\n",
    "num_prodotti = 50\n",
    "prodotti_data = {\n",
    "    'ID_Prodotto': range(1, num_prodotti + 1),\n",
    "    'Nome_Prodotto': [f'Prodotto_{i}' for i in range(1, num_prodotti + 1)],\n",
    "    'Categoria': np.random.choice(['Elettronica', 'Abbigliamento', 'Casa', 'Alimentari'], num_prodotti),\n",
    "    'Prezzo': np.round(np.random.uniform(5.0, 500.0, num_prodotti), 2)\n",
    "}\n",
    "prodotti_df = pd.DataFrame(prodotti_data)\n",
    "\n",
    "# --- Creazione del DataFrame Ordini ---\n",
    "num_ordini = 1000\n",
    "ordini_data = {\n",
    "    'ID_Ordine': range(1, num_ordini + 1),\n",
    "    'ID_Cliente': np.random.randint(1, num_clienti + 1, num_ordini),\n",
    "    'Data_Ordine': pd.to_datetime(np.random.choice(pd.date_range('2024-01-01', '2024-06-30'), num_ordini)),\n",
    "    'Stato': np.random.choice(['Spedito', 'In attesa', 'Annullato'], num_ordini, p=[0.7, 0.2, 0.1])\n",
    "}\n",
    "ordini_df = pd.DataFrame(ordini_data)\n",
    "\n",
    "# --- Creazione del DataFrame Dettagli Ordine ---\n",
    "num_dettagli = 2500\n",
    "dettagli_data = {\n",
    "    'ID_Dettaglio': range(1, num_dettagli + 1),\n",
    "    'ID_Ordine': np.random.randint(1, num_ordini + 1, num_dettagli),\n",
    "    'ID_Prodotto': np.random.randint(1, num_prodotti + 1, num_dettagli),\n",
    "    'Quantita': np.random.randint(1, 6, num_dettagli)\n",
    "}\n",
    "dettagli_ordine_df = pd.DataFrame(dettagli_data)\n",
    "\n",
    "# Calcolo del Totale Ordine e aggiunta a ordini_df\n",
    "# (Questo richiede un merge, quindi lo facciamo qui per preparare i dati)\n",
    "dettagli_con_prezzo = pd.merge(dettagli_ordine_df, prodotti_df[['ID_Prodotto', 'Prezzo']], on='ID_Prodotto')\n",
    "dettagli_con_prezzo['Subtotale'] = dettagli_con_prezzo['Quantita'] * dettagli_con_prezzo['Prezzo']\n",
    "totali_ordine = dettagli_con_prezzo.groupby('ID_Ordine')['Subtotale'].sum().round(2)\n",
    "\n",
    "ordini_df = pd.merge(ordini_df, totali_ordine.rename('Totale_Ordine'), on='ID_Ordine', how='left')\n",
    "\n",
    "# Introduciamo qualche valore mancante per esercizio\n",
    "num_mancanti = 50\n",
    "indici_mancanti = np.random.choice(ordini_df.index, num_mancanti, replace=False)\n",
    "ordini_df.loc[indici_mancanti, 'Totale_Ordine'] = np.nan\n",
    "\n",
    "# Salvataggio in file CSV\n",
    "clienti_df.to_csv('clienti.csv', index=False)\n",
    "prodotti_df.to_csv('prodotti.csv', index=False)\n",
    "ordini_df.to_csv('ordini.csv', index=False)\n",
    "dettagli_ordine_df.to_csv('dettagli_ordine.csv', index=False)\n",
    "\n",
    "print(\"Database fittizio creato con successo! I file sono pronti.\")"
   ],
   "id": "a6cd0d3b91e22271",
   "outputs": [
    {
     "name": "stdout",
     "output_type": "stream",
     "text": [
      "Database fittizio creato con successo! I file sono pronti.\n"
     ]
    }
   ],
   "execution_count": 242
  },
  {
   "metadata": {},
   "cell_type": "markdown",
   "source": [
    "## Sezione 1: Caricamento e Ispezione (Facile)\n",
    "\n",
    "1. [X] Carica ordini.csv in un DataFrame chiamato ordini.\n",
    "2. [X] Mostra le prime 10 righe di ordini.\n",
    "3. [X] Usa .info() per ottenere un riepilogo del DataFrame ordini.\n",
    "4. [X] Usa .describe() per ottenere le statistiche descrittive delle colonne numeriche di ordini.\n",
    "5. [X] Conta quanti ordini ci sono per ogni Stato usando .value_counts()."
   ],
   "id": "66c577bc5ab6b031"
  },
  {
   "metadata": {
    "ExecuteTime": {
     "end_time": "2025-06-22T11:42:00.159858Z",
     "start_time": "2025-06-22T11:42:00.150564Z"
    }
   },
   "cell_type": "code",
   "source": [
    "# Punto 1\n",
    "try:\n",
    "    ordini = pd.read_csv('../Databases/ordini.csv')\n",
    "    print(\"Ordini.csv Caricato Correttamente!\")\n",
    "except FileNotFoundError:\n",
    "    print(\"File non trovato!\")\n",
    "# Punto 2\n",
    "print(\"--- Prime 10 righe del file ordini.csv ---\")\n",
    "print(ordini.head(10))\n",
    "# Punto 3\n",
    "print('--- Riepilogo del DataFrame ordini ---')\n",
    "print(ordini.info())\n",
    "# Putno 4\n",
    "print('--- Statistiche descrittive del DataFrame ordini ---')\n",
    "print(ordini.describe())\n",
    "# Punto 5\n",
    "print('--- Conteggio ordini per ogni stato ---')\n",
    "print(ordini['Stato'].value_counts())\n"
   ],
   "id": "1987dac98b0fb890",
   "outputs": [
    {
     "name": "stdout",
     "output_type": "stream",
     "text": [
      "Ordini.csv Caricato Correttamente!\n",
      "--- Prime 10 righe del file ordini.csv ---\n",
      "   ID_Ordine  ID_Cliente Data_Ordine      Stato  Totale_Ordine\n",
      "0          1         164  2024-03-22    Spedito         165.18\n",
      "1          2         138  2024-04-25    Spedito        2343.20\n",
      "2          3         101  2024-06-15    Spedito        3220.38\n",
      "3          4         152  2024-05-25    Spedito        3363.24\n",
      "4          5         192  2024-04-12  In attesa        4123.43\n",
      "5          6         177  2024-01-17    Spedito        5362.72\n",
      "6          7          99  2024-01-14    Spedito        2185.96\n",
      "7          8          36  2024-06-07    Spedito        1339.05\n",
      "8          9          96  2024-05-31    Spedito            NaN\n",
      "9         10         152  2024-04-17    Spedito        1052.65\n",
      "--- Riepilogo del DataFrame ordini ---\n",
      "<class 'pandas.core.frame.DataFrame'>\n",
      "RangeIndex: 1000 entries, 0 to 999\n",
      "Data columns (total 5 columns):\n",
      " #   Column         Non-Null Count  Dtype  \n",
      "---  ------         --------------  -----  \n",
      " 0   ID_Ordine      1000 non-null   int64  \n",
      " 1   ID_Cliente     1000 non-null   int64  \n",
      " 2   Data_Ordine    1000 non-null   object \n",
      " 3   Stato          1000 non-null   object \n",
      " 4   Totale_Ordine  864 non-null    float64\n",
      "dtypes: float64(1), int64(2), object(2)\n",
      "memory usage: 39.2+ KB\n",
      "None\n",
      "--- Statistiche descrittive del DataFrame ordini ---\n",
      "         ID_Ordine   ID_Cliente  Totale_Ordine\n",
      "count  1000.000000  1000.000000     864.000000\n",
      "mean    500.500000    98.922000    2169.558102\n",
      "std     288.819436    57.607904    1629.093166\n",
      "min       1.000000     1.000000      12.580000\n",
      "25%     250.750000    47.000000     960.005000\n",
      "50%     500.500000   100.000000    1861.700000\n",
      "75%     750.250000   148.000000    2999.422500\n",
      "max    1000.000000   200.000000   13480.110000\n",
      "--- Conteggio ordini per ogni stato ---\n",
      "Stato\n",
      "Spedito      694\n",
      "In attesa    217\n",
      "Annullato     89\n",
      "Name: count, dtype: int64\n"
     ]
    }
   ],
   "execution_count": 243
  },
  {
   "metadata": {},
   "cell_type": "markdown",
   "source": [
    "## Sezione 2: Pulizia e Preparazione (Facile-Medio)\n",
    "\n",
    "1. [X] Converti la colonna Data_Ordine del DataFrame ordini in formato datetime.\n",
    "2. [X] Imposta la colonna Data_Ordine come indice del DataFrame ordini.\n",
    "3. [X] Scopri quanti valori mancanti (NaN) ci sono nella colonna Totale_Ordine.\n",
    "4. [X] Sostituisci i valori NaN in Totale_Ordine con la media dei totali di tutti gli altri ordini.\n",
    "5. [X] Crea una nuova colonna in ordini chiamata IVA che contenga il 22% del Totale_Ordine.\n",
    "6. [X] Carica clienti.csv in un DataFrame clienti.\n",
    "7. [X] Carica prodotti.csv in un DataFrame prodotti.\n",
    "8. [X] Carica dettagli_ordine.csv in un DataFrame dettagli.\n",
    "9. [X] Verifica se ci sono ID_Cliente duplicati nel DataFrame clienti.\n",
    "10. [X] Rinomina la colonna Citta in clienti in Città_Cliente."
   ],
   "id": "c97ba04789b287c0"
  },
  {
   "metadata": {
    "ExecuteTime": {
     "end_time": "2025-06-22T11:42:00.231487Z",
     "start_time": "2025-06-22T11:42:00.229207Z"
    }
   },
   "cell_type": "code",
   "source": [
    "# Punto 1\n",
    "print(\"---Conversione della colonna 'Data_Ordine'---\")\n",
    "ordini['Data_Ordine'] = pd.to_datetime(ordini['Data_Ordine'])\n",
    "print('Conversione Effettuata')"
   ],
   "id": "232594aacc8dd92",
   "outputs": [
    {
     "name": "stdout",
     "output_type": "stream",
     "text": [
      "---Conversione della colonna 'Data_Ordine'---\n",
      "Conversione Effettuata\n"
     ]
    }
   ],
   "execution_count": 244
  },
  {
   "metadata": {
    "ExecuteTime": {
     "end_time": "2025-06-22T11:42:00.311248Z",
     "start_time": "2025-06-22T11:42:00.307700Z"
    }
   },
   "cell_type": "code",
   "source": [
    "# Punto 2\n",
    "print(\" --- Impostazione colonna Data_Ordine come indice\")\n",
    "ordini = ordini.set_index('Data_Ordine')\n",
    "print(ordini)"
   ],
   "id": "95dcf40acb0434c",
   "outputs": [
    {
     "name": "stdout",
     "output_type": "stream",
     "text": [
      " --- Impostazione colonna Data_Ordine come indice\n",
      "             ID_Ordine  ID_Cliente      Stato  Totale_Ordine\n",
      "Data_Ordine                                                 \n",
      "2024-03-22           1         164    Spedito         165.18\n",
      "2024-04-25           2         138    Spedito        2343.20\n",
      "2024-06-15           3         101    Spedito        3220.38\n",
      "2024-05-25           4         152    Spedito        3363.24\n",
      "2024-04-12           5         192  In attesa        4123.43\n",
      "...                ...         ...        ...            ...\n",
      "2024-05-05         996         137    Spedito          12.58\n",
      "2024-01-11         997         115    Spedito        1644.88\n",
      "2024-06-26         998         176    Spedito         979.92\n",
      "2024-06-07         999          72    Spedito        1918.28\n",
      "2024-02-25        1000          59    Spedito        1135.03\n",
      "\n",
      "[1000 rows x 4 columns]\n"
     ]
    }
   ],
   "execution_count": 245
  },
  {
   "metadata": {
    "ExecuteTime": {
     "end_time": "2025-06-22T11:42:00.386437Z",
     "start_time": "2025-06-22T11:42:00.384591Z"
    }
   },
   "cell_type": "code",
   "source": [
    "# Punto 3\n",
    "print('--- Osservazione valori mancanti (NAN) nella colonna Totale_Ordine')\n",
    "print(ordini['Totale_Ordine'].isnull().sum())\n"
   ],
   "id": "8bfb3a3e561611cd",
   "outputs": [
    {
     "name": "stdout",
     "output_type": "stream",
     "text": [
      "--- Osservazione valori mancanti (NAN) nella colonna Totale_Ordine\n",
      "136\n"
     ]
    }
   ],
   "execution_count": 246
  },
  {
   "metadata": {
    "ExecuteTime": {
     "end_time": "2025-06-22T11:42:00.465517Z",
     "start_time": "2025-06-22T11:42:00.463403Z"
    }
   },
   "cell_type": "code",
   "source": [
    "# Punto 4\n",
    "print('--- Sostituzione dei valori nulli con la media dei totali di tutti gli altri ordini ---')\n",
    "ordini['Totale_Ordine'] = ordini['Totale_Ordine'].fillna(ordini['Totale_Ordine'].mean())\n",
    "\n",
    "print('Numero di valori nulli rimasti:', ordini['Totale_Ordine'].isnull().sum())"
   ],
   "id": "47ceabbcef9726bd",
   "outputs": [
    {
     "name": "stdout",
     "output_type": "stream",
     "text": [
      "--- Sostituzione dei valori nulli con la media dei totali di tutti gli altri ordini ---\n",
      "Numero di valori nulli rimasti: 0\n"
     ]
    }
   ],
   "execution_count": 247
  },
  {
   "metadata": {
    "ExecuteTime": {
     "end_time": "2025-06-22T11:42:00.545419Z",
     "start_time": "2025-06-22T11:42:00.542920Z"
    }
   },
   "cell_type": "code",
   "source": [
    "# Punto 5\n",
    "print('--- Creazione nuova colonna chiamata IVA settata al 22% ---')\n",
    "ordini['IVA'] = ordini['Totale_Ordine']*0.22\n",
    "print(ordini['IVA'])"
   ],
   "id": "ad70206f6b477eb7",
   "outputs": [
    {
     "name": "stdout",
     "output_type": "stream",
     "text": [
      "--- Creazione nuova colonna chiamata IVA settata al 22% ---\n",
      "Data_Ordine\n",
      "2024-03-22     36.3396\n",
      "2024-04-25    515.5040\n",
      "2024-06-15    708.4836\n",
      "2024-05-25    739.9128\n",
      "2024-04-12    907.1546\n",
      "                ...   \n",
      "2024-05-05      2.7676\n",
      "2024-01-11    361.8736\n",
      "2024-06-26    215.5824\n",
      "2024-06-07    422.0216\n",
      "2024-02-25    249.7066\n",
      "Name: IVA, Length: 1000, dtype: float64\n"
     ]
    }
   ],
   "execution_count": 248
  },
  {
   "metadata": {
    "ExecuteTime": {
     "end_time": "2025-06-22T11:42:00.624395Z",
     "start_time": "2025-06-22T11:42:00.621618Z"
    }
   },
   "cell_type": "code",
   "source": [
    "#Punto 6\n",
    "try:\n",
    "    clienti = pd.read_csv('../Databases/clienti.csv')\n",
    "    print('clienti.csv caricato correttamente')\n",
    "except FileNotFoundError:\n",
    "    print('File non trovato')"
   ],
   "id": "fa24c5029e637028",
   "outputs": [
    {
     "name": "stdout",
     "output_type": "stream",
     "text": [
      "clienti.csv caricato correttamente\n"
     ]
    }
   ],
   "execution_count": 249
  },
  {
   "metadata": {
    "ExecuteTime": {
     "end_time": "2025-06-22T11:42:00.702573Z",
     "start_time": "2025-06-22T11:42:00.700061Z"
    }
   },
   "cell_type": "code",
   "source": [
    "#Punto 7\n",
    "try:\n",
    "    prodotti = pd.read_csv('../Databases/prodotti.csv')\n",
    "    print('prodotti.csv caricato correttamente')\n",
    "except FileNotFoundError:\n",
    "    print('File non trovato')"
   ],
   "id": "40597608cc946ad3",
   "outputs": [
    {
     "name": "stdout",
     "output_type": "stream",
     "text": [
      "prodotti.csv caricato correttamente\n"
     ]
    }
   ],
   "execution_count": 250
  },
  {
   "metadata": {
    "ExecuteTime": {
     "end_time": "2025-06-22T11:42:00.780139Z",
     "start_time": "2025-06-22T11:42:00.777603Z"
    }
   },
   "cell_type": "code",
   "source": [
    "#Punto 8\n",
    "try:\n",
    "    dettagli = pd.read_csv('../Databases/dettagli_ordine.csv')\n",
    "    print('dettagli_ordine.csv caricato correttamente')\n",
    "except FileNotFoundError:\n",
    "    print('File non trovato')"
   ],
   "id": "38d05ed6b2989c24",
   "outputs": [
    {
     "name": "stdout",
     "output_type": "stream",
     "text": [
      "dettagli_ordine.csv caricato correttamente\n"
     ]
    }
   ],
   "execution_count": 251
  },
  {
   "metadata": {
    "ExecuteTime": {
     "end_time": "2025-06-22T11:42:00.858062Z",
     "start_time": "2025-06-22T11:42:00.856148Z"
    }
   },
   "cell_type": "code",
   "source": [
    "# Punto 9\n",
    "print('Controllo se ci sono ID_Cliente duplicati nel Dataframe clienti')\n",
    "if clienti['ID_Cliente'].duplicated().sum() == 0:\n",
    "    print('Non ci sono duplicati')\n",
    "else:\n",
    "    print('Ci sono duplicati')"
   ],
   "id": "6e3af1a696043ba6",
   "outputs": [
    {
     "name": "stdout",
     "output_type": "stream",
     "text": [
      "Controllo se ci sono ID_Cliente duplicati nel Dataframe clienti\n",
      "Non ci sono duplicati\n"
     ]
    }
   ],
   "execution_count": 252
  },
  {
   "metadata": {
    "ExecuteTime": {
     "end_time": "2025-06-22T11:42:00.937280Z",
     "start_time": "2025-06-22T11:42:00.934902Z"
    }
   },
   "cell_type": "code",
   "source": [
    "# Punto 10\n",
    "print('--- Rinomino la colonna Città in clienti in Città_Clienti ---')\n",
    "clienti = clienti.rename(columns = {'Citta': 'Città_Cliente'})\n",
    "print(clienti['Città_Cliente'])"
   ],
   "id": "d3e3a3f86fc0d145",
   "outputs": [
    {
     "name": "stdout",
     "output_type": "stream",
     "text": [
      "--- Rinomino la colonna Città in clienti in Città_Clienti ---\n",
      "0       Torino\n",
      "1      Bologna\n",
      "2       Napoli\n",
      "3      Bologna\n",
      "4      Bologna\n",
      "        ...   \n",
      "195     Napoli\n",
      "196     Napoli\n",
      "197       Roma\n",
      "198    Bologna\n",
      "199     Torino\n",
      "Name: Città_Cliente, Length: 200, dtype: object\n"
     ]
    }
   ],
   "execution_count": 253
  },
  {
   "metadata": {},
   "cell_type": "markdown",
   "source": [
    "## Sezione 3: Selezione e Filtro (Medio)\n",
    "1. [X] Seleziona tutti gli ordini con Stato uguale a 'Annullato'.\n",
    "2. [X] Seleziona tutti gli ordini con un Totale_Ordine superiore a 1000€.\n",
    "3. [X] Seleziona gli ordini 'Spedito' con un totale superiore a 500€.\n",
    "4. [X] Seleziona tutti gli ordini effettuati nella prima settimana di marzo 2024.\n",
    "5. [X] Usa .iloc per selezionare le prime 50 righe e le prime 3 colonne di ordini.\n",
    "6. [X] Usa .loc per trovare il Totale_Ordine dell'ordine con ID_Ordine uguale a 100.\n",
    "7. [X] Carica clienti.csv e ordini.csv. Seleziona tutti gli ordini dei clienti di 'Roma'. (Richiede un merge, vedi Sezione 4).\n",
    "8. [X] Seleziona tutti i prodotti della categoria 'Elettronica'.\n",
    "9. [X] Seleziona tutti gli ordini che non sono nello stato 'In attesa'.\n",
    "10. [X] Seleziona tutti gli ordini effettuati di lunedì."
   ],
   "id": "3f2515686c5aa394"
  },
  {
   "metadata": {
    "ExecuteTime": {
     "end_time": "2025-06-22T11:42:01.017086Z",
     "start_time": "2025-06-22T11:42:01.014129Z"
    }
   },
   "cell_type": "code",
   "source": [
    "# Punto 1\n",
    "print(\"--- Selezione degli ordini che hanno stato = a annullato ---\")\n",
    "ordini_annullati = ordini.loc[ordini['Stato'] == 'Annullato'] #\n",
    "print(ordini_annullati)"
   ],
   "id": "feac781298461afc",
   "outputs": [
    {
     "name": "stdout",
     "output_type": "stream",
     "text": [
      "--- Selezione degli ordini che hanno stato = a annullato ---\n",
      "             ID_Ordine  ID_Cliente      Stato  Totale_Ordine          IVA\n",
      "Data_Ordine                                                              \n",
      "2024-01-16          26         112  Annullato    1694.480000   372.785600\n",
      "2024-06-21          55          57  Annullato    2169.558102   477.302782\n",
      "2024-03-08          59          42  Annullato    6733.320000  1481.330400\n",
      "2024-06-24          63         122  Annullato    2329.770000   512.549400\n",
      "2024-02-08          75         141  Annullato     173.610000    38.194200\n",
      "...                ...         ...        ...            ...          ...\n",
      "2024-02-02         950         102  Annullato    2169.558102   477.302782\n",
      "2024-01-14         953          19  Annullato    3915.200000   861.344000\n",
      "2024-05-28         967          83  Annullato    2169.558102   477.302782\n",
      "2024-03-08         970          81  Annullato    1170.100000   257.422000\n",
      "2024-05-07         974          25  Annullato    3538.070000   778.375400\n",
      "\n",
      "[89 rows x 5 columns]\n"
     ]
    }
   ],
   "execution_count": 254
  },
  {
   "metadata": {
    "ExecuteTime": {
     "end_time": "2025-06-22T11:42:01.095101Z",
     "start_time": "2025-06-22T11:42:01.091652Z"
    }
   },
   "cell_type": "code",
   "source": [
    "# Punto 2\n",
    "print(\"--- Selezione degli ordini con un totale_ordine > 1000\")\n",
    "ordini_maggiori_di_mille = ordini.loc[ordini['Totale_Ordine']>=1000]\n",
    "print(ordini_maggiori_di_mille)"
   ],
   "id": "63bb45020a2dacc3",
   "outputs": [
    {
     "name": "stdout",
     "output_type": "stream",
     "text": [
      "--- Selezione degli ordini con un totale_ordine > 1000\n",
      "             ID_Ordine  ID_Cliente      Stato  Totale_Ordine        IVA\n",
      "Data_Ordine                                                            \n",
      "2024-04-25           2         138    Spedito        2343.20   515.5040\n",
      "2024-06-15           3         101    Spedito        3220.38   708.4836\n",
      "2024-05-25           4         152    Spedito        3363.24   739.9128\n",
      "2024-04-12           5         192  In attesa        4123.43   907.1546\n",
      "2024-01-17           6         177    Spedito        5362.72  1179.7984\n",
      "...                ...         ...        ...            ...        ...\n",
      "2024-06-10         992          14    Spedito        2182.20   480.0840\n",
      "2024-03-29         994         117  In attesa        1673.09   368.0798\n",
      "2024-01-11         997         115    Spedito        1644.88   361.8736\n",
      "2024-06-07         999          72    Spedito        1918.28   422.0216\n",
      "2024-02-25        1000          59    Spedito        1135.03   249.7066\n",
      "\n",
      "[767 rows x 5 columns]\n"
     ]
    }
   ],
   "execution_count": 255
  },
  {
   "metadata": {
    "ExecuteTime": {
     "end_time": "2025-06-22T11:42:01.172881Z",
     "start_time": "2025-06-22T11:42:01.169523Z"
    }
   },
   "cell_type": "code",
   "source": [
    "# Punto 3\n",
    "print(\"--- Selezione degli ordini con un totale_ordine > 500 e stato = 'Spedito\")\n",
    "ordini_maggiori_di_cinquecento_e_spedito = ordini.loc[(ordini['Totale_Ordine']>=500) & (ordini['Stato'] == 'Spedito')] # NON VA END MA VA & PER AND LOGICO\n",
    "print(ordini_maggiori_di_cinquecento_e_spedito)"
   ],
   "id": "15f338e5914691e6",
   "outputs": [
    {
     "name": "stdout",
     "output_type": "stream",
     "text": [
      "--- Selezione degli ordini con un totale_ordine > 500 e stato = 'Spedito\n",
      "             ID_Ordine  ID_Cliente    Stato  Totale_Ordine        IVA\n",
      "Data_Ordine                                                          \n",
      "2024-04-25           2         138  Spedito        2343.20   515.5040\n",
      "2024-06-15           3         101  Spedito        3220.38   708.4836\n",
      "2024-05-25           4         152  Spedito        3363.24   739.9128\n",
      "2024-01-17           6         177  Spedito        5362.72  1179.7984\n",
      "2024-01-14           7          99  Spedito        2185.96   480.9112\n",
      "...                ...         ...      ...            ...        ...\n",
      "2024-05-09         995           7  Spedito         540.59   118.9298\n",
      "2024-01-11         997         115  Spedito        1644.88   361.8736\n",
      "2024-06-26         998         176  Spedito         979.92   215.5824\n",
      "2024-06-07         999          72  Spedito        1918.28   422.0216\n",
      "2024-02-25        1000          59  Spedito        1135.03   249.7066\n",
      "\n",
      "[616 rows x 5 columns]\n"
     ]
    }
   ],
   "execution_count": 256
  },
  {
   "metadata": {
    "ExecuteTime": {
     "end_time": "2025-06-22T11:42:01.250076Z",
     "start_time": "2025-06-22T11:42:01.246038Z"
    }
   },
   "cell_type": "code",
   "source": [
    "# Punto 4\n",
    "print(\"--- Selezione degli ordini effettuati nella prima metà settimana di marzo ---\")\n",
    "ordini = ordini.sort_index() # PER ORDINARE IL DATASET -> IMPORTANTE ALTRIMENTI NON FUNZIONA\n",
    "ordini_eseguiti = ordini.loc['2024-03-01':'2024-03-07']\n",
    "print(ordini_eseguiti)"
   ],
   "id": "5187e7c806ed5671",
   "outputs": [
    {
     "name": "stdout",
     "output_type": "stream",
     "text": [
      "--- Selezione degli ordini effettuati nella prima metà settimana di marzo ---\n",
      "             ID_Ordine  ID_Cliente      Stato  Totale_Ordine          IVA\n",
      "Data_Ordine                                                              \n",
      "2024-03-01         109         195    Spedito    2876.830000   632.902600\n",
      "2024-03-01          72         145    Spedito    3864.010000   850.082200\n",
      "2024-03-01         384          18  In attesa    2111.320000   464.490400\n",
      "2024-03-02         156           3    Spedito    3130.490000   688.707800\n",
      "2024-03-02          43         111    Spedito    2169.558102   477.302782\n",
      "2024-03-02         400          25  In attesa    4838.730000  1064.520600\n",
      "2024-03-02         398         145  In attesa    2169.558102   477.302782\n",
      "2024-03-02         498          13    Spedito     253.010000    55.662200\n",
      "2024-03-02          80          27    Spedito    2169.558102   477.302782\n",
      "2024-03-02         114         148    Spedito    1798.410000   395.650200\n",
      "2024-03-03         625          36    Spedito    1205.310000   265.168200\n",
      "2024-03-03         324         160    Spedito     695.960000   153.111200\n",
      "2024-03-03          89         109  Annullato    1727.730000   380.100600\n",
      "2024-03-03          76         168    Spedito    5122.300000  1126.906000\n",
      "2024-03-03         218         129    Spedito    3305.860000   727.289200\n",
      "2024-03-04         330          21  In attesa     176.420000    38.812400\n",
      "2024-03-04         334          61  In attesa    1555.200000   342.144000\n",
      "2024-03-04         288          81    Spedito    2255.360000   496.179200\n",
      "2024-03-04         536          14  In attesa    1017.920000   223.942400\n",
      "2024-03-04         805         182    Spedito    2913.350000   640.937000\n",
      "2024-03-05         954         101    Spedito     171.590000    37.749800\n",
      "2024-03-05         653         120  In attesa    2085.340000   458.774800\n",
      "2024-03-05         890          12  In attesa    5194.110000  1142.704200\n",
      "2024-03-05          52          53    Spedito     472.400000   103.928000\n",
      "2024-03-06         904         193  Annullato    1237.050000   272.151000\n",
      "2024-03-06         510          38  In attesa     751.620000   165.356400\n",
      "2024-03-06         941         104  In attesa    2169.558102   477.302782\n",
      "2024-03-06         468         133  In attesa    1164.600000   256.212000\n",
      "2024-03-07         159          12  In attesa    2169.558102   477.302782\n",
      "2024-03-07         810          74    Spedito     930.080000   204.617600\n",
      "2024-03-07         846         120    Spedito     532.290000   117.103800\n",
      "2024-03-07         909          26    Spedito    1468.150000   322.993000\n",
      "2024-03-07         129         166  Annullato    4354.350000   957.957000\n",
      "2024-03-07         932         109    Spedito    2571.550000   565.741000\n"
     ]
    }
   ],
   "execution_count": 257
  },
  {
   "metadata": {
    "ExecuteTime": {
     "end_time": "2025-06-22T11:42:01.326416Z",
     "start_time": "2025-06-22T11:42:01.323744Z"
    }
   },
   "cell_type": "code",
   "source": [
    "# Punto 5\n",
    "print('--- Prime 50 righe e 3 colonne degli ordini ---')\n",
    "print(ordini.iloc[:50,:3])"
   ],
   "id": "3aa9e0a30575d221",
   "outputs": [
    {
     "name": "stdout",
     "output_type": "stream",
     "text": [
      "--- Prime 50 righe e 3 colonne degli ordini ---\n",
      "             ID_Ordine  ID_Cliente      Stato\n",
      "Data_Ordine                                  \n",
      "2024-01-01         529         150    Spedito\n",
      "2024-01-01         616          47  In attesa\n",
      "2024-01-01         560         166  Annullato\n",
      "2024-01-01         534          11    Spedito\n",
      "2024-01-01         281         191    Spedito\n",
      "2024-01-02         804         165    Spedito\n",
      "2024-01-02         725         199    Spedito\n",
      "2024-01-02         492          10  Annullato\n",
      "2024-01-02         364          99    Spedito\n",
      "2024-01-02         907          36    Spedito\n",
      "2024-01-02         201          33    Spedito\n",
      "2024-01-02         855          25    Spedito\n",
      "2024-01-03          97          70    Spedito\n",
      "2024-01-03          54         144    Spedito\n",
      "2024-01-03         671         149    Spedito\n",
      "2024-01-03         850         115  In attesa\n",
      "2024-01-03         879          76  In attesa\n",
      "2024-01-03         116          61  Annullato\n",
      "2024-01-03         411         168  Annullato\n",
      "2024-01-04         255          50    Spedito\n",
      "2024-01-04          21          30    Spedito\n",
      "2024-01-04          84          29    Spedito\n",
      "2024-01-04         455         118    Spedito\n",
      "2024-01-05         597          66    Spedito\n",
      "2024-01-05         839         172    Spedito\n",
      "2024-01-05         139         149    Spedito\n",
      "2024-01-05         512          94    Spedito\n",
      "2024-01-05         101         108    Spedito\n",
      "2024-01-05         100         189  In attesa\n",
      "2024-01-05         991         135    Spedito\n",
      "2024-01-05         887         134    Spedito\n",
      "2024-01-06          99          19  In attesa\n",
      "2024-01-06         914          11  In attesa\n",
      "2024-01-06         166         117  In attesa\n",
      "2024-01-06         278          79  Annullato\n",
      "2024-01-06         472          68    Spedito\n",
      "2024-01-06         388         192    Spedito\n",
      "2024-01-07         807          55  In attesa\n",
      "2024-01-07         185         141  In attesa\n",
      "2024-01-07         934         194    Spedito\n",
      "2024-01-07         746          29    Spedito\n",
      "2024-01-07         242         113    Spedito\n",
      "2024-01-07         732          86    Spedito\n",
      "2024-01-07         403          67    Spedito\n",
      "2024-01-08         844          81    Spedito\n",
      "2024-01-08         590         185    Spedito\n",
      "2024-01-08         394          86    Spedito\n",
      "2024-01-08         861          29    Spedito\n",
      "2024-01-08         532          93    Spedito\n",
      "2024-01-08         593         183  In attesa\n"
     ]
    }
   ],
   "execution_count": 258
  },
  {
   "metadata": {
    "ExecuteTime": {
     "end_time": "2025-06-22T11:42:01.404039Z",
     "start_time": "2025-06-22T11:42:01.401478Z"
    }
   },
   "cell_type": "code",
   "source": [
    "# Punto 6\n",
    "print(\"--- Dobbiamo trovare il Totale_Ordine dell'ordine con ID_Ordine uguale a 100 --- \")\n",
    "# Trova la riga dove ID_Ordine è 100 e seleziona solo la colonna 'Totale_Ordine'\n",
    "totale_ordine_100 = ordini.loc[ordini['ID_Ordine'] == 100, 'Totale_Ordine']\n",
    "print(totale_ordine_100)"
   ],
   "id": "31b6e6d76b318d88",
   "outputs": [
    {
     "name": "stdout",
     "output_type": "stream",
     "text": [
      "--- Dobbiamo trovare il Totale_Ordine dell'ordine con ID_Ordine uguale a 100 --- \n",
      "Data_Ordine\n",
      "2024-01-05    2219.55\n",
      "Name: Totale_Ordine, dtype: float64\n"
     ]
    }
   ],
   "execution_count": 259
  },
  {
   "metadata": {
    "ExecuteTime": {
     "end_time": "2025-06-22T11:42:01.490587Z",
     "start_time": "2025-06-22T11:42:01.484209Z"
    }
   },
   "cell_type": "code",
   "source": [
    "# Punto 7\n",
    "print('--- Creazione DataFrame mergato con Clienti e Ordini')\n",
    "df_merge = pd.merge(clienti,ordini, on='ID_Cliente', how = 'left')\n",
    "print(df_merge)\n",
    "print('--- Ricerca ordini con Città_Cliente = Roma ')\n",
    "ordini_roma = df_merge.loc[df_merge['Città_Cliente'] == 'Roma']\n",
    "print(ordini_roma)"
   ],
   "id": "fa2fa9ed1c2cf717",
   "outputs": [
    {
     "name": "stdout",
     "output_type": "stream",
     "text": [
      "--- Creazione DataFrame mergato con Clienti e Ordini\n",
      "      ID_Cliente         Nome Città_Cliente Data_Iscrizione  ID_Ordine  \\\n",
      "0              1    Cliente_1        Torino      2023-09-02      236.0   \n",
      "1              1    Cliente_1        Torino      2023-09-02      668.0   \n",
      "2              1    Cliente_1        Torino      2023-09-02      526.0   \n",
      "3              1    Cliente_1        Torino      2023-09-02      152.0   \n",
      "4              1    Cliente_1        Torino      2023-09-02      677.0   \n",
      "...          ...          ...           ...             ...        ...   \n",
      "996          200  Cliente_200        Torino      2023-08-27      973.0   \n",
      "997          200  Cliente_200        Torino      2023-08-27      579.0   \n",
      "998          200  Cliente_200        Torino      2023-08-27      162.0   \n",
      "999          200  Cliente_200        Torino      2023-08-27      636.0   \n",
      "1000         200  Cliente_200        Torino      2023-08-27      115.0   \n",
      "\n",
      "          Stato  Totale_Ordine         IVA  \n",
      "0     In attesa     271.990000   59.837800  \n",
      "1     In attesa    1684.800000  370.656000  \n",
      "2       Spedito    2996.190000  659.161800  \n",
      "3       Spedito    2169.558102  477.302782  \n",
      "4       Spedito     825.070000  181.515400  \n",
      "...         ...            ...         ...  \n",
      "996     Spedito    2592.070000  570.255400  \n",
      "997     Spedito     766.960000  168.731200  \n",
      "998     Spedito     373.140000   82.090800  \n",
      "999     Spedito     173.610000   38.194200  \n",
      "1000    Spedito    2121.760000  466.787200  \n",
      "\n",
      "[1001 rows x 8 columns]\n",
      "--- Ricerca ordini con Città_Cliente = Roma \n",
      "     ID_Cliente         Nome Città_Cliente Data_Iscrizione  ID_Ordine  \\\n",
      "95           19   Cliente_19          Roma      2023-05-04       99.0   \n",
      "96           19   Cliente_19          Roma      2023-05-04      953.0   \n",
      "97           19   Cliente_19          Roma      2023-05-04      473.0   \n",
      "98           19   Cliente_19          Roma      2023-05-04       30.0   \n",
      "99           19   Cliente_19          Roma      2023-05-04      106.0   \n",
      "..          ...          ...           ...             ...        ...   \n",
      "986         198  Cliente_198          Roma      2023-10-19      972.0   \n",
      "987         198  Cliente_198          Roma      2023-10-19      574.0   \n",
      "988         198  Cliente_198          Roma      2023-10-19      431.0   \n",
      "989         198  Cliente_198          Roma      2023-10-19      714.0   \n",
      "990         198  Cliente_198          Roma      2023-10-19      425.0   \n",
      "\n",
      "         Stato  Totale_Ordine         IVA  \n",
      "95   In attesa     711.780000  156.591600  \n",
      "96   Annullato    3915.200000  861.344000  \n",
      "97   In attesa     121.450000   26.719000  \n",
      "98   In attesa    2169.558102  477.302782  \n",
      "99     Spedito    2169.558102  477.302782  \n",
      "..         ...            ...         ...  \n",
      "986  In attesa    1398.350000  307.637000  \n",
      "987    Spedito    1894.430000  416.774600  \n",
      "988    Spedito      91.790000   20.193800  \n",
      "989  Annullato    1848.640000  406.700800  \n",
      "990    Spedito    3889.560000  855.703200  \n",
      "\n",
      "[212 rows x 8 columns]\n"
     ]
    }
   ],
   "execution_count": 260
  },
  {
   "metadata": {
    "ExecuteTime": {
     "end_time": "2025-06-22T11:42:01.574801Z",
     "start_time": "2025-06-22T11:42:01.571687Z"
    }
   },
   "cell_type": "code",
   "source": [
    "# Punto 8\n",
    "print('Selezione di tutti i prodotti di categoria Elettronica')\n",
    "cat_elettronica = prodotti.loc[prodotti['Categoria'] =='Elettronica']\n",
    "print(cat_elettronica)"
   ],
   "id": "bdd5cdb2f8addf99",
   "outputs": [
    {
     "name": "stdout",
     "output_type": "stream",
     "text": [
      "Selezione di tutti i prodotti di categoria Elettronica\n",
      "    ID_Prodotto Nome_Prodotto    Categoria  Prezzo\n",
      "3             4    Prodotto_4  Elettronica   13.49\n",
      "5             6    Prodotto_6  Elettronica  404.42\n",
      "9            10   Prodotto_10  Elettronica   28.79\n",
      "11           12   Prodotto_12  Elettronica  443.91\n",
      "12           13   Prodotto_13  Elettronica  134.14\n",
      "15           16   Prodotto_16  Elettronica  253.01\n",
      "22           23   Prodotto_23  Elettronica  320.02\n",
      "24           25   Prodotto_25  Elettronica  340.20\n",
      "25           26   Prodotto_26  Elettronica  288.82\n",
      "26           27   Prodotto_27  Elettronica   68.61\n",
      "28           29   Prodotto_29  Elettronica  411.22\n",
      "32           33   Prodotto_33  Elettronica  107.31\n",
      "34           35   Prodotto_35  Elettronica  111.22\n",
      "41           42   Prodotto_42  Elettronica  342.40\n",
      "43           44   Prodotto_44  Elettronica  134.04\n",
      "44           45   Prodotto_45  Elettronica  250.54\n",
      "47           48   Prodotto_48  Elettronica  468.64\n",
      "49           50   Prodotto_50  Elettronica  211.88\n"
     ]
    }
   ],
   "execution_count": 261
  },
  {
   "metadata": {
    "ExecuteTime": {
     "end_time": "2025-06-22T11:42:01.654373Z",
     "start_time": "2025-06-22T11:42:01.651091Z"
    }
   },
   "cell_type": "code",
   "source": [
    "# Punto 9\n",
    "print('--- Ordini che non hanno stato in attesa ---')\n",
    "ordini_non_attesa = ordini.loc[ordini['Stato'] != 'In attesa']\n",
    "print(ordini_non_attesa)"
   ],
   "id": "cd92a603c74612af",
   "outputs": [
    {
     "name": "stdout",
     "output_type": "stream",
     "text": [
      "--- Ordini che non hanno stato in attesa ---\n",
      "             ID_Ordine  ID_Cliente      Stato  Totale_Ordine        IVA\n",
      "Data_Ordine                                                            \n",
      "2024-01-01         529         150    Spedito        1228.79   270.3338\n",
      "2024-01-01         560         166  Annullato        5272.04  1159.8488\n",
      "2024-01-01         534          11    Spedito        3144.33   691.7526\n",
      "2024-01-01         281         191    Spedito        1059.40   233.0680\n",
      "2024-01-02         804         165    Spedito        2117.73   465.9006\n",
      "...                ...         ...        ...            ...        ...\n",
      "2024-06-29         569         104    Spedito        4231.60   930.9520\n",
      "2024-06-29         309          80    Spedito        2407.20   529.5840\n",
      "2024-06-29          64         133    Spedito         557.10   122.5620\n",
      "2024-06-29         180         155    Spedito        3712.09   816.6598\n",
      "2024-06-30         445          31    Spedito        1920.45   422.4990\n",
      "\n",
      "[783 rows x 5 columns]\n"
     ]
    }
   ],
   "execution_count": 262
  },
  {
   "metadata": {
    "ExecuteTime": {
     "end_time": "2025-06-22T11:42:01.729773Z",
     "start_time": "2025-06-22T11:42:01.726578Z"
    }
   },
   "cell_type": "code",
   "source": [
    "# Punto 10\n",
    "print(\"--- Selezione degli ordini effettuati di lunedì ---\")\n",
    "# .dt.dayofweek restituisce un numero da 0 (lunedì) a 6 (domenica)\n",
    "ordini_lunedi = ordini[ordini.index.dayofweek == 0]\n",
    "print(ordini_lunedi)"
   ],
   "id": "c4375c5f9b5e52de",
   "outputs": [
    {
     "name": "stdout",
     "output_type": "stream",
     "text": [
      "--- Selezione degli ordini effettuati di lunedì ---\n",
      "             ID_Ordine  ID_Cliente      Stato  Totale_Ordine        IVA\n",
      "Data_Ordine                                                            \n",
      "2024-01-01         529         150    Spedito        1228.79   270.3338\n",
      "2024-01-01         616          47  In attesa        3495.47   769.0034\n",
      "2024-01-01         560         166  Annullato        5272.04  1159.8488\n",
      "2024-01-01         534          11    Spedito        3144.33   691.7526\n",
      "2024-01-01         281         191    Spedito        1059.40   233.0680\n",
      "...                ...         ...        ...            ...        ...\n",
      "2024-06-24         794         162    Spedito        3491.31   768.0882\n",
      "2024-06-24         630         148    Spedito        4087.24   899.1928\n",
      "2024-06-24         150         143  In attesa        1354.33   297.9526\n",
      "2024-06-24         323          93    Spedito         434.26    95.5372\n",
      "2024-06-24          63         122  Annullato        2329.77   512.5494\n",
      "\n",
      "[133 rows x 5 columns]\n"
     ]
    }
   ],
   "execution_count": 263
  },
  {
   "metadata": {},
   "cell_type": "markdown",
   "source": [
    "## Sezione 4: Combinazione di Dati (Medio-Difficile)\n",
    "1. [X] Unisci i DataFrame ordini e clienti in un nuovo DataFrame ordini_clienti.\n",
    "2. [X] Unisci ordini_clienti con dettagli per aggiungere i dettagli di ogni ordine.\n",
    "3. [X] Completa l'unione aggiungendo le informazioni dei prodotti al DataFrame precedente.\n",
    "4. [X] Trova i clienti che non hanno mai effettuato un ordine.\n",
    "5. [X] Trova i prodotti che non sono mai stati venduti.\n",
    "6. [X] Calcola il ricavo totale per ogni riga in dettagli (Quantità * Prezzo).\n",
    "7. [X] Crea un ordini_extra.csv (puoi copiare una parte di ordini.csv) e usa pd.concat per aggiungerlo in fondo a ordini.\n",
    "8. [X] Scopri qual è il prodotto più costoso e quello meno costoso.\n",
    "9. [X] Unisci ordini e clienti usando un outer join per mantenere tutti i clienti e tutti gli ordini.\n",
    "10. [X] Trova l'ID del cliente che ha fatto l'ordine con il totale più alto."
   ],
   "id": "6d172717d17ed66d"
  },
  {
   "metadata": {
    "ExecuteTime": {
     "end_time": "2025-06-22T11:42:01.811943Z",
     "start_time": "2025-06-22T11:42:01.807296Z"
    }
   },
   "cell_type": "code",
   "source": [
    "#Punto 1\n",
    "print('--- Merge dei dataframe ordini e clienti ---')\n",
    "ordini_clienti = pd.merge(ordini,clienti, on = 'ID_Cliente', how = 'right')\n",
    "print(ordini_clienti)"
   ],
   "id": "a729f545eb1a58f0",
   "outputs": [
    {
     "name": "stdout",
     "output_type": "stream",
     "text": [
      "--- Merge dei dataframe ordini e clienti ---\n",
      "      ID_Ordine  ID_Cliente      Stato  Totale_Ordine         IVA  \\\n",
      "0         236.0           1  In attesa     271.990000   59.837800   \n",
      "1         668.0           1  In attesa    1684.800000  370.656000   \n",
      "2         526.0           1    Spedito    2996.190000  659.161800   \n",
      "3         152.0           1    Spedito    2169.558102  477.302782   \n",
      "4         677.0           1    Spedito     825.070000  181.515400   \n",
      "...         ...         ...        ...            ...         ...   \n",
      "996       973.0         200    Spedito    2592.070000  570.255400   \n",
      "997       579.0         200    Spedito     766.960000  168.731200   \n",
      "998       162.0         200    Spedito     373.140000   82.090800   \n",
      "999       636.0         200    Spedito     173.610000   38.194200   \n",
      "1000      115.0         200    Spedito    2121.760000  466.787200   \n",
      "\n",
      "             Nome Città_Cliente Data_Iscrizione  \n",
      "0       Cliente_1        Torino      2023-09-02  \n",
      "1       Cliente_1        Torino      2023-09-02  \n",
      "2       Cliente_1        Torino      2023-09-02  \n",
      "3       Cliente_1        Torino      2023-09-02  \n",
      "4       Cliente_1        Torino      2023-09-02  \n",
      "...           ...           ...             ...  \n",
      "996   Cliente_200        Torino      2023-08-27  \n",
      "997   Cliente_200        Torino      2023-08-27  \n",
      "998   Cliente_200        Torino      2023-08-27  \n",
      "999   Cliente_200        Torino      2023-08-27  \n",
      "1000  Cliente_200        Torino      2023-08-27  \n",
      "\n",
      "[1001 rows x 8 columns]\n"
     ]
    }
   ],
   "execution_count": 264
  },
  {
   "metadata": {
    "ExecuteTime": {
     "end_time": "2025-06-22T11:42:01.890195Z",
     "start_time": "2025-06-22T11:42:01.883458Z"
    }
   },
   "cell_type": "code",
   "source": [
    "#Punto 2\n",
    "print('--- Merge dei dataframe ordini_clienti e dettagli_ordine ---')\n",
    "try:\n",
    "    dettagli_ordine =  pd.read_csv('../Databases/dettagli_ordine.csv')\n",
    "    print('File dettagli_ordine.csv aperto')\n",
    "except FileNotFoundError:\n",
    "    print('File non trovato')\n",
    "ordini_dettagli = pd.merge(ordini_clienti,dettagli_ordine, on = 'ID_Ordine', how = 'left')\n",
    "print(ordini_dettagli)"
   ],
   "id": "29e2d8506564c39f",
   "outputs": [
    {
     "name": "stdout",
     "output_type": "stream",
     "text": [
      "--- Merge dei dataframe ordini_clienti e dettagli_ordine ---\n",
      "File dettagli_ordine.csv aperto\n",
      "      ID_Ordine  ID_Cliente      Stato  Totale_Ordine       IVA         Nome  \\\n",
      "0         236.0           1  In attesa         271.99   59.8378    Cliente_1   \n",
      "1         668.0           1  In attesa        1684.80  370.6560    Cliente_1   \n",
      "2         668.0           1  In attesa        1684.80  370.6560    Cliente_1   \n",
      "3         668.0           1  In attesa        1684.80  370.6560    Cliente_1   \n",
      "4         526.0           1    Spedito        2996.19  659.1618    Cliente_1   \n",
      "...         ...         ...        ...            ...       ...          ...   \n",
      "2584      162.0         200    Spedito         373.14   82.0908  Cliente_200   \n",
      "2585      162.0         200    Spedito         373.14   82.0908  Cliente_200   \n",
      "2586      636.0         200    Spedito         173.61   38.1942  Cliente_200   \n",
      "2587      115.0         200    Spedito        2121.76  466.7872  Cliente_200   \n",
      "2588      115.0         200    Spedito        2121.76  466.7872  Cliente_200   \n",
      "\n",
      "     Città_Cliente Data_Iscrizione  ID_Dettaglio  ID_Prodotto  Quantita  \n",
      "0           Torino      2023-09-02        1595.0         17.0       1.0  \n",
      "1           Torino      2023-09-02         135.0         30.0       2.0  \n",
      "2           Torino      2023-09-02        1086.0         49.0       5.0  \n",
      "3           Torino      2023-09-02        1928.0         38.0       3.0  \n",
      "4           Torino      2023-09-02         616.0         16.0       3.0  \n",
      "...            ...             ...           ...          ...       ...  \n",
      "2584        Torino      2023-08-27         430.0         46.0       1.0  \n",
      "2585        Torino      2023-08-27        2023.0         14.0       2.0  \n",
      "2586        Torino      2023-08-27         661.0         43.0       1.0  \n",
      "2587        Torino      2023-08-27        1001.0         11.0       4.0  \n",
      "2588        Torino      2023-08-27        1922.0         35.0       2.0  \n",
      "\n",
      "[2589 rows x 11 columns]\n"
     ]
    }
   ],
   "execution_count": 265
  },
  {
   "metadata": {
    "ExecuteTime": {
     "end_time": "2025-06-22T11:42:01.964949Z",
     "start_time": "2025-06-22T11:42:01.959360Z"
    }
   },
   "cell_type": "code",
   "source": [
    "print('---Creazione df_completo---')\n",
    "df_completo = pd.merge(ordini_dettagli, prodotti, on='ID_Prodotto', how='left')\n",
    "\n",
    "print(df_completo.head())"
   ],
   "id": "215c1586678acfed",
   "outputs": [
    {
     "name": "stdout",
     "output_type": "stream",
     "text": [
      "---Creazione df_completo---\n",
      "   ID_Ordine  ID_Cliente      Stato  Totale_Ordine       IVA       Nome  \\\n",
      "0      236.0           1  In attesa         271.99   59.8378  Cliente_1   \n",
      "1      668.0           1  In attesa        1684.80  370.6560  Cliente_1   \n",
      "2      668.0           1  In attesa        1684.80  370.6560  Cliente_1   \n",
      "3      668.0           1  In attesa        1684.80  370.6560  Cliente_1   \n",
      "4      526.0           1    Spedito        2996.19  659.1618  Cliente_1   \n",
      "\n",
      "  Città_Cliente Data_Iscrizione  ID_Dettaglio  ID_Prodotto  Quantita  \\\n",
      "0        Torino      2023-09-02        1595.0         17.0       1.0   \n",
      "1        Torino      2023-09-02         135.0         30.0       2.0   \n",
      "2        Torino      2023-09-02        1086.0         49.0       5.0   \n",
      "3        Torino      2023-09-02        1928.0         38.0       3.0   \n",
      "4        Torino      2023-09-02         616.0         16.0       3.0   \n",
      "\n",
      "  Nome_Prodotto    Categoria  Prezzo  \n",
      "0   Prodotto_17         Casa  271.99  \n",
      "1   Prodotto_30         Casa  314.84  \n",
      "2   Prodotto_49         Casa   24.40  \n",
      "3   Prodotto_38   Alimentari  311.04  \n",
      "4   Prodotto_16  Elettronica  253.01  \n"
     ]
    }
   ],
   "execution_count": 266
  },
  {
   "metadata": {
    "ExecuteTime": {
     "end_time": "2025-06-22T14:49:44.345216Z",
     "start_time": "2025-06-22T14:49:44.341203Z"
    }
   },
   "cell_type": "code",
   "source": [
    "#Punto 4\n",
    "print('--- Clienti che non hanno mai effettuato un ordine ---')\n",
    "# Partiamo da clienti e uniamo gli ordini\n",
    "clienti_con_ordini = pd.merge(clienti, ordini, on='ID_Cliente', how='left')\n",
    "\n",
    "# Ora cerchiamo i NaN nella colonna degli ordini\n",
    "clienti_senza_ordini = clienti_con_ordini[clienti_con_ordini['ID_Ordine'].isnull()]"
   ],
   "id": "1a61e1c5bd3b3fb2",
   "outputs": [
    {
     "name": "stdout",
     "output_type": "stream",
     "text": [
      "--- Clienti che non hanno mai effettuato un ordine ---\n"
     ]
    }
   ],
   "execution_count": 315
  },
  {
   "metadata": {
    "ExecuteTime": {
     "end_time": "2025-06-22T11:42:02.119231Z",
     "start_time": "2025-06-22T11:42:02.115108Z"
    }
   },
   "cell_type": "code",
   "source": [
    "#Punto 5\n",
    "print('--- Prodotti che non sono stati venduti --- ')\n",
    "df_completo = pd.merge(ordini_dettagli, prodotti, on='ID_Prodotto', how='right')\n",
    "prodotti_non_venduti = df_completo.loc[df_completo['ID_Ordine'].isnull()]\n",
    "print(prodotti_non_venduti)"
   ],
   "id": "290531bba54bb6b0",
   "outputs": [
    {
     "name": "stdout",
     "output_type": "stream",
     "text": [
      "--- Prodotti che non sono stati venduti --- \n",
      "Empty DataFrame\n",
      "Columns: [ID_Ordine, ID_Cliente, Stato, Totale_Ordine, IVA, Nome, Città_Cliente, Data_Iscrizione, ID_Dettaglio, ID_Prodotto, Quantita, Nome_Prodotto, Categoria, Prezzo]\n",
      "Index: []\n"
     ]
    }
   ],
   "execution_count": 268
  },
  {
   "metadata": {
    "ExecuteTime": {
     "end_time": "2025-06-22T11:47:57.329357Z",
     "start_time": "2025-06-22T11:47:57.323983Z"
    }
   },
   "cell_type": "code",
   "source": [
    "#Punto 6\n",
    "print('--- Calcolo del ricavo totale per ogni riga in dettagli (Quantità * Prezzo) ---')\n",
    "df_DettagliOrdini_Prodotti = pd.merge(dettagli_ordine, prodotti, on = 'ID_Prodotto')\n",
    "print(df_DettagliOrdini_Prodotti)\n",
    "df_DettagliOrdini_Prodotti['Ricavo'] = df_DettagliOrdini_Prodotti['Quantita']* df_DettagliOrdini_Prodotti['Prezzo']\n"
   ],
   "id": "af6b7e8478ca6254",
   "outputs": [
    {
     "name": "stdout",
     "output_type": "stream",
     "text": [
      "--- Calcolo del ricavo totale per ogni riga in dettagli (Quantità * Prezzo) ---\n",
      "      ID_Dettaglio  ID_Ordine  ID_Prodotto  Quantita Nome_Prodotto  \\\n",
      "0                1        228           37         5   Prodotto_37   \n",
      "1                2        623           29         5   Prodotto_29   \n",
      "2                3        307            3         5    Prodotto_3   \n",
      "3                4        457           15         2   Prodotto_15   \n",
      "4                5        160           36         4   Prodotto_36   \n",
      "...            ...        ...          ...       ...           ...   \n",
      "2495          2496        970            3         4    Prodotto_3   \n",
      "2496          2497         71           10         2   Prodotto_10   \n",
      "2497          2498        180            5         3    Prodotto_5   \n",
      "2498          2499        124           46         4   Prodotto_46   \n",
      "2499          2500        381           26         4   Prodotto_26   \n",
      "\n",
      "          Categoria  Prezzo  \n",
      "0              Casa   24.29  \n",
      "1       Elettronica  411.22  \n",
      "2     Abbigliamento   91.79  \n",
      "3     Abbigliamento  467.05  \n",
      "4              Casa  191.74  \n",
      "...             ...     ...  \n",
      "2495  Abbigliamento   91.79  \n",
      "2496    Elettronica   28.79  \n",
      "2497  Abbigliamento  382.87  \n",
      "2498  Abbigliamento  347.98  \n",
      "2499    Elettronica  288.82  \n",
      "\n",
      "[2500 rows x 7 columns]\n"
     ]
    }
   ],
   "execution_count": 278
  },
  {
   "metadata": {
    "ExecuteTime": {
     "end_time": "2025-06-22T11:51:36.474268Z",
     "start_time": "2025-06-22T11:51:36.466606Z"
    }
   },
   "cell_type": "code",
   "source": [
    "#Punto 7\n",
    "#Crea un ordini_extra.csv (puoi copiare una parte di ordini.csv) e usa pd.concat per aggiungerlo in fondo a ordini.\n",
    "print('--- Creazione ordini_extra.csv + concat con ordini ---')\n",
    "# Codice da eseguire per creare il file\n",
    "dati_extra = {\n",
    "    'ID_Ordine': range(1001, 1011),\n",
    "    'ID_Cliente': np.random.randint(1, 50, 10),\n",
    "    'Data_Ordine': pd.to_datetime(np.random.choice(pd.date_range('2024-07-01', '2024-07-02'), 10)),\n",
    "    'Stato': np.random.choice(['In attesa', 'Spedito'], 10),\n",
    "    'Totale_Ordine': np.round(np.random.uniform(20.0, 300.0, 10), 2)\n",
    "}\n",
    "ordini_extra_df = pd.DataFrame(dati_extra)\n",
    "ordini_extra_df.to_csv('ordini_extra.csv', index=False)\n",
    "print(\"File 'ordini_extra.csv' creato!\")\n",
    "\n",
    "# Concateno i due DataFrame\n",
    "ordini_concatenati = pd.concat([ordini, ordini_extra_df])\n",
    "print('Concatenazione eseguita correttamente')\n",
    "print(ordini_concatenati)"
   ],
   "id": "b68c1c208f2cf5a3",
   "outputs": [
    {
     "name": "stdout",
     "output_type": "stream",
     "text": [
      "--- Creazione ordini_extra.csv + concat con ordini ---\n",
      "File 'ordini_extra.csv' creato!\n",
      "Concatenazione eseguita correttamente\n",
      "                     ID_Ordine  ID_Cliente      Stato  Totale_Ordine  \\\n",
      "2024-01-01 00:00:00        529         150    Spedito        1228.79   \n",
      "2024-01-01 00:00:00        616          47  In attesa        3495.47   \n",
      "2024-01-01 00:00:00        560         166  Annullato        5272.04   \n",
      "2024-01-01 00:00:00        534          11    Spedito        3144.33   \n",
      "2024-01-01 00:00:00        281         191    Spedito        1059.40   \n",
      "...                        ...         ...        ...            ...   \n",
      "5                         1006          36  In attesa         224.74   \n",
      "6                         1007          40    Spedito         264.16   \n",
      "7                         1008          39  In attesa          47.46   \n",
      "8                         1009          47    Spedito         142.16   \n",
      "9                         1010           6    Spedito         289.44   \n",
      "\n",
      "                           IVA Data_Ordine  \n",
      "2024-01-01 00:00:00   270.3338         NaT  \n",
      "2024-01-01 00:00:00   769.0034         NaT  \n",
      "2024-01-01 00:00:00  1159.8488         NaT  \n",
      "2024-01-01 00:00:00   691.7526         NaT  \n",
      "2024-01-01 00:00:00   233.0680         NaT  \n",
      "...                        ...         ...  \n",
      "5                          NaN  2024-07-02  \n",
      "6                          NaN  2024-07-01  \n",
      "7                          NaN  2024-07-01  \n",
      "8                          NaN  2024-07-02  \n",
      "9                          NaN  2024-07-02  \n",
      "\n",
      "[1010 rows x 6 columns]\n"
     ]
    }
   ],
   "execution_count": 281
  },
  {
   "metadata": {
    "ExecuteTime": {
     "end_time": "2025-06-22T11:59:40.797417Z",
     "start_time": "2025-06-22T11:59:40.794047Z"
    }
   },
   "cell_type": "code",
   "source": [
    "#Punto 8\n",
    "print('--- Prodotto più costoso e quello meno costoso ---')\n",
    "più_costoso = prodotti['Prezzo'].max()\n",
    "nome_più_costoso = prodotti[prodotti['Prezzo'] == più_costoso]\n",
    "meno_costoso = prodotti['Prezzo'].min()\n",
    "nome_meno_costoso = prodotti[prodotti['Prezzo'] == meno_costoso]\n",
    "print('Più costoso : \\n', nome_più_costoso['Nome_Prodotto'])\n",
    "print('\\nMeno costoso: \\n', nome_meno_costoso['Nome_Prodotto'])"
   ],
   "id": "2c13a61aed002118",
   "outputs": [
    {
     "name": "stdout",
     "output_type": "stream",
     "text": [
      "--- Prodotto più costoso e quello meno costoso ---\n",
      "Più costoso : \n",
      " 1    Prodotto_2\n",
      "Name: Nome_Prodotto, dtype: object\n",
      "\n",
      "Meno costoso: \n",
      " 13    Prodotto_14\n",
      "Name: Nome_Prodotto, dtype: object\n"
     ]
    }
   ],
   "execution_count": 295
  },
  {
   "metadata": {
    "ExecuteTime": {
     "end_time": "2025-06-22T14:50:09.197766Z",
     "start_time": "2025-06-22T14:50:09.189793Z"
    }
   },
   "cell_type": "code",
   "source": [
    "#Punto 9\n",
    "# Unisci ordini e clienti usando un outer join per mantenere tutti i clienti e tutti gli ordini.\n",
    "\n",
    "print('--- Unione degli ordini e clienti ---')\n",
    "ordini_piu_clienti = pd.merge(ordini,clienti, on = 'ID_Cliente', how = 'outer')\n",
    "print(ordini_piu_clienti)"
   ],
   "id": "4d51703f75439c62",
   "outputs": [
    {
     "name": "stdout",
     "output_type": "stream",
     "text": [
      "--- Unione degli ordini e clienti ---\n",
      "      ID_Ordine  ID_Cliente      Stato  Totale_Ordine         IVA  \\\n",
      "0         236.0           1  In attesa     271.990000   59.837800   \n",
      "1         668.0           1  In attesa    1684.800000  370.656000   \n",
      "2         526.0           1    Spedito    2996.190000  659.161800   \n",
      "3         152.0           1    Spedito    2169.558102  477.302782   \n",
      "4         677.0           1    Spedito     825.070000  181.515400   \n",
      "...         ...         ...        ...            ...         ...   \n",
      "996       973.0         200    Spedito    2592.070000  570.255400   \n",
      "997       579.0         200    Spedito     766.960000  168.731200   \n",
      "998       162.0         200    Spedito     373.140000   82.090800   \n",
      "999       636.0         200    Spedito     173.610000   38.194200   \n",
      "1000      115.0         200    Spedito    2121.760000  466.787200   \n",
      "\n",
      "             Nome Città_Cliente Data_Iscrizione  \n",
      "0       Cliente_1        Torino      2023-09-02  \n",
      "1       Cliente_1        Torino      2023-09-02  \n",
      "2       Cliente_1        Torino      2023-09-02  \n",
      "3       Cliente_1        Torino      2023-09-02  \n",
      "4       Cliente_1        Torino      2023-09-02  \n",
      "...           ...           ...             ...  \n",
      "996   Cliente_200        Torino      2023-08-27  \n",
      "997   Cliente_200        Torino      2023-08-27  \n",
      "998   Cliente_200        Torino      2023-08-27  \n",
      "999   Cliente_200        Torino      2023-08-27  \n",
      "1000  Cliente_200        Torino      2023-08-27  \n",
      "\n",
      "[1001 rows x 8 columns]\n"
     ]
    }
   ],
   "execution_count": 316
  },
  {
   "metadata": {
    "ExecuteTime": {
     "end_time": "2025-06-22T14:50:20.778331Z",
     "start_time": "2025-06-22T14:50:20.774504Z"
    }
   },
   "cell_type": "code",
   "source": [
    "#Punto 10\n",
    "#Trova l'ID del cliente che ha fatto l'ordine con il totale più alto.\n",
    "ordine_piu_alto =ordini_piu_clienti['Totale_Ordine'].max()\n",
    "nome_ordine = ordini_piu_clienti[ordini_piu_clienti['Totale_Ordine'] == ordine_piu_alto]\n",
    "print('Ordine più alto: ',nome_ordine)"
   ],
   "id": "c048616e76b9a4a7",
   "outputs": [
    {
     "name": "stdout",
     "output_type": "stream",
     "text": [
      "Ordine più alto:       ID_Ordine  ID_Cliente      Stato  Totale_Ordine        IVA        Nome  \\\n",
      "366      247.0          72  In attesa       13480.11  2965.6242  Cliente_72   \n",
      "\n",
      "    Città_Cliente Data_Iscrizione  \n",
      "366       Bologna      2023-02-02  \n"
     ]
    }
   ],
   "execution_count": 317
  },
  {
   "metadata": {},
   "cell_type": "markdown",
   "source": [
    "## Sezione 5: GroupBy e Aggregazione (Difficile)\n",
    "1. [ ] Raggruppa per Citta e conta il numero di ordini per ogni città.\n",
    "2. [ ] Raggruppa per Citta e calcola il Totale_Ordine medio per ogni città.\n",
    "3. [ ] Raggruppa per Categoria di prodotto e calcola il ricavo totale per ogni categoria.\n",
    "4. [ ] Raggruppa sia per Citta sia per Categoria e trova il ricavo totale.\n",
    "5. [ ] Trova il prodotto più venduto (in termini di quantità) in ogni città.\n",
    "6. [ ] Usa .agg() per calcolare la somma, la media e il valore massimo del Totale_Ordine raggruppato per Stato.\n",
    "7. [ ] Trova il cliente con il maggior numero di ordini.\n",
    "8. [ ] Filtra i dati per mantenere solo le città con più di 200 ordini totali.\n",
    "9. [ ] Calcola il totale speso da ogni cliente.\n",
    "10. [ ] Trova il mese con il ricavo totale più alto."
   ],
   "id": "9895e3381c35fba8"
  },
  {
   "metadata": {
    "ExecuteTime": {
     "end_time": "2025-06-22T11:42:02.569635Z",
     "start_time": "2025-06-22T11:42:02.568150Z"
    }
   },
   "cell_type": "code",
   "source": "#",
   "id": "45664590e31e30cc",
   "outputs": [],
   "execution_count": null
  },
  {
   "metadata": {},
   "cell_type": "markdown",
   "source": [
    "## Sezione 6: Sfide Finali (Molto Difficile)\n",
    "1. [ ] Per ogni cliente, calcola il tempo medio che intercorre tra un ordine e il successivo.\n",
    "2. [ ] Calcola il \"Lifetime Value\" (spesa totale) dei primi 10 clienti per data di iscrizione.\n",
    "3. [ ] Raggruppa i clienti per \"coorte\" in base al mese di iscrizione. Calcola il ricavo medio generato da ogni coorte nei mesi successivi.\n",
    "4. [ ] Trova le 5 coppie di prodotti che vengono più frequentemente acquistati insieme nello stesso ordine.\n",
    "5. [ ] Crea una pivot_table che mostri il ricavo totale per ogni Categoria (righe) in ogni Citta (colonne)."
   ],
   "id": "3355a7fd1a497f5d"
  },
  {
   "metadata": {
    "ExecuteTime": {
     "end_time": "2025-06-22T11:42:02.641806Z",
     "start_time": "2025-06-22T11:42:02.640601Z"
    }
   },
   "cell_type": "code",
   "source": "",
   "id": "756f6e568a97ad2",
   "outputs": [],
   "execution_count": 273
  }
 ],
 "metadata": {
  "kernelspec": {
   "display_name": "Python 3",
   "language": "python",
   "name": "python3"
  },
  "language_info": {
   "codemirror_mode": {
    "name": "ipython",
    "version": 2
   },
   "file_extension": ".py",
   "mimetype": "text/x-python",
   "name": "python",
   "nbconvert_exporter": "python",
   "pygments_lexer": "ipython2",
   "version": "2.7.6"
  }
 },
 "nbformat": 4,
 "nbformat_minor": 5
}
