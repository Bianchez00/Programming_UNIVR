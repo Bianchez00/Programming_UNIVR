{
 "cells": [
  {
   "cell_type": "markdown",
   "id": "2b00a609",
   "metadata": {},
   "source": "# 💻 Esercizi di Programmazione Python"
  },
  {
   "metadata": {
    "ExecuteTime": {
     "end_time": "2025-06-26T09:53:55.439233Z",
     "start_time": "2025-06-26T09:53:55.362688Z"
    }
   },
   "cell_type": "code",
   "source": [
    "import numpy as np\n",
    "from fontTools.cffLib import maxStackLimit"
   ],
   "id": "b81be4bdd8be8997",
   "outputs": [],
   "execution_count": 109
  },
  {
   "cell_type": "markdown",
   "id": "075cc9fc",
   "metadata": {},
   "source": [
    "### 1. Scrivi una funzione che prende una lista di interi e restituisce un dizionario con chiavi 'pari' e 'dispari'."
   ]
  },
  {
   "cell_type": "code",
   "id": "8055a764",
   "metadata": {
    "ExecuteTime": {
     "end_time": "2025-06-26T09:53:55.454369Z",
     "start_time": "2025-06-26T09:53:55.450814Z"
    }
   },
   "source": [
    "\n",
    "def fun(a:list) -> dict:\n",
    "    dict_pd = {'pari': 0,\n",
    "            'dispari': 0}\n",
    "    for number in a:\n",
    "        if number %2 == 0:\n",
    "            dict_pd['pari'] += 1\n",
    "        else:\n",
    "            dict_pd['dispari'] +=1\n",
    "    return dict_pd\n",
    "\n",
    "# Test con vari casi\n",
    "test1 = [1, 2, 3, 4, 5]  # 2 pari, 3 dispari\n",
    "test2 = [2, 4, 6, 8]     # tutti pari\n",
    "test3 = [1, 3, 5, 7]     # tutti dispari\n",
    "test4 = []               # lista vuota\n",
    "\n",
    "print(\"Test 1:\", fun(test1))  # Dovrebbe dare {'pari': 2, 'dispari': 3}\n",
    "print(\"Test 2:\", fun(test2))  # Dovrebbe dare {'pari': 4, 'dispari': 0}\n",
    "print(\"Test 3:\", fun(test3))  # Dovrebbe dare {'pari': 0, 'dispari': 4}\n",
    "print(\"Test 4:\", fun(test4))  # Dovrebbe dare {'pari': 0, 'dispari': 0}\n"
   ],
   "outputs": [
    {
     "name": "stdout",
     "output_type": "stream",
     "text": [
      "Test 1: {'pari': 2, 'dispari': 3}\n",
      "Test 2: {'pari': 4, 'dispari': 0}\n",
      "Test 3: {'pari': 0, 'dispari': 4}\n",
      "Test 4: {'pari': 0, 'dispari': 0}\n"
     ]
    }
   ],
   "execution_count": 110
  },
  {
   "cell_type": "markdown",
   "id": "1861d18e",
   "metadata": {},
   "source": [
    "### 2. Scrivi una funzione che conta quante volte ogni carattere appare in una stringa."
   ]
  },
  {
   "cell_type": "code",
   "id": "c482819d",
   "metadata": {
    "ExecuteTime": {
     "end_time": "2025-06-26T09:53:55.482886Z",
     "start_time": "2025-06-26T09:53:55.479809Z"
    }
   },
   "source": [
    "def conta_carattere(s:str,c:str) -> int:\n",
    "    count = 0\n",
    "    for character in s:\n",
    "        if character == c:\n",
    "            count += 1\n",
    "    return  count\n",
    "\n",
    "# Test con vari casi\n",
    "print(conta_carattere(\"hello\", \"l\"))      # Dovrebbe dare 2\n",
    "print(conta_carattere(\"python\", \"p\"))     # Dovrebbe dare 1\n",
    "print(conta_carattere(\"banana\", \"a\"))     # Dovrebbe dare 3\n",
    "print(conta_carattere(\"test\", \"x\"))       # Dovrebbe dare 0\n",
    "print(conta_carattere(\"\", \"a\"))           # Dovrebbe dare 0\n",
    "print(conta_carattere(\"AAA\", \"A\"))        # Dovrebbe dare 3\n",
    "print(conta_carattere(\"ciao mondo\", \" \")) # Dovrebbe dare 1"
   ],
   "outputs": [
    {
     "name": "stdout",
     "output_type": "stream",
     "text": [
      "2\n",
      "1\n",
      "3\n",
      "0\n",
      "0\n",
      "3\n",
      "1\n"
     ]
    }
   ],
   "execution_count": 111
  },
  {
   "cell_type": "markdown",
   "id": "10670ab2",
   "metadata": {},
   "source": [
    "### 3. Scrivi una funzione che riceve una lista e restituisce True se tutti gli elementi sono diversi."
   ]
  },
  {
   "cell_type": "code",
   "id": "b71ed1b0",
   "metadata": {
    "ExecuteTime": {
     "end_time": "2025-06-26T09:53:55.508323Z",
     "start_time": "2025-06-26T09:53:55.505011Z"
    }
   },
   "source": [
    "def div(lst:list) -> bool:\n",
    "    num_prec = 0\n",
    "    for num in lst:\n",
    "        if num == num_prec:\n",
    "            return False\n",
    "        else:\n",
    "            num_prec = num\n",
    "\n",
    "    return True\n",
    "\n",
    "# Test con vari casi\n",
    "print(div([1, 2, 3, 4, 5]))  # Dovrebbe restituire True (tutti diversi)\n",
    "print(div([1, 1, 2, 3, 4]))  # Dovrebbe restituire False (ci sono duplicati)\n",
    "print(div([]))               # Dovrebbe restituire True (lista vuota)\n",
    "print(div([7]))              # Dovrebbe restituire True (un solo elemento)\n",
    "print(div([1, 2, 3, 3, 4]))  # Dovrebbe restituire False (duplicati consecutivi)"
   ],
   "outputs": [
    {
     "name": "stdout",
     "output_type": "stream",
     "text": [
      "True\n",
      "False\n",
      "True\n",
      "True\n",
      "False\n"
     ]
    }
   ],
   "execution_count": 112
  },
  {
   "cell_type": "markdown",
   "id": "0c5a8cba",
   "metadata": {},
   "source": [
    "### 4. Scrivi una funzione che restituisce una lista con elementi unici, mantenendo l'ordine."
   ]
  },
  {
   "cell_type": "code",
   "id": "8fb9acef",
   "metadata": {
    "ExecuteTime": {
     "end_time": "2025-06-26T09:53:55.535742Z",
     "start_time": "2025-06-26T09:53:55.532485Z"
    }
   },
   "source": [
    "def elem_unic(lst:list) -> list:\n",
    "\n",
    "    lst = set(lst)\n",
    "    lst = list(lst)\n",
    "    return lst\n",
    "\n",
    "# Test con vari casi\n",
    "print(elem_unic([1, 2, 2, 3, 4, 4, 5]))  # Dovrebbe restituire [1, 2, 3, 4, 5]\n",
    "print(elem_unic([7, 7, 7, 7]))           # Dovrebbe restituire [7]\n",
    "print(elem_unic([]))                    # Dovrebbe restituire []\n",
    "print(elem_unic([1, 2, 3, 4, 5]))       # Dovrebbe restituire [1, 2, 3, 4, 5]\n",
    "print(elem_unic([5, 4, 3, 2, 1, 1, 2])) # Dovrebbe restituire [5, 4, 3, 2, 1]"
   ],
   "outputs": [
    {
     "name": "stdout",
     "output_type": "stream",
     "text": [
      "[1, 2, 3, 4, 5]\n",
      "[7]\n",
      "[]\n",
      "[1, 2, 3, 4, 5]\n",
      "[1, 2, 3, 4, 5]\n"
     ]
    }
   ],
   "execution_count": 113
  },
  {
   "cell_type": "markdown",
   "id": "1c5a303d",
   "metadata": {},
   "source": [
    "### 5. Scrivi una funzione one-liner che restituisce tutti i multipli di 5 in una lista."
   ]
  },
  {
   "cell_type": "code",
   "id": "932fb589",
   "metadata": {
    "ExecuteTime": {
     "end_time": "2025-06-26T09:53:55.563261Z",
     "start_time": "2025-06-26T09:53:55.560215Z"
    }
   },
   "source": [
    "def multiply_of_5(lst:list) -> list:\n",
    "    return [number for number in lst if number %5 == 0]\n",
    "\n",
    "# Test con vari casi\n",
    "print(multiply_of_5([5, 10, 15, 20]))       # Dovrebbe restituire [5, 10, 15, 20]\n",
    "print(multiply_of_5([1, 2, 3, 4]))          # Dovrebbe restituire []\n",
    "print(multiply_of_5([0, 5, 25, 30, 7]))     # Dovrebbe restituire [0, 5, 25, 30]\n",
    "print(multiply_of_5([-5, -10, 0, 3, 8]))    # Dovrebbe restituire [-5, -10, 0]\n",
    "print(multiply_of_5([]))                    # Dovrebbe restituire []\n"
   ],
   "outputs": [
    {
     "name": "stdout",
     "output_type": "stream",
     "text": [
      "[5, 10, 15, 20]\n",
      "[]\n",
      "[0, 5, 25, 30]\n",
      "[-5, -10, 0]\n",
      "[]\n"
     ]
    }
   ],
   "execution_count": 114
  },
  {
   "cell_type": "markdown",
   "id": "021ed442",
   "metadata": {},
   "source": [
    "### 6. Scrivi una funzione che restituisce una lista dei quadrati dei numeri positivi."
   ]
  },
  {
   "cell_type": "code",
   "id": "580f93bc",
   "metadata": {
    "ExecuteTime": {
     "end_time": "2025-06-26T09:53:55.602039Z",
     "start_time": "2025-06-26T09:53:55.599010Z"
    }
   },
   "source": [
    "def quadrati(lst:list) -> list:\n",
    "    return [number **2 for number in lst if number > 0 ]\n",
    "\n",
    "# Test con vari casi\n",
    "print(quadrati([1, 2, 3, 4]))         # Dovrebbe restituire [1, 4, 9, 16]\n",
    "print(quadrati([-1, 2, -3, 4]))       # Dovrebbe restituire [4, 16]\n",
    "print(quadrati([-2, -1, 0]))          # Dovrebbe restituire []\n",
    "print(quadrati([]))                   # Dovrebbe restituire []\n",
    "print(quadrati([5, -5, 10, -10, 3]))  # Dovrebbe restituire [25, 100, 9]"
   ],
   "outputs": [
    {
     "name": "stdout",
     "output_type": "stream",
     "text": [
      "[1, 4, 9, 16]\n",
      "[4, 16]\n",
      "[]\n",
      "[]\n",
      "[25, 100, 9]\n"
     ]
    }
   ],
   "execution_count": 115
  },
  {
   "cell_type": "markdown",
   "id": "705ce686",
   "metadata": {},
   "source": [
    "### 7. Scrivi una funzione che restituisce il massimo numero di True consecutivi in una lista di booleani."
   ]
  },
  {
   "cell_type": "code",
   "id": "926acda2",
   "metadata": {
    "ExecuteTime": {
     "end_time": "2025-06-26T09:53:55.628081Z",
     "start_time": "2025-06-26T09:53:55.624267Z"
    }
   },
   "source": [
    "def max_num(lst:list) -> int:\n",
    "      if len(lst) == 0:\n",
    "          return 0\n",
    "      count = 0\n",
    "      max  = 0\n",
    "      for i in range (0,len(lst)):\n",
    "        if lst[i] == True:\n",
    "            count +=1\n",
    "            if count > max:\n",
    "                max = count\n",
    "        else:\n",
    "            count = 0\n",
    "      return max\n",
    "\n",
    "# Test con vari casi\n",
    "print(max_num([True, True, False, True]))          # Dovrebbe restituire 2\n",
    "print(max_num([True, True, True, False]))          # Dovrebbe restituire 3\n",
    "print(max_num([False, False, True, True]))         # Dovrebbe restituire 2\n",
    "print(max_num([True]))                             # Dovrebbe restituire 1\n",
    "print(max_num([False, True, False, True, True]))   # Dovrebbe restituire 2\n",
    "print(max_num([False, False, False]))              # Dovrebbe restituire 0\n"
   ],
   "outputs": [
    {
     "name": "stdout",
     "output_type": "stream",
     "text": [
      "2\n",
      "3\n",
      "2\n",
      "1\n",
      "2\n",
      "0\n"
     ]
    }
   ],
   "execution_count": 116
  },
  {
   "cell_type": "markdown",
   "id": "3b5b9188",
   "metadata": {},
   "source": [
    "### 8. Scrivi una funzione che prende due liste e restituisce True se una e la reversa dell'altra."
   ]
  },
  {
   "cell_type": "code",
   "id": "8ecd1d67",
   "metadata": {
    "ExecuteTime": {
     "end_time": "2025-06-26T09:53:55.656883Z",
     "start_time": "2025-06-26T09:53:55.653095Z"
    }
   },
   "source": [
    "def reverse(lst1:list,lst2:list) -> bool:\n",
    "    if len(lst1) != len(lst2):\n",
    "        return False\n",
    "    for i in range (0,len(lst1)):\n",
    "        if lst1[i] != lst2[-1-i]:\n",
    "            return False\n",
    "    return True\n",
    "\n",
    "# Test con vari casi\n",
    "print(reverse([1, 2, 3], [3, 2, 1]))         # Dovrebbe restituire True\n",
    "print(reverse([1, 2, 3], [1, 2, 3]))         # Dovrebbe restituire False\n",
    "print(reverse([], []))                        # Dovrebbe restituire True (liste vuote)\n",
    "print(reverse([1], [1]))                      # Dovrebbe restituire True\n",
    "print(reverse([1, 2], [1]))                   # Dovrebbe restituire False (lunghezze diverse)\n",
    "print(reverse(['a', 'b'], ['b', 'a']))       # Dovrebbe restituire True\n",
    "print(reverse([1, 2, 2], [2, 2, 1]))         # Dovrebbe restituire True\n"
   ],
   "outputs": [
    {
     "name": "stdout",
     "output_type": "stream",
     "text": [
      "True\n",
      "False\n",
      "True\n",
      "True\n",
      "False\n",
      "True\n",
      "True\n"
     ]
    }
   ],
   "execution_count": 117
  },
  {
   "cell_type": "markdown",
   "id": "ad23b1a3",
   "metadata": {},
   "source": [
    "### 9. Scrivi una funzione che restituisce il valore massimo per una chiave da una lista di dizionari."
   ]
  },
  {
   "cell_type": "code",
   "id": "04a69d8e",
   "metadata": {
    "ExecuteTime": {
     "end_time": "2025-06-26T09:53:55.691135Z",
     "start_time": "2025-06-26T09:53:55.687015Z"
    }
   },
   "source": [
    "def max_value(lst:list,key:str) -> int:\n",
    "    if len(lst) == 0:\n",
    "        return None\n",
    "\n",
    "    found = False\n",
    "    max_val = None\n",
    "\n",
    "    for dictionary in lst:\n",
    "        if key in dictionary:\n",
    "            if not found:\n",
    "                max_val = dictionary[key]\n",
    "                found = True\n",
    "            elif dictionary[key] > max_val:\n",
    "                max_val = dictionary[key]\n",
    "\n",
    "    return max_val\n",
    "\n",
    "# Test con vari casi\n",
    "test_dict1 = [{'prezzo': 10, 'quantità': 5},\n",
    "              {'prezzo': 20, 'quantità': 3},\n",
    "              {'prezzo': 15, 'quantità': 4}]\n",
    "\n",
    "test_dict2 = [{'voto': -2, 'peso': 1},\n",
    "              {'voto': -5, 'peso': 2},\n",
    "              {'voto': -1, 'peso': 3}]\n",
    "\n",
    "test_dict3 = []  # lista vuota\n",
    "\n",
    "test_dict4 = [{'nome': 'Mario', 'età': 30},\n",
    "              {'nome': 'Luigi', 'età': 25},\n",
    "              {'nome': 'Peach', 'età': 28}]\n",
    "\n",
    "# Test dei casi\n",
    "print(max_value(test_dict1, 'prezzo'))    # Dovrebbe restituire 20\n",
    "print(max_value(test_dict2, 'voto'))      # Dovrebbe restituire -1 (massimo tra negativi)\n",
    "print(max_value(test_dict3, 'chiave'))    # Dovrebbe gestire la lista vuota\n",
    "print(max_value(test_dict4, 'età'))       # Dovrebbe restituire 30\n",
    "print(max_value(test_dict1, 'inesistente'))  # Dovrebbe gestire chiave non presente\n"
   ],
   "outputs": [
    {
     "name": "stdout",
     "output_type": "stream",
     "text": [
      "20\n",
      "-1\n",
      "None\n",
      "30\n",
      "None\n"
     ]
    }
   ],
   "execution_count": 118
  },
  {
   "cell_type": "markdown",
   "id": "8e2a37b2",
   "metadata": {},
   "source": [
    "### 10. Scrivi una funzione che prende una lista di tuple e restituisce la somma dei secondi elementi."
   ]
  },
  {
   "cell_type": "code",
   "id": "b06e6763",
   "metadata": {
    "ExecuteTime": {
     "end_time": "2025-06-26T09:53:55.720455Z",
     "start_time": "2025-06-26T09:53:55.715976Z"
    }
   },
   "source": [
    "def sumtuples (lst:list) -> int:\n",
    "    if len(lst) == 0:\n",
    "        return None\n",
    "    somma = 0\n",
    "    for tupla in lst:\n",
    "        somma += tupla[1]\n",
    "\n",
    "    return somma\n",
    "\n",
    "# Test con vari casi\n",
    "test1 = [(1, 2), (3, 4), (5, 6)]           # Dovrebbe restituire 12 (2 + 4 + 6)\n",
    "test2 = [('a', 1), ('b', 2), ('c', 3)]     # Dovrebbe restituire 6 (1 + 2 + 3)\n",
    "test3 = [(0, -1), (0, -2), (0, -3)]        # Dovrebbe restituire -6 (-1 + -2 + -3)\n",
    "test4 = []                                  # Dovrebbe restituire None (lista vuota)\n",
    "test5 = [(1, 0)]                           # Dovrebbe restituire 0\n",
    "\n",
    "print(sumtuples(test1))  # 12\n",
    "print(sumtuples(test2))  # 6\n",
    "print(sumtuples(test3))  # -6\n",
    "print(sumtuples(test4))  # None\n",
    "print(sumtuples(test5))  # 0\n"
   ],
   "outputs": [
    {
     "name": "stdout",
     "output_type": "stream",
     "text": [
      "12\n",
      "6\n",
      "-6\n",
      "None\n",
      "0\n"
     ]
    }
   ],
   "execution_count": 119
  },
  {
   "cell_type": "markdown",
   "id": "dc6faf7f",
   "metadata": {},
   "source": [
    "### 11. Crea una classe Person con nome e eta, e un metodo che stampa un saluto."
   ]
  },
  {
   "cell_type": "code",
   "id": "26709406",
   "metadata": {
    "ExecuteTime": {
     "end_time": "2025-06-26T09:53:55.748626Z",
     "start_time": "2025-06-26T09:53:55.745172Z"
    }
   },
   "source": [
    "class Person:\n",
    "    def __init__(self,nome,eta):\n",
    "        self.nome = nome\n",
    "        self.eta = eta\n",
    "    def __repr__(self):\n",
    "        return print(f'Ciao! Il tuo nome è:{self.nome} e la tua età è:{self.eta}')\n",
    "\n",
    "# Test con vari casi\n",
    "persona1 = Person(\"Mario\", 25)\n",
    "persona2 = Person(\"Anna\", 30)\n",
    "persona3 = Person(\"\", 0)       # Test con valori vuoti/zero\n",
    "persona4 = Person(\"Luigi\", 17) # Test con un minorenne\n",
    "\n",
    "persona1.__repr__()  # Dovrebbe stampare: Ciao! Il tuo nome è:Mario e la tua età è:25\n",
    "persona2.__repr__()  # Dovrebbe stampare: Ciao! Il tuo nome è:Anna e la tua età è:30\n",
    "persona3.__repr__()  # Dovrebbe stampare: Ciao! Il tuo nome è: e la tua età è:0\n",
    "persona4.__repr__()  # Dovrebbe stampare: Ciao! Il tuo nome è:Luigi e la tua età è:17\n"
   ],
   "outputs": [
    {
     "name": "stdout",
     "output_type": "stream",
     "text": [
      "Ciao! Il tuo nome è:Mario e la tua età è:25\n",
      "Ciao! Il tuo nome è:Anna e la tua età è:30\n",
      "Ciao! Il tuo nome è: e la tua età è:0\n",
      "Ciao! Il tuo nome è:Luigi e la tua età è:17\n"
     ]
    }
   ],
   "execution_count": 120
  },
  {
   "cell_type": "markdown",
   "id": "04203fcb",
   "metadata": {},
   "source": [
    "### 12. Crea una classe BankAccount con saldo, deposito e prelievo."
   ]
  },
  {
   "cell_type": "code",
   "id": "1664aebb",
   "metadata": {
    "ExecuteTime": {
     "end_time": "2025-06-26T09:53:55.783600Z",
     "start_time": "2025-06-26T09:53:55.780087Z"
    }
   },
   "source": [
    "class BankAccount:\n",
    "    def __init__(self,saldo):\n",
    "        self.saldo = saldo\n",
    "\n",
    "    def deposito(self,deposito):\n",
    "        if deposito < 0:\n",
    "            return False\n",
    "        self.saldo += deposito\n",
    "        return True\n",
    "\n",
    "    def prelievo(self,prelievo):\n",
    "        if prelievo > self.saldo or prelievo < 0:\n",
    "            return False\n",
    "        self.saldo = self.saldo - prelievo\n",
    "        return True\n",
    "\n",
    "# Test con vari casi\n",
    "conto = BankAccount(1000)\n",
    "print(conto.deposito(500))      # True (deposito riuscito)\n",
    "print(conto.saldo)              # 1500\n",
    "print(conto.deposito(-100))     # False (importo negativo)\n",
    "print(conto.saldo)              # 1500 (saldo non modificato)\n",
    "print(conto.prelievo(2000))     # False (saldo insufficiente)\n",
    "print(conto.saldo)              # 1500 (saldo non modificato)\n",
    "print(conto.prelievo(500))      # True (prelievo riuscito)\n",
    "print(conto.saldo)              # 1000"
   ],
   "outputs": [
    {
     "name": "stdout",
     "output_type": "stream",
     "text": [
      "True\n",
      "1500\n",
      "False\n",
      "1500\n",
      "False\n",
      "1500\n",
      "True\n",
      "1000\n"
     ]
    }
   ],
   "execution_count": 121
  },
  {
   "cell_type": "markdown",
   "id": "cbdd02be",
   "metadata": {},
   "source": "### 13. Override del metodo __str__ in una classe Car."
  },
  {
   "cell_type": "code",
   "id": "b06b3b8b",
   "metadata": {
    "ExecuteTime": {
     "end_time": "2025-06-26T09:53:55.815882Z",
     "start_time": "2025-06-26T09:53:55.812485Z"
    }
   },
   "source": [
    "class Car:\n",
    "    def __init__(self,nome,marca,modello):\n",
    "        self.nome = nome\n",
    "        self.marca = marca\n",
    "        self.modello = modello\n",
    "    def __str__(self):\n",
    "        return f'La macchina è:{self.nome}\\n La marca è:{self.marca}\\n Il modello è: {self.modello} '\n",
    "\n",
    "\n",
    "# Test con vari casi\n",
    "auto1 = Car(\"500\", \"Fiat\", \"Sport\")\n",
    "auto2 = Car(\"Model S\", \"Tesla\", \"Long Range\")\n",
    "auto3 = Car(\"Urus\", \"Lamborghini\", \"S\")\n",
    "\n",
    "# Test stampa diretta\n",
    "print(auto1)  # Dovrebbe mostrare: La macchina è:500 La marca è:Fiat Il modello è: Sport\n",
    "print(auto2)  # Dovrebbe mostrare: La macchina è:Model S La marca è:Tesla Il modello è: Long Range\n",
    "print(auto3)  # Dovrebbe mostrare: La macchina è:Urus La marca è:Lamborghini Il modello è: S\n",
    "\n",
    "# Test conversione esplicita a stringa\n",
    "stringa_auto = str(auto1)\n",
    "print(stringa_auto)  # Dovrebbe mostrare lo stesso output di print(auto1)\n"
   ],
   "outputs": [
    {
     "name": "stdout",
     "output_type": "stream",
     "text": [
      "La macchina è:500\n",
      " La marca è:Fiat\n",
      " Il modello è: Sport \n",
      "La macchina è:Model S\n",
      " La marca è:Tesla\n",
      " Il modello è: Long Range \n",
      "La macchina è:Urus\n",
      " La marca è:Lamborghini\n",
      " Il modello è: S \n",
      "La macchina è:500\n",
      " La marca è:Fiat\n",
      " Il modello è: Sport \n"
     ]
    }
   ],
   "execution_count": 122
  },
  {
   "cell_type": "markdown",
   "id": "7354a830",
   "metadata": {},
   "source": [
    "### 14. Crea una classe Rectangle con metodi per area e perimetro."
   ]
  },
  {
   "cell_type": "code",
   "id": "efe6d980",
   "metadata": {
    "ExecuteTime": {
     "end_time": "2025-06-26T09:53:55.845416Z",
     "start_time": "2025-06-26T09:53:55.841636Z"
    }
   },
   "source": [
    "class Rectangle:\n",
    "    def __init__(self,base,altezza):\n",
    "        self.base = base\n",
    "        self.altezza = altezza\n",
    "    def area(self):\n",
    "        return self.base * self.altezza\n",
    "    def perimetro(self):\n",
    "        return (self.base*2)+(self.altezza*2)\n",
    "\n",
    "# Test con vari casi\n",
    "rettangolo1 = Rectangle(5, 3)      # rettangolo 5x3\n",
    "rettangolo2 = Rectangle(10, 10)    # quadrato 10x10\n",
    "rettangolo3 = Rectangle(2.5, 4)    # rettangolo con decimali\n",
    "rettangolo4 = Rectangle(0, 5)      # rettangolo con base zero\n",
    "\n",
    "# Test calcolo area\n",
    "print(rettangolo1.area())      # Dovrebbe stampare 15 (5 * 3)\n",
    "print(rettangolo2.area())      # Dovrebbe stampare 100 (10 * 10)\n",
    "print(rettangolo3.area())      # Dovrebbe stampare 10.0 (2.5 * 4)\n",
    "print(rettangolo4.area())      # Dovrebbe stampare 0 (0 * 5)\n",
    "\n",
    "# Test calcolo perimetro\n",
    "print(rettangolo1.perimetro())  # Dovrebbe stampare 16 ((5 * 2) + (3 * 2))\n",
    "print(rettangolo2.perimetro())  # Dovrebbe stampare 40 ((10 * 2) + (10 * 2))\n",
    "print(rettangolo3.perimetro())  # Dovrebbe stampare 13.0 ((2.5 * 2) + (4 * 2))\n",
    "print(rettangolo4.perimetro())  # Dovrebbe stampare 10 ((0 * 2) + (5 * 2))\n"
   ],
   "outputs": [
    {
     "name": "stdout",
     "output_type": "stream",
     "text": [
      "15\n",
      "100\n",
      "10.0\n",
      "0\n",
      "16\n",
      "40\n",
      "13.0\n",
      "10\n"
     ]
    }
   ],
   "execution_count": 123
  },
  {
   "cell_type": "markdown",
   "id": "57e629e0",
   "metadata": {},
   "source": [
    "### 15. Crea una classe Student con lista voti e media."
   ]
  },
  {
   "cell_type": "code",
   "id": "e40c1a85",
   "metadata": {
    "ExecuteTime": {
     "end_time": "2025-06-26T09:53:55.877215Z",
     "start_time": "2025-06-26T09:53:55.873029Z"
    }
   },
   "source": [
    "class Student:\n",
    "    def __init__(self, nome, voti):\n",
    "        self.nome = nome\n",
    "        self.voti = voti\n",
    "\n",
    "    def media(self):\n",
    "        if len(self.voti) == 0:\n",
    "            return 0\n",
    "        return sum(self.voti) / len(self.voti)  # Usa la funzione built-in sum\n",
    "\n",
    "# Test con vari casi\n",
    "studente1 = Student(\"Mario\", [18, 25, 30, 28])\n",
    "studente2 = Student(\"Luigi\", [30, 30, 30])\n",
    "studente3 = Student(\"Anna\", [])\n",
    "studente4 = Student(\"Luca\", [18, 18, 18, 18])\n",
    "studente5 = Student(\"Elena\", [25, 28, 27, 26])\n",
    "\n",
    "# Test stampa voti\n",
    "print(f\"{studente1.nome}: voti = {studente1.voti}\")\n",
    "print(f\"{studente2.nome}: voti = {studente2.voti}\")\n",
    "print(f\"{studente3.nome}: voti = {studente3.voti}\")\n",
    "\n",
    "# Test calcolo media\n",
    "print(f\"La media di {studente1.nome} è: {studente1.media()}\")  # Dovrebbe essere circa 25.25\n",
    "print(f\"La media di {studente2.nome} è: {studente2.media()}\")  # Dovrebbe essere 30.0\n",
    "print(f\"La media di {studente3.nome} è: {studente3.media()}\")  # Dovrebbe essere 0\n",
    "print(f\"La media di {studente4.nome} è: {studente4.media()}\")  # Dovrebbe essere 18.0\n",
    "print(f\"La media di {studente5.nome} è: {studente5.media()}\")  # Dovrebbe essere 26.5"
   ],
   "outputs": [
    {
     "name": "stdout",
     "output_type": "stream",
     "text": [
      "Mario: voti = [18, 25, 30, 28]\n",
      "Luigi: voti = [30, 30, 30]\n",
      "Anna: voti = []\n",
      "La media di Mario è: 25.25\n",
      "La media di Luigi è: 30.0\n",
      "La media di Anna è: 0\n",
      "La media di Luca è: 18.0\n",
      "La media di Elena è: 26.5\n"
     ]
    }
   ],
   "execution_count": 124
  },
  {
   "cell_type": "markdown",
   "id": "6e9ca69b",
   "metadata": {},
   "source": [
    "### 16. Crea una classe Animal e una sottoclasse Dog che override speak()."
   ]
  },
  {
   "cell_type": "code",
   "id": "83ac6dd9",
   "metadata": {
    "ExecuteTime": {
     "end_time": "2025-06-26T09:53:55.914096Z",
     "start_time": "2025-06-26T09:53:55.910696Z"
    }
   },
   "source": [
    "class Animal:\n",
    "    def __init__(self,nome):\n",
    "        self.nome = nome\n",
    "    def speak(self):\n",
    "        return \"L'animale fa un verso\"\n",
    "class Dog(Animal):\n",
    "    def __init__(self,nome):\n",
    "        super().__init__(nome)\n",
    "    def speak(self):\n",
    "        return 'Il cane abbaia'\n",
    "\n",
    "# Test con vari casi\n",
    "animale = Animal(\"generico\")\n",
    "cane = Dog(\"Fido\")\n",
    "\n",
    "# Test del metodo speak() per entrambe le classi\n",
    "print(animale.speak())    # Dovrebbe stampare \"L'animale fa un verso\"\n",
    "print(cane.speak())       # Dovrebbe stampare \"Il cane abbaia\"\n",
    "\n",
    "# Test con nome\n",
    "print(animale.nome)       # Dovrebbe stampare \"generico\"\n",
    "print(cane.nome)         # Dovrebbe stampare \"Fido\"\n",
    "\n",
    "# Test con diversi cani\n",
    "cane2 = Dog(\"Rex\")\n",
    "print(cane2.speak())      # Dovrebbe stampare \"Il cane abbaia\"\n",
    "print(cane2.nome)        # Dovrebbe stampare \"Rex\"\n",
    "\n"
   ],
   "outputs": [
    {
     "name": "stdout",
     "output_type": "stream",
     "text": [
      "L'animale fa un verso\n",
      "Il cane abbaia\n",
      "generico\n",
      "Fido\n",
      "Il cane abbaia\n",
      "Rex\n"
     ]
    }
   ],
   "execution_count": 125
  },
  {
   "cell_type": "markdown",
   "id": "f0a67e1c",
   "metadata": {},
   "source": [
    "### 17. Due oggetti Book sono uguali se titolo e autore coincidono."
   ]
  },
  {
   "cell_type": "code",
   "id": "8a22e5b2",
   "metadata": {
    "ExecuteTime": {
     "end_time": "2025-06-26T09:53:55.946144Z",
     "start_time": "2025-06-26T09:53:55.942290Z"
    }
   },
   "source": [
    "class Book:\n",
    "    def __init__(self,nome,autore):\n",
    "        self.nome = nome\n",
    "        self.autore = autore\n",
    "    def __eq__(self, other):\n",
    "        if type(self) == type(other):\n",
    "            return (self.nome == other.nome) and (self.autore == other.autore)\n",
    "        else:\n",
    "            return False\n",
    "\n",
    "# Test con vari casi\n",
    "libro1 = Book(\"Il Signore degli Anelli\", \"Tolkien\")\n",
    "libro2 = Book(\"Il Signore degli Anelli\", \"Tolkien\")  # Stesso libro\n",
    "libro3 = Book(\"Il Signore degli Anelli\", \"Smith\")    # Stesso titolo, autore diverso\n",
    "libro4 = Book(\"Harry Potter\", \"Rowling\")             # Libro completamente diverso\n",
    "altro_oggetto = \"Non un libro\"                       # Test con tipo diverso\n",
    "\n",
    "# Test di uguaglianza\n",
    "print(libro1 == libro2)  # Dovrebbe stampare True\n",
    "print(libro1 == libro3)  # Dovrebbe stampare False\n",
    "print(libro1 == libro4)  # Dovrebbe stampare False\n",
    "print(libro1 == altro_oggetto)  # Dovrebbe stampare False\n",
    "\n",
    "# Test con attributi\n",
    "print(libro1.nome)    # Dovrebbe stampare \"Il Signore degli Anelli\"\n",
    "print(libro1.autore)  # Dovrebbe stampare \"Tolkien\"\n",
    "\n"
   ],
   "outputs": [
    {
     "name": "stdout",
     "output_type": "stream",
     "text": [
      "True\n",
      "False\n",
      "False\n",
      "False\n",
      "Il Signore degli Anelli\n",
      "Tolkien\n"
     ]
    }
   ],
   "execution_count": 126
  },
  {
   "cell_type": "markdown",
   "id": "aacd15be",
   "metadata": {},
   "source": [
    "### 18. Crea una Shape astratta con area(), da implementare in Circle e Square."
   ]
  },
  {
   "cell_type": "code",
   "id": "9ca764df",
   "metadata": {
    "ExecuteTime": {
     "end_time": "2025-06-26T09:53:55.975615Z",
     "start_time": "2025-06-26T09:53:55.971620Z"
    }
   },
   "source": [
    "# 1. Importa ABC e abstractmethod dal modulo abc\n",
    "from abc import ABC, abstractmethod\n",
    "\n",
    "# 2. Crea la classe astratta ereditando da ABC\n",
    "class Shape(ABC):\n",
    "\n",
    "    def __init__(self, nome):\n",
    "        self.nome = nome\n",
    "\n",
    "    # 3. Dichiara i metodi astratti con il decoratore\n",
    "    @abstractmethod\n",
    "    def calcola_area(self):\n",
    "        \"\"\"Metodo astratto per calcolare l'area.\"\"\"\n",
    "        pass # Non c'è bisogno di codice qui\n",
    "\n",
    "class Quadrato(Shape):\n",
    "\n",
    "    def __init__(self, lato):\n",
    "        super().__init__(\"Quadrato\") # Chiama il costruttore della classe padre\n",
    "        self.lato = lato\n",
    "\n",
    "    # Implementazione OBBLIGATORIA del metodo astratto\n",
    "    def calcola_area(self):\n",
    "        return self.lato ** 2\n",
    "class Cerchio(Shape):\n",
    "\n",
    "    def __init__(self,raggio):\n",
    "        super().__init__('Cerchio')\n",
    "        self.raggio = raggio\n",
    "    def calcola_area(self):\n",
    "        return 2*3.14*(self.raggio**2)\n",
    "\n",
    "# Test\n",
    "quadrato = Quadrato(5)\n",
    "cerchio = Cerchio(3)\n",
    "\n",
    "print(quadrato.calcola_area())   # Dovrebbe stampare 25\n",
    "print(cerchio.calcola_area())    # Dovrebbe stampare 56.52\n"
   ],
   "outputs": [
    {
     "name": "stdout",
     "output_type": "stream",
     "text": [
      "25\n",
      "56.52\n"
     ]
    }
   ],
   "execution_count": 127
  },
  {
   "cell_type": "markdown",
   "id": "5ffdfe40",
   "metadata": {},
   "source": [
    "### 19. Crea una classe Counter che incrementa solo se il valore e pari."
   ]
  },
  {
   "cell_type": "code",
   "id": "0aab5918",
   "metadata": {
    "ExecuteTime": {
     "end_time": "2025-06-26T09:53:56.002404Z",
     "start_time": "2025-06-26T09:53:55.998184Z"
    }
   },
   "source": [
    "class Counter:\n",
    "    def __init__(self,count):\n",
    "        self.count = count\n",
    "    def counter(self,number):\n",
    "        if number % 2 == 0:\n",
    "            self.count += number\n",
    "\n",
    "# Test con vari casi\n",
    "contatore = Counter(0)\n",
    "\n",
    "# Incremento con numero pari\n",
    "contatore.counter(2)  # Dovrebbe incrementare il contatore a 2\n",
    "print(contatore.count)  # Dovrebbe stampare 2\n",
    "\n",
    "# Incremento con numero dispari\n",
    "contatore.counter(3)  # Non dovrebbe cambiare il contatore\n",
    "print(contatore.count)  # Dovrebbe stampare 2\n",
    "\n",
    "# Incremento con numero pari negativo\n",
    "contatore.counter(-4)  # Dovrebbe decrementare il contatore a -2\n",
    "print(contatore.count)  # Dovrebbe stampare -2\n",
    "\n",
    "# Incremento con zero\n",
    "contatore.counter(0)  # Non dovrebbe cambiare il contatore\n",
    "print(contatore.count)  # Dovrebbe stampare -2"
   ],
   "outputs": [
    {
     "name": "stdout",
     "output_type": "stream",
     "text": [
      "2\n",
      "2\n",
      "-2\n",
      "-2\n"
     ]
    }
   ],
   "execution_count": 128
  },
  {
   "cell_type": "markdown",
   "id": "89e9e5b4",
   "metadata": {},
   "source": [
    "### 20. Crea una classe Timer con start, stop e elapsed."
   ]
  },
  {
   "cell_type": "code",
   "id": "3e3d7adb",
   "metadata": {
    "ExecuteTime": {
     "end_time": "2025-06-26T09:53:56.025776Z",
     "start_time": "2025-06-26T09:53:56.022538Z"
    }
   },
   "source": [
    "class Timer:\n",
    "    def __init__(self,start,stop):\n",
    "        self.start = start\n",
    "        self.stop = stop\n",
    "        self.elapsed = stop - start\n",
    "# Test con vari casi\n",
    "timer1 = Timer(0, 10)  # Timer con start 0 e stop 10\n",
    "print(timer1.elapsed)  # Dovrebbe stampare 10\n",
    "\n",
    "timer2 = Timer(5, 20)  # Timer con start 5 e stop 20\n",
    "print(timer2.elapsed)  # Dovrebbe stampare 15\n",
    "\n",
    "timer3 = Timer(10, 10)  # Timer con start e stop uguali\n",
    "print(timer3.elapsed)  # Dovrebbe stampare 0\n",
    "\n",
    "timer4 = Timer(15, 5)  # Timer con start maggiore di stop\n",
    "print(timer4.elapsed)  # Dovrebbe stampare -10"
   ],
   "outputs": [
    {
     "name": "stdout",
     "output_type": "stream",
     "text": [
      "10\n",
      "15\n",
      "0\n",
      "-10\n"
     ]
    }
   ],
   "execution_count": 129
  },
  {
   "cell_type": "markdown",
   "id": "12cdfa1b",
   "metadata": {},
   "source": [
    "### 21. Usa lambda per ordinare tuple in base al secondo elemento."
   ]
  },
  {
   "cell_type": "code",
   "id": "72a4aa21",
   "metadata": {
    "ExecuteTime": {
     "end_time": "2025-06-26T09:53:56.050680Z",
     "start_time": "2025-06-26T09:53:56.045041Z"
    }
   },
   "source": [
    "# Lista di tuple (es. prodotto, quantità)\n",
    "lista_tuple = [('Mela', 50), ('Banana', 25), ('Arancia', 100), ('Kiwi', 10)]\n",
    "\n",
    "lista_ordinata = sorted(lista_tuple,key= lambda x: x[1])\n",
    "\n",
    "print(lista_ordinata)\n"
   ],
   "outputs": [
    {
     "name": "stdout",
     "output_type": "stream",
     "text": [
      "[('Kiwi', 10), ('Banana', 25), ('Mela', 50), ('Arancia', 100)]\n"
     ]
    }
   ],
   "execution_count": 130
  },
  {
   "cell_type": "markdown",
   "id": "809f6aa9",
   "metadata": {},
   "source": [
    "### 22. Usa filter per tenere solo numeri > 100."
   ]
  },
  {
   "cell_type": "code",
   "id": "308a359c",
   "metadata": {
    "ExecuteTime": {
     "end_time": "2025-06-26T09:53:56.073404Z",
     "start_time": "2025-06-26T09:53:56.069715Z"
    }
   },
   "source": [
    "numeri_da_filtrare = [25, 158, 99, 100, 101, -10, 500, 0, 100.5]\n",
    "\n",
    "numeri_filtrati = list(filter(lambda x: x>100,numeri_da_filtrare))\n",
    "\n",
    "print(numeri_filtrati)\n"
   ],
   "outputs": [
    {
     "name": "stdout",
     "output_type": "stream",
     "text": [
      "[158, 101, 500, 100.5]\n"
     ]
    }
   ],
   "execution_count": 131
  },
  {
   "cell_type": "markdown",
   "id": "03b88113",
   "metadata": {},
   "source": [
    "### 23. Usa map per convertire stringhe in uppercase."
   ]
  },
  {
   "cell_type": "code",
   "id": "cc1ea3a5",
   "metadata": {
    "ExecuteTime": {
     "end_time": "2025-06-26T09:53:56.097264Z",
     "start_time": "2025-06-26T09:53:56.094564Z"
    }
   },
   "source": [
    "parole_da_trasformare = [\"ciao\", \"Mondo\", \"PYTHON\", \"Test con Numeri 123\", \"\", \"a\"]\n",
    "\n",
    "parole_trasformate = list(map(lambda s: s.upper(),parole_da_trasformare))\n",
    "print(parole_trasformate)\n"
   ],
   "outputs": [
    {
     "name": "stdout",
     "output_type": "stream",
     "text": [
      "['CIAO', 'MONDO', 'PYTHON', 'TEST CON NUMERI 123', '', 'A']\n"
     ]
    }
   ],
   "execution_count": 132
  },
  {
   "cell_type": "markdown",
   "id": "0db9cf5b",
   "metadata": {},
   "source": [
    "### 24. Usa reduce per calcolare il prodotto degli elementi."
   ]
  },
  {
   "cell_type": "code",
   "id": "2bc85960",
   "metadata": {
    "ExecuteTime": {
     "end_time": "2025-06-26T09:53:56.122408Z",
     "start_time": "2025-06-26T09:53:56.119680Z"
    }
   },
   "source": [
    "from functools import reduce\n",
    "numeri_da_moltiplicare = [2, 3, 5, -4, 1]\n",
    "\n",
    "prodotto = reduce(lambda x, y: x * y, numeri_da_moltiplicare)\n",
    "print(prodotto)"
   ],
   "outputs": [
    {
     "name": "stdout",
     "output_type": "stream",
     "text": [
      "-120\n"
     ]
    }
   ],
   "execution_count": 133
  },
  {
   "cell_type": "markdown",
   "id": "80be6c71",
   "metadata": {},
   "source": [
    "### 25. Scrivi una lambda che restituisce il maggiore tra due numeri."
   ]
  },
  {
   "cell_type": "code",
   "id": "efd2ccbc",
   "metadata": {
    "ExecuteTime": {
     "end_time": "2025-06-26T09:53:56.146931Z",
     "start_time": "2025-06-26T09:53:56.143562Z"
    }
   },
   "source": [
    "coppie_di_test = [\n",
    "    (10, 5),\n",
    "    (3, 8),\n",
    "    (7, 7),\n",
    "    (4, -2),\n",
    "    (-5, -10),\n",
    "    (0, 9)\n",
    "]\n",
    "\n",
    "trova_maggiore = lambda x, y: x if x > y else y\n",
    "\n",
    "# 2. Itera attraverso le coppie di test.\n",
    "for coppia in coppie_di_test:\n",
    "    # 3. 'spacchetta' la tupla in due variabili separate per chiarezza.\n",
    "    num1, num2 = coppia\n",
    "\n",
    "    # 4. CHIAMA la funzione con i due numeri e salva il risultato.\n",
    "    risultato = trova_maggiore(num1, num2)\n",
    "\n",
    "    # 5. Stampa il RISULTATO, non la funzione.\n",
    "    print(f\"Tra {num1} e {num2}, il maggiore è: {risultato}\")\n"
   ],
   "outputs": [
    {
     "name": "stdout",
     "output_type": "stream",
     "text": [
      "Tra 10 e 5, il maggiore è: 10\n",
      "Tra 3 e 8, il maggiore è: 8\n",
      "Tra 7 e 7, il maggiore è: 7\n",
      "Tra 4 e -2, il maggiore è: 4\n",
      "Tra -5 e -10, il maggiore è: -5\n",
      "Tra 0 e 9, il maggiore è: 9\n"
     ]
    }
   ],
   "execution_count": 134
  },
  {
   "cell_type": "markdown",
   "id": "a282ecfe",
   "metadata": {},
   "source": [
    "### 26. Crea un array 3x3 di zeri."
   ]
  },
  {
   "cell_type": "code",
   "id": "5c43d773",
   "metadata": {
    "ExecuteTime": {
     "end_time": "2025-06-26T09:53:56.171536Z",
     "start_time": "2025-06-26T09:53:56.168945Z"
    }
   },
   "source": [
    "array = np.zeros((3,3))\n",
    "print(array)\n"
   ],
   "outputs": [
    {
     "name": "stdout",
     "output_type": "stream",
     "text": [
      "[[0. 0. 0.]\n",
      " [0. 0. 0.]\n",
      " [0. 0. 0.]]\n"
     ]
    }
   ],
   "execution_count": 135
  },
  {
   "cell_type": "markdown",
   "id": "356df309",
   "metadata": {},
   "source": [
    "### 27. Genera un array 4x4 con numeri casuali tra 0 e 1."
   ]
  },
  {
   "cell_type": "code",
   "id": "b37379b0",
   "metadata": {
    "ExecuteTime": {
     "end_time": "2025-06-26T09:53:56.293997Z",
     "start_time": "2025-06-26T09:53:56.193182Z"
    }
   },
   "source": [
    "from numpy.random._examples.cffi.extending import rng\n",
    "\n",
    "# Genera un singolo float\n",
    "random_float = rng.random()\n",
    "random_array = rng.random(16)\n",
    "print(f\"Array di 5 float casuali:\\n{random_array}\")\n",
    "\n",
    "random_matrix = rng.random(size=(4, 4))\n",
    "print(f\"Matrice 2x3 di float casuali:\\n{random_matrix}\")"
   ],
   "outputs": [
    {
     "name": "stdout",
     "output_type": "stream",
     "text": [
      "Array di 5 float casuali:\n",
      "[0.57819389 0.22387711 0.50229694 0.2409432  0.83883832 0.4303899\n",
      " 0.39819893 0.72968125 0.54372486 0.91124739 0.9336814  0.57136715\n",
      " 0.35532578 0.46315922 0.58618549 0.29349501]\n",
      "Matrice 2x3 di float casuali:\n",
      "[[3.51296785e-01 5.41631918e-01 3.09553997e-01 4.70715017e-04]\n",
      " [1.63479916e-01 7.20584643e-01 9.74411056e-01 5.72825395e-03]\n",
      " [3.69204588e-01 6.11678672e-01 4.80811639e-01 5.16196688e-01]\n",
      " [8.23409608e-02 4.96103165e-01 2.56272657e-02 4.21010752e-01]]\n"
     ]
    }
   ],
   "execution_count": 136
  },
  {
   "cell_type": "markdown",
   "id": "001b10b0",
   "metadata": {},
   "source": [
    "### 28. Crea array da 1 a 20, sostituisci multipli di 4 con -1."
   ]
  },
  {
   "cell_type": "code",
   "id": "d49ce538",
   "metadata": {
    "ExecuteTime": {
     "end_time": "2025-06-26T09:53:56.308895Z",
     "start_time": "2025-06-26T09:53:56.306139Z"
    }
   },
   "source": [
    "array = np.arange(1,21)\n",
    "print(array)\n",
    "mask = array %4 == 0\n",
    "print(mask)\n",
    "array[mask] = -1\n",
    "print(array)"
   ],
   "outputs": [
    {
     "name": "stdout",
     "output_type": "stream",
     "text": [
      "[ 1  2  3  4  5  6  7  8  9 10 11 12 13 14 15 16 17 18 19 20]\n",
      "[False False False  True False False False  True False False False  True\n",
      " False False False  True False False False  True]\n",
      "[ 1  2  3 -1  5  6  7 -1  9 10 11 -1 13 14 15 -1 17 18 19 -1]\n"
     ]
    }
   ],
   "execution_count": 137
  },
  {
   "cell_type": "markdown",
   "id": "809ecda0",
   "metadata": {},
   "source": [
    "### 29. Calcola la media di ogni colonna di un array 5x5."
   ]
  },
  {
   "cell_type": "code",
   "id": "f6b67a7d",
   "metadata": {
    "ExecuteTime": {
     "end_time": "2025-06-26T09:53:56.343687Z",
     "start_time": "2025-06-26T09:53:56.339914Z"
    }
   },
   "source": [
    "array = np.random.randint(0,100,(5,5))\n",
    "print(array)\n",
    "media =  np.mean(array,axis = 0) # Colonna  = 0, Riga = 1\n",
    "print(media)\n"
   ],
   "outputs": [
    {
     "name": "stdout",
     "output_type": "stream",
     "text": [
      "[[ 9 16 30 56 20]\n",
      " [69 79 23 19 65]\n",
      " [84 76 39 23 79]\n",
      " [99 61 94 29 24]\n",
      " [29 84 32 53 68]]\n",
      "[58.  63.2 43.6 36.  51.2]\n"
     ]
    }
   ],
   "execution_count": 138
  },
  {
   "cell_type": "markdown",
   "id": "84b1ce34",
   "metadata": {},
   "source": [
    "### 30. Conta i valori > 10 in un array 10x10 casuale."
   ]
  },
  {
   "cell_type": "code",
   "id": "b33129d0",
   "metadata": {
    "ExecuteTime": {
     "end_time": "2025-06-26T09:53:56.367674Z",
     "start_time": "2025-06-26T09:53:56.364853Z"
    }
   },
   "source": [
    "array = np.random.randint(0,100,(10,10))\n",
    "print(array)\n",
    "\n",
    "count = (array > 10).sum()\n",
    "\n",
    "print(count)"
   ],
   "outputs": [
    {
     "name": "stdout",
     "output_type": "stream",
     "text": [
      "[[26 11 40 37 30 53 16 86 41 67]\n",
      " [10 38 98 26 67  3 73 47 92 40]\n",
      " [79  2 31 54 75 27  8 96  8 18]\n",
      " [12 86 11 54 49 66 77 72 26 67]\n",
      " [ 9 86 25 84 34 60 88 37 49 73]\n",
      " [ 5  2 59 42 83 25 47  8  6 64]\n",
      " [66 48 21 94 99 63 64  5  6 40]\n",
      " [89  4 95  0 94 97 99 30 18 56]\n",
      " [86 42  2 41 10 75 10 75 30 98]\n",
      " [75 52 97 40 53 14 29  4 93 56]]\n",
      "82\n"
     ]
    }
   ],
   "execution_count": 139
  },
  {
   "cell_type": "markdown",
   "id": "a27463d7",
   "metadata": {},
   "source": [
    "### 31. Conta valori dispari negativi in un array."
   ]
  },
  {
   "cell_type": "code",
   "id": "31c1e7ab",
   "metadata": {
    "ExecuteTime": {
     "end_time": "2025-06-26T09:53:56.398199Z",
     "start_time": "2025-06-26T09:53:56.394930Z"
    }
   },
   "source": [
    "array = np.random.randint(0,100,(10,10))\n",
    "print(array)\n",
    "\n",
    "count = (array % 2 != 0).sum()\n",
    "\n",
    "print(count)\n"
   ],
   "outputs": [
    {
     "name": "stdout",
     "output_type": "stream",
     "text": [
      "[[56 28 71 67 34  5 99 30 97 34]\n",
      " [81 61 11 17 86 78 38 12 94 82]\n",
      " [24 62 62 68 37  6 10 39 55 58]\n",
      " [ 2  6  9 53 11 56 79 70 86 96]\n",
      " [23 16 29 57 76 29 33 86 25 80]\n",
      " [50 97 10 75 66  7 59 78 58 47]\n",
      " [66  0 63 74 78 33 90 75 75 83]\n",
      " [24 57 55 61 75 90 59 21 60 32]\n",
      " [99 42  6 50 70 64 13 18 28 77]\n",
      " [90 80 46 92 26 70  8  0 58 89]]\n",
      "42\n"
     ]
    }
   ],
   "execution_count": 140
  },
  {
   "cell_type": "markdown",
   "id": "7ba994b5",
   "metadata": {},
   "source": [
    "### 32. Restituisci array booleano per i multipli di 7."
   ]
  },
  {
   "cell_type": "code",
   "id": "5f5a3ec7",
   "metadata": {
    "ExecuteTime": {
     "end_time": "2025-06-26T09:53:56.422035Z",
     "start_time": "2025-06-26T09:53:56.417962Z"
    }
   },
   "source": [
    "array = np.random.randint(0,100,(10,10))\n",
    "print(array)\n",
    "\n",
    "count = (array % 7 != 0).sum()\n",
    "\n",
    "print(count)\n"
   ],
   "outputs": [
    {
     "name": "stdout",
     "output_type": "stream",
     "text": [
      "[[64 83 95 10 45 24 18 94  6  4]\n",
      " [40 19 12 82 15 34 74 89 94 34]\n",
      " [22 54 18 55 85 96 77 96 76 32]\n",
      " [25 42 55 26  3 28 82 41 39 20]\n",
      " [17 84 18  6 14 32 56 22  5  0]\n",
      " [84 68 68 78 62 99 25 42 26  6]\n",
      " [44 79 91 76 73 81 37 56 75 17]\n",
      " [11 95 11  5  3  6 67 40 26 47]\n",
      " [87 23 85 72 79  8  3 93 80 63]\n",
      " [68 55 18 98 25 94 72 18 53 43]]\n",
      "87\n"
     ]
    }
   ],
   "execution_count": 141
  },
  {
   "cell_type": "markdown",
   "id": "485bc3ad",
   "metadata": {},
   "source": [
    "### 33. Normalizza un array (media 0, std 1)."
   ]
  },
  {
   "cell_type": "code",
   "id": "fea8cef9",
   "metadata": {
    "ExecuteTime": {
     "end_time": "2025-06-26T09:53:56.446337Z",
     "start_time": "2025-06-26T09:53:56.442377Z"
    }
   },
   "source": [
    "array = np.random.randint(0,100,(10,10))\n",
    "print('Array pre Standardizzazione: \\n')\n",
    "print(array)\n",
    "print('\\n')\n",
    "media = array.mean()\n",
    "# Potresti anche usare np.mean(punteggi)\n",
    "\n",
    "# 3. Calcoliamo la deviazione standard (σ)\n",
    "dev_std = array.std()\n",
    "\n",
    "array = array - media / dev_std\n",
    "print('Array Post Standardizzazione: \\n')\n",
    "print(array)\n",
    "\n"
   ],
   "outputs": [
    {
     "name": "stdout",
     "output_type": "stream",
     "text": [
      "Array pre Standardizzazione: \n",
      "\n",
      "[[41  4 42 74 70  2 39 94 97 29]\n",
      " [65 76 28 41 15 18 23 32 87 62]\n",
      " [20 38 11 56 15 66  6 39 48 10]\n",
      " [31 64 93 30 17 43 63 37 76  2]\n",
      " [ 1 85 40 41 34 90 16 41 55 79]\n",
      " [44 15 24 93 17 34 66 88  6 27]\n",
      " [47 17 16 80 57 61 21 91 58 65]\n",
      " [60  0 18 48 92  8 60 73 27 47]\n",
      " [95 39 85 21 90 61 86 34 34 27]\n",
      " [91 12 11 37 43 77 66 52 10 95]]\n",
      "\n",
      "\n",
      "Array Post Standardizzazione: \n",
      "\n",
      "[[39.36219526  2.36219526 40.36219526 72.36219526 68.36219526  0.36219526\n",
      "  37.36219526 92.36219526 95.36219526 27.36219526]\n",
      " [63.36219526 74.36219526 26.36219526 39.36219526 13.36219526 16.36219526\n",
      "  21.36219526 30.36219526 85.36219526 60.36219526]\n",
      " [18.36219526 36.36219526  9.36219526 54.36219526 13.36219526 64.36219526\n",
      "   4.36219526 37.36219526 46.36219526  8.36219526]\n",
      " [29.36219526 62.36219526 91.36219526 28.36219526 15.36219526 41.36219526\n",
      "  61.36219526 35.36219526 74.36219526  0.36219526]\n",
      " [-0.63780474 83.36219526 38.36219526 39.36219526 32.36219526 88.36219526\n",
      "  14.36219526 39.36219526 53.36219526 77.36219526]\n",
      " [42.36219526 13.36219526 22.36219526 91.36219526 15.36219526 32.36219526\n",
      "  64.36219526 86.36219526  4.36219526 25.36219526]\n",
      " [45.36219526 15.36219526 14.36219526 78.36219526 55.36219526 59.36219526\n",
      "  19.36219526 89.36219526 56.36219526 63.36219526]\n",
      " [58.36219526 -1.63780474 16.36219526 46.36219526 90.36219526  6.36219526\n",
      "  58.36219526 71.36219526 25.36219526 45.36219526]\n",
      " [93.36219526 37.36219526 83.36219526 19.36219526 88.36219526 59.36219526\n",
      "  84.36219526 32.36219526 32.36219526 25.36219526]\n",
      " [89.36219526 10.36219526  9.36219526 35.36219526 41.36219526 75.36219526\n",
      "  64.36219526 50.36219526  8.36219526 93.36219526]]\n"
     ]
    }
   ],
   "execution_count": 142
  },
  {
   "cell_type": "markdown",
   "id": "a312dcf8",
   "metadata": {},
   "source": [
    "### 34. Da una lista di array, restituisci quello con std maggiore."
   ]
  },
  {
   "cell_type": "code",
   "id": "b52fe0f0",
   "metadata": {
    "ExecuteTime": {
     "end_time": "2025-06-26T09:53:56.470134Z",
     "start_time": "2025-06-26T09:53:56.468469Z"
    }
   },
   "source": "\n",
   "outputs": [],
   "execution_count": 142
  },
  {
   "cell_type": "markdown",
   "id": "df52f481",
   "metadata": {},
   "source": [
    "### 35. Restituisci il valore piu frequente in un array."
   ]
  },
  {
   "cell_type": "code",
   "id": "0f9f29d4",
   "metadata": {
    "ExecuteTime": {
     "end_time": "2025-06-26T09:53:56.484118Z",
     "start_time": "2025-06-26T09:53:56.482093Z"
    }
   },
   "source": [
    "# La tua soluzione qui...\n"
   ],
   "outputs": [],
   "execution_count": 143
  },
  {
   "cell_type": "markdown",
   "id": "a3bf65bc",
   "metadata": {},
   "source": [
    "### 36. Divisione sicura tra due numeri con gestione divisione per zero."
   ]
  },
  {
   "cell_type": "code",
   "id": "1e914f6f",
   "metadata": {
    "ExecuteTime": {
     "end_time": "2025-06-26T09:53:56.502427Z",
     "start_time": "2025-06-26T09:53:56.500317Z"
    }
   },
   "source": [
    "# La tua soluzione qui...\n"
   ],
   "outputs": [],
   "execution_count": 144
  },
  {
   "cell_type": "markdown",
   "id": "9c3962da",
   "metadata": {},
   "source": [
    "### 37. Accetta solo liste, stampa errore altrimenti."
   ]
  },
  {
   "cell_type": "code",
   "id": "9a318836",
   "metadata": {
    "ExecuteTime": {
     "end_time": "2025-06-26T09:53:56.516819Z",
     "start_time": "2025-06-26T09:53:56.514507Z"
    }
   },
   "source": [
    "# La tua soluzione qui...\n"
   ],
   "outputs": [],
   "execution_count": 145
  },
  {
   "cell_type": "markdown",
   "id": "0d6d9c26",
   "metadata": {},
   "source": [
    "### 38. Accetta solo array Numpy, restituisce massimo o errore."
   ]
  },
  {
   "cell_type": "code",
   "id": "05d7d005",
   "metadata": {
    "ExecuteTime": {
     "end_time": "2025-06-26T09:53:56.528887Z",
     "start_time": "2025-06-26T09:53:56.527063Z"
    }
   },
   "source": [
    "# La tua soluzione qui...\n"
   ],
   "outputs": [],
   "execution_count": 146
  },
  {
   "cell_type": "markdown",
   "id": "d2a5cd6e",
   "metadata": {},
   "source": [
    "### 39. Somma due liste elemento per elemento, gestendo lunghezze diverse."
   ]
  },
  {
   "cell_type": "code",
   "id": "731dd722",
   "metadata": {
    "ExecuteTime": {
     "end_time": "2025-06-26T09:53:56.542987Z",
     "start_time": "2025-06-26T09:53:56.540815Z"
    }
   },
   "source": [
    "# La tua soluzione qui...\n"
   ],
   "outputs": [],
   "execution_count": 147
  },
  {
   "cell_type": "markdown",
   "id": "2aaf6a1d",
   "metadata": {},
   "source": [
    "### 40. Apre un file e gestisce l'errore se il file non esiste."
   ]
  },
  {
   "cell_type": "code",
   "id": "52519ae3",
   "metadata": {
    "ExecuteTime": {
     "end_time": "2025-06-26T09:53:56.556603Z",
     "start_time": "2025-06-26T09:53:56.554326Z"
    }
   },
   "source": [
    "# La tua soluzione qui...\n"
   ],
   "outputs": [],
   "execution_count": 148
  },
  {
   "cell_type": "markdown",
   "id": "1be25ad7",
   "metadata": {},
   "source": [
    "### 41. Verifica se una stringa e palindroma."
   ]
  },
  {
   "cell_type": "code",
   "id": "c4bfddb4",
   "metadata": {
    "ExecuteTime": {
     "end_time": "2025-06-26T09:53:56.568650Z",
     "start_time": "2025-06-26T09:53:56.567Z"
    }
   },
   "source": [
    "# La tua soluzione qui...\n"
   ],
   "outputs": [],
   "execution_count": 149
  },
  {
   "cell_type": "markdown",
   "id": "331ddd1b",
   "metadata": {},
   "source": [
    "### 42. Simula due dadi e ritorna la somma."
   ]
  },
  {
   "cell_type": "code",
   "id": "fb2a68cb",
   "metadata": {
    "ExecuteTime": {
     "end_time": "2025-06-26T09:53:56.582413Z",
     "start_time": "2025-06-26T09:53:56.580378Z"
    }
   },
   "source": [
    "# La tua soluzione qui...\n"
   ],
   "outputs": [],
   "execution_count": 150
  },
  {
   "cell_type": "markdown",
   "id": "521d5c5e",
   "metadata": {},
   "source": [
    "### 43. Inverti chiavi e valori di un dizionario."
   ]
  },
  {
   "cell_type": "code",
   "id": "4c5b5b84",
   "metadata": {
    "ExecuteTime": {
     "end_time": "2025-06-26T09:53:56.595797Z",
     "start_time": "2025-06-26T09:53:56.594090Z"
    }
   },
   "source": [
    "# La tua soluzione qui...\n"
   ],
   "outputs": [],
   "execution_count": 151
  },
  {
   "cell_type": "markdown",
   "id": "439e5811",
   "metadata": {},
   "source": [
    "### 44. Restituisci la sottolista con somma massima."
   ]
  },
  {
   "cell_type": "code",
   "id": "e0bcd1d9",
   "metadata": {
    "ExecuteTime": {
     "end_time": "2025-06-26T09:53:56.609368Z",
     "start_time": "2025-06-26T09:53:56.607137Z"
    }
   },
   "source": [
    "# La tua soluzione qui...\n"
   ],
   "outputs": [],
   "execution_count": 152
  },
  {
   "cell_type": "markdown",
   "id": "73c47463",
   "metadata": {},
   "source": [
    "### 45. Controlla se due stringhe sono anagrammi."
   ]
  },
  {
   "cell_type": "code",
   "id": "9a324b33",
   "metadata": {
    "ExecuteTime": {
     "end_time": "2025-06-26T09:53:56.622517Z",
     "start_time": "2025-06-26T09:53:56.620509Z"
    }
   },
   "source": [
    "# La tua soluzione qui...\n"
   ],
   "outputs": [],
   "execution_count": 153
  },
  {
   "cell_type": "markdown",
   "id": "69f1002e",
   "metadata": {},
   "source": [
    "### 46. Ordina i valori unici di un array 1D."
   ]
  },
  {
   "cell_type": "code",
   "id": "d7ac27dc",
   "metadata": {
    "ExecuteTime": {
     "end_time": "2025-06-26T09:53:56.636453Z",
     "start_time": "2025-06-26T09:53:56.634434Z"
    }
   },
   "source": [
    "# La tua soluzione qui...\n"
   ],
   "outputs": [],
   "execution_count": 154
  },
  {
   "cell_type": "markdown",
   "id": "e2d4b289",
   "metadata": {},
   "source": [
    "### 47. Restituisci la diagonale principale di una matrice NxN."
   ]
  },
  {
   "cell_type": "code",
   "id": "4478d09a",
   "metadata": {
    "ExecuteTime": {
     "end_time": "2025-06-26T09:53:56.650661Z",
     "start_time": "2025-06-26T09:53:56.648194Z"
    }
   },
   "source": [
    "# La tua soluzione qui...\n"
   ],
   "outputs": [],
   "execution_count": 155
  },
  {
   "cell_type": "markdown",
   "id": "97d327ad",
   "metadata": {},
   "source": [
    "### 48. Restituisci il secondo valore massimo in un array."
   ]
  },
  {
   "cell_type": "code",
   "id": "875b870f",
   "metadata": {
    "ExecuteTime": {
     "end_time": "2025-06-26T09:53:56.662001Z",
     "start_time": "2025-06-26T09:53:56.660038Z"
    }
   },
   "source": [
    "# La tua soluzione qui...\n"
   ],
   "outputs": [],
   "execution_count": 156
  },
  {
   "cell_type": "markdown",
   "id": "0f826fea",
   "metadata": {},
   "source": [
    "### 49. Differenze tra elementi consecutivi in un array."
   ]
  },
  {
   "cell_type": "code",
   "id": "db4a3530",
   "metadata": {
    "ExecuteTime": {
     "end_time": "2025-06-26T09:53:56.674651Z",
     "start_time": "2025-06-26T09:53:56.672815Z"
    }
   },
   "source": [
    "# La tua soluzione qui...\n"
   ],
   "outputs": [],
   "execution_count": 157
  },
  {
   "cell_type": "markdown",
   "id": "c8839461",
   "metadata": {},
   "source": [
    "### 50. Costruisci un array NxN con 1 sulla diagonale e 0 altrove."
   ]
  },
  {
   "cell_type": "code",
   "id": "dda7c09e",
   "metadata": {
    "ExecuteTime": {
     "end_time": "2025-06-26T09:53:56.688449Z",
     "start_time": "2025-06-26T09:53:56.686262Z"
    }
   },
   "source": [
    "# La tua soluzione qui...\n"
   ],
   "outputs": [],
   "execution_count": 158
  }
 ],
 "metadata": {},
 "nbformat": 4,
 "nbformat_minor": 5
}
