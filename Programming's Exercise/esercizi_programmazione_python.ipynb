{
 "cells": [
  {
   "cell_type": "markdown",
   "id": "2b00a609",
   "metadata": {},
   "source": "# 💻 Esercizi di Programmazione Python"
  },
  {
   "cell_type": "markdown",
   "id": "075cc9fc",
   "metadata": {},
   "source": [
    "### 1. Scrivi una funzione che prende una lista di interi e restituisce un dizionario con chiavi 'pari' e 'dispari'."
   ]
  },
  {
   "cell_type": "code",
   "id": "8055a764",
   "metadata": {
    "ExecuteTime": {
     "end_time": "2025-06-26T08:15:33.699279Z",
     "start_time": "2025-06-26T08:15:33.695351Z"
    }
   },
   "source": [
    "from numpy.ma.core import nomask\n",
    "from parso.python.tree import Class\n",
    "\n",
    "\n",
    "def fun(a:list) -> dict:\n",
    "    dict_pd = {'pari': 0,\n",
    "            'dispari': 0}\n",
    "    for number in a:\n",
    "        if number %2 == 0:\n",
    "            dict_pd['pari'] += 1\n",
    "        else:\n",
    "            dict_pd['dispari'] +=1\n",
    "    return dict_pd\n",
    "\n",
    "# Test con vari casi\n",
    "test1 = [1, 2, 3, 4, 5]  # 2 pari, 3 dispari\n",
    "test2 = [2, 4, 6, 8]     # tutti pari\n",
    "test3 = [1, 3, 5, 7]     # tutti dispari\n",
    "test4 = []               # lista vuota\n",
    "\n",
    "print(\"Test 1:\", fun(test1))  # Dovrebbe dare {'pari': 2, 'dispari': 3}\n",
    "print(\"Test 2:\", fun(test2))  # Dovrebbe dare {'pari': 4, 'dispari': 0}\n",
    "print(\"Test 3:\", fun(test3))  # Dovrebbe dare {'pari': 0, 'dispari': 4}\n",
    "print(\"Test 4:\", fun(test4))  # Dovrebbe dare {'pari': 0, 'dispari': 0}\n"
   ],
   "outputs": [
    {
     "name": "stdout",
     "output_type": "stream",
     "text": [
      "Test 1: {'pari': 2, 'dispari': 3}\n",
      "Test 2: {'pari': 4, 'dispari': 0}\n",
      "Test 3: {'pari': 0, 'dispari': 4}\n",
      "Test 4: {'pari': 0, 'dispari': 0}\n"
     ]
    }
   ],
   "execution_count": 72
  },
  {
   "cell_type": "markdown",
   "id": "1861d18e",
   "metadata": {},
   "source": [
    "### 2. Scrivi una funzione che conta quante volte ogni carattere appare in una stringa."
   ]
  },
  {
   "cell_type": "code",
   "id": "c482819d",
   "metadata": {
    "ExecuteTime": {
     "end_time": "2025-06-26T08:15:33.712822Z",
     "start_time": "2025-06-26T08:15:33.710670Z"
    }
   },
   "source": [
    "def conta_carattere(s:str,c:str) -> int:\n",
    "    count = 0\n",
    "    for character in s:\n",
    "        if character == c:\n",
    "            count += 1\n",
    "    return  count\n",
    "\n",
    "# Test con vari casi\n",
    "print(conta_carattere(\"hello\", \"l\"))      # Dovrebbe dare 2\n",
    "print(conta_carattere(\"python\", \"p\"))     # Dovrebbe dare 1\n",
    "print(conta_carattere(\"banana\", \"a\"))     # Dovrebbe dare 3\n",
    "print(conta_carattere(\"test\", \"x\"))       # Dovrebbe dare 0\n",
    "print(conta_carattere(\"\", \"a\"))           # Dovrebbe dare 0\n",
    "print(conta_carattere(\"AAA\", \"A\"))        # Dovrebbe dare 3\n",
    "print(conta_carattere(\"ciao mondo\", \" \")) # Dovrebbe dare 1"
   ],
   "outputs": [
    {
     "name": "stdout",
     "output_type": "stream",
     "text": [
      "2\n",
      "1\n",
      "3\n",
      "0\n",
      "0\n",
      "3\n",
      "1\n"
     ]
    }
   ],
   "execution_count": 73
  },
  {
   "cell_type": "markdown",
   "id": "10670ab2",
   "metadata": {},
   "source": [
    "### 3. Scrivi una funzione che riceve una lista e restituisce True se tutti gli elementi sono diversi."
   ]
  },
  {
   "cell_type": "code",
   "id": "b71ed1b0",
   "metadata": {
    "ExecuteTime": {
     "end_time": "2025-06-26T08:15:33.761668Z",
     "start_time": "2025-06-26T08:15:33.759529Z"
    }
   },
   "source": [
    "def div(lst:list) -> bool:\n",
    "    num_prec = 0\n",
    "    for num in lst:\n",
    "        if num == num_prec:\n",
    "            return False\n",
    "        else:\n",
    "            num_prec = num\n",
    "\n",
    "    return True\n",
    "\n",
    "# Test con vari casi\n",
    "print(div([1, 2, 3, 4, 5]))  # Dovrebbe restituire True (tutti diversi)\n",
    "print(div([1, 1, 2, 3, 4]))  # Dovrebbe restituire False (ci sono duplicati)\n",
    "print(div([]))               # Dovrebbe restituire True (lista vuota)\n",
    "print(div([7]))              # Dovrebbe restituire True (un solo elemento)\n",
    "print(div([1, 2, 3, 3, 4]))  # Dovrebbe restituire False (duplicati consecutivi)"
   ],
   "outputs": [
    {
     "name": "stdout",
     "output_type": "stream",
     "text": [
      "True\n",
      "False\n",
      "True\n",
      "True\n",
      "False\n"
     ]
    }
   ],
   "execution_count": 74
  },
  {
   "cell_type": "markdown",
   "id": "0c5a8cba",
   "metadata": {},
   "source": [
    "### 4. Scrivi una funzione che restituisce una lista con elementi unici, mantenendo l'ordine."
   ]
  },
  {
   "cell_type": "code",
   "id": "8fb9acef",
   "metadata": {
    "ExecuteTime": {
     "end_time": "2025-06-26T08:15:33.811324Z",
     "start_time": "2025-06-26T08:15:33.809237Z"
    }
   },
   "source": [
    "def elem_unic(lst:list) -> list:\n",
    "\n",
    "    lst = set(lst)\n",
    "    lst = list(lst)\n",
    "    return lst\n",
    "\n",
    "# Test con vari casi\n",
    "print(elem_unic([1, 2, 2, 3, 4, 4, 5]))  # Dovrebbe restituire [1, 2, 3, 4, 5]\n",
    "print(elem_unic([7, 7, 7, 7]))           # Dovrebbe restituire [7]\n",
    "print(elem_unic([]))                    # Dovrebbe restituire []\n",
    "print(elem_unic([1, 2, 3, 4, 5]))       # Dovrebbe restituire [1, 2, 3, 4, 5]\n",
    "print(elem_unic([5, 4, 3, 2, 1, 1, 2])) # Dovrebbe restituire [5, 4, 3, 2, 1]"
   ],
   "outputs": [
    {
     "name": "stdout",
     "output_type": "stream",
     "text": [
      "[1, 2, 3, 4, 5]\n",
      "[7]\n",
      "[]\n",
      "[1, 2, 3, 4, 5]\n",
      "[1, 2, 3, 4, 5]\n"
     ]
    }
   ],
   "execution_count": 75
  },
  {
   "cell_type": "markdown",
   "id": "1c5a303d",
   "metadata": {},
   "source": [
    "### 5. Scrivi una funzione one-liner che restituisce tutti i multipli di 5 in una lista."
   ]
  },
  {
   "cell_type": "code",
   "id": "932fb589",
   "metadata": {
    "ExecuteTime": {
     "end_time": "2025-06-26T08:15:33.860031Z",
     "start_time": "2025-06-26T08:15:33.857880Z"
    }
   },
   "source": [
    "def multiply_of_5(lst:list) -> list:\n",
    "    return [number for number in lst if number %5 == 0]\n",
    "\n",
    "# Test con vari casi\n",
    "print(multiply_of_5([5, 10, 15, 20]))       # Dovrebbe restituire [5, 10, 15, 20]\n",
    "print(multiply_of_5([1, 2, 3, 4]))          # Dovrebbe restituire []\n",
    "print(multiply_of_5([0, 5, 25, 30, 7]))     # Dovrebbe restituire [0, 5, 25, 30]\n",
    "print(multiply_of_5([-5, -10, 0, 3, 8]))    # Dovrebbe restituire [-5, -10, 0]\n",
    "print(multiply_of_5([]))                    # Dovrebbe restituire []\n"
   ],
   "outputs": [
    {
     "name": "stdout",
     "output_type": "stream",
     "text": [
      "[5, 10, 15, 20]\n",
      "[]\n",
      "[0, 5, 25, 30]\n",
      "[-5, -10, 0]\n",
      "[]\n"
     ]
    }
   ],
   "execution_count": 76
  },
  {
   "cell_type": "markdown",
   "id": "021ed442",
   "metadata": {},
   "source": [
    "### 6. Scrivi una funzione che restituisce una lista dei quadrati dei numeri positivi."
   ]
  },
  {
   "cell_type": "code",
   "id": "580f93bc",
   "metadata": {
    "ExecuteTime": {
     "end_time": "2025-06-26T08:15:33.910078Z",
     "start_time": "2025-06-26T08:15:33.907985Z"
    }
   },
   "source": [
    "def quadrati(lst:list) -> list:\n",
    "    return [number **2 for number in lst if number > 0 ]\n",
    "\n",
    "# Test con vari casi\n",
    "print(quadrati([1, 2, 3, 4]))         # Dovrebbe restituire [1, 4, 9, 16]\n",
    "print(quadrati([-1, 2, -3, 4]))       # Dovrebbe restituire [4, 16]\n",
    "print(quadrati([-2, -1, 0]))          # Dovrebbe restituire []\n",
    "print(quadrati([]))                   # Dovrebbe restituire []\n",
    "print(quadrati([5, -5, 10, -10, 3]))  # Dovrebbe restituire [25, 100, 9]"
   ],
   "outputs": [
    {
     "name": "stdout",
     "output_type": "stream",
     "text": [
      "[1, 4, 9, 16]\n",
      "[4, 16]\n",
      "[]\n",
      "[]\n",
      "[25, 100, 9]\n"
     ]
    }
   ],
   "execution_count": 77
  },
  {
   "cell_type": "markdown",
   "id": "705ce686",
   "metadata": {},
   "source": [
    "### 7. Scrivi una funzione che restituisce il massimo numero di True consecutivi in una lista di booleani."
   ]
  },
  {
   "cell_type": "code",
   "id": "926acda2",
   "metadata": {
    "ExecuteTime": {
     "end_time": "2025-06-26T08:15:33.958820Z",
     "start_time": "2025-06-26T08:15:33.956356Z"
    }
   },
   "source": [
    "def max_num(lst:list) -> int:\n",
    "      if len(lst) == 0:\n",
    "          return 0\n",
    "      count = 0\n",
    "      max  = 0\n",
    "      for i in range (0,len(lst)):\n",
    "        if lst[i] == True:\n",
    "            count +=1\n",
    "            if count > max:\n",
    "                max = count\n",
    "        else:\n",
    "            count = 0\n",
    "      return max\n",
    "\n",
    "# Test con vari casi\n",
    "print(max_num([True, True, False, True]))          # Dovrebbe restituire 2\n",
    "print(max_num([True, True, True, False]))          # Dovrebbe restituire 3\n",
    "print(max_num([False, False, True, True]))         # Dovrebbe restituire 2\n",
    "print(max_num([True]))                             # Dovrebbe restituire 1\n",
    "print(max_num([False, True, False, True, True]))   # Dovrebbe restituire 2\n",
    "print(max_num([False, False, False]))              # Dovrebbe restituire 0\n"
   ],
   "outputs": [
    {
     "name": "stdout",
     "output_type": "stream",
     "text": [
      "2\n",
      "3\n",
      "2\n",
      "1\n",
      "2\n",
      "0\n"
     ]
    }
   ],
   "execution_count": 78
  },
  {
   "cell_type": "markdown",
   "id": "3b5b9188",
   "metadata": {},
   "source": [
    "### 8. Scrivi una funzione che prende due liste e restituisce True se una e la reversa dell'altra."
   ]
  },
  {
   "cell_type": "code",
   "id": "8ecd1d67",
   "metadata": {
    "ExecuteTime": {
     "end_time": "2025-06-26T08:15:34.008375Z",
     "start_time": "2025-06-26T08:15:34.005893Z"
    }
   },
   "source": [
    "def reverse(lst1:list,lst2:list) -> bool:\n",
    "    if len(lst1) != len(lst2):\n",
    "        return False\n",
    "    for i in range (0,len(lst1)):\n",
    "        if lst1[i] != lst2[-1-i]:\n",
    "            return False\n",
    "    return True\n",
    "\n",
    "# Test con vari casi\n",
    "print(reverse([1, 2, 3], [3, 2, 1]))         # Dovrebbe restituire True\n",
    "print(reverse([1, 2, 3], [1, 2, 3]))         # Dovrebbe restituire False\n",
    "print(reverse([], []))                        # Dovrebbe restituire True (liste vuote)\n",
    "print(reverse([1], [1]))                      # Dovrebbe restituire True\n",
    "print(reverse([1, 2], [1]))                   # Dovrebbe restituire False (lunghezze diverse)\n",
    "print(reverse(['a', 'b'], ['b', 'a']))       # Dovrebbe restituire True\n",
    "print(reverse([1, 2, 2], [2, 2, 1]))         # Dovrebbe restituire True\n"
   ],
   "outputs": [
    {
     "name": "stdout",
     "output_type": "stream",
     "text": [
      "True\n",
      "False\n",
      "True\n",
      "True\n",
      "False\n",
      "True\n",
      "True\n"
     ]
    }
   ],
   "execution_count": 79
  },
  {
   "cell_type": "markdown",
   "id": "ad23b1a3",
   "metadata": {},
   "source": [
    "### 9. Scrivi una funzione che restituisce il valore massimo per una chiave da una lista di dizionari."
   ]
  },
  {
   "cell_type": "code",
   "id": "04a69d8e",
   "metadata": {
    "ExecuteTime": {
     "end_time": "2025-06-26T08:15:34.057949Z",
     "start_time": "2025-06-26T08:15:34.054638Z"
    }
   },
   "source": [
    "def max_value(lst:list,key:str) -> int:\n",
    "    if len(lst) == 0:\n",
    "        return None\n",
    "\n",
    "    found = False\n",
    "    max_val = None\n",
    "\n",
    "    for dictionary in lst:\n",
    "        if key in dictionary:\n",
    "            if not found:\n",
    "                max_val = dictionary[key]\n",
    "                found = True\n",
    "            elif dictionary[key] > max_val:\n",
    "                max_val = dictionary[key]\n",
    "\n",
    "    return max_val\n",
    "\n",
    "# Test con vari casi\n",
    "test_dict1 = [{'prezzo': 10, 'quantità': 5},\n",
    "              {'prezzo': 20, 'quantità': 3},\n",
    "              {'prezzo': 15, 'quantità': 4}]\n",
    "\n",
    "test_dict2 = [{'voto': -2, 'peso': 1},\n",
    "              {'voto': -5, 'peso': 2},\n",
    "              {'voto': -1, 'peso': 3}]\n",
    "\n",
    "test_dict3 = []  # lista vuota\n",
    "\n",
    "test_dict4 = [{'nome': 'Mario', 'età': 30},\n",
    "              {'nome': 'Luigi', 'età': 25},\n",
    "              {'nome': 'Peach', 'età': 28}]\n",
    "\n",
    "# Test dei casi\n",
    "print(max_value(test_dict1, 'prezzo'))    # Dovrebbe restituire 20\n",
    "print(max_value(test_dict2, 'voto'))      # Dovrebbe restituire -1 (massimo tra negativi)\n",
    "print(max_value(test_dict3, 'chiave'))    # Dovrebbe gestire la lista vuota\n",
    "print(max_value(test_dict4, 'età'))       # Dovrebbe restituire 30\n",
    "print(max_value(test_dict1, 'inesistente'))  # Dovrebbe gestire chiave non presente\n"
   ],
   "outputs": [
    {
     "name": "stdout",
     "output_type": "stream",
     "text": [
      "20\n",
      "-1\n",
      "None\n",
      "30\n",
      "None\n"
     ]
    }
   ],
   "execution_count": 80
  },
  {
   "cell_type": "markdown",
   "id": "8e2a37b2",
   "metadata": {},
   "source": [
    "### 10. Scrivi una funzione che prende una lista di tuple e restituisce la somma dei secondi elementi."
   ]
  },
  {
   "cell_type": "code",
   "id": "b06e6763",
   "metadata": {
    "ExecuteTime": {
     "end_time": "2025-06-26T08:15:34.105929Z",
     "start_time": "2025-06-26T08:15:34.103578Z"
    }
   },
   "source": [
    "def sumtuples (lst:list) -> int:\n",
    "    if len(lst) == 0:\n",
    "        return None\n",
    "    somma = 0\n",
    "    for tupla in lst:\n",
    "        somma += tupla[1]\n",
    "\n",
    "    return somma\n",
    "\n",
    "# Test con vari casi\n",
    "test1 = [(1, 2), (3, 4), (5, 6)]           # Dovrebbe restituire 12 (2 + 4 + 6)\n",
    "test2 = [('a', 1), ('b', 2), ('c', 3)]     # Dovrebbe restituire 6 (1 + 2 + 3)\n",
    "test3 = [(0, -1), (0, -2), (0, -3)]        # Dovrebbe restituire -6 (-1 + -2 + -3)\n",
    "test4 = []                                  # Dovrebbe restituire None (lista vuota)\n",
    "test5 = [(1, 0)]                           # Dovrebbe restituire 0\n",
    "\n",
    "print(sumtuples(test1))  # 12\n",
    "print(sumtuples(test2))  # 6\n",
    "print(sumtuples(test3))  # -6\n",
    "print(sumtuples(test4))  # None\n",
    "print(sumtuples(test5))  # 0\n"
   ],
   "outputs": [
    {
     "name": "stdout",
     "output_type": "stream",
     "text": [
      "12\n",
      "6\n",
      "-6\n",
      "None\n",
      "0\n"
     ]
    }
   ],
   "execution_count": 81
  },
  {
   "cell_type": "markdown",
   "id": "dc6faf7f",
   "metadata": {},
   "source": [
    "### 11. Crea una classe Person con nome e eta, e un metodo che stampa un saluto."
   ]
  },
  {
   "cell_type": "code",
   "id": "26709406",
   "metadata": {
    "ExecuteTime": {
     "end_time": "2025-06-26T08:15:34.154928Z",
     "start_time": "2025-06-26T08:15:34.152552Z"
    }
   },
   "source": [
    "class Person:\n",
    "    def __init__(self,nome,eta):\n",
    "        self.nome = nome\n",
    "        self.eta = eta\n",
    "    def __repr__(self):\n",
    "        return print(f'Ciao! Il tuo nome è:{self.nome} e la tua età è:{self.eta}')\n",
    "\n",
    "# Test con vari casi\n",
    "persona1 = Person(\"Mario\", 25)\n",
    "persona2 = Person(\"Anna\", 30)\n",
    "persona3 = Person(\"\", 0)       # Test con valori vuoti/zero\n",
    "persona4 = Person(\"Luigi\", 17) # Test con un minorenne\n",
    "\n",
    "persona1.__repr__()  # Dovrebbe stampare: Ciao! Il tuo nome è:Mario e la tua età è:25\n",
    "persona2.__repr__()  # Dovrebbe stampare: Ciao! Il tuo nome è:Anna e la tua età è:30\n",
    "persona3.__repr__()  # Dovrebbe stampare: Ciao! Il tuo nome è: e la tua età è:0\n",
    "persona4.__repr__()  # Dovrebbe stampare: Ciao! Il tuo nome è:Luigi e la tua età è:17\n"
   ],
   "outputs": [
    {
     "name": "stdout",
     "output_type": "stream",
     "text": [
      "Ciao! Il tuo nome è:Mario e la tua età è:25\n",
      "Ciao! Il tuo nome è:Anna e la tua età è:30\n",
      "Ciao! Il tuo nome è: e la tua età è:0\n",
      "Ciao! Il tuo nome è:Luigi e la tua età è:17\n"
     ]
    }
   ],
   "execution_count": 82
  },
  {
   "cell_type": "markdown",
   "id": "04203fcb",
   "metadata": {},
   "source": [
    "### 12. Crea una classe BankAccount con saldo, deposito e prelievo."
   ]
  },
  {
   "cell_type": "code",
   "id": "1664aebb",
   "metadata": {
    "ExecuteTime": {
     "end_time": "2025-06-26T08:15:34.205129Z",
     "start_time": "2025-06-26T08:15:34.201942Z"
    }
   },
   "source": [
    "class BankAccount:\n",
    "    def __init__(self,saldo):\n",
    "        self.saldo = saldo\n",
    "\n",
    "    def deposito(self,deposito):\n",
    "        if deposito < 0:\n",
    "            return False\n",
    "        self.saldo += deposito\n",
    "        return True\n",
    "\n",
    "    def prelievo(self,prelievo):\n",
    "        if prelievo > self.saldo or prelievo < 0:\n",
    "            return False\n",
    "        self.saldo = self.saldo - prelievo\n",
    "        return True\n",
    "\n",
    "# Test con vari casi\n",
    "conto = BankAccount(1000)\n",
    "print(conto.deposito(500))      # True (deposito riuscito)\n",
    "print(conto.saldo)              # 1500\n",
    "print(conto.deposito(-100))     # False (importo negativo)\n",
    "print(conto.saldo)              # 1500 (saldo non modificato)\n",
    "print(conto.prelievo(2000))     # False (saldo insufficiente)\n",
    "print(conto.saldo)              # 1500 (saldo non modificato)\n",
    "print(conto.prelievo(500))      # True (prelievo riuscito)\n",
    "print(conto.saldo)              # 1000"
   ],
   "outputs": [
    {
     "name": "stdout",
     "output_type": "stream",
     "text": [
      "True\n",
      "1500\n",
      "False\n",
      "1500\n",
      "False\n",
      "1500\n",
      "True\n",
      "1000\n"
     ]
    }
   ],
   "execution_count": 83
  },
  {
   "cell_type": "markdown",
   "id": "cbdd02be",
   "metadata": {},
   "source": "### 13. Override del metodo __str__ in una classe Car."
  },
  {
   "cell_type": "code",
   "id": "b06b3b8b",
   "metadata": {
    "ExecuteTime": {
     "end_time": "2025-06-26T08:15:34.252816Z",
     "start_time": "2025-06-26T08:15:34.250335Z"
    }
   },
   "source": [
    "class Car:\n",
    "    def __init__(self,nome,marca,modello):\n",
    "        self.nome = nome\n",
    "        self.marca = marca\n",
    "        self.modello = modello\n",
    "    def __str__(self):\n",
    "        return f'La macchina è:{self.nome}\\n La marca è:{self.marca}\\n Il modello è: {self.modello} '\n",
    "\n",
    "\n",
    "# Test con vari casi\n",
    "auto1 = Car(\"500\", \"Fiat\", \"Sport\")\n",
    "auto2 = Car(\"Model S\", \"Tesla\", \"Long Range\")\n",
    "auto3 = Car(\"Urus\", \"Lamborghini\", \"S\")\n",
    "\n",
    "# Test stampa diretta\n",
    "print(auto1)  # Dovrebbe mostrare: La macchina è:500 La marca è:Fiat Il modello è: Sport\n",
    "print(auto2)  # Dovrebbe mostrare: La macchina è:Model S La marca è:Tesla Il modello è: Long Range\n",
    "print(auto3)  # Dovrebbe mostrare: La macchina è:Urus La marca è:Lamborghini Il modello è: S\n",
    "\n",
    "# Test conversione esplicita a stringa\n",
    "stringa_auto = str(auto1)\n",
    "print(stringa_auto)  # Dovrebbe mostrare lo stesso output di print(auto1)\n"
   ],
   "outputs": [
    {
     "name": "stdout",
     "output_type": "stream",
     "text": [
      "La macchina è:500\n",
      " La marca è:Fiat\n",
      " Il modello è: Sport \n",
      "La macchina è:Model S\n",
      " La marca è:Tesla\n",
      " Il modello è: Long Range \n",
      "La macchina è:Urus\n",
      " La marca è:Lamborghini\n",
      " Il modello è: S \n",
      "La macchina è:500\n",
      " La marca è:Fiat\n",
      " Il modello è: Sport \n"
     ]
    }
   ],
   "execution_count": 84
  },
  {
   "cell_type": "markdown",
   "id": "7354a830",
   "metadata": {},
   "source": [
    "### 14. Crea una classe Rectangle con metodi per area e perimetro."
   ]
  },
  {
   "cell_type": "code",
   "id": "efe6d980",
   "metadata": {
    "ExecuteTime": {
     "end_time": "2025-06-26T08:15:34.320501Z",
     "start_time": "2025-06-26T08:15:34.317275Z"
    }
   },
   "source": [
    "class Rectangle:\n",
    "    def __init__(self,base,altezza):\n",
    "        self.base = base\n",
    "        self.altezza = altezza\n",
    "    def area(self):\n",
    "        return self.base * self.altezza\n",
    "    def perimetro(self):\n",
    "        return (self.base*2)+(self.altezza*2)\n",
    "\n",
    "# Test con vari casi\n",
    "rettangolo1 = Rectangle(5, 3)      # rettangolo 5x3\n",
    "rettangolo2 = Rectangle(10, 10)    # quadrato 10x10\n",
    "rettangolo3 = Rectangle(2.5, 4)    # rettangolo con decimali\n",
    "rettangolo4 = Rectangle(0, 5)      # rettangolo con base zero\n",
    "\n",
    "# Test calcolo area\n",
    "print(rettangolo1.area())      # Dovrebbe stampare 15 (5 * 3)\n",
    "print(rettangolo2.area())      # Dovrebbe stampare 100 (10 * 10)\n",
    "print(rettangolo3.area())      # Dovrebbe stampare 10.0 (2.5 * 4)\n",
    "print(rettangolo4.area())      # Dovrebbe stampare 0 (0 * 5)\n",
    "\n",
    "# Test calcolo perimetro\n",
    "print(rettangolo1.perimetro())  # Dovrebbe stampare 16 ((5 * 2) + (3 * 2))\n",
    "print(rettangolo2.perimetro())  # Dovrebbe stampare 40 ((10 * 2) + (10 * 2))\n",
    "print(rettangolo3.perimetro())  # Dovrebbe stampare 13.0 ((2.5 * 2) + (4 * 2))\n",
    "print(rettangolo4.perimetro())  # Dovrebbe stampare 10 ((0 * 2) + (5 * 2))\n"
   ],
   "outputs": [
    {
     "name": "stdout",
     "output_type": "stream",
     "text": [
      "15\n",
      "100\n",
      "10.0\n",
      "0\n",
      "16\n",
      "40\n",
      "13.0\n",
      "10\n"
     ]
    }
   ],
   "execution_count": 85
  },
  {
   "cell_type": "markdown",
   "id": "57e629e0",
   "metadata": {},
   "source": [
    "### 15. Crea una classe Student con lista voti e media."
   ]
  },
  {
   "cell_type": "code",
   "id": "e40c1a85",
   "metadata": {
    "ExecuteTime": {
     "end_time": "2025-06-26T08:15:44.267253Z",
     "start_time": "2025-06-26T08:15:44.238672Z"
    }
   },
   "source": [
    "class Student:\n",
    "    def __init__(self, nome, voti):\n",
    "        self.nome = nome\n",
    "        self.voti = voti\n",
    "\n",
    "    def media(self):\n",
    "        if len(self.voti) == 0:\n",
    "            return 0\n",
    "        return sum(self.voti) / len(self.voti)  # Usa la funzione built-in sum\n",
    "\n",
    "# Test con vari casi\n",
    "studente1 = Student(\"Mario\", [18, 25, 30, 28])\n",
    "studente2 = Student(\"Luigi\", [30, 30, 30])\n",
    "studente3 = Student(\"Anna\", [])\n",
    "studente4 = Student(\"Luca\", [18, 18, 18, 18])\n",
    "studente5 = Student(\"Elena\", [25, 28, 27, 26])\n",
    "\n",
    "# Test stampa voti\n",
    "print(f\"{studente1.nome}: voti = {studente1.voti}\")\n",
    "print(f\"{studente2.nome}: voti = {studente2.voti}\")\n",
    "print(f\"{studente3.nome}: voti = {studente3.voti}\")\n",
    "\n",
    "# Test calcolo media\n",
    "print(f\"La media di {studente1.nome} è: {studente1.media()}\")  # Dovrebbe essere circa 25.25\n",
    "print(f\"La media di {studente2.nome} è: {studente2.media()}\")  # Dovrebbe essere 30.0\n",
    "print(f\"La media di {studente3.nome} è: {studente3.media()}\")  # Dovrebbe essere 0\n",
    "print(f\"La media di {studente4.nome} è: {studente4.media()}\")  # Dovrebbe essere 18.0\n",
    "print(f\"La media di {studente5.nome} è: {studente5.media()}\")  # Dovrebbe essere 26.5"
   ],
   "outputs": [
    {
     "name": "stdout",
     "output_type": "stream",
     "text": [
      "Mario: voti = [18, 25, 30, 28]\n",
      "Luigi: voti = [30, 30, 30]\n",
      "Anna: voti = []\n"
     ]
    },
    {
     "ename": "TypeError",
     "evalue": "'int' object is not subscriptable",
     "output_type": "error",
     "traceback": [
      "\u001B[31m---------------------------------------------------------------------------\u001B[39m",
      "\u001B[31mTypeError\u001B[39m                                 Traceback (most recent call last)",
      "\u001B[36mCell\u001B[39m\u001B[36m \u001B[39m\u001B[32mIn[88]\u001B[39m\u001B[32m, line 24\u001B[39m\n\u001B[32m     21\u001B[39m \u001B[38;5;28mprint\u001B[39m(\u001B[33mf\u001B[39m\u001B[33m\"\u001B[39m\u001B[38;5;132;01m{\u001B[39;00mstudente3.nome\u001B[38;5;132;01m}\u001B[39;00m\u001B[33m: voti = \u001B[39m\u001B[38;5;132;01m{\u001B[39;00mstudente3.voti\u001B[38;5;132;01m}\u001B[39;00m\u001B[33m\"\u001B[39m)\n\u001B[32m     23\u001B[39m \u001B[38;5;66;03m# Test calcolo media\u001B[39;00m\n\u001B[32m---> \u001B[39m\u001B[32m24\u001B[39m \u001B[38;5;28mprint\u001B[39m(\u001B[33mf\u001B[39m\u001B[33m\"\u001B[39m\u001B[33mLa media di \u001B[39m\u001B[38;5;132;01m{\u001B[39;00mstudente1.nome\u001B[38;5;132;01m}\u001B[39;00m\u001B[33m è: \u001B[39m\u001B[38;5;132;01m{\u001B[39;00mstudente1.media()\u001B[38;5;132;01m}\u001B[39;00m\u001B[33m\"\u001B[39m)  \u001B[38;5;66;03m# Dovrebbe essere circa 25.25\u001B[39;00m\n\u001B[32m     25\u001B[39m \u001B[38;5;28mprint\u001B[39m(\u001B[33mf\u001B[39m\u001B[33m\"\u001B[39m\u001B[33mLa media di \u001B[39m\u001B[38;5;132;01m{\u001B[39;00mstudente2.nome\u001B[38;5;132;01m}\u001B[39;00m\u001B[33m è: \u001B[39m\u001B[38;5;132;01m{\u001B[39;00mstudente2.media()\u001B[38;5;132;01m}\u001B[39;00m\u001B[33m\"\u001B[39m)  \u001B[38;5;66;03m# Dovrebbe essere 30.0\u001B[39;00m\n\u001B[32m     26\u001B[39m \u001B[38;5;28mprint\u001B[39m(\u001B[33mf\u001B[39m\u001B[33m\"\u001B[39m\u001B[33mLa media di \u001B[39m\u001B[38;5;132;01m{\u001B[39;00mstudente3.nome\u001B[38;5;132;01m}\u001B[39;00m\u001B[33m è: \u001B[39m\u001B[38;5;132;01m{\u001B[39;00mstudente3.media()\u001B[38;5;132;01m}\u001B[39;00m\u001B[33m\"\u001B[39m)  \u001B[38;5;66;03m# Dovrebbe essere 0\u001B[39;00m\n",
      "\u001B[36mCell\u001B[39m\u001B[36m \u001B[39m\u001B[32mIn[88]\u001B[39m\u001B[32m, line 9\u001B[39m, in \u001B[36mStudent.media\u001B[39m\u001B[34m(self)\u001B[39m\n\u001B[32m      7\u001B[39m \u001B[38;5;28;01mif\u001B[39;00m \u001B[38;5;28mlen\u001B[39m(\u001B[38;5;28mself\u001B[39m.voti) == \u001B[32m0\u001B[39m:\n\u001B[32m      8\u001B[39m     \u001B[38;5;28;01mreturn\u001B[39;00m \u001B[32m0\u001B[39m\n\u001B[32m----> \u001B[39m\u001B[32m9\u001B[39m \u001B[38;5;28;01mreturn\u001B[39;00m \u001B[38;5;28msum\u001B[39m(\u001B[38;5;28mself\u001B[39m.voti) / \u001B[38;5;28mlen\u001B[39m(\u001B[38;5;28mself\u001B[39m.voti)\n",
      "\u001B[36mCell\u001B[39m\u001B[36m \u001B[39m\u001B[32mIn[21]\u001B[39m\u001B[32m, line 6\u001B[39m, in \u001B[36msum\u001B[39m\u001B[34m(lst)\u001B[39m\n\u001B[32m      4\u001B[39m \u001B[38;5;28msum\u001B[39m = \u001B[32m0\u001B[39m\n\u001B[32m      5\u001B[39m \u001B[38;5;28;01mfor\u001B[39;00m tupla \u001B[38;5;129;01min\u001B[39;00m lst:\n\u001B[32m----> \u001B[39m\u001B[32m6\u001B[39m     \u001B[38;5;28msum\u001B[39m += tupla[\u001B[32m1\u001B[39m]\n\u001B[32m      8\u001B[39m \u001B[38;5;28;01mreturn\u001B[39;00m \u001B[38;5;28msum\u001B[39m\n",
      "\u001B[31mTypeError\u001B[39m: 'int' object is not subscriptable"
     ]
    }
   ],
   "execution_count": 88
  },
  {
   "cell_type": "markdown",
   "id": "6e9ca69b",
   "metadata": {},
   "source": [
    "### 16. Crea una classe Animal e una sottoclasse Dog che override speak()."
   ]
  },
  {
   "cell_type": "code",
   "id": "83ac6dd9",
   "metadata": {},
   "source": [
    "# La tua soluzione qui...\n"
   ],
   "outputs": [],
   "execution_count": null
  },
  {
   "cell_type": "markdown",
   "id": "f0a67e1c",
   "metadata": {},
   "source": [
    "### 17. Due oggetti Book sono uguali se titolo e autore coincidono."
   ]
  },
  {
   "cell_type": "code",
   "id": "8a22e5b2",
   "metadata": {},
   "source": [
    "# La tua soluzione qui...\n"
   ],
   "outputs": [],
   "execution_count": null
  },
  {
   "cell_type": "markdown",
   "id": "aacd15be",
   "metadata": {},
   "source": [
    "### 18. Crea una Shape astratta con area(), da implementare in Circle e Square."
   ]
  },
  {
   "cell_type": "code",
   "id": "9ca764df",
   "metadata": {},
   "source": [
    "# La tua soluzione qui...\n"
   ],
   "outputs": [],
   "execution_count": null
  },
  {
   "cell_type": "markdown",
   "id": "5ffdfe40",
   "metadata": {},
   "source": [
    "### 19. Crea una classe Counter che incrementa solo se il valore e pari."
   ]
  },
  {
   "cell_type": "code",
   "id": "0aab5918",
   "metadata": {},
   "source": [
    "# La tua soluzione qui...\n"
   ],
   "outputs": [],
   "execution_count": null
  },
  {
   "cell_type": "markdown",
   "id": "89e9e5b4",
   "metadata": {},
   "source": [
    "### 20. Crea una classe Timer con start, stop e elapsed."
   ]
  },
  {
   "cell_type": "code",
   "id": "3e3d7adb",
   "metadata": {},
   "source": [
    "# La tua soluzione qui...\n"
   ],
   "outputs": [],
   "execution_count": null
  },
  {
   "cell_type": "markdown",
   "id": "12cdfa1b",
   "metadata": {},
   "source": [
    "### 21. Usa lambda per ordinare tuple in base al secondo elemento."
   ]
  },
  {
   "cell_type": "code",
   "id": "72a4aa21",
   "metadata": {},
   "source": [
    "# La tua soluzione qui...\n"
   ],
   "outputs": [],
   "execution_count": null
  },
  {
   "cell_type": "markdown",
   "id": "809f6aa9",
   "metadata": {},
   "source": [
    "### 22. Usa filter per tenere solo numeri > 100."
   ]
  },
  {
   "cell_type": "code",
   "id": "308a359c",
   "metadata": {},
   "source": [
    "# La tua soluzione qui...\n"
   ],
   "outputs": [],
   "execution_count": null
  },
  {
   "cell_type": "markdown",
   "id": "03b88113",
   "metadata": {},
   "source": [
    "### 23. Usa map per convertire stringhe in uppercase."
   ]
  },
  {
   "cell_type": "code",
   "id": "cc1ea3a5",
   "metadata": {},
   "source": [
    "# La tua soluzione qui...\n"
   ],
   "outputs": [],
   "execution_count": null
  },
  {
   "cell_type": "markdown",
   "id": "0db9cf5b",
   "metadata": {},
   "source": [
    "### 24. Usa reduce per calcolare il prodotto degli elementi."
   ]
  },
  {
   "cell_type": "code",
   "id": "2bc85960",
   "metadata": {},
   "source": [
    "# La tua soluzione qui...\n"
   ],
   "outputs": [],
   "execution_count": null
  },
  {
   "cell_type": "markdown",
   "id": "80be6c71",
   "metadata": {},
   "source": [
    "### 25. Scrivi una lambda che restituisce il maggiore tra due numeri."
   ]
  },
  {
   "cell_type": "code",
   "id": "efd2ccbc",
   "metadata": {},
   "source": [
    "# La tua soluzione qui...\n"
   ],
   "outputs": [],
   "execution_count": null
  },
  {
   "cell_type": "markdown",
   "id": "a282ecfe",
   "metadata": {},
   "source": [
    "### 26. Crea un array 3x3 di zeri."
   ]
  },
  {
   "cell_type": "code",
   "id": "5c43d773",
   "metadata": {},
   "source": [
    "# La tua soluzione qui...\n"
   ],
   "outputs": [],
   "execution_count": null
  },
  {
   "cell_type": "markdown",
   "id": "356df309",
   "metadata": {},
   "source": [
    "### 27. Genera un array 4x4 con numeri casuali tra 0 e 1."
   ]
  },
  {
   "cell_type": "code",
   "id": "b37379b0",
   "metadata": {},
   "source": [
    "# La tua soluzione qui...\n"
   ],
   "outputs": [],
   "execution_count": null
  },
  {
   "cell_type": "markdown",
   "id": "001b10b0",
   "metadata": {},
   "source": [
    "### 28. Crea array da 1 a 20, sostituisci multipli di 4 con -1."
   ]
  },
  {
   "cell_type": "code",
   "id": "d49ce538",
   "metadata": {},
   "source": [
    "# La tua soluzione qui...\n"
   ],
   "outputs": [],
   "execution_count": null
  },
  {
   "cell_type": "markdown",
   "id": "809ecda0",
   "metadata": {},
   "source": [
    "### 29. Calcola la media di ogni colonna di un array 5x5."
   ]
  },
  {
   "cell_type": "code",
   "id": "f6b67a7d",
   "metadata": {},
   "source": [
    "# La tua soluzione qui...\n"
   ],
   "outputs": [],
   "execution_count": null
  },
  {
   "cell_type": "markdown",
   "id": "84b1ce34",
   "metadata": {},
   "source": [
    "### 30. Conta i valori > 10 in un array 10x10 casuale."
   ]
  },
  {
   "cell_type": "code",
   "id": "b33129d0",
   "metadata": {},
   "source": [
    "# La tua soluzione qui...\n"
   ],
   "outputs": [],
   "execution_count": null
  },
  {
   "cell_type": "markdown",
   "id": "a27463d7",
   "metadata": {},
   "source": [
    "### 31. Conta valori dispari negativi in un array."
   ]
  },
  {
   "cell_type": "code",
   "id": "31c1e7ab",
   "metadata": {},
   "source": [
    "# La tua soluzione qui...\n"
   ],
   "outputs": [],
   "execution_count": null
  },
  {
   "cell_type": "markdown",
   "id": "7ba994b5",
   "metadata": {},
   "source": [
    "### 32. Restituisci array booleano per i multipli di 7."
   ]
  },
  {
   "cell_type": "code",
   "id": "5f5a3ec7",
   "metadata": {},
   "source": [
    "# La tua soluzione qui...\n"
   ],
   "outputs": [],
   "execution_count": null
  },
  {
   "cell_type": "markdown",
   "id": "485bc3ad",
   "metadata": {},
   "source": [
    "### 33. Normalizza un array (media 0, std 1)."
   ]
  },
  {
   "cell_type": "code",
   "id": "fea8cef9",
   "metadata": {},
   "source": [
    "# La tua soluzione qui...\n"
   ],
   "outputs": [],
   "execution_count": null
  },
  {
   "cell_type": "markdown",
   "id": "a312dcf8",
   "metadata": {},
   "source": [
    "### 34. Da una lista di array, restituisci quello con std maggiore."
   ]
  },
  {
   "cell_type": "code",
   "id": "b52fe0f0",
   "metadata": {},
   "source": [
    "# La tua soluzione qui...\n"
   ],
   "outputs": [],
   "execution_count": null
  },
  {
   "cell_type": "markdown",
   "id": "df52f481",
   "metadata": {},
   "source": [
    "### 35. Restituisci il valore piu frequente in un array."
   ]
  },
  {
   "cell_type": "code",
   "id": "0f9f29d4",
   "metadata": {},
   "source": [
    "# La tua soluzione qui...\n"
   ],
   "outputs": [],
   "execution_count": null
  },
  {
   "cell_type": "markdown",
   "id": "a3bf65bc",
   "metadata": {},
   "source": [
    "### 36. Divisione sicura tra due numeri con gestione divisione per zero."
   ]
  },
  {
   "cell_type": "code",
   "id": "1e914f6f",
   "metadata": {},
   "source": [
    "# La tua soluzione qui...\n"
   ],
   "outputs": [],
   "execution_count": null
  },
  {
   "cell_type": "markdown",
   "id": "9c3962da",
   "metadata": {},
   "source": [
    "### 37. Accetta solo liste, stampa errore altrimenti."
   ]
  },
  {
   "cell_type": "code",
   "id": "9a318836",
   "metadata": {},
   "source": [
    "# La tua soluzione qui...\n"
   ],
   "outputs": [],
   "execution_count": null
  },
  {
   "cell_type": "markdown",
   "id": "0d6d9c26",
   "metadata": {},
   "source": [
    "### 38. Accetta solo array Numpy, restituisce massimo o errore."
   ]
  },
  {
   "cell_type": "code",
   "id": "05d7d005",
   "metadata": {},
   "source": [
    "# La tua soluzione qui...\n"
   ],
   "outputs": [],
   "execution_count": null
  },
  {
   "cell_type": "markdown",
   "id": "d2a5cd6e",
   "metadata": {},
   "source": [
    "### 39. Somma due liste elemento per elemento, gestendo lunghezze diverse."
   ]
  },
  {
   "cell_type": "code",
   "id": "731dd722",
   "metadata": {},
   "source": [
    "# La tua soluzione qui...\n"
   ],
   "outputs": [],
   "execution_count": null
  },
  {
   "cell_type": "markdown",
   "id": "2aaf6a1d",
   "metadata": {},
   "source": [
    "### 40. Apre un file e gestisce l'errore se il file non esiste."
   ]
  },
  {
   "cell_type": "code",
   "id": "52519ae3",
   "metadata": {},
   "source": [
    "# La tua soluzione qui...\n"
   ],
   "outputs": [],
   "execution_count": null
  },
  {
   "cell_type": "markdown",
   "id": "1be25ad7",
   "metadata": {},
   "source": [
    "### 41. Verifica se una stringa e palindroma."
   ]
  },
  {
   "cell_type": "code",
   "id": "c4bfddb4",
   "metadata": {},
   "source": [
    "# La tua soluzione qui...\n"
   ],
   "outputs": [],
   "execution_count": null
  },
  {
   "cell_type": "markdown",
   "id": "331ddd1b",
   "metadata": {},
   "source": [
    "### 42. Simula due dadi e ritorna la somma."
   ]
  },
  {
   "cell_type": "code",
   "id": "fb2a68cb",
   "metadata": {},
   "source": [
    "# La tua soluzione qui...\n"
   ],
   "outputs": [],
   "execution_count": null
  },
  {
   "cell_type": "markdown",
   "id": "521d5c5e",
   "metadata": {},
   "source": [
    "### 43. Inverti chiavi e valori di un dizionario."
   ]
  },
  {
   "cell_type": "code",
   "id": "4c5b5b84",
   "metadata": {},
   "source": [
    "# La tua soluzione qui...\n"
   ],
   "outputs": [],
   "execution_count": null
  },
  {
   "cell_type": "markdown",
   "id": "439e5811",
   "metadata": {},
   "source": [
    "### 44. Restituisci la sottolista con somma massima."
   ]
  },
  {
   "cell_type": "code",
   "id": "e0bcd1d9",
   "metadata": {},
   "source": [
    "# La tua soluzione qui...\n"
   ],
   "outputs": [],
   "execution_count": null
  },
  {
   "cell_type": "markdown",
   "id": "73c47463",
   "metadata": {},
   "source": [
    "### 45. Controlla se due stringhe sono anagrammi."
   ]
  },
  {
   "cell_type": "code",
   "id": "9a324b33",
   "metadata": {},
   "source": [
    "# La tua soluzione qui...\n"
   ],
   "outputs": [],
   "execution_count": null
  },
  {
   "cell_type": "markdown",
   "id": "69f1002e",
   "metadata": {},
   "source": [
    "### 46. Ordina i valori unici di un array 1D."
   ]
  },
  {
   "cell_type": "code",
   "id": "d7ac27dc",
   "metadata": {},
   "source": [
    "# La tua soluzione qui...\n"
   ],
   "outputs": [],
   "execution_count": null
  },
  {
   "cell_type": "markdown",
   "id": "e2d4b289",
   "metadata": {},
   "source": [
    "### 47. Restituisci la diagonale principale di una matrice NxN."
   ]
  },
  {
   "cell_type": "code",
   "id": "4478d09a",
   "metadata": {},
   "source": [
    "# La tua soluzione qui...\n"
   ],
   "outputs": [],
   "execution_count": null
  },
  {
   "cell_type": "markdown",
   "id": "97d327ad",
   "metadata": {},
   "source": [
    "### 48. Restituisci il secondo valore massimo in un array."
   ]
  },
  {
   "cell_type": "code",
   "id": "875b870f",
   "metadata": {},
   "source": [
    "# La tua soluzione qui...\n"
   ],
   "outputs": [],
   "execution_count": null
  },
  {
   "cell_type": "markdown",
   "id": "0f826fea",
   "metadata": {},
   "source": [
    "### 49. Differenze tra elementi consecutivi in un array."
   ]
  },
  {
   "cell_type": "code",
   "id": "db4a3530",
   "metadata": {},
   "source": [
    "# La tua soluzione qui...\n"
   ],
   "outputs": [],
   "execution_count": null
  },
  {
   "cell_type": "markdown",
   "id": "c8839461",
   "metadata": {},
   "source": [
    "### 50. Costruisci un array NxN con 1 sulla diagonale e 0 altrove."
   ]
  },
  {
   "cell_type": "code",
   "id": "dda7c09e",
   "metadata": {},
   "source": [
    "# La tua soluzione qui...\n"
   ],
   "outputs": [],
   "execution_count": null
  }
 ],
 "metadata": {},
 "nbformat": 4,
 "nbformat_minor": 5
}
