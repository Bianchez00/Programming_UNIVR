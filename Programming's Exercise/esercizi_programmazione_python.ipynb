{
 "cells": [
  {
   "cell_type": "markdown",
   "id": "2b00a609",
   "metadata": {},
   "source": "# 💻 Esercizi di Programmazione Python"
  },
  {
   "cell_type": "markdown",
   "id": "075cc9fc",
   "metadata": {},
   "source": [
    "### 1. Scrivi una funzione che prende una lista di interi e restituisce un dizionario con chiavi 'pari' e 'dispari'."
   ]
  },
  {
   "cell_type": "code",
   "id": "8055a764",
   "metadata": {
    "ExecuteTime": {
     "end_time": "2025-06-25T12:39:01.768947Z",
     "start_time": "2025-06-25T12:39:01.766312Z"
    }
   },
   "source": [
    "def fun(a:list) -> dict:\n",
    "    dict_pd = {'pari': 0,\n",
    "            'dispari': 0}\n",
    "    for number in a:\n",
    "        if number %2 == 0:\n",
    "            dict_pd['pari'] += 1\n",
    "        else:\n",
    "            dict_pd['dispari'] +=1\n",
    "    return dict_pd\n",
    "\n",
    "# Test con vari casi\n",
    "test1 = [1, 2, 3, 4, 5]  # 2 pari, 3 dispari\n",
    "test2 = [2, 4, 6, 8]     # tutti pari\n",
    "test3 = [1, 3, 5, 7]     # tutti dispari\n",
    "test4 = []               # lista vuota\n",
    "\n",
    "print(\"Test 1:\", fun(test1))  # Dovrebbe dare {'pari': 2, 'dispari': 3}\n",
    "print(\"Test 2:\", fun(test2))  # Dovrebbe dare {'pari': 4, 'dispari': 0}\n",
    "print(\"Test 3:\", fun(test3))  # Dovrebbe dare {'pari': 0, 'dispari': 4}\n",
    "print(\"Test 4:\", fun(test4))  # Dovrebbe dare {'pari': 0, 'dispari': 0}\n"
   ],
   "outputs": [
    {
     "name": "stdout",
     "output_type": "stream",
     "text": [
      "Test 1: {'pari': 2, 'dispari': 3}\n",
      "Test 2: {'pari': 4, 'dispari': 0}\n",
      "Test 3: {'pari': 0, 'dispari': 4}\n",
      "Test 4: {'pari': 0, 'dispari': 0}\n"
     ]
    }
   ],
   "execution_count": 2
  },
  {
   "cell_type": "markdown",
   "id": "1861d18e",
   "metadata": {},
   "source": [
    "### 2. Scrivi una funzione che conta quante volte ogni carattere appare in una stringa."
   ]
  },
  {
   "cell_type": "code",
   "id": "c482819d",
   "metadata": {
    "ExecuteTime": {
     "end_time": "2025-06-25T12:41:28.727729Z",
     "start_time": "2025-06-25T12:41:28.725149Z"
    }
   },
   "source": [
    "def conta_carattere(s:str,c:str) -> int:\n",
    "    count = 0\n",
    "    for character in s:\n",
    "        if character == c:\n",
    "            count += 1\n",
    "    return  count\n",
    "\n",
    "# Test con vari casi\n",
    "print(conta_carattere(\"hello\", \"l\"))      # Dovrebbe dare 2\n",
    "print(conta_carattere(\"python\", \"p\"))     # Dovrebbe dare 1\n",
    "print(conta_carattere(\"banana\", \"a\"))     # Dovrebbe dare 3\n",
    "print(conta_carattere(\"test\", \"x\"))       # Dovrebbe dare 0\n",
    "print(conta_carattere(\"\", \"a\"))           # Dovrebbe dare 0\n",
    "print(conta_carattere(\"AAA\", \"A\"))        # Dovrebbe dare 3\n",
    "print(conta_carattere(\"ciao mondo\", \" \")) # Dovrebbe dare 1"
   ],
   "outputs": [
    {
     "name": "stdout",
     "output_type": "stream",
     "text": [
      "2\n",
      "1\n",
      "3\n",
      "0\n",
      "0\n",
      "3\n",
      "1\n"
     ]
    }
   ],
   "execution_count": 3
  },
  {
   "cell_type": "markdown",
   "id": "10670ab2",
   "metadata": {},
   "source": [
    "### 3. Scrivi una funzione che riceve una lista e restituisce True se tutti gli elementi sono diversi."
   ]
  },
  {
   "cell_type": "code",
   "id": "b71ed1b0",
   "metadata": {
    "ExecuteTime": {
     "end_time": "2025-06-25T12:44:13.977569Z",
     "start_time": "2025-06-25T12:44:13.974933Z"
    }
   },
   "source": [
    "def div(lst:list) -> bool:\n",
    "    num_prec = 0\n",
    "    for num in lst:\n",
    "        if num == num_prec:\n",
    "            return False\n",
    "        else:\n",
    "            num_prec = num\n",
    "\n",
    "    return True\n",
    "\n",
    "# Test con vari casi\n",
    "print(div([1, 2, 3, 4, 5]))  # Dovrebbe restituire True (tutti diversi)\n",
    "print(div([1, 1, 2, 3, 4]))  # Dovrebbe restituire False (ci sono duplicati)\n",
    "print(div([]))               # Dovrebbe restituire True (lista vuota)\n",
    "print(div([7]))              # Dovrebbe restituire True (un solo elemento)\n",
    "print(div([1, 2, 3, 3, 4]))  # Dovrebbe restituire False (duplicati consecutivi)"
   ],
   "outputs": [
    {
     "name": "stdout",
     "output_type": "stream",
     "text": [
      "True\n",
      "False\n",
      "True\n",
      "True\n",
      "False\n"
     ]
    }
   ],
   "execution_count": 4
  },
  {
   "cell_type": "markdown",
   "id": "0c5a8cba",
   "metadata": {},
   "source": [
    "### 4. Scrivi una funzione che restituisce una lista con elementi unici, mantenendo l'ordine."
   ]
  },
  {
   "cell_type": "code",
   "id": "8fb9acef",
   "metadata": {
    "ExecuteTime": {
     "end_time": "2025-06-25T12:49:10.910886Z",
     "start_time": "2025-06-25T12:49:10.907500Z"
    }
   },
   "source": [
    "def elem_unic(lst:list) -> list:\n",
    "\n",
    "    lst = set(lst)\n",
    "    lst = list(lst)\n",
    "    return lst\n",
    "\n",
    "# Test con vari casi\n",
    "print(elem_unic([1, 2, 2, 3, 4, 4, 5]))  # Dovrebbe restituire [1, 2, 3, 4, 5]\n",
    "print(elem_unic([7, 7, 7, 7]))           # Dovrebbe restituire [7]\n",
    "print(elem_unic([]))                    # Dovrebbe restituire []\n",
    "print(elem_unic([1, 2, 3, 4, 5]))       # Dovrebbe restituire [1, 2, 3, 4, 5]\n",
    "print(elem_unic([5, 4, 3, 2, 1, 1, 2])) # Dovrebbe restituire [5, 4, 3, 2, 1]"
   ],
   "outputs": [
    {
     "name": "stdout",
     "output_type": "stream",
     "text": [
      "[1, 2, 3, 4, 5]\n",
      "[7]\n",
      "[]\n",
      "[1, 2, 3, 4, 5]\n",
      "[1, 2, 3, 4, 5]\n"
     ]
    }
   ],
   "execution_count": 7
  },
  {
   "cell_type": "markdown",
   "id": "1c5a303d",
   "metadata": {},
   "source": [
    "### 5. Scrivi una funzione one-liner che restituisce tutti i multipli di 5 in una lista."
   ]
  },
  {
   "cell_type": "code",
   "id": "932fb589",
   "metadata": {
    "ExecuteTime": {
     "end_time": "2025-06-25T12:54:26.832071Z",
     "start_time": "2025-06-25T12:54:26.828673Z"
    }
   },
   "source": [
    "def multiply_of_5(lst:list) -> list:\n",
    "    return [number for number in lst if number %5 == 0]\n",
    "\n",
    "# Test con vari casi\n",
    "print(multiply_of_5([5, 10, 15, 20]))       # Dovrebbe restituire [5, 10, 15, 20]\n",
    "print(multiply_of_5([1, 2, 3, 4]))          # Dovrebbe restituire []\n",
    "print(multiply_of_5([0, 5, 25, 30, 7]))     # Dovrebbe restituire [0, 5, 25, 30]\n",
    "print(multiply_of_5([-5, -10, 0, 3, 8]))    # Dovrebbe restituire [-5, -10, 0]\n",
    "print(multiply_of_5([]))                    # Dovrebbe restituire []\n"
   ],
   "outputs": [
    {
     "name": "stdout",
     "output_type": "stream",
     "text": [
      "[5, 10, 15, 20]\n",
      "[]\n",
      "[0, 5, 25, 30]\n",
      "[-5, -10, 0]\n",
      "[]\n"
     ]
    }
   ],
   "execution_count": 14
  },
  {
   "cell_type": "markdown",
   "id": "021ed442",
   "metadata": {},
   "source": [
    "### 6. Scrivi una funzione che restituisce una lista dei quadrati dei numeri positivi."
   ]
  },
  {
   "cell_type": "code",
   "id": "580f93bc",
   "metadata": {
    "ExecuteTime": {
     "end_time": "2025-06-25T12:56:09.991159Z",
     "start_time": "2025-06-25T12:56:09.984780Z"
    }
   },
   "source": [
    "def quadrati(lst:list) -> list:\n",
    "    return [number **2 for number in lst if number > 0 ]\n",
    "\n",
    "# Test con vari casi\n",
    "print(quadrati([1, 2, 3, 4]))         # Dovrebbe restituire [1, 4, 9, 16]\n",
    "print(quadrati([-1, 2, -3, 4]))       # Dovrebbe restituire [4, 16]\n",
    "print(quadrati([-2, -1, 0]))          # Dovrebbe restituire []\n",
    "print(quadrati([]))                   # Dovrebbe restituire []\n",
    "print(quadrati([5, -5, 10, -10, 3]))  # Dovrebbe restituire [25, 100, 9]"
   ],
   "outputs": [
    {
     "name": "stdout",
     "output_type": "stream",
     "text": [
      "[1, 4, 9, 16]\n",
      "[4, 16]\n",
      "[]\n",
      "[]\n",
      "[25, 100, 9]\n"
     ]
    }
   ],
   "execution_count": 16
  },
  {
   "cell_type": "markdown",
   "id": "705ce686",
   "metadata": {},
   "source": [
    "### 7. Scrivi una funzione che restituisce il massimo numero di True consecutivi in una lista di booleani."
   ]
  },
  {
   "cell_type": "code",
   "execution_count": null,
   "id": "926acda2",
   "metadata": {},
   "outputs": [],
   "source": [
    "def max_num(lst:list) -> bool:\n",
    "      count = 0\n",
    "      flag_before = lst[0]\n",
    "\n",
    "      for bool in lst:\n",
    "          if bool = flag_before:\n",
    "              count++\n"
   ]
  },
  {
   "cell_type": "markdown",
   "id": "3b5b9188",
   "metadata": {},
   "source": [
    "### 8. Scrivi una funzione che prende due liste e restituisce True se una e la reversa dell'altra."
   ]
  },
  {
   "cell_type": "code",
   "execution_count": null,
   "id": "8ecd1d67",
   "metadata": {},
   "outputs": [],
   "source": [
    "# La tua soluzione qui...\n"
   ]
  },
  {
   "cell_type": "markdown",
   "id": "ad23b1a3",
   "metadata": {},
   "source": [
    "### 9. Scrivi una funzione che restituisce il valore massimo per una chiave da una lista di dizionari."
   ]
  },
  {
   "cell_type": "code",
   "execution_count": null,
   "id": "04a69d8e",
   "metadata": {},
   "outputs": [],
   "source": [
    "# La tua soluzione qui...\n"
   ]
  },
  {
   "cell_type": "markdown",
   "id": "8e2a37b2",
   "metadata": {},
   "source": [
    "### 10. Scrivi una funzione che prende una lista di tuple e restituisce la somma dei secondi elementi."
   ]
  },
  {
   "cell_type": "code",
   "execution_count": null,
   "id": "b06e6763",
   "metadata": {},
   "outputs": [],
   "source": [
    "# La tua soluzione qui...\n"
   ]
  },
  {
   "cell_type": "markdown",
   "id": "dc6faf7f",
   "metadata": {},
   "source": [
    "### 11. Crea una classe Person con nome e eta, e un metodo che stampa un saluto."
   ]
  },
  {
   "cell_type": "code",
   "execution_count": null,
   "id": "26709406",
   "metadata": {},
   "outputs": [],
   "source": [
    "# La tua soluzione qui...\n"
   ]
  },
  {
   "cell_type": "markdown",
   "id": "04203fcb",
   "metadata": {},
   "source": [
    "### 12. Crea una classe BankAccount con saldo, deposito e prelievo."
   ]
  },
  {
   "cell_type": "code",
   "execution_count": null,
   "id": "1664aebb",
   "metadata": {},
   "outputs": [],
   "source": [
    "# La tua soluzione qui...\n"
   ]
  },
  {
   "cell_type": "markdown",
   "id": "cbdd02be",
   "metadata": {},
   "source": [
    "### 13. Override del metodo __str__ in una classe Car."
   ]
  },
  {
   "cell_type": "code",
   "execution_count": null,
   "id": "b06b3b8b",
   "metadata": {},
   "outputs": [],
   "source": [
    "# La tua soluzione qui...\n"
   ]
  },
  {
   "cell_type": "markdown",
   "id": "7354a830",
   "metadata": {},
   "source": [
    "### 14. Crea una classe Rectangle con metodi per area e perimetro."
   ]
  },
  {
   "cell_type": "code",
   "execution_count": null,
   "id": "efe6d980",
   "metadata": {},
   "outputs": [],
   "source": [
    "# La tua soluzione qui...\n"
   ]
  },
  {
   "cell_type": "markdown",
   "id": "57e629e0",
   "metadata": {},
   "source": [
    "### 15. Crea una classe Student con lista voti e media."
   ]
  },
  {
   "cell_type": "code",
   "execution_count": null,
   "id": "e40c1a85",
   "metadata": {},
   "outputs": [],
   "source": [
    "# La tua soluzione qui...\n"
   ]
  },
  {
   "cell_type": "markdown",
   "id": "6e9ca69b",
   "metadata": {},
   "source": [
    "### 16. Crea una classe Animal e una sottoclasse Dog che override speak()."
   ]
  },
  {
   "cell_type": "code",
   "execution_count": null,
   "id": "83ac6dd9",
   "metadata": {},
   "outputs": [],
   "source": [
    "# La tua soluzione qui...\n"
   ]
  },
  {
   "cell_type": "markdown",
   "id": "f0a67e1c",
   "metadata": {},
   "source": [
    "### 17. Due oggetti Book sono uguali se titolo e autore coincidono."
   ]
  },
  {
   "cell_type": "code",
   "execution_count": null,
   "id": "8a22e5b2",
   "metadata": {},
   "outputs": [],
   "source": [
    "# La tua soluzione qui...\n"
   ]
  },
  {
   "cell_type": "markdown",
   "id": "aacd15be",
   "metadata": {},
   "source": [
    "### 18. Crea una Shape astratta con area(), da implementare in Circle e Square."
   ]
  },
  {
   "cell_type": "code",
   "execution_count": null,
   "id": "9ca764df",
   "metadata": {},
   "outputs": [],
   "source": [
    "# La tua soluzione qui...\n"
   ]
  },
  {
   "cell_type": "markdown",
   "id": "5ffdfe40",
   "metadata": {},
   "source": [
    "### 19. Crea una classe Counter che incrementa solo se il valore e pari."
   ]
  },
  {
   "cell_type": "code",
   "execution_count": null,
   "id": "0aab5918",
   "metadata": {},
   "outputs": [],
   "source": [
    "# La tua soluzione qui...\n"
   ]
  },
  {
   "cell_type": "markdown",
   "id": "89e9e5b4",
   "metadata": {},
   "source": [
    "### 20. Crea una classe Timer con start, stop e elapsed."
   ]
  },
  {
   "cell_type": "code",
   "execution_count": null,
   "id": "3e3d7adb",
   "metadata": {},
   "outputs": [],
   "source": [
    "# La tua soluzione qui...\n"
   ]
  },
  {
   "cell_type": "markdown",
   "id": "12cdfa1b",
   "metadata": {},
   "source": [
    "### 21. Usa lambda per ordinare tuple in base al secondo elemento."
   ]
  },
  {
   "cell_type": "code",
   "execution_count": null,
   "id": "72a4aa21",
   "metadata": {},
   "outputs": [],
   "source": [
    "# La tua soluzione qui...\n"
   ]
  },
  {
   "cell_type": "markdown",
   "id": "809f6aa9",
   "metadata": {},
   "source": [
    "### 22. Usa filter per tenere solo numeri > 100."
   ]
  },
  {
   "cell_type": "code",
   "execution_count": null,
   "id": "308a359c",
   "metadata": {},
   "outputs": [],
   "source": [
    "# La tua soluzione qui...\n"
   ]
  },
  {
   "cell_type": "markdown",
   "id": "03b88113",
   "metadata": {},
   "source": [
    "### 23. Usa map per convertire stringhe in uppercase."
   ]
  },
  {
   "cell_type": "code",
   "execution_count": null,
   "id": "cc1ea3a5",
   "metadata": {},
   "outputs": [],
   "source": [
    "# La tua soluzione qui...\n"
   ]
  },
  {
   "cell_type": "markdown",
   "id": "0db9cf5b",
   "metadata": {},
   "source": [
    "### 24. Usa reduce per calcolare il prodotto degli elementi."
   ]
  },
  {
   "cell_type": "code",
   "execution_count": null,
   "id": "2bc85960",
   "metadata": {},
   "outputs": [],
   "source": [
    "# La tua soluzione qui...\n"
   ]
  },
  {
   "cell_type": "markdown",
   "id": "80be6c71",
   "metadata": {},
   "source": [
    "### 25. Scrivi una lambda che restituisce il maggiore tra due numeri."
   ]
  },
  {
   "cell_type": "code",
   "execution_count": null,
   "id": "efd2ccbc",
   "metadata": {},
   "outputs": [],
   "source": [
    "# La tua soluzione qui...\n"
   ]
  },
  {
   "cell_type": "markdown",
   "id": "a282ecfe",
   "metadata": {},
   "source": [
    "### 26. Crea un array 3x3 di zeri."
   ]
  },
  {
   "cell_type": "code",
   "execution_count": null,
   "id": "5c43d773",
   "metadata": {},
   "outputs": [],
   "source": [
    "# La tua soluzione qui...\n"
   ]
  },
  {
   "cell_type": "markdown",
   "id": "356df309",
   "metadata": {},
   "source": [
    "### 27. Genera un array 4x4 con numeri casuali tra 0 e 1."
   ]
  },
  {
   "cell_type": "code",
   "execution_count": null,
   "id": "b37379b0",
   "metadata": {},
   "outputs": [],
   "source": [
    "# La tua soluzione qui...\n"
   ]
  },
  {
   "cell_type": "markdown",
   "id": "001b10b0",
   "metadata": {},
   "source": [
    "### 28. Crea array da 1 a 20, sostituisci multipli di 4 con -1."
   ]
  },
  {
   "cell_type": "code",
   "execution_count": null,
   "id": "d49ce538",
   "metadata": {},
   "outputs": [],
   "source": [
    "# La tua soluzione qui...\n"
   ]
  },
  {
   "cell_type": "markdown",
   "id": "809ecda0",
   "metadata": {},
   "source": [
    "### 29. Calcola la media di ogni colonna di un array 5x5."
   ]
  },
  {
   "cell_type": "code",
   "execution_count": null,
   "id": "f6b67a7d",
   "metadata": {},
   "outputs": [],
   "source": [
    "# La tua soluzione qui...\n"
   ]
  },
  {
   "cell_type": "markdown",
   "id": "84b1ce34",
   "metadata": {},
   "source": [
    "### 30. Conta i valori > 10 in un array 10x10 casuale."
   ]
  },
  {
   "cell_type": "code",
   "execution_count": null,
   "id": "b33129d0",
   "metadata": {},
   "outputs": [],
   "source": [
    "# La tua soluzione qui...\n"
   ]
  },
  {
   "cell_type": "markdown",
   "id": "a27463d7",
   "metadata": {},
   "source": [
    "### 31. Conta valori dispari negativi in un array."
   ]
  },
  {
   "cell_type": "code",
   "execution_count": null,
   "id": "31c1e7ab",
   "metadata": {},
   "outputs": [],
   "source": [
    "# La tua soluzione qui...\n"
   ]
  },
  {
   "cell_type": "markdown",
   "id": "7ba994b5",
   "metadata": {},
   "source": [
    "### 32. Restituisci array booleano per i multipli di 7."
   ]
  },
  {
   "cell_type": "code",
   "execution_count": null,
   "id": "5f5a3ec7",
   "metadata": {},
   "outputs": [],
   "source": [
    "# La tua soluzione qui...\n"
   ]
  },
  {
   "cell_type": "markdown",
   "id": "485bc3ad",
   "metadata": {},
   "source": [
    "### 33. Normalizza un array (media 0, std 1)."
   ]
  },
  {
   "cell_type": "code",
   "execution_count": null,
   "id": "fea8cef9",
   "metadata": {},
   "outputs": [],
   "source": [
    "# La tua soluzione qui...\n"
   ]
  },
  {
   "cell_type": "markdown",
   "id": "a312dcf8",
   "metadata": {},
   "source": [
    "### 34. Da una lista di array, restituisci quello con std maggiore."
   ]
  },
  {
   "cell_type": "code",
   "execution_count": null,
   "id": "b52fe0f0",
   "metadata": {},
   "outputs": [],
   "source": [
    "# La tua soluzione qui...\n"
   ]
  },
  {
   "cell_type": "markdown",
   "id": "df52f481",
   "metadata": {},
   "source": [
    "### 35. Restituisci il valore piu frequente in un array."
   ]
  },
  {
   "cell_type": "code",
   "execution_count": null,
   "id": "0f9f29d4",
   "metadata": {},
   "outputs": [],
   "source": [
    "# La tua soluzione qui...\n"
   ]
  },
  {
   "cell_type": "markdown",
   "id": "a3bf65bc",
   "metadata": {},
   "source": [
    "### 36. Divisione sicura tra due numeri con gestione divisione per zero."
   ]
  },
  {
   "cell_type": "code",
   "execution_count": null,
   "id": "1e914f6f",
   "metadata": {},
   "outputs": [],
   "source": [
    "# La tua soluzione qui...\n"
   ]
  },
  {
   "cell_type": "markdown",
   "id": "9c3962da",
   "metadata": {},
   "source": [
    "### 37. Accetta solo liste, stampa errore altrimenti."
   ]
  },
  {
   "cell_type": "code",
   "execution_count": null,
   "id": "9a318836",
   "metadata": {},
   "outputs": [],
   "source": [
    "# La tua soluzione qui...\n"
   ]
  },
  {
   "cell_type": "markdown",
   "id": "0d6d9c26",
   "metadata": {},
   "source": [
    "### 38. Accetta solo array Numpy, restituisce massimo o errore."
   ]
  },
  {
   "cell_type": "code",
   "execution_count": null,
   "id": "05d7d005",
   "metadata": {},
   "outputs": [],
   "source": [
    "# La tua soluzione qui...\n"
   ]
  },
  {
   "cell_type": "markdown",
   "id": "d2a5cd6e",
   "metadata": {},
   "source": [
    "### 39. Somma due liste elemento per elemento, gestendo lunghezze diverse."
   ]
  },
  {
   "cell_type": "code",
   "execution_count": null,
   "id": "731dd722",
   "metadata": {},
   "outputs": [],
   "source": [
    "# La tua soluzione qui...\n"
   ]
  },
  {
   "cell_type": "markdown",
   "id": "2aaf6a1d",
   "metadata": {},
   "source": [
    "### 40. Apre un file e gestisce l'errore se il file non esiste."
   ]
  },
  {
   "cell_type": "code",
   "execution_count": null,
   "id": "52519ae3",
   "metadata": {},
   "outputs": [],
   "source": [
    "# La tua soluzione qui...\n"
   ]
  },
  {
   "cell_type": "markdown",
   "id": "1be25ad7",
   "metadata": {},
   "source": [
    "### 41. Verifica se una stringa e palindroma."
   ]
  },
  {
   "cell_type": "code",
   "execution_count": null,
   "id": "c4bfddb4",
   "metadata": {},
   "outputs": [],
   "source": [
    "# La tua soluzione qui...\n"
   ]
  },
  {
   "cell_type": "markdown",
   "id": "331ddd1b",
   "metadata": {},
   "source": [
    "### 42. Simula due dadi e ritorna la somma."
   ]
  },
  {
   "cell_type": "code",
   "execution_count": null,
   "id": "fb2a68cb",
   "metadata": {},
   "outputs": [],
   "source": [
    "# La tua soluzione qui...\n"
   ]
  },
  {
   "cell_type": "markdown",
   "id": "521d5c5e",
   "metadata": {},
   "source": [
    "### 43. Inverti chiavi e valori di un dizionario."
   ]
  },
  {
   "cell_type": "code",
   "execution_count": null,
   "id": "4c5b5b84",
   "metadata": {},
   "outputs": [],
   "source": [
    "# La tua soluzione qui...\n"
   ]
  },
  {
   "cell_type": "markdown",
   "id": "439e5811",
   "metadata": {},
   "source": [
    "### 44. Restituisci la sottolista con somma massima."
   ]
  },
  {
   "cell_type": "code",
   "execution_count": null,
   "id": "e0bcd1d9",
   "metadata": {},
   "outputs": [],
   "source": [
    "# La tua soluzione qui...\n"
   ]
  },
  {
   "cell_type": "markdown",
   "id": "73c47463",
   "metadata": {},
   "source": [
    "### 45. Controlla se due stringhe sono anagrammi."
   ]
  },
  {
   "cell_type": "code",
   "execution_count": null,
   "id": "9a324b33",
   "metadata": {},
   "outputs": [],
   "source": [
    "# La tua soluzione qui...\n"
   ]
  },
  {
   "cell_type": "markdown",
   "id": "69f1002e",
   "metadata": {},
   "source": [
    "### 46. Ordina i valori unici di un array 1D."
   ]
  },
  {
   "cell_type": "code",
   "execution_count": null,
   "id": "d7ac27dc",
   "metadata": {},
   "outputs": [],
   "source": [
    "# La tua soluzione qui...\n"
   ]
  },
  {
   "cell_type": "markdown",
   "id": "e2d4b289",
   "metadata": {},
   "source": [
    "### 47. Restituisci la diagonale principale di una matrice NxN."
   ]
  },
  {
   "cell_type": "code",
   "execution_count": null,
   "id": "4478d09a",
   "metadata": {},
   "outputs": [],
   "source": [
    "# La tua soluzione qui...\n"
   ]
  },
  {
   "cell_type": "markdown",
   "id": "97d327ad",
   "metadata": {},
   "source": [
    "### 48. Restituisci il secondo valore massimo in un array."
   ]
  },
  {
   "cell_type": "code",
   "execution_count": null,
   "id": "875b870f",
   "metadata": {},
   "outputs": [],
   "source": [
    "# La tua soluzione qui...\n"
   ]
  },
  {
   "cell_type": "markdown",
   "id": "0f826fea",
   "metadata": {},
   "source": [
    "### 49. Differenze tra elementi consecutivi in un array."
   ]
  },
  {
   "cell_type": "code",
   "execution_count": null,
   "id": "db4a3530",
   "metadata": {},
   "outputs": [],
   "source": [
    "# La tua soluzione qui...\n"
   ]
  },
  {
   "cell_type": "markdown",
   "id": "c8839461",
   "metadata": {},
   "source": [
    "### 50. Costruisci un array NxN con 1 sulla diagonale e 0 altrove."
   ]
  },
  {
   "cell_type": "code",
   "execution_count": null,
   "id": "dda7c09e",
   "metadata": {},
   "outputs": [],
   "source": [
    "# La tua soluzione qui...\n"
   ]
  }
 ],
 "metadata": {},
 "nbformat": 4,
 "nbformat_minor": 5
}
