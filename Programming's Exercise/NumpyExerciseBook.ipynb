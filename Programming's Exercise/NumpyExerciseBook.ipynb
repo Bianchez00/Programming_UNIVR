{
 "cells": [
  {
   "metadata": {},
   "cell_type": "markdown",
   "source": "# Exercises about Numpy: Creation, Attributes and Indexing",
   "id": "2c0338523b13d76"
  },
  {
   "metadata": {
    "collapsed": true,
    "ExecuteTime": {
     "end_time": "2025-06-21T12:08:03.172211Z",
     "start_time": "2025-06-21T12:08:03.091268Z"
    }
   },
   "cell_type": "code",
   "source": [
    "import numpy as np\n",
    "\n",
    "from numpy.ma.core import argmax"
   ],
   "id": "initial_id",
   "outputs": [],
   "execution_count": 2
  },
  {
   "metadata": {},
   "cell_type": "markdown",
   "source": "## Sezione 1: Creation of Array",
   "id": "5c55c7d9ceea85e3"
  },
  {
   "metadata": {},
   "cell_type": "markdown",
   "source": [
    "**1. Da Lista a Array**\n",
    "\n",
    "Crea un array NumPy partendo dalla seguente lista Python: `[10, 20, 30, 40, 50]` e salvalo in una variabile chiamata `array_da_lista`."
   ],
   "id": "66f24712df9fef8d"
  },
  {
   "metadata": {
    "ExecuteTime": {
     "end_time": "2025-06-21T12:08:03.188764Z",
     "start_time": "2025-06-21T12:08:03.185971Z"
    }
   },
   "cell_type": "code",
   "source": [
    "# Il tuo codice qui\n",
    "lista_python = [10, 20, 30, 40, 50]\n",
    "array_da_lista = np.array(lista_python)\n",
    "\n",
    "# Stampa l'array per verificare\n",
    "print(array_da_lista)"
   ],
   "id": "aca062626a6be610",
   "outputs": [
    {
     "name": "stdout",
     "output_type": "stream",
     "text": [
      "[10 20 30 40 50]\n"
     ]
    }
   ],
   "execution_count": 3
  },
  {
   "metadata": {},
   "cell_type": "markdown",
   "source": [
    "**2. Array di Zeri**\n",
    "\n",
    "Crea un array unidimensionale (un vettore) contenente 8 zeri e salvalo nella variabile `array_zeri`."
   ],
   "id": "9cf88e86bf7b6c3c"
  },
  {
   "metadata": {
    "ExecuteTime": {
     "end_time": "2025-06-21T12:08:03.243187Z",
     "start_time": "2025-06-21T12:08:03.240736Z"
    }
   },
   "cell_type": "code",
   "source": [
    "# Il tuo codice qui\n",
    "array_zeri = np.zeros(8)\n",
    "\n",
    "print(array_zeri)"
   ],
   "id": "c9497f14d537290e",
   "outputs": [
    {
     "name": "stdout",
     "output_type": "stream",
     "text": [
      "[0. 0. 0. 0. 0. 0. 0. 0.]\n"
     ]
    }
   ],
   "execution_count": 4
  },
  {
   "metadata": {},
   "cell_type": "markdown",
   "source": [
    "**3. Matrice di Uni**\n",
    "\n",
    "Crea una matrice 4x4 (4 righe, 4 colonne) contenente solo uni di tipo `float32` e salvala nella variabile `matrice_uni`."
   ],
   "id": "fa929056e663aa5"
  },
  {
   "metadata": {
    "ExecuteTime": {
     "end_time": "2025-06-21T12:08:03.348992Z",
     "start_time": "2025-06-21T12:08:03.346471Z"
    }
   },
   "cell_type": "code",
   "source": [
    "# Il tuo codice qui\n",
    "matrice_uni = np.full((4,4),1, dtype = float)\n",
    "\n",
    "print(matrice_uni)"
   ],
   "id": "140c28df979a76fc",
   "outputs": [
    {
     "name": "stdout",
     "output_type": "stream",
     "text": [
      "[[1. 1. 1. 1.]\n",
      " [1. 1. 1. 1.]\n",
      " [1. 1. 1. 1.]\n",
      " [1. 1. 1. 1.]]\n"
     ]
    }
   ],
   "execution_count": 5
  },
  {
   "metadata": {},
   "cell_type": "markdown",
   "source": [
    "**4. Sequenza con `arange`**\n",
    "\n",
    "Crea un array che contenga tutti i numeri interi da 20 a 60 (incluso) e salvalo in `array_seq`."
   ],
   "id": "c5f212ac7dd137fb"
  },
  {
   "metadata": {
    "ExecuteTime": {
     "end_time": "2025-06-21T12:08:03.433774Z",
     "start_time": "2025-06-21T12:08:03.431580Z"
    }
   },
   "cell_type": "code",
   "source": [
    "# Il tuo codice qui\n",
    "array_seq = np.arange(20,61)\n",
    "\n",
    "print(array_seq)"
   ],
   "id": "cadaa739a29a910f",
   "outputs": [
    {
     "name": "stdout",
     "output_type": "stream",
     "text": [
      "[20 21 22 23 24 25 26 27 28 29 30 31 32 33 34 35 36 37 38 39 40 41 42 43\n",
      " 44 45 46 47 48 49 50 51 52 53 54 55 56 57 58 59 60]\n"
     ]
    }
   ],
   "execution_count": 6
  },
  {
   "metadata": {},
   "cell_type": "markdown",
   "source": [
    "**5. Sequenza con `linspace`**\n",
    "\n",
    "Crea un array di 9 numeri equidistanti tra 0 e 10 (inclusi entrambi gli estremi) e salvalo in `array_space`."
   ],
   "id": "7dcf90d1d82691c"
  },
  {
   "metadata": {
    "ExecuteTime": {
     "end_time": "2025-06-21T12:08:03.486530Z",
     "start_time": "2025-06-21T12:08:03.484709Z"
    }
   },
   "cell_type": "code",
   "source": [
    "# Il tuo codice qui\n",
    "array_space = np.linspace(0,10,9)\n",
    "\n",
    "print(array_space)"
   ],
   "id": "19db98f44143afce",
   "outputs": [
    {
     "name": "stdout",
     "output_type": "stream",
     "text": [
      "[ 0.    1.25  2.5   3.75  5.    6.25  7.5   8.75 10.  ]\n"
     ]
    }
   ],
   "execution_count": 7
  },
  {
   "metadata": {},
   "cell_type": "markdown",
   "source": [
    "**6. Matrice Piena**\n",
    "\n",
    "Crea una matrice 2x6 riempita interamente con il valore `12.5` usando la funzione `np.full()` e salvala in `matrice_piena`."
   ],
   "id": "724f76696e6ca43"
  },
  {
   "metadata": {
    "ExecuteTime": {
     "end_time": "2025-06-21T12:08:03.548885Z",
     "start_time": "2025-06-21T12:08:03.546760Z"
    }
   },
   "cell_type": "code",
   "source": [
    "# Il tuo codice qui\n",
    "matrice_piena = np.full((2,6),12.5)\n",
    "\n",
    "print(matrice_piena)"
   ],
   "id": "aac86cc2823777ed",
   "outputs": [
    {
     "name": "stdout",
     "output_type": "stream",
     "text": [
      "[[12.5 12.5 12.5 12.5 12.5 12.5]\n",
      " [12.5 12.5 12.5 12.5 12.5 12.5]]\n"
     ]
    }
   ],
   "execution_count": 8
  },
  {
   "metadata": {},
   "cell_type": "markdown",
   "source": [
    "**7. Matrice Identità**\n",
    "\n",
    "Crea una matrice identità 6x6 e salvala in `matrice_identita`."
   ],
   "id": "9bdff5719180737f"
  },
  {
   "metadata": {
    "ExecuteTime": {
     "end_time": "2025-06-21T12:08:03.600483Z",
     "start_time": "2025-06-21T12:08:03.598506Z"
    }
   },
   "cell_type": "code",
   "source": [
    "# Il tuo codice qui\n",
    "matrice_identita = np.identity(6)\n",
    "\n",
    "print(matrice_identita)"
   ],
   "id": "25419146dd57eb35",
   "outputs": [
    {
     "name": "stdout",
     "output_type": "stream",
     "text": [
      "[[1. 0. 0. 0. 0. 0.]\n",
      " [0. 1. 0. 0. 0. 0.]\n",
      " [0. 0. 1. 0. 0. 0.]\n",
      " [0. 0. 0. 1. 0. 0.]\n",
      " [0. 0. 0. 0. 1. 0.]\n",
      " [0. 0. 0. 0. 0. 1.]]\n"
     ]
    }
   ],
   "execution_count": 9
  },
  {
   "metadata": {},
   "cell_type": "markdown",
   "source": [
    "**8. Matrice Casuale**\n",
    "\n",
    "Crea una matrice 3x3 con numeri interi casuali compresi tra 1 e 50 e salvala in `matrice_casuale`."
   ],
   "id": "b668494ca315fa2a"
  },
  {
   "metadata": {
    "ExecuteTime": {
     "end_time": "2025-06-21T12:08:03.680530Z",
     "start_time": "2025-06-21T12:08:03.664788Z"
    }
   },
   "cell_type": "code",
   "source": [
    "# Il tuo codice qui\n",
    "matrice_casuale = np.random.randint(50,size = (3,3))\n",
    "\n",
    "print(matrice_casuale)"
   ],
   "id": "81a83fd0bb0f00b8",
   "outputs": [
    {
     "name": "stdout",
     "output_type": "stream",
     "text": [
      "[[27 46 27]\n",
      " [38 49 42]\n",
      " [30 39 28]]\n"
     ]
    }
   ],
   "execution_count": 10
  },
  {
   "metadata": {},
   "cell_type": "markdown",
   "source": [
    "---\n",
    "### Sezione 2: Attributi degli Array\n",
    "\n",
    "Ora ispezioniamo la `matrice_casuale` creata nell'esercizio 8. Assicurati di aver eseguito la cella precedente prima di continuare."
   ],
   "id": "f758ac83a7ad44ba"
  },
  {
   "metadata": {},
   "cell_type": "markdown",
   "source": [
    "**9. Trova la Forma**\n",
    "\n",
    "Stampa l'attributo `shape` della `matrice_casuale`."
   ],
   "id": "168f4767db8f96f6"
  },
  {
   "metadata": {
    "ExecuteTime": {
     "end_time": "2025-06-21T12:08:03.729607Z",
     "start_time": "2025-06-21T12:08:03.727093Z"
    }
   },
   "cell_type": "code",
   "source": [
    "print(matrice_casuale.shape)\n",
    "print(matrice_casuale.ndim)"
   ],
   "id": "db1145fc7094de3b",
   "outputs": [
    {
     "name": "stdout",
     "output_type": "stream",
     "text": [
      "(3, 3)\n",
      "2\n"
     ]
    }
   ],
   "execution_count": 11
  },
  {
   "metadata": {},
   "cell_type": "markdown",
   "source": [
    "**10. Numero di Dimensioni**\n",
    "\n",
    "Stampa l'attributo `ndim` della `matrice_casuale`."
   ],
   "id": "5529a9c5fd71ded7"
  },
  {
   "metadata": {
    "ExecuteTime": {
     "end_time": "2025-06-21T12:08:03.781586Z",
     "start_time": "2025-06-21T12:08:03.779393Z"
    }
   },
   "cell_type": "code",
   "source": "print(matrice_casuale.ndim)",
   "id": "5e1b8980d9f06e3a",
   "outputs": [
    {
     "name": "stdout",
     "output_type": "stream",
     "text": [
      "2\n"
     ]
    }
   ],
   "execution_count": 12
  },
  {
   "metadata": {},
   "cell_type": "markdown",
   "source": [
    "**11. Numero di Elementi**\n",
    "\n",
    "Stampa l'attributo `size` della `matrice_casuale`."
   ],
   "id": "b643522b6059a73f"
  },
  {
   "metadata": {
    "ExecuteTime": {
     "end_time": "2025-06-21T12:08:03.846503Z",
     "start_time": "2025-06-21T12:08:03.844287Z"
    }
   },
   "cell_type": "code",
   "source": "print(matrice_casuale.size)",
   "id": "4e2fa1af91b890e9",
   "outputs": [
    {
     "name": "stdout",
     "output_type": "stream",
     "text": [
      "9\n"
     ]
    }
   ],
   "execution_count": 13
  },
  {
   "metadata": {},
   "cell_type": "markdown",
   "source": [
    "**12. Tipo di Dato**\n",
    "\n",
    "Stampa l'attributo `dtype` della `matrice_casuale`."
   ],
   "id": "88994d2ecee10ff6"
  },
  {
   "metadata": {
    "ExecuteTime": {
     "end_time": "2025-06-21T12:08:03.907021Z",
     "start_time": "2025-06-21T12:08:03.905217Z"
    }
   },
   "cell_type": "code",
   "source": "print(matrice_casuale.dtype)",
   "id": "da289f2bc17ed158",
   "outputs": [
    {
     "name": "stdout",
     "output_type": "stream",
     "text": [
      "int64\n"
     ]
    }
   ],
   "execution_count": 14
  },
  {
   "metadata": {},
   "cell_type": "markdown",
   "source": [
    "---\n",
    "### Sezione 3: Indicizzazione e Modifica\n",
    "\n",
    "Per questi esercizi, lavoreremo con la seguente matrice. Esegui la cella qui sotto per crearla."
   ],
   "id": "6217f15ce18e7fa2"
  },
  {
   "metadata": {
    "ExecuteTime": {
     "end_time": "2025-06-21T12:08:03.973659Z",
     "start_time": "2025-06-21T12:08:03.971838Z"
    }
   },
   "cell_type": "code",
   "source": [
    "matrice_test = np.arange(25).reshape(5, 5)\n",
    "\n",
    "print(\"Matrice di test:\\n\", matrice_test)"
   ],
   "id": "df91a710dfe16a88",
   "outputs": [
    {
     "name": "stdout",
     "output_type": "stream",
     "text": [
      "Matrice di test:\n",
      " [[ 0  1  2  3  4]\n",
      " [ 5  6  7  8  9]\n",
      " [10 11 12 13 14]\n",
      " [15 16 17 18 19]\n",
      " [20 21 22 23 24]]\n"
     ]
    }
   ],
   "execution_count": 15
  },
  {
   "metadata": {},
   "cell_type": "markdown",
   "source": [
    "**13. Accesso Semplice**\n",
    "\n",
    "Dalla `matrice_test`, accedi e stampa il valore `17`."
   ],
   "id": "52e3c75bf27a54dd"
  },
  {
   "metadata": {
    "ExecuteTime": {
     "end_time": "2025-06-21T12:08:04.025294Z",
     "start_time": "2025-06-21T12:08:04.023540Z"
    }
   },
   "cell_type": "code",
   "source": [
    "# Il tuo codice qui\n",
    "valore_17 = matrice_test[3,2]\n",
    "\n",
    "print(valore_17)"
   ],
   "id": "35e54a95c0e73803",
   "outputs": [
    {
     "name": "stdout",
     "output_type": "stream",
     "text": [
      "17\n"
     ]
    }
   ],
   "execution_count": 16
  },
  {
   "metadata": {},
   "cell_type": "markdown",
   "source": [
    "**14. Angolo in Alto a Destra**\n",
    "\n",
    "Accedi e stampa l'elemento nell'angolo in alto a destra della `matrice_test`."
   ],
   "id": "17a1b269020d774e"
  },
  {
   "metadata": {
    "ExecuteTime": {
     "end_time": "2025-06-21T12:08:04.085602Z",
     "start_time": "2025-06-21T12:08:04.083425Z"
    }
   },
   "cell_type": "code",
   "source": [
    "# Il tuo codice qui\n",
    "valore_angolo_ad = matrice_test[0,4]\n",
    "\n",
    "print(valore_angolo_ad)"
   ],
   "id": "bc232c2ac428230",
   "outputs": [
    {
     "name": "stdout",
     "output_type": "stream",
     "text": [
      "4\n"
     ]
    }
   ],
   "execution_count": 17
  },
  {
   "metadata": {},
   "cell_type": "markdown",
   "source": [
    "**15. Ultimo Elemento**\n",
    "\n",
    "Accedi e stampa l'ultimo elemento della `matrice_test` (quello nell'angolo in basso a destra) usando indici negativi."
   ],
   "id": "113787053f0b8287"
  },
  {
   "metadata": {
    "ExecuteTime": {
     "end_time": "2025-06-21T12:08:04.137344Z",
     "start_time": "2025-06-21T12:08:04.135575Z"
    }
   },
   "cell_type": "code",
   "source": [
    "# Il tuo codice qui\n",
    "ultimo_valore = matrice_test[-1,-1]\n",
    "\n",
    "print(ultimo_valore)"
   ],
   "id": "6e184876b832f7f6",
   "outputs": [
    {
     "name": "stdout",
     "output_type": "stream",
     "text": [
      "24\n"
     ]
    }
   ],
   "execution_count": 18
  },
  {
   "metadata": {},
   "cell_type": "markdown",
   "source": [
    "**16. Elemento Centrale**\n",
    "\n",
    "Accedi e stampa l'elemento esatto al centro della `matrice_test`."
   ],
   "id": "e6a79308c008801c"
  },
  {
   "metadata": {
    "ExecuteTime": {
     "end_time": "2025-06-21T12:08:04.204633Z",
     "start_time": "2025-06-21T12:08:04.202458Z"
    }
   },
   "cell_type": "code",
   "source": [
    "# Il tuo codice qui\n",
    "elemento_centrale = matrice_test[2,2]\n",
    "\n",
    "print(elemento_centrale)"
   ],
   "id": "d4f8f24b35a4b4ca",
   "outputs": [
    {
     "name": "stdout",
     "output_type": "stream",
     "text": [
      "12\n"
     ]
    }
   ],
   "execution_count": 19
  },
  {
   "metadata": {},
   "cell_type": "markdown",
   "source": [
    "**17. Modifica un Valore**\n",
    "\n",
    "Modifica il valore `0` (in alto a sinistra) della `matrice_test` e trasformalo in `99`. Stampa la matrice per verificare la modifica."
   ],
   "id": "c93265dc1e2ad042"
  },
  {
   "metadata": {
    "ExecuteTime": {
     "end_time": "2025-06-21T12:08:04.270135Z",
     "start_time": "2025-06-21T12:08:04.267596Z"
    }
   },
   "cell_type": "code",
   "source": [
    "# Il tuo codice qui\n",
    "matrice_test[0,0] = 99\n",
    "\n",
    "print(\"Matrice modificata:\\n\", matrice_test)"
   ],
   "id": "b22ef72ffc55ce1f",
   "outputs": [
    {
     "name": "stdout",
     "output_type": "stream",
     "text": [
      "Matrice modificata:\n",
      " [[99  1  2  3  4]\n",
      " [ 5  6  7  8  9]\n",
      " [10 11 12 13 14]\n",
      " [15 16 17 18 19]\n",
      " [20 21 22 23 24]]\n"
     ]
    }
   ],
   "execution_count": 20
  },
  {
   "metadata": {},
   "cell_type": "markdown",
   "source": [
    "**18. Modifica con Indici Negativi**\n",
    "\n",
    "Modifica l'elemento nella penultima riga e ultima colonna (`19`) della `matrice_test` per farlo diventare `0`."
   ],
   "id": "b32489f2a52a3d77"
  },
  {
   "metadata": {
    "ExecuteTime": {
     "end_time": "2025-06-21T12:08:04.335090Z",
     "start_time": "2025-06-21T12:08:04.332607Z"
    }
   },
   "cell_type": "code",
   "source": [
    "# Il tuo codice qui\n",
    "\n",
    "matrice_test[-2,-1] = 0\n",
    "\n",
    "print(\"Matrice modificata:\\n\", matrice_test)"
   ],
   "id": "234fc908754511c7",
   "outputs": [
    {
     "name": "stdout",
     "output_type": "stream",
     "text": [
      "Matrice modificata:\n",
      " [[99  1  2  3  4]\n",
      " [ 5  6  7  8  9]\n",
      " [10 11 12 13 14]\n",
      " [15 16 17 18  0]\n",
      " [20 21 22 23 24]]\n"
     ]
    }
   ],
   "execution_count": 21
  },
  {
   "metadata": {},
   "cell_type": "markdown",
   "source": [
    "**19. Il \"tranello\" del `dtype`**\n",
    "\n",
    "Crea un nuovo array di interi: `array_int = np.array([10, 20, 30])`.\n",
    "Poi, prova ad assegnare il valore `15.7` al suo primo elemento. Stampa l'array e osserva cosa succede al valore che hai inserito."
   ],
   "id": "3f2809224d967ded"
  },
  {
   "metadata": {
    "ExecuteTime": {
     "end_time": "2025-06-21T12:08:04.387290Z",
     "start_time": "2025-06-21T12:08:04.385431Z"
    }
   },
   "cell_type": "code",
   "source": [
    "# Il tuo codice qui\n",
    "array_int = np.array([10, 20, 30])\n",
    "array_int[0] = 15.17\n",
    "\n",
    "print(array_int)"
   ],
   "id": "88c66f70574654db",
   "outputs": [
    {
     "name": "stdout",
     "output_type": "stream",
     "text": [
      "[15 20 30]\n"
     ]
    }
   ],
   "execution_count": 22
  },
  {
   "metadata": {},
   "cell_type": "markdown",
   "source": [
    "**20. Lavorare sugli Zeri**\n",
    "\n",
    "Crea una matrice 4x4 di zeri e poi modifica solo l'elemento sulla diagonale principale alla terza riga, terza colonna (indice `[2, 2]`), impostandolo a `1`."
   ],
   "id": "fb5f94fbdd4b910d"
  },
  {
   "metadata": {
    "ExecuteTime": {
     "end_time": "2025-06-21T12:08:04.442937Z",
     "start_time": "2025-06-21T12:08:04.440616Z"
    }
   },
   "cell_type": "code",
   "source": [
    "# Il tuo codice qui\n",
    "matrice_di_zeri = np.full((4,4),0)\n",
    "matrice_di_zeri[2,2] = 1\n",
    "\n",
    "print(matrice_di_zeri)"
   ],
   "id": "97524d83ef4b6dbd",
   "outputs": [
    {
     "name": "stdout",
     "output_type": "stream",
     "text": [
      "[[0 0 0 0]\n",
      " [0 0 0 0]\n",
      " [0 0 1 0]\n",
      " [0 0 0 0]]\n"
     ]
    }
   ],
   "execution_count": 23
  },
  {
   "metadata": {},
   "cell_type": "markdown",
   "source": "# Exercises about Numpy: Slicing, View and Modify\n",
   "id": "72de139b5df431b9"
  },
  {
   "metadata": {
    "ExecuteTime": {
     "end_time": "2025-06-21T12:08:04.493310Z",
     "start_time": "2025-06-21T12:08:04.490605Z"
    }
   },
   "cell_type": "code",
   "source": [
    "# Matrice per gli esercizi\n",
    "np.random.seed(10)\n",
    "matrice_esercizi = np.random.randint(0, 100, (6, 6))\n",
    "\n",
    "print(\"Matrice di partenza:\\n\", matrice_esercizi)"
   ],
   "id": "67768246f626a00d",
   "outputs": [
    {
     "name": "stdout",
     "output_type": "stream",
     "text": [
      "Matrice di partenza:\n",
      " [[ 9 15 64 28 89 93]\n",
      " [29  8 73  0 40 36]\n",
      " [16 11 54 88 62 33]\n",
      " [72 78 49 51 54 77]\n",
      " [69 13 25 13 92 86]\n",
      " [30 30 89 12 65 31]]\n"
     ]
    }
   ],
   "execution_count": 24
  },
  {
   "metadata": {},
   "cell_type": "markdown",
   "source": [
    "**1. Estrazione del Quadrante**\n",
    "\n",
    "Estrai la sotto-matrice 3x3 che si trova in basso a destra della `matrice_esercizi`."
   ],
   "id": "20858862f2ffa455"
  },
  {
   "metadata": {
    "ExecuteTime": {
     "end_time": "2025-06-21T12:08:04.554695Z",
     "start_time": "2025-06-21T12:08:04.552218Z"
    }
   },
   "cell_type": "code",
   "source": [
    "# Il tuo codice qui\n",
    "quadrante_basso_dx = matrice_esercizi[3:,3:]\n",
    "\n",
    "print(\"Quadrante in basso a destra:\\n\", quadrante_basso_dx)"
   ],
   "id": "db26c22b9c8f1d03",
   "outputs": [
    {
     "name": "stdout",
     "output_type": "stream",
     "text": [
      "Quadrante in basso a destra:\n",
      " [[51 54 77]\n",
      " [13 92 86]\n",
      " [12 65 31]]\n"
     ]
    }
   ],
   "execution_count": 25
  },
  {
   "metadata": {},
   "cell_type": "markdown",
   "source": [
    "**2. Slicing a Scacchiera**\n",
    "\n",
    "Estrai tutti gli elementi che si trovano su **righe con indice dispari** e **colonne con indice pari**."
   ],
   "id": "e33dd2189e008ff9"
  },
  {
   "metadata": {
    "ExecuteTime": {
     "end_time": "2025-06-21T12:08:04.606045Z",
     "start_time": "2025-06-21T12:08:04.603802Z"
    }
   },
   "cell_type": "code",
   "source": [
    "# Il tuo codice qui\n",
    "scacchiera = matrice_esercizi[::2,1::2]\n",
    "\n",
    "print(\"Elementi a scacchiera:\\n\", scacchiera)"
   ],
   "id": "9bf0c28a6100ccc9",
   "outputs": [
    {
     "name": "stdout",
     "output_type": "stream",
     "text": [
      "Elementi a scacchiera:\n",
      " [[15 28 93]\n",
      " [11 88 33]\n",
      " [13 13 86]]\n"
     ]
    }
   ],
   "execution_count": 26
  },
  {
   "metadata": {},
   "cell_type": "markdown",
   "source": [
    "**3. Inversione Parziale**\n",
    "\n",
    "Crea una nuova matrice invertendo l'ordine delle sole righe centrali (quelle con indice 2 e 3) della `matrice_esercizi`. Le altre righe devono rimanere al loro posto."
   ],
   "id": "f202ffde33d6256e"
  },
  {
   "metadata": {
    "ExecuteTime": {
     "end_time": "2025-06-21T12:08:04.664923Z",
     "start_time": "2025-06-21T12:08:04.662229Z"
    }
   },
   "cell_type": "code",
   "source": [
    "# Il tuo codice qui\n",
    "# Suggerimento: puoi assegnare una slice invertita a una slice normale della stessa forma.\n",
    "matrice_invertita = matrice_esercizi.copy() # Lavoriamo su una copia per non modificare l'originale\n",
    "matrice_invertita= matrice_invertita[::-1,::-1] # Una per riga e una per colonna\n",
    "\n",
    "print(\"Matrice con righe centrali invertite:\\n\", matrice_invertita)"
   ],
   "id": "d95ee5d5702702",
   "outputs": [
    {
     "name": "stdout",
     "output_type": "stream",
     "text": [
      "Matrice con righe centrali invertite:\n",
      " [[31 65 12 89 30 30]\n",
      " [86 92 13 25 13 69]\n",
      " [77 54 51 49 78 72]\n",
      " [33 62 88 54 11 16]\n",
      " [36 40  0 73  8 29]\n",
      " [93 89 28 64 15  9]]\n"
     ]
    }
   ],
   "execution_count": 27
  },
  {
   "metadata": {},
   "cell_type": "markdown",
   "source": [
    "**4. Bordo Esterno**\n",
    "\n",
    "Estrai la prima e l'ultima riga della `matrice_esercizi` e salvale in una nuova variabile chiamata `bordi_orizzontali`.\n",
    "\n",
    "*Sfida aggiuntiva (opzionale): prova a estrarre anche la prima e l'ultima colonna e a ricombinare tutto per ottenere solo il perimetro della matrice.*"
   ],
   "id": "225962af4c745708"
  },
  {
   "metadata": {
    "ExecuteTime": {
     "end_time": "2025-06-21T12:08:04.717860Z",
     "start_time": "2025-06-21T12:08:04.715266Z"
    }
   },
   "cell_type": "code",
   "source": [
    "# Il tuo codice qui\n",
    "\n",
    "\"\"\"\n",
    "Matrice di partenza:\n",
    " [[ 9 15 64 28 89 93]\n",
    " [29  8 73  0 40 36]\n",
    " [16 11 54 88 62 33]\n",
    " [72 78 49 51 54 77]\n",
    " [69 13 25 13 92 86]\n",
    " [30 30 89 12 65 31]]\n",
    "\"\"\"\n",
    "bordi_orizzontali = matrice_esercizi[::5,::1]\n",
    "print(\"Prima e ultima riga:\\n\", bordi_orizzontali)"
   ],
   "id": "74befc1d52fb4a27",
   "outputs": [
    {
     "name": "stdout",
     "output_type": "stream",
     "text": [
      "Prima e ultima riga:\n",
      " [[ 9 15 64 28 89 93]\n",
      " [30 30 89 12 65 31]]\n"
     ]
    }
   ],
   "execution_count": 28
  },
  {
   "metadata": {},
   "cell_type": "markdown",
   "source": [
    "**5. Modifica Tramite Vista (View)**\n",
    "\n",
    "1.  Crea una **vista** della sotto-matrice centrale 2x2 della `matrice_esercizi`.\n",
    "2.  Assegna il valore `999` a tutti gli elementi di questa vista.\n",
    "3.  Stampa la `matrice_esercizi` originale per verificare che sia stata modificata."
   ],
   "id": "2badab93ca5ac141"
  },
  {
   "metadata": {
    "ExecuteTime": {
     "end_time": "2025-06-21T12:08:04.778806Z",
     "start_time": "2025-06-21T12:08:04.775874Z"
    }
   },
   "cell_type": "code",
   "source": [
    "# Il tuo codice qui\n",
    "# 1. Crea la vista\n",
    "vista_centrale = matrice_esercizi[2:4,2:4]\n",
    "print(\"Vista prima della modifica:\\n\", vista_centrale)\n",
    "\n",
    "# 2. Modifica la vista\n",
    "vista_centrale[:,:] = 999\n",
    "\n",
    "# 3. Stampa la matrice originale per verificare\n",
    "print(\"\\nMatrice originale DOPO la modifica:\\n\", matrice_esercizi)"
   ],
   "id": "6d16261f7d347b3d",
   "outputs": [
    {
     "name": "stdout",
     "output_type": "stream",
     "text": [
      "Vista prima della modifica:\n",
      " [[54 88]\n",
      " [49 51]]\n",
      "\n",
      "Matrice originale DOPO la modifica:\n",
      " [[  9  15  64  28  89  93]\n",
      " [ 29   8  73   0  40  36]\n",
      " [ 16  11 999 999  62  33]\n",
      " [ 72  78 999 999  54  77]\n",
      " [ 69  13  25  13  92  86]\n",
      " [ 30  30  89  12  65  31]]\n"
     ]
    }
   ],
   "execution_count": 29
  },
  {
   "metadata": {},
   "cell_type": "markdown",
   "source": [
    "**6. Modifica Tramite Copia (Copy)**\n",
    "\n",
    "1.  Crea una **copia** della sotto-matrice 2x2 in alto a sinistra.\n",
    "2.  Assegna il valore `111` a tutti gli elementi di questa copia.\n",
    "3.  Stampa sia la copia modificata che la `matrice_esercizi` originale per verificare che quest'ultima **non** sia cambiata."
   ],
   "id": "f147608c1b62f90"
  },
  {
   "metadata": {
    "ExecuteTime": {
     "end_time": "2025-06-21T12:08:04.829555Z",
     "start_time": "2025-06-21T12:08:04.827286Z"
    }
   },
   "cell_type": "code",
   "source": [
    "# Il tuo codice qui\n",
    "# 1. Crea la copia\n",
    "copia_alto_sx = matrice_esercizi.copy()\n",
    "copia_alto_sx = copia_alto_sx[:2,:2]\n",
    "\n",
    "# 2. Modifica la copia\n",
    "copia_alto_sx[:,:] = 111\n",
    "\n",
    "# 3. Stampa per verificare\n",
    "print(\"Copia modificata:\\n\", copia_alto_sx)\n",
    "print(\"\\nMatrice originale (non deve essere cambiata):\\n\", matrice_esercizi)"
   ],
   "id": "1ffb8d725b04da46",
   "outputs": [
    {
     "name": "stdout",
     "output_type": "stream",
     "text": [
      "Copia modificata:\n",
      " [[111 111]\n",
      " [111 111]]\n",
      "\n",
      "Matrice originale (non deve essere cambiata):\n",
      " [[  9  15  64  28  89  93]\n",
      " [ 29   8  73   0  40  36]\n",
      " [ 16  11 999 999  62  33]\n",
      " [ 72  78 999 999  54  77]\n",
      " [ 69  13  25  13  92  86]\n",
      " [ 30  30  89  12  65  31]]\n"
     ]
    }
   ],
   "execution_count": 30
  },
  {
   "metadata": {},
   "cell_type": "markdown",
   "source": [
    "**7. Diagonali Alternate**\n",
    "\n",
    "Estrai gli elementi sulla diagonale principale della `matrice_esercizi`, ma solo quelli che si trovano in righe con indice pari (0, 2, 4)."
   ],
   "id": "646824b146241144"
  },
  {
   "metadata": {
    "ExecuteTime": {
     "end_time": "2025-06-21T12:08:04.880626Z",
     "start_time": "2025-06-21T12:08:04.878473Z"
    }
   },
   "cell_type": "code",
   "source": [
    "# Il tuo codice qui\n",
    "# Suggerimento: puoi estrarre prima l'intera diagonale e poi fare uno slicing su di essa.\n",
    "diagonale_principale = matrice_esercizi.diagonal()\n",
    "print(diagonale_principale)\n",
    "diagonale_alternata =diagonale_principale[::2]\n",
    "\n",
    "print(\"Elementi della diagonale alternata:\", diagonale_alternata)"
   ],
   "id": "84dff1ac5599dd64",
   "outputs": [
    {
     "name": "stdout",
     "output_type": "stream",
     "text": [
      "[  9   8 999 999  92  31]\n",
      "Elementi della diagonale alternata: [  9 999  92]\n"
     ]
    }
   ],
   "execution_count": 31
  },
  {
   "metadata": {},
   "cell_type": "markdown",
   "source": [
    "**8. Sovrascrivere una Colonna**\n",
    "\n",
    "1.  Crea un nuovo array 1D di 6 elementi a tua scelta (es. `nuova_colonna = np.array([0, 0, 0, 0, 0, 0])`).\n",
    "2.  Sovrascrivi l'ultima colonna della `matrice_esercizi` con questo nuovo array."
   ],
   "id": "4ad758e76ba7e56f"
  },
  {
   "metadata": {
    "ExecuteTime": {
     "end_time": "2025-06-21T12:08:04.931942Z",
     "start_time": "2025-06-21T12:08:04.929794Z"
    }
   },
   "cell_type": "code",
   "source": [
    "nuova_colonna = np.zeros(6)\n",
    "matrice_esercizi[5:,::-1] = nuova_colonna\n",
    "print(\"Matrice con l'ultima colonna sovrascritta:\\n\", matrice_esercizi)"
   ],
   "id": "26ed7e98241cb886",
   "outputs": [
    {
     "name": "stdout",
     "output_type": "stream",
     "text": [
      "Matrice con l'ultima colonna sovrascritta:\n",
      " [[  9  15  64  28  89  93]\n",
      " [ 29   8  73   0  40  36]\n",
      " [ 16  11 999 999  62  33]\n",
      " [ 72  78 999 999  54  77]\n",
      " [ 69  13  25  13  92  86]\n",
      " [  0   0   0   0   0   0]]\n"
     ]
    }
   ],
   "execution_count": 32
  },
  {
   "metadata": {},
   "cell_type": "markdown",
   "source": [
    "---\n",
    "# Esercizi Avanzati su NumPy\n"
   ],
   "id": "117a32414997c5cf"
  },
  {
   "metadata": {},
   "cell_type": "markdown",
   "source": [
    "\n",
    "### Sezione 1: Creazione e Manipolazione di Matrici con Schemi Specifici"
   ],
   "id": "b9951b2d0b8a1453"
  },
  {
   "metadata": {},
   "cell_type": "markdown",
   "source": [
    "**1. Matrice con Bordo**\n",
    "\n",
    "Crea una matrice 8x8 riempita di zeri, e successivamente modifica gli elementi del bordo esterno (la prima e l'ultima riga, la prima e l'ultima colonna) in modo che contengano il valore `1`.\n",
    "\n",
    "*Suggerimento: Puoi farlo in 4 passaggi, modificando una riga/colonna alla volta.*"
   ],
   "id": "99471d4c156b09af"
  },
  {
   "metadata": {
    "ExecuteTime": {
     "end_time": "2025-06-21T12:08:04.993475Z",
     "start_time": "2025-06-21T12:08:04.990756Z"
    }
   },
   "cell_type": "code",
   "source": [
    "# Il tuo codice qui\n",
    "matrice_bordo = np.zeros((8,8))\n",
    "matrice_bordo[::7] = 1\n",
    "matrice_bordo[:,::7] = 1 # Solo un : per dire che voglio considerare tutte le righe\n",
    "\n",
    "print(matrice_bordo)"
   ],
   "id": "5c947274c474ca8e",
   "outputs": [
    {
     "name": "stdout",
     "output_type": "stream",
     "text": [
      "[[1. 1. 1. 1. 1. 1. 1. 1.]\n",
      " [1. 0. 0. 0. 0. 0. 0. 1.]\n",
      " [1. 0. 0. 0. 0. 0. 0. 1.]\n",
      " [1. 0. 0. 0. 0. 0. 0. 1.]\n",
      " [1. 0. 0. 0. 0. 0. 0. 1.]\n",
      " [1. 0. 0. 0. 0. 0. 0. 1.]\n",
      " [1. 0. 0. 0. 0. 0. 0. 1.]\n",
      " [1. 1. 1. 1. 1. 1. 1. 1.]]\n"
     ]
    }
   ],
   "execution_count": 33
  },
  {
   "metadata": {},
   "cell_type": "markdown",
   "source": [
    "**2. Matrice a Scacchiera**\n",
    "\n",
    "Crea una matrice 8x8 che abbia un pattern a scacchiera di 0 e 1. La casella in alto a sinistra (indice `[0,0]`) deve essere `1`.\n",
    "\n",
    "*Suggerimento: Pensa a come lo slicing con `start:stop:step` possa aiutarti a selezionare tutti gli elementi in posizioni pari o dispari.*"
   ],
   "id": "7c1209cca246297c"
  },
  {
   "metadata": {
    "ExecuteTime": {
     "end_time": "2025-06-21T12:08:05.046078Z",
     "start_time": "2025-06-21T12:08:05.042922Z"
    }
   },
   "cell_type": "code",
   "source": [
    "# Il tuo codice qui\n",
    "scacchiera = np.zeros((8, 8), dtype=int)\n",
    "scacchiera[:,0::2] = 1 # Considero tutte le righe e modifico mettendo 1 alle colonne che sono in posizione pari\n",
    "scacchiera[1::2,:] = 0 # Considero solo le righe in posizione dispari e metto 0 alle colonne\n",
    "scacchiera[1::2,1::2] = 1 # Considero solo le righe in posizione dispari e considero le colonne in posizione dispari e metto 1\n",
    "print(scacchiera)"
   ],
   "id": "a6710190e0261623",
   "outputs": [
    {
     "name": "stdout",
     "output_type": "stream",
     "text": [
      "[[1 0 1 0 1 0 1 0]\n",
      " [0 1 0 1 0 1 0 1]\n",
      " [1 0 1 0 1 0 1 0]\n",
      " [0 1 0 1 0 1 0 1]\n",
      " [1 0 1 0 1 0 1 0]\n",
      " [0 1 0 1 0 1 0 1]\n",
      " [1 0 1 0 1 0 1 0]\n",
      " [0 1 0 1 0 1 0 1]]\n"
     ]
    }
   ],
   "execution_count": 34
  },
  {
   "metadata": {},
   "cell_type": "markdown",
   "source": [
    "**3. Impilare Array**\n",
    "\n",
    "Crea due matrici 4x4, `A` e `B`, con numeri casuali.\n",
    "a) Impilale **orizzontalmente** per creare una matrice 4x8.\n",
    "b) Impilale **verticalmente** per creare una matrice 8x4.\n",
    "\n",
    "*Info: Per questo esercizio puoi usare le funzioni `np.hstack()` e `np.vstack()`.*"
   ],
   "id": "d03955ee4727ac1a"
  },
  {
   "metadata": {
    "ExecuteTime": {
     "end_time": "2025-06-21T12:08:05.096947Z",
     "start_time": "2025-06-21T12:08:05.094296Z"
    }
   },
   "cell_type": "code",
   "source": [
    "# Il tuo codice qui\n",
    "A = np.random.randint(0, 10, (4,4))\n",
    "B = np.random.randint(0, 10, (4,4))\n",
    "\n",
    "# a) Impilamento orizzontale\n",
    "imp_orizzontale = np.hstack((A,B))\n",
    "print(\"Impilamento orizzontale (4x8):\\n\", imp_orizzontale)\n",
    "\n",
    "# b) Impilamento verticale\n",
    "imp_verticale = np.vstack((A,B))\n",
    "print(\"\\nImpilamento verticale (8x4):\\n\", imp_verticale)"
   ],
   "id": "112a2644af4611da",
   "outputs": [
    {
     "name": "stdout",
     "output_type": "stream",
     "text": [
      "Impilamento orizzontale (4x8):\n",
      " [[9 4 2 6 4 0 8 5]\n",
      " [7 8 8 9 4 7 8 8]\n",
      " [2 0 6 7 2 6 2 8]\n",
      " [8 1 7 1 8 6 6 5]]\n",
      "\n",
      "Impilamento verticale (8x4):\n",
      " [[9 4 2 6]\n",
      " [7 8 8 9]\n",
      " [2 0 6 7]\n",
      " [8 1 7 1]\n",
      " [4 0 8 5]\n",
      " [4 7 8 8]\n",
      " [2 6 2 8]\n",
      " [8 6 6 5]]\n"
     ]
    }
   ],
   "execution_count": 35
  },
  {
   "metadata": {},
   "cell_type": "markdown",
   "source": [
    "i**4. Normalizzare una Matrice**\n",
    "\n",
    "Crea una matrice 5x5 di numeri casuali. Successivamente, calcola il valore minimo (`min`) e il valore massimo (`max`) dell'intera matrice. Crea una nuova matrice normalizzata in cui ogni elemento `x` è stato trasformato con la formula `(x - min) / (max - min)`. Il risultato dovrebbe essere una matrice con valori compresi tra 0 e 1."
   ],
   "id": "8d8d40125adaa07f"
  },
  {
   "metadata": {
    "ExecuteTime": {
     "end_time": "2025-06-21T12:08:05.149597Z",
     "start_time": "2025-06-21T12:08:05.146129Z"
    }
   },
   "cell_type": "code",
   "source": [
    "# Il tuo codice qui\n",
    "matrice_casuale = np.random.randint(0, 100, (5,5))\n",
    "print(\"Originale:\\n\", matrice_casuale)\n",
    "valore_massimo = matrice_casuale.max()\n",
    "valore_minimo = matrice_casuale.min()\n",
    "print(\"Valore massimo: \", valore_massimo)\n",
    "print(\"Valore minimo: \", valore_minimo)\n",
    "matrice_normalizzata = np.empty((5,5))\n",
    "for i  in range(1,5):\n",
    "    for j in range(1,5):\n",
    "        matrice_normalizzata[i][j] = ((matrice_casuale[i][j] - valore_massimo)/ (valore_massimo - valore_minimo))\n",
    "\n",
    "print(\"\\nNormalizzata:\\n\", matrice_normalizzata)"
   ],
   "id": "6413fb5e675a4448",
   "outputs": [
    {
     "name": "stdout",
     "output_type": "stream",
     "text": [
      "Originale:\n",
      " [[22 11 12 92 96]\n",
      " [62 57 79 42 57]\n",
      " [97 50 45 40 89]\n",
      " [73 37  0 18 23]\n",
      " [ 3 29 16 84 82]]\n",
      "Valore massimo:  97\n",
      "Valore minimo:  0\n",
      "\n",
      "Normalizzata:\n",
      " [[ 2.85743870e-315  0.00000000e+000  4.84592629e-317  4.83865364e-317\n",
      "   6.33419666e-310]\n",
      " [ 6.33419679e-310 -4.12371134e-001 -1.85567010e-001 -5.67010309e-001\n",
      "  -4.12371134e-001]\n",
      " [ 6.33419666e-310 -4.84536082e-001 -5.36082474e-001 -5.87628866e-001\n",
      "  -8.24742268e-002]\n",
      " [ 6.33419665e-310 -6.18556701e-001 -1.00000000e+000 -8.14432990e-001\n",
      "  -7.62886598e-001]\n",
      " [ 6.33419667e-310 -7.01030928e-001 -8.35051546e-001 -1.34020619e-001\n",
      "  -1.54639175e-001]]\n"
     ]
    }
   ],
   "execution_count": 36
  },
  {
   "metadata": {},
   "cell_type": "markdown",
   "source": [
    "**5. Sostituzione Condizionata**\n",
    "\n",
    "Crea una matrice 10x10 di numeri interi casuali tra 1 e 100. Sostituisci tutti i numeri maggiori di 50 con il valore `-1`.\n",
    "\n",
    "*Suggerimento: La maschera booleana è tua amica!*"
   ],
   "id": "3bb08f5d5e6672cc"
  },
  {
   "metadata": {
    "ExecuteTime": {
     "end_time": "2025-06-21T12:08:05.213041Z",
     "start_time": "2025-06-21T12:08:05.209052Z"
    }
   },
   "cell_type": "code",
   "source": [
    "# Il tuo codice qui\n",
    "matrice_cond = np.random.randint(1,100,(10,10))\n",
    "maschera = matrice_cond > 50\n",
    "# print(maschera)\n",
    "matrice_cond[maschera] = -1\n",
    "print(matrice_cond)"
   ],
   "id": "5845d8bd55aaa90a",
   "outputs": [
    {
     "name": "stdout",
     "output_type": "stream",
     "text": [
      "[[15 -1 -1 18 -1 -1 26 49 18 33]\n",
      " [-1 -1 42 -1 13 31 -1 18 17  1]\n",
      " [32 -1 -1 39 23 -1 -1 -1 -1 -1]\n",
      " [28 -1 -1 -1 49 -1 -1 -1 38 12]\n",
      " [22 34 -1 44 -1 -1 -1 41 44 -1]\n",
      " [-1  9 -1 -1 29 31 -1 26 -1 -1]\n",
      " [-1 -1 14 42 34  5 -1 -1 29 40]\n",
      " [-1 10  8 23 33  4 10 -1 -1 -1]\n",
      " [31 -1 -1 31 10  3 -1 14 -1 -1]\n",
      " [ 6 -1 -1 49 -1 43 35 41 47 33]]\n"
     ]
    }
   ],
   "execution_count": 37
  },
  {
   "metadata": {},
   "cell_type": "markdown",
   "source": [
    "\n",
    "### Sezione 2: Slicing e Indicizzazione di Livello Superiore\n",
    "\n",
    "Per i prossimi esercizi, usa la seguente matrice 10x10."
   ],
   "id": "bb8c854a33062631"
  },
  {
   "metadata": {
    "ExecuteTime": {
     "end_time": "2025-06-21T12:08:05.262379Z",
     "start_time": "2025-06-21T12:08:05.260239Z"
    }
   },
   "cell_type": "code",
   "source": [
    "mat_test_avanzata = np.arange(100).reshape(10, 10)\n",
    "print(mat_test_avanzata)"
   ],
   "id": "98b42f80f1d2da4a",
   "outputs": [
    {
     "name": "stdout",
     "output_type": "stream",
     "text": [
      "[[ 0  1  2  3  4  5  6  7  8  9]\n",
      " [10 11 12 13 14 15 16 17 18 19]\n",
      " [20 21 22 23 24 25 26 27 28 29]\n",
      " [30 31 32 33 34 35 36 37 38 39]\n",
      " [40 41 42 43 44 45 46 47 48 49]\n",
      " [50 51 52 53 54 55 56 57 58 59]\n",
      " [60 61 62 63 64 65 66 67 68 69]\n",
      " [70 71 72 73 74 75 76 77 78 79]\n",
      " [80 81 82 83 84 85 86 87 88 89]\n",
      " [90 91 92 93 94 95 96 97 98 99]]\n"
     ]
    }
   ],
   "execution_count": 38
  },
  {
   "metadata": {},
   "cell_type": "markdown",
   "source": [
    "**6. Estrai l'Anti-Diagonale**\n",
    "\n",
    "Estrai l'anti-diagonale della `mat_test_avanzata`, ovvero la linea di elementi che va dall'angolo in alto a destra a quello in basso a sinistra (i numeri 9, 18, 27, ..., 90).\n",
    "\n",
    "*Suggerimento: Potresti prima \"ribaltare\" la matrice da sinistra a destra e poi usare un metodo che già conosci...*"
   ],
   "id": "2ed646fe5aacba5"
  },
  {
   "metadata": {
    "ExecuteTime": {
     "end_time": "2025-06-21T12:08:05.314671Z",
     "start_time": "2025-06-21T12:08:05.312076Z"
    }
   },
   "cell_type": "code",
   "source": [
    "# Il tuo codice qui\n",
    "mat = mat_test_avanzata[::-1]\n",
    "print(mat)\n",
    "print(\"----\")\n",
    "anti_diagonale = mat.diagonal()\n",
    "print(anti_diagonale)\n",
    "print(\"----\")\n",
    "anti_diagonale = anti_diagonale[::-1]\n",
    "print(anti_diagonale)\n",
    "print(\"----\")"
   ],
   "id": "2a3efc0a0ecc8c3e",
   "outputs": [
    {
     "name": "stdout",
     "output_type": "stream",
     "text": [
      "[[90 91 92 93 94 95 96 97 98 99]\n",
      " [80 81 82 83 84 85 86 87 88 89]\n",
      " [70 71 72 73 74 75 76 77 78 79]\n",
      " [60 61 62 63 64 65 66 67 68 69]\n",
      " [50 51 52 53 54 55 56 57 58 59]\n",
      " [40 41 42 43 44 45 46 47 48 49]\n",
      " [30 31 32 33 34 35 36 37 38 39]\n",
      " [20 21 22 23 24 25 26 27 28 29]\n",
      " [10 11 12 13 14 15 16 17 18 19]\n",
      " [ 0  1  2  3  4  5  6  7  8  9]]\n",
      "----\n",
      "[90 81 72 63 54 45 36 27 18  9]\n",
      "----\n",
      "[ 9 18 27 36 45 54 63 72 81 90]\n",
      "----\n"
     ]
    }
   ],
   "execution_count": 39
  },
  {
   "metadata": {},
   "cell_type": "markdown",
   "source": [
    "**8. I Quattro Angoli**\n",
    "\n",
    "Estrai i 4 elementi agli angoli della `mat_test_avanzata` e mettili in un nuovo array 2x2."
   ],
   "id": "4a49800c12eeb9c4"
  },
  {
   "metadata": {
    "ExecuteTime": {
     "end_time": "2025-06-21T12:08:05.366791Z",
     "start_time": "2025-06-21T12:08:05.364598Z"
    }
   },
   "cell_type": "code",
   "source": [
    "# Il tuo codice qui\n",
    "# Suggerimento: usa l'indicizzazione avanzata (fancy indexing) per selezionare righe e colonne specifiche.\n",
    "angoli = mat_test_avanzata[[0,9]]\n",
    "angoli = angoli[:,::9]\n",
    "print(angoli)"
   ],
   "id": "dc01dd7da3eca6e3",
   "outputs": [
    {
     "name": "stdout",
     "output_type": "stream",
     "text": [
      "[[ 0  9]\n",
      " [90 99]]\n"
     ]
    }
   ],
   "execution_count": 40
  },
  {
   "metadata": {},
   "cell_type": "markdown",
   "source": [
    "**9. Filtrare Righe basandosi su una Colonna**\n",
    "\n",
    "Seleziona e stampa tutte le righe della `mat_test_avanzata` in cui il valore nella terza colonna (indice 2) è un multiplo di 5."
   ],
   "id": "eb3db658cf9b34f5"
  },
  {
   "metadata": {
    "ExecuteTime": {
     "end_time": "2025-06-21T12:08:05.427927Z",
     "start_time": "2025-06-21T12:08:05.425580Z"
    }
   },
   "cell_type": "code",
   "source": [
    "# Il tuo codice qui\n",
    "colonna_due = mat_test_avanzata[:,2]\n",
    "print(colonna_due)\n",
    "maschera = colonna_due % 5 == 0\n",
    "print(maschera)\n",
    "risultato = mat_test_avanzata[maschera]\n",
    "# Versione compatta : risultato = mat_test_avanzata[mat_test_avanzata[:,5] %5 === 0\n",
    "print(risultato)"
   ],
   "id": "71e2bd66d7895464",
   "outputs": [
    {
     "name": "stdout",
     "output_type": "stream",
     "text": [
      "[ 2 12 22 32 42 52 62 72 82 92]\n",
      "[False False False False False False False False False False]\n",
      "[]\n"
     ]
    }
   ],
   "execution_count": 41
  },
  {
   "metadata": {},
   "cell_type": "markdown",
   "source": [
    "**10. Estrarre una \"Croce\"**\n",
    "\n",
    "Estrai dalla `mat_test_avanzata` la 5ª riga (indice 4) e la 6ª colonna (indice 5)."
   ],
   "id": "ccea87aef049612a"
  },
  {
   "metadata": {
    "ExecuteTime": {
     "end_time": "2025-06-21T12:08:05.490506Z",
     "start_time": "2025-06-21T12:08:05.488149Z"
    }
   },
   "cell_type": "code",
   "source": [
    "# Il tuo codice qui\n",
    "riga_4 = mat_test_avanzata[4::6]\n",
    "colonna_5 = mat_test_avanzata[:,5::5]\n",
    "\n",
    "print(\"Riga 4:\", riga_4)\n",
    "print(\"Colonna 5:\", colonna_5)"
   ],
   "id": "859003ab4a2e445c",
   "outputs": [
    {
     "name": "stdout",
     "output_type": "stream",
     "text": [
      "Riga 4: [[40 41 42 43 44 45 46 47 48 49]]\n",
      "Colonna 5: [[ 5]\n",
      " [15]\n",
      " [25]\n",
      " [35]\n",
      " [45]\n",
      " [55]\n",
      " [65]\n",
      " [75]\n",
      " [85]\n",
      " [95]]\n"
     ]
    }
   ],
   "execution_count": 42
  },
  {
   "metadata": {},
   "cell_type": "markdown",
   "source": [
    "**11. Dividere una Matrice**\n",
    "\n",
    "Dividi la `mat_test_avanzata` in 5 sotto-matrici orizzontali, ognuna di forma 2x10.\n",
    "\n",
    "*Info: La funzione `np.vsplit()` potrebbe esserti utile.*"
   ],
   "id": "6372732cd993cba1"
  },
  {
   "metadata": {
    "ExecuteTime": {
     "end_time": "2025-06-21T12:08:05.544658Z",
     "start_time": "2025-06-21T12:08:05.542444Z"
    }
   },
   "cell_type": "code",
   "source": [
    "# Il tuo codice qui\n",
    "sotto_matrici = np.split(mat_test_avanzata,5)\n",
    "\n",
    "# Stampa la prima e l'ultima per verificare\n",
    "print(\"Prima sotto-matrice:\\n\", sotto_matrici[0])\n",
    "print(\"\\nUltima sotto-matrice:\\n\", sotto_matrici[-1])"
   ],
   "id": "297298443147af81",
   "outputs": [
    {
     "name": "stdout",
     "output_type": "stream",
     "text": [
      "Prima sotto-matrice:\n",
      " [[ 0  1  2  3  4  5  6  7  8  9]\n",
      " [10 11 12 13 14 15 16 17 18 19]]\n",
      "\n",
      "Ultima sotto-matrice:\n",
      " [[80 81 82 83 84 85 86 87 88 89]\n",
      " [90 91 92 93 94 95 96 97 98 99]]\n"
     ]
    }
   ],
   "execution_count": 43
  },
  {
   "metadata": {},
   "cell_type": "markdown",
   "source": [
    "\n",
    "### Sezione 3: Modifica Avanzata con Viste e Broadcasting"
   ],
   "id": "aca4835e3da1fdb4"
  },
  {
   "metadata": {},
   "cell_type": "markdown",
   "source": [
    "**12. Moltiplicazione di Righe Alternate**\n",
    "\n",
    "Nella `mat_test_avanzata`, moltiplica per `2` tutti gli elementi che si trovano nelle righe con indice pari (0, 2, 4, ...)."
   ],
   "id": "7cbbd7f0d559195"
  },
  {
   "metadata": {
    "ExecuteTime": {
     "end_time": "2025-06-21T12:08:05.602441Z",
     "start_time": "2025-06-21T12:08:05.599377Z"
    }
   },
   "cell_type": "code",
   "source": [
    "# Il tuo codice qui\n",
    "# Lavora su una copia per non modificare la matrice per gli esercizi successivi\n",
    "matrice_modificata = mat_test_avanzata.copy()\n",
    "\n",
    "matrice_modificata = matrice_modificata[::2]*2\n",
    "print(matrice_modificata)"
   ],
   "id": "7f606eb148fa9559",
   "outputs": [
    {
     "name": "stdout",
     "output_type": "stream",
     "text": [
      "[[  0   2   4   6   8  10  12  14  16  18]\n",
      " [ 40  42  44  46  48  50  52  54  56  58]\n",
      " [ 80  82  84  86  88  90  92  94  96  98]\n",
      " [120 122 124 126 128 130 132 134 136 138]\n",
      " [160 162 164 166 168 170 172 174 176 178]]\n"
     ]
    }
   ],
   "execution_count": 44
  },
  {
   "metadata": {},
   "cell_type": "markdown",
   "source": [
    "**13. Impostare a Zero un Blocco Interno**\n",
    "\n",
    "Prendi la `mat_test_avanzata` e imposta a `0` tutti gli elementi del blocco interno 4x4 (escluso il bordo)."
   ],
   "id": "7e88e9b2a5f82cb7"
  },
  {
   "metadata": {
    "ExecuteTime": {
     "end_time": "2025-06-21T12:08:05.667434Z",
     "start_time": "2025-06-21T12:08:05.665338Z"
    }
   },
   "cell_type": "code",
   "source": [
    "# Il tuo codice qui\n",
    "matrice_con_buco = mat_test_avanzata.copy()\n",
    "matrice_con_buco[3:7,3:7] = 0\n",
    "print(matrice_con_buco)"
   ],
   "id": "41473c90735fd4e5",
   "outputs": [
    {
     "name": "stdout",
     "output_type": "stream",
     "text": [
      "[[ 0  1  2  3  4  5  6  7  8  9]\n",
      " [10 11 12 13 14 15 16 17 18 19]\n",
      " [20 21 22 23 24 25 26 27 28 29]\n",
      " [30 31 32  0  0  0  0 37 38 39]\n",
      " [40 41 42  0  0  0  0 47 48 49]\n",
      " [50 51 52  0  0  0  0 57 58 59]\n",
      " [60 61 62  0  0  0  0 67 68 69]\n",
      " [70 71 72 73 74 75 76 77 78 79]\n",
      " [80 81 82 83 84 85 86 87 88 89]\n",
      " [90 91 92 93 94 95 96 97 98 99]]\n"
     ]
    }
   ],
   "execution_count": 45
  },
  {
   "metadata": {},
   "cell_type": "markdown",
   "source": [
    "**14. Somma di Vettori a una Matrice**\n",
    "\n",
    "Crea un vettore 1x10 con i numeri da 0 a 9. Somma questo vettore a **ciascuna riga** della `mat_test_avanzata`.\n",
    "\n",
    "*Suggerimento: Il broadcasting farà la magia per te!*"
   ],
   "id": "66d8eee5f958a73"
  },
  {
   "metadata": {
    "ExecuteTime": {
     "end_time": "2025-06-21T12:08:05.747838Z",
     "start_time": "2025-06-21T12:08:05.745011Z"
    }
   },
   "cell_type": "code",
   "source": [
    "# Il tuo codice qui\n",
    "vettore = np.arange(0,10)\n",
    "print(vettore)\n",
    "risultato_somma = vettore + mat_test_avanzata[:]\n",
    "\n",
    "print(risultato_somma)"
   ],
   "id": "fe2536d210c839a9",
   "outputs": [
    {
     "name": "stdout",
     "output_type": "stream",
     "text": [
      "[0 1 2 3 4 5 6 7 8 9]\n",
      "[[  0   2   4   6   8  10  12  14  16  18]\n",
      " [ 10  12  14  16  18  20  22  24  26  28]\n",
      " [ 20  22  24  26  28  30  32  34  36  38]\n",
      " [ 30  32  34  36  38  40  42  44  46  48]\n",
      " [ 40  42  44  46  48  50  52  54  56  58]\n",
      " [ 50  52  54  56  58  60  62  64  66  68]\n",
      " [ 60  62  64  66  68  70  72  74  76  78]\n",
      " [ 70  72  74  76  78  80  82  84  86  88]\n",
      " [ 80  82  84  86  88  90  92  94  96  98]\n",
      " [ 90  92  94  96  98 100 102 104 106 108]]\n"
     ]
    }
   ],
   "execution_count": 46
  },
  {
   "metadata": {},
   "cell_type": "markdown",
   "source": [
    "**15. Scambio di Quadranti**\n",
    "\n",
    "Scambia il quadrante 5x5 in alto a sinistra della `mat_test_avanzata` con quello in basso a destra.\n",
    "\n",
    "*Suggerimento: Potrebbe essere necessario usare una variabile temporanea e delle copie per non perdere i dati durante lo scambio.*"
   ],
   "id": "9adf237390d69d25"
  },
  {
   "metadata": {
    "ExecuteTime": {
     "end_time": "2025-06-21T12:08:05.893426Z",
     "start_time": "2025-06-21T12:08:05.889602Z"
    }
   },
   "cell_type": "code",
   "source": [
    "# Il tuo codice qui\n",
    "matrice_scambiata = mat_test_avanzata.copy()\n",
    "matrice_1Q = matrice_scambiata[:5:,:5:].copy()\n",
    "print(matrice_1Q)\n",
    "print(\"----\")\n",
    "matrice_4Q = matrice_scambiata[5:10:,5:10:].copy()\n",
    "print(matrice_4Q)\n",
    "print(\"----\")\n",
    "matrice_scambiata[5:10:,5:10:] = matrice_1Q\n",
    "matrice_scambiata[:5:,:5:] = matrice_4Q\n",
    "\n",
    "print(matrice_scambiata)"
   ],
   "id": "75ce9cc2942ac27e",
   "outputs": [
    {
     "name": "stdout",
     "output_type": "stream",
     "text": [
      "[[ 0  1  2  3  4]\n",
      " [10 11 12 13 14]\n",
      " [20 21 22 23 24]\n",
      " [30 31 32 33 34]\n",
      " [40 41 42 43 44]]\n",
      "----\n",
      "[[55 56 57 58 59]\n",
      " [65 66 67 68 69]\n",
      " [75 76 77 78 79]\n",
      " [85 86 87 88 89]\n",
      " [95 96 97 98 99]]\n",
      "----\n",
      "[[55 56 57 58 59  5  6  7  8  9]\n",
      " [65 66 67 68 69 15 16 17 18 19]\n",
      " [75 76 77 78 79 25 26 27 28 29]\n",
      " [85 86 87 88 89 35 36 37 38 39]\n",
      " [95 96 97 98 99 45 46 47 48 49]\n",
      " [50 51 52 53 54  0  1  2  3  4]\n",
      " [60 61 62 63 64 10 11 12 13 14]\n",
      " [70 71 72 73 74 20 21 22 23 24]\n",
      " [80 81 82 83 84 30 31 32 33 34]\n",
      " [90 91 92 93 94 40 41 42 43 44]]\n"
     ]
    }
   ],
   "execution_count": 47
  },
  {
   "metadata": {},
   "cell_type": "markdown",
   "source": [
    "\n",
    "# Esercizi Finali su NumPy: Ufuncs, Aggregazioni e Broadcasting\n",
    "\n",
    "Questa è la serie finale di esercizi per padroneggiare i calcoli con NumPy. Gli esercizi sono divisi in tre livelli di difficoltà.\n",
    "\n",
    "Esegui la cella qui sotto per importare NumPy."
   ],
   "id": "8ec11e3a580fd791"
  },
  {
   "metadata": {},
   "cell_type": "markdown",
   "source": [
    "---\n",
    "## Livello Base (10 Esercizi)\n",
    "\n",
    "Questi esercizi coprono le operazioni fondamentali."
   ],
   "id": "209cd5e9a4cf0961"
  },
  {
   "metadata": {},
   "cell_type": "markdown",
   "source": "1. Crea un array da 0 a 10. Moltiplica ogni elemento per 3.",
   "id": "8d114d82f67653c9"
  },
  {
   "metadata": {
    "ExecuteTime": {
     "end_time": "2025-06-21T12:08:05.951624Z",
     "start_time": "2025-06-21T12:08:05.949767Z"
    }
   },
   "cell_type": "code",
   "source": [
    "\n",
    "a = np.arange(0,10)\n",
    "risultato_1 = a*3\n",
    "print(risultato_1)"
   ],
   "id": "847173a571060675",
   "outputs": [
    {
     "name": "stdout",
     "output_type": "stream",
     "text": [
      "[ 0  3  6  9 12 15 18 21 24 27]\n"
     ]
    }
   ],
   "execution_count": 48
  },
  {
   "metadata": {},
   "cell_type": "markdown",
   "source": "2. Crea un array con i valori[3.5, 1.2, 8.3, 4.0]. Aggiungi 10 a ogni elemento",
   "id": "6cb0d8537c9447b5"
  },
  {
   "metadata": {
    "ExecuteTime": {
     "end_time": "2025-06-21T12:08:49.491574Z",
     "start_time": "2025-06-21T12:08:49.489268Z"
    }
   },
   "cell_type": "code",
   "source": [
    "\n",
    "b = np.array([3.5,1.2,8.3,4.0])\n",
    "risultato_2 = b+10\n",
    "print(risultato_2)"
   ],
   "id": "50ac0acb5bbc8c2e",
   "outputs": [
    {
     "name": "stdout",
     "output_type": "stream",
     "text": [
      "[13.5 11.2 18.3 14. ]\n"
     ]
    }
   ],
   "execution_count": 49
  },
  {
   "metadata": {},
   "cell_type": "markdown",
   "source": "3. Crea un array 3x3 di tua scelta. Calcola il quadrato di ogni elemento.",
   "id": "41a969388a34423c"
  },
  {
   "metadata": {
    "ExecuteTime": {
     "end_time": "2025-06-21T12:12:20.068795Z",
     "start_time": "2025-06-21T12:12:20.065898Z"
    }
   },
   "cell_type": "code",
   "source": [
    "c = np.random.randint(1,10,(3,3))\n",
    "risultato_3 = c**2\n",
    "print(risultato_3)"
   ],
   "id": "f58ba7c28ea82270",
   "outputs": [
    {
     "name": "stdout",
     "output_type": "stream",
     "text": [
      "[[81 64 64]\n",
      " [49  9  1]\n",
      " [25 36 25]]\n"
     ]
    }
   ],
   "execution_count": 55
  },
  {
   "metadata": {},
   "cell_type": "markdown",
   "source": "4. Crea un array con i seguenti angoli in radianti:[0, np.pi/2, np.pi]. Calcola il seno di ogni angolo.",
   "id": "b547e9661412038b"
  },
  {
   "metadata": {
    "ExecuteTime": {
     "end_time": "2025-06-21T12:13:25.896668Z",
     "start_time": "2025-06-21T12:13:25.894121Z"
    }
   },
   "cell_type": "code",
   "source": [
    "# Il tuo codice qui\n",
    "d = np.array([0,np.pi/2,np.pi])\n",
    "risultato_4 = np.sin(d)\n",
    "print(risultato_4)"
   ],
   "id": "f790ca0c3ec555f5",
   "outputs": [
    {
     "name": "stdout",
     "output_type": "stream",
     "text": [
      "[0.0000000e+00 1.0000000e+00 1.2246468e-16]\n"
     ]
    }
   ],
   "execution_count": 56
  },
  {
   "metadata": {},
   "cell_type": "markdown",
   "source": "5. Crea un array 1D con 10 numeri interi casuali tra 1 e 50. Calcola la somma totale di tutti gli elementi.",
   "id": "d8ef813ba9a156eb"
  },
  {
   "metadata": {
    "ExecuteTime": {
     "end_time": "2025-06-21T12:14:23.752424Z",
     "start_time": "2025-06-21T12:14:23.749919Z"
    }
   },
   "cell_type": "code",
   "source": [
    "\n",
    "e = np.random.randint(1,5,(10))\n",
    "risultato_5 = np.sum(e)\n",
    "print(f\"Array: {e}, Somma: {risultato_5}\")"
   ],
   "id": "5d98d962f0788225",
   "outputs": [
    {
     "name": "stdout",
     "output_type": "stream",
     "text": [
      "Array: [3 3 2 1 1 4 1 3 3 1], Somma: 22\n"
     ]
    }
   ],
   "execution_count": 57
  },
  {
   "metadata": {},
   "cell_type": "markdown",
   "source": "6. Crea una matrice 4x4 con numeri casuali. Trova il valore minimo e massimo dell'intera matrice.",
   "id": "dbfdebabfa310af"
  },
  {
   "metadata": {
    "ExecuteTime": {
     "end_time": "2025-06-21T12:15:21.892021Z",
     "start_time": "2025-06-21T12:15:21.889710Z"
    }
   },
   "cell_type": "code",
   "source": [
    "# Il tuo codice qui\n",
    "f = np.random.randint(1,100,(4,4))\n",
    "minimo_6 = np.min(f)\n",
    "massimo_6 = np.max(f)\n",
    "print(f\"Matrice:\\n{f}\\nMinimo: {minimo_6}, Massimo: {massimo_6}\")"
   ],
   "id": "367ee69578b2a6ee",
   "outputs": [
    {
     "name": "stdout",
     "output_type": "stream",
     "text": [
      "Matrice:\n",
      "[[14  4 32 77]\n",
      " [88 18 30 70]\n",
      " [51 52 21  6]\n",
      " [71 62 17 75]]\n",
      "Minimo: 4, Massimo: 88\n"
     ]
    }
   ],
   "execution_count": 60
  },
  {
   "metadata": {},
   "cell_type": "markdown",
   "source": "7. Crea una matrice 3x5 di uni. Somma il numero 5 a ogni elemento usando il broadcasting.",
   "id": "8eb91ab46ecb0913"
  },
  {
   "metadata": {
    "ExecuteTime": {
     "end_time": "2025-06-21T12:16:42.612338Z",
     "start_time": "2025-06-21T12:16:42.610038Z"
    }
   },
   "cell_type": "code",
   "source": [
    "# Il tuo codice qui\n",
    "g = np.ones((3,5))\n",
    "risultato_7 = g+5\n",
    "print(risultato_7)"
   ],
   "id": "e7dbbb7d7be39e5e",
   "outputs": [
    {
     "name": "stdout",
     "output_type": "stream",
     "text": [
      "[[6. 6. 6. 6. 6.]\n",
      " [6. 6. 6. 6. 6.]\n",
      " [6. 6. 6. 6. 6.]]\n"
     ]
    }
   ],
   "execution_count": 62
  },
  {
   "metadata": {},
   "cell_type": "markdown",
   "source": "8. Crea un array 1D e calcola la media di tutti i suoi elementi.",
   "id": "3d0373a945ef459b"
  },
  {
   "metadata": {
    "ExecuteTime": {
     "end_time": "2025-06-21T12:17:04.965659Z",
     "start_time": "2025-06-21T12:17:04.963468Z"
    }
   },
   "cell_type": "code",
   "source": [
    "# Il tuo codice qui\n",
    "h = np.array([1, 5, 1, 10, 2, 1])\n",
    "risultato_8 = np.mean(h)\n",
    "print(risultato_8)"
   ],
   "id": "9a084d09a756946e",
   "outputs": [
    {
     "name": "stdout",
     "output_type": "stream",
     "text": [
      "3.3333333333333335\n"
     ]
    }
   ],
   "execution_count": 63
  },
  {
   "metadata": {},
   "cell_type": "markdown",
   "source": "9. Data la matrice dell'esercizio 6, calcola la somma di ogni colonna.",
   "id": "5f938efc211c34f4"
  },
  {
   "metadata": {
    "ExecuteTime": {
     "end_time": "2025-06-21T12:18:24.095085Z",
     "start_time": "2025-06-21T12:18:24.092560Z"
    }
   },
   "cell_type": "code",
   "source": [
    "# Il tuo codice qui\n",
    "# Usa la matrice 'f' creata nell'esercizio 6\n",
    "risultato_9 = np.sum(g, axis = 0)\n",
    "print(risultato_9)"
   ],
   "id": "f3c3464f4b642b66",
   "outputs": [
    {
     "name": "stdout",
     "output_type": "stream",
     "text": [
      "[3. 3. 3. 3. 3.]\n"
     ]
    }
   ],
   "execution_count": 66
  },
  {
   "metadata": {},
   "cell_type": "markdown",
   "source": "10. Data la matrice dell'esercizio 6, calcola la media di ogni riga.",
   "id": "c664f6f00f8c65f9"
  },
  {
   "metadata": {
    "ExecuteTime": {
     "end_time": "2025-06-21T12:18:43.451617Z",
     "start_time": "2025-06-21T12:18:43.449197Z"
    }
   },
   "cell_type": "code",
   "source": [
    "# Il tuo codice qui\n",
    "# Usa la matrice 'f' creata nell'esercizio 6\n",
    "risultato_10 = np.mean(g,axis=1)\n",
    "print(risultato_10)"
   ],
   "id": "67f23fef3c4fead0",
   "outputs": [
    {
     "name": "stdout",
     "output_type": "stream",
     "text": [
      "[1. 1. 1.]\n"
     ]
    }
   ],
   "execution_count": 67
  },
  {
   "metadata": {},
   "cell_type": "markdown",
   "source": [
    "---\n",
    "## Livello Medio (10 Esercizi)\n",
    "\n",
    "Questi esercizi richiedono di combinare più concetti. Per i prossimi esercizi, usa la seguente matrice 5x5."
   ],
   "id": "accdf3632115db1b"
  },
  {
   "metadata": {
    "ExecuteTime": {
     "end_time": "2025-06-21T12:19:01.934182Z",
     "start_time": "2025-06-21T12:19:01.931996Z"
    }
   },
   "cell_type": "code",
   "source": [
    "np.random.seed(0)\n",
    "mat_media = np.random.randint(1, 101, (5, 5))\n",
    "print(\"Matrice per esercizi di livello medio:\\n\", mat_media)"
   ],
   "id": "a6d7326cdd87f208",
   "outputs": [
    {
     "name": "stdout",
     "output_type": "stream",
     "text": [
      "Matrice per esercizi di livello medio:\n",
      " [[45 48 65 68 68]\n",
      " [10 84 22 37 88]\n",
      " [71 89 89 13 59]\n",
      " [66 40 88 47 89]\n",
      " [82 38 26 78 73]]\n"
     ]
    }
   ],
   "execution_count": 68
  },
  {
   "metadata": {},
   "cell_type": "markdown",
   "source": "11. Sottrai la media di ogni colonna dalla colonna stessa. (Questo processo è noto come \"centrare\" i dati).",
   "id": "633f6097bc016c69"
  },
  {
   "metadata": {
    "ExecuteTime": {
     "end_time": "2025-06-21T12:25:21.591130Z",
     "start_time": "2025-06-21T12:25:21.588219Z"
    }
   },
   "cell_type": "code",
   "source": [
    "# Il tuo codice qui\n",
    "# Suggerimento: Calcola prima le medie delle colonne, poi usa il broadcasting.\n",
    "media_colonne = np.mean(mat_media,axis = 0)\n",
    "risultato_11 = mat_media - media_colonne\n",
    "print(risultato_11)"
   ],
   "id": "bc72426335dcc0b4",
   "outputs": [
    {
     "name": "stdout",
     "output_type": "stream",
     "text": [
      "[[ -9.8 -11.8   7.   19.4  -7.4]\n",
      " [-44.8  24.2 -36.  -11.6  12.6]\n",
      " [ 16.2  29.2  31.  -35.6 -16.4]\n",
      " [ 11.2 -19.8  30.   -1.6  13.6]\n",
      " [ 27.2 -21.8 -32.   29.4  -2.4]]\n"
     ]
    }
   ],
   "execution_count": 70
  },
  {
   "metadata": {},
   "cell_type": "markdown",
   "source": "12. Trova la deviazione standard di ogni riga dellamat_media.",
   "id": "eb356d3a17736d57"
  },
  {
   "metadata": {
    "ExecuteTime": {
     "end_time": "2025-06-21T12:26:40.723649Z",
     "start_time": "2025-06-21T12:26:40.721340Z"
    }
   },
   "cell_type": "code",
   "source": [
    "# Il tuo codice qui\n",
    "risultato_12 = np.std(mat_media,axis=1)\n",
    "print(risultato_12)"
   ],
   "id": "c82935ad711f3b06",
   "outputs": [
    {
     "name": "stdout",
     "output_type": "stream",
     "text": [
      "[10.14692072 32.052457   28.01713761 20.24845673 22.87006777]\n"
     ]
    }
   ],
   "execution_count": 71
  },
  {
   "metadata": {},
   "cell_type": "markdown",
   "source": "13. Trova l'indice (la posizione) dell'elemento con il valore più alto nell'intera matricemat_media.",
   "id": "77d78688032a438f"
  },
  {
   "metadata": {
    "ExecuteTime": {
     "end_time": "2025-06-21T12:27:21.761628Z",
     "start_time": "2025-06-21T12:27:21.758747Z"
    }
   },
   "cell_type": "code",
   "source": [
    "# Il tuo codice qui\n",
    "risultato_13 = np.argmax(mat_media)\n",
    "print(f\"L'indice dell'elemento massimo è: {risultato_13}\")"
   ],
   "id": "b5d18b415113cadd",
   "outputs": [
    {
     "name": "stdout",
     "output_type": "stream",
     "text": [
      "L'indice dell'elemento massimo è: 11\n"
     ]
    }
   ],
   "execution_count": 72
  },
  {
   "metadata": {},
   "cell_type": "markdown",
   "source": "14. Conta quanti elementi nellamat_mediasono maggiori di 70.",
   "id": "54141601ee339244"
  },
  {
   "metadata": {
    "ExecuteTime": {
     "end_time": "2025-06-21T12:29:33.958481Z",
     "start_time": "2025-06-21T12:29:33.956320Z"
    }
   },
   "cell_type": "code",
   "source": [
    "# Il tuo codice qui\n",
    "risultato_14 = np.sum(mat_media > 70)\n",
    "print(f\"Ci sono {risultato_14} elementi maggiori di 70.\")"
   ],
   "id": "995367d1e70e7a11",
   "outputs": [
    {
     "name": "stdout",
     "output_type": "stream",
     "text": [
      "Ci sono 10 elementi maggiori di 70.\n"
     ]
    }
   ],
   "execution_count": 75
  },
  {
   "metadata": {},
   "cell_type": "markdown",
   "source": "15. Crea un vettore 1D di 5 elementi. Aggiungilo a ogni riga dellamat_media(broadcasting).",
   "id": "737fd5fdcf8db531"
  },
  {
   "metadata": {
    "ExecuteTime": {
     "end_time": "2025-06-21T12:30:51.183328Z",
     "start_time": "2025-06-21T12:30:51.180734Z"
    }
   },
   "cell_type": "code",
   "source": [
    "# Il tuo codice qui\n",
    "vettore_15 = np.arange(5)\n",
    "risultato_15 = mat_media + vettore_15\n",
    "print(risultato_15)"
   ],
   "id": "430adb22ceb81856",
   "outputs": [
    {
     "name": "stdout",
     "output_type": "stream",
     "text": [
      "[[45 49 67 71 72]\n",
      " [10 85 24 40 92]\n",
      " [71 90 91 16 63]\n",
      " [66 41 90 50 93]\n",
      " [82 39 28 81 77]]\n"
     ]
    }
   ],
   "execution_count": 76
  },
  {
   "metadata": {},
   "cell_type": "markdown",
   "source": "16. Calcola il prodotto di tutti gli elementi della diagonale principale dellamat_media.",
   "id": "7d576a49b1ba3533"
  },
  {
   "metadata": {
    "ExecuteTime": {
     "end_time": "2025-06-21T12:33:40.108100Z",
     "start_time": "2025-06-21T12:33:40.105984Z"
    }
   },
   "cell_type": "code",
   "source": [
    "# Il tuo codice qui\n",
    "risultato_16 = np.prod(mat_media.diagonal())\n",
    "print(risultato_16)"
   ],
   "id": "aa9ab75273f7ba81",
   "outputs": [
    {
     "name": "stdout",
     "output_type": "stream",
     "text": [
      "1154257020\n"
     ]
    }
   ],
   "execution_count": 77
  },
  {
   "metadata": {},
   "cell_type": "markdown",
   "source": "17. Crea un vettore colonna di 5 elementi. Sommalo alla mat_media.",
   "id": "230d5f0360decae9"
  },
  {
   "metadata": {
    "ExecuteTime": {
     "end_time": "2025-06-21T12:36:02.609219Z",
     "start_time": "2025-06-21T12:36:02.607010Z"
    }
   },
   "cell_type": "code",
   "source": [
    "# Il tuo codice qui\n",
    "vettore_17_riga = np.arange(5)\n",
    "vettore_17_colonna = np.arange(1,6).reshape(5,1)\n",
    "risultato_17 = vettore_17_riga + mat_media\n",
    "print(risultato_17)"
   ],
   "id": "981d98b5c05a738a",
   "outputs": [
    {
     "name": "stdout",
     "output_type": "stream",
     "text": [
      "[[45 49 67 71 72]\n",
      " [10 85 24 40 92]\n",
      " [71 90 91 16 63]\n",
      " [66 41 90 50 93]\n",
      " [82 39 28 81 77]]\n"
     ]
    }
   ],
   "execution_count": 80
  },
  {
   "metadata": {},
   "cell_type": "markdown",
   "source": "18. Sostituisci tutti gli elementi dispari dellamat_mediacon il valore -1.",
   "id": "d4dae255334f9b08"
  },
  {
   "metadata": {
    "ExecuteTime": {
     "end_time": "2025-06-21T12:42:12.968858Z",
     "start_time": "2025-06-21T12:42:12.965988Z"
    }
   },
   "cell_type": "code",
   "source": [
    "# Il tuo codice qui\n",
    "mat_copia_18 = mat_media.copy() # Lavora su una copia\n",
    "maschera_18 = mat_copia_18% 2 != 0\n",
    "mat_copia_18[maschera_18] = -1\n",
    "print(mat_copia_18)"
   ],
   "id": "3853506e5e90da0c",
   "outputs": [
    {
     "name": "stdout",
     "output_type": "stream",
     "text": [
      "[[-1 48 -1 68 68]\n",
      " [10 84 22 -1 88]\n",
      " [-1 -1 -1 -1 -1]\n",
      " [66 40 88 -1 -1]\n",
      " [82 38 26 78 -1]]\n"
     ]
    }
   ],
   "execution_count": 81
  },
  {
   "metadata": {},
   "cell_type": "markdown",
   "source": "19. Calcola la somma cumulativa degli elementi lungo le colonne dell'amat_media.",
   "id": "2145092893337912"
  },
  {
   "metadata": {
    "ExecuteTime": {
     "end_time": "2025-06-21T12:44:40.237543Z",
     "start_time": "2025-06-21T12:44:40.235260Z"
    }
   },
   "cell_type": "code",
   "source": [
    "# Il tuo codice qui\n",
    "risultato_19 = np.cumsum(mat_media, axis = 0)\n",
    "print(risultato_19)"
   ],
   "id": "d7214a6d85bd820b",
   "outputs": [
    {
     "name": "stdout",
     "output_type": "stream",
     "text": [
      "[[ 45  48  65  68  68]\n",
      " [ 55 132  87 105 156]\n",
      " [126 221 176 118 215]\n",
      " [192 261 264 165 304]\n",
      " [274 299 290 243 377]]\n"
     ]
    }
   ],
   "execution_count": 82
  },
  {
   "metadata": {},
   "cell_type": "markdown",
   "source": "20. Normalizza lamat_media(sottrai la media e dividi per la deviazione standard dell'intera matrice).",
   "id": "1ffe098bdf5c70a7"
  },
  {
   "metadata": {
    "ExecuteTime": {
     "end_time": "2025-06-21T12:45:39.274350Z",
     "start_time": "2025-06-21T12:45:39.271727Z"
    }
   },
   "cell_type": "code",
   "source": [
    "# Il tuo codice qui\n",
    "media_totale = np.mean(mat_media)\n",
    "std_totale = np.std(mat_media)\n",
    "risultato_20 = (mat_media - media_totale)/std_totale\n",
    "print(risultato_20)"
   ],
   "id": "6c8aa7c237f21d16",
   "outputs": [
    {
     "name": "stdout",
     "output_type": "stream",
     "text": [
      "[[-0.58068698 -0.45903468  0.23032836  0.35198066  0.35198066]\n",
      " [-1.99996382  1.00079293 -1.51335462 -0.90509312  1.16299599]\n",
      " [ 0.47363296  1.20354676  1.20354676 -1.87831152 -0.01297625]\n",
      " [ 0.27087912 -0.78344082  1.16299599 -0.49958545  1.20354676]\n",
      " [ 0.91969139 -0.86454235 -1.35115155  0.75748833  0.55473449]]\n"
     ]
    }
   ],
   "execution_count": 83
  },
  {
   "metadata": {},
   "cell_type": "markdown",
   "source": [
    "---\n",
    "## Livello Complesso (10 Esercizi)\n",
    "\n",
    "Questi esercizi richiedono un ragionamento più profondo e la combinazione di più tecniche. Per i prossimi esercizi, usa questa matrice 10x10."
   ],
   "id": "b91915f1c527b049"
  },
  {
   "metadata": {
    "ExecuteTime": {
     "end_time": "2025-06-21T12:46:07.213959Z",
     "start_time": "2025-06-21T12:46:07.211039Z"
    }
   },
   "cell_type": "code",
   "source": [
    "np.random.seed(42)\n",
    "mat_complessa = np.random.randint(0, 100, (10,10))\n",
    "print(\"Matrice per esercizi complessi:\\n\", mat_complessa)"
   ],
   "id": "87ec4098cd164dd",
   "outputs": [
    {
     "name": "stdout",
     "output_type": "stream",
     "text": [
      "Matrice per esercizi complessi:\n",
      " [[51 92 14 71 60 20 82 86 74 74]\n",
      " [87 99 23  2 21 52  1 87 29 37]\n",
      " [ 1 63 59 20 32 75 57 21 88 48]\n",
      " [90 58 41 91 59 79 14 61 61 46]\n",
      " [61 50 54 63  2 50  6 20 72 38]\n",
      " [17  3 88 59 13  8 89 52  1 83]\n",
      " [91 59 70 43  7 46 34 77 80 35]\n",
      " [49  3  1  5 53  3 53 92 62 17]\n",
      " [89 43 33 73 61 99 13 94 47 14]\n",
      " [71 77 86 61 39 84 79 81 52 23]]\n"
     ]
    }
   ],
   "execution_count": 84
  },
  {
   "metadata": {},
   "cell_type": "markdown",
   "source": "21. Trova la riga con la somma degli elementi più alta.",
   "id": "e7564450e98d9dd6"
  },
  {
   "metadata": {
    "ExecuteTime": {
     "end_time": "2025-06-21T12:55:20.663011Z",
     "start_time": "2025-06-21T12:55:20.660464Z"
    }
   },
   "cell_type": "code",
   "source": [
    "# Il tuo codice qui\n",
    "somme_righe = np.sum(mat_complessa, axis=1)\n",
    "indice_riga_max = np.argmax(somme_righe)\n",
    "riga_max = mat_complessa[indice_riga_max]\n",
    "print(f\"La riga con la somma più alta (indice {indice_riga_max}) è: \\n{riga_max}\")"
   ],
   "id": "93deb1a0c4657883",
   "outputs": [
    {
     "name": "stdout",
     "output_type": "stream",
     "text": [
      "La riga con la somma più alta (indice 9) è: \n",
      "[71 77 86 61 39 84 79 81 52 23]\n"
     ]
    }
   ],
   "execution_count": 90
  },
  {
   "metadata": {},
   "cell_type": "markdown",
   "source": "22. Calcola la distanza Euclidea tra due vettori 1D di 10 elementi ciascuno.",
   "id": "4ce28c1cb9a848b1"
  },
  {
   "metadata": {
    "ExecuteTime": {
     "end_time": "2025-06-21T12:56:49.194912Z",
     "start_time": "2025-06-21T12:56:49.192886Z"
    }
   },
   "cell_type": "code",
   "source": [
    "# Il tuo codice qui\n",
    "a = np.arange(10)\n",
    "b = np.arange(10, 0, -1)\n",
    "distanza_22 = np.sqrt(np.sum((a-b)**2))\n",
    "print(distanza_22)"
   ],
   "id": "1d1acd3879a362f8",
   "outputs": [
    {
     "name": "stdout",
     "output_type": "stream",
     "text": [
      "18.439088914585774\n"
     ]
    }
   ],
   "execution_count": 91
  },
  {
   "metadata": {},
   "cell_type": "markdown",
   "source": "23. Crea una matrice di distanze: data una matrice 10x2 di punti (x,y), calcola la distanza di ogni punto da ogni altro punto.",
   "id": "a4d053eb1bb83201"
  },
  {
   "metadata": {
    "ExecuteTime": {
     "end_time": "2025-06-21T13:05:46.682407Z",
     "start_time": "2025-06-21T13:05:46.680068Z"
    }
   },
   "cell_type": "code",
   "source": [
    "# Il tuo codice qui\n",
    "punti = mat_complessa[:10, :2] # Usiamo le prime 10 righe e 2 colonne\n",
    "distanze = np.sqrt(np.sum((punti[:, np.newaxis, :] - punti[np.newaxis, :, :]) ** 2, axis=-1))\n",
    "print(distanze.shape) # Dovrebbe essere (10, 10)"
   ],
   "id": "52501adef5d9fd0f",
   "outputs": [
    {
     "name": "stdout",
     "output_type": "stream",
     "text": [
      "(10, 10)\n"
     ]
    }
   ],
   "execution_count": 92
  },
  {
   "metadata": {},
   "cell_type": "markdown",
   "source": "24. Sostituisci tutti gli elementi in un raggio di 20 dal valore massimo dellamat_complessacon il valore 0.",
   "id": "82bb73bcdb464b93"
  },
  {
   "metadata": {
    "ExecuteTime": {
     "end_time": "2025-06-21T13:13:36.604240Z",
     "start_time": "2025-06-21T13:13:36.601121Z"
    }
   },
   "cell_type": "code",
   "source": [
    "# Il tuo codice qui\n",
    "mat_copia_24 = mat_complessa.copy()\n",
    "massimo_24 = np.argmax(mat_complessa)\n",
    "i,j = np.unravel_index(massimo_24, mat_complessa.shape)\n",
    "\n",
    "y,x = np.ogrid[:mat_complessa.shape[0], :mat_complessa.shape[1]]\n",
    "\n",
    "maschera = np.sqrt((x-j)**2 + (y-i)**2) < 20\n",
    "\n",
    "mat_copia_24[maschera] = 0\n",
    "print(mat_copia_24)"
   ],
   "id": "6b7d1747c85b41bc",
   "outputs": [
    {
     "name": "stdout",
     "output_type": "stream",
     "text": [
      "[[0 0 0 0 0 0 0 0 0 0]\n",
      " [0 0 0 0 0 0 0 0 0 0]\n",
      " [0 0 0 0 0 0 0 0 0 0]\n",
      " [0 0 0 0 0 0 0 0 0 0]\n",
      " [0 0 0 0 0 0 0 0 0 0]\n",
      " [0 0 0 0 0 0 0 0 0 0]\n",
      " [0 0 0 0 0 0 0 0 0 0]\n",
      " [0 0 0 0 0 0 0 0 0 0]\n",
      " [0 0 0 0 0 0 0 0 0 0]\n",
      " [0 0 0 0 0 0 0 0 0 0]]\n"
     ]
    }
   ],
   "execution_count": 96
  },
  {
   "metadata": {},
   "cell_type": "markdown",
   "source": "25. Crea un array 1D V di 10 elementi. Crea una matrice 10x10 la cui i-esima riga è v + i.",
   "id": "29a07d3bb01e6643"
  },
  {
   "metadata": {
    "ExecuteTime": {
     "end_time": "2025-06-21T13:17:06.929193Z",
     "start_time": "2025-06-21T13:17:06.926334Z"
    }
   },
   "cell_type": "code",
   "source": [
    "# Il tuo codice qui\n",
    "v = np.arange(10)\n",
    "i = np.arange(10).reshape(10,1)\n",
    "risultato_25 = v + i[:,np.newaxis]\n",
    "print(risultato_25)"
   ],
   "id": "c2a97bc49e89cf06",
   "outputs": [
    {
     "name": "stdout",
     "output_type": "stream",
     "text": [
      "[[[ 0  1  2  3  4  5  6  7  8  9]]\n",
      "\n",
      " [[ 1  2  3  4  5  6  7  8  9 10]]\n",
      "\n",
      " [[ 2  3  4  5  6  7  8  9 10 11]]\n",
      "\n",
      " [[ 3  4  5  6  7  8  9 10 11 12]]\n",
      "\n",
      " [[ 4  5  6  7  8  9 10 11 12 13]]\n",
      "\n",
      " [[ 5  6  7  8  9 10 11 12 13 14]]\n",
      "\n",
      " [[ 6  7  8  9 10 11 12 13 14 15]]\n",
      "\n",
      " [[ 7  8  9 10 11 12 13 14 15 16]]\n",
      "\n",
      " [[ 8  9 10 11 12 13 14 15 16 17]]\n",
      "\n",
      " [[ 9 10 11 12 13 14 15 16 17 18]]]\n"
     ]
    }
   ],
   "execution_count": 99
  },
  {
   "metadata": {},
   "cell_type": "markdown",
   "source": [
    "26. Trova la colonna nellamat_complessache ha la più alta correlazione con un vettore casuale di 10 elementi.\n",
    "Info: La correlazione tra due vettori x e y è sum((x - x.mean()) * (y - y.mean())) / (len(x) * x.std() * y.std()).\n"
   ],
   "id": "542fe0398d89299"
  },
  {
   "metadata": {},
   "cell_type": "code",
   "outputs": [],
   "execution_count": null,
   "source": [
    "def correlazione(x, y):\n",
    "    return np.sum((x - x.mean()) * (y - y.mean())) / (len(x) * x.std() * y.std())\n",
    "\n",
    "vettore_casuale_26 = np.random.rand(10)\n",
    "# Calcola correlazione per ogni colonna\n",
    "correlazioni = [correlazione(mat_complessa[:, i], vettore_casuale_26) for i in range(mat_complessa.shape[1])]\n",
    "\n",
    "# Trova l'indice della colonna con correlazione massima\n",
    "indice_col_max = np.argmax(correlazioni)\n",
    "\n",
    "print(f\"La colonna con la correlazione più alta è la numero {indice_col_max}\")"
   ],
   "id": "339a8ee204522562"
  },
  {
   "metadata": {},
   "cell_type": "markdown",
   "source": "27. Moltiplica la mat_complessa per un vettore colonna di 10 elementi (broadcasting).",
   "id": "8e00aac35856e422"
  },
  {
   "metadata": {
    "ExecuteTime": {
     "end_time": "2025-06-21T13:23:02.460899Z",
     "start_time": "2025-06-21T13:23:02.458039Z"
    }
   },
   "cell_type": "code",
   "source": [
    "# Il tuo codice qui\n",
    "v_col_27 = np.arange(10).reshape(10,1)\n",
    "risultato_27 = mat_complessa * v_col_27\n",
    "print(risultato_27)"
   ],
   "id": "7acf5fc5b92b8fb4",
   "outputs": [
    {
     "name": "stdout",
     "output_type": "stream",
     "text": [
      "[[  0   0   0   0   0   0   0   0   0   0]\n",
      " [ 87  99  23   2  21  52   1  87  29  37]\n",
      " [  2 126 118  40  64 150 114  42 176  96]\n",
      " [270 174 123 273 177 237  42 183 183 138]\n",
      " [244 200 216 252   8 200  24  80 288 152]\n",
      " [ 85  15 440 295  65  40 445 260   5 415]\n",
      " [546 354 420 258  42 276 204 462 480 210]\n",
      " [343  21   7  35 371  21 371 644 434 119]\n",
      " [712 344 264 584 488 792 104 752 376 112]\n",
      " [639 693 774 549 351 756 711 729 468 207]]\n"
     ]
    }
   ],
   "execution_count": 100
  },
  {
   "metadata": {},
   "cell_type": "markdown",
   "source": [
    "28. Trova i 5 valori più grandi presenti nellamat_complessa.\n",
    "Suggerimento: np.sort o np.partition potrebbero essere utili.\n"
   ],
   "id": "1dbb56b03768ef1d"
  },
  {
   "metadata": {
    "ExecuteTime": {
     "end_time": "2025-06-21T13:27:51.501294Z",
     "start_time": "2025-06-21T13:27:51.482634Z"
    }
   },
   "cell_type": "code",
   "source": [
    "# Il tuo codice qui\n",
    "risultato_28 = np.sort(mat_complessa.flatten())[-5:]\n",
    "print(risultato_28)"
   ],
   "id": "d3a671a06f8d07b3",
   "outputs": [
    {
     "name": "stdout",
     "output_type": "stream",
     "text": [
      "[92 92 94 99 99]\n"
     ]
    }
   ],
   "execution_count": 104
  },
  {
   "metadata": {},
   "cell_type": "markdown",
   "source": [
    "29. Calcola la media mobile a 3 elementi per ogni colonna dellamat_complessa.\n",
    "Suggerimento: È una sfida. Potresti fare uno slicing per prendere le righe i, i+1, i+2, sommarle e dividerle per 3, iterando."
   ],
   "id": "a65e3b5171735993"
  },
  {
   "metadata": {},
   "cell_type": "code",
   "outputs": [],
   "execution_count": null,
   "source": [
    "risultato_29 = np.zeros((8, mat_complessa.shape[1]))\n",
    "\n",
    "for i in range(8):  # 8 perché facciamo la media di 3 elementi alla volta (10-3+1)\n",
    "    risultato_29[i] = mat_complessa[i:i+3].mean(axis=0)\n"
   ],
   "id": "3585390c6ea7642"
  },
  {
   "metadata": {},
   "cell_type": "markdown",
   "source": "30. Sottrai ad ogni riga dellamat_complessala media di quella stessa riga.",
   "id": "9409e1cc0377b85"
  },
  {
   "metadata": {
    "ExecuteTime": {
     "end_time": "2025-06-21T13:26:45.333155Z",
     "start_time": "2025-06-21T13:26:45.330934Z"
    }
   },
   "cell_type": "code",
   "source": [
    "# Il tuo codice qui\n",
    "risultato_30 = mat_complessa - mat_complessa.mean(axis =1)[:,np.newaxis]\n",
    "print(risultato_30.mean(axis=1)) # Dovrebbe essere un array di zeri (o quasi)"
   ],
   "id": "309a66b147f426eb",
   "outputs": [
    {
     "name": "stdout",
     "output_type": "stream",
     "text": [
      "[ 1.42108547e-15  2.84217094e-15  1.42108547e-15  0.00000000e+00\n",
      " -1.42108547e-15  2.84217094e-15 -2.84217094e-15  2.84217094e-15\n",
      " -1.42108547e-15  2.84217094e-15]\n"
     ]
    }
   ],
   "execution_count": 103
  },
  {
   "metadata": {},
   "cell_type": "code",
   "outputs": [],
   "execution_count": null,
   "source": "",
   "id": "622af3578ae980a8"
  }
 ],
 "metadata": {
  "kernelspec": {
   "display_name": "Python 3",
   "language": "python",
   "name": "python3"
  },
  "language_info": {
   "codemirror_mode": {
    "name": "ipython",
    "version": 2
   },
   "file_extension": ".py",
   "mimetype": "text/x-python",
   "name": "python",
   "nbconvert_exporter": "python",
   "pygments_lexer": "ipython2",
   "version": "2.7.6"
  }
 },
 "nbformat": 4,
 "nbformat_minor": 5
}
