{
 "cells": [
  {
   "cell_type": "markdown",
   "id": "8b6dcd44",
   "metadata": {},
   "source": [
    "# 📘 Esercitazione III\n",
    "\n",
    "Questo notebook contiene un secondo set di 50 esercizi, con focus su dizionari, set e eccezioni personalizzate.\n",
    "\n",
    "---"
   ]
  },
  {
   "cell_type": "markdown",
   "id": "f89560dd",
   "metadata": {},
   "source": [
    "## 🔧 Fondamenti di Funzioni"
   ]
  },
  {
   "cell_type": "code",
   "execution_count": null,
   "id": "5c448b82",
   "metadata": {},
   "outputs": [],
   "source": [
    "# Esercizio 1\n",
    "# Scrivi una funzione `reverse_string(s)` che restituisce la stringa `s` invertita.\n"
   ]
  },
  {
   "cell_type": "code",
   "execution_count": null,
   "id": "5c3d5c1f",
   "metadata": {},
   "outputs": [],
   "source": [
    "# Esercizio 2\n",
    "# Scrivi una funzione `is_palindrome(n)` che controlla se un numero intero `n` è palindromo.\n"
   ]
  },
  {
   "cell_type": "code",
   "execution_count": null,
   "id": "a9b3cb15",
   "metadata": {},
   "outputs": [],
   "source": [
    "# Esercizio 3\n",
    "# Scrivi una funzione `fib(n)` che restituisce il n-esimo numero di Fibonacci (ricorsiva).\n"
   ]
  },
  {
   "cell_type": "code",
   "execution_count": null,
   "id": "4147a66c",
   "metadata": {},
   "outputs": [],
   "source": [
    "# Esercizio 4\n",
    "# Scrivi una funzione `factorial(n)` che calcola il fattoriale di `n` (iterativa).\n"
   ]
  },
  {
   "cell_type": "code",
   "execution_count": null,
   "id": "7a2c08d7",
   "metadata": {},
   "outputs": [],
   "source": [
    "# Esercizio 5\n",
    "# Scrivi una funzione `flatten_list(lst)` che appiattisce una lista di liste di numeri.\n"
   ]
  },
  {
   "cell_type": "code",
   "execution_count": null,
   "id": "46a4208a",
   "metadata": {},
   "outputs": [],
   "source": [
    "# Esercizio 6\n",
    "# Scrivi una funzione `merge_sorted(a, b)` che unisce due liste ordinate in una sola lista ordinata.\n"
   ]
  },
  {
   "cell_type": "code",
   "execution_count": null,
   "id": "434f13e6",
   "metadata": {},
   "outputs": [],
   "source": [
    "# Esercizio 7\n",
    "# Scrivi una funzione `unique_preserve_order(lst)` che rimuove duplicati mantenendo l'ordine.\n"
   ]
  },
  {
   "cell_type": "code",
   "execution_count": null,
   "id": "e1e01245",
   "metadata": {},
   "outputs": [],
   "source": [
    "# Esercizio 8\n",
    "# Scrivi una funzione `chunk_list(lst, size)` che suddivide la lista in chunk di lunghezza `size`.\n"
   ]
  },
  {
   "cell_type": "markdown",
   "id": "85a3bdb1",
   "metadata": {},
   "source": [
    "## 📚 Dizionari & Set"
   ]
  },
  {
   "cell_type": "code",
   "execution_count": null,
   "id": "9e3f3631",
   "metadata": {},
   "outputs": [],
   "source": [
    "# Esercizio 1\n",
    "# Dato un testo, scrivi una funzione che conta la frequenza di ogni parola usando un dizionario.\n"
   ]
  },
  {
   "cell_type": "code",
   "execution_count": null,
   "id": "d79c6990",
   "metadata": {},
   "outputs": [],
   "source": [
    "# Esercizio 2\n",
    "# Data una lista di tuple `(chiave, valore)`, crea un dizionario che aggrega i valori in liste.\n"
   ]
  },
  {
   "cell_type": "code",
   "execution_count": null,
   "id": "1d9caa19",
   "metadata": {},
   "outputs": [],
   "source": [
    "# Esercizio 3\n",
    "# Scrivi una funzione che inverte un dizionario (valori diventano chiavi, chiavi in liste).\n"
   ]
  },
  {
   "cell_type": "code",
   "execution_count": null,
   "id": "11a162cc",
   "metadata": {},
   "outputs": [],
   "source": [
    "# Esercizio 4\n",
    "# Scrivi una funzione `common_elements(a, b)` che usa set per restituire l'intersezione di due liste.\n"
   ]
  },
  {
   "cell_type": "code",
   "execution_count": null,
   "id": "62888435",
   "metadata": {},
   "outputs": [],
   "source": [
    "# Esercizio 5\n",
    "# Scrivi una funzione `set_operations(a, b)` che restituisce un dizionario con union, intersection, e difference.\n"
   ]
  },
  {
   "cell_type": "code",
   "execution_count": null,
   "id": "2c33b708",
   "metadata": {},
   "outputs": [],
   "source": [
    "# Esercizio 6\n",
    "# Scrivi una funzione che rimuove elementi duplicati da una lista usando un set e restituisce una lista ordinata.\n"
   ]
  },
  {
   "cell_type": "code",
   "execution_count": null,
   "id": "7743bd86",
   "metadata": {},
   "outputs": [],
   "source": [
    "# Esercizio 7\n",
    "# Scrivi una funzione `dict_diff(d1, d2)` che restituisce chiavi diverse tra due dizionari.\n"
   ]
  },
  {
   "cell_type": "code",
   "execution_count": null,
   "id": "c6af63d5",
   "metadata": {},
   "outputs": [],
   "source": [
    "# Esercizio 8\n",
    "# Data una lista di dizionari con chiave `id`, crea un set di tutti gli `id` univoci.\n"
   ]
  },
  {
   "cell_type": "markdown",
   "id": "fe3f740d",
   "metadata": {},
   "source": [
    "## 📝 Comprehensions Avanzate"
   ]
  },
  {
   "cell_type": "code",
   "execution_count": null,
   "id": "e168fec8",
   "metadata": {},
   "outputs": [],
   "source": [
    "# Esercizio 1\n",
    "# Usa dict comprehension per trasformare una lista di numeri in un dizionario n->n^3.\n"
   ]
  },
  {
   "cell_type": "code",
   "execution_count": null,
   "id": "eafff7ae",
   "metadata": {},
   "outputs": [],
   "source": [
    "# Esercizio 2\n",
    "# Usa set comprehension per ottenere le lunghezze uniche delle parole di una frase.\n"
   ]
  },
  {
   "cell_type": "code",
   "execution_count": null,
   "id": "d9fafc14",
   "metadata": {},
   "outputs": [],
   "source": [
    "# Esercizio 3\n",
    "# Usa list comprehension con condizione per ottenere numeri pari al quadrato di input 1-50.\n"
   ]
  },
  {
   "cell_type": "code",
   "execution_count": null,
   "id": "8c32e374",
   "metadata": {},
   "outputs": [],
   "source": [
    "# Esercizio 4\n",
    "# Usa nested comprehension per creare la matrice 3x3 moltiplicando indici.\n"
   ]
  },
  {
   "cell_type": "code",
   "execution_count": null,
   "id": "dee9ab64",
   "metadata": {},
   "outputs": [],
   "source": [
    "# Esercizio 5\n",
    "# Combina map, filter e lambda per filtrare e processare una lista di interi.\n"
   ]
  },
  {
   "cell_type": "markdown",
   "id": "f559d1fe",
   "metadata": {},
   "source": [
    "## ⚠️ Eccezioni & Custom Exceptions"
   ]
  },
  {
   "cell_type": "code",
   "execution_count": null,
   "id": "5ccad8f6",
   "metadata": {},
   "outputs": [],
   "source": [
    "# Esercizio 1\n",
    "# Scrivi un blocco try/except che gestisce la divisione per zero stampando un messaggio.\n"
   ]
  },
  {
   "cell_type": "code",
   "execution_count": null,
   "id": "501410a5",
   "metadata": {},
   "outputs": [],
   "source": [
    "# Esercizio 2\n",
    "# Crea una eccezione personalizzata `NegativeNumberError` e sollevala se input < 0.\n"
   ]
  },
  {
   "cell_type": "code",
   "execution_count": null,
   "id": "e94a5c72",
   "metadata": {},
   "outputs": [],
   "source": [
    "# Esercizio 3\n",
    "# Scrivi una funzione `sqrt_positive(x)` che solleva `NegativeNumberError` se x<0.\n"
   ]
  },
  {
   "cell_type": "code",
   "execution_count": null,
   "id": "17c138f0",
   "metadata": {},
   "outputs": [],
   "source": [
    "# Esercizio 4\n",
    "# Gestisci l'apertura di un file inesistente con `FileNotFoundError` e crea il file vuoto.\n"
   ]
  },
  {
   "cell_type": "code",
   "execution_count": null,
   "id": "6120af47",
   "metadata": {},
   "outputs": [],
   "source": [
    "# Esercizio 5\n",
    "# Definisci una gerarchia di eccezioni: `AppError` base, `ValidationError` e `DatabaseError`.\n"
   ]
  },
  {
   "cell_type": "code",
   "execution_count": null,
   "id": "d2448e4a",
   "metadata": {},
   "outputs": [],
   "source": [
    "# Esercizio 6\n",
    "# Scrivi un contesto manager che gestisce eccezioni e logga il traceback su file.\n"
   ]
  },
  {
   "cell_type": "code",
   "execution_count": null,
   "id": "113df750",
   "metadata": {},
   "outputs": [],
   "source": [
    "# Esercizio 7\n",
    "# Crea una funzione che solleva `TypeError` personalizzato se l'argomento non è stringa.\n"
   ]
  },
  {
   "cell_type": "code",
   "execution_count": null,
   "id": "1066281d",
   "metadata": {},
   "outputs": [],
   "source": [
    "# Esercizio 8\n",
    "# Scrivi codice che usa `else` e `finally` oltre a `try/except`.\n"
   ]
  },
  {
   "cell_type": "markdown",
   "id": "506062cc",
   "metadata": {},
   "source": [
    "## 📂 File I/O & Formati"
   ]
  },
  {
   "cell_type": "code",
   "execution_count": null,
   "id": "2690776b",
   "metadata": {},
   "outputs": [],
   "source": [
    "# Esercizio 1\n",
    "# Scrivi una funzione che legge un CSV e restituisce una lista di dizionari.\n"
   ]
  },
  {
   "cell_type": "code",
   "execution_count": null,
   "id": "3bf7e339",
   "metadata": {},
   "outputs": [],
   "source": [
    "# Esercizio 2\n",
    "# Scrivi una funzione che scrive un dizionario in un file JSON.\n"
   ]
  },
  {
   "cell_type": "code",
   "execution_count": null,
   "id": "60824870",
   "metadata": {},
   "outputs": [],
   "source": [
    "# Esercizio 3\n",
    "# Scrivi una funzione che legge un file XML e stampa il contenuto dei tag `item`.\n"
   ]
  },
  {
   "cell_type": "code",
   "execution_count": null,
   "id": "978b86eb",
   "metadata": {},
   "outputs": [],
   "source": [
    "# Esercizio 4\n",
    "# Scrivi una funzione che comprime un file di testo in gzip e lo decomprime.\n"
   ]
  },
  {
   "cell_type": "code",
   "execution_count": null,
   "id": "3eb9e723",
   "metadata": {},
   "outputs": [],
   "source": [
    "# Esercizio 5\n",
    "# Scrivi una funzione che legge un file binario e restituisce i byte in esadecimale.\n"
   ]
  },
  {
   "cell_type": "code",
   "execution_count": null,
   "id": "de2f57d3",
   "metadata": {},
   "outputs": [],
   "source": [
    "# Esercizio 6\n",
    "# Scrivi una funzione che scarica un file da URL usando `urllib` e lo salva.\n"
   ]
  },
  {
   "cell_type": "markdown",
   "id": "d2f86617",
   "metadata": {},
   "source": [
    "## 🏗️ OOP Avanzato"
   ]
  },
  {
   "cell_type": "code",
   "execution_count": null,
   "id": "770cc4b5",
   "metadata": {},
   "outputs": [],
   "source": [
    "# Esercizio 1\n",
    "# Crea una classe `Singleton` usando pattern metaclass per avere un'unica istanza.\n"
   ]
  },
  {
   "cell_type": "code",
   "execution_count": null,
   "id": "62f242da",
   "metadata": {},
   "outputs": [],
   "source": [
    "# Esercizio 2\n",
    "# Crea una classe `Observable` che permette di registrare listener e notificare eventi.\n"
   ]
  },
  {
   "cell_type": "code",
   "execution_count": null,
   "id": "048878d1",
   "metadata": {},
   "outputs": [],
   "source": [
    "# Esercizio 3\n",
    "# Implementa un mixin `JSONSerializable` per convertire istanze in JSON.\n"
   ]
  },
  {
   "cell_type": "code",
   "execution_count": null,
   "id": "be9aa107",
   "metadata": {},
   "outputs": [],
   "source": [
    "# Esercizio 4\n",
    "# Crea una gerarchia di classi `Shape`: `Circle`, `Rectangle`, con metodo `area()`.\n"
   ]
  },
  {
   "cell_type": "code",
   "execution_count": null,
   "id": "81067f8a",
   "metadata": {},
   "outputs": [],
   "source": [
    "# Esercizio 5\n",
    "# Crea una classe `Decorator` che modifica il comportamento di un metodo di un'altra classe.\n"
   ]
  },
  {
   "cell_type": "markdown",
   "id": "c12b45b4",
   "metadata": {},
   "source": [
    "## 📊 NumPy & Pandas"
   ]
  },
  {
   "cell_type": "code",
   "execution_count": null,
   "id": "a8183580",
   "metadata": {},
   "outputs": [],
   "source": [
    "# Esercizio 1\n",
    "# Scrivi una funzione che crea un array NxM di numeri random e ne calcola il rank.\n"
   ]
  },
  {
   "cell_type": "code",
   "execution_count": null,
   "id": "3f13c464",
   "metadata": {},
   "outputs": [],
   "source": [
    "# Esercizio 2\n",
    "# Data una colonna Pandas con date, estrai anno, mese e giorno in colonne separate.\n"
   ]
  },
  {
   "cell_type": "code",
   "execution_count": null,
   "id": "55ec4f85",
   "metadata": {},
   "outputs": [],
   "source": [
    "# Esercizio 3\n",
    "# Scrivi una funzione che normalizza tutte le colonne numeriche di un DataFrame.\n"
   ]
  },
  {
   "cell_type": "code",
   "execution_count": null,
   "id": "70e10dfc",
   "metadata": {},
   "outputs": [],
   "source": [
    "# Esercizio 4\n",
    "# Unisci due DataFrame con join left su chiave `user_id` e rimuovi duplicati.\n"
   ]
  },
  {
   "cell_type": "code",
   "execution_count": null,
   "id": "5bd4102c",
   "metadata": {},
   "outputs": [],
   "source": [
    "# Esercizio 5\n",
    "# Scrivi una funzione che pivotta un DataFrame da long a wide format su due colonne.\n"
   ]
  },
  {
   "cell_type": "markdown",
   "id": "f0743bdb",
   "metadata": {},
   "source": [
    "## 🎲 Miscellanea"
   ]
  },
  {
   "cell_type": "code",
   "execution_count": null,
   "id": "a6456722",
   "metadata": {},
   "outputs": [],
   "source": [
    "# Esercizio 1\n",
    "# Scrivi una funzione che simula un lancio di dadi multipli e restituisce la media.\n"
   ]
  },
  {
   "cell_type": "code",
   "execution_count": null,
   "id": "9e876e25",
   "metadata": {},
   "outputs": [],
   "source": [
    "# Esercizio 2\n",
    "# Scrivi una funzione che controlla se una stringa è anagramma di un'altra usando sorted.\n"
   ]
  },
  {
   "cell_type": "code",
   "execution_count": null,
   "id": "65a36c3c",
   "metadata": {},
   "outputs": [],
   "source": [
    "# Esercizio 3\n",
    "# Scrivi una funzione che genera una sequenza di Gray code di lunghezza n.\n"
   ]
  },
  {
   "cell_type": "code",
   "execution_count": null,
   "id": "4fc0b157",
   "metadata": {},
   "outputs": [],
   "source": [
    "# Esercizio 4\n",
    "# Scrivi una funzione che interroga un'API REST e parse il JSON di risposta.\n"
   ]
  },
  {
   "cell_type": "code",
   "execution_count": null,
   "id": "8eea9ccb",
   "metadata": {},
   "outputs": [],
   "source": [
    "# Esercizio 5\n",
    "# Scrivi una funzione ricorsiva per esplorare directory e contare file con estensione `.py`.\n"
   ]
  }
 ],
 "metadata": {},
 "nbformat": 4,
 "nbformat_minor": 5
}
