{
 "cells": [
  {
   "cell_type": "markdown",
   "id": "2b00a609",
   "metadata": {},
   "source": "# 💻 Esercitazione I"
  },
  {
   "metadata": {
    "ExecuteTime": {
     "end_time": "2025-06-26T14:00:47.478332Z",
     "start_time": "2025-06-26T14:00:47.476292Z"
    }
   },
   "cell_type": "code",
   "source": "import numpy as np\n",
   "id": "b81be4bdd8be8997",
   "outputs": [],
   "execution_count": 6
  },
  {
   "cell_type": "markdown",
   "id": "075cc9fc",
   "metadata": {},
   "source": [
    "### 1. Scrivi una funzione che prende una lista di interi e restituisce un dizionario con chiavi 'pari' e 'dispari'."
   ]
  },
  {
   "cell_type": "code",
   "id": "8055a764",
   "metadata": {
    "ExecuteTime": {
     "end_time": "2025-06-26T13:38:53.827228631Z",
     "start_time": "2025-06-26T12:39:22.319072Z"
    }
   },
   "source": [
    "\n",
    "def fun(a:list) -> dict:\n",
    "    dict_pd = {'pari': 0,\n",
    "            'dispari': 0}\n",
    "    for number in a:\n",
    "        if number %2 == 0:\n",
    "            dict_pd['pari'] += 1\n",
    "        else:\n",
    "            dict_pd['dispari'] +=1\n",
    "    return dict_pd\n",
    "\n",
    "# Test con vari casi\n",
    "test1 = [1, 2, 3, 4, 5]  # 2 pari, 3 dispari\n",
    "test2 = [2, 4, 6, 8]     # tutti pari\n",
    "test3 = [1, 3, 5, 7]     # tutti dispari\n",
    "test4 = []               # lista vuota\n",
    "\n",
    "print(\"Test 1:\", fun(test1))  # Dovrebbe dare {'pari': 2, 'dispari': 3}\n",
    "print(\"Test 2:\", fun(test2))  # Dovrebbe dare {'pari': 4, 'dispari': 0}\n",
    "print(\"Test 3:\", fun(test3))  # Dovrebbe dare {'pari': 0, 'dispari': 4}\n",
    "print(\"Test 4:\", fun(test4))  # Dovrebbe dare {'pari': 0, 'dispari': 0}\n"
   ],
   "outputs": [
    {
     "name": "stdout",
     "output_type": "stream",
     "text": [
      "Test 1: {'pari': 2, 'dispari': 3}\n",
      "Test 2: {'pari': 4, 'dispari': 0}\n",
      "Test 3: {'pari': 0, 'dispari': 4}\n",
      "Test 4: {'pari': 0, 'dispari': 0}\n"
     ]
    }
   ],
   "execution_count": 2
  },
  {
   "cell_type": "markdown",
   "id": "1861d18e",
   "metadata": {},
   "source": [
    "### 2. Scrivi una funzione che conta quante volte ogni carattere appare in una stringa."
   ]
  },
  {
   "cell_type": "code",
   "id": "c482819d",
   "metadata": {
    "ExecuteTime": {
     "end_time": "2025-06-26T13:38:53.827638879Z",
     "start_time": "2025-06-26T12:39:22.389614Z"
    }
   },
   "source": [
    "def conta_carattere(s:str,c:str) -> int:\n",
    "    count = 0\n",
    "    for character in s:\n",
    "        if character == c:\n",
    "            count += 1\n",
    "    return  count\n",
    "\n",
    "# Test con vari casi\n",
    "print(conta_carattere(\"hello\", \"l\"))      # Dovrebbe dare 2\n",
    "print(conta_carattere(\"python\", \"p\"))     # Dovrebbe dare 1\n",
    "print(conta_carattere(\"banana\", \"a\"))     # Dovrebbe dare 3\n",
    "print(conta_carattere(\"test\", \"x\"))       # Dovrebbe dare 0\n",
    "print(conta_carattere(\"\", \"a\"))           # Dovrebbe dare 0\n",
    "print(conta_carattere(\"AAA\", \"A\"))        # Dovrebbe dare 3\n",
    "print(conta_carattere(\"ciao mondo\", \" \")) # Dovrebbe dare 1"
   ],
   "outputs": [
    {
     "name": "stdout",
     "output_type": "stream",
     "text": [
      "2\n",
      "1\n",
      "3\n",
      "0\n",
      "0\n",
      "3\n",
      "1\n"
     ]
    }
   ],
   "execution_count": 3
  },
  {
   "cell_type": "markdown",
   "id": "10670ab2",
   "metadata": {},
   "source": [
    "### 3. Scrivi una funzione che riceve una lista e restituisce True se tutti gli elementi sono diversi."
   ]
  },
  {
   "cell_type": "code",
   "id": "b71ed1b0",
   "metadata": {
    "ExecuteTime": {
     "end_time": "2025-06-26T13:38:53.834771845Z",
     "start_time": "2025-06-26T12:39:22.439912Z"
    }
   },
   "source": [
    "def div(lst:list) -> bool:\n",
    "    num_prec = 0\n",
    "    for num in lst:\n",
    "        if num == num_prec:\n",
    "            return False\n",
    "        else:\n",
    "            num_prec = num\n",
    "\n",
    "    return True\n",
    "\n",
    "# Test con vari casi\n",
    "print(div([1, 2, 3, 4, 5]))  # Dovrebbe restituire True (tutti diversi)\n",
    "print(div([1, 1, 2, 3, 4]))  # Dovrebbe restituire False (ci sono duplicati)\n",
    "print(div([]))               # Dovrebbe restituire True (lista vuota)\n",
    "print(div([7]))              # Dovrebbe restituire True (un solo elemento)\n",
    "print(div([1, 2, 3, 3, 4]))  # Dovrebbe restituire False (duplicati consecutivi)"
   ],
   "outputs": [
    {
     "name": "stdout",
     "output_type": "stream",
     "text": [
      "True\n",
      "False\n",
      "True\n",
      "True\n",
      "False\n"
     ]
    }
   ],
   "execution_count": 4
  },
  {
   "cell_type": "markdown",
   "id": "0c5a8cba",
   "metadata": {},
   "source": [
    "### 4. Scrivi una funzione che restituisce una lista con elementi unici, mantenendo l'ordine."
   ]
  },
  {
   "cell_type": "code",
   "id": "8fb9acef",
   "metadata": {
    "ExecuteTime": {
     "end_time": "2025-06-26T13:38:53.835355232Z",
     "start_time": "2025-06-26T12:39:22.792284Z"
    }
   },
   "source": [
    "def elem_unic(lst:list) -> list:\n",
    "\n",
    "    lst = set(lst)\n",
    "    lst = list(lst)\n",
    "    return lst\n",
    "\n",
    "# Test con vari casi\n",
    "print(elem_unic([1, 2, 2, 3, 4, 4, 5]))  # Dovrebbe restituire [1, 2, 3, 4, 5]\n",
    "print(elem_unic([7, 7, 7, 7]))           # Dovrebbe restituire [7]\n",
    "print(elem_unic([]))                    # Dovrebbe restituire []\n",
    "print(elem_unic([1, 2, 3, 4, 5]))       # Dovrebbe restituire [1, 2, 3, 4, 5]\n",
    "print(elem_unic([5, 4, 3, 2, 1, 1, 2])) # Dovrebbe restituire [5, 4, 3, 2, 1]"
   ],
   "outputs": [
    {
     "name": "stdout",
     "output_type": "stream",
     "text": [
      "[1, 2, 3, 4, 5]\n",
      "[7]\n",
      "[]\n",
      "[1, 2, 3, 4, 5]\n",
      "[1, 2, 3, 4, 5]\n"
     ]
    }
   ],
   "execution_count": 5
  },
  {
   "cell_type": "markdown",
   "id": "1c5a303d",
   "metadata": {},
   "source": [
    "### 5. Scrivi una funzione one-liner che restituisce tutti i multipli di 5 in una lista."
   ]
  },
  {
   "cell_type": "code",
   "id": "932fb589",
   "metadata": {
    "ExecuteTime": {
     "end_time": "2025-06-26T13:38:53.835747494Z",
     "start_time": "2025-06-26T12:39:22.886744Z"
    }
   },
   "source": [
    "def multiply_of_5(lst:list) -> list:\n",
    "    return [number for number in lst if number %5 == 0]\n",
    "\n",
    "# Test con vari casi\n",
    "print(multiply_of_5([5, 10, 15, 20]))       # Dovrebbe restituire [5, 10, 15, 20]\n",
    "print(multiply_of_5([1, 2, 3, 4]))          # Dovrebbe restituire []\n",
    "print(multiply_of_5([0, 5, 25, 30, 7]))     # Dovrebbe restituire [0, 5, 25, 30]\n",
    "print(multiply_of_5([-5, -10, 0, 3, 8]))    # Dovrebbe restituire [-5, -10, 0]\n",
    "print(multiply_of_5([]))                    # Dovrebbe restituire []\n"
   ],
   "outputs": [
    {
     "name": "stdout",
     "output_type": "stream",
     "text": [
      "[5, 10, 15, 20]\n",
      "[]\n",
      "[0, 5, 25, 30]\n",
      "[-5, -10, 0]\n",
      "[]\n"
     ]
    }
   ],
   "execution_count": 6
  },
  {
   "cell_type": "markdown",
   "id": "021ed442",
   "metadata": {},
   "source": [
    "### 6. Scrivi una funzione che restituisce una lista dei quadrati dei numeri positivi."
   ]
  },
  {
   "cell_type": "code",
   "id": "580f93bc",
   "metadata": {
    "ExecuteTime": {
     "end_time": "2025-06-26T13:38:53.838778339Z",
     "start_time": "2025-06-26T12:39:22.942511Z"
    }
   },
   "source": [
    "def quadrati(lst:list) -> list:\n",
    "    return [number **2 for number in lst if number > 0 ]\n",
    "\n",
    "# Test con vari casi\n",
    "print(quadrati([1, 2, 3, 4]))         # Dovrebbe restituire [1, 4, 9, 16]\n",
    "print(quadrati([-1, 2, -3, 4]))       # Dovrebbe restituire [4, 16]\n",
    "print(quadrati([-2, -1, 0]))          # Dovrebbe restituire []\n",
    "print(quadrati([]))                   # Dovrebbe restituire []\n",
    "print(quadrati([5, -5, 10, -10, 3]))  # Dovrebbe restituire [25, 100, 9]"
   ],
   "outputs": [
    {
     "name": "stdout",
     "output_type": "stream",
     "text": [
      "[1, 4, 9, 16]\n",
      "[4, 16]\n",
      "[]\n",
      "[]\n",
      "[25, 100, 9]\n"
     ]
    }
   ],
   "execution_count": 7
  },
  {
   "cell_type": "markdown",
   "id": "705ce686",
   "metadata": {},
   "source": [
    "### 7. Scrivi una funzione che restituisce il massimo numero di True consecutivi in una lista di booleani."
   ]
  },
  {
   "cell_type": "code",
   "id": "926acda2",
   "metadata": {
    "ExecuteTime": {
     "end_time": "2025-06-26T13:38:53.839181980Z",
     "start_time": "2025-06-26T12:39:23.016410Z"
    }
   },
   "source": [
    "def max_num(lst:list) -> int:\n",
    "      if len(lst) == 0:\n",
    "          return 0\n",
    "      count = 0\n",
    "      max  = 0\n",
    "      for i in range (0,len(lst)):\n",
    "        if lst[i] == True:\n",
    "            count +=1\n",
    "            if count > max:\n",
    "                max = count\n",
    "        else:\n",
    "            count = 0\n",
    "      return max\n",
    "\n",
    "# Test con vari casi\n",
    "print(max_num([True, True, False, True]))          # Dovrebbe restituire 2\n",
    "print(max_num([True, True, True, False]))          # Dovrebbe restituire 3\n",
    "print(max_num([False, False, True, True]))         # Dovrebbe restituire 2\n",
    "print(max_num([True]))                             # Dovrebbe restituire 1\n",
    "print(max_num([False, True, False, True, True]))   # Dovrebbe restituire 2\n",
    "print(max_num([False, False, False]))              # Dovrebbe restituire 0\n"
   ],
   "outputs": [
    {
     "name": "stdout",
     "output_type": "stream",
     "text": [
      "2\n",
      "3\n",
      "2\n",
      "1\n",
      "2\n",
      "0\n"
     ]
    }
   ],
   "execution_count": 8
  },
  {
   "cell_type": "markdown",
   "id": "3b5b9188",
   "metadata": {},
   "source": [
    "### 8. Scrivi una funzione che prende due liste e restituisce True se una e la reversa dell'altra."
   ]
  },
  {
   "cell_type": "code",
   "id": "8ecd1d67",
   "metadata": {
    "ExecuteTime": {
     "end_time": "2025-06-26T13:38:53.839521369Z",
     "start_time": "2025-06-26T12:39:23.103197Z"
    }
   },
   "source": [
    "def reverse(lst1:list,lst2:list) -> bool:\n",
    "    if len(lst1) != len(lst2):\n",
    "        return False\n",
    "    for i in range (0,len(lst1)):\n",
    "        if lst1[i] != lst2[-1-i]:\n",
    "            return False\n",
    "    return True\n",
    "\n",
    "# Test con vari casi\n",
    "print(reverse([1, 2, 3], [3, 2, 1]))         # Dovrebbe restituire True\n",
    "print(reverse([1, 2, 3], [1, 2, 3]))         # Dovrebbe restituire False\n",
    "print(reverse([], []))                        # Dovrebbe restituire True (liste vuote)\n",
    "print(reverse([1], [1]))                      # Dovrebbe restituire True\n",
    "print(reverse([1, 2], [1]))                   # Dovrebbe restituire False (lunghezze diverse)\n",
    "print(reverse(['a', 'b'], ['b', 'a']))       # Dovrebbe restituire True\n",
    "print(reverse([1, 2, 2], [2, 2, 1]))         # Dovrebbe restituire True\n"
   ],
   "outputs": [
    {
     "name": "stdout",
     "output_type": "stream",
     "text": [
      "True\n",
      "False\n",
      "True\n",
      "True\n",
      "False\n",
      "True\n",
      "True\n"
     ]
    }
   ],
   "execution_count": 9
  },
  {
   "cell_type": "markdown",
   "id": "ad23b1a3",
   "metadata": {},
   "source": [
    "### 9. Scrivi una funzione che restituisce il valore massimo per una chiave da una lista di dizionari."
   ]
  },
  {
   "cell_type": "code",
   "id": "04a69d8e",
   "metadata": {
    "ExecuteTime": {
     "end_time": "2025-06-26T13:38:53.839732722Z",
     "start_time": "2025-06-26T12:39:23.176381Z"
    }
   },
   "source": [
    "def max_value(lst:list,key:str) -> int:\n",
    "    if len(lst) == 0:\n",
    "        return None\n",
    "\n",
    "    found = False\n",
    "    max_val = None\n",
    "\n",
    "    for dictionary in lst:\n",
    "        if key in dictionary:\n",
    "            if not found:\n",
    "                max_val = dictionary[key]\n",
    "                found = True\n",
    "            elif dictionary[key] > max_val:\n",
    "                max_val = dictionary[key]\n",
    "\n",
    "    return max_val\n",
    "\n",
    "# Test con vari casi\n",
    "test_dict1 = [{'prezzo': 10, 'quantità': 5},\n",
    "              {'prezzo': 20, 'quantità': 3},\n",
    "              {'prezzo': 15, 'quantità': 4}]\n",
    "\n",
    "test_dict2 = [{'voto': -2, 'peso': 1},\n",
    "              {'voto': -5, 'peso': 2},\n",
    "              {'voto': -1, 'peso': 3}]\n",
    "\n",
    "test_dict3 = []  # lista vuota\n",
    "\n",
    "test_dict4 = [{'nome': 'Mario', 'età': 30},\n",
    "              {'nome': 'Luigi', 'età': 25},\n",
    "              {'nome': 'Peach', 'età': 28}]\n",
    "\n",
    "# Test dei casi\n",
    "print(max_value(test_dict1, 'prezzo'))    # Dovrebbe restituire 20\n",
    "print(max_value(test_dict2, 'voto'))      # Dovrebbe restituire -1 (massimo tra negativi)\n",
    "print(max_value(test_dict3, 'chiave'))    # Dovrebbe gestire la lista vuota\n",
    "print(max_value(test_dict4, 'età'))       # Dovrebbe restituire 30\n",
    "print(max_value(test_dict1, 'inesistente'))  # Dovrebbe gestire chiave non presente\n"
   ],
   "outputs": [
    {
     "name": "stdout",
     "output_type": "stream",
     "text": [
      "20\n",
      "-1\n",
      "None\n",
      "30\n",
      "None\n"
     ]
    }
   ],
   "execution_count": 10
  },
  {
   "cell_type": "markdown",
   "id": "8e2a37b2",
   "metadata": {},
   "source": [
    "### 10. Scrivi una funzione che prende una lista di tuple e restituisce la somma dei secondi elementi."
   ]
  },
  {
   "cell_type": "code",
   "id": "b06e6763",
   "metadata": {
    "ExecuteTime": {
     "end_time": "2025-06-26T13:38:53.839926214Z",
     "start_time": "2025-06-26T12:39:23.253644Z"
    }
   },
   "source": [
    "def sumtuples (lst:list) -> int:\n",
    "    if len(lst) == 0:\n",
    "        return None\n",
    "    somma = 0\n",
    "    for tupla in lst:\n",
    "        somma += tupla[1]\n",
    "\n",
    "    return somma\n",
    "\n",
    "# Test con vari casi\n",
    "test1 = [(1, 2), (3, 4), (5, 6)]           # Dovrebbe restituire 12 (2 + 4 + 6)\n",
    "test2 = [('a', 1), ('b', 2), ('c', 3)]     # Dovrebbe restituire 6 (1 + 2 + 3)\n",
    "test3 = [(0, -1), (0, -2), (0, -3)]        # Dovrebbe restituire -6 (-1 + -2 + -3)\n",
    "test4 = []                                  # Dovrebbe restituire None (lista vuota)\n",
    "test5 = [(1, 0)]                           # Dovrebbe restituire 0\n",
    "\n",
    "print(sumtuples(test1))  # 12\n",
    "print(sumtuples(test2))  # 6\n",
    "print(sumtuples(test3))  # -6\n",
    "print(sumtuples(test4))  # None\n",
    "print(sumtuples(test5))  # 0\n"
   ],
   "outputs": [
    {
     "name": "stdout",
     "output_type": "stream",
     "text": [
      "12\n",
      "6\n",
      "-6\n",
      "None\n",
      "0\n"
     ]
    }
   ],
   "execution_count": 11
  },
  {
   "cell_type": "markdown",
   "id": "dc6faf7f",
   "metadata": {},
   "source": [
    "### 11. Crea una classe Person con nome e eta, e un metodo che stampa un saluto."
   ]
  },
  {
   "cell_type": "code",
   "id": "26709406",
   "metadata": {
    "ExecuteTime": {
     "end_time": "2025-06-26T13:38:53.840068072Z",
     "start_time": "2025-06-26T12:39:23.325145Z"
    }
   },
   "source": [
    "class Person:\n",
    "    def __init__(self,nome,eta):\n",
    "        self.nome = nome\n",
    "        self.eta = eta\n",
    "    def __repr__(self):\n",
    "        return f'Ciao! Il tuo nome è:{self.nome} e la tua età è:{self.eta}'\n",
    "\n",
    "# Test con vari casi\n",
    "persona1 = Person(\"Mario\", 25)\n",
    "persona2 = Person(\"Anna\", 30)\n",
    "persona3 = Person(\"\", 0)       # Test con valori vuoti/zero\n",
    "persona4 = Person(\"Luigi\", 17) # Test con un minorenne\n",
    "\n",
    "persona1.__repr__()  # Dovrebbe stampare: Ciao! Il tuo nome è:Mario e la tua età è:25\n",
    "persona2.__repr__()  # Dovrebbe stampare: Ciao! Il tuo nome è:Anna e la tua età è:30\n",
    "persona3.__repr__()  # Dovrebbe stampare: Ciao! Il tuo nome è: e la tua età è:0\n",
    "persona4.__repr__()  # Dovrebbe stampare: Ciao! Il tuo nome è:Luigi e la tua età è:17\n"
   ],
   "outputs": [
    {
     "data": {
      "text/plain": [
       "'Ciao! Il tuo nome è:Luigi e la tua età è:17'"
      ]
     },
     "execution_count": 12,
     "metadata": {},
     "output_type": "execute_result"
    }
   ],
   "execution_count": 12
  },
  {
   "cell_type": "markdown",
   "id": "04203fcb",
   "metadata": {},
   "source": [
    "### 12. Crea una classe BankAccount con saldo, deposito e prelievo."
   ]
  },
  {
   "cell_type": "code",
   "id": "1664aebb",
   "metadata": {
    "ExecuteTime": {
     "end_time": "2025-06-26T13:38:53.840286822Z",
     "start_time": "2025-06-26T12:39:23.412053Z"
    }
   },
   "source": [
    "class BankAccount:\n",
    "    def __init__(self,saldo):\n",
    "        self.saldo = saldo\n",
    "\n",
    "    def deposito(self,deposito):\n",
    "        if deposito < 0:\n",
    "            return False\n",
    "        self.saldo += deposito\n",
    "        return True\n",
    "\n",
    "    def prelievo(self,prelievo):\n",
    "        if prelievo > self.saldo or prelievo < 0:\n",
    "            return False\n",
    "        self.saldo = self.saldo - prelievo\n",
    "        return True\n",
    "\n",
    "# Test con vari casi\n",
    "conto = BankAccount(1000)\n",
    "print(conto.deposito(500))      # True (deposito riuscito)\n",
    "print(conto.saldo)              # 1500\n",
    "print(conto.deposito(-100))     # False (importo negativo)\n",
    "print(conto.saldo)              # 1500 (saldo non modificato)\n",
    "print(conto.prelievo(2000))     # False (saldo insufficiente)\n",
    "print(conto.saldo)              # 1500 (saldo non modificato)\n",
    "print(conto.prelievo(500))      # True (prelievo riuscito)\n",
    "print(conto.saldo)              # 1000"
   ],
   "outputs": [
    {
     "name": "stdout",
     "output_type": "stream",
     "text": [
      "True\n",
      "1500\n",
      "False\n",
      "1500\n",
      "False\n",
      "1500\n",
      "True\n",
      "1000\n"
     ]
    }
   ],
   "execution_count": 13
  },
  {
   "cell_type": "markdown",
   "id": "cbdd02be",
   "metadata": {},
   "source": "### 13. Override del metodo __str__ in una classe Car."
  },
  {
   "cell_type": "code",
   "id": "b06b3b8b",
   "metadata": {
    "ExecuteTime": {
     "end_time": "2025-06-26T13:38:53.840434783Z",
     "start_time": "2025-06-26T12:39:23.460794Z"
    }
   },
   "source": [
    "class Car:\n",
    "    def __init__(self,nome,marca,modello):\n",
    "        self.nome = nome\n",
    "        self.marca = marca\n",
    "        self.modello = modello\n",
    "    def __str__(self):\n",
    "        return f'La macchina è:{self.nome}\\n La marca è:{self.marca}\\n Il modello è: {self.modello} '\n",
    "\n",
    "\n",
    "# Test con vari casi\n",
    "auto1 = Car(\"500\", \"Fiat\", \"Sport\")\n",
    "auto2 = Car(\"Model S\", \"Tesla\", \"Long Range\")\n",
    "auto3 = Car(\"Urus\", \"Lamborghini\", \"S\")\n",
    "\n",
    "# Test stampa diretta\n",
    "print(auto1)  # Dovrebbe mostrare: La macchina è:500 La marca è:Fiat Il modello è: Sport\n",
    "print(auto2)  # Dovrebbe mostrare: La macchina è:Model S La marca è:Tesla Il modello è: Long Range\n",
    "print(auto3)  # Dovrebbe mostrare: La macchina è:Urus La marca è:Lamborghini Il modello è: S\n",
    "\n",
    "# Test conversione esplicita a stringa\n",
    "stringa_auto = str(auto1)\n",
    "print(stringa_auto)  # Dovrebbe mostrare lo stesso output di print(auto1)\n"
   ],
   "outputs": [
    {
     "name": "stdout",
     "output_type": "stream",
     "text": [
      "La macchina è:500\n",
      " La marca è:Fiat\n",
      " Il modello è: Sport \n",
      "La macchina è:Model S\n",
      " La marca è:Tesla\n",
      " Il modello è: Long Range \n",
      "La macchina è:Urus\n",
      " La marca è:Lamborghini\n",
      " Il modello è: S \n",
      "La macchina è:500\n",
      " La marca è:Fiat\n",
      " Il modello è: Sport \n"
     ]
    }
   ],
   "execution_count": 14
  },
  {
   "cell_type": "markdown",
   "id": "7354a830",
   "metadata": {},
   "source": [
    "### 14. Crea una classe Rectangle con metodi per area e perimetro."
   ]
  },
  {
   "cell_type": "code",
   "id": "efe6d980",
   "metadata": {
    "ExecuteTime": {
     "end_time": "2025-06-26T13:38:53.840590859Z",
     "start_time": "2025-06-26T12:39:23.510413Z"
    }
   },
   "source": [
    "class Rectangle:\n",
    "    def __init__(self,base,altezza):\n",
    "        self.base = base\n",
    "        self.altezza = altezza\n",
    "    def area(self):\n",
    "        return self.base * self.altezza\n",
    "    def perimetro(self):\n",
    "        return (self.base*2)+(self.altezza*2)\n",
    "\n",
    "# Test con vari casi\n",
    "rettangolo1 = Rectangle(5, 3)      # rettangolo 5x3\n",
    "rettangolo2 = Rectangle(10, 10)    # quadrato 10x10\n",
    "rettangolo3 = Rectangle(2.5, 4)    # rettangolo con decimali\n",
    "rettangolo4 = Rectangle(0, 5)      # rettangolo con base zero\n",
    "\n",
    "# Test calcolo area\n",
    "print(rettangolo1.area())      # Dovrebbe stampare 15 (5 * 3)\n",
    "print(rettangolo2.area())      # Dovrebbe stampare 100 (10 * 10)\n",
    "print(rettangolo3.area())      # Dovrebbe stampare 10.0 (2.5 * 4)\n",
    "print(rettangolo4.area())      # Dovrebbe stampare 0 (0 * 5)\n",
    "\n",
    "# Test calcolo perimetro\n",
    "print(rettangolo1.perimetro())  # Dovrebbe stampare 16 ((5 * 2) + (3 * 2))\n",
    "print(rettangolo2.perimetro())  # Dovrebbe stampare 40 ((10 * 2) + (10 * 2))\n",
    "print(rettangolo3.perimetro())  # Dovrebbe stampare 13.0 ((2.5 * 2) + (4 * 2))\n",
    "print(rettangolo4.perimetro())  # Dovrebbe stampare 10 ((0 * 2) + (5 * 2))\n"
   ],
   "outputs": [
    {
     "name": "stdout",
     "output_type": "stream",
     "text": [
      "15\n",
      "100\n",
      "10.0\n",
      "0\n",
      "16\n",
      "40\n",
      "13.0\n",
      "10\n"
     ]
    }
   ],
   "execution_count": 15
  },
  {
   "cell_type": "markdown",
   "id": "57e629e0",
   "metadata": {},
   "source": [
    "### 15. Crea una classe Student con lista voti e media."
   ]
  },
  {
   "cell_type": "code",
   "id": "e40c1a85",
   "metadata": {
    "ExecuteTime": {
     "end_time": "2025-06-26T13:38:53.840739540Z",
     "start_time": "2025-06-26T12:39:23.561086Z"
    }
   },
   "source": [
    "class Student:\n",
    "    def __init__(self, nome, voti):\n",
    "        self.nome = nome\n",
    "        self.voti = voti\n",
    "\n",
    "    def media(self):\n",
    "        if len(self.voti) == 0:\n",
    "            return 0\n",
    "        return sum(self.voti) / len(self.voti)  # Usa la funzione built-in sum\n",
    "\n",
    "# Test con vari casi\n",
    "studente1 = Student(\"Mario\", [18, 25, 30, 28])\n",
    "studente2 = Student(\"Luigi\", [30, 30, 30])\n",
    "studente3 = Student(\"Anna\", [])\n",
    "studente4 = Student(\"Luca\", [18, 18, 18, 18])\n",
    "studente5 = Student(\"Elena\", [25, 28, 27, 26])\n",
    "\n",
    "# Test stampa voti\n",
    "print(f\"{studente1.nome}: voti = {studente1.voti}\")\n",
    "print(f\"{studente2.nome}: voti = {studente2.voti}\")\n",
    "print(f\"{studente3.nome}: voti = {studente3.voti}\")\n",
    "\n",
    "# Test calcolo media\n",
    "print(f\"La media di {studente1.nome} è: {studente1.media()}\")  # Dovrebbe essere circa 25.25\n",
    "print(f\"La media di {studente2.nome} è: {studente2.media()}\")  # Dovrebbe essere 30.0\n",
    "print(f\"La media di {studente3.nome} è: {studente3.media()}\")  # Dovrebbe essere 0\n",
    "print(f\"La media di {studente4.nome} è: {studente4.media()}\")  # Dovrebbe essere 18.0\n",
    "print(f\"La media di {studente5.nome} è: {studente5.media()}\")  # Dovrebbe essere 26.5"
   ],
   "outputs": [
    {
     "name": "stdout",
     "output_type": "stream",
     "text": [
      "Mario: voti = [18, 25, 30, 28]\n",
      "Luigi: voti = [30, 30, 30]\n",
      "Anna: voti = []\n",
      "La media di Mario è: 25.25\n",
      "La media di Luigi è: 30.0\n",
      "La media di Anna è: 0\n",
      "La media di Luca è: 18.0\n",
      "La media di Elena è: 26.5\n"
     ]
    }
   ],
   "execution_count": 16
  },
  {
   "cell_type": "markdown",
   "id": "6e9ca69b",
   "metadata": {},
   "source": [
    "### 16. Crea una classe Animal e una sottoclasse Dog che override speak()."
   ]
  },
  {
   "cell_type": "code",
   "id": "83ac6dd9",
   "metadata": {
    "ExecuteTime": {
     "end_time": "2025-06-26T13:38:53.840897364Z",
     "start_time": "2025-06-26T12:39:23.628818Z"
    }
   },
   "source": [
    "class Animal:\n",
    "    def __init__(self,nome):\n",
    "        self.nome = nome\n",
    "    def speak(self):\n",
    "        return \"L'animale fa un verso\"\n",
    "class Dog(Animal):\n",
    "    def __init__(self,nome):\n",
    "        super().__init__(nome)\n",
    "    def speak(self):\n",
    "        return 'Il cane abbaia'\n",
    "\n",
    "# Test con vari casi\n",
    "animale = Animal(\"generico\")\n",
    "cane = Dog(\"Fido\")\n",
    "\n",
    "# Test del metodo speak() per entrambe le classi\n",
    "print(animale.speak())    # Dovrebbe stampare \"L'animale fa un verso\"\n",
    "print(cane.speak())       # Dovrebbe stampare \"Il cane abbaia\"\n",
    "\n",
    "# Test con nome\n",
    "print(animale.nome)       # Dovrebbe stampare \"generico\"\n",
    "print(cane.nome)         # Dovrebbe stampare \"Fido\"\n",
    "\n",
    "# Test con diversi cani\n",
    "cane2 = Dog(\"Rex\")\n",
    "print(cane2.speak())      # Dovrebbe stampare \"Il cane abbaia\"\n",
    "print(cane2.nome)        # Dovrebbe stampare \"Rex\"\n",
    "\n"
   ],
   "outputs": [
    {
     "name": "stdout",
     "output_type": "stream",
     "text": [
      "L'animale fa un verso\n",
      "Il cane abbaia\n",
      "generico\n",
      "Fido\n",
      "Il cane abbaia\n",
      "Rex\n"
     ]
    }
   ],
   "execution_count": 17
  },
  {
   "cell_type": "markdown",
   "id": "f0a67e1c",
   "metadata": {},
   "source": [
    "### 17. Due oggetti Book sono uguali se titolo e autore coincidono."
   ]
  },
  {
   "cell_type": "code",
   "id": "8a22e5b2",
   "metadata": {
    "ExecuteTime": {
     "end_time": "2025-06-26T13:38:53.841041617Z",
     "start_time": "2025-06-26T12:39:23.721072Z"
    }
   },
   "source": [
    "class Book:\n",
    "    def __init__(self,nome,autore):\n",
    "        self.nome = nome\n",
    "        self.autore = autore\n",
    "    def __eq__(self, other):\n",
    "        if type(self) == type(other):\n",
    "            return (self.nome == other.nome) and (self.autore == other.autore)\n",
    "        else:\n",
    "            return False\n",
    "\n",
    "# Test con vari casi\n",
    "libro1 = Book(\"Il Signore degli Anelli\", \"Tolkien\")\n",
    "libro2 = Book(\"Il Signore degli Anelli\", \"Tolkien\")  # Stesso libro\n",
    "libro3 = Book(\"Il Signore degli Anelli\", \"Smith\")    # Stesso titolo, autore diverso\n",
    "libro4 = Book(\"Harry Potter\", \"Rowling\")             # Libro completamente diverso\n",
    "altro_oggetto = \"Non un libro\"                       # Test con tipo diverso\n",
    "\n",
    "# Test di uguaglianza\n",
    "print(libro1 == libro2)  # Dovrebbe stampare True\n",
    "print(libro1 == libro3)  # Dovrebbe stampare False\n",
    "print(libro1 == libro4)  # Dovrebbe stampare False\n",
    "print(libro1 == altro_oggetto)  # Dovrebbe stampare False\n",
    "\n",
    "# Test con attributi\n",
    "print(libro1.nome)    # Dovrebbe stampare \"Il Signore degli Anelli\"\n",
    "print(libro1.autore)  # Dovrebbe stampare \"Tolkien\"\n",
    "\n"
   ],
   "outputs": [
    {
     "name": "stdout",
     "output_type": "stream",
     "text": [
      "True\n",
      "False\n",
      "False\n",
      "False\n",
      "Il Signore degli Anelli\n",
      "Tolkien\n"
     ]
    }
   ],
   "execution_count": 18
  },
  {
   "cell_type": "markdown",
   "id": "aacd15be",
   "metadata": {},
   "source": [
    "### 18. Crea una Shape astratta con area(), da implementare in Circle e Square."
   ]
  },
  {
   "cell_type": "code",
   "id": "9ca764df",
   "metadata": {
    "ExecuteTime": {
     "end_time": "2025-06-26T13:38:53.841189947Z",
     "start_time": "2025-06-26T12:39:23.770656Z"
    }
   },
   "source": [
    "# 1. Importa ABC e abstractmethod dal modulo abc\n",
    "from abc import ABC, abstractmethod\n",
    "\n",
    "# 2. Crea la classe astratta ereditando da ABC\n",
    "class Shape(ABC):\n",
    "\n",
    "    def __init__(self, nome):\n",
    "        self.nome = nome\n",
    "\n",
    "    # 3. Dichiara i metodi astratti con il decoratore\n",
    "    @abstractmethod\n",
    "    def calcola_area(self):\n",
    "        \"\"\"Metodo astratto per calcolare l'area.\"\"\"\n",
    "        pass # Non c'è bisogno di codice qui\n",
    "\n",
    "class Quadrato(Shape):\n",
    "\n",
    "    def __init__(self, lato):\n",
    "        super().__init__(\"Quadrato\") # Chiama il costruttore della classe padre\n",
    "        self.lato = lato\n",
    "\n",
    "    # Implementazione OBBLIGATORIA del metodo astratto\n",
    "    def calcola_area(self):\n",
    "        return self.lato ** 2\n",
    "class Cerchio(Shape):\n",
    "\n",
    "    def __init__(self,raggio):\n",
    "        super().__init__('Cerchio')\n",
    "        self.raggio = raggio\n",
    "    def calcola_area(self):\n",
    "        return 2*3.14*(self.raggio**2)\n",
    "\n",
    "# Test\n",
    "quadrato = Quadrato(5)\n",
    "cerchio = Cerchio(3)\n",
    "\n",
    "print(quadrato.calcola_area())   # Dovrebbe stampare 25\n",
    "print(cerchio.calcola_area())    # Dovrebbe stampare 56.52\n"
   ],
   "outputs": [
    {
     "name": "stdout",
     "output_type": "stream",
     "text": [
      "25\n",
      "56.52\n"
     ]
    }
   ],
   "execution_count": 19
  },
  {
   "cell_type": "markdown",
   "id": "5ffdfe40",
   "metadata": {},
   "source": [
    "### 19. Crea una classe Counter che incrementa solo se il valore e pari."
   ]
  },
  {
   "cell_type": "code",
   "id": "0aab5918",
   "metadata": {
    "ExecuteTime": {
     "end_time": "2025-06-26T13:38:53.841321498Z",
     "start_time": "2025-06-26T12:39:23.833090Z"
    }
   },
   "source": [
    "class Counter:\n",
    "    def __init__(self,count):\n",
    "        self.count = count\n",
    "    def counter(self,number):\n",
    "        if number % 2 == 0:\n",
    "            self.count += number\n",
    "\n",
    "# Test con vari casi\n",
    "contatore = Counter(0)\n",
    "\n",
    "# Incremento con numero pari\n",
    "contatore.counter(2)  # Dovrebbe incrementare il contatore a 2\n",
    "print(contatore.count)  # Dovrebbe stampare 2\n",
    "\n",
    "# Incremento con numero dispari\n",
    "contatore.counter(3)  # Non dovrebbe cambiare il contatore\n",
    "print(contatore.count)  # Dovrebbe stampare 2\n",
    "\n",
    "# Incremento con numero pari negativo\n",
    "contatore.counter(-4)  # Dovrebbe decrementare il contatore a -2\n",
    "print(contatore.count)  # Dovrebbe stampare -2\n",
    "\n",
    "# Incremento con zero\n",
    "contatore.counter(0)  # Non dovrebbe cambiare il contatore\n",
    "print(contatore.count)  # Dovrebbe stampare -2"
   ],
   "outputs": [
    {
     "name": "stdout",
     "output_type": "stream",
     "text": [
      "2\n",
      "2\n",
      "-2\n",
      "-2\n"
     ]
    }
   ],
   "execution_count": 20
  },
  {
   "cell_type": "markdown",
   "id": "89e9e5b4",
   "metadata": {},
   "source": [
    "### 20. Crea una classe Timer con start, stop e elapsed."
   ]
  },
  {
   "cell_type": "code",
   "id": "3e3d7adb",
   "metadata": {
    "ExecuteTime": {
     "end_time": "2025-06-26T13:38:53.841470772Z",
     "start_time": "2025-06-26T12:39:23.881884Z"
    }
   },
   "source": [
    "class Timer:\n",
    "    def __init__(self,start,stop):\n",
    "        self.start = start\n",
    "        self.stop = stop\n",
    "        self.elapsed = stop - start\n",
    "# Test con vari casi\n",
    "timer1 = Timer(0, 10)  # Timer con start 0 e stop 10\n",
    "print(timer1.elapsed)  # Dovrebbe stampare 10\n",
    "\n",
    "timer2 = Timer(5, 20)  # Timer con start 5 e stop 20\n",
    "print(timer2.elapsed)  # Dovrebbe stampare 15\n",
    "\n",
    "timer3 = Timer(10, 10)  # Timer con start e stop uguali\n",
    "print(timer3.elapsed)  # Dovrebbe stampare 0\n",
    "\n",
    "timer4 = Timer(15, 5)  # Timer con start maggiore di stop\n",
    "print(timer4.elapsed)  # Dovrebbe stampare -10"
   ],
   "outputs": [
    {
     "name": "stdout",
     "output_type": "stream",
     "text": [
      "10\n",
      "15\n",
      "0\n",
      "-10\n"
     ]
    }
   ],
   "execution_count": 21
  },
  {
   "cell_type": "markdown",
   "id": "12cdfa1b",
   "metadata": {},
   "source": [
    "### 21. Usa lambda per ordinare tuple in base al secondo elemento."
   ]
  },
  {
   "cell_type": "code",
   "id": "72a4aa21",
   "metadata": {
    "ExecuteTime": {
     "end_time": "2025-06-26T13:38:53.841601426Z",
     "start_time": "2025-06-26T12:39:23.932134Z"
    }
   },
   "source": [
    "# Lista di tuple (es. prodotto, quantità)\n",
    "lista_tuple = [('Mela', 50), ('Banana', 25), ('Arancia', 100), ('Kiwi', 10)]\n",
    "\n",
    "lista_ordinata = sorted(lista_tuple,key= lambda x: x[1])\n",
    "\n",
    "print(lista_ordinata)\n"
   ],
   "outputs": [
    {
     "name": "stdout",
     "output_type": "stream",
     "text": [
      "[('Kiwi', 10), ('Banana', 25), ('Mela', 50), ('Arancia', 100)]\n"
     ]
    }
   ],
   "execution_count": 22
  },
  {
   "cell_type": "markdown",
   "id": "809f6aa9",
   "metadata": {},
   "source": [
    "### 22. Usa filter per tenere solo numeri > 100."
   ]
  },
  {
   "cell_type": "code",
   "id": "308a359c",
   "metadata": {
    "ExecuteTime": {
     "end_time": "2025-06-26T13:38:53.841741977Z",
     "start_time": "2025-06-26T12:39:23.982210Z"
    }
   },
   "source": [
    "numeri_da_filtrare = [25, 158, 99, 100, 101, -10, 500, 0, 100.5]\n",
    "\n",
    "numeri_filtrati = list(filter(lambda x: x>100,numeri_da_filtrare))\n",
    "\n",
    "print(numeri_filtrati)\n"
   ],
   "outputs": [
    {
     "name": "stdout",
     "output_type": "stream",
     "text": [
      "[158, 101, 500, 100.5]\n"
     ]
    }
   ],
   "execution_count": 23
  },
  {
   "cell_type": "markdown",
   "id": "03b88113",
   "metadata": {},
   "source": [
    "### 23. Usa map per convertire stringhe in uppercase."
   ]
  },
  {
   "cell_type": "code",
   "id": "cc1ea3a5",
   "metadata": {
    "ExecuteTime": {
     "end_time": "2025-06-26T13:38:53.841867989Z",
     "start_time": "2025-06-26T12:39:24.041916Z"
    }
   },
   "source": [
    "parole_da_trasformare = [\"ciao\", \"Mondo\", \"PYTHON\", \"Test con Numeri 123\", \"\", \"a\"]\n",
    "\n",
    "parole_trasformate = list(map(lambda s: s.upper(),parole_da_trasformare))\n",
    "print(parole_trasformate)\n"
   ],
   "outputs": [
    {
     "name": "stdout",
     "output_type": "stream",
     "text": [
      "['CIAO', 'MONDO', 'PYTHON', 'TEST CON NUMERI 123', '', 'A']\n"
     ]
    }
   ],
   "execution_count": 24
  },
  {
   "cell_type": "markdown",
   "id": "0db9cf5b",
   "metadata": {},
   "source": [
    "### 24. Usa reduce per calcolare il prodotto degli elementi."
   ]
  },
  {
   "cell_type": "code",
   "id": "2bc85960",
   "metadata": {
    "ExecuteTime": {
     "end_time": "2025-06-26T13:38:53.842044078Z",
     "start_time": "2025-06-26T12:39:24.091664Z"
    }
   },
   "source": [
    "from functools import reduce\n",
    "numeri_da_moltiplicare = [2, 3, 5, -4, 1]\n",
    "\n",
    "prodotto = reduce(lambda x, y: x * y, numeri_da_moltiplicare)\n",
    "print(prodotto)"
   ],
   "outputs": [
    {
     "name": "stdout",
     "output_type": "stream",
     "text": [
      "-120\n"
     ]
    }
   ],
   "execution_count": 25
  },
  {
   "cell_type": "markdown",
   "id": "80be6c71",
   "metadata": {},
   "source": [
    "### 25. Scrivi una lambda che restituisce il maggiore tra due numeri."
   ]
  },
  {
   "cell_type": "code",
   "id": "efd2ccbc",
   "metadata": {
    "ExecuteTime": {
     "end_time": "2025-06-26T13:38:53.842171039Z",
     "start_time": "2025-06-26T12:39:24.150778Z"
    }
   },
   "source": [
    "coppie_di_test = [\n",
    "    (10, 5),\n",
    "    (3, 8),\n",
    "    (7, 7),\n",
    "    (4, -2),\n",
    "    (-5, -10),\n",
    "    (0, 9)\n",
    "]\n",
    "\n",
    "trova_maggiore = lambda x, y: x if x > y else y\n",
    "\n",
    "# 2. Itera attraverso le coppie di test.\n",
    "for coppia in coppie_di_test:\n",
    "    # 3. 'spacchetta' la tupla in due variabili separate per chiarezza.\n",
    "    num1, num2 = coppia\n",
    "\n",
    "    # 4. CHIAMA la funzione con i due numeri e salva il risultato.\n",
    "    risultato = trova_maggiore(num1, num2)\n",
    "\n",
    "    # 5. Stampa il RISULTATO, non la funzione.\n",
    "    print(f\"Tra {num1} e {num2}, il maggiore è: {risultato}\")\n"
   ],
   "outputs": [
    {
     "name": "stdout",
     "output_type": "stream",
     "text": [
      "Tra 10 e 5, il maggiore è: 10\n",
      "Tra 3 e 8, il maggiore è: 8\n",
      "Tra 7 e 7, il maggiore è: 7\n",
      "Tra 4 e -2, il maggiore è: 4\n",
      "Tra -5 e -10, il maggiore è: -5\n",
      "Tra 0 e 9, il maggiore è: 9\n"
     ]
    }
   ],
   "execution_count": 26
  },
  {
   "cell_type": "markdown",
   "id": "a282ecfe",
   "metadata": {},
   "source": [
    "### 26. Crea un array 3x3 di zeri."
   ]
  },
  {
   "cell_type": "code",
   "id": "5c43d773",
   "metadata": {
    "ExecuteTime": {
     "end_time": "2025-06-26T13:38:53.842304350Z",
     "start_time": "2025-06-26T12:39:24.226225Z"
    }
   },
   "source": [
    "array = np.zeros((3,3))\n",
    "print(array)\n"
   ],
   "outputs": [
    {
     "name": "stdout",
     "output_type": "stream",
     "text": [
      "[[0. 0. 0.]\n",
      " [0. 0. 0.]\n",
      " [0. 0. 0.]]\n"
     ]
    }
   ],
   "execution_count": 27
  },
  {
   "cell_type": "markdown",
   "id": "356df309",
   "metadata": {},
   "source": [
    "### 27. Genera un array 4x4 con numeri casuali tra 0 e 1."
   ]
  },
  {
   "cell_type": "code",
   "id": "b37379b0",
   "metadata": {
    "ExecuteTime": {
     "end_time": "2025-06-26T13:38:53.842451942Z",
     "start_time": "2025-06-26T12:39:24.276147Z"
    }
   },
   "source": [
    "from numpy.random._examples.cffi.extending import rng\n",
    "\n",
    "# Genera un singolo float\n",
    "random_float = rng.random()\n",
    "random_array = rng.random(16)\n",
    "print(f\"Array di 5 float casuali:\\n{random_array}\")\n",
    "\n",
    "random_matrix = rng.random(size=(4, 4))\n",
    "print(f\"Matrice 2x3 di float casuali:\\n{random_matrix}\")"
   ],
   "outputs": [
    {
     "name": "stdout",
     "output_type": "stream",
     "text": [
      "Array di 5 float casuali:\n",
      "[0.67643841 0.52487759 0.39468276 0.67546223 0.05337678 0.65535222\n",
      " 0.67013    0.40515072 0.76159592 0.47242005 0.80148075 0.80596615\n",
      " 0.89946493 0.83964074 0.096749   0.07301098]\n",
      "Matrice 2x3 di float casuali:\n",
      "[[0.96994669 0.95341186 0.27283239 0.18230198]\n",
      " [0.17929432 0.83085759 0.24940513 0.07392941]\n",
      " [0.38047129 0.99546612 0.93295822 0.41212399]\n",
      " [0.8966292  0.78588609 0.91193187 0.65498314]]\n"
     ]
    }
   ],
   "execution_count": 28
  },
  {
   "cell_type": "markdown",
   "id": "001b10b0",
   "metadata": {},
   "source": [
    "### 28. Crea array da 1 a 20, sostituisci multipli di 4 con -1."
   ]
  },
  {
   "cell_type": "code",
   "id": "d49ce538",
   "metadata": {
    "ExecuteTime": {
     "end_time": "2025-06-26T13:38:53.842607143Z",
     "start_time": "2025-06-26T12:39:24.354232Z"
    }
   },
   "source": [
    "array = np.arange(1,21)\n",
    "print(array)\n",
    "mask = array %4 == 0\n",
    "print(mask)\n",
    "array[mask] = -1\n",
    "print(array)"
   ],
   "outputs": [
    {
     "name": "stdout",
     "output_type": "stream",
     "text": [
      "[ 1  2  3  4  5  6  7  8  9 10 11 12 13 14 15 16 17 18 19 20]\n",
      "[False False False  True False False False  True False False False  True\n",
      " False False False  True False False False  True]\n",
      "[ 1  2  3 -1  5  6  7 -1  9 10 11 -1 13 14 15 -1 17 18 19 -1]\n"
     ]
    }
   ],
   "execution_count": 29
  },
  {
   "cell_type": "markdown",
   "id": "809ecda0",
   "metadata": {},
   "source": [
    "### 29. Calcola la media di ogni colonna di un array 5x5."
   ]
  },
  {
   "cell_type": "code",
   "id": "f6b67a7d",
   "metadata": {
    "ExecuteTime": {
     "end_time": "2025-06-26T13:38:53.842745477Z",
     "start_time": "2025-06-26T12:39:24.404084Z"
    }
   },
   "source": [
    "array = np.random.randint(0,100,(5,5))\n",
    "print(array)\n",
    "media =  np.mean(array,axis = 0) # Colonna  = 0, Riga = 1\n",
    "print(media)\n"
   ],
   "outputs": [
    {
     "name": "stdout",
     "output_type": "stream",
     "text": [
      "[[90 64 37 95 68]\n",
      " [23 15 51  0 52]\n",
      " [39 46 36 69 91]\n",
      " [26  4 96 66  6]\n",
      " [56 91 17 86  4]]\n",
      "[46.8 44.  47.4 63.2 44.2]\n"
     ]
    }
   ],
   "execution_count": 30
  },
  {
   "cell_type": "markdown",
   "id": "84b1ce34",
   "metadata": {},
   "source": [
    "### 30. Conta i valori > 10 in un array 10x10 casuale."
   ]
  },
  {
   "cell_type": "code",
   "id": "b33129d0",
   "metadata": {
    "ExecuteTime": {
     "end_time": "2025-06-26T13:38:53.842876630Z",
     "start_time": "2025-06-26T12:39:24.460121Z"
    }
   },
   "source": [
    "array = np.random.randint(0,100,(10,10))\n",
    "print(array)\n",
    "\n",
    "count = (array > 10).sum()\n",
    "\n",
    "print(count)"
   ],
   "outputs": [
    {
     "name": "stdout",
     "output_type": "stream",
     "text": [
      "[[71 28 77 43 31 67 41 20 18 37]\n",
      " [96 42 23 83 22 19  8 36 75  6]\n",
      " [59 65 17 16 21 15 13 76 37 21]\n",
      " [ 9 35 61 31 38 76 14  5 31 84]\n",
      " [77  5 67 12 17 27 42 19 12 83]\n",
      " [ 6 52 52  8 74 18 18 43 16 71]\n",
      " [93 84 28 56 63 32 74 89 75 84]\n",
      " [75 55  0 90 32 58 72 99 78 78]\n",
      " [99 56 40 11 75 48 23 79  0 57]\n",
      " [61 64 98 55 53  5 26 38 70 68]]\n",
      "90\n"
     ]
    }
   ],
   "execution_count": 31
  },
  {
   "cell_type": "markdown",
   "id": "a27463d7",
   "metadata": {},
   "source": [
    "### 31. Conta valori dispari negativi in un array."
   ]
  },
  {
   "cell_type": "code",
   "id": "31c1e7ab",
   "metadata": {
    "ExecuteTime": {
     "end_time": "2025-06-26T13:38:53.843030252Z",
     "start_time": "2025-06-26T12:39:24.512293Z"
    }
   },
   "source": [
    "array = np.random.randint(0,100,(10,10))\n",
    "print(array)\n",
    "\n",
    "count = (array % 2 != 0).sum()\n",
    "\n",
    "print(count)\n"
   ],
   "outputs": [
    {
     "name": "stdout",
     "output_type": "stream",
     "text": [
      "[[55 60 95 23 81 56 86 50 78  2]\n",
      " [10 31 69 32 21 21 63 64 53 75]\n",
      " [59 84 21  6 71 45 54 41 56  9]\n",
      " [74 15 69 89 60 63 12 59 93  3]\n",
      " [27 98 19 89 58 50 24  6 23 10]\n",
      " [48  8 81 99 16  7 91 90 78 18]\n",
      " [89 70 27 68 85 83  7 49  8 97]\n",
      " [31  3 87 46 30 78 71 54 52 20]\n",
      " [79 11 26 61  0 33 27 73 74 70]\n",
      " [35 70  4 71 43 91  3 84 27 74]]\n",
      "55\n"
     ]
    }
   ],
   "execution_count": 32
  },
  {
   "cell_type": "markdown",
   "id": "7ba994b5",
   "metadata": {},
   "source": [
    "### 32. Restituisci array booleano per i multipli di 7."
   ]
  },
  {
   "cell_type": "code",
   "id": "5f5a3ec7",
   "metadata": {
    "ExecuteTime": {
     "end_time": "2025-06-26T13:38:53.843174505Z",
     "start_time": "2025-06-26T12:39:24.573714Z"
    }
   },
   "source": [
    "array = np.random.randint(0,100,(10,10))\n",
    "print(array)\n",
    "\n",
    "count = (array % 7 != 0).sum()\n",
    "\n",
    "print(count)\n"
   ],
   "outputs": [
    {
     "name": "stdout",
     "output_type": "stream",
     "text": [
      "[[33 18 88 25 61 70 91 11 61 79]\n",
      " [79 76 89 37  9 93 94 72 97 38]\n",
      " [31 58  9 63 15 30 14 18  6 72]\n",
      " [93 12 52 27 75 32 91 39 28 65]\n",
      " [88 74 14 10 81 74 26 54 99 35]\n",
      " [89 51 26  8 13  6 12  4 60 51]\n",
      " [13 36 33 55 53 84 95 11 63 42]\n",
      " [75  7 46 38 38 92 23 53 32 30]\n",
      " [43 26 85 42 19 41 82 12 47 15]\n",
      " [55 22 65 15 56 94 12 46 32 24]]\n",
      "86\n"
     ]
    }
   ],
   "execution_count": 33
  },
  {
   "cell_type": "markdown",
   "id": "485bc3ad",
   "metadata": {},
   "source": [
    "### 33. Normalizza un array (media 0, std 1)."
   ]
  },
  {
   "cell_type": "code",
   "id": "fea8cef9",
   "metadata": {
    "ExecuteTime": {
     "end_time": "2025-06-26T13:38:53.843310825Z",
     "start_time": "2025-06-26T12:39:24.626944Z"
    }
   },
   "source": [
    "array = np.random.randint(0,100,(10,10))\n",
    "print('Array pre Standardizzazione: \\n')\n",
    "print(array)\n",
    "print('\\n')\n",
    "media = array.mean()\n",
    "# Potresti anche usare np.mean(punteggi)\n",
    "\n",
    "# 3. Calcoliamo la deviazione standard (σ)\n",
    "dev_std = array.std()\n",
    "\n",
    "array = array - media / dev_std\n",
    "print('Array Post Standardizzazione: \\n')\n",
    "print(array)\n",
    "\n"
   ],
   "outputs": [
    {
     "name": "stdout",
     "output_type": "stream",
     "text": [
      "Array pre Standardizzazione: \n",
      "\n",
      "[[33 99 77 25 89 37 72 28 96 68]\n",
      " [37 76 36 42 67 16 11 97 47  7]\n",
      " [16 58 16  7  9 37 25 43 92 68]\n",
      " [23 45 30 32 66 97 84 95 14 52]\n",
      " [24 43 96 43  4 32  9 47 56 43]\n",
      " [68 31 89 81  0 67 80 61  9 50]\n",
      " [24 45 86 15 95 84 29 69 77 72]\n",
      " [77  4 81 81 22 67 39 28 27 41]\n",
      " [52 48 46 28 40 85 85 28 37 12]\n",
      " [92 24 70 97 90 41 84 76 50 76]]\n",
      "\n",
      "\n",
      "Array Post Standardizzazione: \n",
      "\n",
      "[[31.18781262 97.18781262 75.18781262 23.18781262 87.18781262 35.18781262\n",
      "  70.18781262 26.18781262 94.18781262 66.18781262]\n",
      " [35.18781262 74.18781262 34.18781262 40.18781262 65.18781262 14.18781262\n",
      "   9.18781262 95.18781262 45.18781262  5.18781262]\n",
      " [14.18781262 56.18781262 14.18781262  5.18781262  7.18781262 35.18781262\n",
      "  23.18781262 41.18781262 90.18781262 66.18781262]\n",
      " [21.18781262 43.18781262 28.18781262 30.18781262 64.18781262 95.18781262\n",
      "  82.18781262 93.18781262 12.18781262 50.18781262]\n",
      " [22.18781262 41.18781262 94.18781262 41.18781262  2.18781262 30.18781262\n",
      "   7.18781262 45.18781262 54.18781262 41.18781262]\n",
      " [66.18781262 29.18781262 87.18781262 79.18781262 -1.81218738 65.18781262\n",
      "  78.18781262 59.18781262  7.18781262 48.18781262]\n",
      " [22.18781262 43.18781262 84.18781262 13.18781262 93.18781262 82.18781262\n",
      "  27.18781262 67.18781262 75.18781262 70.18781262]\n",
      " [75.18781262  2.18781262 79.18781262 79.18781262 20.18781262 65.18781262\n",
      "  37.18781262 26.18781262 25.18781262 39.18781262]\n",
      " [50.18781262 46.18781262 44.18781262 26.18781262 38.18781262 83.18781262\n",
      "  83.18781262 26.18781262 35.18781262 10.18781262]\n",
      " [90.18781262 22.18781262 68.18781262 95.18781262 88.18781262 39.18781262\n",
      "  82.18781262 74.18781262 48.18781262 74.18781262]]\n"
     ]
    }
   ],
   "execution_count": 34
  },
  {
   "cell_type": "markdown",
   "id": "a312dcf8",
   "metadata": {},
   "source": [
    "### 34. Da una lista di array, restituisci quello con std maggiore."
   ]
  },
  {
   "cell_type": "code",
   "id": "b52fe0f0",
   "metadata": {
    "ExecuteTime": {
     "end_time": "2025-06-26T13:38:53.843492148Z",
     "start_time": "2025-06-26T12:48:33.383081Z"
    }
   },
   "source": [
    "def trova_array_std_max(lst:list) -> np.ndarray:\n",
    "    # Gestisce il caso di una lista vuota per evitare un errore da max()\n",
    "    if not lst:\n",
    "        return None\n",
    "\n",
    "    # Usa la funzione max() con una chiave per trovare l'array\n",
    "    # che massimizza il valore restituito da np.std\n",
    "    return max(lst, key=np.std)\n",
    "\n",
    "# Array con bassa dispersione\n",
    "array1 = np.array([10, 11, 12, 13, 14])\n",
    "# print(f\"Std di array1: {np.std(array1):.2f}\") # ~1.41\n",
    "\n",
    "# Array con alta dispersione\n",
    "array2 = np.array([0, 10, 20, 30, 40])\n",
    "# print(f\"Std di array2: {np.std(array2):.2f}\") # ~14.14\n",
    "\n",
    "# Array con dispersione media\n",
    "array3 = np.array([5, 10, 15])\n",
    "# print(f\"Std di array3: {np.std(array3):.2f}\") # ~4.08\n",
    "\n",
    "lista_test_1 = [array1, array2, array3]\n",
    "\n",
    "\n",
    "\n",
    "# Array con dispersione\n",
    "array_a = np.array([1, 5, 9])\n",
    "# print(f\"Std di array_a: {np.std(array_a):.2f}\") # ~3.27\n",
    "\n",
    "# Array senza dispersione (std = 0)\n",
    "array_b = np.array([7, 7, 7, 7, 7])\n",
    "# print(f\"Std di array_b: {np.std(array_b):.2f}\") # 0.00\n",
    "\n",
    "lista_test_2 = [array_a, array_b]\n",
    "\n",
    "# Risultato atteso: array_a\n",
    "# Risultato atteso: array2, perché i suoi valori sono molto più \"sparpagliati\".\n",
    "\n",
    "\n",
    "# Array corto ma con alta dispersione\n",
    "array_x = np.array([-100, 0, 100])\n",
    "# print(f\"Std di array_x: {np.std(array_x):.2f}\") # ~81.65\n",
    "\n",
    "# Array più lungo ma con bassa dispersione\n",
    "array_y = np.array([-1, 0, 1, 2, 3, 4, 5])\n",
    "# print(f\"Std di array_y: {np.std(array_y):.2f}\") # ~2.0\n",
    "\n",
    "lista_test_3 = [array_x, array_y]\n",
    "\n",
    "\n",
    "\n",
    "# 1. Lista vuota\n",
    "lista_vuota = []\n",
    "# Risultato atteso: La funzione dovrebbe gestirlo senza errori,\n",
    "# magari restituendo None o sollevando un'eccezione.\n",
    "\n",
    "# 2. Lista che contiene un array vuoto\n",
    "# Nota: np.std([]) produce un warning e restituisce nan (Not a Number)\n",
    "array_pieno = np.array([1, 10, 100])\n",
    "array_vuoto = np.array([])\n",
    "lista_con_vuoto = [array_pieno, array_vuoto]\n",
    "# Risultato atteso: La funzione dovrebbe ignorare l'array vuoto e restituire array_pieno.\n",
    "# Risultato atteso: array_x\n",
    "# --- Esegui i test ---\n",
    "print(\"--- Test 1 ---\")\n",
    "risultato1 = trova_array_std_max(lista_test_1)\n",
    "print(f\"Array con std maggiore: \\n{risultato1}\")\n",
    "print(f\"Risultato atteso: \\n{np.array([0, 10, 20, 30, 40])}\")\n",
    "\n",
    "print(\"\\n--- Test 2 ---\")\n",
    "risultato2 = trova_array_std_max(lista_test_2)\n",
    "print(f\"Array con std maggiore: \\n{risultato2}\")\n",
    "print(f\"Risultato atteso: \\n{np.array([1, 5, 9])}\")\n",
    "\n",
    "print(\"\\n--- Test 3 ---\")\n",
    "risultato3 = trova_array_std_max(lista_test_3)\n",
    "print(f\"Array con std maggiore: \\n{risultato3}\")\n",
    "print(f\"Risultato atteso: \\n{np.array([-100, 0, 100])}\")\n",
    "\n",
    "print(\"\\n--- Test 4 (Casi Limite) ---\")\n",
    "risultato4_vuota = trova_array_std_max(lista_vuota)\n",
    "print(f\"Test con lista vuota: {risultato4_vuota}\")\n",
    "print(\"Risultato atteso: None (o un messaggio di errore gestito)\")\n",
    "\n",
    "risultato4_con_vuoto = trova_array_std_max(lista_con_vuoto)\n",
    "print(f\"Test con array vuoto nella lista: \\n{risultato4_con_vuoto}\")\n",
    "print(f\"Risultato atteso: \\n{np.array([1, 10, 100])}\")\n"
   ],
   "outputs": [
    {
     "name": "stdout",
     "output_type": "stream",
     "text": [
      "--- Test 1 ---\n",
      "Array con std maggiore: \n",
      "[ 0 10 20 30 40]\n",
      "Risultato atteso: \n",
      "[ 0 10 20 30 40]\n",
      "\n",
      "--- Test 2 ---\n",
      "Array con std maggiore: \n",
      "[1 5 9]\n",
      "Risultato atteso: \n",
      "[1 5 9]\n",
      "\n",
      "--- Test 3 ---\n",
      "Array con std maggiore: \n",
      "[-100    0  100]\n",
      "Risultato atteso: \n",
      "[-100    0  100]\n",
      "\n",
      "--- Test 4 (Casi Limite) ---\n",
      "Test con lista vuota: None\n",
      "Risultato atteso: None (o un messaggio di errore gestito)\n",
      "Test con array vuoto nella lista: \n",
      "[  1  10 100]\n",
      "Risultato atteso: \n",
      "[  1  10 100]\n"
     ]
    }
   ],
   "execution_count": 53
  },
  {
   "cell_type": "markdown",
   "id": "df52f481",
   "metadata": {},
   "source": [
    "### 35. Restituisci il valore piu frequente in un array."
   ]
  },
  {
   "cell_type": "code",
   "id": "0f9f29d4",
   "metadata": {
    "ExecuteTime": {
     "end_time": "2025-06-26T13:38:53.843644109Z",
     "start_time": "2025-06-26T13:06:08.190542Z"
    }
   },
   "source": [
    "def trova_valore_piu_frequente(arr):\n",
    "    if len(arr) == 0:\n",
    "        return None\n",
    "\n",
    "    array_val,array_count = np.unique(arr,return_counts=True)\n",
    "\n",
    "    #print('DEBUG:\\n ARRAY COUNT :',array_count)\n",
    "    indice = np.argmax(array_count)\n",
    "    #print('DEBUG: \\n INDEX:',indice)\n",
    "    #print('DEBUG:\\n ARRAY VAL : ',array_val)\n",
    "\n",
    "    return array_val[indice]\n",
    "\n",
    "\n",
    " # --- Set di Test ---\n",
    "# 1. Vincitore chiaro\n",
    "array1 = np.array([1, 2, 3, 2, 4, 2, 5, 2])\n",
    "# 2. Pareggio\n",
    "array2 = np.array([1, 1, 1, 2, 3, 4, 4, 4, 5])\n",
    "# 3. Tutti unici\n",
    "array3 = np.array([10, 20, 30, 40, 50])\n",
    "# 4. Negativi e zero\n",
    "array4 = np.array([-5, 0, 1, -5, 2, 0, -5])\n",
    "# 5. Multi-dimensionale\n",
    "array5 = np.array([[9, 1, 2], [3, 9, 9], [4, 5, 9]])\n",
    "# 6. Array vuoto\n",
    "array_vuoto = np.array([])\n",
    "\n",
    "# --- Esecuzione e Verifica dei Test ---\n",
    "print(\"--- Esercizio 35: Trova il valore più frequente ---\")\n",
    "\n",
    "print(f\"\\nTest 1 (Vincitore chiaro): {array1}\")\n",
    "print(f\"Risultato: {trova_valore_piu_frequente(array1)}, Atteso: 2\")\n",
    "\n",
    "print(f\"\\nTest 2 (Pareggio): {array2}\")\n",
    "print(f\"Risultato: {trova_valore_piu_frequente(array2)}, Atteso: 1\")\n",
    "\n",
    "print(f\"\\nTest 3 (Tutti unici): {array3}\")\n",
    "print(f\"Risultato: {trova_valore_piu_frequente(array3)}, Atteso: 10\")\n",
    "\n",
    "print(f\"\\nTest 4 (Negativi e zero): {array4}\")\n",
    "print(f\"Risultato: {trova_valore_piu_frequente(array4)}, Atteso: -5\")\n",
    "\n",
    "print(f\"\\nTest 5 (Multi-dimensionale): {array5.flatten()}\")\n",
    "print(f\"Risultato: {trova_valore_piu_frequente(array5)}, Atteso: 9\")\n",
    "\n",
    "print(f\"\\nTest 6 (Array vuoto): {array_vuoto}\")\n",
    "print(f\"Risultato: {trova_valore_piu_frequente(array_vuoto)},Atteso: None\")"
   ],
   "outputs": [
    {
     "name": "stdout",
     "output_type": "stream",
     "text": [
      "--- Esercizio 35: Trova il valore più frequente ---\n",
      "\n",
      "Test 1 (Vincitore chiaro): [1 2 3 2 4 2 5 2]\n",
      "Risultato: 2, Atteso: 2\n",
      "\n",
      "Test 2 (Pareggio): [1 1 1 2 3 4 4 4 5]\n",
      "Risultato: 1, Atteso: 1\n",
      "\n",
      "Test 3 (Tutti unici): [10 20 30 40 50]\n",
      "Risultato: 10, Atteso: 10\n",
      "\n",
      "Test 4 (Negativi e zero): [-5  0  1 -5  2  0 -5]\n",
      "Risultato: -5, Atteso: -5\n",
      "\n",
      "Test 5 (Multi-dimensionale): [9 1 2 3 9 9 4 5 9]\n",
      "Risultato: 9, Atteso: 9\n",
      "\n",
      "Test 6 (Array vuoto): []\n",
      "Risultato: None,Atteso: None\n"
     ]
    }
   ],
   "execution_count": 72
  },
  {
   "cell_type": "markdown",
   "id": "a3bf65bc",
   "metadata": {},
   "source": "n### 36. Divisione sicura tra due numeri con gestione divisione per zero."
  },
  {
   "cell_type": "code",
   "id": "1e914f6f",
   "metadata": {
    "ExecuteTime": {
     "end_time": "2025-06-26T13:38:53.843777192Z",
     "start_time": "2025-06-26T13:09:02.616395Z"
    }
   },
   "source": [
    "def divzero(a:int,b:int) -> int:\n",
    "    try:\n",
    "        return a/b\n",
    "    except ZeroDivisionError:\n",
    "        print(\"Non si può fare la divisione per zero!\")\n",
    "        return None\n",
    "\n",
    "# --- Set di Test ---\n",
    "# Creiamo una lista di tuple, dove ogni tupla è una coppia (numeratore, denominatore)\n",
    "casi_di_test = [\n",
    "    (10, 2),      # Caso standard\n",
    "    (9, 3),       # Divisione intera\n",
    "    (5, 2),       # Divisione con risultato float\n",
    "    (-10, 2),     # Divisione con numero negativo\n",
    "    (0, 5),       # Divisione di zero per un numero\n",
    "    (10, 0),      # Caso critico: divisione per zero\n",
    "    (-8, -4)      # Divisione tra negativi\n",
    "]\n",
    "\n",
    "# --- Esecuzione e Verifica dei Test ---\n",
    "print(\"--- Esercizio 36: Test della divisione sicura ---\")\n",
    "\n",
    "for numeratore, denominatore in casi_di_test:\n",
    "    print(f\"\\nTest con: {numeratore} / {denominatore}\")\n",
    "    risultato = divzero(numeratore, denominatore)\n",
    "    print(f\"Risultato: {risultato}\")"
   ],
   "outputs": [
    {
     "name": "stdout",
     "output_type": "stream",
     "text": [
      "--- Esercizio 36: Test della divisione sicura ---\n",
      "\n",
      "Test con: 10 / 2\n",
      "Risultato: 5.0\n",
      "\n",
      "Test con: 9 / 3\n",
      "Risultato: 3.0\n",
      "\n",
      "Test con: 5 / 2\n",
      "Risultato: 2.5\n",
      "\n",
      "Test con: -10 / 2\n",
      "Risultato: -5.0\n",
      "\n",
      "Test con: 0 / 5\n",
      "Risultato: 0.0\n",
      "\n",
      "Test con: 10 / 0\n",
      "Non si può fare la divisione per zero!\n",
      "Risultato: None\n",
      "\n",
      "Test con: -8 / -4\n",
      "Risultato: 2.0\n"
     ]
    }
   ],
   "execution_count": 74
  },
  {
   "cell_type": "markdown",
   "id": "9c3962da",
   "metadata": {},
   "source": [
    "### 37. Accetta solo liste, stampa errore altrimenti."
   ]
  },
  {
   "cell_type": "code",
   "id": "9a318836",
   "metadata": {
    "ExecuteTime": {
     "end_time": "2025-06-26T13:38:53.843907340Z",
     "start_time": "2025-06-26T13:12:25.119089Z"
    }
   },
   "source": [
    "def accetta_solo_liste(lst:list):\n",
    "    if isinstance(lst,list):\n",
    "        print('OK è una lista')\n",
    "    else:\n",
    "        print('ERRORE, Volevo una lista come input')\n",
    "\n",
    "# --- Set di Test ---\n",
    "\n",
    "# 1. Casi validi (dovrebbero stampare \"OK\")\n",
    "casi_validi = [\n",
    "    [1, 2, 3],          # Lista di interi standard\n",
    "    [],                 # Caso limite: lista vuota\n",
    "    [\"a\", \"b\", \"c\"],    # Lista di stringhe\n",
    "    [1, \"test\", True]   # Lista con tipi di dati misti\n",
    "]\n",
    "\n",
    "# 2. Casi non validi (dovrebbero stampare \"ERRORE\")\n",
    "casi_non_validi = [\n",
    "    \"questa non è una lista\", # Stringa\n",
    "    123,                      # Intero\n",
    "    3.14,                     # Float\n",
    "    (1, 2, 3),                # Tupla (molto simile a una lista, ottimo test)\n",
    "    {'a': 1, 'b': 2},         # Dizionario\n",
    "    {1, 2, 3},                # Set\n",
    "    True,                     # Booleano\n",
    "    None                      # NoneType\n",
    "]\n",
    "\n",
    "# --- Esecuzione e Verifica dei Test ---\n",
    "print(\"--- Esercizio 37: Test di accettazione delle liste ---\")\n",
    "\n",
    "print(\"\\n--- Test con input VALIDI ---\")\n",
    "for test in casi_validi:\n",
    "    accetta_solo_liste(test)\n",
    "\n",
    "print(\"\\n--- Test con input NON VALIDI ---\")\n",
    "for test in casi_non_validi:\n",
    "    accetta_solo_liste(test)"
   ],
   "outputs": [
    {
     "name": "stdout",
     "output_type": "stream",
     "text": [
      "--- Esercizio 37: Test di accettazione delle liste ---\n",
      "\n",
      "--- Test con input VALIDI ---\n",
      "OK è una lista\n",
      "OK è una lista\n",
      "OK è una lista\n",
      "OK è una lista\n",
      "\n",
      "--- Test con input NON VALIDI ---\n",
      "ERRORE, Volevo una lista come input\n",
      "ERRORE, Volevo una lista come input\n",
      "ERRORE, Volevo una lista come input\n",
      "ERRORE, Volevo una lista come input\n",
      "ERRORE, Volevo una lista come input\n",
      "ERRORE, Volevo una lista come input\n",
      "ERRORE, Volevo una lista come input\n",
      "ERRORE, Volevo una lista come input\n"
     ]
    }
   ],
   "execution_count": 78
  },
  {
   "cell_type": "markdown",
   "id": "0d6d9c26",
   "metadata": {},
   "source": [
    "### 38. Accetta solo array Numpy, restituisce massimo o errore."
   ]
  },
  {
   "cell_type": "code",
   "id": "05d7d005",
   "metadata": {
    "ExecuteTime": {
     "end_time": "2025-06-26T13:38:53.844038803Z",
     "start_time": "2025-06-26T13:15:39.442457Z"
    }
   },
   "source": [
    "def massimo(arr:np.ndarray) -> int:\n",
    "    try:\n",
    "        return np.max(arr)\n",
    "    except TypeError:\n",
    "        print('ERRORE: tipo di input sbagliato')\n",
    "        return None\n",
    "    except ValueError:\n",
    "        # Aggiunta: np.max() su un array vuoto solleva ValueError.\n",
    "        print(\"ERRORE: L'array è vuoto, non è possibile trovare un massimo.\")\n",
    "        return None\n",
    "\n",
    "# --- Set di Test ---\n",
    "\n",
    "# 1. Casi validi (dovrebbero restituire un numero)\n",
    "casi_validi = [\n",
    "    np.array([1, 5, 2, 8, 3]),      # Array di interi standard\n",
    "    np.array([-10, -5, -1, -20]),   # Array con numeri negativi\n",
    "    np.array([15.5, 15.1, 15.9]),   # Array con numeri float\n",
    "    np.array([[1, 2], [9, 4]])      # Array multi-dimensionale\n",
    "]\n",
    "\n",
    "# 2. Casi non validi (dovrebbero attivare l'errore)\n",
    "casi_non_validi = [\n",
    "    [1, 5, 2, 8, 3],                # Lista Python (il caso più comune di errore)\n",
    "    \"non sono un array\",            # Stringa\n",
    "    123,                            # Intero\n",
    "    {'a': 1, 'b': 5}                # Dizionario\n",
    "]\n",
    "\n",
    "# 3. Caso limite (gestito con l'except ValueError)\n",
    "array_vuoto = np.array([])\n",
    "\n",
    "# --- Esecuzione e Verifica dei Test ---\n",
    "print(\"--- Esercizio 38: Test della funzione 'massimo' ---\")\n",
    "\n",
    "print(\"\\n--- Test con input VALIDI (array NumPy) ---\")\n",
    "for i, test_array in enumerate(casi_validi):\n",
    "    risultato = massimo(test_array)\n",
    "    print(f\"Test {i+1}: Il massimo di {test_array.flatten()} è: {risultato}\")\n",
    "\n",
    "print(\"\\n--- Test con input NON VALIDI ---\")\n",
    "for i, test_input in enumerate(casi_non_validi):\n",
    "    print(f\"Test {i+1} (input di tipo {type(test_input).__name__}):\")\n",
    "    massimo(test_input)\n",
    "\n",
    "print(\"\\n--- Test con caso limite (array vuoto) ---\")\n",
    "print(f\"Test con array vuoto:\")\n",
    "massimo(array_vuoto)"
   ],
   "outputs": [
    {
     "name": "stdout",
     "output_type": "stream",
     "text": [
      "--- Esercizio 38: Test della funzione 'massimo' ---\n",
      "\n",
      "--- Test con input VALIDI (array NumPy) ---\n",
      "Test 1: Il massimo di [1 5 2 8 3] è: 8\n",
      "Test 2: Il massimo di [-10  -5  -1 -20] è: -1\n",
      "Test 3: Il massimo di [15.5 15.1 15.9] è: 15.9\n",
      "Test 4: Il massimo di [1 2 9 4] è: 9\n",
      "\n",
      "--- Test con input NON VALIDI ---\n",
      "Test 1 (input di tipo list):\n",
      "Test 2 (input di tipo str):\n",
      "ERRORE: tipo di input sbagliato\n",
      "Test 3 (input di tipo int):\n",
      "Test 4 (input di tipo dict):\n",
      "\n",
      "--- Test con caso limite (array vuoto) ---\n",
      "Test con array vuoto:\n",
      "ERRORE: L'array è vuoto, non è possibile trovare un massimo.\n"
     ]
    }
   ],
   "execution_count": 81
  },
  {
   "cell_type": "markdown",
   "id": "d2a5cd6e",
   "metadata": {},
   "source": [
    "### 39. Somma due liste elemento per elemento, gestendo lunghezze diverse."
   ]
  },
  {
   "cell_type": "code",
   "id": "731dd722",
   "metadata": {
    "ExecuteTime": {
     "end_time": "2025-06-26T13:38:53.844182999Z",
     "start_time": "2025-06-26T13:18:40.124950Z"
    }
   },
   "source": [
    "def somma_liste(lst1:list,lst2:list) -> list:\n",
    "    if len(lst1) != len(lst2):\n",
    "        print('Le due liste hanno errore diverso')\n",
    "        return None\n",
    "\n",
    "    return [e1+ e2 for e1,e2 in zip(lst1,lst2)]\n"
   ],
   "outputs": [],
   "execution_count": 82
  },
  {
   "cell_type": "markdown",
   "id": "2aaf6a1d",
   "metadata": {},
   "source": [
    "### 40. Apre un file e gestisce l'errore se il file non esiste."
   ]
  },
  {
   "cell_type": "code",
   "id": "52519ae3",
   "metadata": {
    "ExecuteTime": {
     "end_time": "2025-06-26T13:38:53.844360845Z",
     "start_time": "2025-06-26T13:19:55.843431Z"
    }
   },
   "source": [
    "try:\n",
    "    file = open('../Databases/clienti.csv')\n",
    "    print('File aperto correttamente')\n",
    "except FileNotFoundError:\n",
    "    print('Errore nella apertuna del file')\n"
   ],
   "outputs": [
    {
     "name": "stdout",
     "output_type": "stream",
     "text": [
      "File aperto correttamente\n"
     ]
    }
   ],
   "execution_count": 83
  },
  {
   "cell_type": "markdown",
   "id": "1be25ad7",
   "metadata": {},
   "source": [
    "### 41. Verifica se una stringa e palindroma."
   ]
  },
  {
   "cell_type": "code",
   "id": "c4bfddb4",
   "metadata": {
    "ExecuteTime": {
     "end_time": "2025-06-26T13:38:53.844487351Z",
     "start_time": "2025-06-26T13:24:31.824218Z"
    }
   },
   "source": [
    "def stringa_palindroma(str1:str) -> bool:\n",
    "    for i in range(0, len(str1)):\n",
    "        if str1[i] != str1[-1-i]:\n",
    "            return False\n",
    "    return True\n",
    "\n",
    "# --- Set di Test ---\n",
    "\n",
    "# 1. Palindromi classici\n",
    "test_palindromo_1 = \"anna\"\n",
    "test_palindromo_2 = \"radar\"\n",
    "test_palindromo_3 = \"madam\"\n",
    "test_palindromo_4 = \"level\"\n",
    "\n",
    "# 2. Non palindromi\n",
    "test_non_palindromo_1 = \"hello\"\n",
    "test_non_palindromo_2 = \"python\"\n",
    "test_non_palindromo_3 = \"world\"\n",
    "\n",
    "# 3. Casi limite\n",
    "test_stringa_vuota = \"\"          # Una stringa vuota è considerata un palindromo\n",
    "test_singolo_carattere = \"a\"     # Un singolo carattere è un palindromo\n",
    "\n",
    "# 4. Palindromi con lunghezza dispari e pari\n",
    "test_palindromo_dispari = \"racecar\"\n",
    "test_palindromo_pari = \"abba\"\n",
    "\n",
    "# 5. Stringhe con spazi (la tua funzione attuale non li ignora)\n",
    "test_con_spazi_palindromo = \"anna anna\" # Non è un palindromo se gli spazi contano\n",
    "test_con_spazi_non_palindromo = \"a man a plan a canal panama\" # Palindromo se si ignorano spazi/punteggiatura, non se contano\n",
    "\n",
    "# 6. Stringhe con maiuscole/minuscole (la tua funzione attuale è case-sensitive)\n",
    "test_case_sensitive_palindromo = \"Racecar\" # Non è un palindromo se case-sensitive\n",
    "test_case_sensitive_non_palindromo = \"Madam\" # Non è un palindromo se case-sensitive\n",
    "\n",
    "# --- Esecuzione e Verifica dei Test ---\n",
    "print(\"--- Esercizio 41: Test della funzione 'stringa_palindroma' ---\")\n",
    "\n",
    "print(f\"\\nTest Palindromi:\")\n",
    "print(f\"'{test_palindromo_1}' è palindroma? {stringa_palindroma(test_palindromo_1)} (Atteso: True)\")\n",
    "print(f\"'{test_palindromo_2}' è palindroma? {stringa_palindroma(test_palindromo_2)} (Atteso: True)\")\n",
    "print(f\"'{test_palindromo_3}' è palindroma? {stringa_palindroma(test_palindromo_3)} (Atteso: True)\")\n",
    "print(f\"'{test_palindromo_4}' è palindroma? {stringa_palindroma(test_palindromo_4)} (Atteso: True)\")\n",
    "\n",
    "print(f\"\\nTest Non Palindromi:\")\n",
    "print(f\"'{test_non_palindromo_1}' è palindroma? {stringa_palindroma(test_non_palindromo_1)} (Atteso: False)\")\n",
    "print(f\"'{test_non_palindromo_2}' è palindroma? {stringa_palindroma(test_non_palindromo_2)} (Atteso: False)\")\n",
    "print(f\"'{test_non_palindromo_3}' è palindroma? {stringa_palindroma(test_non_palindromo_3)} (Atteso: False)\")\n",
    "\n",
    "print(f\"\\nTest Casi Limite:\")\n",
    "print(f\"'{test_stringa_vuota}' è palindroma? {stringa_palindroma(test_stringa_vuota)} (Atteso: True)\")\n",
    "print(f\"'{test_singolo_carattere}' è palindroma? {stringa_palindroma(test_singolo_carattere)} (Atteso: True)\")\n",
    "\n",
    "print(f\"\\nTest Lunghezza Dispari/Pari:\")\n",
    "print(f\"'{test_palindromo_dispari}' è palindroma? {stringa_palindroma(test_palindromo_dispari)} (Atteso: True)\")\n",
    "print(f\"'{test_palindromo_pari}' è palindroma? {stringa_palindroma(test_palindromo_pari)} (Atteso: True)\")\n",
    "\n",
    "print(f\"\\nTest con Spazi (case-sensitive):\")\n",
    "print(f\"'{test_con_spazi_palindromo}' è palindroma? {stringa_palindroma(test_con_spazi_palindromo)} (Atteso: False)\")\n",
    "print(f\"'{test_con_spazi_non_palindromo}' è palindroma? {stringa_palindroma(test_con_spazi_non_palindromo)} (Atteso: False)\")\n",
    "\n",
    "print(f\"\\nTest con Maiuscole/Minuscole (case-sensitive):\")\n",
    "print(f\"'{test_case_sensitive_palindromo}' è palindroma? {stringa_palindroma(test_case_sensitive_palindromo)} (Atteso: False)\")\n",
    "print(f\"'{test_case_sensitive_non_palindromo}' è palindroma? {stringa_palindroma(test_case_sensitive_non_palindromo)} (Atteso: False)\")"
   ],
   "outputs": [
    {
     "name": "stdout",
     "output_type": "stream",
     "text": [
      "--- Esercizio 41: Test della funzione 'stringa_palindroma' ---\n",
      "\n",
      "Test Palindromi:\n",
      "'anna' è palindroma? True (Atteso: True)\n",
      "'radar' è palindroma? True (Atteso: True)\n",
      "'madam' è palindroma? True (Atteso: True)\n",
      "'level' è palindroma? True (Atteso: True)\n",
      "\n",
      "Test Non Palindromi:\n",
      "'hello' è palindroma? False (Atteso: False)\n",
      "'python' è palindroma? False (Atteso: False)\n",
      "'world' è palindroma? False (Atteso: False)\n",
      "\n",
      "Test Casi Limite:\n",
      "'' è palindroma? True (Atteso: True)\n",
      "'a' è palindroma? True (Atteso: True)\n",
      "\n",
      "Test Lunghezza Dispari/Pari:\n",
      "'racecar' è palindroma? True (Atteso: True)\n",
      "'abba' è palindroma? True (Atteso: True)\n",
      "\n",
      "Test con Spazi (case-sensitive):\n",
      "'anna anna' è palindroma? True (Atteso: False)\n",
      "'a man a plan a canal panama' è palindroma? False (Atteso: False)\n",
      "\n",
      "Test con Maiuscole/Minuscole (case-sensitive):\n",
      "'Racecar' è palindroma? False (Atteso: False)\n",
      "'Madam' è palindroma? False (Atteso: False)\n"
     ]
    }
   ],
   "execution_count": 86
  },
  {
   "cell_type": "markdown",
   "id": "331ddd1b",
   "metadata": {},
   "source": [
    "### 42. Simula due dadi e ritorna la somma."
   ]
  },
  {
   "cell_type": "code",
   "id": "fb2a68cb",
   "metadata": {
    "ExecuteTime": {
     "end_time": "2025-06-26T13:38:55.864269Z",
     "start_time": "2025-06-26T13:38:55.861736Z"
    }
   },
   "source": [
    "import random\n",
    "\n",
    "def lancia_e_somma_dadi():\n",
    "    \"\"\"\n",
    "    Simula il lancio di due dadi a 6 facce, stampa i risultati\n",
    "    e restituisce la loro somma.\n",
    "    \"\"\"\n",
    "    dado1 = random.randint(1, 6)\n",
    "    dado2 = random.randint(1, 6)\n",
    "\n",
    "    somma_risultato = dado1 + dado2  # Calcolo diretto, nome di variabile sicuro\n",
    "\n",
    "    print(f\"Lancio: Dado 1 = {dado1}, Dado 2 = {dado2}\")\n",
    "\n",
    "    return somma_risultato\n",
    "\n",
    "# --- Esempio di utilizzo ---\n",
    "print(\"--- Primo lancio ---\")\n",
    "risultato1 = lancia_e_somma_dadi()\n",
    "print(f\"La somma del primo lancio è: {risultato1}\")\n",
    "\n",
    "print(\"\\n--- Secondo lancio ---\")\n",
    "risultato2 = lancia_e_somma_dadi()\n",
    "print(f\"La somma del secondo lancio è: {risultato2}\")"
   ],
   "outputs": [
    {
     "name": "stdout",
     "output_type": "stream",
     "text": [
      "--- Primo lancio ---\n",
      "Lancio: Dado 1 = 2, Dado 2 = 3\n",
      "La somma del primo lancio è: 5\n",
      "\n",
      "--- Secondo lancio ---\n",
      "Lancio: Dado 1 = 1, Dado 2 = 3\n",
      "La somma del secondo lancio è: 4\n"
     ]
    }
   ],
   "execution_count": 3
  },
  {
   "cell_type": "markdown",
   "id": "521d5c5e",
   "metadata": {},
   "source": [
    "### 43. Inverti chiavi e valori di un dizionario."
   ]
  },
  {
   "cell_type": "code",
   "id": "4c5b5b84",
   "metadata": {
    "ExecuteTime": {
     "end_time": "2025-06-26T13:42:20.018855Z",
     "start_time": "2025-06-26T13:42:20.014123Z"
    }
   },
   "source": [
    "def invert(dct:dict) -> dict:\n",
    "    inverted_dict ={}\n",
    "    for key,value in dct.items():\n",
    "        inverted_dict[value] = key\n",
    "    return inverted_dict\n",
    "\n",
    "# --- Test con vari casi ---\n",
    "\n",
    "# Caso 1: Dizionario standard con valori unici\n",
    "test_dict1 = {'a': 1, 'b': 2, 'c': 3}\n",
    "print(f\"Originale: {test_dict1}\")\n",
    "print(f\"Invertito: {invert(test_dict1)}\")\n",
    "# Atteso: {1: 'a', 2: 'b', 3: 'c'}\n",
    "\n",
    "# Caso 2: Dizionario con valori duplicati\n",
    "# 'd' e 'e' hanno entrambi il valore 4. Solo l'ultima associazione ('e': 4)\n",
    "# verrà mantenuta per la chiave 4 nel dizionario invertito.\n",
    "test_dict2 = {'x': 10, 'y': 20, 'z': 10, 'w': 30}\n",
    "print(f\"\\nOriginale: {test_dict2}\")\n",
    "print(f\"Invertito: {invert(test_dict2)}\")\n",
    "# Atteso: {10: 'z', 20: 'y', 30: 'w'} (o {10: 'x', 20: 'y', 30: 'w'} a seconda dell'ordine di iterazione, ma 'z' è l'ultima)\n",
    "\n",
    "# Caso 3: Dizionario vuoto\n",
    "test_dict3 = {}\n",
    "print(f\"\\nOriginale: {test_dict3}\")\n",
    "print(f\"Invertito: {invert(test_dict3)}\")\n",
    "# Atteso: {}\n",
    "\n",
    "# Caso 4: Dizionario con valori non hashable (es. liste)\n",
    "# Questo test causerà un TypeError se non gestito.\n",
    "test_dict4 = {'item1': [1, 2], 'item2': [3, 4]}\n",
    "print(f\"\\nOriginale: {test_dict4}\")\n",
    "try:\n",
    "    print(f\"Invertito: {invert(test_dict4)}\")\n",
    "except TypeError as e:\n",
    "    print(f\"Errore: {e} - Impossibile invertire un dizionario con valori non hashable (come le liste).\")\n",
    "# Atteso: Errore TypeError\n",
    "\n",
    "# Caso 5: Dizionario con tipi di dati misti\n",
    "test_dict5 = {1: 'uno', 'due': 2, (3,): 'tre'}\n",
    "print(f\"\\nOriginale: {test_dict5}\")\n",
    "print(f\"Invertito: {invert(test_dict5)}\")\n",
    "# Atteso: {'uno': 1, 2: 'due', 'tre': (3,)}"
   ],
   "outputs": [
    {
     "name": "stdout",
     "output_type": "stream",
     "text": [
      "Originale: {'a': 1, 'b': 2, 'c': 3}\n",
      "Invertito: {1: 'a', 2: 'b', 3: 'c'}\n",
      "\n",
      "Originale: {'x': 10, 'y': 20, 'z': 10, 'w': 30}\n",
      "Invertito: {10: 'z', 20: 'y', 30: 'w'}\n",
      "\n",
      "Originale: {}\n",
      "Invertito: {}\n",
      "\n",
      "Originale: {'item1': [1, 2], 'item2': [3, 4]}\n",
      "Errore: unhashable type: 'list' - Impossibile invertire un dizionario con valori non hashable (come le liste).\n",
      "\n",
      "Originale: {1: 'uno', 'due': 2, (3,): 'tre'}\n",
      "Invertito: {'uno': 1, 2: 'due', 'tre': (3,)}\n"
     ]
    }
   ],
   "execution_count": 5
  },
  {
   "cell_type": "markdown",
   "id": "439e5811",
   "metadata": {},
   "source": [
    "### 44. Restituisci la sottolista con somma massima."
   ]
  },
  {
   "cell_type": "code",
   "id": "e0bcd1d9",
   "metadata": {
    "ExecuteTime": {
     "end_time": "2025-06-26T13:38:53.847872311Z",
     "start_time": "2025-06-26T12:39:25.172569Z"
    }
   },
   "source": [
    "# La tua soluzione qui...\n"
   ],
   "outputs": [],
   "execution_count": 44
  },
  {
   "cell_type": "markdown",
   "id": "73c47463",
   "metadata": {},
   "source": [
    "### 45. Controlla se due stringhe sono anagrammi."
   ]
  },
  {
   "cell_type": "code",
   "id": "9a324b33",
   "metadata": {
    "ExecuteTime": {
     "end_time": "2025-06-26T13:38:53.848337099Z",
     "start_time": "2025-06-26T12:39:25.220940Z"
    }
   },
   "source": [
    "# La tua soluzione qui...\n"
   ],
   "outputs": [],
   "execution_count": 45
  },
  {
   "cell_type": "markdown",
   "id": "69f1002e",
   "metadata": {},
   "source": [
    "### 46. Ordina i valori unici di un array 1D."
   ]
  },
  {
   "cell_type": "code",
   "id": "d7ac27dc",
   "metadata": {
    "ExecuteTime": {
     "end_time": "2025-06-26T13:38:53.848522367Z",
     "start_time": "2025-06-26T12:39:25.285845Z"
    }
   },
   "source": [
    "# La tua soluzione qui...\n"
   ],
   "outputs": [],
   "execution_count": 46
  },
  {
   "cell_type": "markdown",
   "id": "e2d4b289",
   "metadata": {},
   "source": [
    "### 47. Restituisci la diagonale principale di una matrice NxN."
   ]
  },
  {
   "cell_type": "code",
   "id": "4478d09a",
   "metadata": {
    "ExecuteTime": {
     "end_time": "2025-06-26T13:38:53.848665789Z",
     "start_time": "2025-06-26T12:39:25.334947Z"
    }
   },
   "source": [
    "# La tua soluzione qui...\n"
   ],
   "outputs": [],
   "execution_count": 47
  },
  {
   "cell_type": "markdown",
   "id": "97d327ad",
   "metadata": {},
   "source": [
    "### 48. Restituisci il secondo valore massimo in un array."
   ]
  },
  {
   "cell_type": "code",
   "id": "875b870f",
   "metadata": {
    "ExecuteTime": {
     "end_time": "2025-06-26T13:38:53.848792092Z",
     "start_time": "2025-06-26T12:39:25.386521Z"
    }
   },
   "source": [
    "# La tua soluzione qui...\n"
   ],
   "outputs": [],
   "execution_count": 48
  },
  {
   "cell_type": "markdown",
   "id": "0f826fea",
   "metadata": {},
   "source": [
    "### 49. Differenze tra elementi consecutivi in un array."
   ]
  },
  {
   "cell_type": "code",
   "id": "db4a3530",
   "metadata": {
    "ExecuteTime": {
     "end_time": "2025-06-26T13:38:53.848930926Z",
     "start_time": "2025-06-26T12:39:25.441563Z"
    }
   },
   "source": [
    "# La tua soluzione qui...\n"
   ],
   "outputs": [],
   "execution_count": 49
  },
  {
   "cell_type": "markdown",
   "id": "c8839461",
   "metadata": {},
   "source": [
    "### 50. Costruisci un array NxN con 1 sulla diagonale e 0 altrove."
   ]
  },
  {
   "cell_type": "code",
   "id": "dda7c09e",
   "metadata": {
    "ExecuteTime": {
     "end_time": "2025-06-26T13:38:53.849053001Z",
     "start_time": "2025-06-26T12:39:25.491131Z"
    }
   },
   "source": [
    "# La tua soluzione qui...\n"
   ],
   "outputs": [],
   "execution_count": 50
  }
 ],
 "metadata": {},
 "nbformat": 4,
 "nbformat_minor": 5
}
