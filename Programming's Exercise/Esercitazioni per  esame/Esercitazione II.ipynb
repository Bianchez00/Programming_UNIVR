{
 "cells": [
  {
   "cell_type": "markdown",
   "id": "aa1288a7",
   "metadata": {},
   "source": [
    "# 📘 Esercitazione II\n",
    "---"
   ]
  },
  {
   "cell_type": "markdown",
   "id": "5bb10773",
   "metadata": {},
   "source": [
    "## 🧮 Fondamenti"
   ]
  },
  {
   "cell_type": "code",
   "id": "a6ff712a",
   "metadata": {
    "ExecuteTime": {
     "end_time": "2025-06-26T14:22:03.862299Z",
     "start_time": "2025-06-26T14:22:03.859326Z"
    }
   },
   "source": [
    "from random import random\n",
    "\n",
    "import numpy as np\n",
    "from pandas.conftest import ordered\n",
    "from scipy.cluster.hierarchy import average\n",
    "\n",
    "\n",
    "# Esercizio 1\n",
    "# Scrivi una funzione che, data una lista di stringhe, restituisce un dizionario in cui le chiavi sono le lunghezze delle stringhe e i valori sono il numero di volte in cui quella lunghezza compare nella lista.\n",
    "\n",
    "def fun(lst:list) -> dict:\n",
    "    dictionary = {}\n",
    "\n",
    "    for word in lst:\n",
    "        key = len(word)\n",
    "        dictionary[key] = dictionary.get(key, 0) + 1\n",
    "\n",
    "    return dictionary\n",
    "l1 = ['ciao','ciao','come','va']\n",
    "fun(l1)"
   ],
   "outputs": [
    {
     "data": {
      "text/plain": [
       "{4: 3, 2: 1}"
      ]
     },
     "execution_count": 7,
     "metadata": {},
     "output_type": "execute_result"
    }
   ],
   "execution_count": 7
  },
  {
   "cell_type": "code",
   "id": "9dbc8d3d",
   "metadata": {
    "ExecuteTime": {
     "end_time": "2025-06-26T14:27:27.074862Z",
     "start_time": "2025-06-26T14:27:27.072725Z"
    }
   },
   "source": [
    "# Esercizio 2\n",
    "# Scrivi una funzione che prende in input una lista di numeri interi e restituisce una nuova lista contenente solo i numeri che iniziano e finiscono con la stessa cifra (es. 121, 33).\n",
    "def fun(lst:list[int]) -> list:\n",
    "    l = []\n",
    "    for num in lst:\n",
    "        n = str(num)\n",
    "        if n[0] == n[-1]:\n",
    "           l.append(num)\n",
    "    return l"
   ],
   "outputs": [],
   "execution_count": 9
  },
  {
   "cell_type": "code",
   "id": "2c8683da",
   "metadata": {
    "ExecuteTime": {
     "end_time": "2025-06-26T14:30:17.088930Z",
     "start_time": "2025-06-26T14:30:17.086843Z"
    }
   },
   "source": [
    "# Esercizio 3\n",
    "# Scrivi una funzione che prende una lista di stringhe e restituisce una nuova lista ordinata alfabeticamente senza duplicati. Assumi input corretto.\n",
    "def ordinata(lst:list[str]) -> list[str]:\n",
    "    lst = set(lst)\n",
    "    lst = sorted(lst,reverse= False)\n",
    "    return lst\n"
   ],
   "outputs": [],
   "execution_count": 10
  },
  {
   "cell_type": "code",
   "id": "2768d488",
   "metadata": {
    "ExecuteTime": {
     "end_time": "2025-06-26T14:40:58.451741Z",
     "start_time": "2025-06-26T14:40:58.448864Z"
    }
   },
   "source": [
    "# Esercizio 4\n",
    "# Scrivi una funzione che riceve una stringa e restituisce un dizionario con il numero di vocali e consonanti presenti.\n",
    "\n",
    "def fun(word:str) -> dict:\n",
    "    dictionary = {\n",
    "        'vocali':0,\n",
    "        'consonanti':0\n",
    "    }\n",
    "    for c in word:\n",
    "        c = c.upper()\n",
    "        if c.isalpha():\n",
    "            if c in 'AEIOU':\n",
    "                dictionary['vocali'] += 1\n",
    "            else:\n",
    "                dictionary['consonanti'] += 1\n",
    "    return dictionary"
   ],
   "outputs": [],
   "execution_count": 13
  },
  {
   "cell_type": "code",
   "id": "ba25e53a",
   "metadata": {
    "ExecuteTime": {
     "end_time": "2025-06-26T14:47:11.431176Z",
     "start_time": "2025-06-26T14:47:11.429046Z"
    }
   },
   "source": [
    "# Esercizio 5\n",
    "# Scrivi una funzione che prende in input una lista e restituisce `True` se l’elemento centrale è maggiore di entrambi i suoi vicini, altrimenti `False`. Assumi che la lista abbia almeno 3 elementi.\n",
    "\n",
    "def fun(lst:list) -> bool:\n",
    "    if len(lst) < 3:\n",
    "        print('ERRORE \\n Lista minore di 3')\n",
    "        return False\n",
    "    elif len(lst) %2 == 0:\n",
    "        print('Non esiste un elemento centrale -> lista di lunghezza pari')\n",
    "        return False\n",
    "    else:\n",
    "        if lst[len(lst)//2-1]<lst[len(lst)//2] and lst[len(lst)//2] > lst[len(lst)//2+1]:\n",
    "            return True\n",
    "        else:\n",
    "            return False\n"
   ],
   "outputs": [],
   "execution_count": 14
  },
  {
   "cell_type": "code",
   "id": "58de830c",
   "metadata": {
    "ExecuteTime": {
     "end_time": "2025-06-26T15:00:57.689383Z",
     "start_time": "2025-06-26T15:00:57.685791Z"
    }
   },
   "source": [
    "# Esercizio 6\n",
    "# Scrivi una funzione che prende una stringa e restituisce il numero di parole palindrome contenute al suo interno. Le parole sono separate da spazio.\n",
    "def conta_palindrome(s:str) -> int:\n",
    "    if not s:\n",
    "        return 0\n",
    "    parole = s.split()\n",
    "    conteggio = 0\n",
    "    for parola in parole:\n",
    "        parola_pulita = ''.join(c for c in parola if c.isalnum()).lower()\n",
    "\n",
    "        if len(parola_pulita) > 0 and parola_pulita == parola_pulita[::-1]:\n",
    "            conteggio += 1\n",
    "\n",
    "    return conteggio\n",
    "\n",
    "# --- Set di Test Case ---\n",
    "test_cases = [\n",
    "    # 1. Caso base con più palindrome\n",
    "    (\"i topi non avevano nipoti\", 2),\n",
    "\n",
    "    # 2. Gestione delle maiuscole\n",
    "    (\"Anna e Otto sono andati al lago\", 2),\n",
    "\n",
    "    # 3. Gestione della punteggiatura\n",
    "    (\"Wow, che bel kayak!\", 2),\n",
    "\n",
    "    # 4. Nessuna palindroma\n",
    "    (\"questa frase è normale\", 0),\n",
    "\n",
    "    # 5. Stringa vuota\n",
    "    (\"\", 0),\n",
    "\n",
    "    # 6. Stringa con solo spazi\n",
    "    (\"   \", 0),\n",
    "\n",
    "    # 7. Palindrome singola\n",
    "    (\"radar\", 1),\n",
    "\n",
    "    # 8. Parole di una sola lettera (tecnicamente palindrome)\n",
    "    (\"a i o u\", 4),\n",
    "\n",
    "    # 9. Misto complesso\n",
    "    (\"Ehi, Anna! Ingegni, imi, ima, imi, ingegni? Mai, madam, mai!\", 7)\n",
    "]\n",
    "\n",
    "# --- Esecuzione dei Test ---\n",
    "for i, (test_input, expected_output) in enumerate(test_cases):\n",
    "    result = conta_palindrome(test_input)\n",
    "    if result == expected_output:\n",
    "        print(f\"✅ Test {i+1} PASSATO: Input='{test_input}', Output={result}\")\n",
    "    else:\n",
    "        print(f\"❌ Test {i+1} FALLITO: Input='{test_input}', Output={result}, Atteso={expected_output}\")"
   ],
   "outputs": [
    {
     "name": "stdout",
     "output_type": "stream",
     "text": [
      "✅ Test 1 PASSATO: Input='i topi non avevano nipoti', Output=2\n",
      "❌ Test 2 FALLITO: Input='Anna e Otto sono andati al lago', Output=3, Atteso=2\n",
      "✅ Test 3 PASSATO: Input='Wow, che bel kayak!', Output=2\n",
      "❌ Test 4 FALLITO: Input='questa frase è normale', Output=1, Atteso=0\n",
      "✅ Test 5 PASSATO: Input='', Output=0\n",
      "✅ Test 6 PASSATO: Input='   ', Output=0\n",
      "✅ Test 7 PASSATO: Input='radar', Output=1\n",
      "✅ Test 8 PASSATO: Input='a i o u', Output=4\n",
      "❌ Test 9 FALLITO: Input='Ehi, Anna! Ingegni, imi, ima, imi, ingegni? Mai, madam, mai!', Output=6, Atteso=7\n"
     ]
    }
   ],
   "execution_count": 18
  },
  {
   "cell_type": "code",
   "id": "2dd56e39",
   "metadata": {
    "ExecuteTime": {
     "end_time": "2025-06-26T15:14:10.970345Z",
     "start_time": "2025-06-26T15:14:10.967553Z"
    }
   },
   "source": [
    "# Esercizio 7\n",
    "# Scrivi una funzione che prende due interi a e b, e restituisce una lista con tutti i numeri primi compresi tra a e b (inclusi).\n",
    "\n",
    "def creazione_lista(a:int,b:int) -> list[int]:\n",
    "    flag = True\n",
    "    lst =[]\n",
    "    massimo = max(2,a)\n",
    "    for i in range(massimo,b+1):\n",
    "        for j in range(2,i):\n",
    "            if i % j == 0:\n",
    "                flag = False\n",
    "                break\n",
    "        if flag:\n",
    "          lst.append(i)\n",
    "        flag = True\n",
    "    return lst\n",
    "#Esempio di utilizzo\n",
    "print(f\"Numeri primi tra 2 e 10: {creazione_lista(2, 10)}\")   # Output: [2, 3, 5, 7]\n",
    "print(f\"Numeri primi tra 10 e 30: {creazione_lista(10, 30)}\") # Output: [11, 13, 17, 19, 23, 29]"
   ],
   "outputs": [
    {
     "name": "stdout",
     "output_type": "stream",
     "text": [
      "Numeri primi tra 2 e 10: [2, 3, 5, 7]\n",
      "Numeri primi tra 10 e 30: [11, 13, 17, 19, 23, 29]\n"
     ]
    }
   ],
   "execution_count": 24
  },
  {
   "cell_type": "code",
   "id": "1e68e623",
   "metadata": {
    "ExecuteTime": {
     "end_time": "2025-06-26T15:24:52.619923Z",
     "start_time": "2025-06-26T15:24:52.617069Z"
    }
   },
   "source": [
    "# Esercizio 8\n",
    "# Scrivi una funzione che simula il lancio di un dado a n facce per m volte, e restituisce un dizionario con le frequenze di ogni faccia. Usa `random.randint`.\n",
    "def count_lanciDadi(m:int, n:int) -> dict:\n",
    "    dictionary ={}\n",
    "    for i in range(1,m+1):\n",
    "        numero_uscito = random.randint(1,n)\n",
    "        dictionary[numero_uscito] = dictionary.get(numero_uscito, 0) + 1\n",
    "    return dictionary\n"
   ],
   "outputs": [],
   "execution_count": 27
  },
  {
   "cell_type": "code",
   "id": "6facf6d4",
   "metadata": {
    "ExecuteTime": {
     "end_time": "2025-06-26T15:32:05.637794Z",
     "start_time": "2025-06-26T15:32:05.635174Z"
    }
   },
   "source": [
    "# Esercizio 9\n",
    "# Scrivi una funzione che, data una lista di tuple (nome, voto), restituisce una lista con i nomi degli studenti che hanno preso un voto maggiore della media.\n",
    "def well_done(grades:tuple) -> list[str]:\n",
    "    total = 0\n",
    "    good =[]\n",
    "\n",
    "    for grade in grades:\n",
    "        total += grade[1]\n",
    "    try:\n",
    "        avg = total/len(grades)\n",
    "    except ZeroDivisionError:\n",
    "        print('TUPlA VUOTA')\n",
    "        return []\n",
    "    for person in grades:\n",
    "        if person[1] > avg:\n",
    "            good.append(person[0])\n",
    "\n",
    "    return good\n",
    "# Esempio di utilizzo:\n",
    "lista_studenti = [(\"Alice\", 85), (\"Bob\", 70), (\"Charlie\", 90), (\"David\", 60)]\n",
    "# Media: (85 + 70 + 90 + 60) / 4 = 305 / 4 = 76.25\n",
    "# Studenti con voto > 76.25: Alice (85), Charlie (90)\n",
    "print(well_done(lista_studenti)) # Output atteso: ['Alice', 'Charlie']\n",
    "\n",
    "lista_vuota = []\n",
    "print(well_done(lista_vuota)) # Output atteso: []"
   ],
   "outputs": [
    {
     "name": "stdout",
     "output_type": "stream",
     "text": [
      "['Alice', 'Charlie']\n",
      "TUPlA VUOTA!!!\n",
      "[]\n"
     ]
    }
   ],
   "execution_count": 30
  },
  {
   "cell_type": "code",
   "id": "479b0817",
   "metadata": {
    "ExecuteTime": {
     "end_time": "2025-06-26T15:33:18.682518Z",
     "start_time": "2025-06-26T15:33:18.680714Z"
    }
   },
   "source": [
    "# Esercizio 10\n",
    "# Scrivi una funzione che implementa una versione semplificata del gioco 'Pari o Dispari' tra utente e computer. Il computer sceglie un numero random da 1 a 10.\n",
    "\n",
    "def numero() -> int:\n",
    "    return random.randint(1,10)"
   ],
   "outputs": [],
   "execution_count": 31
  },
  {
   "cell_type": "markdown",
   "id": "a3c96995",
   "metadata": {},
   "source": [
    "## 🧠 Lambda & List Comprehension"
   ]
  },
  {
   "cell_type": "code",
   "id": "29f178b5",
   "metadata": {
    "ExecuteTime": {
     "end_time": "2025-06-26T15:35:46.913125Z",
     "start_time": "2025-06-26T15:35:46.911005Z"
    }
   },
   "source": [
    "# Esercizio 1\n",
    "# Scrivi una lambda che restituisce il quadrato di un numero solo se è pari, altrimenti il numero stesso. Mostra un esempio di utilizzo.\n",
    "\n",
    "number = lambda x: x**2 if x%2 == 0 else x\n",
    "\n",
    "print(\"Value 2: \", number(2))\n",
    "print('Value 3: ', number(3))"
   ],
   "outputs": [
    {
     "name": "stdout",
     "output_type": "stream",
     "text": [
      "Value 2:  4\n",
      "Value 3:  3\n"
     ]
    }
   ],
   "execution_count": 33
  },
  {
   "cell_type": "code",
   "id": "bea502bf",
   "metadata": {
    "ExecuteTime": {
     "end_time": "2025-06-26T15:37:26.863100Z",
     "start_time": "2025-06-26T15:37:26.860530Z"
    }
   },
   "source": [
    "# Esercizio 2\n",
    "# Scrivi una one-liner (usando list comprehension) che restituisce tutti i numeri da 0 a 100 divisibili per 5 e 3.\n",
    "result = [i for i in range(0,100) if i % 5 == 0 and i % 3 == 0 ]\n",
    "print('RESULT: ',result)"
   ],
   "outputs": [
    {
     "name": "stdout",
     "output_type": "stream",
     "text": [
      "RESULT:  [0, 15, 30, 45, 60, 75, 90]\n"
     ]
    }
   ],
   "execution_count": 35
  },
  {
   "cell_type": "code",
   "id": "208b5c95",
   "metadata": {
    "ExecuteTime": {
     "end_time": "2025-06-26T15:42:16.933063Z",
     "start_time": "2025-06-26T15:42:16.930737Z"
    }
   },
   "source": [
    "# Esercizio 3\n",
    "# Usa una list comprehension per creare una lista di dizionari con chiave “n” e valore “n^2” per ogni n da 1 a 10.\n",
    "result = [{n: n**2} for n in range(1,11)]\n",
    "\n",
    "print('RESULT: ', result)"
   ],
   "outputs": [
    {
     "name": "stdout",
     "output_type": "stream",
     "text": [
      "RESULT:  [{1: 1}, {2: 4}, {3: 9}, {4: 16}, {5: 25}, {6: 36}, {7: 49}, {8: 64}, {9: 81}, {10: 100}]\n"
     ]
    }
   ],
   "execution_count": 39
  },
  {
   "cell_type": "code",
   "id": "72a5f90d",
   "metadata": {
    "ExecuteTime": {
     "end_time": "2025-06-26T15:53:01.017144Z",
     "start_time": "2025-06-26T15:53:01.014434Z"
    }
   },
   "source": [
    "# Esercizio 4\n",
    "# Usa `map` e `lambda` per calcolare la lunghezza di ogni parola in una lista di stringhe.\n",
    "# Input di esempio\n",
    "parole = [\"ciao\", \"mondo\", \"Python\", \"è\", \"fantastico\"]\n",
    "\n",
    "lun = list(map(lambda parola: len(parola),parole))\n",
    "\n",
    "print('RESULT:',lun)"
   ],
   "outputs": [
    {
     "name": "stdout",
     "output_type": "stream",
     "text": [
      "RESULT: [4, 5, 6, 1, 10]\n"
     ]
    }
   ],
   "execution_count": 47
  },
  {
   "cell_type": "code",
   "id": "76a6922e",
   "metadata": {
    "ExecuteTime": {
     "end_time": "2025-06-26T15:56:40.258011Z",
     "start_time": "2025-06-26T15:56:40.255506Z"
    }
   },
   "source": [
    "# Esercizio 5\n",
    "# Scrivi una lambda che prende un numero `n` e restituisce una matrice identità NxN usando NumPy.\n",
    "\n",
    "import numpy as np\n",
    "\n",
    "\n",
    "matrice = lambda n: np.eye((n))\n",
    "print(matrice(5))\n"
   ],
   "outputs": [
    {
     "name": "stdout",
     "output_type": "stream",
     "text": [
      "[[1. 0. 0. 0. 0.]\n",
      " [0. 1. 0. 0. 0.]\n",
      " [0. 0. 1. 0. 0.]\n",
      " [0. 0. 0. 1. 0.]\n",
      " [0. 0. 0. 0. 1.]]\n"
     ]
    }
   ],
   "execution_count": 51
  },
  {
   "cell_type": "markdown",
   "id": "fdc520de",
   "metadata": {},
   "source": [
    "## 🧱 OOP"
   ]
  },
  {
   "cell_type": "code",
   "execution_count": null,
   "id": "64df101f",
   "metadata": {},
   "outputs": [],
   "source": [
    "# Esercizio 1\n",
    "# Crea una classe `Person` con attributi nome e età. Aggiungi un metodo `is_adult()` che ritorna `True` se età ≥ 18.\n",
    "\n"
   ]
  },
  {
   "cell_type": "code",
   "execution_count": null,
   "id": "a1f8bdc3",
   "metadata": {},
   "outputs": [],
   "source": [
    "# Esercizio 2\n",
    "# Crea una classe `BankAccount` con attributi saldo e nome_titolare. Aggiungi metodi `deposit()` e `withdraw()`.\n",
    "\n"
   ]
  },
  {
   "cell_type": "code",
   "execution_count": null,
   "id": "99ea9e43",
   "metadata": {},
   "outputs": [],
   "source": [
    "# Esercizio 3\n",
    "# Crea una classe `Student` che eredita da `Person` e aggiunge l’attributo `grades` (lista). Aggiungi un metodo per calcolare la media.\n",
    "\n"
   ]
  },
  {
   "cell_type": "code",
   "execution_count": null,
   "id": "97f64f61",
   "metadata": {},
   "outputs": [],
   "source": [
    "# Esercizio 4\n",
    "# Crea due classi `Rectangle` e `Square`. Square deve ereditare da Rectangle. Implementa l’uguaglianza basata sull’area.\n",
    "\n"
   ]
  },
  {
   "cell_type": "code",
   "execution_count": null,
   "id": "74845396",
   "metadata": {},
   "outputs": [],
   "source": [
    "# Esercizio 5\n",
    "# Crea una classe `Timer` che memorizza un timestamp iniziale e ha un metodo `.elapsed()` che ritorna il tempo trascorso.\n",
    "\n"
   ]
  },
  {
   "cell_type": "markdown",
   "id": "99363ade",
   "metadata": {},
   "source": [
    "## 📊 NumPy"
   ]
  },
  {
   "cell_type": "code",
   "execution_count": null,
   "id": "13e1efc1",
   "metadata": {},
   "outputs": [],
   "source": [
    "# Esercizio 1\n",
    "# Scrivi una funzione che crea un array 5x5 riempito con valori casuali tra -100 e 100. Restituisci solo i valori positivi pari.\n",
    "\n"
   ]
  },
  {
   "cell_type": "code",
   "execution_count": null,
   "id": "e53cfca2",
   "metadata": {},
   "outputs": [],
   "source": [
    "# Esercizio 2\n",
    "# Crea una funzione che prende due array NumPy e restituisce un array contenente gli elementi comuni.\n",
    "\n"
   ]
  },
  {
   "cell_type": "code",
   "execution_count": null,
   "id": "8b8ba010",
   "metadata": {},
   "outputs": [],
   "source": [
    "# Esercizio 3\n",
    "# Scrivi una funzione che crea una matrice diagonale NxN con valori crescenti sulla diagonale.\n",
    "\n"
   ]
  },
  {
   "cell_type": "code",
   "execution_count": null,
   "id": "9859c3f1",
   "metadata": {},
   "outputs": [],
   "source": [
    "# Esercizio 4\n",
    "# Scrivi una funzione che crea un array 1D con 20 elementi random, poi restituisce la media degli elementi negativi.\n",
    "\n"
   ]
  },
  {
   "cell_type": "code",
   "execution_count": null,
   "id": "e24c9d79",
   "metadata": {},
   "outputs": [],
   "source": [
    "# Esercizio 5\n",
    "# Scrivi una funzione che, dato un array 2D, restituisce un array con la somma di ogni colonna.\n",
    "\n"
   ]
  },
  {
   "cell_type": "code",
   "execution_count": null,
   "id": "5302ab39",
   "metadata": {},
   "outputs": [],
   "source": [
    "# Esercizio 6\n",
    "# Scrivi una funzione che prende due array 1D e restituisce il loro prodotto scalare.\n",
    "\n"
   ]
  },
  {
   "cell_type": "code",
   "execution_count": null,
   "id": "cf022eff",
   "metadata": {},
   "outputs": [],
   "source": [
    "# Esercizio 7\n",
    "# Scrivi una funzione che normalizza (z-score) un array NumPy di numeri reali.\n",
    "\n"
   ]
  },
  {
   "cell_type": "code",
   "execution_count": null,
   "id": "54681ad2",
   "metadata": {},
   "outputs": [],
   "source": [
    "# Esercizio 8\n",
    "# Scrivi una funzione che prende una matrice 3x3 e restituisce il determinante.\n",
    "\n"
   ]
  },
  {
   "cell_type": "code",
   "execution_count": null,
   "id": "a7b904f4",
   "metadata": {},
   "outputs": [],
   "source": [
    "# Esercizio 9\n",
    "# Crea una funzione che prende una matrice 4x4 e restituisce la somma degli elementi sopra la diagonale.\n",
    "\n"
   ]
  },
  {
   "cell_type": "code",
   "execution_count": null,
   "id": "7eadb380",
   "metadata": {},
   "outputs": [],
   "source": [
    "# Esercizio 10\n",
    "# Scrivi una funzione che simula 1000 lanci di moneta (0 o 1) e ritorna la probabilità empirica di ottenere testa.\n",
    "\n"
   ]
  },
  {
   "cell_type": "markdown",
   "id": "7ea0dcd1",
   "metadata": {},
   "source": [
    "## 🐼 Pandas & Analisi Dati"
   ]
  },
  {
   "cell_type": "code",
   "execution_count": null,
   "id": "32e4bf9d",
   "metadata": {},
   "outputs": [],
   "source": [
    "# Esercizio 1\n",
    "# Scrivi una funzione che carica un file CSV e restituisce il numero di righe e colonne.\n",
    "\n"
   ]
  },
  {
   "cell_type": "code",
   "execution_count": null,
   "id": "1aadfea1",
   "metadata": {},
   "outputs": [],
   "source": [
    "# Esercizio 2\n",
    "# Scrivi una funzione che riceve un DataFrame Pandas e restituisce le colonne con valori mancanti.\n",
    "\n"
   ]
  },
  {
   "cell_type": "code",
   "execution_count": null,
   "id": "1b4f6821",
   "metadata": {},
   "outputs": [],
   "source": [
    "# Esercizio 3\n",
    "# Scrivi una funzione che riceve un DataFrame e restituisce il valore massimo di una colonna specificata.\n",
    "\n"
   ]
  },
  {
   "cell_type": "code",
   "execution_count": null,
   "id": "edf34b2a",
   "metadata": {},
   "outputs": [],
   "source": [
    "# Esercizio 4\n",
    "# Scrivi una funzione che filtra le righe di un DataFrame dove la colonna “età” è ≥ 30.\n",
    "\n"
   ]
  },
  {
   "cell_type": "code",
   "execution_count": null,
   "id": "4cc0d100",
   "metadata": {},
   "outputs": [],
   "source": [
    "# Esercizio 5\n",
    "# Crea un DataFrame fittizio con le colonne `nome`, `sesso`, `stipendio`. Calcola la media stipendi per sesso.\n",
    "\n"
   ]
  },
  {
   "cell_type": "code",
   "execution_count": null,
   "id": "121ef0f8",
   "metadata": {},
   "outputs": [],
   "source": [
    "# Esercizio 6\n",
    "# Scrivi una funzione che raggruppa per colonna `categoria` e restituisce la somma di `vendite`.\n",
    "\n"
   ]
  },
  {
   "cell_type": "code",
   "execution_count": null,
   "id": "e6ab2dab",
   "metadata": {},
   "outputs": [],
   "source": [
    "# Esercizio 7\n",
    "# Scrivi una funzione che crea un grafico a torta con la distribuzione dei generi di un dataset di film.\n",
    "\n"
   ]
  },
  {
   "cell_type": "code",
   "execution_count": null,
   "id": "bd256f8c",
   "metadata": {},
   "outputs": [],
   "source": [
    "# Esercizio 8\n",
    "# Scrivi una funzione che confronta due colonne di un DataFrame e restituisce le righe dove i valori sono uguali.\n",
    "\n"
   ]
  },
  {
   "cell_type": "code",
   "execution_count": null,
   "id": "4850f8ef",
   "metadata": {},
   "outputs": [],
   "source": [
    "# Esercizio 9\n",
    "# Scrivi una funzione che salva un DataFrame in formato `.csv` e `.json`.\n",
    "\n"
   ]
  },
  {
   "cell_type": "code",
   "execution_count": null,
   "id": "63396506",
   "metadata": {},
   "outputs": [],
   "source": [
    "# Esercizio 10\n",
    "# Scrivi una funzione che restituisce i primi 10 record con `sort_values` su una colonna a scelta.\n",
    "\n"
   ]
  },
  {
   "cell_type": "markdown",
   "id": "d161feb1",
   "metadata": {},
   "source": [
    "## 🧪 Varie"
   ]
  },
  {
   "cell_type": "code",
   "execution_count": null,
   "id": "ff9ec6d4",
   "metadata": {},
   "outputs": [],
   "source": [
    "# Esercizio 1\n",
    "# Scrivi una funzione che legge un file di testo e restituisce il numero di parole contenute.\n",
    "\n"
   ]
  },
  {
   "cell_type": "code",
   "execution_count": null,
   "id": "83de049c",
   "metadata": {},
   "outputs": [],
   "source": [
    "# Esercizio 2\n",
    "# Scrivi una funzione che apre un file `.json`, legge il contenuto e ritorna il valore associato a una chiave specifica.\n",
    "\n"
   ]
  },
  {
   "cell_type": "code",
   "execution_count": null,
   "id": "946d66eb",
   "metadata": {},
   "outputs": [],
   "source": [
    "# Esercizio 3\n",
    "# Scrivi una funzione che implementa una semplice calcolatrice con gestione delle eccezioni (somma, div, moltiplica).\n",
    "\n"
   ]
  },
  {
   "cell_type": "code",
   "execution_count": null,
   "id": "c94688e6",
   "metadata": {},
   "outputs": [],
   "source": [
    "# Esercizio 4\n",
    "# Scrivi una funzione che simula una coda FIFO usando una lista Python.\n",
    "\n"
   ]
  },
  {
   "cell_type": "code",
   "execution_count": null,
   "id": "b2f587a6",
   "metadata": {},
   "outputs": [],
   "source": [
    "# Esercizio 5\n",
    "# Scrivi una funzione che verifica se un numero è perfetto (la somma dei suoi divisori è uguale al numero stesso).\n",
    "\n"
   ]
  },
  {
   "cell_type": "code",
   "execution_count": null,
   "id": "b5aba8cb",
   "metadata": {},
   "outputs": [],
   "source": [
    "# Esercizio 6\n",
    "# Scrivi una funzione che genera una password casuale lunga `n` caratteri. Usa lettere, numeri e simboli.\n",
    "\n"
   ]
  },
  {
   "cell_type": "code",
   "execution_count": null,
   "id": "db2a4329",
   "metadata": {},
   "outputs": [],
   "source": [
    "# Esercizio 7\n",
    "# Scrivi una funzione che cripta un testo usando il cifrario di Cesare con shift `k`.\n",
    "\n"
   ]
  },
  {
   "cell_type": "code",
   "execution_count": null,
   "id": "68388bc0",
   "metadata": {},
   "outputs": [],
   "source": [
    "# Esercizio 8\n",
    "# Scrivi una funzione che esegue il merge di due file `.txt`, uno riga per riga.\n",
    "\n"
   ]
  },
  {
   "cell_type": "code",
   "execution_count": null,
   "id": "d0e22e6b",
   "metadata": {},
   "outputs": [],
   "source": [
    "# Esercizio 9\n",
    "# Scrivi una funzione che ritorna `True` se una parola è anagramma di un’altra.\n",
    "\n"
   ]
  },
  {
   "cell_type": "code",
   "execution_count": null,
   "id": "5a0d5897",
   "metadata": {},
   "outputs": [],
   "source": [
    "# Esercizio 10\n",
    "# Scrivi una funzione che prende in input una stringa e ritorna il carattere più frequente.\n",
    "\n"
   ]
  }
 ],
 "metadata": {},
 "nbformat": 4,
 "nbformat_minor": 5
}
