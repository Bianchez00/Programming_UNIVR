


from enum import unique

# Importiamo le librerie necessarie
import matplotlib.pyplot as plt
import numpy as np
from IPython.core.pylabtools import figsize
from matplotlib.pyplot import scatter, subplot, subplots

# Prepariamo i dati
x = np.linspace(0, 10, 100)  # 100 punti da 0 a 10
y = np.sin(x)                # Calcoliamo il seno di ogni punto

# Creiamo la figura e gli assi
fig, ax = plt.subplots() #scorciatoia che fa due cose contemporaneamente: 1.Crea una Figura 2.Crea un set di Assi

# Disegniamo i dati sugli assi
ax.plot(x, y)

# Mostriamo il grafico
plt.show()





# Dati casuali per l'esempio
rng = np.random.RandomState(0)
x = rng.randn(100)
y = rng.randn(100)
colors = rng.rand(100)
sizes = 1000 * rng.rand(100)

fig, ax = plt.subplots()

# Creiamo lo scatter plot
im = ax.scatter(x, y, c=colors, s=sizes, alpha=0.5, cmap='viridis')

# Aggiungiamo una colorbar per interpretare i colori
fig.colorbar(im, label='Valore Colore')

plt.show()





# Dati di esempio (distribuzione normale)
data = np.random.randn(1000)

fig, ax = plt.subplots()

# Creiamo l'istogramma
ax.hist(data, bins=30, density=True, alpha=0.7,
        histtype='stepfilled', color='steelblue', edgecolor='none')

ax.set_title("Istogramma di Dati Casuali")
ax.set_xlabel("Valore")
ax.set_ylabel("Densità di probabilità")

plt.show()





# Dati di esempio con un po' di "rumore"
x = np.linspace(0, 10, 50)
dy = 0.8  # L'incertezza su ogni punto y
y = np.sin(x) + dy * np.random.randn(50)

fig, ax = plt.subplots()

ax.errorbar(x, y, yerr=dy, fmt='o', color='black',
            ecolor='lightgray', elinewidth=3, capsize=0)

ax.set_title("Dati con Barre di Errore")
plt.show()





# Creiamo una griglia 2x2 con assi condivisi
# figsize imposta la dimensione complessiva della figura in pollici
fig, ax = plt.subplots(2, 2, sharex=True, sharey=True, figsize=(10, 8))

# Dati di esempio
x = np.linspace(0, 2 * np.pi, 100)

# Disegniamo su ogni subplot
ax[0, 0].plot(x, np.sin(x))
ax[0, 0].set_title("sin(x)")

ax[0, 1].plot(x, np.cos(x), color='red')
ax[0, 1].set_title("cos(x)")

ax[1, 0].plot(x, np.tan(x), color='green')
ax[1, 0].set_title("tan(x)")
ax[1, 0].set_ylim(-5, 5) # Limitiamo l'asse y per la tangente

ax[1, 1].plot(x, x, color='purple')
ax[1, 1].set_title("y = x")

# Titolo generale per tutta la figura
fig.suptitle("Griglia di Grafici Esempio")

plt.show()
# Esempio di annotazione
fig, ax = plt.subplots(figsize=(10, 6))

x = np.linspace(0, 10, 100)
y = np.sin(x)
ax.plot(x, y)

# Evidenziamo un massimo locale
ax.annotate('Massimo Locale',
            xy=(np.pi/2, 1),             # Il punto da indicare
            xytext=(np.pi/2, 1.5),       # Dove posizionare il testo
            arrowprops=dict(facecolor='black', shrink=0.05),
            ha='center') # Allineamento orizzontale del testo

ax.set_title("Grafico con Annotazione")
plt.show()





x = np.arange(-10,11)
y = x**2

fig,ax = plt.subplots()

ax.plot(x,y)
ax.set_title('Il mio primo grafico')
ax.set_xlabel('Valore di x')
ax.set_ylabel('Valore di y')
plt.show()





import pandas as pd
import numpy as np

# Creiamo dati realistici con un po' di casualità
rng = np.random.RandomState(42)
ore_studio = 10 * rng.rand(50)
punteggio = 50 + 4 * ore_studio + rng.randn(50) * 5 # Punteggio base 50, +4 punti/ora, con rumore
df = pd.DataFrame({'OreDiStudio': ore_studio, 'PunteggioEsame': punteggio})
print(df)


# Punto 1
fig,ax = plt.subplots()
ax.scatter(x,y)
plt.xlabel('Ore Di Studio')
plt.ylabel('Punteggio Esame')
plt.show()


# Punto 2
fig,ax = plt.subplots()
ax.hist(df['PunteggioEsame'],bins=20, density=True, alpha=1,
        histtype='stepfilled', color='red', edgecolor='none')
plt.show()


#Punto 3
# Calcolo medie e deviazioni standard
media_ore_poco = df[df['OreDiStudio']<5]['OreDiStudio'].mean()
media_voto_poco = df[df['OreDiStudio']<5]['PunteggioEsame'].mean()
std_voto_poco = df[df['OreDiStudio']<5]['PunteggioEsame'].std()

media_ore_molto = df[df['OreDiStudio']>5]['OreDiStudio'].mean()
media_voto_molto = df[df['OreDiStudio']>5]['PunteggioEsame'].mean()
std_voto_molto = df[df['OreDiStudio']>5]['PunteggioEsame'].std()

print('Ore di studio <5')
print("Voto Medio:", media_voto_poco)
print("Dev Standard:", std_voto_poco)
print('Ore di studio >5')
print("Voto Medio:", media_voto_molto)
print("Dev Standard:", std_voto_molto)

# Grafico con barre di errore
fig, ax = plt.subplots()
ax.errorbar([media_ore_poco, media_ore_molto],
            [media_voto_poco, media_voto_molto],
            yerr=[std_voto_poco, std_voto_molto],
            fmt='*', color='navy', ecolor='lightgray', elinewidth=3, capsize=5)
ax.set_xlabel('Ore di Studio (media)')
ax.set_ylabel('Punteggio Esame (media)')
plt.show()






fig,ax = plt.subplots(1,2,figsize=(15,6))

ax[0].scatter(df['OreDiStudio'],df['PunteggioEsame'])
ax[0].set_xlabel('OreDiStudio')
ax[0].set_ylabel('PunteggioEsame')
ax[0].set_title ('Scatter')

ax[1].hist(df['PunteggioEsame'],bins=20, density=True, alpha=1,
        histtype='stepfilled', color='red', edgecolor='none')
ax[1].set_xlabel('PunteggioEsame')
ax[1].set_ylabel('Densità')
ax[1].set_title('Istogramma Punteggi')

voto_più_alto = df['PunteggioEsame'].idxmax()

x_migliore = df.loc[voto_più_alto, 'OreDiStudio']
y_migliore = df.loc[voto_più_alto, 'PunteggioEsame']

ax[0].annotate('Migliore!',
            xy=(x_migliore, y_migliore),             # Il punto da indicare
            xytext=(x_migliore+1, y_migliore+5),     # Dove posizionare il testo
            arrowprops=dict(facecolor='black', shrink=0.05),
            ha='center')

plt.show()









import pandas as pd
import numpy as np
import matplotlib.pyplot as plt

# Creiamo un set di dati finanziari simulati
rng = np.random.RandomState(42)
giorni = pd.to_datetime(pd.date_range('2024-01-01', periods=252, freq='B')) # 'B' = Business day
prezzo_iniziale = 100
trend = np.linspace(0, 20, 252)
rumore_prezzo = rng.randn(252) * 2
prezzo = prezzo_iniziale + trend + rumore_prezzo

volume = rng.randint(500, 2000, 252) * (1 + np.sin(np.linspace(0, 4*np.pi, 252)))

dati_finanziari = pd.DataFrame({
    'Data': giorni,
    'Prezzo': prezzo,
    'Volume': volume
}).set_index('Data')

# Calcoliamo una media mobile semplice
dati_finanziari['MediaMobile50'] = dati_finanziari['Prezzo'].rolling(window=50).mean()

dati_finanziari.head()





fig,ax = plt.subplots()

ax.plot(dati_finanziari.index ,dati_finanziari['Prezzo'])
plt.show()





fig,ax = plt.subplots()

ax.plot(dati_finanziari.index ,dati_finanziari['Prezzo'])
ax.set_ylabel('Prezzo')
ax.set_xlabel('Data')
ax.set_title('Andamento del prezzo nel tempo')

plt.show()





dati_finanziari['MediaMobile50'] = dati_finanziari['Prezzo'].rolling(window = 50).mean()
print(dati_finanziari['MediaMobile50'])


fig,ax = plt.subplots(figsize = (12,6))
ax.plot(dati_finanziari.index, dati_finanziari['Prezzo'],label = 'Prezzo',color = 'blue')
ax.plot(dati_finanziari.index, dati_finanziari['MediaMobile50'], label = 'Media mobile 50 gg',color = 'red',linestyle ='--')

ax.set_xlabel('Data')
ax.set_ylabel('Prezzo')
ax.set_title('Andamento Prezzo con Media Mobile')
ax.legend()
plt.show()





fig,ax = plt.subplots()
ax.plot(dati_finanziari.index, dati_finanziari['Volume'])
plt.show()





fig,ax = plt.subplots(2,1,sharex = True,figsize=(12,10))
ax[0].plot(dati_finanziari.index, dati_finanziari['Prezzo'],label = 'Prezzo',color = 'blue')
ax[0].plot(dati_finanziari.index, dati_finanziari['MediaMobile50'], label = 'Media mobile 50 gg',color = 'red',linestyle ='--')

ax[0].set_xlabel('Data')
ax[0].set_ylabel('Prezzo')
ax[0].set_title('Andamento Prezzo con Media Mobile')

ax[1].bar(dati_finanziari.index, dati_finanziari['Volume'])
ax[1].set_xlabel('Data')
ax[1].set_ylabel('Volume')
ax[1].set_title('Andamento Volume')
plt.show()





fig,ax = plt.subplots()

ax.scatter(dati_finanziari['Prezzo'], dati_finanziari['Volume'])
ax.set_title('Relazione Prezzo Volume')
ax.set_xlabel('Prezzo')
ax.set_ylabel('Volume')
plt.show()







fig,ax = plt.subplots()
colors = np.arange(len(dati_finanziari))
sizes = dati_finanziari['Volume']/50

scatter = ax.scatter(dati_finanziari['Prezzo'], dati_finanziari['Volume'],c=colors, s=sizes, alpha=0.5, cmap='viridis')
ax.set_title('Relazione Prezzo Volume')
ax.set_xlabel('Prezzo')
ax.set_ylabel('Volume')

# Aggiungiamo una colorbar per mostrare la progressione temporale
plt.colorbar(scatter, label='Tempo (più recente → più chiaro)')
plt.show()






rendimenti = dati_finanziari['Prezzo'].pct_change()
print('--- Rendimenti Calcolati ---')
print(rendimenti)

fig,ax = plt.subplots()

ax.hist(rendimenti,
        bins = 50 ,
        density = True,
        alpha = 0.7)

plt.show()






fig,ax = plt.subplots()

ax.plot(dati_finanziari.index ,dati_finanziari['Prezzo'])
ax.set_ylabel('Data')
ax.set_xlabel('Prezzo')
ax.set_title('Andamento del prezzo nel tempo')

# Troviamo indici e valori di max e min
idx_max = dati_finanziari['Prezzo'].idxmax()
prezzo_max = dati_finanziari['Prezzo'].max()

idx_min = dati_finanziari['Prezzo'].idxmin()
prezzo_min = dati_finanziari['Prezzo'].min()

ax.annotate('Prezzo Massimo',
            xy= (idx_max, prezzo_max),             # Il punto da indicare
            xytext=(idx_max, prezzo_max+5),       # Dove posizionare il testo
            arrowprops=dict(facecolor='black', shrink=0.05),
            ha='center') # Allineamento orizzontale del testo

# Annotazione MINIMO corretta
ax.annotate('Prezzo Minimo', # Testo corretto
            xy=(idx_min, prezzo_min),
            xytext=(idx_min, prezzo_min - 10), # Posizione del testo relativa al minimo
            arrowprops=dict(facecolor='green', shrink=0.05),
            ha='center')





fig,ax = plt.subplots()

ax.plot(dati_finanziari.index ,dati_finanziari['Prezzo'])
ax.set_ylabel('Data')
ax.set_xlabel('Prezzo')
ax.set_title('Andamento del prezzo nel tempo')
ax.axvspan(pd.Timestamp('2024-06-01'),pd.Timestamp('2024-06-30'), alpha = 0.3,  color = 'yellow')
plt.show()





import pandas as pd
import numpy as np
import matplotlib.pyplot as plt

# Creiamo un set di dati demografici simulati
rng = np.random.RandomState(42)
n_persone = 200
eta = rng.randint(18, 71, n_persone)
citta = rng.choice(['Milano', 'Roma', 'Napoli', 'Torino'], n_persone, p=[0.4, 0.3, 0.2, 0.1])
reddito = 15000 + (eta * 300) + rng.randn(n_persone) * 5000 + (citta == 'Milano') * 10000

dati_demografici = pd.DataFrame({
    'Eta': eta,
    'Citta': citta,
    'Reddito': reddito.astype(int)
})

dati_demografici.head()





fig,ax = plt.subplots()

ax.hist(dati_demografici['Eta'],
        bins = 50,
        density = True,
        alpha = 0.7)
plt.show()





fig,ax = plt.subplots()
cnt = dati_demografici['Citta'].value_counts()
ax.bar(
    cnt.index,
    cnt.values
)

ax.set_title('Numero di Persone per Città')
ax.set_xlabel('Città')
ax.set_ylabel('Numero di Persone')

plt.show()





fig,ax = plt.subplots()

ax.scatter(
    dati_demografici['Eta'],
    dati_demografici['Reddito']
)
ax.set_title('Relazione Eta vs Reddito')
ax.set_xlabel('Eta')
ax.set_ylabel('Reddito')
plt.show()





fig,ax = plt.subplots()
for citta in dati_demografici['Citta'].unique():
    mask = dati_demografici['Citta'] == citta
    ax.scatter(
        dati_demografici[mask]['Eta'],
        dati_demografici[mask]['Reddito'],
        label = citta,
        alpha = 0.6
    )
ax.set_title('Relazione Eta vs Reddito')
ax.set_xlabel('Eta')
ax.set_ylabel('Reddito')
ax.legend()
plt.show()





fig,ax = plt.subplots()
"""
TENTATIVO 1
dati_per_citta = [dati_demografici[dati_demografici['Citta'] == citta]['Reddito']
                 for citta in dati_demografici['Citta'].unique()]

ax.boxplot(dati_per_citta,labels = dati_demografici['Citta'].unique())

"""
"""
TENTATIVO 2
"""
dati_demografici.boxplot(column = 'Reddito', by = 'Citta', ax=ax)
ax.set_title('Distribuzione del Reddito per Città')
ax.set_ylabel('Reddito')
plt.show()





# Creo una nuova colonna 'FasciaEta'
def assegna_fascia(eta):
    if 18 <= eta <= 30:
        return '18-30'
    elif 31 <= eta <= 40:
        return '31-40'
    elif 41 <= eta <= 50:
        return '41-50'
    elif 51 <= eta <= 60:
        return '51-60'
    else:
        return '61-70'

dati_demografici['FasciaEta'] = dati_demografici['Eta'].apply(assegna_fascia)
reddito_medio = dati_demografici.groupby('FasciaEta')['Reddito'].mean()
figure, ax = plt.subplots()

ax.bar(
    reddito_medio.index,
    reddito_medio.values
)
ax.set_title('Reddito Medio per Fascia di Età')
ax.set_xlabel('Fascia di Età')
ax.set_ylabel('Reddito Medio')
plt.show()






reddito_medio = dati_demografici.groupby('FasciaEta')['Reddito'].mean()
reddito_std = dati_demografici.groupby('FasciaEta')['Reddito'].std()

fig,ax = plt.subplots()
ax.errorbar(reddito_medio.index,
            reddito_medio.values,
            yerr = reddito_std.values,
            fmt='+', color='navy', ecolor='skyblue', elinewidth=3, capsize=5)
ax.set_title('Reddito Medio per Fascia di Età')
ax.set_xlabel('Fascia di Età')
ax.set_ylabel('Reddito Medio')
plt.show()





fig,ax = plt.subplots()
ax.pie(
    cnt.values,
    labels = cnt.index,
    autopct = '%1.1f%%',
    startangle=90,    # angolo di partenza (opzionale)

)
plt.show()





fig,ax = plt.subplots(2,2,figsize=(12,10))
citta_uniche = dati_demografici['Citta'].unique()
for i in range(2):
    for j in range(2):
        if i*2 +j < len(citta_uniche):
            citta = citta_uniche[i*2+j]
            dati_citta = dati_demografici[dati_demografici['Citta'] == citta]['Reddito']
            ax[i,j].hist(dati_citta,bins =20,alpha =0.7)
            ax[i,j].set_title(f'Distribuzione Reddito - {citta}')
            ax[i,j].set_xlabel('Reddito')
            ax[i,j].set_ylabel('Frequenza')
plt.show()





fig, ax = plt.subplots()
dati_per_citta = [dati_demografici[dati_demografici['Citta'] == citta]['Reddito']
                  for citta in dati_demografici['Citta'].unique()]

ax.violinplot(
    dati_per_citta
)
ax.set_xticks(range(1, len(dati_demografici['Citta'].unique()) + 1)) # Posiziona correttamente i segni sotto ogni violino
ax.set_xticklabels(dati_demografici['Citta'].unique()) # Etichetta ogni violino col nome della citta corrispondente
plt.show()





import pandas as pd
import numpy as np
import matplotlib.pyplot as plt

# Creiamo dati meteo simulati per un anno
rng = np.random.RandomState(42)
giorni = pd.to_datetime(pd.date_range('2024-01-01', periods=366))
temp_base = 15 - 10 * np.cos(2 * np.pi * giorni.dayofyear / 366)
temperatura = temp_base + rng.randn(366) * 2

precipitazioni = rng.gamma(1, 0.5, 366) * (1 + np.sin(2 * np.pi * giorni.dayofyear / 366) * 2)
print("Il tipo della variabile 'precipitazioni' è:", type(precipitazioni))

precipitazioni[precipitazioni < 0] = 0

dati_meteo = pd.DataFrame({
    'Data': giorni,
    'Temperatura': temperatura,
    'Precipitazioni': precipitazioni
}).set_index('Data')

dati_meteo.head()




























































